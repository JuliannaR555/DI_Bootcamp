{
  "nbformat": 4,
  "nbformat_minor": 0,
  "metadata": {
    "colab": {
      "provenance": []
    },
    "kernelspec": {
      "name": "python3",
      "display_name": "Python 3"
    },
    "language_info": {
      "name": "python"
    }
  },
  "cells": [
    {
      "cell_type": "markdown",
      "source": [
        "# Daily Challenge: W8_D4"
      ],
      "metadata": {
        "id": "dCqriXWk3l5O"
      }
    },
    {
      "cell_type": "markdown",
      "source": [
        "## Decoding Developer Pain: Mapping LLM Challenges from an Empirical Study"
      ],
      "metadata": {
        "id": "8nsTEuxB3l2s"
      }
    },
    {
      "cell_type": "markdown",
      "source": [
        "## What You'll Learn\n",
        "- How to interpret and evaluate empirical research methodologies  \n",
        "- How to analyze the structure and function of a taxonomy in a scientific paper  \n",
        "- How to extract key insights from large-scale developer studies  \n",
        "- How to draw actionable implications for LLM development based on evidence  \n",
        "- How to relate structural paper analysis to real-world software engineering challenges  \n",
        "\n",
        "---\n",
        "\n",
        "## What You Will Create\n",
        "- A brief analytical essay identifying and evaluating the study's methodology and findings  \n",
        "- A reconstructed taxonomy diagram of LLM developer challenges  \n",
        "- A table of at least 3 cross-cutting themes between the paper and your experience or expectations as a developer  \n",
        "\n",
        "---\n",
        "\n",
        "## Task\n",
        "**Paper:** *An Empirical Study on Challenges for LLM Application Developers*\n",
        "\n",
        "1. **Read** Sections 3 and 6 of the paper (*Methodology & Challenge Taxonomy Construction*).  \n",
        "2. **Recreate** the taxonomy of challenges (at least 6 inner categories + major subcategories) in a visual diagram or bullet hierarchy.  \n",
        "3. **Answer in a markdown file**:  \n",
        "   - What are the key design decisions made in their empirical methodology?  \n",
        "   - How did the authors ensure validity and reliability of their coding procedure?  \n",
        "   - What kinds of challenges dominate LLM development, according to the data?  \n",
        "   - What implications do these challenges have for the design of LLM platforms or APIs?  \n",
        "4. **Propose** 2 original ideas for tools or community resources that could help solve common developer issues highlighted in the taxonomy."
      ],
      "metadata": {
        "id": "Ditec9v93lzj"
      }
    },
    {
      "cell_type": "markdown",
      "source": [
        "## Setup & Imports"
      ],
      "metadata": {
        "id": "U437oxyt3lxB"
      }
    },
    {
      "cell_type": "code",
      "execution_count": 1,
      "metadata": {
        "id": "kmnRkl1h3avD"
      },
      "outputs": [],
      "source": [
        "# Title: Setup & Imports\n",
        "# Purpose: Install and import libraries used across the notebook.\n",
        "# Notes: Graphviz is used for the taxonomy diagram; pandas for tables; IPython for rich markdown rendering.\n",
        "\n",
        "!pip -q install graphviz\n",
        "\n",
        "from graphviz import Digraph\n",
        "import pandas as pd\n",
        "from IPython.display import Markdown, display"
      ]
    },
    {
      "cell_type": "markdown",
      "source": [
        "## Source Facts (Paper Anchors)"
      ],
      "metadata": {
        "id": "4YuL_DL-3y9-"
      }
    },
    {
      "cell_type": "code",
      "source": [
        "# Title: Source Facts (Paper Anchors)\n",
        "# Purpose: Store key facts extracted from Sections 3 and 6 for traceability inside the notebook text.\n",
        "# Notes: These strings will be injected into markdown cells so your grader sees the references you used.\n",
        "\n",
        "facts = {\n",
        "    \"six_inner_and_26_leaf\": \"La taxonomie comprend 6 catégories internes et 26 sous-catégories.\",\n",
        "    \"method_steps\": \"Méthodologie en 4 étapes: crawl, popularité (RQ1), difficulté (RQ2), construction taxonomie (RQ3/RQ4).\",\n",
        "    \"sample_and_confidence\": \"Échantillon de 2 364 posts (99% de confiance, ±2,5%).\",\n",
        "    \"kappa\": \"Procédure d’open coding avec 2 annotateurs + arbitre; Cohen’s κ = 0,812 (accord quasi complet).\",\n",
        "    \"category_shares\": {\n",
        "        \"General\": \"26.3%\",\n",
        "        \"API\": \"22.9%\",\n",
        "        \"GenUnderstanding\": \"19.9%\",\n",
        "        \"NonFunctional\": \"15.4%\",\n",
        "        \"GPTBuilder\": \"12.1%\",\n",
        "        \"Prompt\": \"3.4%\"\n",
        "    }\n",
        "}"
      ],
      "metadata": {
        "id": "P0Aqs7y_3zOJ"
      },
      "execution_count": 2,
      "outputs": []
    },
    {
      "cell_type": "markdown",
      "source": [
        "## Build Taxonomy Data"
      ],
      "metadata": {
        "id": "EDwE9bJY35jX"
      }
    },
    {
      "cell_type": "code",
      "source": [
        "# Title: Build Taxonomy Data\n",
        "# Purpose: Define the taxonomy (6 inner categories + representative leaf nodes with proportions).\n",
        "# Notes: Values mirror the paper so the diagram aligns with the study.\n",
        "\n",
        "taxonomy = {\n",
        "    \"A. General Questions (26.3%)\": [\n",
        "        \"A.1 Integration with Custom Applications (17.0%)\",\n",
        "        \"A.2 Conceptual Questions (6.4%)\",\n",
        "        \"A.3 Feature Suggestions (2.9%)\",\n",
        "    ],\n",
        "    \"B. API (22.9%)\": [\n",
        "        \"B.1 Faults in API (8.7%)\",\n",
        "        \"B.2 Error Messages in API Calling (7.5%)\",\n",
        "        \"B.3 API Usage (6.7%)\",\n",
        "    ],\n",
        "    \"C. Generation & Understanding (19.9%)\": [\n",
        "        \"C.1 Text Processing (6.8%)\",\n",
        "        \"C.2 Fine-tuning GPT Models (6.7%)\",\n",
        "        \"C.3 Image Processing (2.5%)\",\n",
        "        \"C.4 Embedding Generation (1.8%)\",\n",
        "        \"C.5 Audio Processing (1.4%)\",\n",
        "        \"C.6 Vision Capability (0.7%)\",\n",
        "    ],\n",
        "    \"D. Non-functional Properties (15.4%)\": [\n",
        "        \"D.1 Cost (3.6%)\",\n",
        "        \"D.2 Rate Limitation (3.2%)\",\n",
        "        \"D.3 Regulation (3.0%)\",\n",
        "        \"D.4 Promotion (2.1%)\",\n",
        "        \"D.5 Token Limitation (2.0%)\",\n",
        "        \"D.6 Security & Privacy (1.5%)\",\n",
        "    ],\n",
        "    \"E. GPT Builder (12.1%)\": [\n",
        "        \"E.1 Development (11.2%)\",\n",
        "        \"E.2 Testing (0.9%)\",\n",
        "    ],\n",
        "    \"F. Prompt (3.4%)\": [\n",
        "        \"F.1 Prompt Design (2.3%)\",\n",
        "        \"F.2 Retrieval-Augmented Generation (0.4%)\",\n",
        "        \"F.3 Chain of Thought (0.2%)\",\n",
        "        \"F.4 In-context Learning (0.2%)\",\n",
        "        \"F.5 Zero-shot Prompting (0.2%)\",\n",
        "        \"F.6 Tree of Thoughts (0.1%)\",\n",
        "    ],\n",
        "}"
      ],
      "metadata": {
        "id": "yXAm_lkO36R5"
      },
      "execution_count": 3,
      "outputs": []
    },
    {
      "cell_type": "markdown",
      "source": [
        "## Render Taxonomy Diagram (Graphviz)"
      ],
      "metadata": {
        "id": "dMefqiEM4C_Z"
      }
    },
    {
      "cell_type": "code",
      "source": [
        "# Title: Render Taxonomy Diagram (Graphviz)\n",
        "# Purpose: Create a clean, printable hierarchical diagram of the taxonomy.\n",
        "# Notes: The root is “Challenges for LLM Developers (100%)”.\n",
        "\n",
        "dot = Digraph(comment=\"LLM Developer Challenges Taxonomy\", graph_attr={\"rankdir\": \"TB\"})\n",
        "dot.node(\"root\", \"Challenges for LLM Developers (100%)\")\n",
        "\n",
        "for inner, leaves in taxonomy.items():\n",
        "    inner_id = inner.split()[0]\n",
        "    dot.node(inner_id, inner)\n",
        "    dot.edge(\"root\", inner_id)\n",
        "    for leaf in leaves:\n",
        "        leaf_id = leaf.split()[0]\n",
        "        dot.node(leaf_id, leaf, shape=\"box\")\n",
        "        dot.edge(inner_id, leaf_id)\n",
        "\n",
        "# Render and display the taxonomy diagram as SVG so it is embedded in the notebook output\n",
        "from IPython.display import SVG\n",
        "\n",
        "SVG(dot.pipe(format=\"svg\"))"
      ],
      "metadata": {
        "colab": {
          "base_uri": "https://localhost:8080/",
          "height": 292
        },
        "id": "oDNukLz_4DLt",
        "outputId": "e898e926-0efa-4699-cae2-8db15e00a442"
      },
      "execution_count": 18,
      "outputs": [
        {
          "output_type": "execute_result",
          "data": {
            "text/plain": [
              "<IPython.core.display.SVG object>"
            ],
            "image/svg+xml": "<svg xmlns=\"http://www.w3.org/2000/svg\" xmlns:xlink=\"http://www.w3.org/1999/xlink\" width=\"5180pt\" height=\"188pt\" viewBox=\"0.00 0.00 5180.00 188.00\">\n<g id=\"graph0\" class=\"graph\" transform=\"scale(1 1) rotate(0) translate(4 184)\">\n<title>%3</title>\n<polygon fill=\"white\" stroke=\"transparent\" points=\"-4,4 -4,-184 5176,-184 5176,4 -4,4\"/>\n<!-- root -->\n<g id=\"node1\" class=\"node\">\n<title>root</title>\n<ellipse fill=\"none\" stroke=\"black\" cx=\"2512.5\" cy=\"-162\" rx=\"155.17\" ry=\"18\"/>\n<text text-anchor=\"middle\" x=\"2512.5\" y=\"-158.3\" font-family=\"Times,serif\" font-size=\"14.00\">Challenges for LLM Developers (100%)</text>\n</g>\n<!-- A. -->\n<g id=\"node2\" class=\"node\">\n<title>A.</title>\n<ellipse fill=\"none\" stroke=\"black\" cx=\"522.5\" cy=\"-90\" rx=\"118.88\" ry=\"18\"/>\n<text text-anchor=\"middle\" x=\"522.5\" y=\"-86.3\" font-family=\"Times,serif\" font-size=\"14.00\">A. General Questions (26.3%)</text>\n</g>\n<!-- root&#45;&gt;A. -->\n<g id=\"edge1\" class=\"edge\">\n<title>root-&gt;A.</title>\n<path fill=\"none\" stroke=\"black\" d=\"M2366.17,-155.85C1990.53,-142.64 997.2,-107.7 646.92,-95.38\"/>\n<polygon fill=\"black\" stroke=\"black\" points=\"646.86,-91.87 636.75,-95.02 646.62,-98.87 646.86,-91.87\"/>\n</g>\n<!-- B. -->\n<g id=\"node6\" class=\"node\">\n<title>B.</title>\n<ellipse fill=\"none\" stroke=\"black\" cx=\"1146.5\" cy=\"-90\" rx=\"66.89\" ry=\"18\"/>\n<text text-anchor=\"middle\" x=\"1146.5\" y=\"-86.3\" font-family=\"Times,serif\" font-size=\"14.00\">B. API (22.9%)</text>\n</g>\n<!-- root&#45;&gt;B. -->\n<g id=\"edge5\" class=\"edge\">\n<title>root-&gt;B.</title>\n<path fill=\"none\" stroke=\"black\" d=\"M2373.69,-153.89C2087.91,-139.24 1442.19,-106.15 1221.84,-94.86\"/>\n<polygon fill=\"black\" stroke=\"black\" points=\"1221.83,-91.36 1211.67,-94.34 1221.48,-98.35 1221.83,-91.36\"/>\n</g>\n<!-- C. -->\n<g id=\"node10\" class=\"node\">\n<title>C.</title>\n<ellipse fill=\"none\" stroke=\"black\" cx=\"2065.5\" cy=\"-90\" rx=\"155.97\" ry=\"18\"/>\n<text text-anchor=\"middle\" x=\"2065.5\" y=\"-86.3\" font-family=\"Times,serif\" font-size=\"14.00\">C. Generation &amp; Understanding (19.9%)</text>\n</g>\n<!-- root&#45;&gt;C. -->\n<g id=\"edge9\" class=\"edge\">\n<title>root-&gt;C.</title>\n<path fill=\"none\" stroke=\"black\" d=\"M2424.19,-147.17C2349.31,-135.44 2242.01,-118.64 2164.29,-106.47\"/>\n<polygon fill=\"black\" stroke=\"black\" points=\"2164.43,-102.95 2154.01,-104.86 2163.35,-109.87 2164.43,-102.95\"/>\n</g>\n<!-- D. -->\n<g id=\"node17\" class=\"node\">\n<title>D.</title>\n<ellipse fill=\"none\" stroke=\"black\" cx=\"2959.5\" cy=\"-90\" rx=\"145.67\" ry=\"18\"/>\n<text text-anchor=\"middle\" x=\"2959.5\" y=\"-86.3\" font-family=\"Times,serif\" font-size=\"14.00\">D. Non-functional Properties (15.4%)</text>\n</g>\n<!-- root&#45;&gt;D. -->\n<g id=\"edge16\" class=\"edge\">\n<title>root-&gt;D.</title>\n<path fill=\"none\" stroke=\"black\" d=\"M2600.81,-147.17C2676.42,-135.33 2785.09,-118.31 2862.97,-106.12\"/>\n<polygon fill=\"black\" stroke=\"black\" points=\"2863.93,-109.51 2873.27,-104.5 2862.85,-102.59 2863.93,-109.51\"/>\n</g>\n<!-- E. -->\n<g id=\"node24\" class=\"node\">\n<title>E.</title>\n<ellipse fill=\"none\" stroke=\"black\" cx=\"3689.5\" cy=\"-90\" rx=\"98.28\" ry=\"18\"/>\n<text text-anchor=\"middle\" x=\"3689.5\" y=\"-86.3\" font-family=\"Times,serif\" font-size=\"14.00\">E. GPT Builder (12.1%)</text>\n</g>\n<!-- root&#45;&gt;E. -->\n<g id=\"edge23\" class=\"edge\">\n<title>root-&gt;E.</title>\n<path fill=\"none\" stroke=\"black\" d=\"M2647.23,-152.99C2885.19,-138.84 3374.77,-109.72 3587.3,-97.08\"/>\n<polygon fill=\"black\" stroke=\"black\" points=\"3587.74,-100.56 3597.51,-96.47 3587.32,-93.57 3587.74,-100.56\"/>\n</g>\n<!-- F. -->\n<g id=\"node27\" class=\"node\">\n<title>F.</title>\n<ellipse fill=\"none\" stroke=\"black\" cx=\"4474.5\" cy=\"-90\" rx=\"73.39\" ry=\"18\"/>\n<text text-anchor=\"middle\" x=\"4474.5\" y=\"-86.3\" font-family=\"Times,serif\" font-size=\"14.00\">F. Prompt (3.4%)</text>\n</g>\n<!-- root&#45;&gt;F. -->\n<g id=\"edge26\" class=\"edge\">\n<title>root-&gt;F.</title>\n<path fill=\"none\" stroke=\"black\" d=\"M2658.37,-155.8C3045.64,-141.98 4090.68,-104.69 4392.09,-93.94\"/>\n<polygon fill=\"black\" stroke=\"black\" points=\"4392.63,-97.42 4402.5,-93.57 4392.38,-90.43 4392.63,-97.42\"/>\n</g>\n<!-- A.1 -->\n<g id=\"node3\" class=\"node\">\n<title>A.1</title>\n<polygon fill=\"none\" stroke=\"black\" points=\"295,-36 0,-36 0,0 295,0 295,-36\"/>\n<text text-anchor=\"middle\" x=\"147.5\" y=\"-14.3\" font-family=\"Times,serif\" font-size=\"14.00\">A.1 Integration with Custom Applications (17.0%)</text>\n</g>\n<!-- A.&#45;&gt;A.1 -->\n<g id=\"edge2\" class=\"edge\">\n<title>A.-&gt;A.1</title>\n<path fill=\"none\" stroke=\"black\" d=\"M450.64,-75.59C393.41,-64.9 312.6,-49.82 248.8,-37.91\"/>\n<polygon fill=\"black\" stroke=\"black\" points=\"249.19,-34.42 238.72,-36.03 247.9,-41.3 249.19,-34.42\"/>\n</g>\n<!-- A.2 -->\n<g id=\"node4\" class=\"node\">\n<title>A.2</title>\n<polygon fill=\"none\" stroke=\"black\" points=\"515.5,-36 313.5,-36 313.5,0 515.5,0 515.5,-36\"/>\n<text text-anchor=\"middle\" x=\"414.5\" y=\"-14.3\" font-family=\"Times,serif\" font-size=\"14.00\">A.2 Conceptual Questions (6.4%)</text>\n</g>\n<!-- A.&#45;&gt;A.2 -->\n<g id=\"edge3\" class=\"edge\">\n<title>A.-&gt;A.2</title>\n<path fill=\"none\" stroke=\"black\" d=\"M496.91,-72.41C482.83,-63.29 465.15,-51.83 449.78,-41.86\"/>\n<polygon fill=\"black\" stroke=\"black\" points=\"451.33,-38.7 441.04,-36.2 447.53,-44.58 451.33,-38.7\"/>\n</g>\n<!-- A.3 -->\n<g id=\"node5\" class=\"node\">\n<title>A.3</title>\n<polygon fill=\"none\" stroke=\"black\" points=\"725.5,-36 533.5,-36 533.5,0 725.5,0 725.5,-36\"/>\n<text text-anchor=\"middle\" x=\"629.5\" y=\"-14.3\" font-family=\"Times,serif\" font-size=\"14.00\">A.3 Feature Suggestions (2.9%)</text>\n</g>\n<!-- A.&#45;&gt;A.3 -->\n<g id=\"edge4\" class=\"edge\">\n<title>A.-&gt;A.3</title>\n<path fill=\"none\" stroke=\"black\" d=\"M547.86,-72.41C561.81,-63.29 579.32,-51.83 594.55,-41.86\"/>\n<polygon fill=\"black\" stroke=\"black\" points=\"596.75,-44.6 603.21,-36.2 592.92,-38.75 596.75,-44.6\"/>\n</g>\n<!-- B.1 -->\n<g id=\"node7\" class=\"node\">\n<title>B.1</title>\n<polygon fill=\"none\" stroke=\"black\" points=\"897.5,-36 743.5,-36 743.5,0 897.5,0 897.5,-36\"/>\n<text text-anchor=\"middle\" x=\"820.5\" y=\"-14.3\" font-family=\"Times,serif\" font-size=\"14.00\">B.1 Faults in API (8.7%)</text>\n</g>\n<!-- B.&#45;&gt;B.1 -->\n<g id=\"edge6\" class=\"edge\">\n<title>B.-&gt;B.1</title>\n<path fill=\"none\" stroke=\"black\" d=\"M1095.92,-78.14C1045.69,-67.35 967.69,-50.6 907.5,-37.68\"/>\n<polygon fill=\"black\" stroke=\"black\" points=\"908.13,-34.24 897.62,-35.56 906.66,-41.08 908.13,-34.24\"/>\n</g>\n<!-- B.2 -->\n<g id=\"node8\" class=\"node\">\n<title>B.2</title>\n<polygon fill=\"none\" stroke=\"black\" points=\"1165.5,-36 915.5,-36 915.5,0 1165.5,0 1165.5,-36\"/>\n<text text-anchor=\"middle\" x=\"1040.5\" y=\"-14.3\" font-family=\"Times,serif\" font-size=\"14.00\">B.2 Error Messages in API Calling (7.5%)</text>\n</g>\n<!-- B.&#45;&gt;B.2 -->\n<g id=\"edge7\" class=\"edge\">\n<title>B.-&gt;B.2</title>\n<path fill=\"none\" stroke=\"black\" d=\"M1122.45,-73.12C1108.33,-63.79 1090.25,-51.85 1074.67,-41.56\"/>\n<polygon fill=\"black\" stroke=\"black\" points=\"1076.58,-38.63 1066.31,-36.04 1072.73,-44.48 1076.58,-38.63\"/>\n</g>\n<!-- B.3 -->\n<g id=\"node9\" class=\"node\">\n<title>B.3</title>\n<polygon fill=\"none\" stroke=\"black\" points=\"1323.5,-36 1183.5,-36 1183.5,0 1323.5,0 1323.5,-36\"/>\n<text text-anchor=\"middle\" x=\"1253.5\" y=\"-14.3\" font-family=\"Times,serif\" font-size=\"14.00\">B.3 API Usage (6.7%)</text>\n</g>\n<!-- B.&#45;&gt;B.3 -->\n<g id=\"edge8\" class=\"edge\">\n<title>B.-&gt;B.3</title>\n<path fill=\"none\" stroke=\"black\" d=\"M1170.78,-73.12C1185.03,-63.79 1203.28,-51.85 1219.01,-41.56\"/>\n<polygon fill=\"black\" stroke=\"black\" points=\"1220.99,-44.45 1227.45,-36.04 1217.16,-38.59 1220.99,-44.45\"/>\n</g>\n<!-- C.1 -->\n<g id=\"node11\" class=\"node\">\n<title>C.1</title>\n<polygon fill=\"none\" stroke=\"black\" points=\"1509,-36 1342,-36 1342,0 1509,0 1509,-36\"/>\n<text text-anchor=\"middle\" x=\"1425.5\" y=\"-14.3\" font-family=\"Times,serif\" font-size=\"14.00\">C.1 Text Processing (6.8%)</text>\n</g>\n<!-- C.&#45;&gt;C.1 -->\n<g id=\"edge10\" class=\"edge\">\n<title>C.-&gt;C.1</title>\n<path fill=\"none\" stroke=\"black\" d=\"M1937.24,-79.74C1828.45,-71.16 1668.06,-56.78 1519.41,-36.21\"/>\n<polygon fill=\"black\" stroke=\"black\" points=\"1519.57,-32.7 1509.19,-34.78 1518.61,-39.63 1519.57,-32.7\"/>\n</g>\n<!-- C.2 -->\n<g id=\"node12\" class=\"node\">\n<title>C.2</title>\n<polygon fill=\"none\" stroke=\"black\" points=\"1746,-36 1527,-36 1527,0 1746,0 1746,-36\"/>\n<text text-anchor=\"middle\" x=\"1636.5\" y=\"-14.3\" font-family=\"Times,serif\" font-size=\"14.00\">C.2 Fine-tuning GPT Models (6.7%)</text>\n</g>\n<!-- C.&#45;&gt;C.2 -->\n<g id=\"edge11\" class=\"edge\">\n<title>C.-&gt;C.2</title>\n<path fill=\"none\" stroke=\"black\" d=\"M1979.46,-74.96C1913.81,-64.25 1822.76,-49.39 1750.97,-37.68\"/>\n<polygon fill=\"black\" stroke=\"black\" points=\"1751.4,-34.2 1740.97,-36.05 1750.27,-41.11 1751.4,-34.2\"/>\n</g>\n<!-- C.3 -->\n<g id=\"node13\" class=\"node\">\n<title>C.3</title>\n<polygon fill=\"none\" stroke=\"black\" points=\"1943,-36 1764,-36 1764,0 1943,0 1943,-36\"/>\n<text text-anchor=\"middle\" x=\"1853.5\" y=\"-14.3\" font-family=\"Times,serif\" font-size=\"14.00\">C.3 Image Processing (2.5%)</text>\n</g>\n<!-- C.&#45;&gt;C.3 -->\n<g id=\"edge12\" class=\"edge\">\n<title>C.-&gt;C.3</title>\n<path fill=\"none\" stroke=\"black\" d=\"M2016.6,-72.85C1986.34,-62.86 1947.25,-49.95 1914.91,-39.28\"/>\n<polygon fill=\"black\" stroke=\"black\" points=\"1915.71,-35.85 1905.11,-36.04 1913.51,-42.5 1915.71,-35.85\"/>\n</g>\n<!-- C.4 -->\n<g id=\"node14\" class=\"node\">\n<title>C.4</title>\n<polygon fill=\"none\" stroke=\"black\" points=\"2170,-36 1961,-36 1961,0 2170,0 2170,-36\"/>\n<text text-anchor=\"middle\" x=\"2065.5\" y=\"-14.3\" font-family=\"Times,serif\" font-size=\"14.00\">C.4 Embedding Generation (1.8%)</text>\n</g>\n<!-- C.&#45;&gt;C.4 -->\n<g id=\"edge13\" class=\"edge\">\n<title>C.-&gt;C.4</title>\n<path fill=\"none\" stroke=\"black\" d=\"M2065.5,-71.7C2065.5,-63.98 2065.5,-54.71 2065.5,-46.11\"/>\n<polygon fill=\"black\" stroke=\"black\" points=\"2069,-46.1 2065.5,-36.1 2062,-46.1 2069,-46.1\"/>\n</g>\n<!-- C.5 -->\n<g id=\"node15\" class=\"node\">\n<title>C.5</title>\n<polygon fill=\"none\" stroke=\"black\" points=\"2365,-36 2188,-36 2188,0 2365,0 2365,-36\"/>\n<text text-anchor=\"middle\" x=\"2276.5\" y=\"-14.3\" font-family=\"Times,serif\" font-size=\"14.00\">C.5 Audio Processing (1.4%)</text>\n</g>\n<!-- C.&#45;&gt;C.5 -->\n<g id=\"edge14\" class=\"edge\">\n<title>C.-&gt;C.5</title>\n<path fill=\"none\" stroke=\"black\" d=\"M2114.17,-72.85C2144.28,-62.86 2183.2,-49.95 2215.38,-39.28\"/>\n<polygon fill=\"black\" stroke=\"black\" points=\"2216.74,-42.51 2225.13,-36.04 2214.54,-35.87 2216.74,-42.51\"/>\n</g>\n<!-- C.6 -->\n<g id=\"node16\" class=\"node\">\n<title>C.6</title>\n<polygon fill=\"none\" stroke=\"black\" points=\"2558.5,-36 2382.5,-36 2382.5,0 2558.5,0 2558.5,-36\"/>\n<text text-anchor=\"middle\" x=\"2470.5\" y=\"-14.3\" font-family=\"Times,serif\" font-size=\"14.00\">C.6 Vision Capability (0.7%)</text>\n</g>\n<!-- C.&#45;&gt;C.6 -->\n<g id=\"edge15\" class=\"edge\">\n<title>C.-&gt;C.6</title>\n<path fill=\"none\" stroke=\"black\" d=\"M2148.85,-74.73C2208.4,-64.52 2290.73,-50.36 2372.5,-36.17\"/>\n<polygon fill=\"black\" stroke=\"black\" points=\"2373.22,-39.6 2382.47,-34.44 2372.02,-32.7 2373.22,-39.6\"/>\n</g>\n<!-- D.1 -->\n<g id=\"node18\" class=\"node\">\n<title>D.1</title>\n<polygon fill=\"none\" stroke=\"black\" points=\"2683,-36 2576,-36 2576,0 2683,0 2683,-36\"/>\n<text text-anchor=\"middle\" x=\"2629.5\" y=\"-14.3\" font-family=\"Times,serif\" font-size=\"14.00\">D.1 Cost (3.6%)</text>\n</g>\n<!-- D.&#45;&gt;D.1 -->\n<g id=\"edge17\" class=\"edge\">\n<title>D.-&gt;D.1</title>\n<path fill=\"none\" stroke=\"black\" d=\"M2880.02,-74.84C2829.03,-65.4 2761.22,-52.16 2693.24,-36.34\"/>\n<polygon fill=\"black\" stroke=\"black\" points=\"2693.74,-32.86 2683.21,-33.98 2692.14,-39.67 2693.74,-32.86\"/>\n</g>\n<!-- D.2 -->\n<g id=\"node19\" class=\"node\">\n<title>D.2</title>\n<polygon fill=\"none\" stroke=\"black\" points=\"2870,-36 2701,-36 2701,0 2870,0 2870,-36\"/>\n<text text-anchor=\"middle\" x=\"2785.5\" y=\"-14.3\" font-family=\"Times,serif\" font-size=\"14.00\">D.2 Rate Limitation (3.2%)</text>\n</g>\n<!-- D.&#45;&gt;D.2 -->\n<g id=\"edge18\" class=\"edge\">\n<title>D.-&gt;D.2</title>\n<path fill=\"none\" stroke=\"black\" d=\"M2918.7,-72.59C2894.37,-62.8 2863.24,-50.28 2837.2,-39.8\"/>\n<polygon fill=\"black\" stroke=\"black\" points=\"2838.44,-36.53 2827.86,-36.04 2835.83,-43.02 2838.44,-36.53\"/>\n</g>\n<!-- D.3 -->\n<g id=\"node20\" class=\"node\">\n<title>D.3</title>\n<polygon fill=\"none\" stroke=\"black\" points=\"3030.5,-36 2888.5,-36 2888.5,0 3030.5,0 3030.5,-36\"/>\n<text text-anchor=\"middle\" x=\"2959.5\" y=\"-14.3\" font-family=\"Times,serif\" font-size=\"14.00\">D.3 Regulation (3.0%)</text>\n</g>\n<!-- D.&#45;&gt;D.3 -->\n<g id=\"edge19\" class=\"edge\">\n<title>D.-&gt;D.3</title>\n<path fill=\"none\" stroke=\"black\" d=\"M2959.5,-71.7C2959.5,-63.98 2959.5,-54.71 2959.5,-46.11\"/>\n<polygon fill=\"black\" stroke=\"black\" points=\"2963,-46.1 2959.5,-36.1 2956,-46.1 2963,-46.1\"/>\n</g>\n<!-- D.4 -->\n<g id=\"node21\" class=\"node\">\n<title>D.4</title>\n<polygon fill=\"none\" stroke=\"black\" points=\"3188.5,-36 3048.5,-36 3048.5,0 3188.5,0 3188.5,-36\"/>\n<text text-anchor=\"middle\" x=\"3118.5\" y=\"-14.3\" font-family=\"Times,serif\" font-size=\"14.00\">D.4 Promotion (2.1%)</text>\n</g>\n<!-- D.&#45;&gt;D.4 -->\n<g id=\"edge20\" class=\"edge\">\n<title>D.-&gt;D.4</title>\n<path fill=\"none\" stroke=\"black\" d=\"M2996.78,-72.59C3018.82,-62.88 3046.96,-50.5 3070.63,-40.08\"/>\n<polygon fill=\"black\" stroke=\"black\" points=\"3072.05,-43.27 3079.79,-36.04 3069.23,-36.87 3072.05,-43.27\"/>\n</g>\n<!-- D.5 -->\n<g id=\"node22\" class=\"node\">\n<title>D.5</title>\n<polygon fill=\"none\" stroke=\"black\" points=\"3384,-36 3207,-36 3207,0 3384,0 3384,-36\"/>\n<text text-anchor=\"middle\" x=\"3295.5\" y=\"-14.3\" font-family=\"Times,serif\" font-size=\"14.00\">D.5 Token Limitation (2.0%)</text>\n</g>\n<!-- D.&#45;&gt;D.5 -->\n<g id=\"edge21\" class=\"edge\">\n<title>D.-&gt;D.5</title>\n<path fill=\"none\" stroke=\"black\" d=\"M3030.35,-74.24C3080.83,-63.72 3149.14,-49.49 3203.78,-38.11\"/>\n<polygon fill=\"black\" stroke=\"black\" points=\"3204.74,-41.48 3213.81,-36.02 3203.31,-34.63 3204.74,-41.48\"/>\n</g>\n<!-- D.6 -->\n<g id=\"node23\" class=\"node\">\n<title>D.6</title>\n<polygon fill=\"none\" stroke=\"black\" points=\"3590.5,-36 3402.5,-36 3402.5,0 3590.5,0 3590.5,-36\"/>\n<text text-anchor=\"middle\" x=\"3496.5\" y=\"-14.3\" font-family=\"Times,serif\" font-size=\"14.00\">D.6 Security &amp; Privacy (1.5%)</text>\n</g>\n<!-- D.&#45;&gt;D.6 -->\n<g id=\"edge22\" class=\"edge\">\n<title>D.-&gt;D.6</title>\n<path fill=\"none\" stroke=\"black\" d=\"M3063.77,-77.43C3151.57,-67.4 3280.41,-52.01 3392.5,-36 3392.6,-35.99 3392.7,-35.97 3392.81,-35.96\"/>\n<polygon fill=\"black\" stroke=\"black\" points=\"3393.03,-39.46 3402.42,-34.55 3392.02,-32.53 3393.03,-39.46\"/>\n</g>\n<!-- E.1 -->\n<g id=\"node25\" class=\"node\">\n<title>E.1</title>\n<polygon fill=\"none\" stroke=\"black\" points=\"3770,-36 3609,-36 3609,0 3770,0 3770,-36\"/>\n<text text-anchor=\"middle\" x=\"3689.5\" y=\"-14.3\" font-family=\"Times,serif\" font-size=\"14.00\">E.1 Development (11.2%)</text>\n</g>\n<!-- E.&#45;&gt;E.1 -->\n<g id=\"edge24\" class=\"edge\">\n<title>E.-&gt;E.1</title>\n<path fill=\"none\" stroke=\"black\" d=\"M3689.5,-71.7C3689.5,-63.98 3689.5,-54.71 3689.5,-46.11\"/>\n<polygon fill=\"black\" stroke=\"black\" points=\"3693,-46.1 3689.5,-36.1 3686,-46.1 3693,-46.1\"/>\n</g>\n<!-- E.2 -->\n<g id=\"node26\" class=\"node\">\n<title>E.2</title>\n<polygon fill=\"none\" stroke=\"black\" points=\"3908.5,-36 3788.5,-36 3788.5,0 3908.5,0 3908.5,-36\"/>\n<text text-anchor=\"middle\" x=\"3848.5\" y=\"-14.3\" font-family=\"Times,serif\" font-size=\"14.00\">E.2 Testing (0.9%)</text>\n</g>\n<!-- E.&#45;&gt;E.2 -->\n<g id=\"edge25\" class=\"edge\">\n<title>E.-&gt;E.2</title>\n<path fill=\"none\" stroke=\"black\" d=\"M3725.58,-73.12C3747.74,-63.36 3776.4,-50.74 3800.47,-40.15\"/>\n<polygon fill=\"black\" stroke=\"black\" points=\"3802.04,-43.28 3809.79,-36.04 3799.22,-36.87 3802.04,-43.28\"/>\n</g>\n<!-- F.1 -->\n<g id=\"node28\" class=\"node\">\n<title>F.1</title>\n<polygon fill=\"none\" stroke=\"black\" points=\"4088.5,-36 3926.5,-36 3926.5,0 4088.5,0 4088.5,-36\"/>\n<text text-anchor=\"middle\" x=\"4007.5\" y=\"-14.3\" font-family=\"Times,serif\" font-size=\"14.00\">F.1 Prompt Design (2.3%)</text>\n</g>\n<!-- F.&#45;&gt;F.1 -->\n<g id=\"edge27\" class=\"edge\">\n<title>F.-&gt;F.1</title>\n<path fill=\"none\" stroke=\"black\" d=\"M4410.66,-80.96C4337.69,-71.55 4214.45,-55.03 4098.98,-36.21\"/>\n<polygon fill=\"black\" stroke=\"black\" points=\"4099.34,-32.72 4088.9,-34.55 4098.21,-39.63 4099.34,-32.72\"/>\n</g>\n<!-- F.2 -->\n<g id=\"node29\" class=\"node\">\n<title>F.2</title>\n<polygon fill=\"none\" stroke=\"black\" points=\"4368,-36 4107,-36 4107,0 4368,0 4368,-36\"/>\n<text text-anchor=\"middle\" x=\"4237.5\" y=\"-14.3\" font-family=\"Times,serif\" font-size=\"14.00\">F.2 Retrieval-Augmented Generation (0.4%)</text>\n</g>\n<!-- F.&#45;&gt;F.2 -->\n<g id=\"edge28\" class=\"edge\">\n<title>F.-&gt;F.2</title>\n<path fill=\"none\" stroke=\"black\" d=\"M4429.36,-75.67C4394.13,-65.26 4344.62,-50.64 4304.72,-38.86\"/>\n<polygon fill=\"black\" stroke=\"black\" points=\"4305.65,-35.48 4295.06,-36 4303.66,-42.19 4305.65,-35.48\"/>\n</g>\n<!-- F.3 -->\n<g id=\"node30\" class=\"node\">\n<title>F.3</title>\n<polygon fill=\"none\" stroke=\"black\" points=\"4562.5,-36 4386.5,-36 4386.5,0 4562.5,0 4562.5,-36\"/>\n<text text-anchor=\"middle\" x=\"4474.5\" y=\"-14.3\" font-family=\"Times,serif\" font-size=\"14.00\">F.3 Chain of Thought (0.2%)</text>\n</g>\n<!-- F.&#45;&gt;F.3 -->\n<g id=\"edge29\" class=\"edge\">\n<title>F.-&gt;F.3</title>\n<path fill=\"none\" stroke=\"black\" d=\"M4474.5,-71.7C4474.5,-63.98 4474.5,-54.71 4474.5,-46.11\"/>\n<polygon fill=\"black\" stroke=\"black\" points=\"4478,-46.1 4474.5,-36.1 4471,-46.1 4478,-46.1\"/>\n</g>\n<!-- F.4 -->\n<g id=\"node31\" class=\"node\">\n<title>F.4</title>\n<polygon fill=\"none\" stroke=\"black\" points=\"4768.5,-36 4580.5,-36 4580.5,0 4768.5,0 4768.5,-36\"/>\n<text text-anchor=\"middle\" x=\"4674.5\" y=\"-14.3\" font-family=\"Times,serif\" font-size=\"14.00\">F.4 In-context Learning (0.2%)</text>\n</g>\n<!-- F.&#45;&gt;F.4 -->\n<g id=\"edge30\" class=\"edge\">\n<title>F.-&gt;F.4</title>\n<path fill=\"none\" stroke=\"black\" d=\"M4514.97,-74.83C4543.94,-64.7 4583.37,-50.89 4615.79,-39.55\"/>\n<polygon fill=\"black\" stroke=\"black\" points=\"4617.32,-42.72 4625.61,-36.11 4615.01,-36.11 4617.32,-42.72\"/>\n</g>\n<!-- F.5 -->\n<g id=\"node32\" class=\"node\">\n<title>F.5</title>\n<polygon fill=\"none\" stroke=\"black\" points=\"4980.5,-36 4786.5,-36 4786.5,0 4980.5,0 4980.5,-36\"/>\n<text text-anchor=\"middle\" x=\"4883.5\" y=\"-14.3\" font-family=\"Times,serif\" font-size=\"14.00\">F.5 Zero-shot Prompting (0.2%)</text>\n</g>\n<!-- F.&#45;&gt;F.5 -->\n<g id=\"edge31\" class=\"edge\">\n<title>F.-&gt;F.5</title>\n<path fill=\"none\" stroke=\"black\" d=\"M4533.1,-78.97C4596.31,-68.15 4698.31,-50.69 4776.01,-37.4\"/>\n<polygon fill=\"black\" stroke=\"black\" points=\"4777.05,-40.77 4786.32,-35.63 4775.87,-33.87 4777.05,-40.77\"/>\n</g>\n<!-- F.6 -->\n<g id=\"node33\" class=\"node\">\n<title>F.6</title>\n<polygon fill=\"none\" stroke=\"black\" points=\"5172,-36 4999,-36 4999,0 5172,0 5172,-36\"/>\n<text text-anchor=\"middle\" x=\"5085.5\" y=\"-14.3\" font-family=\"Times,serif\" font-size=\"14.00\">F.6 Tree of Thoughts (0.1%)</text>\n</g>\n<!-- F.&#45;&gt;F.6 -->\n<g id=\"edge32\" class=\"edge\">\n<title>F.-&gt;F.6</title>\n<path fill=\"none\" stroke=\"black\" d=\"M4543.42,-83.51C4640.36,-75.43 4822.71,-58.94 4988.55,-36.07\"/>\n<polygon fill=\"black\" stroke=\"black\" points=\"4989.52,-39.47 4998.94,-34.63 4988.55,-32.54 4989.52,-39.47\"/>\n</g>\n</g>\n</svg>"
          },
          "metadata": {},
          "execution_count": 18
        }
      ]
    },
    {
      "cell_type": "markdown",
      "source": [
        "## Bullet Hierarchy (Text)"
      ],
      "metadata": {
        "id": "mkzYRhRS4Jl3"
      }
    },
    {
      "cell_type": "code",
      "source": [
        "# Title: Bullet Hierarchy (Text)\n",
        "# Purpose: Provide an alternative text hierarchy (useful if diagrams are restricted in the environment).\n",
        "\n",
        "def bullet_hierarchy(tax):\n",
        "    lines = [\"- Challenges for LLM Developers (100%)\"]\n",
        "    for inner, leaves in tax.items():\n",
        "        lines.append(f\"  - {inner}\")\n",
        "        for leaf in leaves:\n",
        "            lines.append(f\"    - {leaf}\")\n",
        "    return \"\\n\".join(lines)\n",
        "\n",
        "print(bullet_hierarchy(taxonomy))"
      ],
      "metadata": {
        "colab": {
          "base_uri": "https://localhost:8080/"
        },
        "id": "pdc9_TtH4Nzk",
        "outputId": "da696dcb-5963-4111-f834-0664816ac109"
      },
      "execution_count": 5,
      "outputs": [
        {
          "output_type": "stream",
          "name": "stdout",
          "text": [
            "- Challenges for LLM Developers (100%)\n",
            "  - A. General Questions (26.3%)\n",
            "    - A.1 Integration with Custom Applications (17.0%)\n",
            "    - A.2 Conceptual Questions (6.4%)\n",
            "    - A.3 Feature Suggestions (2.9%)\n",
            "  - B. API (22.9%)\n",
            "    - B.1 Faults in API (8.7%)\n",
            "    - B.2 Error Messages in API Calling (7.5%)\n",
            "    - B.3 API Usage (6.7%)\n",
            "  - C. Generation & Understanding (19.9%)\n",
            "    - C.1 Text Processing (6.8%)\n",
            "    - C.2 Fine-tuning GPT Models (6.7%)\n",
            "    - C.3 Image Processing (2.5%)\n",
            "    - C.4 Embedding Generation (1.8%)\n",
            "    - C.5 Audio Processing (1.4%)\n",
            "    - C.6 Vision Capability (0.7%)\n",
            "  - D. Non-functional Properties (15.4%)\n",
            "    - D.1 Cost (3.6%)\n",
            "    - D.2 Rate Limitation (3.2%)\n",
            "    - D.3 Regulation (3.0%)\n",
            "    - D.4 Promotion (2.1%)\n",
            "    - D.5 Token Limitation (2.0%)\n",
            "    - D.6 Security & Privacy (1.5%)\n",
            "  - E. GPT Builder (12.1%)\n",
            "    - E.1 Development (11.2%)\n",
            "    - E.2 Testing (0.9%)\n",
            "  - F. Prompt (3.4%)\n",
            "    - F.1 Prompt Design (2.3%)\n",
            "    - F.2 Retrieval-Augmented Generation (0.4%)\n",
            "    - F.3 Chain of Thought (0.2%)\n",
            "    - F.4 In-context Learning (0.2%)\n",
            "    - F.5 Zero-shot Prompting (0.2%)\n",
            "    - F.6 Tree of Thoughts (0.1%)\n"
          ]
        }
      ]
    },
    {
      "cell_type": "markdown",
      "source": [
        "## Cross-cutting Themes Table (You ↔ Paper)"
      ],
      "metadata": {
        "id": "FhQh84Dg4UmV"
      }
    },
    {
      "cell_type": "code",
      "source": [
        "# Title: Create Cross-Cutting Themes Table\n",
        "# Purpose: Link findings from the paper to personal development experience or expectations.\n",
        "# Notes: The 'Your View' column should be edited to match your personal perspective.\n",
        "\n",
        "themes = [\n",
        "    {\n",
        "        \"Theme (Paper)\": \"API complexity & parameter tuning\",\n",
        "        \"Evidence\": \"High frequency of API usage issues and unclear parameters.\",\n",
        "        \"Your View\": \"Need better SDK defaults and parameter presets.\"\n",
        "    },\n",
        "    {\n",
        "        \"Theme (Paper)\": \"Cost, token, and rate limitations\",\n",
        "        \"Evidence\": \"Strong concern about usage costs and quotas.\",\n",
        "        \"Your View\": \"Would adopt caching and summarization to reduce token load.\"\n",
        "    },\n",
        "    {\n",
        "        \"Theme (Paper)\": \"Security & privacy\",\n",
        "        \"Evidence\": \"Risk of sensitive data leakage in API calls.\",\n",
        "        \"Your View\": \"Client-side encryption and API key vaulting are essential.\"\n",
        "    },\n",
        "]\n",
        "\n",
        "df = pd.DataFrame(themes)\n",
        "df"
      ],
      "metadata": {
        "colab": {
          "base_uri": "https://localhost:8080/",
          "height": 143
        },
        "id": "SgpSOjvA5Xnt",
        "outputId": "4d64084f-b0f0-480c-a5c4-a2ef8bb2ff44"
      },
      "execution_count": 11,
      "outputs": [
        {
          "output_type": "execute_result",
          "data": {
            "text/plain": [
              "                       Theme (Paper)  \\\n",
              "0  API complexity & parameter tuning   \n",
              "1  Cost, token, and rate limitations   \n",
              "2                 Security & privacy   \n",
              "\n",
              "                                            Evidence  \\\n",
              "0  High frequency of API usage issues and unclear...   \n",
              "1       Strong concern about usage costs and quotas.   \n",
              "2       Risk of sensitive data leakage in API calls.   \n",
              "\n",
              "                                           Your View  \n",
              "0    Need better SDK defaults and parameter presets.  \n",
              "1  Would adopt caching and summarization to reduc...  \n",
              "2  Client-side encryption and API key vaulting ar...  "
            ],
            "text/html": [
              "\n",
              "  <div id=\"df-cc6365b4-9708-47ae-b97c-b325ccf9816e\" class=\"colab-df-container\">\n",
              "    <div>\n",
              "<style scoped>\n",
              "    .dataframe tbody tr th:only-of-type {\n",
              "        vertical-align: middle;\n",
              "    }\n",
              "\n",
              "    .dataframe tbody tr th {\n",
              "        vertical-align: top;\n",
              "    }\n",
              "\n",
              "    .dataframe thead th {\n",
              "        text-align: right;\n",
              "    }\n",
              "</style>\n",
              "<table border=\"1\" class=\"dataframe\">\n",
              "  <thead>\n",
              "    <tr style=\"text-align: right;\">\n",
              "      <th></th>\n",
              "      <th>Theme (Paper)</th>\n",
              "      <th>Evidence</th>\n",
              "      <th>Your View</th>\n",
              "    </tr>\n",
              "  </thead>\n",
              "  <tbody>\n",
              "    <tr>\n",
              "      <th>0</th>\n",
              "      <td>API complexity &amp; parameter tuning</td>\n",
              "      <td>High frequency of API usage issues and unclear...</td>\n",
              "      <td>Need better SDK defaults and parameter presets.</td>\n",
              "    </tr>\n",
              "    <tr>\n",
              "      <th>1</th>\n",
              "      <td>Cost, token, and rate limitations</td>\n",
              "      <td>Strong concern about usage costs and quotas.</td>\n",
              "      <td>Would adopt caching and summarization to reduc...</td>\n",
              "    </tr>\n",
              "    <tr>\n",
              "      <th>2</th>\n",
              "      <td>Security &amp; privacy</td>\n",
              "      <td>Risk of sensitive data leakage in API calls.</td>\n",
              "      <td>Client-side encryption and API key vaulting ar...</td>\n",
              "    </tr>\n",
              "  </tbody>\n",
              "</table>\n",
              "</div>\n",
              "    <div class=\"colab-df-buttons\">\n",
              "\n",
              "  <div class=\"colab-df-container\">\n",
              "    <button class=\"colab-df-convert\" onclick=\"convertToInteractive('df-cc6365b4-9708-47ae-b97c-b325ccf9816e')\"\n",
              "            title=\"Convert this dataframe to an interactive table.\"\n",
              "            style=\"display:none;\">\n",
              "\n",
              "  <svg xmlns=\"http://www.w3.org/2000/svg\" height=\"24px\" viewBox=\"0 -960 960 960\">\n",
              "    <path d=\"M120-120v-720h720v720H120Zm60-500h600v-160H180v160Zm220 220h160v-160H400v160Zm0 220h160v-160H400v160ZM180-400h160v-160H180v160Zm440 0h160v-160H620v160ZM180-180h160v-160H180v160Zm440 0h160v-160H620v160Z\"/>\n",
              "  </svg>\n",
              "    </button>\n",
              "\n",
              "  <style>\n",
              "    .colab-df-container {\n",
              "      display:flex;\n",
              "      gap: 12px;\n",
              "    }\n",
              "\n",
              "    .colab-df-convert {\n",
              "      background-color: #E8F0FE;\n",
              "      border: none;\n",
              "      border-radius: 50%;\n",
              "      cursor: pointer;\n",
              "      display: none;\n",
              "      fill: #1967D2;\n",
              "      height: 32px;\n",
              "      padding: 0 0 0 0;\n",
              "      width: 32px;\n",
              "    }\n",
              "\n",
              "    .colab-df-convert:hover {\n",
              "      background-color: #E2EBFA;\n",
              "      box-shadow: 0px 1px 2px rgba(60, 64, 67, 0.3), 0px 1px 3px 1px rgba(60, 64, 67, 0.15);\n",
              "      fill: #174EA6;\n",
              "    }\n",
              "\n",
              "    .colab-df-buttons div {\n",
              "      margin-bottom: 4px;\n",
              "    }\n",
              "\n",
              "    [theme=dark] .colab-df-convert {\n",
              "      background-color: #3B4455;\n",
              "      fill: #D2E3FC;\n",
              "    }\n",
              "\n",
              "    [theme=dark] .colab-df-convert:hover {\n",
              "      background-color: #434B5C;\n",
              "      box-shadow: 0px 1px 3px 1px rgba(0, 0, 0, 0.15);\n",
              "      filter: drop-shadow(0px 1px 2px rgba(0, 0, 0, 0.3));\n",
              "      fill: #FFFFFF;\n",
              "    }\n",
              "  </style>\n",
              "\n",
              "    <script>\n",
              "      const buttonEl =\n",
              "        document.querySelector('#df-cc6365b4-9708-47ae-b97c-b325ccf9816e button.colab-df-convert');\n",
              "      buttonEl.style.display =\n",
              "        google.colab.kernel.accessAllowed ? 'block' : 'none';\n",
              "\n",
              "      async function convertToInteractive(key) {\n",
              "        const element = document.querySelector('#df-cc6365b4-9708-47ae-b97c-b325ccf9816e');\n",
              "        const dataTable =\n",
              "          await google.colab.kernel.invokeFunction('convertToInteractive',\n",
              "                                                    [key], {});\n",
              "        if (!dataTable) return;\n",
              "\n",
              "        const docLinkHtml = 'Like what you see? Visit the ' +\n",
              "          '<a target=\"_blank\" href=https://colab.research.google.com/notebooks/data_table.ipynb>data table notebook</a>'\n",
              "          + ' to learn more about interactive tables.';\n",
              "        element.innerHTML = '';\n",
              "        dataTable['output_type'] = 'display_data';\n",
              "        await google.colab.output.renderOutput(dataTable, element);\n",
              "        const docLink = document.createElement('div');\n",
              "        docLink.innerHTML = docLinkHtml;\n",
              "        element.appendChild(docLink);\n",
              "      }\n",
              "    </script>\n",
              "  </div>\n",
              "\n",
              "\n",
              "    <div id=\"df-621f4824-9901-4cc5-bc3c-625332ac7a54\">\n",
              "      <button class=\"colab-df-quickchart\" onclick=\"quickchart('df-621f4824-9901-4cc5-bc3c-625332ac7a54')\"\n",
              "                title=\"Suggest charts\"\n",
              "                style=\"display:none;\">\n",
              "\n",
              "<svg xmlns=\"http://www.w3.org/2000/svg\" height=\"24px\"viewBox=\"0 0 24 24\"\n",
              "     width=\"24px\">\n",
              "    <g>\n",
              "        <path d=\"M19 3H5c-1.1 0-2 .9-2 2v14c0 1.1.9 2 2 2h14c1.1 0 2-.9 2-2V5c0-1.1-.9-2-2-2zM9 17H7v-7h2v7zm4 0h-2V7h2v10zm4 0h-2v-4h2v4z\"/>\n",
              "    </g>\n",
              "</svg>\n",
              "      </button>\n",
              "\n",
              "<style>\n",
              "  .colab-df-quickchart {\n",
              "      --bg-color: #E8F0FE;\n",
              "      --fill-color: #1967D2;\n",
              "      --hover-bg-color: #E2EBFA;\n",
              "      --hover-fill-color: #174EA6;\n",
              "      --disabled-fill-color: #AAA;\n",
              "      --disabled-bg-color: #DDD;\n",
              "  }\n",
              "\n",
              "  [theme=dark] .colab-df-quickchart {\n",
              "      --bg-color: #3B4455;\n",
              "      --fill-color: #D2E3FC;\n",
              "      --hover-bg-color: #434B5C;\n",
              "      --hover-fill-color: #FFFFFF;\n",
              "      --disabled-bg-color: #3B4455;\n",
              "      --disabled-fill-color: #666;\n",
              "  }\n",
              "\n",
              "  .colab-df-quickchart {\n",
              "    background-color: var(--bg-color);\n",
              "    border: none;\n",
              "    border-radius: 50%;\n",
              "    cursor: pointer;\n",
              "    display: none;\n",
              "    fill: var(--fill-color);\n",
              "    height: 32px;\n",
              "    padding: 0;\n",
              "    width: 32px;\n",
              "  }\n",
              "\n",
              "  .colab-df-quickchart:hover {\n",
              "    background-color: var(--hover-bg-color);\n",
              "    box-shadow: 0 1px 2px rgba(60, 64, 67, 0.3), 0 1px 3px 1px rgba(60, 64, 67, 0.15);\n",
              "    fill: var(--button-hover-fill-color);\n",
              "  }\n",
              "\n",
              "  .colab-df-quickchart-complete:disabled,\n",
              "  .colab-df-quickchart-complete:disabled:hover {\n",
              "    background-color: var(--disabled-bg-color);\n",
              "    fill: var(--disabled-fill-color);\n",
              "    box-shadow: none;\n",
              "  }\n",
              "\n",
              "  .colab-df-spinner {\n",
              "    border: 2px solid var(--fill-color);\n",
              "    border-color: transparent;\n",
              "    border-bottom-color: var(--fill-color);\n",
              "    animation:\n",
              "      spin 1s steps(1) infinite;\n",
              "  }\n",
              "\n",
              "  @keyframes spin {\n",
              "    0% {\n",
              "      border-color: transparent;\n",
              "      border-bottom-color: var(--fill-color);\n",
              "      border-left-color: var(--fill-color);\n",
              "    }\n",
              "    20% {\n",
              "      border-color: transparent;\n",
              "      border-left-color: var(--fill-color);\n",
              "      border-top-color: var(--fill-color);\n",
              "    }\n",
              "    30% {\n",
              "      border-color: transparent;\n",
              "      border-left-color: var(--fill-color);\n",
              "      border-top-color: var(--fill-color);\n",
              "      border-right-color: var(--fill-color);\n",
              "    }\n",
              "    40% {\n",
              "      border-color: transparent;\n",
              "      border-right-color: var(--fill-color);\n",
              "      border-top-color: var(--fill-color);\n",
              "    }\n",
              "    60% {\n",
              "      border-color: transparent;\n",
              "      border-right-color: var(--fill-color);\n",
              "    }\n",
              "    80% {\n",
              "      border-color: transparent;\n",
              "      border-right-color: var(--fill-color);\n",
              "      border-bottom-color: var(--fill-color);\n",
              "    }\n",
              "    90% {\n",
              "      border-color: transparent;\n",
              "      border-bottom-color: var(--fill-color);\n",
              "    }\n",
              "  }\n",
              "</style>\n",
              "\n",
              "      <script>\n",
              "        async function quickchart(key) {\n",
              "          const quickchartButtonEl =\n",
              "            document.querySelector('#' + key + ' button');\n",
              "          quickchartButtonEl.disabled = true;  // To prevent multiple clicks.\n",
              "          quickchartButtonEl.classList.add('colab-df-spinner');\n",
              "          try {\n",
              "            const charts = await google.colab.kernel.invokeFunction(\n",
              "                'suggestCharts', [key], {});\n",
              "          } catch (error) {\n",
              "            console.error('Error during call to suggestCharts:', error);\n",
              "          }\n",
              "          quickchartButtonEl.classList.remove('colab-df-spinner');\n",
              "          quickchartButtonEl.classList.add('colab-df-quickchart-complete');\n",
              "        }\n",
              "        (() => {\n",
              "          let quickchartButtonEl =\n",
              "            document.querySelector('#df-621f4824-9901-4cc5-bc3c-625332ac7a54 button');\n",
              "          quickchartButtonEl.style.display =\n",
              "            google.colab.kernel.accessAllowed ? 'block' : 'none';\n",
              "        })();\n",
              "      </script>\n",
              "    </div>\n",
              "\n",
              "  <div id=\"id_018fda6b-7d4e-441e-800d-5bede067d6b8\">\n",
              "    <style>\n",
              "      .colab-df-generate {\n",
              "        background-color: #E8F0FE;\n",
              "        border: none;\n",
              "        border-radius: 50%;\n",
              "        cursor: pointer;\n",
              "        display: none;\n",
              "        fill: #1967D2;\n",
              "        height: 32px;\n",
              "        padding: 0 0 0 0;\n",
              "        width: 32px;\n",
              "      }\n",
              "\n",
              "      .colab-df-generate:hover {\n",
              "        background-color: #E2EBFA;\n",
              "        box-shadow: 0px 1px 2px rgba(60, 64, 67, 0.3), 0px 1px 3px 1px rgba(60, 64, 67, 0.15);\n",
              "        fill: #174EA6;\n",
              "      }\n",
              "\n",
              "      [theme=dark] .colab-df-generate {\n",
              "        background-color: #3B4455;\n",
              "        fill: #D2E3FC;\n",
              "      }\n",
              "\n",
              "      [theme=dark] .colab-df-generate:hover {\n",
              "        background-color: #434B5C;\n",
              "        box-shadow: 0px 1px 3px 1px rgba(0, 0, 0, 0.15);\n",
              "        filter: drop-shadow(0px 1px 2px rgba(0, 0, 0, 0.3));\n",
              "        fill: #FFFFFF;\n",
              "      }\n",
              "    </style>\n",
              "    <button class=\"colab-df-generate\" onclick=\"generateWithVariable('df')\"\n",
              "            title=\"Generate code using this dataframe.\"\n",
              "            style=\"display:none;\">\n",
              "\n",
              "  <svg xmlns=\"http://www.w3.org/2000/svg\" height=\"24px\"viewBox=\"0 0 24 24\"\n",
              "       width=\"24px\">\n",
              "    <path d=\"M7,19H8.4L18.45,9,17,7.55,7,17.6ZM5,21V16.75L18.45,3.32a2,2,0,0,1,2.83,0l1.4,1.43a1.91,1.91,0,0,1,.58,1.4,1.91,1.91,0,0,1-.58,1.4L9.25,21ZM18.45,9,17,7.55Zm-12,3A5.31,5.31,0,0,0,4.9,8.1,5.31,5.31,0,0,0,1,6.5,5.31,5.31,0,0,0,4.9,4.9,5.31,5.31,0,0,0,6.5,1,5.31,5.31,0,0,0,8.1,4.9,5.31,5.31,0,0,0,12,6.5,5.46,5.46,0,0,0,6.5,12Z\"/>\n",
              "  </svg>\n",
              "    </button>\n",
              "    <script>\n",
              "      (() => {\n",
              "      const buttonEl =\n",
              "        document.querySelector('#id_018fda6b-7d4e-441e-800d-5bede067d6b8 button.colab-df-generate');\n",
              "      buttonEl.style.display =\n",
              "        google.colab.kernel.accessAllowed ? 'block' : 'none';\n",
              "\n",
              "      buttonEl.onclick = () => {\n",
              "        google.colab.notebook.generateWithVariable('df');\n",
              "      }\n",
              "      })();\n",
              "    </script>\n",
              "  </div>\n",
              "\n",
              "    </div>\n",
              "  </div>\n"
            ],
            "application/vnd.google.colaboratory.intrinsic+json": {
              "type": "dataframe",
              "variable_name": "df",
              "summary": "{\n  \"name\": \"df\",\n  \"rows\": 3,\n  \"fields\": [\n    {\n      \"column\": \"Theme (Paper)\",\n      \"properties\": {\n        \"dtype\": \"string\",\n        \"num_unique_values\": 3,\n        \"samples\": [\n          \"API complexity & parameter tuning\",\n          \"Cost, token, and rate limitations\",\n          \"Security & privacy\"\n        ],\n        \"semantic_type\": \"\",\n        \"description\": \"\"\n      }\n    },\n    {\n      \"column\": \"Evidence\",\n      \"properties\": {\n        \"dtype\": \"string\",\n        \"num_unique_values\": 3,\n        \"samples\": [\n          \"High frequency of API usage issues and unclear parameters.\",\n          \"Strong concern about usage costs and quotas.\",\n          \"Risk of sensitive data leakage in API calls.\"\n        ],\n        \"semantic_type\": \"\",\n        \"description\": \"\"\n      }\n    },\n    {\n      \"column\": \"Your View\",\n      \"properties\": {\n        \"dtype\": \"string\",\n        \"num_unique_values\": 3,\n        \"samples\": [\n          \"Need better SDK defaults and parameter presets.\",\n          \"Would adopt caching and summarization to reduce token load.\",\n          \"Client-side encryption and API key vaulting are essential.\"\n        ],\n        \"semantic_type\": \"\",\n        \"description\": \"\"\n      }\n    }\n  ]\n}"
            }
          },
          "metadata": {},
          "execution_count": 11
        }
      ]
    },
    {
      "cell_type": "markdown",
      "source": [
        "## Analytical Essay"
      ],
      "metadata": {
        "id": "JogxgbuQ4bgj"
      }
    },
    {
      "cell_type": "code",
      "source": [
        "# Title: Analytical Essay (Markdown)\n",
        "# Purpose: Render a concise analysis in English answering the required questions inside the notebook.\n",
        "\n",
        "md = f\"\"\"\n",
        "# Decoding Developer Pain — Analytical Essay (EN)\n",
        "\n",
        "## 1) Key design decisions in the empirical methodology (Section 3)\n",
        "- **Data source & scope:** Four OpenAI forum subforums targeted (API, Prompting, GPT Builders, ChatGPT) to focus on developer-facing challenges.\n",
        "- **Pipeline:** Crawl → popularity analysis (RQ1) → difficulty analysis (RQ2) → taxonomy construction (RQ3/RQ4).\n",
        "- **Sampling:** {facts.get('sample_and_confidence', 'A statistically significant manual sample was used.')}\n",
        "- **Coding procedure:** Open coding by two annotators with arbitration; iterative, multi-label allowed.\n",
        "- **Reliability:** Cohen’s κ = 0.812 indicating near-perfect agreement.\n",
        "\n",
        "## 2) Validity and reliability of the coding\n",
        "- **Independent double-coding** followed by **arbitration** for disagreements.\n",
        "- **Consistency metric:** κ to quantify inter-annotator agreement; categories refined during iterative passes.\n",
        "- **Mitigation of threats:** Triangulation across multiple difficulty/popularity indicators (reply count, time-to-first-reply, accepted answers).\n",
        "\n",
        "## 3) Which challenges dominate LLM development?\n",
        "- **General Questions** ≈ {facts['category_shares']['General']} (integration with custom apps leads).\n",
        "- **API** ≈ {facts['category_shares']['API']} (faults, error messages, parameter usage).\n",
        "- **Generation & Understanding** ≈ {facts['category_shares']['GenUnderstanding']} (text, fine-tuning, image/audio/vision).\n",
        "- **Non-functional** ≈ {facts['category_shares']['NonFunctional']} (cost, rate limits, token limits, security/privacy).\n",
        "- **GPT Builder** ≈ {facts['category_shares']['GPTBuilder']}\n",
        "- **Prompt** ≈ {facts['category_shares']['Prompt']}\n",
        "\n",
        "## 4) Implications for LLM platforms and APIs\n",
        "- **Developer experience:** Clearer model/field compatibility matrices, prescriptive examples, and actionable error messages.\n",
        "- **Controllability & reproducibility:** Effective seeds, strict model/prompt versioning, explicit change logs and SLAs for model updates.\n",
        "- **Cost/limits tooling:** Built-in token budgeting, context compression/caching, and proactive rate-limit guidance.\n",
        "- **Security & compliance:** First-class secret management, PII safeguards, integrated moderation and policy checks.\n",
        "- **Builder workflows:** Templates and automated test harnesses for GPT/agent development.\n",
        "\n",
        "## 5) Two original ideas for tools/community resources\n",
        "1) **Prompt Contract Registry (PCR)**\n",
        "   A git-like registry for prompts + output schemas with model-compat checks, prompt unit tests, and change-impact diffs when providers update models.\n",
        "\n",
        "2) **Token & Cost Orchestrator (TCO)**\n",
        "   A middleware that profiles each request, selects a cost-aware strategy (RAG, compression, summarization, tool-use), enforces a token/cost budget, and rewrites queries (chunking, embedding cache) to stay within budget.\n",
        "\"\"\"\n",
        "\n",
        "from IPython.display import Markdown, display\n",
        "display(Markdown(md))"
      ],
      "metadata": {
        "colab": {
          "base_uri": "https://localhost:8080/",
          "height": 756
        },
        "id": "Zv2-j1SD5CZl",
        "outputId": "82cb0baa-9a7f-4eb6-ce6c-a43d035491f0"
      },
      "execution_count": 12,
      "outputs": [
        {
          "output_type": "display_data",
          "data": {
            "text/plain": [
              "<IPython.core.display.Markdown object>"
            ],
            "text/markdown": "\n# Decoding Developer Pain — Analytical Essay (EN)\n\n## 1) Key design decisions in the empirical methodology (Section 3)\n- **Data source & scope:** Four OpenAI forum subforums targeted (API, Prompting, GPT Builders, ChatGPT) to focus on developer-facing challenges.\n- **Pipeline:** Crawl → popularity analysis (RQ1) → difficulty analysis (RQ2) → taxonomy construction (RQ3/RQ4).\n- **Sampling:** Échantillon de 2 364 posts (99% de confiance, ±2,5%).\n- **Coding procedure:** Open coding by two annotators with arbitration; iterative, multi-label allowed.\n- **Reliability:** Cohen’s κ = 0.812 indicating near-perfect agreement.\n\n## 2) Validity and reliability of the coding\n- **Independent double-coding** followed by **arbitration** for disagreements.\n- **Consistency metric:** κ to quantify inter-annotator agreement; categories refined during iterative passes.\n- **Mitigation of threats:** Triangulation across multiple difficulty/popularity indicators (reply count, time-to-first-reply, accepted answers).\n\n## 3) Which challenges dominate LLM development?\n- **General Questions** ≈ 26.3% (integration with custom apps leads).\n- **API** ≈ 22.9% (faults, error messages, parameter usage).\n- **Generation & Understanding** ≈ 19.9% (text, fine-tuning, image/audio/vision).\n- **Non-functional** ≈ 15.4% (cost, rate limits, token limits, security/privacy).\n- **GPT Builder** ≈ 12.1%\n- **Prompt** ≈ 3.4%\n\n## 4) Implications for LLM platforms and APIs\n- **Developer experience:** Clearer model/field compatibility matrices, prescriptive examples, and actionable error messages.\n- **Controllability & reproducibility:** Effective seeds, strict model/prompt versioning, explicit change logs and SLAs for model updates.\n- **Cost/limits tooling:** Built-in token budgeting, context compression/caching, and proactive rate-limit guidance.\n- **Security & compliance:** First-class secret management, PII safeguards, integrated moderation and policy checks.\n- **Builder workflows:** Templates and automated test harnesses for GPT/agent development.\n\n## 5) Two original ideas for tools/community resources\n1) **Prompt Contract Registry (PCR)**  \n   A git-like registry for prompts + output schemas with model-compat checks, prompt unit tests, and change-impact diffs when providers update models.\n\n2) **Token & Cost Orchestrator (TCO)**  \n   A middleware that profiles each request, selects a cost-aware strategy (RAG, compression, summarization, tool-use), enforces a token/cost budget, and rewrites queries (chunking, embedding cache) to stay within budget.\n"
          },
          "metadata": {}
        }
      ]
    },
    {
      "cell_type": "markdown",
      "source": [
        "## Export Answers to Markdown File"
      ],
      "metadata": {
        "id": "pt3zc6RO4nxZ"
      }
    },
    {
      "cell_type": "code",
      "source": [
        "# Title: Export English Essay to Markdown\n",
        "# Purpose: Save the analytical essay in English as a standalone .md file.\n",
        "\n",
        "with open(\"decoding_developer_pain_EN.md\", \"w\", encoding=\"utf-8\") as f:\n",
        "    f.write(md)\n",
        "print(\"Saved to decoding_developer_pain_EN.md\")"
      ],
      "metadata": {
        "colab": {
          "base_uri": "https://localhost:8080/"
        },
        "id": "Dnj8RC7b5fRR",
        "outputId": "0ba3b05c-a77b-4675-dfbe-1d3e6348596d"
      },
      "execution_count": 17,
      "outputs": [
        {
          "output_type": "stream",
          "name": "stdout",
          "text": [
            "Saved to decoding_developer_pain_EN.md\n"
          ]
        }
      ]
    },
    {
      "cell_type": "markdown",
      "source": [
        "## Interpretation and Conclusion"
      ],
      "metadata": {
        "id": "6dVjvN3o6EN0"
      }
    },
    {
      "cell_type": "markdown",
      "source": [
        "## Interpretation\n",
        "\n",
        "The study provides a detailed, evidence-based map of the challenges faced by LLM application developers.  \n",
        "The constructed taxonomy of six major categories and 26 subcategories reveals the multifaceted nature of these issues:\n",
        "\n",
        "- **General Questions (26.3%)** dominate, showing that integration with custom applications and conceptual understanding remain foundational hurdles.\n",
        "- **API challenges (22.9%)** — especially faults, unclear error messages, and parameter usage — highlight the importance of better documentation, clearer compatibility guidelines, and more informative API feedback.\n",
        "- **Generation & Understanding (19.9%)** reflects the practical complexities of applying LLM capabilities (text, fine-tuning, image/audio/vision), where inconsistencies and quality issues often arise.\n",
        "- **Non-functional Properties (15.4%)** show that operational constraints (cost, rate limits, token limits, security/privacy) directly influence adoption and scalability.\n",
        "- **GPT Builder (12.1%)** and **Prompt (3.4%)** categories indicate that although smaller in proportion, specialized builder workflows and prompt engineering are crucial to effective deployment.\n",
        "\n",
        "From a methodological perspective, the use of open coding, double annotation, and Cohen’s κ ensures high reliability. The 2,364-post sample, drawn with 99% confidence and ±2.5% margin of error, gives credibility to the findings.\n",
        "\n",
        "---\n",
        "\n",
        "## Conclusion\n",
        "\n",
        "The evidence points to a set of clear priorities for improving LLM development ecosystems:\n",
        "\n",
        "1. **Enhance Developer Experience** through prescriptive examples, compatibility matrices, and actionable error messages.\n",
        "2. **Strengthen Controllability & Reproducibility** with effective seed control, strict versioning of models and prompts, and transparent update logs.\n",
        "3. **Provide Cost & Limit Management Tools** for token budgeting, caching, and automated optimization strategies.\n",
        "4. **Improve Security & Compliance** by embedding secret management, PII safeguards, and moderation capabilities directly into platforms.\n",
        "5. **Support Specialized Workflows** with robust GPT builder toolkits, testing harnesses, and prompt design resources.\n",
        "\n",
        "By addressing these areas, LLM vendors and community stakeholders can reduce common friction points, accelerate development cycles, and improve both the reliability and scalability of LLM-powered applications.\n"
      ],
      "metadata": {
        "id": "eRbzMWwG6D8n"
      }
    }
  ]
}