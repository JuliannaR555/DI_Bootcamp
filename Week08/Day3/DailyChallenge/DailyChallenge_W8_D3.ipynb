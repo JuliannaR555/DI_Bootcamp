{
  "nbformat": 4,
  "nbformat_minor": 0,
  "metadata": {
    "colab": {
      "provenance": []
    },
    "kernelspec": {
      "name": "python3",
      "display_name": "Python 3"
    },
    "language_info": {
      "name": "python"
    }
  },
  "cells": [
    {
      "cell_type": "markdown",
      "source": [
        "## Daily Challenge: W8_D3"
      ],
      "metadata": {
        "id": "0CK3Jny_hhsQ"
      }
    },
    {
      "cell_type": "markdown",
      "source": [
        "## AI Agent for Emergency Medical Dispatch"
      ],
      "metadata": {
        "id": "Xc4mK0bvhYsi"
      }
    },
    {
      "cell_type": "markdown",
      "source": [
        "## Challenge Description\n",
        "\n",
        "### What You'll Learn\n",
        "You'll deepen your understanding of how AI agents **perceive, reason, and act** by analyzing their architecture and designing your own.  \n",
        "You'll also compare different agent types and decide which is best for specific tasks.\n",
        "\n",
        "### What You Will Create\n",
        "You'll design a **smart emergency dispatch agent** that assists in triaging 911 calls, gathering critical patient data, and dispatching appropriate medical services.  \n",
        "You'll define its architecture, tools, state management, and evaluate trade-offs between different agent types.\n",
        "\n",
        "### Key Concepts Used\n",
        "- Agent perception-reasoning-action loop  \n",
        "- Reactive, deliberative, and hybrid architectures  \n",
        "- External tools/APIs (symptom checkers, dispatch systems, GIS services)  \n",
        "- State management and decision-making  \n",
        "- Evaluation (urgency, speed, reliability, safety)\n",
        "\n",
        "---\n",
        "\n",
        "## Step-by-Step Instructions\n",
        "\n",
        "1. **Understand the Scenario** - Read and restate the goal.  \n",
        "2. **Define the Agent's Environment** - Identify inputs: symptoms, location, identity/history.  \n",
        "3. **Select and Describe Tools** - List APIs and systems, their inputs/outputs.  \n",
        "4. **Outline State Management** - Design a JSON schema or table for memory.  \n",
        "5. **Design Decision Process** - Flowchart or pseudocode for urgency detection and response.  \n",
        "6. **Classify the Agent** - Choose architecture (Reactive/Deliberative/Hybrid) and justify.  \n",
        "7. **Compare to Another Type** - Analyze trade-offs (speed, reliability, planning).  \n",
        "8. **Reflect on Critical Questions** - Impact of no state, role of external tools.\n",
        "\n",
        "---\n",
        "\n",
        "## Deliverables\n",
        "\n",
        "- Environment definition  \n",
        "- Tool list & interfaces  \n",
        "- State schema  \n",
        "- Decision-making flowchart or pseudocode  \n",
        "- Architecture classification & comparison  \n",
        "- Reflection answers  \n"
      ],
      "metadata": {
        "id": "524Cg_lTl3EA"
      }
    },
    {
      "cell_type": "markdown",
      "source": [
        "# AI Emergency Dispatch Agent - Scenario Understanding\n",
        "\n",
        "**Goal:**  \n",
        "Design an AI agent that assists in emergency medical dispatch. It will analyze 911 call inputs, determine urgency, and trigger appropriate responses (ambulance dispatch, self-care advice, etc.).\n",
        "\n",
        "**Key Objectives:**\n",
        "- Perceive critical inputs (symptoms, location, caller history)\n",
        "- Reason about urgency using medical triage models\n",
        "- Act by dispatching resources or providing instructions\n",
        "- Maintain state during the call for accurate and safe decisions\n"
      ],
      "metadata": {
        "id": "2KwZUAt4hYl_"
      }
    },
    {
      "cell_type": "markdown",
      "source": [
        "## Step 2 - Agent Environment (Inputs)\n",
        "\n",
        "**Perceived Inputs:**\n",
        "- **Symptoms (text or voice transcript):** Description of the patient's current condition (e.g., chest pain, difficulty breathing).\n",
        "- **Location (GPS or address):** Required for dispatching the nearest medical unit.\n",
        "- **Caller identity & medical history:** Name, contact, previous conditions or allergies if available.\n",
        "\n",
        "These inputs form the foundation for urgency assessment and resource allocation.\n"
      ],
      "metadata": {
        "id": "nQr9UqERhYfX"
      }
    },
    {
      "cell_type": "markdown",
      "source": [
        "## Step 3 - External Tools & APIs\n",
        "\n",
        "The agent requires external systems to analyze symptoms, manage dispatch, and evaluate urgency.\n",
        "\n",
        "| Tool | Input | Output | Purpose |\n",
        "|------|-------|--------|---------|\n",
        "| Symptom Checker API (e.g., Infermedica) | Patient symptoms (text) | Possible conditions, severity hints | Helps assess possible medical conditions |\n",
        "| Ambulance Dispatch System | Caller location, urgency level | Ambulance assignment confirmation | Sends nearest ambulance to caller |\n",
        "| Medical Triage Model (LLM) | Processed symptoms data | Urgency score (e.g., 0-100) | Classifies call as High/Medium/Low priority |\n"
      ],
      "metadata": {
        "id": "LG7MbwlDistQ"
      }
    },
    {
      "cell_type": "markdown",
      "source": [
        "## Step 4 - State Management\n",
        "\n",
        "The agent must remember caller details, reported symptoms, and actions taken during the emergency call.\n",
        "\n",
        "### Example State (JSON format)\n",
        "\n",
        "```json\n",
        "{\n",
        "  \"caller_info\": {\n",
        "    \"name\": \"John Doe\",\n",
        "    \"phone\": \"+1-555-123-4567\",\n",
        "    \"location\": \"123 Main St, Springfield\"\n",
        "  },\n",
        "  \"symptoms\": [\n",
        "    {\"description\": \"Chest pain\", \"severity\": \"high\"},\n",
        "    {\"description\": \"Shortness of breath\", \"severity\": \"medium\"}\n",
        "  ],\n",
        "  \"urgency_score\": 85,\n",
        "  \"actions_taken\": [\n",
        "    \"Ambulance dispatched\",\n",
        "    \"Advised caller to stay still and wait for help\"\n",
        "  ]\n",
        "}\n"
      ],
      "metadata": {
        "id": "Bc2vTVrAjGa7"
      }
    },
    {
      "cell_type": "markdown",
      "source": [
        "## Step 5 - Decision-Making Process\n",
        "\n",
        "The agent determines urgency and actions using a perception–reasoning–action loop.\n",
        "\n",
        "---\n",
        "\n",
        "### Logic Flow (ASCII Diagram)\n",
        "\n",
        "Caller Symptoms\n",
        "|\n",
        "v\n",
        "Symptom Checker API --> Extract severity hints\n",
        "|\n",
        "v\n",
        "Medical Triage Model --> Urgency Score (0-100)\n",
        "|\n",
        "v\n",
        "Score Thresholds:\n",
        "\n",
        "High (>= 80) --> Dispatch Ambulance\n",
        "\n",
        "Medium (50-79) --> Suggest Urgent Care\n",
        "\n",
        "Low (< 50) --> Provide Self-Care Advice"
      ],
      "metadata": {
        "id": "sOrkfbtwj1Sp"
      }
    },
    {
      "cell_type": "markdown",
      "source": [
        "\n",
        "---\n",
        "\n",
        "### Pseudocode Representation\n",
        "\n",
        "```python\n",
        "# Input: symptoms (text), location, caller info\n",
        "urgency_score = triage_model(symptoms)\n",
        "\n",
        "if urgency_score >= 80:\n",
        "    action = \"Dispatch Ambulance\"\n",
        "elif urgency_score >= 50:\n",
        "    action = \"Advise Urgent Care\"\n",
        "else:\n",
        "    action = \"Provide Self-Care Instructions\"\n"
      ],
      "metadata": {
        "id": "DhwRHGG1j9V8"
      }
    },
    {
      "cell_type": "markdown",
      "source": [
        "## Step 6 - Agent Classification\n",
        "\n",
        "### Chosen Architecture: **Hybrid Agent**\n",
        "\n",
        "**Justification**  \n",
        "A hybrid agent combines reactive and deliberative capabilities.  \n",
        "- It reacts quickly to critical inputs (e.g., high urgency → immediate ambulance dispatch).  \n",
        "- It maintains state and plans actions based on stored caller data (e.g., medical history, previous actions).  \n",
        "- This approach balances **speed** (vital in emergencies) and **safety** (avoiding mistakes due to lack of context).\n",
        "\n",
        "---\n",
        "\n",
        "### Why not purely Reactive?\n",
        "- No memory → cannot track caller identity or symptom progression.  \n",
        "- Risk of inconsistent decisions (e.g., ignoring previous warnings or actions).\n",
        "\n",
        "### Why not purely Deliberative?\n",
        "- Too slow for emergencies → real-time response is required.  \n",
        "- Planning-heavy approach may delay life-saving actions.\n",
        "\n",
        "---\n",
        "\n",
        "**Conclusion:**  \n",
        "Hybrid agents offer the right trade-off for emergency dispatch — **fast responses with contextual awareness**.\n"
      ],
      "metadata": {
        "id": "5-hXNKRcke8p"
      }
    },
    {
      "cell_type": "markdown",
      "source": [
        "## Step 7 - Comparison with Another Agent Type\n",
        "\n",
        "### Comparison: Hybrid vs Reactive Agent\n",
        "\n",
        "| Aspect              | Hybrid Agent                                      | Reactive Agent                             |\n",
        "|---------------------|---------------------------------------------------|--------------------------------------------|\n",
        "| **Memory Handling** | Maintains caller info and history for context     | No memory; reacts to each input separately |\n",
        "| **Planning**        | Can plan next steps based on stored state         | No planning; acts immediately              |\n",
        "| **Speed**           | Fast but slightly slower than pure reactive       | Very fast (immediate response)             |\n",
        "| **Reliability**     | Higher reliability due to contextual reasoning    | Lower reliability (risk of missing context) |\n",
        "| **Use Case Fit**    | Ideal for emergency dispatch (speed + safety)     | Better for low-stakes, immediate reactions |\n",
        "\n",
        "---\n",
        "\n",
        "**Trade-Offs**  \n",
        "- **Speed**: Reactive is faster but may ignore critical history.  \n",
        "- **Reliability**: Hybrid is safer but slightly more complex.  \n",
        "- **Intelligence**: Hybrid can reason about past actions and future needs.\n"
      ],
      "metadata": {
        "id": "69FAqeOIkqG5"
      }
    },
    {
      "cell_type": "markdown",
      "source": [
        "## Step 8 - Critical Reflections\n",
        "\n",
        "### 1. What fails if the agent does not maintain state?\n",
        "\n",
        "If the agent does not store caller information or previous actions:\n",
        "- It may forget critical symptoms or repeated updates (e.g., worsening pain).\n",
        "- It could give inconsistent or contradictory instructions.\n",
        "- Decision-making becomes unreliable, especially during multi-step emergencies.\n",
        "\n",
        "**Conclusion:**  \n",
        "State management is crucial for safety and consistency in high-stakes medical scenarios.\n",
        "\n",
        "---\n",
        "\n",
        "### 2. Why are external tools essential in emergency dispatch?\n",
        "\n",
        "External APIs and models provide:\n",
        "- **Symptom analysis** (medical reasoning beyond simple rules)\n",
        "- **Urgency scoring** (LLM triage model for prioritization)\n",
        "- **Dispatch integration** (real-time ambulance scheduling)\n",
        "\n",
        "**Conclusion:**  \n",
        "These tools allow the agent to move beyond basic conversation and directly coordinate lifesaving actions."
      ],
      "metadata": {
        "id": "ZT8SXV1Tk8H9"
      }
    },
    {
      "cell_type": "markdown",
      "source": [
        "## Conclusion & Checklist\n",
        "\n",
        "### Summary\n",
        "\n",
        "In this notebook, we designed a **Hybrid AI Agent** for emergency medical dispatch (911 calls).  \n",
        "The agent perceives caller inputs (symptoms, location, identity), reasons using a triage model, and acts by dispatching resources or providing instructions.  \n",
        "We defined its environment, tools, state management, decision-making logic, architecture choice, and trade-off analysis.\n",
        "\n",
        "---\n",
        "\n",
        "### Checklist\n",
        "\n",
        "- [x] Scenario understanding (goal and objectives)  \n",
        "- [x] Defined environment inputs (symptoms, location, identity)  \n",
        "- [x] Listed and described external tools/APIs  \n",
        "- [x] Outlined state management (JSON schema)  \n",
        "- [x] Mapped decision-making process (diagram + pseudocode)  \n",
        "- [x] Selected architecture (Hybrid) and justified choice  \n",
        "- [x] Compared Hybrid vs Reactive agent (trade-offs)  \n",
        "- [x] Reflected on critical questions (state importance, external tools)\n",
        "\n",
        "---\n",
        "\n",
        "**Next Step (Optional):**  \n",
        "Convert this design into a prototype by connecting real APIs and simulating emergency scenarios."
      ],
      "metadata": {
        "id": "ox6Btjrplhsy"
      }
    },
    {
      "cell_type": "markdown",
      "source": [
        "##Set up Hugging Face API and import libraries"
      ],
      "metadata": {
        "id": "4jDN34MTZYF0"
      }
    },
    {
      "cell_type": "code",
      "source": [
        "# Import required libraries\n",
        "from huggingface_hub import InferenceClient  # For calling Hugging Face API\n",
        "import os\n",
        "\n",
        "# Set Hugging Face API key (replace with your own key)\n",
        "# IMPORTANT: Never share your real key in public repositories\n",
        "HF_API_KEY = \"YOUR_HF_API_KEY_HERE\"\n",
        "\n",
        "# Initialize the Hugging Face inference client\n",
        "# This client will be used to call models hosted on Hugging Face\n",
        "client = InferenceClient(api_key=HF_API_KEY)\n"
      ],
      "metadata": {
        "id": "W3i7pFOIaOmp"
      },
      "execution_count": 1,
      "outputs": []
    },
    {
      "cell_type": "markdown",
      "source": [
        "## Define core tools: symptom checker, triage score, ambulance dispatch"
      ],
      "metadata": {
        "id": "4F_FJ7kQaU-2"
      }
    },
    {
      "cell_type": "code",
      "source": [
        "# ------------------------------------------------------------\n",
        "# Tool 1: Symptom Checker (simple keyword-based approach)\n",
        "# ------------------------------------------------------------\n",
        "def check_symptoms(symptoms: str) -> dict:\n",
        "    \"\"\"\n",
        "    Analyze the text describing symptoms and infer severity hints.\n",
        "\n",
        "    Args:\n",
        "        symptoms (str): Symptom description from the caller.\n",
        "\n",
        "    Returns:\n",
        "        dict: Contains the original symptoms and a 'severity' label (high/medium/low).\n",
        "    \"\"\"\n",
        "    # Simple keyword logic for simulation\n",
        "    # In a real app, this could be replaced by an NLP model or API\n",
        "    severity = \"high\" if \"chest pain\" in symptoms.lower() else \"medium\"\n",
        "    return {\"symptoms\": symptoms, \"severity\": severity}\n",
        "\n",
        "\n",
        "# ------------------------------------------------------------\n",
        "# Tool 2: Triage Score (using Hugging Face model OR simulation)\n",
        "# ------------------------------------------------------------\n",
        "def triage_score(symptoms_text: str, severity_hint: str) -> int:\n",
        "    \"\"\"\n",
        "    Calculate an urgency score (0-100) based on symptoms.\n",
        "    Uses Hugging Face API if available, else falls back to simple logic.\n",
        "\n",
        "    Args:\n",
        "        symptoms_text (str): Symptom description text.\n",
        "        severity_hint (str): Preliminary severity estimate.\n",
        "\n",
        "    Returns:\n",
        "        int: Urgency score (0 to 100).\n",
        "    \"\"\"\n",
        "\n",
        "    try:\n",
        "        # Attempt to use Hugging Face text classification for extra context\n",
        "        # Note: Model can be replaced with another suitable medical classifier\n",
        "        response = client.text_classification(\n",
        "            model=\"microsoft/BiomedNLP-PubMedBERT-base-uncased-abstract\",\n",
        "            inputs=symptoms_text\n",
        "        )\n",
        "\n",
        "        # Example of interpreting result: we simulate a score boost if keywords are detected\n",
        "        # (Real implementation would map specific medical outputs to urgency)\n",
        "        if \"pain\" in symptoms_text.lower():\n",
        "            return 90\n",
        "        elif \"dizzy\" in symptoms_text.lower():\n",
        "            return 60\n",
        "        else:\n",
        "            return 40\n",
        "\n",
        "    except Exception:\n",
        "        # If Hugging Face API is unavailable, use fallback logic\n",
        "        if severity_hint == \"high\":\n",
        "            return 90\n",
        "        elif severity_hint == \"medium\":\n",
        "            return 60\n",
        "        else:\n",
        "            return 30\n",
        "\n",
        "\n",
        "# ------------------------------------------------------------\n",
        "# Tool 3: Ambulance Dispatch (simulated action)\n",
        "# ------------------------------------------------------------\n",
        "def dispatch_ambulance(location: str) -> str:\n",
        "    \"\"\"\n",
        "    Simulate ambulance dispatch to a given location.\n",
        "\n",
        "    Args:\n",
        "        location (str): The address or GPS location of the caller.\n",
        "\n",
        "    Returns:\n",
        "        str: Confirmation message for dispatch.\n",
        "    \"\"\"\n",
        "    return f\"Ambulance dispatched to {location}!\""
      ],
      "metadata": {
        "id": "WpBhUqQTaVpL"
      },
      "execution_count": 2,
      "outputs": []
    },
    {
      "cell_type": "markdown",
      "source": [
        "## Initialize agent state with caller information and symptoms"
      ],
      "metadata": {
        "id": "cka11mJsadQT"
      }
    },
    {
      "cell_type": "code",
      "source": [
        "# Initialize the agent's state as a dictionary.\n",
        "# This simulates memory/state management in a real MCP agent.\n",
        "\n",
        "agent_state = {\n",
        "    \"caller_info\": {\n",
        "        \"name\": \"John Doe\",\n",
        "        \"location\": \"123 Main St, Springfield\"\n",
        "    },\n",
        "    \"symptoms\": \"Chest pain and shortness of breath\",\n",
        "    \"severity\": None,       # To be filled after symptom check\n",
        "    \"urgency_score\": None,  # To be filled after triage\n",
        "    \"action_taken\": None    # To be filled after decision\n",
        "}\n",
        "\n",
        "# Display initial state for debugging\n",
        "agent_state"
      ],
      "metadata": {
        "colab": {
          "base_uri": "https://localhost:8080/"
        },
        "id": "kMwfAe9Eadj9",
        "outputId": "af23cc07-9372-4088-b815-9e983be10ce6"
      },
      "execution_count": 3,
      "outputs": [
        {
          "output_type": "execute_result",
          "data": {
            "text/plain": [
              "{'caller_info': {'name': 'John Doe', 'location': '123 Main St, Springfield'},\n",
              " 'symptoms': 'Chest pain and shortness of breath',\n",
              " 'severity': None,\n",
              " 'urgency_score': None,\n",
              " 'action_taken': None}"
            ]
          },
          "metadata": {},
          "execution_count": 3
        }
      ]
    },
    {
      "cell_type": "markdown",
      "source": [
        "## Run perception-reasoning-action loop (decision-making)"
      ],
      "metadata": {
        "id": "TkIzFXyGaj5g"
      }
    },
    {
      "cell_type": "code",
      "source": [
        "# Step 1: Analyze symptoms (using check_symptoms tool)\n",
        "result = check_symptoms(agent_state[\"symptoms\"])\n",
        "agent_state[\"severity\"] = result[\"severity\"]\n",
        "\n",
        "# Step 2: Get urgency score (using triage_score tool with Hugging Face or fallback)\n",
        "agent_state[\"urgency_score\"] = triage_score(\n",
        "    agent_state[\"symptoms\"], agent_state[\"severity\"]\n",
        ")\n",
        "\n",
        "# Step 3: Decide action based on urgency score\n",
        "# High urgency → Dispatch ambulance\n",
        "# Medium urgency → Advise urgent care\n",
        "# Low urgency → Self-care instructions\n",
        "\n",
        "if agent_state[\"urgency_score\"] >= 80:\n",
        "    agent_state[\"action_taken\"] = dispatch_ambulance(agent_state[\"caller_info\"][\"location\"])\n",
        "elif agent_state[\"urgency_score\"] >= 50:\n",
        "    agent_state[\"action_taken\"] = \"Advise urgent care center\"\n",
        "else:\n",
        "    agent_state[\"action_taken\"] = \"Provide self-care instructions\"\n",
        "\n",
        "# Display final state after decision\n",
        "agent_state"
      ],
      "metadata": {
        "colab": {
          "base_uri": "https://localhost:8080/"
        },
        "id": "YvJIHiUcakKn",
        "outputId": "7a831bd2-6187-4866-c2fd-420cc9170663"
      },
      "execution_count": 4,
      "outputs": [
        {
          "output_type": "execute_result",
          "data": {
            "text/plain": [
              "{'caller_info': {'name': 'John Doe', 'location': '123 Main St, Springfield'},\n",
              " 'symptoms': 'Chest pain and shortness of breath',\n",
              " 'severity': 'high',\n",
              " 'urgency_score': 90,\n",
              " 'action_taken': 'Ambulance dispatched to 123 Main St, Springfield!'}"
            ]
          },
          "metadata": {},
          "execution_count": 4
        }
      ]
    },
    {
      "cell_type": "markdown",
      "source": [
        "## Display summary of decision and action taken"
      ],
      "metadata": {
        "id": "na_wHuSfapW8"
      }
    },
    {
      "cell_type": "code",
      "source": [
        "# Print a user-friendly summary of the result\n",
        "\n",
        "print(\"----- Emergency Dispatch Summary -----\")\n",
        "print(f\"Caller Name: {agent_state['caller_info']['name']}\")\n",
        "print(f\"Symptoms Reported: {agent_state['symptoms']}\")\n",
        "print(f\"Severity Level: {agent_state['severity']}\")\n",
        "print(f\"Urgency Score: {agent_state['urgency_score']}\")\n",
        "print(f\"Action Taken: {agent_state['action_taken']}\")\n",
        "print(\"--------------------------------------\")\n"
      ],
      "metadata": {
        "colab": {
          "base_uri": "https://localhost:8080/"
        },
        "id": "Vt5iVTuMapnT",
        "outputId": "5373c9f1-a7b0-4105-de93-0793766ae87f"
      },
      "execution_count": 5,
      "outputs": [
        {
          "output_type": "stream",
          "name": "stdout",
          "text": [
            "----- Emergency Dispatch Summary -----\n",
            "Caller Name: John Doe\n",
            "Symptoms Reported: Chest pain and shortness of breath\n",
            "Severity Level: high\n",
            "Urgency Score: 90\n",
            "Action Taken: Ambulance dispatched to 123 Main St, Springfield!\n",
            "--------------------------------------\n"
          ]
        }
      ]
    },
    {
      "cell_type": "markdown",
      "source": [
        "## Conclusion\n",
        "\n",
        "We successfully implemented an emergency dispatch agent with Hugging Face integration:\n",
        "- **Symptom Analysis:** Keyword-based (simple) or extended with Hugging Face model\n",
        "- **Triage Score:** Uses NLP model or fallback logic\n",
        "- **Decision Making:** Perceive → Reason → Act loop with state management\n",
        "- **Action:** Simulated ambulance dispatch\n",
        "\n",
        "This notebook can be upgraded to:\n",
        "- Use real medical APIs (Infermedica, etc.)\n",
        "- Handle multiple callers and sessions\n",
        "- Deploy as a service (MCP or FastAPI)\n"
      ],
      "metadata": {
        "id": "r_Md4wqrauCk"
      }
    }
  ]
}