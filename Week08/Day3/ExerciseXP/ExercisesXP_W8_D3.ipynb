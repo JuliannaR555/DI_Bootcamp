{
 "cells": [
  {
   "cell_type": "markdown",
   "id": "fa369f72-672c-4f0c-b245-a30610649480",
   "metadata": {},
   "source": [
    "# Exercises XP: W8_D3"
   ]
  },
  {
   "cell_type": "code",
   "execution_count": null,
   "id": "649cdc27-2dba-4f69-95b7-6884820a9cd4",
   "metadata": {},
   "outputs": [],
   "source": []
  },
  {
   "cell_type": "markdown",
   "id": "ba0626a8-85c0-48a7-a892-cc183766c292",
   "metadata": {},
   "source": [
    "# XP — LangChain + LangGraph Agent (with Tavily & LangSmith)\n",
    "\n",
    "**What you'll learn**\n",
    "- Set up LangChain and LangSmith for local development and tracing.\n",
    "- Configure environment variables securely in Python.\n",
    "- Integrate third-party tools (Tavily) into a LangChain workflow.\n",
    "- Select and run a Mistral chat model via LangChain.\n",
    "- Bind tools to a model and inspect tool calls.\n",
    "- Build a ReAct-style agent using LangGraph prebuilt utilities.\n",
    "- Stream messages and debug multi-step agent runs.\n",
    "\n",
    "**Environment**\n",
    "- Local Jupyter Notebook (Windows) with a dedicated virtual environment and kernel.\n",
    "- Code cells have English titles and line-by-line comments. Narrative explanations are concise.\n",
    "\n",
    "---\n",
    "## Exercises\n",
    "1) Setup & Environment Configuration  \n",
    "2) Define Tools (Tavily)  \n",
    "3) Using Language Models (Mistral)  \n",
    "4) Tool Binding & Response Inspection  \n",
    "5) Create the Agent (LangGraph)  \n",
    "6) Run the Agent  \n",
    "7) Streaming Messages\n"
   ]
  },
  {
   "cell_type": "markdown",
   "id": "7fbf0422-396d-45da-9bef-652bf6f75700",
   "metadata": {},
   "source": [
    "## Environment Setup & Dependency Installation"
   ]
  },
  {
   "cell_type": "code",
   "execution_count": 18,
   "id": "58bc660d-80bd-4b2b-a752-aa062d16b269",
   "metadata": {},
   "outputs": [
    {
     "name": "stdout",
     "output_type": "stream",
     "text": [
      "✅ Dependencies installed.\n"
     ]
    }
   ],
   "source": [
    "# Description: Install required packages for LangChain, LangGraph, Tavily, and Mistral.\n",
    "\n",
    "import sys\n",
    "import subprocess\n",
    "\n",
    "def pip_install(spec: str):\n",
    "    \"\"\"Install a pip package spec quietly and upgrade if needed.\"\"\"\n",
    "    subprocess.check_call([sys.executable, \"-m\", \"pip\", \"install\", \"-qU\", *spec.split()])\n",
    "\n",
    "# Install core LangChain and community tools\n",
    "pip_install(\"langchain langchain-community\")\n",
    "\n",
    "# Install Mistral integration for LangChain\n",
    "pip_install(\"langchain-mistralai\")\n",
    "\n",
    "# Install Tavily API client\n",
    "pip_install(\"tavily-python\")\n",
    "\n",
    "# Install LangGraph (core) and prebuilt agents utilities\n",
    "pip_install(\"langgraph langgraph-prebuilt\")\n",
    "\n",
    "# Install LangSmith client for tracing and debugging\n",
    "pip_install(\"langsmith\")\n",
    "\n",
    "# Install dotenv helper for loading environment variables from .env files\n",
    "pip_install(\"python-dotenv\")\n",
    "\n",
    "print(\"✅ Dependencies installed.\")"
   ]
  },
  {
   "cell_type": "markdown",
   "id": "9c823f17-a60e-4a52-a51a-82133d852a1b",
   "metadata": {},
   "source": [
    "## Verify Imports & Print Versions"
   ]
  },
  {
   "cell_type": "code",
   "execution_count": 20,
   "id": "41ec17f0-7e5b-4642-a7b5-673ad1fc79db",
   "metadata": {},
   "outputs": [
    {
     "name": "stdout",
     "output_type": "stream",
     "text": [
      "📦 Installed package versions:\n",
      " {'langchain': '0.3.27', 'langchain-community': '0.3.27', 'langchain-mistralai': '0.2.11', 'tavily-python': '0.7.10', 'langgraph': '0.6.4', 'langsmith': '0.4.13', 'python-dotenv': '1.1.1'}\n",
      "\n",
      "--- Import smoke tests ---\n",
      "✅ Import ok: ChatMistralAI\n",
      "✅ Import ok: TavilySearchResults\n",
      "✅ Import ok: langgraph\n",
      "✅ Import ok: langgraph.prebuilt\n",
      "✅ Import ok: dotenv.load_dotenv\n"
     ]
    }
   ],
   "source": [
    "# Description: Check installed package versions via PyPI metadata and confirm imports work.\n",
    "\n",
    "import importlib\n",
    "from importlib import metadata\n",
    "\n",
    "def package_version(dist_name: str):\n",
    "    \"\"\"Return installed PyPI distribution version or 'not installed'.\"\"\"\n",
    "    try:\n",
    "        return metadata.version(dist_name)\n",
    "    except metadata.PackageNotFoundError:\n",
    "        return \"not installed\"\n",
    "\n",
    "versions = {\n",
    "    \"langchain\": package_version(\"langchain\"),\n",
    "    \"langchain-community\": package_version(\"langchain-community\"),\n",
    "    \"langchain-mistralai\": package_version(\"langchain-mistralai\"),\n",
    "    \"tavily-python\": package_version(\"tavily-python\"),\n",
    "    \"langgraph\": package_version(\"langgraph\"),\n",
    "    \"langsmith\": package_version(\"langsmith\"),\n",
    "    \"python-dotenv\": package_version(\"python-dotenv\"),\n",
    "}\n",
    "\n",
    "print(\"📦 Installed package versions:\\n\", versions)\n",
    "\n",
    "print(\"\\n--- Import smoke tests ---\")\n",
    "try:\n",
    "    from langchain_mistralai import ChatMistralAI\n",
    "    print(\"✅ Import ok: ChatMistralAI\")\n",
    "except Exception as e:\n",
    "    print(\"❌ Import failed: ChatMistralAI ->\", e)\n",
    "\n",
    "try:\n",
    "    from langchain_community.tools.tavily_search import TavilySearchResults\n",
    "    print(\"✅ Import ok: TavilySearchResults\")\n",
    "except Exception as e:\n",
    "    print(\"❌ Import failed: TavilySearchResults ->\", e)\n",
    "\n",
    "try:\n",
    "    import langgraph\n",
    "    print(\"✅ Import ok: langgraph\")\n",
    "    import langgraph.prebuilt\n",
    "    print(\"✅ Import ok: langgraph.prebuilt\")\n",
    "except Exception as e:\n",
    "    print(\"❌ Import failed: langgraph or langgraph.prebuilt ->\", e)\n",
    "\n",
    "try:\n",
    "    from dotenv import load_dotenv\n",
    "    print(\"✅ Import ok: dotenv.load_dotenv\")\n",
    "except Exception as e:\n",
    "    print(\"❌ Import failed: dotenv ->\", e)"
   ]
  },
  {
   "cell_type": "markdown",
   "id": "ff6d741f-40a7-4f31-8d82-0218053a163b",
   "metadata": {},
   "source": [
    "## Configure LangSmith & Tavily (Secure Prompts)"
   ]
  },
  {
   "cell_type": "code",
   "execution_count": 17,
   "id": "e0e6d224-206d-46a1-8286-67963fc02982",
   "metadata": {},
   "outputs": [
    {
     "name": "stdin",
     "output_type": "stream",
     "text": [
      "LangSmith API Key:  ········\n",
      "Tavily API Key:  ········\n"
     ]
    },
    {
     "name": "stdout",
     "output_type": "stream",
     "text": [
      "✅ Environment configured successfully.\n"
     ]
    }
   ],
   "source": [
    "# Description: Set environment variables securely at runtime using getpass.\n",
    "\n",
    "import os\n",
    "import getpass\n",
    "\n",
    "# Enable LangSmith tracing\n",
    "# Note: LangSmith will only log traces if LANGSMITH_TRACING is \"true\".\n",
    "os.environ[\"LANGSMITH_TRACING\"] = \"true\"\n",
    "\n",
    "# Prompt for LangSmith API key only if not already set in the environment\n",
    "if not os.environ.get(\"LANGSMITH_API_KEY\"):\n",
    "    os.environ[\"LANGSMITH_API_KEY\"] = getpass.getpass(\"LangSmith API Key: \")\n",
    "\n",
    "# Prompt for Tavily API key only if not already set\n",
    "if not os.environ.get(\"TAVILY_API_KEY\"):\n",
    "    os.environ[\"TAVILY_API_KEY\"] = getpass.getpass(\"Tavily API Key: \")\n",
    "\n",
    "# Quick checks\n",
    "assert os.getenv(\"LANGSMITH_TRACING\") == \"true\", \"LangSmith tracing must be 'true'.\"\n",
    "assert os.getenv(\"LANGSMITH_API_KEY\"), \"Missing LANGSMITH_API_KEY.\"\n",
    "assert os.getenv(\"TAVILY_API_KEY\"), \"Missing TAVILY_API_KEY.\"\n",
    "\n",
    "print(\"✅ Environment configured successfully.\")"
   ]
  },
  {
   "cell_type": "markdown",
   "id": "4ab43408-cea9-44f7-9561-122566ed87e8",
   "metadata": {},
   "source": [
    "## Exercise 2 — Define Tools (Tavily)"
   ]
  },
  {
   "cell_type": "markdown",
   "id": "e855ac8d-0282-43f8-a739-d7cda67dbbc4",
   "metadata": {},
   "source": [
    "Goal:\n",
    "- Import TavilySearchResults from `langchain_community.tools`.\n",
    "- Instantiate the search tool.\n",
    "- Run a test query and assemble the `tools` list."
   ]
  },
  {
   "cell_type": "markdown",
   "id": "10e79d53-07ff-4e75-ae83-0df62a04164f",
   "metadata": {},
   "source": [
    "### Tavily Tool Import & Smoke Test"
   ]
  },
  {
   "cell_type": "code",
   "execution_count": 22,
   "id": "2b9df983-144c-4d4d-afe8-9b20725b4b59",
   "metadata": {},
   "outputs": [
    {
     "name": "stdout",
     "output_type": "stream",
     "text": [
      "Query: latest advancements in AI-driven healthcare triage\n",
      "Sample results: [{'title': 'AI Diagnostics: Revolutionizing Medical Diagnosis in 2025', 'url': 'https://www.scispot.com/blog/ai-diagnostics-revolutionizing-medical-diagnosis-in-2025', 'content': 'The implementation of AI-driven predictive analytics significantly improved patient care and healthcare outcomes. By analyzing historical data and identifying patterns, AI algorithms could forecast patient trajectories with high accuracy, enabling healthcare providers to intervene early, prevent complications, and tailor treatments based on individual patient profiles. [...] Looking ahead, advancements in machine learning, integration with wearable devices, personalized medicine, and autonomous diagnostic systems will continue to expand the possibilities of AI in diagnostic medicine. To stay competitive and deliver the best possible care in this rapidly evolving landscape, healthcare organizations must embrace AI diagnostic solutions that offer flexibility, scalability, and cutting-edge capabilities. [...] Artificial intelligence in medical diagnosis is transforming healthcare delivery, offering unprecedented levels of accuracy and efficiency. In 2025, AI diagnostics has evolved from an emerging technology to an essential component of modern healthcare systems. By leveraging machine learning and deep learning algorithms, AI diagnostic tools can process vast amounts of medical data swiftly and accurately, providing healthcare providers with invaluable insights for better patient care.', 'score': 0.6445166}, {'title': '2025 Watch List: Artificial Intelligence in Health Care', 'url': 'https://www.ncbi.nlm.nih.gov/books/NBK613808/', 'content': 'These are only a small sample of the exciting developments in the uses of AI for health care. Advancements in the development and training of LLMs (such as GPT-4o which ChatGPT is based on) along with significant financial investment are accelerating the pace of innovation in Canada and abroad. According to a 2023 report by the Commonwealth Fund, Canada’s annual health care spending has steadily increased as a percentage of the gross domestic product since 1980; health care spending now makes [...] (e.g., Overjet Image Enhancement Assist), cardiology (e.g., EchoGo Heart Failure 2.0), neurology (e.g., BrainSee), hematology (e.g., AI-4510 Urine Particle Analysis System), and gastroenterology and urology (e.g., EndoScreener).64 [...] Assisting the triage process (especially in the emergency department): AI has the potential to enable earlier intervention. It may enhance health care decision-making by improving discrimination capabilities and predictive accuracy, leading to better risk assessments. This could help assess the need for hospitalization and optimize resource allocation.78\\n\\n#### Examples', 'score': 0.5278769}, {'title': 'Improving triage performance in emergency departments using ...', 'url': 'https://bmcemergmed.biomedcentral.com/articles/10.1186/s12873-024-01135-2', 'content': '.\"), 39]. Another advanced method used in the field is Bidirectional Encoder Representations from Transformers (BERT), a model pre-trained on large text datasets, applied in patient triage prediction [45,46,47]. Recent studies have employed the Chat Generative Pre-trained Transformer (ChatGPT) model [48: A preliminary, scenario-based cross-sectional study. Turkish J Emerg Med. 2023;23(3):156. [...] Although AI models have great potential to support triage systems, recent studies, such as Zaboli et al.,  have shown that the current performance of models like ChatGPT is still inferior to that of nursing professionals in critical contexts. The study compared ChatGPT’s performance with that of nurses in assigning severity levels in 30 clinical cases. The results showed that the nurses achieved an AUROC of 0.910 (0.757–1.000), while ChatGPT presented an AUROC of 0.669 (0.153–1.000) in [...] adoption of XAI could increase confidence in the predictions of algorithms and provide insights into predictors that influence clinical outcomes, fostering better integration of AI into medical practice [52: Concepts, taxonomies, opportunities and challenges toward responsible AI,” Inf. Fusion, vol. 58, no. December 2019, pp. 82–115, Jun. 2020,', 'score': 0.44261298}, {'title': 'AI-Powered Triage Platform Could Aid Future Viral Outbreak ...', 'url': 'https://ysph.yale.edu/news-article/ai-powered-triage-platform-could-aid-future-viral-outbreak-response/', 'content': 'INFORMATION FOR\\n\\n# AI-Powered Triage Platform Could Aid Future Viral Outbreak Response\\n\\n# Artificial Intelligence and COVID-19\\n\\nA team of researchers from Yale University and other institutions globally has developed an innovative patient triage platform powered by artificial intelligence (AI) that the researchers say is capable of predicting patient disease severity and length of hospitalization during a viral outbreak. [...] \"Our AI-powered patient triage platform is distinct from typical COVID-19 AI prediction models,” said Georgia Charkoftaki, a lead author of the study and an associate research scientist in the Department of Environmental Health Sciences at YSPH. “It serves as the cornerstone for a proactive and methodical approach to addressing upcoming viral outbreaks.\" [...] data-driven public health response.”', 'score': 0.4296453}, {'title': 'Clinical Impact of Artificial Intelligence-Based Triage Systems in ...', 'url': 'https://www.cureus.com/articles/375105-clinical-impact-of-artificial-intelligence-based-triage-systems-in-emergency-departments-a-systematic-review', 'content': '###### Learn more\\n\\n#### Ongoing Competitions\\n\\nDedicated Cranial Radiosurgery: Clinical Experience with New & Innovative SRS Technologies\\n\\nSponsored by Zap Surgical Systems\\n\\nReal-Time Adaptive Motion Management on Helical and Robotic RT Platforms\\n\\nSponsored by Accuray, Inc.\\n\\n#### Enter your email address to receive your free PDF download.\\n\\nPlease note that by doing so you agree to be added to our monthly email newsletter distribution list.\\n\\n### Sign in to Cureus\\n\\n### Sign up for Cureus [...] #### Email Communication and Personal Data\\n\\nBy joining Cureus, you agree to our\\nPrivacy Policy\\nand\\nTerms of Use.\\n\\n### Download Cureus Media Kit [...] Real-Time Adaptive Motion Management on Helical and Robotic RT Platforms\\n\\nSponsored by Accuray, Inc.\\n\\nCureus Journal of Medical Science\\n\\n#### Browse\\n\\n#### Specialties\\n\\n#### About Publishing\\n\\nWhy publish in Cureus? Click below to find out.\\n\\n###### Learn more\\n\\n#### For Authors & Reviewers\\n\\n#### About Channels\\n\\n#### Browse Channels\\n\\n#### Cureus Partnerships\\n\\nOffering a variety of advertising and sponsorship options for reaching influential specialists from targeted demographic splits.', 'score': 0.23741718}]\n",
      "✅ Tools ready: ['TavilySearchResults']\n"
     ]
    }
   ],
   "source": [
    "# Description: Import TavilySearchResults, run a sample query, and assemble a tools list.\n",
    "\n",
    "# Import the Tavily search tool from LangChain community\n",
    "from langchain_community.tools.tavily_search import TavilySearchResults\n",
    "\n",
    "# Instantiate the search tool (reads TAVILY_API_KEY from environment variables)\n",
    "search = TavilySearchResults()\n",
    "\n",
    "# Define a small helper to safely truncate long strings for printing\n",
    "def preview(text: str, n: int = 600) -> str:\n",
    "    \"\"\"Return a truncated preview of 'text' with ellipsis if too long.\"\"\"\n",
    "    if not isinstance(text, str):\n",
    "        return str(text)\n",
    "    return text if len(text) <= n else text[:n] + \" ...\"\n",
    "\n",
    "# Run a quick smoke query to ensure the API key is valid and the tool works\n",
    "query = \"latest advancements in AI-driven healthcare triage\"\n",
    "search_results = search.run(query)\n",
    "\n",
    "# Print a truncated view for readability\n",
    "print(\"Query:\", query)\n",
    "print(\"Sample results:\", preview(search_results))\n",
    "\n",
    "# Assemble the tools list for later binding with the LLM\n",
    "tools = [search]\n",
    "print(\"✅ Tools ready:\", [type(t).__name__ for t in tools])"
   ]
  },
  {
   "cell_type": "markdown",
   "id": "47f89466-d21e-4e16-ad51-e00f7ce8e680",
   "metadata": {},
   "source": [
    "## Exercise 3 — Using Language Models (Mistral)"
   ]
  },
  {
   "cell_type": "markdown",
   "id": "0422c9d3-52b7-4b1a-b5e9-eeaf01fcf91e",
   "metadata": {},
   "source": [
    "Goal:\n",
    "- Ensure your Mistral API key is set.\n",
    "- Initialize a Mistral chat model via LangChain.\n",
    "- Send a simple `HumanMessage` and print the response.\n",
    "\n",
    "Two equivalent paths are shown:\n",
    "1) `init_chat_model` helper (simple)\n",
    "2) `ChatMistralAI` class (explicit)"
   ]
  },
  {
   "cell_type": "markdown",
   "id": "b1be4679-15b3-4eca-b74c-e24a38ad5d18",
   "metadata": {},
   "source": [
    "## Ensure Mistral API Key (Skip if already set)"
   ]
  },
  {
   "cell_type": "code",
   "execution_count": 23,
   "id": "34a3f254-e6bb-48df-8039-8561660bf2d1",
   "metadata": {},
   "outputs": [
    {
     "name": "stdin",
     "output_type": "stream",
     "text": [
      "Mistral API Key:  ········\n"
     ]
    },
    {
     "name": "stdout",
     "output_type": "stream",
     "text": [
      "✅ Mistral API key is set.\n"
     ]
    }
   ],
   "source": [
    "# Description: Prompt for Mistral API key only if it's missing from the environment.\n",
    "\n",
    "import os, getpass\n",
    "\n",
    "if not os.environ.get(\"MISTRAL_API_KEY\"):\n",
    "    os.environ[\"MISTRAL_API_KEY\"] = getpass.getpass(\"Mistral API Key: \")\n",
    "\n",
    "assert os.environ.get(\"MISTRAL_API_KEY\"), \"Missing MISTRAL_API_KEY.\"\n",
    "print(\"✅ Mistral API key is set.\")"
   ]
  },
  {
   "cell_type": "code",
   "execution_count": 28,
   "id": "03c40d80-8392-403c-8a74-fb6ee8d50a93",
   "metadata": {},
   "outputs": [
    {
     "name": "stdout",
     "output_type": "stream",
     "text": [
      "✅ mistralai SDK installed.\n"
     ]
    }
   ],
   "source": [
    "# Title: Install Mistral SDK\n",
    "# Description: Install the official Mistral client to list available models.\n",
    "\n",
    "import sys\n",
    "!{sys.executable} -m pip install -qU mistralai\n",
    "print(\"✅ mistralai SDK installed.\")"
   ]
  },
  {
   "cell_type": "markdown",
   "id": "ba539955-cff4-4ce8-966f-8958a2c55eee",
   "metadata": {},
   "source": [
    "## Initialize Mistral Chat (Canonical)"
   ]
  },
  {
   "cell_type": "code",
   "execution_count": 33,
   "id": "e47fc4bc-7042-4efe-b2a3-f1ddf10f57cb",
   "metadata": {},
   "outputs": [
    {
     "name": "stdout",
     "output_type": "stream",
     "text": [
      "✅ ChatMistralAI replied:\n",
      " Here’s a fun fact about space exploration:\n",
      "\n",
      "**The Voyager 1 spacecraft, launched in 1977, is the farthest human-made object from Earth and is currently in interstellar space—beyond the influence of our Sun’s solar wind. It carries a golden record with sounds and images of Earth, including greetings in 55 languages, music from different cultures, and even the sound of a kiss!**\n",
      "\n",
      "Bonus fact: Voyager 1’s power will last until at least 2025, but it will continue drifting through the Milky Way for billions of years—potentially one day being discovered by an alien civilization!\n",
      "\n",
      "Would you like more space trivia? 🚀\n"
     ]
    }
   ],
   "source": [
    "# Title: Initialize Mistral Chat (Canonical)\n",
    "# Description: Use ChatMistralAI directly (avoid 'provider' issues with init_chat_model).\n",
    "\n",
    "import os\n",
    "from langchain_mistralai import ChatMistralAI\n",
    "from langchain_core.messages import HumanMessage\n",
    "\n",
    "# Pick a valid model for your account. Common choices in 2025:\n",
    "# - \"mistral-small-latest\"\n",
    "# - \"mistral-large-latest\"\n",
    "# - \"ministral-3b-latest\"\n",
    "MODEL_NAME = os.environ.get(\"MISTRAL_MODEL\", \"mistral-small-latest\")\n",
    "\n",
    "chat_model = ChatMistralAI(\n",
    "    model=MODEL_NAME,\n",
    "    api_key=os.environ[\"MISTRAL_API_KEY\"],\n",
    ")\n",
    "\n",
    "# Quick test\n",
    "msg = HumanMessage(content=\"Tell me a fun fact about space exploration.\")\n",
    "resp = chat_model([msg])\n",
    "print(\"✅ ChatMistralAI replied:\\n\", resp.content)"
   ]
  },
  {
   "cell_type": "markdown",
   "id": "e19ee091-11c1-4d22-9b04-ef4ca7dcef42",
   "metadata": {},
   "source": [
    "## Raw SDK Sanity Check"
   ]
  },
  {
   "cell_type": "code",
   "execution_count": 34,
   "id": "671ca858-913c-4dfc-aef9-f55218655877",
   "metadata": {},
   "outputs": [
    {
     "name": "stdout",
     "output_type": "stream",
     "text": [
      "SDK v1 says: \"Hello there!\"\n"
     ]
    }
   ],
   "source": [
    "# Title: (Optional) Raw SDK Sanity Check\n",
    "# Description: Confirm your key + model works using the official Mistral SDK v1.\n",
    "\n",
    "from mistralai import Mistral\n",
    "client = Mistral(api_key=os.environ[\"MISTRAL_API_KEY\"])\n",
    "\n",
    "sdk_resp = client.chat.complete(\n",
    "    model=MODEL_NAME,\n",
    "    messages=[{\"role\": \"user\", \"content\": \"Say 'hello' in one short sentence.\"}],\n",
    ")\n",
    "print(\"SDK v1 says:\", sdk_resp.choices[0].message.content)"
   ]
  },
  {
   "cell_type": "markdown",
   "id": "b769fb79-0020-4c8b-a93f-c8f7790a3098",
   "metadata": {},
   "source": [
    "## Exercise 4 — Tool Binding and Response Inspection"
   ]
  },
  {
   "cell_type": "markdown",
   "id": "153d2cd9-ba9f-4cc7-8582-0fc71a4f0ec0",
   "metadata": {},
   "source": [
    "Goal:\n",
    "- Bind the Tavily tool to the chat model using `.bind_tools`.\n",
    "- Compare a prompt that doesn't need tools vs. one that should trigger a tool call.\n",
    "- Inspect `.content` and `.tool_calls` on the response."
   ]
  },
  {
   "cell_type": "markdown",
   "id": "d917915c-c3e2-4c8c-89f1-3d0b06a09887",
   "metadata": {},
   "source": [
    "## Bind Tools to the Model"
   ]
  },
  {
   "cell_type": "code",
   "execution_count": 35,
   "id": "d93eb30c-1a81-4eac-879c-9e4657da0774",
   "metadata": {},
   "outputs": [
    {
     "name": "stdout",
     "output_type": "stream",
     "text": [
      "✅ Tools bound to model.\n"
     ]
    }
   ],
   "source": [
    "# Description: Create a tool-aware model by binding the Tavily tool to ChatMistralAI.\n",
    "\n",
    "# Pre-reqs:\n",
    "# - `chat_model` created in Exercise 3 (ChatMistralAI instance)\n",
    "# - `tools` list created in Exercise 2 (e.g., [TavilySearchResults()])\n",
    "\n",
    "model_with_tools = chat_model.bind_tools(tools)\n",
    "print(\"✅ Tools bound to model.\")"
   ]
  },
  {
   "cell_type": "markdown",
   "id": "ce7ca2bb-77f3-4f04-9d3e-5e1849d23bd1",
   "metadata": {},
   "source": [
    "## Inspect Responses (No Tool vs. Tool Expected)"
   ]
  },
  {
   "cell_type": "code",
   "execution_count": 37,
   "id": "7f092a98-7580-4e7e-8785-f961ee3dac64",
   "metadata": {},
   "outputs": [
    {
     "name": "stdout",
     "output_type": "stream",
     "text": [
      "\n",
      "--- Case 1 (No tool expected) ---\n",
      "Content:\n",
      " Sure! Here are three quick stretches you can do after a long flight to help relieve tension and improve circulation:\n",
      "\n",
      "1. **Neck Stretches:**\n",
      "   - Sit or stand up straight.\n",
      "   - Gently tilt your head to one side, bringing your ear towards your shoulder.\n",
      "   - Hold for 15-30 seconds, then switch sides.\n",
      "   - Repeat 2-3 times on each side.\n",
      "\n",
      "2. **Shoulder and Arm Stretches:**\n",
      "   - Extend one arm across your chest.\n",
      "   - Use your other hand to gently pull it closer to your chest.\n",
      "   - Hold for 15-30 seconds, then switch arms.\n",
      "   - Repeat 2-3 times on each side.\n",
      "\n",
      "3. **Seated Forward Bend:**\n",
      "   - Sit on the edge of your seat with your legs extended straight in front of you.\n",
      "   - Gently reach forward, trying to touch your toes or shins.\n",
      "   - Hold for 15-30 seconds.\n",
      "   - Repeat 2-3 times.\n",
      "\n",
      "These stretches can help alleviate stiffness and improve blood flow after a long flight.\n",
      "Tool calls: []\n",
      "\n",
      "--- Case 2 (Tool expected) ---\n",
      "Content:\n",
      " (empty)\n",
      "Tool calls: [{'name': 'tavily_search_results_json', 'args': {'query': 'latest AI breakthroughs in healthcare triage'}, 'id': 'rsVdW10b5', 'type': 'tool_call'}]\n",
      "\n",
      "First tool call → name: tavily_search_results_json\n",
      "First tool call → args: {'query': 'latest AI breakthroughs in healthcare triage'}\n"
     ]
    }
   ],
   "source": [
    "# Title: Inspect Responses (No Tool vs. Tool Expected)\n",
    "# Description: Compare a normal prompt vs. a prompt that should require a web search.\n",
    "# Note: model_with_tools is a RunnableBinding → use .invoke(...), not a direct call.\n",
    "\n",
    "from langchain_core.messages import HumanMessage\n",
    "\n",
    "def print_response(label: str, resp):\n",
    "    \"\"\"Pretty-print content and tool_calls for a model response.\"\"\"\n",
    "    print(f\"\\n--- {label} ---\")\n",
    "    # resp is typically an AIMessage; show content and any tool_calls\n",
    "    print(\"Content:\\n\", getattr(resp, \"content\", \"(empty)\") or \"(empty)\")\n",
    "    print(\"Tool calls:\", getattr(resp, \"tool_calls\", None))\n",
    "\n",
    "# Case 1 — Should NOT require a tool (expect: content present, tool_calls empty)\n",
    "resp_no_tool = model_with_tools.invoke([HumanMessage(content=\"Give me 3 quick stretches after a long flight.\")])\n",
    "print_response(\"Case 1 (No tool expected)\", resp_no_tool)\n",
    "\n",
    "# Case 2 — SHOULD require a tool (expect: empty content + a tool call to Tavily)\n",
    "resp_need_tool = model_with_tools.invoke([HumanMessage(content=\"Search for the latest AI breakthroughs in healthcare triage.\")])\n",
    "print_response(\"Case 2 (Tool expected)\", resp_need_tool)\n",
    "\n",
    "# Optional: If a tool call exists, show its name and arguments\n",
    "if getattr(resp_need_tool, \"tool_calls\", None):\n",
    "    tc = resp_need_tool.tool_calls[0]\n",
    "    print(\"\\nFirst tool call → name:\", tc.get(\"name\"))\n",
    "    print(\"First tool call → args:\", tc.get(\"args\"))"
   ]
  },
  {
   "cell_type": "markdown",
   "id": "1518a581-1014-4acd-9a8d-964da69c48ad",
   "metadata": {},
   "source": [
    "## Tool Registry & Executor"
   ]
  },
  {
   "cell_type": "code",
   "execution_count": 38,
   "id": "b4bc3e03-ad4c-4316-920c-d4d5b4ba8fbb",
   "metadata": {},
   "outputs": [],
   "source": [
    "# Description: Map tool call names to concrete tool instances and execute them safely.\n",
    "\n",
    "from typing import Any, Dict\n",
    "\n",
    "# Build a registry from tool name → tool instance.\n",
    "# Your Tavily tool surfaced as \"tavily_search_results_json\" in tool_calls, so we register that.\n",
    "TOOL_REGISTRY: Dict[str, Any] = {\n",
    "    \"tavily_search_results_json\": search,  # from Exercise 2\n",
    "    # You can add more tools here later.\n",
    "}\n",
    "\n",
    "def execute_tool_call(tool_call: Dict[str, Any]) -> str:\n",
    "    \"\"\"\n",
    "    Execute a single tool call dict of the form:\n",
    "    {\"name\": str, \"args\": dict, \"id\": str, \"type\": \"tool_call\"}\n",
    "    Returns the stringified result (safe for ToolMessage).\n",
    "    \"\"\"\n",
    "    name = tool_call.get(\"name\")\n",
    "    args = tool_call.get(\"args\", {})\n",
    "    tool = TOOL_REGISTRY.get(name)\n",
    "    if tool is None:\n",
    "        return f\"[Tool error] Unknown tool: {name}\"\n",
    "    try:\n",
    "        # Most LangChain tools implement .invoke(**kwargs) or .invoke(dict)\n",
    "        # We'll pass the args dict directly.\n",
    "        result = tool.invoke(args)\n",
    "        # Ensure string output for the follow-up message\n",
    "        return result if isinstance(result, str) else str(result)\n",
    "    except Exception as e:\n",
    "        return f\"[Tool error] {name} failed: {e}\""
   ]
  },
  {
   "cell_type": "markdown",
   "id": "c2e017f7-6237-445e-9480-e730d0d3a16f",
   "metadata": {},
   "source": [
    "## One‑Step ReAct (Manual Round Trip)"
   ]
  },
  {
   "cell_type": "code",
   "execution_count": 39,
   "id": "db110d66-bd58-4dfd-86cf-ad0999b456b0",
   "metadata": {},
   "outputs": [
    {
     "name": "stdout",
     "output_type": "stream",
     "text": [
      "USER: Find 2 recent breakthroughs in AI for emergency medicine and cite sources. \n",
      "\n",
      "ASSISTANT (final):\n",
      " Here are two recent breakthroughs in AI for emergency medicine:\n",
      "\n",
      "1. **AI Model for Converting Hospital Records into Text**:\n",
      "   - Researchers at UCLA have developed an AI system called the Multimodal Embedding Model for EHR (MEME). This system converts fragmented electronic health records (EHR) into readable narratives, making it easier for AI models to analyze complex patient histories. This advancement allows for more accurate clinical decision support in emergency settings. The system transforms tabular health data into \"pseudonotes\" that mimic clinical documentation, enabling AI models designed for text to perform better in emergency medicine scenarios. [Read more here](https://www.uclahealth.org/news/release/ai-model-converts-hospital-records-text-better-emergency).\n",
      "\n",
      "2. **AI for Rapid Diagnostics in Emergency Departments**:\n",
      "   - AI algorithms are increasingly being used to analyze medical imaging such as chest x-rays, CT scans, and MRIs. These algorithms can provide rapid diagnostics, which is particularly useful in emergency departments where quick decision-making is crucial. For instance, AI can help identify acute and life-threatening conditions like strokes or aortic dissections, leading to quicker interventions. This application of AI enhances efficiency and patient care by reducing the time required for diagnostic processes. [Read more here](https://www.emra.org/students/newsletter-articles/ai-in-emergency-medicine).\n",
      "\n",
      "These breakthroughs highlight the growing potential of AI to improve the efficiency and accuracy of emergency medical care.\n"
     ]
    }
   ],
   "source": [
    "# Description: 1) Ask the model_with_tools; 2) Execute any tool calls; 3) Feed tool results back; 4) Get final answer.\n",
    "\n",
    "from langchain_core.messages import HumanMessage, ToolMessage, AIMessage\n",
    "from typing import List\n",
    "\n",
    "def react_once(user_prompt: str) -> str:\n",
    "    \"\"\"\n",
    "    Perform a single ReAct-like iteration:\n",
    "    - Send HumanMessage to tool-aware model (model_with_tools)\n",
    "    - Execute requested tool(s)\n",
    "    - Send ToolMessage(s) back to the model\n",
    "    - Return the final AI answer\n",
    "    \"\"\"\n",
    "    # 1) Initial request: get an AIMessage that may contain tool_calls\n",
    "    ai_first: AIMessage = model_with_tools.invoke([HumanMessage(content=user_prompt)])\n",
    "\n",
    "    tool_calls = getattr(ai_first, \"tool_calls\", []) or []\n",
    "    if not tool_calls:\n",
    "        # No tools needed → return the text directly\n",
    "        return ai_first.content\n",
    "\n",
    "    # 2) Execute each tool call and collect ToolMessage(s)\n",
    "    tool_messages: List[ToolMessage] = []\n",
    "    for tc in tool_calls:\n",
    "        tool_result = execute_tool_call(tc)\n",
    "        # ToolMessage requires the tool_call_id to link result to the right call\n",
    "        tool_messages.append(\n",
    "            ToolMessage(\n",
    "                content=tool_result,\n",
    "                tool_call_id=tc.get(\"id\", \"\")  # keep the ID from the AIMessage tool call\n",
    "            )\n",
    "        )\n",
    "\n",
    "    # 3) Follow-up turn: provide the tool results and let the model produce the final answer\n",
    "    final_ai: AIMessage = model_with_tools.invoke(\n",
    "        [HumanMessage(content=user_prompt), ai_first, *tool_messages]\n",
    "    )\n",
    "\n",
    "    # 4) Return final content\n",
    "    return final_ai.content\n",
    "\n",
    "# Quick demo\n",
    "question = \"Find 2 recent breakthroughs in AI for emergency medicine and cite sources.\"\n",
    "final_answer = react_once(question)\n",
    "print(\"USER:\", question, \"\\n\")\n",
    "print(\"ASSISTANT (final):\\n\", final_answer)"
   ]
  },
  {
   "cell_type": "markdown",
   "id": "8147bde0-5241-485e-b27c-db4f07b50975",
   "metadata": {},
   "source": [
    "## Inspect Intermediate (Optional)"
   ]
  },
  {
   "cell_type": "code",
   "execution_count": 40,
   "id": "d3ed4edf-872f-4cb7-8d04-8d1193a5de16",
   "metadata": {},
   "outputs": [
    {
     "name": "stdout",
     "output_type": "stream",
     "text": [
      "First AI message (may include tool calls):\n",
      "- content: (empty)\n",
      "- tool_calls: [{'name': 'tavily_search_results_json', 'args': {'query': 'recent AI techniques improving ER triage'}, 'id': '3qLct1LM9', 'type': 'tool_call'}]\n",
      "\n",
      "Executed first tool call: tavily_search_results_json args: {'query': 'recent AI techniques improving ER triage'}\n",
      "Tool preview: [{'title': 'AI-driven triage in emergency departments: A review of benefits ...', 'url': 'https://www.sciencedirect.com/science/article/pii/S1386505625000553', 'content': 'Algorithmic models. At the core of AI-driven triage are machine learning (ML) algorithms capable of analyzing and categorizing patient risk levels based on complex data patterns. Various models are used in AI-driven triage systems, including decision trees, neural networks, and regression models .', 'score': 0.98593}, {'title': 'Use of Artificial Intelligence in Triage in Hospital ...', 'url': 'https://pmc.ncbi.nlm.nih.gov/articles/PMC11158416/', 'content': 'by S Tyler · 2024 · Cited by 50 — The use of AI in the ED has bee ...\n"
     ]
    }
   ],
   "source": [
    "# Description: Show raw tool call + truncated tool output for transparency/debug.\n",
    "\n",
    "from langchain_core.messages import HumanMessage\n",
    "\n",
    "q = \"Search 1-2 recent AI techniques improving ER triage, with links.\"\n",
    "ai_first = model_with_tools.invoke([HumanMessage(content=q)])\n",
    "\n",
    "print(\"First AI message (may include tool calls):\")\n",
    "print(\"- content:\", ai_first.content or \"(empty)\")\n",
    "print(\"- tool_calls:\", ai_first.tool_calls)\n",
    "\n",
    "if ai_first.tool_calls:\n",
    "    tc0 = ai_first.tool_calls[0]\n",
    "    preview = execute_tool_call(tc0)\n",
    "    print(\"\\nExecuted first tool call:\", tc0.get(\"name\"), \"args:\", tc0.get(\"args\"))\n",
    "    print(\"Tool preview:\", (preview[:700] + \" ...\") if len(preview) > 700 else preview)"
   ]
  },
  {
   "cell_type": "markdown",
   "id": "814d6ce1-44be-4047-bea8-b9ab5915dd6d",
   "metadata": {},
   "source": [
    "## Exercise 5 — Create the Agent (LangGraph)"
   ]
  },
  {
   "cell_type": "markdown",
   "id": "222b0f82-514b-4e7a-811e-00ab02fbfbb0",
   "metadata": {},
   "source": [
    "Goal:\n",
    "- Use `create_react_agent` from `langgraph.prebuilt`.\n",
    "- Build an agent executor with `llm=chat_model` and `tools=tools`.\n",
    "- Verify the executor object is created successfully."
   ]
  },
  {
   "cell_type": "markdown",
   "id": "330e4a6e-58a0-4a22-8493-35ffb0605863",
   "metadata": {},
   "source": [
    "## Build ReAct Agent Executor (LangGraph Prebuilt)"
   ]
  },
  {
   "cell_type": "code",
   "execution_count": 43,
   "id": "44e9f487-afd7-4adb-bec0-00290de9fc6a",
   "metadata": {},
   "outputs": [
    {
     "name": "stdout",
     "output_type": "stream",
     "text": [
      "✅ Agent executor ready: CompiledStateGraph\n"
     ]
    }
   ],
   "source": [
    "# Description: Use the correct signature: `model=<chat_model>` instead of `llm=`.\n",
    "\n",
    "from langgraph.prebuilt import create_react_agent\n",
    "\n",
    "agent_executor = create_react_agent(\n",
    "    model=chat_model,   # ✅ correct keyword\n",
    "    tools=tools\n",
    ")\n",
    "\n",
    "print(\"✅ Agent executor ready:\", type(agent_executor).__name__)"
   ]
  },
  {
   "cell_type": "markdown",
   "id": "d3f7fcdd-2aaf-4a65-ac65-3c62d5507844",
   "metadata": {},
   "source": [
    "## Sanity Check — Invoke Agent Once"
   ]
  },
  {
   "cell_type": "code",
   "execution_count": 44,
   "id": "3965984e-b2b1-4f32-9b91-d968c7d9a3d4",
   "metadata": {},
   "outputs": [
    {
     "name": "stdout",
     "output_type": "stream",
     "text": [
      "The capital of France is Paris.\n"
     ]
    }
   ],
   "source": [
    "# Description: Send a simple prompt and extract the final AI message content.\n",
    "\n",
    "from langchain_core.messages import HumanMessage, AIMessage\n",
    "\n",
    "def run_agent_once(prompt: str) -> str:\n",
    "    \"\"\"Invoke the agent with a single HumanMessage and return the last AI message content.\"\"\"\n",
    "    state = agent_executor.invoke({\"messages\": [HumanMessage(content=prompt)]})\n",
    "    msgs = state.get(\"messages\", [])\n",
    "    last_ai = next((m for m in reversed(msgs) if isinstance(m, AIMessage)), None)\n",
    "    return last_ai.content if last_ai else \"(no AI content found)\"\n",
    "\n",
    "print(run_agent_once(\"What is the capital of France?\"))"
   ]
  },
  {
   "cell_type": "markdown",
   "id": "4c517b31-93dd-4646-b0dc-f216f84eab41",
   "metadata": {},
   "source": [
    "## Trigger Tool Use via Agent"
   ]
  },
  {
   "cell_type": "code",
   "execution_count": 45,
   "id": "14520221-fb53-4344-8a73-a70607360f1b",
   "metadata": {},
   "outputs": [
    {
     "name": "stdout",
     "output_type": "stream",
     "text": [
      "[{'type': 'text', 'text': 'Here are two recent breakthroughs in AI for emergency medicine:\\n\\n1. **AI for Rapid Diagnostics**:\\n   - AI algorithms are being used to analyze medical imaging such as chest X-rays, CT scans, and MRIs. This rapid diagnostic capability is particularly useful in emergency departments where quick and accurate diagnosis is crucial for conditions like strokes or aortic dissections. AI can help in quickly identifying critical conditions, leading to faster interventions and potentially saving lives '}, {'type': 'reference', 'reference_ids': ['EMRA']}, {'type': 'text', 'text': '.\\n\\n2. **AI for Operational Efficiency**:\\n   - AI tools are being developed to manage and streamline various operational tasks in emergency departments. These tools can assist with patient triage, clinical presentation diagnosis, mortality prediction, and clinical decision-making. By automating routine tasks such as documentation and data retrieval, AI can help clinicians focus more on direct patient care, thereby improving the overall efficiency and quality of care in emergency settings '}, {'type': 'reference', 'reference_ids': ['emed']}, {'type': 'text', 'text': '.smhs.gwu.edu.\\n\\nThese advancements highlight the potential of AI to significantly enhance the efficiency and effectiveness of emergency medical care.'}]\n"
     ]
    }
   ],
   "source": [
    "# Description: Ask something that should require Tavily; the agent will decide to call the tool.\n",
    "\n",
    "answer = run_agent_once(\"Find 2 recent breakthroughs in AI for emergency medicine and cite sources.\")\n",
    "print(answer)"
   ]
  },
  {
   "cell_type": "markdown",
   "id": "36097553-68ac-41f5-9d64-3b575d8d6ea1",
   "metadata": {},
   "source": [
    "## Ask Agent with Inline Markdown Links"
   ]
  },
  {
   "cell_type": "code",
   "execution_count": 46,
   "id": "e560182f-4185-468f-bda7-2bc87dfb68e6",
   "metadata": {},
   "outputs": [
    {
     "name": "stdout",
     "output_type": "stream",
     "text": [
      "- **AI-Powered Rapid Diagnostics**: AI algorithms are now capable of rapidly analyzing medical imaging such as chest X-rays, CT scans, and MRIs, facilitating quicker interventions in critical situations like strokes or aortic dissections. [Source](https://www.emra.org/students/newsletter-articles/ai-in-emergency-medicine)\n",
      "\n",
      "- **Enhanced Triage Systems**: AI applications have been developed to enhance triage systems in emergency departments, improving the efficiency and accuracy of patient prioritization and care. [Source](https://www.sciencedirect.com/science/article/pii/S2688115225000098)\n"
     ]
    }
   ],
   "source": [
    "# Description: Nudge the agent to return inline markdown links, no separate references.\n",
    "\n",
    "ask = (\n",
    "    \"Find 2 recent breakthroughs in AI for emergency medicine. \"\n",
    "    \"Return a short list of 2 bullet points with one-sentence summaries, \"\n",
    "    \"and include the source as an inline markdown link at the end of each bullet. \"\n",
    "    \"Do not include separate reference blocks.\"\n",
    ")\n",
    "\n",
    "print(run_agent_once(ask))"
   ]
  },
  {
   "cell_type": "markdown",
   "id": "8ecee136-2c1b-42a6-85a3-6180dea7d65b",
   "metadata": {},
   "source": [
    "## Normalize Agent Structured Output to Plain Text"
   ]
  },
  {
   "cell_type": "code",
   "execution_count": 47,
   "id": "8cadc748-f1ac-4f0c-b222-556f5b8cb2ab",
   "metadata": {},
   "outputs": [
    {
     "name": "stdout",
     "output_type": "stream",
     "text": [
      "Here are two recent breakthroughs in AI for emergency medicine:\n",
      "\n",
      "1. **AI for Rapid Diagnostics**:\n",
      "   - AI algorithms are being used to analyze medical imaging such as chest X-rays, CT scans, and MRIs. This rapid diagnostic capability is particularly useful in emergency departments where quick and accurate diagnosis is crucial for conditions like strokes or aortic dissections. AI can help in quickly identifying critical conditions, leading to faster interventions and potentially saving lives  [EMRA].\n",
      "\n",
      "2. **AI for Operational Efficiency**:\n",
      "   - AI tools are being developed to manage and streamline various operational tasks in emergency departments. These tools can assist with patient triage, clinical presentation diagnosis, mortality prediction, and clinical decision-making. By automating routine tasks such as documentation and data retrieval, AI can help clinicians focus more on direct patient care, thereby improving the overall efficiency and quality of care in emergency settings  [emed].smhs.gwu.edu.\n",
      "\n",
      "These advancements highlight the potential of AI to significantly enhance the efficiency and effectiveness of emergency medical care.\n"
     ]
    }
   ],
   "source": [
    "# Description: Flatten list[dict(type=...)] into readable string; keep reference IDs as tags.\n",
    "\n",
    "from typing import Any, List, Dict\n",
    "\n",
    "def normalize_agent_content(content: Any) -> str:\n",
    "    \"\"\"\n",
    "    Flatten agent structured content (list of {type:'text'|'reference', ...})\n",
    "    into a readable string. If reference blocks are present, the IDs are appended\n",
    "    like [EMRA], [emed]. You can later resolve IDs to URLs if you keep a mapping.\n",
    "    \"\"\"\n",
    "    if isinstance(content, list):\n",
    "        parts: List[str] = []\n",
    "        for item in content:\n",
    "            if isinstance(item, dict) and \"type\" in item:\n",
    "                if item[\"type\"] == \"text\":\n",
    "                    parts.append(item.get(\"text\", \"\"))\n",
    "                elif item[\"type\"] == \"reference\":\n",
    "                    ids = item.get(\"reference_ids\", [])\n",
    "                    if ids:\n",
    "                        parts.append(\" \" + \" \".join(f\"[{rid}]\" for rid in ids))\n",
    "            else:\n",
    "                parts.append(str(item))\n",
    "        return \"\".join(parts).strip()\n",
    "    return str(content)\n",
    "\n",
    "# Demo on your last output (replace `your_content` with the AI message content you captured)\n",
    "your_content = [\n",
    " {'type': 'text', 'text': 'Here are two recent breakthroughs in AI for emergency medicine:\\n\\n1. **AI for Rapid Diagnostics**:\\n   - AI algorithms are being used to analyze medical imaging such as chest X-rays, CT scans, and MRIs. This rapid diagnostic capability is particularly useful in emergency departments where quick and accurate diagnosis is crucial for conditions like strokes or aortic dissections. AI can help in quickly identifying critical conditions, leading to faster interventions and potentially saving lives '},\n",
    " {'type': 'reference', 'reference_ids': ['EMRA']},\n",
    " {'type': 'text', 'text': '.\\n\\n2. **AI for Operational Efficiency**:\\n   - AI tools are being developed to manage and streamline various operational tasks in emergency departments. These tools can assist with patient triage, clinical presentation diagnosis, mortality prediction, and clinical decision-making. By automating routine tasks such as documentation and data retrieval, AI can help clinicians focus more on direct patient care, thereby improving the overall efficiency and quality of care in emergency settings '},\n",
    " {'type': 'reference', 'reference_ids': ['emed']},\n",
    " {'type': 'text', 'text': '.smhs.gwu.edu.\\n\\nThese advancements highlight the potential of AI to significantly enhance the efficiency and effectiveness of emergency medical care.'}\n",
    "]\n",
    "\n",
    "print(normalize_agent_content(your_content))"
   ]
  },
  {
   "cell_type": "markdown",
   "id": "6389c633-8f38-4f93-a630-285e38dd671d",
   "metadata": {},
   "source": [
    "## Exercise 6: Run the Agent"
   ]
  },
  {
   "cell_type": "markdown",
   "id": "c9d8001c-eac4-4d8b-a0a4-a7113c44c652",
   "metadata": {},
   "source": [
    "Goal:\n",
    "- Run stateless queries through the agent.\n",
    "- Inspect the returned state (messages timeline).\n",
    "- Extract the final AI response text."
   ]
  },
  {
   "cell_type": "markdown",
   "id": "336f22fe-d763-446b-a108-e9a360677f8a",
   "metadata": {},
   "source": [
    "## Helper — Inspect Agent State"
   ]
  },
  {
   "cell_type": "code",
   "execution_count": 48,
   "id": "c93494d4-92d6-4052-a62e-b4b58be9edb1",
   "metadata": {},
   "outputs": [],
   "source": [
    "# Description: Pretty-print the agent's messages timeline and extract the final AI message content.\n",
    "\n",
    "from typing import Optional\n",
    "from langchain_core.messages import HumanMessage, AIMessage, ToolMessage, SystemMessage, AnyMessage\n",
    "\n",
    "def summarize_state(state: dict) -> str:\n",
    "    \"\"\"Return a single string summary of message roles/types in the state.\"\"\"\n",
    "    msgs = state.get(\"messages\", [])\n",
    "    lines = []\n",
    "    for i, m in enumerate(msgs):\n",
    "        role = m.type if hasattr(m, \"type\") else m.__class__.__name__\n",
    "        # AIMessage may carry tool_calls\n",
    "        tool_meta = \"\"\n",
    "        if isinstance(m, AIMessage) and getattr(m, \"tool_calls\", None):\n",
    "            tool_meta = f\" | tool_calls={len(m.tool_calls)}\"\n",
    "        lines.append(f\"{i:02d}. {role}{tool_meta}\")\n",
    "    return \"\\n\".join(lines) if lines else \"(no messages)\"\n",
    "\n",
    "def get_final_ai_text(state: dict) -> Optional[str]:\n",
    "    \"\"\"Get the last AIMessage content from the state's messages list.\"\"\"\n",
    "    msgs = state.get(\"messages\", [])\n",
    "    for m in reversed(msgs):\n",
    "        if isinstance(m, AIMessage):\n",
    "            return m.content\n",
    "    return None"
   ]
  },
  {
   "cell_type": "markdown",
   "id": "f239e060-2b59-4ce2-b3b6-c07dc2a075ad",
   "metadata": {},
   "source": [
    "## Run Two Simple Prompts"
   ]
  },
  {
   "cell_type": "code",
   "execution_count": 49,
   "id": "a119bf63-63d1-44c8-ac24-a1e895eec37e",
   "metadata": {},
   "outputs": [
    {
     "name": "stdout",
     "output_type": "stream",
     "text": [
      "\n",
      "=== PROMPT ===\n",
      "What is the capital of France?\n",
      "\n",
      "=== STATE SUMMARY ===\n",
      "00. human\n",
      "01. ai\n",
      "\n",
      "=== FINAL ANSWER ===\n",
      "The capital of France is Paris.\n",
      "\n",
      "=== PROMPT ===\n",
      "Tell me a short joke about robots (one sentence).\n",
      "\n",
      "=== STATE SUMMARY ===\n",
      "00. human\n",
      "01. ai\n",
      "\n",
      "=== FINAL ANSWER ===\n",
      "Why did the robot bring a ladder to the bar? Because it heard the drinks were on the house!\n"
     ]
    }
   ],
   "source": [
    "# Description: Send two prompts that likely don't need tools and inspect state + final text.\n",
    "\n",
    "from langchain_core.messages import HumanMessage\n",
    "\n",
    "def run_and_show(prompt: str):\n",
    "    print(f\"\\n=== PROMPT ===\\n{prompt}\\n\")\n",
    "    state = agent_executor.invoke({\"messages\": [HumanMessage(content=prompt)]})\n",
    "    print(\"=== STATE SUMMARY ===\")\n",
    "    print(summarize_state(state))\n",
    "    print(\"\\n=== FINAL ANSWER ===\")\n",
    "    print(get_final_ai_text(state) or \"(no AI content)\")\n",
    "\n",
    "# Example 1\n",
    "run_and_show(\"What is the capital of France?\")\n",
    "\n",
    "# Example 2\n",
    "run_and_show(\"Tell me a short joke about robots (one sentence).\")"
   ]
  },
  {
   "cell_type": "markdown",
   "id": "9d53c57b-e6a7-4a88-b0e3-c0eedcb9b109",
   "metadata": {},
   "source": [
    "## Trigger Tool Use & Inspect Timeline"
   ]
  },
  {
   "cell_type": "code",
   "execution_count": 50,
   "id": "9cd193c8-7462-4273-8c47-1408cea0e271",
   "metadata": {},
   "outputs": [
    {
     "name": "stdout",
     "output_type": "stream",
     "text": [
      "=== STATE SUMMARY ===\n",
      "00. human\n",
      "01. ai | tool_calls=1\n",
      "02. tool\n",
      "03. ai\n",
      "\n",
      "=== RAW TIMELINE (truncated) ===\n",
      "00. human: Find 2 recent breakthroughs in AI for emergency medicine and cite sources.\n",
      "01. ai: \n",
      "02. tool: [{\"title\": \"AI frontiers in emergency care: the next evolution of nursing ...\", \"url\": \"https://www.frontiersin.org/journals/public-health/articles/10.3389/fpubh.2024.1439412/full\", \"content\": \"5. Han, R, Acosta, JN, Shakeri, Z, Ioannidis, JPA, Topol, EJ, and Rajpurkar, P. Randomised controlled tria ...\n",
      "03. ai: [{'type': 'text', 'text': 'Recent breakthroughs in AI for emergency medicine include:\\n\\n1. **AI in Rapid Diagnostics and Imaging Analysis**:\\n   AI algorithms have been developed to quickly and accurately analyze medical imaging such as chest X-rays, CT scans, and MRIs. This capability is particula ...\n",
      "\n",
      "=== FINAL ANSWER ===\n",
      "[{'type': 'text', 'text': 'Recent breakthroughs in AI for emergency medicine include:\\n\\n1. **AI in Rapid Diagnostics and Imaging Analysis**:\\n   AI algorithms have been developed to quickly and accurately analyze medical imaging such as chest X-rays, CT scans, and MRIs. This capability is particularly beneficial in emergency departments where rapid diagnostics can lead to quicker interventions for critical conditions like strokes or aortic dissections. This advancement helps in reducing the time taken to initiate necessary treatments for acute patients '}, {'type': 'reference', 'reference_ids': ['emra', 'emed_gwu']}, {'type': 'text', 'text': '.\\n\\n2. **Enhancing Triage and Predictive Analytics**:\\n   AI applications are being used to enhance triage systems, predict disease-specific risks, and forecast patient decompensation. These tools can estimate staffing needs and interpret imaging findings, thereby improving the efficiency and accuracy of emergency care. AI-driven triage systems can prioritize patient care based on the severity of their conditions, ensuring that the most critical cases receive immediate attention '}, {'type': 'reference', 'reference_ids': ['sciencedirect']}, {'type': 'text', 'text': '.\\n\\nThese breakthroughs highlight the potential of AI to revolutionize emergency medicine by improving diagnostic accuracy, streamlining workflows, and enhancing patient outcomes.'}]\n"
     ]
    }
   ],
   "source": [
    "# Description: Ask something that should require web search; the agent should call Tavily under the hood.\n",
    "\n",
    "from langchain_core.messages import AIMessage\n",
    "\n",
    "prompt = \"Find 2 recent breakthroughs in AI for emergency medicine and cite sources.\"\n",
    "state = agent_executor.invoke({\"messages\": [HumanMessage(content=prompt)]})\n",
    "\n",
    "print(\"=== STATE SUMMARY ===\")\n",
    "print(summarize_state(state))\n",
    "\n",
    "print(\"\\n=== RAW TIMELINE (truncated) ===\")\n",
    "for i, m in enumerate(state.get(\"messages\", [])):\n",
    "    label = m.type if hasattr(m, \"type\") else m.__class__.__name__\n",
    "    content = getattr(m, \"content\", \"\")\n",
    "    if isinstance(content, list):\n",
    "        # Some tool/agent messages can be structured lists; show a short preview\n",
    "        preview = str(content)[:300] + (\" ...\" if len(str(content)) > 300 else \"\")\n",
    "    else:\n",
    "        preview = (content or \"\")[:300] + (\" ...\" if content and len(content) > 300 else \"\")\n",
    "    print(f\"{i:02d}. {label}: {preview}\")\n",
    "\n",
    "print(\"\\n=== FINAL ANSWER ===\")\n",
    "print(get_final_ai_text(state) or \"(no AI content)\")"
   ]
  },
  {
   "cell_type": "markdown",
   "id": "d8157999-ef88-4beb-96aa-ab8aa9112a1e",
   "metadata": {},
   "source": [
    "## Extract Sources Heuristic (Robust)"
   ]
  },
  {
   "cell_type": "code",
   "execution_count": 52,
   "id": "b8d8ed5b-f2e7-43be-8e27-27dff41caa35",
   "metadata": {},
   "outputs": [
    {
     "name": "stdout",
     "output_type": "stream",
     "text": [
      "No URLs detected in final text.\n"
     ]
    }
   ],
   "source": [
    "# Title: Extract Sources Heuristic (Robust)\n",
    "# Description: Normalize structured AI content to plain text before applying regex for URLs.\n",
    "\n",
    "import re\n",
    "from typing import Any, List, Dict\n",
    "\n",
    "def normalize_agent_content(block: Any) -> str:\n",
    "    \"\"\"Flatten structured content (list of {type:'text'|'reference'}) into a readable string.\"\"\"\n",
    "    if isinstance(block, list):\n",
    "        parts: List[str] = []\n",
    "        for item in block:\n",
    "            if isinstance(item, dict) and \"type\" in item:\n",
    "                if item[\"type\"] == \"text\":\n",
    "                    parts.append(item.get(\"text\", \"\"))\n",
    "                elif item[\"type\"] == \"reference\":\n",
    "                    ids = item.get(\"reference_ids\") or []\n",
    "                    if ids:\n",
    "                        parts.append(\" \" + \" \".join(f\"[{rid}]\" for rid in ids))\n",
    "            else:\n",
    "                parts.append(str(item))\n",
    "        return \"\".join(parts).strip()\n",
    "    return str(block) if block is not None else \"\"\n",
    "\n",
    "# Get final AI content from previous `state`\n",
    "raw_final = get_final_ai_text(state)  # may be list/dicts or str\n",
    "final_text = normalize_agent_content(raw_final)\n",
    "\n",
    "# Now it's safe to run regex\n",
    "urls = re.findall(r\"https?://\\S+\", final_text)\n",
    "if urls:\n",
    "    print(\"Detected URLs:\")\n",
    "    for u in urls:\n",
    "        print(\"-\", u)\n",
    "else:\n",
    "    print(\"No URLs detected in final text.\")"
   ]
  },
  {
   "cell_type": "markdown",
   "id": "03234514-787f-430e-a603-0c82aceb32ea",
   "metadata": {},
   "source": [
    "## Ask Agent with Mandatory Inline Links"
   ]
  },
  {
   "cell_type": "code",
   "execution_count": 53,
   "id": "f1bc90e2-2bc6-4994-8e20-64c4307959f1",
   "metadata": {},
   "outputs": [
    {
     "name": "stdout",
     "output_type": "stream",
     "text": [
      "- **AI for Predicting Sepsis**: Researchers have developed an AI model that can predict sepsis in patients up to two days before clinical onset, potentially saving countless lives. [Source](https://jamanetwork.com/journals/jamanetworkopen/fullarticle/2783321)\n",
      "\n",
      "- **AI-Powered Stroke Diagnosis**: A new AI system has been shown to diagnose strokes with high accuracy by analyzing CT scans, enabling faster treatment decisions. [Source](https://www.nature.com/articles/s41746-023-00852-4)\n"
     ]
    }
   ],
   "source": [
    "# Title: Ask Agent with Mandatory Inline Links\n",
    "# Description: Force the agent to include clickable markdown links in the final bullets.\n",
    "\n",
    "ask = (\n",
    "    \"Find 2 recent breakthroughs in AI for emergency medicine. \"\n",
    "    \"Return exactly 2 bullet points. For EACH bullet, include ONE inline markdown link \"\n",
    "    \"to the primary source (e.g., [Title](https://...)). \"\n",
    "    \"Do NOT use separate reference blocks.\"\n",
    ")\n",
    "print(run_agent_once(ask))"
   ]
  },
  {
   "cell_type": "markdown",
   "id": "6b0eda60-6e1f-46cd-ac86-e63c56fe0664",
   "metadata": {},
   "source": [
    "## Extract URLs from Tool Messages"
   ]
  },
  {
   "cell_type": "code",
   "execution_count": 57,
   "id": "f3eb4ea4-a93c-42a3-a619-3b19e1f7c7d6",
   "metadata": {},
   "outputs": [
    {
     "name": "stdout",
     "output_type": "stream",
     "text": [
      "Tool URLs found:\n",
      "- https://www.frontiersin.org/journals/public-health/articles/10.3389/fpubh.2024.1439412/full\n",
      "- https://www.emra.org/students/newsletter-articles/ai-in-emergency-medicine\n",
      "- https://www.sciencedirect.com/science/article/pii/S2688115225000098\n",
      "- https://pmc.ncbi.nlm.nih.gov/articles/PMC11874537/\n",
      "- https://emed.smhs.gwu.edu/news/ai-may-allow-physicians-regain-their-humanity\n"
     ]
    }
   ],
   "source": [
    "# Description: Parse tool outputs in the agent state and collect any 'url' fields.\n",
    "\n",
    "import json, ast\n",
    "from typing import List\n",
    "from langchain_core.messages import ToolMessage\n",
    "\n",
    "def extract_urls_from_tools(state) -> List[str]:\n",
    "    \"\"\"Walk tool messages in the state and collect URL fields from JSON-ish content.\"\"\"\n",
    "    urls = []\n",
    "    for m in state.get(\"messages\", []):\n",
    "        if isinstance(m, ToolMessage):\n",
    "            content = m.content\n",
    "            data = None\n",
    "            # Tool content can be a Python list/dict, or a JSON string, or a repr string.\n",
    "            if isinstance(content, (list, dict)):\n",
    "                data = content\n",
    "            elif isinstance(content, str):\n",
    "                # Try JSON first, then Python literal, else fallback regex\n",
    "                try:\n",
    "                    data = json.loads(content)\n",
    "                except Exception:\n",
    "                    try:\n",
    "                        data = ast.literal_eval(content)\n",
    "                    except Exception:\n",
    "                        data = None\n",
    "            # Walk the structure to find 'url' keys\n",
    "            def walk(x):\n",
    "                if isinstance(x, dict):\n",
    "                    if \"url\" in x and isinstance(x[\"url\"], str):\n",
    "                        urls.append(x[\"url\"])\n",
    "                    for v in x.values():\n",
    "                        walk(v)\n",
    "                elif isinstance(x, list):\n",
    "                    for it in x:\n",
    "                        walk(it)\n",
    "            if data is not None:\n",
    "                walk(data)\n",
    "    # Deduplicate preserving order\n",
    "    seen, out = set(), []\n",
    "    for u in urls:\n",
    "        if u not in seen:\n",
    "            seen.add(u)\n",
    "            out.append(u)\n",
    "    return out\n",
    "\n",
    "# Example usage on the last state you computed:\n",
    "tool_urls = extract_urls_from_tools(state)\n",
    "print(\"Tool URLs found:\")\n",
    "for u in tool_urls:\n",
    "    print(\"-\", u if u else \"(none)\")"
   ]
  },
  {
   "cell_type": "markdown",
   "id": "ffcba704-dfc8-49bd-9c0a-09c71dc9d03f",
   "metadata": {},
   "source": [
    "## Merge Final Answer with Tool URLs"
   ]
  },
  {
   "cell_type": "code",
   "execution_count": 56,
   "id": "fe68b074-d8ea-4aee-84a0-2c1eccbc04f4",
   "metadata": {},
   "outputs": [
    {
     "name": "stdout",
     "output_type": "stream",
     "text": [
      "Recent breakthroughs in AI for emergency medicine include:\n",
      "\n",
      "1. **AI in Rapid Diagnostics and Imaging Analysis**:\n",
      "   AI algorithms have been developed to quickly and accurately analyze medical imaging such as chest X-rays, CT scans, and MRIs. This capability is particularly beneficial in emergency departments where rapid diagnostics can lead to quicker interventions for critical conditions like strokes or aortic dissections. This advancement helps in reducing the time taken to initiate necessary treatments for acute patients  [emra] [emed_gwu].\n",
      "\n",
      "2. **Enhancing Triage and Predictive Analytics**:\n",
      "   AI applications are being used to enhance triage systems, predict disease-specific risks, and forecast patient decompensation. These tools can estimate staffing needs and interpret imaging findings, thereby improving the efficiency and accuracy of emergency care. AI-driven triage systems can prioritize patient care based on the severity of their conditions, ensuring that the most critical cases receive immediate attention  [sciencedirect].\n",
      "\n",
      "These breakthroughs highlight the potential of AI to revolutionize emergency medicine by improving diagnostic accuracy, streamlining workflows, and enhancing patient outcomes. \n",
      "\n",
      "Sources:\n",
      "- https://www.frontiersin.org/journals/public-health/articles/10.3389/fpubh.2024.1439412/full\n",
      "- https://www.emra.org/students/newsletter-articles/ai-in-emergency-medicine\n",
      "- https://www.sciencedirect.com/science/article/pii/S2688115225000098\n"
     ]
    }
   ],
   "source": [
    "# Title: Merge Final Answer with Tool URLs\n",
    "# Description: Print the final answer then append the discovered URLs.\n",
    "\n",
    "final_text = normalize_agent_content(get_final_ai_text(state))\n",
    "print(final_text, \"\\n\")\n",
    "if tool_urls:\n",
    "    print(\"Sources:\")\n",
    "    for u in tool_urls[:3]:\n",
    "        print(\"-\", u)\n",
    "else:\n",
    "    print(\"No tool URLs available.\")"
   ]
  },
  {
   "cell_type": "markdown",
   "id": "90caa21a-21c8-4f23-9afd-0ec1b64aba29",
   "metadata": {},
   "source": [
    " ## Exercise 7 — Streaming Messages"
   ]
  },
  {
   "cell_type": "markdown",
   "id": "746208ac-d230-4bba-b95c-aaa381d996bf",
   "metadata": {},
   "source": [
    "Goal:\n",
    "- Stream incremental updates from the agent.\n",
    "- Display partial messages as they arrive.\n",
    "- Optionally capture the final AI message for later use."
   ]
  },
  {
   "cell_type": "markdown",
   "id": "95517b73-c19c-4cdf-975c-16e03a84a531",
   "metadata": {},
   "source": [
    "## Stream Agent Messages (Auto Mode)"
   ]
  },
  {
   "cell_type": "code",
   "execution_count": 58,
   "id": "77d9ba1e-58bd-4763-8d9b-b3524e70c875",
   "metadata": {},
   "outputs": [],
   "source": [
    "# Description: Iterate streaming updates from the agent and pretty-print as they arrive.\n",
    "\n",
    "from langchain_core.messages import HumanMessage, AIMessage\n",
    "\n",
    "prompt = \"List three recent AI papers on medical imaging with one-sentence summaries.\"\n",
    "\n",
    "stream = agent_executor.stream(\n",
    "    {\"messages\": [HumanMessage(content=prompt)]},\n",
    "    stream_mode=\"auto\"  # lets the agent decide how to chunk/flush\n",
    ")\n",
    "\n",
    "for step in stream:\n",
    "    msgs = step.get(\"messages\") or []\n",
    "    if not msgs:\n",
    "        continue\n",
    "    msg = msgs[0]\n",
    "    # Prefer pretty_print when available\n",
    "    try:\n",
    "        msg.pretty_print()\n",
    "    except Exception:\n",
    "        content = getattr(msg, \"content\", \"\")\n",
    "        print(content if content else \"(no content)\")"
   ]
  },
  {
   "cell_type": "markdown",
   "id": "f978b574-d9b6-4c34-bb1b-e6853258d9d2",
   "metadata": {},
   "source": [
    "## Stream Agent Messages (Values Mode) — Always Capture Final"
   ]
  },
  {
   "cell_type": "code",
   "execution_count": 61,
   "id": "67602b17-a793-466a-a2c2-34c4f6cda102",
   "metadata": {},
   "outputs": [
    {
     "name": "stdout",
     "output_type": "stream",
     "text": [
      "================================\u001b[1m Human Message \u001b[0m=================================\n",
      "\n",
      "Give 2-3 recent AI methods improving ER triage; include short summaries and inline links.\n",
      "==================================\u001b[1m Ai Message \u001b[0m==================================\n",
      "Tool Calls:\n",
      "  tavily_search_results_json (WY6wqQHJf)\n",
      " Call ID: WY6wqQHJf\n",
      "  Args:\n",
      "    query: recent AI methods improving ER triage\n",
      "=================================\u001b[1m Tool Message \u001b[0m=================================\n",
      "Name: tavily_search_results_json\n",
      "\n",
      "[{\"title\": \"Improving triage performance in emergency departments ...\", \"url\": \"https://pmc.ncbi.nlm.nih.gov/articles/PMC11575054/\", \"content\": \"por BM Porto · 2024 · Mencionado por 25 — Studies suggest that Machine Learning (ML) and Natural Language Processing (NLP) could enhance triage accuracy and consistency.\", \"score\": 0.6778372}, {\"title\": \"AI-driven triage in emergency departments: A review of benefits ...\", \"url\": \"https://pubmed.ncbi.nlm.nih.gov/39965433/\", \"content\": \"Conclusion:\\nAI-driven triage systems have the potential to transform ED operations by enhancing efficiency, improving patient outcomes, and supporting healthcare professionals in high-pressure environments. As healthcare demands continue to grow, these systems represent a vital innovation for advancing emergency care and addressing longstanding challenges in triage.\\n\\nKeywords:\\nAI-driven triage; Emergency Department; Healthcare innovation; Machine learning; Patient prioritization. [...] The review identifies substantial benefits of AI-driven triage, including improved patient prioritization, reduced wait times, and optimized resource allocation. However, challenges such as data quality issues, algorithmic bias, clinician trust, and ethical concerns are significant barriers to widespread adoption. Future directions emphasize the need for algorithm refinement, integration with wearable technology, clinician education, and ethical framework development to address these challenges [...] Method:\\nThis narrative review analyzed peer-reviewed articles published between 2015 and 2024, identified through searches in PubMed, Scopus, IEEE Xplore, and Google Scholar. Findings were synthesized to provide a comprehensive overview of their potential and limitations.\", \"score\": 0.6643884}, {\"title\": \"AI-driven triage in emergency departments: A review of benefits ...\", \"url\": \"https://www.sciencedirect.com/science/article/pii/S1386505625000553\", \"content\": \"AI-driven triage systems improve resource allocation by predicting ED demand and patient outcomes, allowing for optimized staff schedules, bed management, and\", \"score\": 0.6002124}, {\"title\": \"Use of Artificial Intelligence in Triage in Hospital Emergency ...\", \"url\": \"https://pmc.ncbi.nlm.nih.gov/articles/PMC11158416/\", \"content\": \"Artificial intelligence (AI) and machine learning (ML) have become novel topics for triage in EDs due to several key factors, including 1) the possibility of enhanced decision-making by analyzing vast amounts of patient data quickly and accurately; 2) efficiency and speed may be increased in often crowded, fast-paced\", \"score\": 0.57952}, {\"title\": \"Use of Machine Learning in Hospital Emergency Care for ...\", \"url\": \"https://laccei.org/LACCEI2024-CostaRica/papers/Contribution_1130_final_a.pdf\", \"content\": \"covering algorithms, input medical data, output results, and machine learning objectives in telemedicine systems for remote healthcare. The researchers introduced a coherent taxonomy, establishing cross-correspondence between machine learning algorithms and telemedicine structure. Various machine learning methods, including specific ones or hybrid approaches, were employed to enhance the performance of E-triage and priority-based systems within telemedicine. From the machine learning and [...] 2022, doi: 10.1186/s12913-022-07591-5.  AM Huamán Rodríguez, JL Guerra Perales, and H. Huayllas Pérez, \\\"Priority of care according to triage and waiting time in Emergency Service patients in a public hospital in Lima, October-December 2018,\\\" 2019.  M. Ibrahim, \\\"The Role of Machine Learning Algorithms for Diagnosing,\\\" Journal of Applied Science and Technology Trends, vol. 2, no. 1, pp. 10-19, 2021, doi: 10.38094/jastt20179.  R. Inquilla, \\\"Business intelligence methodology in the decision-making [...] Huaral and Chancay, Peru,\\\" Anales de la Faculty of Medicine, vol. 79, no. 2, pp. 131-137, 2018. [Online]. Available:   OH Salman, et al., \\\"A review on utilizing machine learning technology in the fields of electronic emergency triage and patient priority systems in telemedicine: Coherent taxonomy, motivations, open research challenges and recommendations for intelligent future work,\\\" Computer Methods and Programs in Biomedicine, vol. 209, 2021, 106357, doi: 10.1016/j.cmpb.2021.106357.  T.\", \"score\": 0.51691306}]\n",
      "==================================\u001b[1m Ai Message \u001b[0m==================================\n",
      "\n",
      "Here are 2-3 recent AI methods improving ER triage, along with short summaries and links for further reading:\n",
      "\n",
      "1. **Machine Learning (ML) and Natural Language Processing (NLP)**\n",
      "   - **Summary**: Studies suggest that Machine Learning (ML) and Natural Language Processing (NLP) could enhance triage accuracy and consistency by analyzing vast amounts of patient data quickly and accurately. These technologies help in improving decision-making processes in emergency departments.\n",
      "   - **Link**: [Improving triage performance in emergency departments](https://pmc.ncbi.nlm.nih.gov/articles/PMC11575054/)\n",
      "\n",
      "2. **AI-driven Triage Systems**\n",
      "   - **Summary**: AI-driven triage systems have the potential to transform emergency department (ED) operations by enhancing efficiency, improving patient outcomes, and supporting healthcare professionals in high-pressure environments. These systems optimize resource allocation, reduce wait times, and improve patient prioritization.\n",
      "   - **Link**: [AI-driven triage in emergency departments: A review of benefits](https://pubmed.ncbi.nlm.nih.gov/39965433/)\n",
      "\n",
      "3. **Machine Learning in Telemedicine for E-Triage**\n",
      "   - **Summary**: Machine learning methods, including specific algorithms or hybrid approaches, are employed to enhance the performance of E-triage and priority-based systems within telemedicine. These systems improve the efficiency and speed of triage processes in crowded and fast-paced emergency departments.\n",
      "   - **Link**: [Use of Machine Learning in Hospital Emergency Care for](https://laccei.org/LACCEI2024-CostaRica/papers/Contribution_1130_final_a.pdf)\n",
      "\n",
      "These methods represent significant advancements in the field of emergency triage, leveraging AI to improve patient care and operational efficiency.\n",
      "\n",
      "=== FINAL STATE SUMMARY ===\n",
      "00. human\n",
      "01. ai | tool_calls=1\n",
      "02. tool\n",
      "03. ai\n",
      "\n",
      "=== FINAL (raw) ===\n",
      "Here are 2-3 recent AI methods improving ER triage, along with short summaries and links for further reading:\n",
      "\n",
      "1. **Machine Learning (ML) and Natural Language Processing (NLP)**\n",
      "   - **Summary**: Studies suggest that Machine Learning (ML) and Natural Language Processing (NLP) could enhance triage accuracy and consistency by analyzing vast amounts of patient data quickly and accurately. These technologies help in improving decision-making processes in emergency departments.\n",
      "   - **Link**: [Improving triage performance in emergency departments](https://pmc.ncbi.nlm.nih.gov/articles/PMC11575054/)\n",
      "\n",
      "2. **AI-driven Triage Systems**\n",
      "   - **Summary**: AI-driven triage systems have the potential to transform emergency department (ED) operations by enhancing efficiency, improving patient outcomes, and supporting healthcare professionals in high-pressure environments. These systems optimize resource allocation, reduce wait times, and improve patient prioritization.\n",
      "   - **Link**: [AI-driven triage in emergency departments: A review of benefits](https://pubmed.ncbi.nlm.nih.gov/39965433/)\n",
      "\n",
      "3. **Machine Learning in Telemedicine for E-Triage**\n",
      "   - **Summary**: Machine learning methods, including specific algorithms or hybrid approaches, are employed to enhance the performance of E-triage and priority-based systems within telemedicine. These systems improve the efficiency and speed of triage processes in crowded and fast-paced emergency departments.\n",
      "   - **Link**: [Use of Machine Learning in Hospital Emergency Care for](https://laccei.org/LACCEI2024-CostaRica/papers/Contribution_1130_final_a.pdf)\n",
      "\n",
      "These methods represent significant advancements in the field of emergency triage, leveraging AI to improve patient care and operational efficiency.\n"
     ]
    }
   ],
   "source": [
    "# Description: Use stream_mode=\"values\" to ensure we receive the final state even if the agent ends on a tool call.\n",
    "\n",
    "from langchain_core.messages import HumanMessage, AIMessage\n",
    "\n",
    "prompt = \"Give 2-3 recent AI methods improving ER triage; include short summaries and inline links.\"\n",
    "\n",
    "final_state = None\n",
    "\n",
    "stream = agent_executor.stream(\n",
    "    {\"messages\": [HumanMessage(content=prompt)]},\n",
    "    stream_mode=\"values\"  # <-- ensures the iterator yields the final state\n",
    ")\n",
    "\n",
    "for step in stream:\n",
    "    # step is a dict of the agent's current \"values\" (final state at the end)\n",
    "    # Some intermediate events may not have \"messages\", so guard access.\n",
    "    final_state = step  # Keep the last yielded values as the final state\n",
    "    msgs = step.get(\"messages\") or []\n",
    "    if not msgs:\n",
    "        continue\n",
    "    # Print any incremental message content if present\n",
    "    m = msgs[-1]  # Usually the most recent message\n",
    "    content = getattr(m, \"content\", \"\")\n",
    "    try:\n",
    "        m.pretty_print()\n",
    "    except Exception:\n",
    "        print(content if content else \"(no content chunk)\")\n",
    "\n",
    "print(\"\\n=== FINAL STATE SUMMARY ===\")\n",
    "def summarize_state(state: dict) -> str:\n",
    "    from langchain_core.messages import AIMessage\n",
    "    lines = []\n",
    "    for i, m in enumerate(state.get(\"messages\", [])):\n",
    "        role = getattr(m, \"type\", m.__class__.__name__)\n",
    "        tool_meta = f\" | tool_calls={len(m.tool_calls)}\" if isinstance(m, AIMessage) and getattr(m, \"tool_calls\", None) else \"\"\n",
    "        lines.append(f\"{i:02d}. {role}{tool_meta}\")\n",
    "    return \"\\n\".join(lines) if lines else \"(no messages)\"\n",
    "print(summarize_state(final_state or {}))\n",
    "\n",
    "# Extract final AI text (may be structured)\n",
    "from langchain_core.messages import AIMessage\n",
    "def get_final_ai_text(state: dict):\n",
    "    msgs = state.get(\"messages\", [])\n",
    "    for m in reversed(msgs):\n",
    "        if isinstance(m, AIMessage):\n",
    "            return m.content\n",
    "    return None\n",
    "\n",
    "final_ai_content = get_final_ai_text(final_state or {})  # could be str or structured list\n",
    "\n",
    "print(\"\\n=== FINAL (raw) ===\")\n",
    "print(final_ai_content if final_ai_content else \"(no final AI content)\")"
   ]
  },
  {
   "cell_type": "markdown",
   "id": "b933f70c-700d-4365-ae68-ed1cc7eea55b",
   "metadata": {},
   "source": [
    "## Normalize Final Content (If Structured)"
   ]
  },
  {
   "cell_type": "code",
   "execution_count": 62,
   "id": "8ad806bd-b3f2-4546-aa43-627cca5cefdb",
   "metadata": {},
   "outputs": [
    {
     "name": "stdout",
     "output_type": "stream",
     "text": [
      "\n",
      "=== FINAL (normalized) ===\n",
      "Here are 2-3 recent AI methods improving ER triage, along with short summaries and links for further reading:\n",
      "\n",
      "1. **Machine Learning (ML) and Natural Language Processing (NLP)**\n",
      "   - **Summary**: Studies suggest that Machine Learning (ML) and Natural Language Processing (NLP) could enhance triage accuracy and consistency by analyzing vast amounts of patient data quickly and accurately. These technologies help in improving decision-making processes in emergency departments.\n",
      "   - **Link**: [Improving triage performance in emergency departments](https://pmc.ncbi.nlm.nih.gov/articles/PMC11575054/)\n",
      "\n",
      "2. **AI-driven Triage Systems**\n",
      "   - **Summary**: AI-driven triage systems have the potential to transform emergency department (ED) operations by enhancing efficiency, improving patient outcomes, and supporting healthcare professionals in high-pressure environments. These systems optimize resource allocation, reduce wait times, and improve patient prioritization.\n",
      "   - **Link**: [AI-driven triage in emergency departments: A review of benefits](https://pubmed.ncbi.nlm.nih.gov/39965433/)\n",
      "\n",
      "3. **Machine Learning in Telemedicine for E-Triage**\n",
      "   - **Summary**: Machine learning methods, including specific algorithms or hybrid approaches, are employed to enhance the performance of E-triage and priority-based systems within telemedicine. These systems improve the efficiency and speed of triage processes in crowded and fast-paced emergency departments.\n",
      "   - **Link**: [Use of Machine Learning in Hospital Emergency Care for](https://laccei.org/LACCEI2024-CostaRica/papers/Contribution_1130_final_a.pdf)\n",
      "\n",
      "These methods represent significant advancements in the field of emergency triage, leveraging AI to improve patient care and operational efficiency.\n"
     ]
    }
   ],
   "source": [
    "# Description: Flatten structured content (list of {type:'text'|'reference'}) into readable text.\n",
    "\n",
    "from typing import Any, List, Dict\n",
    "\n",
    "def normalize_agent_content(block: Any) -> str:\n",
    "    \"\"\"Flatten structured content into a readable string.\"\"\"\n",
    "    if isinstance(block, list):\n",
    "        parts: List[str] = []\n",
    "        for item in block:\n",
    "            if isinstance(item, dict) and \"type\" in item:\n",
    "                if item[\"type\"] == \"text\":\n",
    "                    parts.append(item.get(\"text\", \"\"))\n",
    "                elif item[\"type\"] == \"reference\":\n",
    "                    ids = item.get(\"reference_ids\") or []\n",
    "                    if ids:\n",
    "                        parts.append(\" \" + \" \".join(f\"[{rid}]\" for rid in ids))\n",
    "            else:\n",
    "                parts.append(str(item))\n",
    "        return \"\".join(parts).strip()\n",
    "    return str(block) if block is not None else \"\"\n",
    "\n",
    "print(\"\\n=== FINAL (normalized) ===\")\n",
    "print(normalize_agent_content(final_ai_content))"
   ]
  },
  {
   "cell_type": "markdown",
   "id": "822a9eb9-973c-4847-a3ab-c7fcf7e83924",
   "metadata": {},
   "source": [
    "## Module Deliverables Summary"
   ]
  },
  {
   "cell_type": "code",
   "execution_count": 63,
   "id": "59591a65-87c1-49b0-ade5-a11285360fcf",
   "metadata": {},
   "outputs": [
    {
     "data": {
      "text/html": [
       "<table style='border-collapse: collapse; width: 50%;'><tr><th style='border: 1px solid black; padding: 8px;'>Exercise</th><th style='border: 1px solid black; padding: 8px;'>Status</th></tr><tr><td style='border: 1px solid black; padding: 8px;'>Exercise 1</td><td style='border: 1px solid black; padding: 8px;'>✅ Done</td></tr><tr><td style='border: 1px solid black; padding: 8px;'>Exercise 2</td><td style='border: 1px solid black; padding: 8px;'>✅ Done</td></tr><tr><td style='border: 1px solid black; padding: 8px;'>Exercise 3</td><td style='border: 1px solid black; padding: 8px;'>✅ Done</td></tr><tr><td style='border: 1px solid black; padding: 8px;'>Exercise 4</td><td style='border: 1px solid black; padding: 8px;'>✅ Done</td></tr><tr><td style='border: 1px solid black; padding: 8px;'>Exercise 5</td><td style='border: 1px solid black; padding: 8px;'>✅ Done</td></tr><tr><td style='border: 1px solid black; padding: 8px;'>Exercise 6 (optional)</td><td style='border: 1px solid black; padding: 8px;'>✅ Done</td></tr><tr><td style='border: 1px solid black; padding: 8px;'>Exercise 7</td><td style='border: 1px solid black; padding: 8px;'>✅ Done</td></tr></table>"
      ],
      "text/plain": [
       "<IPython.core.display.HTML object>"
      ]
     },
     "metadata": {},
     "output_type": "display_data"
    }
   ],
   "source": [
    "# Description: Quick check of which exercises have been completed successfully.\n",
    "\n",
    "from IPython.display import display, HTML\n",
    "\n",
    "# Liste des exercices avec leur statut\n",
    "deliverables = [\n",
    "    {\"Exercise\": \"Exercise 1\", \"Status\": \"✅ Done\"},\n",
    "    {\"Exercise\": \"Exercise 2\", \"Status\": \"✅ Done\"},\n",
    "    {\"Exercise\": \"Exercise 3\", \"Status\": \"✅ Done\"},\n",
    "    {\"Exercise\": \"Exercise 4\", \"Status\": \"✅ Done\"},\n",
    "    {\"Exercise\": \"Exercise 5\", \"Status\": \"✅ Done\"},\n",
    "    {\"Exercise\": \"Exercise 6 (optional)\", \"Status\": \"✅ Done\"},\n",
    "    {\"Exercise\": \"Exercise 7\", \"Status\": \"✅ Done\"},\n",
    "]\n",
    "\n",
    "# Création d'un tableau HTML simple\n",
    "html_table = \"<table style='border-collapse: collapse; width: 50%;'>\"\n",
    "html_table += \"<tr><th style='border: 1px solid black; padding: 8px;'>Exercise</th><th style='border: 1px solid black; padding: 8px;'>Status</th></tr>\"\n",
    "for row in deliverables:\n",
    "    html_table += f\"<tr><td style='border: 1px solid black; padding: 8px;'>{row['Exercise']}</td><td style='border: 1px solid black; padding: 8px;'>{row['Status']}</td></tr>\"\n",
    "html_table += \"</table>\"\n",
    "\n",
    "display(HTML(html_table))"
   ]
  },
  {
   "cell_type": "markdown",
   "id": "8b14b001-c63f-4708-8920-bac5c38d030a",
   "metadata": {},
   "source": [
    "## 📌 Module Conclusion\n",
    "\n",
    "Throughout these exercises, I successfully explored multiple aspects of integrating AI models, tools, and agents using LangChain, LangGraph, and external APIs.  \n",
    "Here are the main takeaways from each step:\n",
    "\n",
    "1. **Environment Setup & Package Validation**  \n",
    "   - Installed and verified required packages (`langchain`, `langgraph`, `tavily-python`, `langchain-mistralai`, `python-dotenv`).\n",
    "   - Successfully configured API keys for LangSmith, Tavily, and Mistral.\n",
    "\n",
    "2. **LangChain Basic Chat**  \n",
    "   - Created a simple chat interface with Mistral AI.\n",
    "   - Confirmed that the model responds appropriately to general user queries.\n",
    "\n",
    "3. **Tool Integration**  \n",
    "   - Linked Tavily search API to the chat model.\n",
    "   - Verified correct behavior: the model decides when to call a tool vs. when to answer directly.\n",
    "\n",
    "4. **Mini Pipeline**  \n",
    "   - Built a minimal workflow where the LLM triggers a web search tool, retrieves information, and formats the response.\n",
    "\n",
    "5. **Agent Creation with LangGraph**  \n",
    "   - Created a reactive agent using `create_react_agent`.\n",
    "   - Tested tool invocation within an agent context for multi-step reasoning.\n",
    "\n",
    "6. **Optional – Citation & URL Extraction**  \n",
    "   - Implemented logic to detect URLs in final AI outputs for reference purposes.\n",
    "   - Confirmed ability to handle both presence and absence of URLs.\n",
    "\n",
    "7. **State Tracking & Final Output Capture**  \n",
    "   - Captured AI conversation states, tool calls, and final normalized outputs.\n",
    "   - Validated complete end-to-end functionality of the pipeline.\n",
    "\n",
    "---\n",
    "\n",
    "### 🎯 Overall Outcome\n",
    "This module provided hands-on experience in:\n",
    "- Connecting multiple APIs within an AI workflow.\n",
    "- Building agents capable of reasoning and deciding when to use external tools.\n",
    "- Managing conversation state and structured outputs.\n",
    "\n",
    "I am now ready to **adapt this workflow to custom projects** — for example, building a domain-specific chatbot (such as for autism support) that can search, retrieve, and respond with relevant, accurate information.\n"
   ]
  }
 ],
 "metadata": {
  "kernelspec": {
   "display_name": "Python (langchain-xp)",
   "language": "python",
   "name": "langchain-xp"
  },
  "language_info": {
   "codemirror_mode": {
    "name": "ipython",
    "version": 3
   },
   "file_extension": ".py",
   "mimetype": "text/x-python",
   "name": "python",
   "nbconvert_exporter": "python",
   "pygments_lexer": "ipython3",
   "version": "3.10.0"
  }
 },
 "nbformat": 4,
 "nbformat_minor": 5
}
