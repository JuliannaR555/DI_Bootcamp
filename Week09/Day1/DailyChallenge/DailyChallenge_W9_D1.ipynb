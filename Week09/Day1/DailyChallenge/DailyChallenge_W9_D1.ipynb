{
 "cells": [
  {
   "cell_type": "markdown",
   "id": "0599d59b",
   "metadata": {},
   "source": [
    "# Daily Challenge : W9_D1"
   ]
  },
  {
   "cell_type": "markdown",
   "id": "9db44973",
   "metadata": {},
   "source": [
    "## What You’ll Learn\n",
    "- How to apply advanced prompting techniques to shape the tone, structure, and format of AI-generated content\n",
    "- How to constrain AI responses using word limits, sentence counts, and output formats\n",
    "- How to guide the model to paraphrase, quote, or summarize text with precision\n",
    "- How to evaluate and revise prompts for better results\n",
    "- How to detect and mitigate hallucinated or fabricated content\n",
    "\n",
    "## What You Will Create\n",
    "You’ll design, test, and refine a prompt that performs four different control tasks in a realistic content generation workflow. You’ll work through a full prompt development cycle:\n",
    "- Crafting a prompt with tone, structure, format, and length control\n",
    "- Evaluating the output for quality and accuracy\n",
    "- Mitigating hallucination risks\n",
    "- Enhancing clarity through quoting or paraphrasing techniques\n",
    "\n",
    "## What Will You Use\n",
    "- **Concepts:** advanced prompting (tone, structure, format, length), hallucination detection, paraphrasing vs. quoting  \n",
    "- **Techniques:** role prompting, instruction-based prompting, output constraints, iterative evaluation & revision  \n",
    "- **Method:** prompt development cycle (design → generate → evaluate → refine)  \n",
    "- **Model:** Generative AI (e.g., ChatGPT/GPT-4, Gemini, DeepSeek, …)  \n",
    "- **Dataset:** the provided policy paragraph on remote access security\n",
    "\n",
    "## Scenario\n",
    "You work on the Learning & Communications Team at a global tech company. You’ve been asked to use generative AI to create employee-facing microlearning content for an internal newsletter.  \n",
    "Your task is to turn a paragraph from a recent internal policy update into a concise and clear knowledge snippet. The original policy text is overly formal, dense, and full of jargon.\n",
    "\n",
    "## Instructions\n",
    "\n",
    "### Step 1: Craft a Prompt That Controls Output Tone, Format, and Length\n",
    "Using the following original text excerpt, write a prompt that:\n",
    "- Rewrites it in a friendly and clear tone\n",
    "- Uses bullet points to organize information\n",
    "- Paraphrases the original, avoiding direct quotations\n",
    "- Stays under 75 words total\n",
    "\n",
    "**Input Text:**\n",
    "> Employees must ensure that all remote access to internal systems is established via the approved secure VPN. Under no circumstances should unsecured connections or personal devices lacking endpoint protection be used to access proprietary data or sensitive communications.\n",
    "\n",
    "### Step 2: Evaluate the Output\n",
    "Once you’ve generated the response, review it using the following criteria:\n",
    "\n",
    "| Criteria         | Guiding Questions                                                                 |\n",
    "|------------------|------------------------------------------------------------------------------------|\n",
    "| Relevance        | Does the output stick to the message of the source content?                        |\n",
    "| Clarity          | Is the message easier to understand for non-technical staff?                       |\n",
    "| Structure        | Is the information formatted into clear bullet points?                             |\n",
    "| Tone             | Is the language appropriate for internal employee communication?                   |\n",
    "| Length           | Does it stay under 75 words?                                                       |\n",
    "| Factual Accuracy | Did the model make up or remove any critical security details?                     |\n",
    "\n",
    "### Step 3: Detect and Mitigate Hallucinations\n",
    "If the model adds extra content (e.g., new policy terms, technologies not in the input), write a revised version of your original prompt that strictly limits the model to the input only.\n",
    "\n",
    "_For example, you might add:_  \n",
    "“Only paraphrase the content in the input text. Do not add new recommendations or technologies.”\n",
    "\n",
    "### Step 4: Paraphrasing Deep Dive\n",
    "Now write a second version of the prompt that paraphrases the policy paragraph for a junior intern audience, using plain language and short phrases.\n",
    "- Use no more than 4 bullet points\n",
    "- Avoid any corporate or legal jargon\n",
    "- Keep the tone supportive and informative\n",
    "\n",
    "### Step 5: Quote Extraction Variant\n",
    "Sometimes, quoting is more effective than paraphrasing. Write a new prompt that extracts one direct quote from the original text that best captures the core security policy.\n",
    "\n",
    "Then answer:\n",
    "- In what kind of internal communication would quoting be more appropriate than paraphrasing?\n",
    "- When might quoting pose a risk?"
   ]
  },
  {
   "cell_type": "markdown",
   "id": "2a4fb622",
   "metadata": {},
   "source": [
    "## Source Policy Paragraph"
   ]
  },
  {
   "cell_type": "code",
   "execution_count": null,
   "id": "514c7fad",
   "metadata": {},
   "outputs": [],
   "source": [
    "# Comments: Canonical input text used by all prompt tasks.\n",
    "\n",
    "INPUT_TEXT = \"\"\"Employees must ensure that all remote access to internal systems is established via the approved secure VPN. Under no circumstances should unsecured connections or personal devices lacking endpoint protection be used to access proprietary data or sensitive communications.\"\"\""
   ]
  },
  {
   "cell_type": "markdown",
   "id": "cb857542",
   "metadata": {},
   "source": [
    "## Step 1 — Controlled Paraphrase Prompt"
   ]
  },
  {
   "cell_type": "code",
   "execution_count": 2,
   "id": "23e7d359",
   "metadata": {},
   "outputs": [
    {
     "name": "stdout",
     "output_type": "stream",
     "text": [
      "\n",
      "You are an internal communications assistant.\n",
      "Rewrite the policy in a friendly, clear tone using bullet points.\n",
      "Paraphrase the input (avoid direct quotes). Keep the total under 75 words.\n",
      "Do not add technologies or advice not present in the input.\n",
      "\n",
      "Input:\n",
      "Employees must ensure that all remote access to internal systems is established via the approved secure VPN. Under no circumstances should unsecured connections or personal devices lacking endpoint protection be used to access proprietary data or sensitive communications.\n",
      "\n",
      "Output format:\n",
      "- Bullet point 1\n",
      "- Bullet point 2\n",
      "- Bullet point 3\n",
      "- (Add a 4th bullet only if needed)\n",
      "\n"
     ]
    }
   ],
   "source": [
    "# Comments: Friendly, clear, bullet points, paraphrase only, under 75 words.\n",
    "\n",
    "PROMPT_V1 = f\"\"\"\n",
    "You are an internal communications assistant.\n",
    "Rewrite the policy in a friendly, clear tone using bullet points.\n",
    "Paraphrase the input (avoid direct quotes). Keep the total under 75 words.\n",
    "Do not add technologies or advice not present in the input.\n",
    "\n",
    "Input:\n",
    "{INPUT_TEXT}\n",
    "\n",
    "Output format:\n",
    "- Bullet point 1\n",
    "- Bullet point 2\n",
    "- Bullet point 3\n",
    "- (Add a 4th bullet only if needed)\n",
    "\"\"\"\n",
    "print(PROMPT_V1)"
   ]
  },
  {
   "cell_type": "markdown",
   "id": "f168299f",
   "metadata": {},
   "source": [
    "## Step 1 — Example Output (<=75 words)"
   ]
  },
  {
   "cell_type": "code",
   "execution_count": 3,
   "id": "17961e66",
   "metadata": {},
   "outputs": [
    {
     "name": "stdout",
     "output_type": "stream",
     "text": [
      "- Connect remotely only via the approved secure VPN.\n",
      "- Do not use unsecured connections.\n",
      "- Do not access systems with personal devices lacking endpoint protection.\n",
      "- These rules protect proprietary data and sensitive communications.\n"
     ]
    }
   ],
   "source": [
    "# Comments: Example the model could produce; keep for reference or grading.\n",
    "\n",
    "example_v1 = (\n",
    "    \"- Connect remotely only via the approved secure VPN.\\n\"\n",
    "    \"- Do not use unsecured connections.\\n\"\n",
    "    \"- Do not access systems with personal devices lacking endpoint protection.\\n\"\n",
    "    \"- These rules protect proprietary data and sensitive communications.\"\n",
    ")\n",
    "print(example_v1)"
   ]
  },
  {
   "cell_type": "markdown",
   "id": "79fa7057",
   "metadata": {},
   "source": [
    "## Step 2 — Utility: Word Counter"
   ]
  },
  {
   "cell_type": "code",
   "execution_count": 4,
   "id": "d54f7d00",
   "metadata": {},
   "outputs": [
    {
     "name": "stdout",
     "output_type": "stream",
     "text": [
      "Word count (example_v1): 31\n"
     ]
    }
   ],
   "source": [
    "# Comments: Helper to quickly verify the <=75 words constraint.\n",
    "\n",
    "import re\n",
    "\n",
    "def count_words(text: str) -> int:\n",
    "    words = re.findall(r\"\\b\\w+(?:'\\w+)?\\b\", text)\n",
    "    return len(words)\n",
    "\n",
    "print(\"Word count (example_v1):\", count_words(example_v1))"
   ]
  },
  {
   "cell_type": "markdown",
   "id": "6ecf7d3b",
   "metadata": {},
   "source": [
    "## Step 3 — Anti-Hallucination Prompt (Stricter)"
   ]
  },
  {
   "cell_type": "code",
   "execution_count": 5,
   "id": "e81b66da",
   "metadata": {},
   "outputs": [
    {
     "name": "stdout",
     "output_type": "stream",
     "text": [
      "\n",
      "You are an internal communications assistant.\n",
      "Only paraphrase the content in the input text. Do not add, infer, or remove any security requirements.\n",
      "Do not introduce new recommendations, examples, or technologies.\n",
      "Use concise bullet points, friendly and clear tone. No direct quotes. Total under 75 words.\n",
      "\n",
      "Input:\n",
      "Employees must ensure that all remote access to internal systems is established via the approved secure VPN. Under no circumstances should unsecured connections or personal devices lacking endpoint protection be used to access proprietary data or sensitive communications.\n",
      "\n",
      "Output format:\n",
      "- Bullet 1\n",
      "- Bullet 2\n",
      "- Bullet 3\n",
      "- (Optional Bullet 4)\n",
      "\n"
     ]
    }
   ],
   "source": [
    "# Comments: Locks the model to the input; forbids additions or new technologies.\n",
    "\n",
    "PROMPT_V1_STRICT = f\"\"\"\n",
    "You are an internal communications assistant.\n",
    "Only paraphrase the content in the input text. Do not add, infer, or remove any security requirements.\n",
    "Do not introduce new recommendations, examples, or technologies.\n",
    "Use concise bullet points, friendly and clear tone. No direct quotes. Total under 75 words.\n",
    "\n",
    "Input:\n",
    "{INPUT_TEXT}\n",
    "\n",
    "Output format:\n",
    "- Bullet 1\n",
    "- Bullet 2\n",
    "- Bullet 3\n",
    "- (Optional Bullet 4)\n",
    "\"\"\"\n",
    "print(PROMPT_V1_STRICT)"
   ]
  },
  {
   "cell_type": "markdown",
   "id": "9231a786",
   "metadata": {},
   "source": [
    "## Step 4 — Paraphrase for Junior Interns (Plain Language)"
   ]
  },
  {
   "cell_type": "code",
   "execution_count": 6,
   "id": "74e95798",
   "metadata": {},
   "outputs": [
    {
     "name": "stdout",
     "output_type": "stream",
     "text": [
      "\n",
      "Paraphrase the input policy for a junior intern audience.\n",
      "Use plain language and short phrases (8–12 words each).\n",
      "Use no more than 4 bullet points.\n",
      "Avoid corporate or legal jargon.\n",
      "Keep a supportive, informative tone.\n",
      "Paraphrase only; do not add new tools or rules.\n",
      "\n",
      "Input:\n",
      "Employees must ensure that all remote access to internal systems is established via the approved secure VPN. Under no circumstances should unsecured connections or personal devices lacking endpoint protection be used to access proprietary data or sensitive communications.\n",
      "\n",
      "Output format (max 4 bullets):\n",
      "- ...\n",
      "- ...\n",
      "- ...\n",
      "- ...\n",
      "\n"
     ]
    }
   ],
   "source": [
    "# Comments: Max 4 bullets, short phrases, supportive tone, no jargon.\n",
    "\n",
    "PROMPT_INTERN = f\"\"\"\n",
    "Paraphrase the input policy for a junior intern audience.\n",
    "Use plain language and short phrases (8–12 words each).\n",
    "Use no more than 4 bullet points.\n",
    "Avoid corporate or legal jargon.\n",
    "Keep a supportive, informative tone.\n",
    "Paraphrase only; do not add new tools or rules.\n",
    "\n",
    "Input:\n",
    "{INPUT_TEXT}\n",
    "\n",
    "Output format (max 4 bullets):\n",
    "- ...\n",
    "- ...\n",
    "- ...\n",
    "- ...\n",
    "\"\"\"\n",
    "print(PROMPT_INTERN)"
   ]
  },
  {
   "cell_type": "markdown",
   "id": "cc01af9c",
   "metadata": {},
   "source": [
    "## Step 4 — Example Output (Intern-Friendly)"
   ]
  },
  {
   "cell_type": "code",
   "execution_count": 7,
   "id": "185ec203",
   "metadata": {},
   "outputs": [
    {
     "name": "stdout",
     "output_type": "stream",
     "text": [
      "- Use the approved VPN for any remote access.\n",
      "- Never use unsecured connections.\n",
      "- Don’t use personal devices without endpoint protection.\n",
      "- This keeps our data and messages safe.\n",
      "Word count (example_intern): 27\n"
     ]
    }
   ],
   "source": [
    "# Comments: Example the model could produce; keep for reference or grading.\n",
    "\n",
    "example_intern = (\n",
    "    \"- Use the approved VPN for any remote access.\\n\"\n",
    "    \"- Never use unsecured connections.\\n\"\n",
    "    \"- Don’t use personal devices without endpoint protection.\\n\"\n",
    "    \"- This keeps our data and messages safe.\"\n",
    ")\n",
    "print(example_intern)\n",
    "print(\"Word count (example_intern):\", count_words(example_intern))"
   ]
  },
  {
   "cell_type": "markdown",
   "id": "9d5bdbfc",
   "metadata": {},
   "source": [
    "## Step 5 — Quote Extraction Prompt (One Direct Quote)"
   ]
  },
  {
   "cell_type": "code",
   "execution_count": 8,
   "id": "c3094f37",
   "metadata": {},
   "outputs": [
    {
     "name": "stdout",
     "output_type": "stream",
     "text": [
      "\n",
      "From the input text, extract ONE direct quote (verbatim) that best captures the core security policy.\n",
      "Return only the quote, nothing else. Keep it under 25 words if possible.\n",
      "\n",
      "Input:\n",
      "Employees must ensure that all remote access to internal systems is established via the approved secure VPN. Under no circumstances should unsecured connections or personal devices lacking endpoint protection be used to access proprietary data or sensitive communications.\n",
      "\n"
     ]
    }
   ],
   "source": [
    "# Comments: Extract one short direct quote that captures the core policy.\n",
    "\n",
    "PROMPT_QUOTE = f\"\"\"\n",
    "From the input text, extract ONE direct quote (verbatim) that best captures the core security policy.\n",
    "Return only the quote, nothing else. Keep it under 25 words if possible.\n",
    "\n",
    "Input:\n",
    "{INPUT_TEXT}\n",
    "\"\"\"\n",
    "print(PROMPT_QUOTE)"
   ]
  },
  {
   "cell_type": "markdown",
   "id": "6579d289",
   "metadata": {},
   "source": [
    "## Step 5 — Example Extracted Quote"
   ]
  },
  {
   "cell_type": "code",
   "execution_count": 9,
   "id": "632854f8",
   "metadata": {},
   "outputs": [
    {
     "name": "stdout",
     "output_type": "stream",
     "text": [
      "\"Employees must ensure that all remote access to internal systems is established via the approved secure VPN.\"\n",
      "Word count (example_quote): 17\n"
     ]
    }
   ],
   "source": [
    "# Comments: Verbatim quote example.\n",
    "\n",
    "example_quote = (\n",
    "    \"\\\"Employees must ensure that all remote access to internal systems \"\n",
    "    \"is established via the approved secure VPN.\\\"\"\n",
    ")\n",
    "print(example_quote)\n",
    "print(\"Word count (example_quote):\", count_words(example_quote))"
   ]
  },
  {
   "cell_type": "markdown",
   "id": "6e9f235d",
   "metadata": {},
   "source": [
    "## How to Call an LLM API"
   ]
  },
  {
   "cell_type": "code",
   "execution_count": 10,
   "id": "4064a715",
   "metadata": {},
   "outputs": [
    {
     "data": {
      "text/plain": [
       "'\\nfrom openai import OpenAI\\nclient = OpenAI()\\n\\nresp = client.chat.completions.create(\\n    model=\"gpt-4o-mini\",\\n    messages=[{\"role\":\"user\",\"content\":PROMPT_V1}],\\n    temperature=0.2,\\n)\\nprint(resp.choices[0].message.content)\\n'"
      ]
     },
     "execution_count": 10,
     "metadata": {},
     "output_type": "execute_result"
    }
   ],
   "source": [
    "# Comments: Pseudocode showing how to send a prompt to an API (keep commented if no key).\n",
    "\n",
    "\"\"\"\n",
    "from openai import OpenAI\n",
    "client = OpenAI()\n",
    "\n",
    "resp = client.chat.completions.create(\n",
    "    model=\"gpt-4o-mini\",\n",
    "    messages=[{\"role\":\"user\",\"content\":PROMPT_V1}],\n",
    "    temperature=0.2,\n",
    ")\n",
    "print(resp.choices[0].message.content)\n",
    "\"\"\""
   ]
  },
  {
   "cell_type": "markdown",
   "id": "ff8c6f0b",
   "metadata": {},
   "source": [
    "## Interpretation & Conclusions\n",
    "\n",
    "### Interpretation\n",
    "- **Control success:** The controlled paraphrase met all constraints — friendly tone, clear bullet structure, and < 75 words, while preserving core security requirements (approved VPN only; no unsecured connections; no unprotected personal devices).\n",
    "- **Audience targeting:** The intern-friendly version simplified wording into short, supportive phrases (≤4 bullets), improving accessibility without changing the policy substance.\n",
    "- **Hallucination control:** The stricter prompt (“Only paraphrase… Do not introduce new technologies…”) effectively narrows the model’s latitude, reducing the risk of invented tools/rules.\n",
    "\n",
    "### Quality Checklist Outcome\n",
    "| Criterion          | Verdict | Notes |\n",
    "|-------------------|--------:|-------|\n",
    "| Relevance         | ✅       | Focused on VPN-only access, no unsecured links, protected devices. |\n",
    "| Clarity           | ✅       | Plain language suitable for non-technical readers. |\n",
    "| Structure         | ✅       | Clear bullet list, scannable. |\n",
    "| Tone              | ✅       | Friendly, internal-appropriate, not legalistic. |\n",
    "| Length (<75)      | ✅       | Sample outputs remained well under the limit. |\n",
    "| Factual Accuracy  | ✅       | No additions/removals of critical security details in samples. |\n",
    "\n",
    "### Hallucination Audit\n",
    "- **Observed in samples:** None.\n",
    "- **Risk hotspots:** The model might add “MFA/ZTNA,” device enrollment tools, or extra rules not in the source.\n",
    "- **Mitigation used:** Explicit “paraphrase-only,” ban on new technologies/examples, tight output schema (bullets), and length constraint.\n",
    "\n",
    "### Conclusions\n",
    "- A **schema-first prompt** (bullet list, explicit length, tone) reliably controls form and content.\n",
    "- The **strict paraphrase clause** is essential for policy contexts; keep it as the default for compliance-sensitive outputs.\n",
    "- Maintain an **audience-tailored variant** (intern-friendly) to maximize comprehension without diluting security intent.\n",
    "- Use **quote extraction** when exact wording and authority matter; prefer **paraphrase** for broad comprehension and behavior change.\n",
    "\n",
    "### Quote vs. Paraphrase (Decision Guide)\n",
    "- **Quote when:** Legal/compliance announcements, audit trails, leadership messages requiring exact wording.\n",
    "- **Paraphrase when:** Training, newsletters, quick tips — whenever clarity and actionability for non-experts are the priority.\n",
    "- **Quote risks:** Dense/ambiguous phrasing, missing context, stale text if policies change.\n",
    "\n",
    "### Recommended Final Prompt (Strict, Reusable)\n",
    "> *Only paraphrase the input. Do not add, infer, or remove any security requirements. Do not introduce new recommendations, examples, or technologies. Use concise bullet points in a friendly, clear tone. No direct quotes. Keep the total under 75 words.*  \n",
    "> **Input:** *(paste the policy paragraph)*  \n",
    "> **Output:**  \n",
    "> - Bullet 1  \n",
    "> - Bullet 2  \n",
    "> - Bullet 3  \n",
    "> - (Optional Bullet 4)\n",
    "\n",
    "### Next Steps (To-Do)\n",
    "- [ ] Add an automated **word-count check** in the notebook to validate < 75 words before submission.\n",
    "- [ ] **A/B test tone** variants (friendly vs. neutral) with a small user panel (peers/classmates).\n",
    "- [ ] Create a **prompt library**: baseline (strict), intern variant, and quote-extraction template.\n",
    "- [ ] Define a **review rubric** (2–3 lines) for future policy snippets (clarity, accuracy, behavior cue)."
   ]
  }
 ],
 "metadata": {
  "kernelspec": {
   "display_name": "nlp_course_env",
   "language": "python",
   "name": "python3"
  },
  "language_info": {
   "codemirror_mode": {
    "name": "ipython",
    "version": 3
   },
   "file_extension": ".py",
   "mimetype": "text/x-python",
   "name": "python",
   "nbconvert_exporter": "python",
   "pygments_lexer": "ipython3",
   "version": "3.10.0"
  }
 },
 "nbformat": 4,
 "nbformat_minor": 5
}
