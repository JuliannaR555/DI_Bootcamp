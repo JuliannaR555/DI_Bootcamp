{
 "cells": [
  {
   "cell_type": "markdown",
   "metadata": {
    "id": "2R4ql0QKRo8A"
   },
   "source": [
    "# Exercises XP Gold: W4_D4"
   ]
  },
  {
   "cell_type": "markdown",
   "metadata": {
    "id": "SVjK2TzRETZv"
   },
   "source": [
    " # Society's assumptions aren't always true... aren't they?\n",
    "\n",
    "\n",
    "\n",
    "\n",
    "We begin by loading the libraries needed for this project."
   ]
  },
  {
   "cell_type": "code",
   "execution_count": 1,
   "metadata": {
    "_cell_guid": "6c864241-dd48-4f48-a981-f143fd9acc67",
    "_uuid": "618e3aef-7319-4595-bace-a34c9fd551d8",
    "id": "pPPCIKNQETZx"
   },
   "outputs": [
    {
     "name": "stdout",
     "output_type": "stream",
     "text": [
      "Warning: The package 'devtools' is not installed. Please install it manually.\n",
      "Warning: The package 'tseries' is not installed. Please install it manually.\n",
      "Warning: The package 'car' is not installed. Please install it manually.\n",
      "Warning: The package 'caret' is not installed. Please install it manually.\n",
      "Warning: The package 'lmtest' is not installed. Please install it manually.\n",
      "Warning: The package 'rstatix' is not installed. Please install it manually.\n",
      "Warning: The package 'onewaytests' is not installed. Please install it manually.\n",
      "Warning: The package 'lattice' is not installed. Please install it manually.\n",
      "Warning: The package 'multcompview' is not installed. Please install it manually.\n",
      "Warning: The package 'viridis' is not installed. Please install it manually.\n",
      "Warning: The package 'gridextra' is not installed. Please install it manually.\n",
      "Warning: The package 'gvlma' is not installed. Please install it manually.\n",
      "Warning: The package 'ggpubr' is not installed. Please install it manually.\n"
     ]
    }
   ],
   "source": [
    "import importlib\n",
    "import sys\n",
    "import matplotlib\n",
    "\n",
    "\n",
    "def install_and_import(packages):\n",
    "    \"\"\"\n",
    "    Attempts to import packages. If a package is missing, it prints a message instead of installing.\n",
    "    \"\"\"\n",
    "    for package in packages:\n",
    "        try:\n",
    "            globals()[package] = importlib.import_module(package)\n",
    "        except ImportError:\n",
    "            print(f\"Warning: The package '{package}' is not installed. Please install it manually.\")\n",
    "\n",
    "\n",
    "packages = [\n",
    "    \"devtools\", \"pandas\", \"scipy\", \"statsmodels\", \"sklearn\", \"matplotlib\", \"seaborn\",\n",
    "    \"tseries\", \"car\", \"caret\", \"lmtest\", \"rstatix\", \"onewaytests\", \"lattice\", \"multcompview\",\n",
    "    \"viridis\", \"gridextra\", \"gvlma\", \"ggpubr\"\n",
    "]\n",
    "\n",
    "install_and_import(packages)\n",
    "\n",
    "# Now all available libraries are imported"
   ]
  },
  {
   "cell_type": "markdown",
   "metadata": {
    "id": "6Gq5AJwKETZx"
   },
   "source": [
    "Now we can load the dataset"
   ]
  },
  {
   "cell_type": "code",
   "execution_count": 2,
   "metadata": {
    "id": "Zv5sfT1OETZy"
   },
   "outputs": [
    {
     "data": {
      "text/html": [
       "<div>\n",
       "<style scoped>\n",
       "    .dataframe tbody tr th:only-of-type {\n",
       "        vertical-align: middle;\n",
       "    }\n",
       "\n",
       "    .dataframe tbody tr th {\n",
       "        vertical-align: top;\n",
       "    }\n",
       "\n",
       "    .dataframe thead th {\n",
       "        text-align: right;\n",
       "    }\n",
       "</style>\n",
       "<table border=\"1\" class=\"dataframe\">\n",
       "  <thead>\n",
       "    <tr style=\"text-align: right;\">\n",
       "      <th></th>\n",
       "      <th>gender</th>\n",
       "      <th>math</th>\n",
       "      <th>reading</th>\n",
       "      <th>writing</th>\n",
       "      <th>lunch</th>\n",
       "      <th>test_prep</th>\n",
       "    </tr>\n",
       "  </thead>\n",
       "  <tbody>\n",
       "    <tr>\n",
       "      <th>0</th>\n",
       "      <td>female</td>\n",
       "      <td>72</td>\n",
       "      <td>72</td>\n",
       "      <td>74</td>\n",
       "      <td>standard</td>\n",
       "      <td>none</td>\n",
       "    </tr>\n",
       "    <tr>\n",
       "      <th>1</th>\n",
       "      <td>female</td>\n",
       "      <td>69</td>\n",
       "      <td>90</td>\n",
       "      <td>88</td>\n",
       "      <td>standard</td>\n",
       "      <td>completed</td>\n",
       "    </tr>\n",
       "    <tr>\n",
       "      <th>2</th>\n",
       "      <td>female</td>\n",
       "      <td>90</td>\n",
       "      <td>95</td>\n",
       "      <td>93</td>\n",
       "      <td>standard</td>\n",
       "      <td>none</td>\n",
       "    </tr>\n",
       "    <tr>\n",
       "      <th>3</th>\n",
       "      <td>male</td>\n",
       "      <td>47</td>\n",
       "      <td>57</td>\n",
       "      <td>44</td>\n",
       "      <td>free/reduced</td>\n",
       "      <td>none</td>\n",
       "    </tr>\n",
       "    <tr>\n",
       "      <th>4</th>\n",
       "      <td>male</td>\n",
       "      <td>76</td>\n",
       "      <td>78</td>\n",
       "      <td>75</td>\n",
       "      <td>standard</td>\n",
       "      <td>none</td>\n",
       "    </tr>\n",
       "  </tbody>\n",
       "</table>\n",
       "</div>"
      ],
      "text/plain": [
       "   gender  math  reading  writing         lunch  test_prep\n",
       "0  female    72       72       74      standard       none\n",
       "1  female    69       90       88      standard  completed\n",
       "2  female    90       95       93      standard       none\n",
       "3    male    47       57       44  free/reduced       none\n",
       "4    male    76       78       75      standard       none"
      ]
     },
     "execution_count": 2,
     "metadata": {},
     "output_type": "execute_result"
    }
   ],
   "source": [
    "# Load dataset and standardize column names\n",
    "import pandas as pd\n",
    "import numpy as np\n",
    "from pathlib import Path\n",
    "\n",
    "# Try common filenames and any file matching *students*performance*.csv\n",
    "possible_names = [\n",
    "    \"students_performance.csv\",\n",
    "    \"StudentsPerformance.csv\",\n",
    "    \"Students_Performance.csv\",\n",
    "    \"StudentsPerformance (1).csv\",\n",
    "]\n",
    "search_paths = [Path(p) for p in possible_names]\n",
    "search_paths += list(Path('.').glob('**/*students*performance*.csv'))\n",
    "\n",
    "csv_path = next((p for p in search_paths if p.exists()), None)\n",
    "if csv_path is None:\n",
    "    raise FileNotFoundError(\n",
    "        \"CSV not found. Please place 'students_performance.csv' (or 'StudentsPerformance.csv') next to this notebook.\"\n",
    "    )\n",
    "\n",
    "# Load\n",
    "df_raw = pd.read_csv(csv_path)\n",
    "\n",
    "# Standardize column names to snake_case\n",
    "df_raw.columns = (\n",
    "    df_raw.columns\n",
    "        .str.strip()\n",
    "        .str.lower()\n",
    "        .str.replace(r'[^a-z0-9]+', '_', regex=True)\n",
    "        .str.strip('_')\n",
    ")\n",
    "\n",
    "# Resolve flexible column names across dataset variants\n",
    "aliases = {\n",
    "    \"gender\": [\"gender\", \"sex\"],\n",
    "    \"math\": [\"math\", \"math_score\", \"maths\", \"maths_score\"],\n",
    "    \"reading\": [\"reading\", \"reading_score\", \"read\", \"read_score\"],\n",
    "    \"writing\": [\"writing\", \"writing_score\", \"write\", \"write_score\"],\n",
    "    \"lunch\": [\"lunch\", \"lunch_status\", \"free_reduced_lunch\"],\n",
    "    \"test_prep\": [\"test_preparation_course\", \"test_prep\", \"test_preparation\"]\n",
    "}\n",
    "\n",
    "def resolve_col(df, candidates):\n",
    "    \"\"\"Return the first matching column name from candidates or raise a clear error.\"\"\"\n",
    "    for c in candidates:\n",
    "        if c in df.columns:\n",
    "            return c\n",
    "    raise KeyError(f\"None of these columns found: {candidates}\")\n",
    "\n",
    "gender_col  = resolve_col(df_raw, aliases[\"gender\"])\n",
    "math_col    = resolve_col(df_raw, aliases[\"math\"])\n",
    "reading_col = resolve_col(df_raw, aliases[\"reading\"])\n",
    "writing_col = resolve_col(df_raw, aliases[\"writing\"])\n",
    "\n",
    "# Optional covariates (keep if present)\n",
    "lunch_col   = next((c for c in aliases[\"lunch\"] if c in df_raw.columns), None)\n",
    "prep_col    = next((c for c in aliases[\"test_prep\"] if c in df_raw.columns), None)\n",
    "\n",
    "keep_cols = [gender_col, math_col, reading_col, writing_col]\n",
    "if lunch_col: keep_cols.append(lunch_col)\n",
    "if prep_col:  keep_cols.append(prep_col)\n",
    "\n",
    "df = df_raw[keep_cols].copy()\n",
    "df = df.rename(columns={\n",
    "    gender_col: \"gender\",\n",
    "    math_col: \"math\",\n",
    "    reading_col: \"reading\",\n",
    "    writing_col: \"writing\",\n",
    "    **({lunch_col: \"lunch\"} if lunch_col else {}),\n",
    "    **({prep_col: \"test_prep\"} if prep_col else {}),\n",
    "})\n",
    "\n",
    "# Basic sanity checks\n",
    "assert set([\"gender\",\"math\",\"reading\",\"writing\"]).issubset(df.columns), \"Missing core columns after renaming.\"\n",
    "df.head()"
   ]
  },
  {
   "cell_type": "markdown",
   "metadata": {
    "id": "j9Qn-RD9ETZy"
   },
   "source": [
    "### This dataset describes the students performances in three different tests:\n",
    "\n",
    "- **Math**\n",
    "\n",
    "- **Reading**\n",
    "\n",
    "- **Writing**\n",
    "\n",
    "### Through different variables:\n",
    "\n",
    "- **gender** : binary sex at birth for each individual\n",
    "\n",
    "- **race.ethnicity** : ethnicity group\n",
    "\n",
    "- **parental.level.of.education** : formal level of education achieved by the individual\n",
    "\n",
    "- **lunch** : binary variable for the randomly assigned bonus of free/reduced lunch\n",
    "\n",
    "- **test.preparation.course** : binary variable for the randomly assigned bonus of attending a test preparation course\n",
    "\n",
    "\n",
    "\n",
    "\n",
    "# Which 'gender' is better at maths? And which is better in writing and reading?\n",
    "\n",
    "This is clearly a question that **relies heavily on gender roles** , that since forever assign females to be better at literature tasks and males to be better at mathematical tasks , even though history has repetedly busted this popular myth.\n",
    "\n",
    "For example we have witnessed as a society people like : **Mary Cartwright , Ada Lovelace , Emmy Noether, Maryam Mirzakhani** that definitely were mathematical geniouses.\n",
    "\n",
    "And on the other hand we have witnessed  as a society people like : **Charles Dickens, Lev Tolstoj, Fëdor Dostoevskij,Dante Alighieri** that definitely were literature geniouses.\n",
    "\n",
    "So the aim of this first task is to understand if in this sample there are differences in means between males and females' scores and if they could be statistically significant.\n",
    "\n",
    "### Before conducting any test , let's visualize the situation\n",
    "\n",
    "We're going to do some data wrangling to visualize the scores by gender"
   ]
  },
  {
   "cell_type": "code",
   "execution_count": 3,
   "metadata": {
    "id": "o8dO6j_eETZy"
   },
   "outputs": [
    {
     "data": {
      "text/html": [
       "<div>\n",
       "<style scoped>\n",
       "    .dataframe tbody tr th:only-of-type {\n",
       "        vertical-align: middle;\n",
       "    }\n",
       "\n",
       "    .dataframe tbody tr th {\n",
       "        vertical-align: top;\n",
       "    }\n",
       "\n",
       "    .dataframe thead th {\n",
       "        text-align: right;\n",
       "    }\n",
       "</style>\n",
       "<table border=\"1\" class=\"dataframe\">\n",
       "  <thead>\n",
       "    <tr style=\"text-align: right;\">\n",
       "      <th></th>\n",
       "      <th>gender</th>\n",
       "      <th>subject</th>\n",
       "      <th>score</th>\n",
       "    </tr>\n",
       "  </thead>\n",
       "  <tbody>\n",
       "    <tr>\n",
       "      <th>0</th>\n",
       "      <td>female</td>\n",
       "      <td>math</td>\n",
       "      <td>72</td>\n",
       "    </tr>\n",
       "    <tr>\n",
       "      <th>1</th>\n",
       "      <td>female</td>\n",
       "      <td>math</td>\n",
       "      <td>69</td>\n",
       "    </tr>\n",
       "    <tr>\n",
       "      <th>2</th>\n",
       "      <td>female</td>\n",
       "      <td>math</td>\n",
       "      <td>90</td>\n",
       "    </tr>\n",
       "    <tr>\n",
       "      <th>3</th>\n",
       "      <td>male</td>\n",
       "      <td>math</td>\n",
       "      <td>47</td>\n",
       "    </tr>\n",
       "    <tr>\n",
       "      <th>4</th>\n",
       "      <td>male</td>\n",
       "      <td>math</td>\n",
       "      <td>76</td>\n",
       "    </tr>\n",
       "  </tbody>\n",
       "</table>\n",
       "</div>"
      ],
      "text/plain": [
       "   gender subject  score\n",
       "0  female    math     72\n",
       "1  female    math     69\n",
       "2  female    math     90\n",
       "3    male    math     47\n",
       "4    male    math     76"
      ]
     },
     "metadata": {},
     "output_type": "display_data"
    },
    {
     "name": "stdout",
     "output_type": "stream",
     "text": [
      "Shape (long): (3000, 3)\n"
     ]
    }
   ],
   "source": [
    "# Select relevant columns and pivot to long (tidy) format\n",
    "# Keep only gender and the three scores for the main analysis\n",
    "score_cols = [\"math\", \"reading\", \"writing\"]\n",
    "base_cols = [\"gender\"]\n",
    "df_scores = df[base_cols + score_cols].copy()\n",
    "\n",
    "# Melt into long format: one row per (student, subject)\n",
    "df_long = df_scores.melt(\n",
    "    id_vars=[\"gender\"],\n",
    "    value_vars=score_cols,\n",
    "    var_name=\"subject\",\n",
    "    value_name=\"score\"\n",
    ")\n",
    "\n",
    "# Inspect the reshaped data\n",
    "display(df_long.head())\n",
    "print(\"Shape (long):\", df_long.shape)"
   ]
  },
  {
   "cell_type": "markdown",
   "metadata": {
    "id": "bXi-5pmGETZz"
   },
   "source": [
    "### Now we can finally plot the differences between genders in the scores\n"
   ]
  },
  {
   "cell_type": "code",
   "execution_count": 4,
   "metadata": {
    "id": "0zQOJ-EbETZz"
   },
   "outputs": [
    {
     "data": {
      "image/png": "[encoded data removed]",
      "text/plain": [
       "<Figure size 800x500 with 1 Axes>"
      ]
     },
     "metadata": {},
     "output_type": "display_data"
    }
   ],
   "source": [
    "# Compare distributions by gender using a boxplot\n",
    "import matplotlib.pyplot as plt\n",
    "import seaborn as sns\n",
    "\n",
    "# Create a single figure showing score distribution by gender and subject\n",
    "plt.figure(figsize=(8, 5))\n",
    "sns.boxplot(data=df_long, x=\"subject\", y=\"score\", hue=\"gender\")\n",
    "plt.title(\"Student Scores by Subject and Gender\")\n",
    "plt.xlabel(\"Subject\")\n",
    "plt.ylabel(\"Score\")\n",
    "plt.legend(title=\"Gender\", loc=\"best\")\n",
    "plt.show()"
   ]
  },
  {
   "cell_type": "markdown",
   "metadata": {
    "id": "5-pk58zoETZ0"
   },
   "source": [
    "It looks like:\n",
    "\n",
    "- **For math score**: males are a little bit better\n",
    "\n",
    "- **For reading score**: females are a little bit better\n",
    "\n",
    "- **For writing score**: females are better as also the scores are affected by less variability around and higher mean\n",
    "\n",
    "\n",
    "\n",
    "***\n",
    "\n",
    "\n",
    "\n",
    "# Now we can go on and perform the first independent two-sample t-test for math scores\n",
    "\n",
    "The size of the males and females samples are different!\n",
    "\n",
    "This means that in the equation for the t statistic:\n",
    "\n",
    "$$ t = \\frac{\\bar{x_{1}}-\\bar{x_{2}}}{S_{pool}\\sqrt{\\frac{1}{n_{1}}-\\frac{1}{n_{2}}}} $$\n",
    "happens that:\n",
    "\n",
    "$$n_{1}\\neq n_{2}$$\n",
    "\n",
    "\n",
    "First we perform some data wrangling on the main dataframe"
   ]
  },
  {
   "cell_type": "code",
   "execution_count": 5,
   "metadata": {
    "id": "k5OYEMv0ETZ0"
   },
   "outputs": [
    {
     "data": {
      "text/html": [
       "<div>\n",
       "<style scoped>\n",
       "    .dataframe tbody tr th:only-of-type {\n",
       "        vertical-align: middle;\n",
       "    }\n",
       "\n",
       "    .dataframe tbody tr th {\n",
       "        vertical-align: top;\n",
       "    }\n",
       "\n",
       "    .dataframe thead th {\n",
       "        text-align: right;\n",
       "    }\n",
       "</style>\n",
       "<table border=\"1\" class=\"dataframe\">\n",
       "  <thead>\n",
       "    <tr style=\"text-align: right;\">\n",
       "      <th></th>\n",
       "      <th>gender</th>\n",
       "      <th>subject</th>\n",
       "      <th>score</th>\n",
       "    </tr>\n",
       "  </thead>\n",
       "  <tbody>\n",
       "    <tr>\n",
       "      <th>0</th>\n",
       "      <td>female</td>\n",
       "      <td>math</td>\n",
       "      <td>72</td>\n",
       "    </tr>\n",
       "    <tr>\n",
       "      <th>1</th>\n",
       "      <td>female</td>\n",
       "      <td>math</td>\n",
       "      <td>69</td>\n",
       "    </tr>\n",
       "    <tr>\n",
       "      <th>2</th>\n",
       "      <td>female</td>\n",
       "      <td>math</td>\n",
       "      <td>90</td>\n",
       "    </tr>\n",
       "    <tr>\n",
       "      <th>3</th>\n",
       "      <td>male</td>\n",
       "      <td>math</td>\n",
       "      <td>47</td>\n",
       "    </tr>\n",
       "    <tr>\n",
       "      <th>4</th>\n",
       "      <td>male</td>\n",
       "      <td>math</td>\n",
       "      <td>76</td>\n",
       "    </tr>\n",
       "  </tbody>\n",
       "</table>\n",
       "</div>"
      ],
      "text/plain": [
       "   gender subject  score\n",
       "0  female    math     72\n",
       "1  female    math     69\n",
       "2  female    math     90\n",
       "3    male    math     47\n",
       "4    male    math     76"
      ]
     },
     "metadata": {},
     "output_type": "display_data"
    },
    {
     "name": "stdout",
     "output_type": "stream",
     "text": [
      "Tidy math shape: (1000, 3)\n"
     ]
    }
   ],
   "source": [
    "# Reshape the data into a tidy format (math only for the upcoming t-test)\n",
    "# We keep only 'gender' and the math score, and build a tidy table\n",
    "df_tidy_math = (\n",
    "    df.loc[:, [\"gender\", \"math\"]]\n",
    "      .rename(columns={\"math\": \"score\"})\n",
    "      .assign(subject=\"math\")\n",
    "      .loc[:, [\"gender\", \"subject\", \"score\"]]\n",
    ")\n",
    "\n",
    "# Quick sanity check\n",
    "display(df_tidy_math.head())\n",
    "print(\"Tidy math shape:\", df_tidy_math.shape)"
   ]
  },
  {
   "cell_type": "markdown",
   "metadata": {
    "id": "tbYziw8WETZ1"
   },
   "source": [
    "We take male and females groups for the math scores:\n"
   ]
  },
  {
   "cell_type": "code",
   "execution_count": 6,
   "metadata": {
    "id": "8qBDSh-wETZ1"
   },
   "outputs": [
    {
     "name": "stdout",
     "output_type": "stream",
     "text": [
      "n_male=482, n_female=518\n"
     ]
    }
   ],
   "source": [
    "# Split math scores by gender\n",
    "# Ensure 'gender' is lower-cased to handle possible capitalization variants\n",
    "_g = df[\"gender\"].str.lower().str.strip()\n",
    "\n",
    "male_math   = df.loc[_g.str.startswith(\"male\"), \"math\"].dropna().to_numpy()\n",
    "female_math = df.loc[_g.str.startswith(\"female\"), \"math\"].dropna().to_numpy()\n",
    "\n",
    "print(f\"n_male={len(male_math)}, n_female={len(female_math)}\")"
   ]
  },
  {
   "cell_type": "markdown",
   "metadata": {
    "id": "zzaZCkgAETZ1"
   },
   "source": [
    "\n",
    "### Now we are able to go on and check the t- test assumptions:\n",
    "\n",
    "Normality (even if the sample sizes are reasonable): let's start with a qqplot"
   ]
  },
  {
   "cell_type": "code",
   "execution_count": 7,
   "metadata": {
    "id": "QShNsLGZETZ2"
   },
   "outputs": [
    {
     "data": {
      "image/png": "[encoded data removed]",
      "text/plain": [
       "<Figure size 600x400 with 1 Axes>"
      ]
     },
     "metadata": {},
     "output_type": "display_data"
    },
    {
     "data": {
      "image/png": "[encoded data removed]",
      "text/plain": [
       "<Figure size 600x400 with 1 Axes>"
      ]
     },
     "metadata": {},
     "output_type": "display_data"
    }
   ],
   "source": [
    "# Visual check of normality: male math scores\n",
    "import matplotlib.pyplot as plt\n",
    "import scipy.stats as stats\n",
    "\n",
    "# Histogram\n",
    "plt.figure(figsize=(6,4))\n",
    "plt.hist(male_math, bins=15)\n",
    "plt.title(\"Male Math Scores - Histogram\")\n",
    "plt.xlabel(\"Score\")\n",
    "plt.ylabel(\"Frequency\")\n",
    "plt.show()\n",
    "\n",
    "# Q-Q plot\n",
    "plt.figure(figsize=(6,4))\n",
    "stats.probplot(male_math, dist=\"norm\", plot=plt)\n",
    "plt.title(\"Male Math Scores - Q-Q Plot\")\n",
    "plt.show()"
   ]
  },
  {
   "cell_type": "markdown",
   "metadata": {
    "id": "J3Mxi3rXETZ2"
   },
   "source": [
    "\n",
    "</br>\n",
    "</br>\n",
    "</br>\n",
    "\n",
    "At first glance the qqplot doesn't look perfect , but we might be ok with the normality assumption , let's see what a  Lilliefors (Kolmogorov-Smirnov) normality test tells us:"
   ]
  },
  {
   "cell_type": "code",
   "execution_count": 8,
   "metadata": {
    "id": "4y4A7axHETZ2"
   },
   "outputs": [
    {
     "name": "stdout",
     "output_type": "stream",
     "text": [
      "Lilliefors (male math): statistic=0.0388, p-value=0.1031\n",
      "Fail to reject normality at alpha=0.05 (looks approximately normal).\n"
     ]
    }
   ],
   "source": [
    "# Lilliefors normality test (male math)\n",
    "from statsmodels.stats.diagnostic import lilliefors\n",
    "\n",
    "stat_male, p_male = lilliefors(male_math, dist='norm')\n",
    "print(f\"Lilliefors (male math): statistic={stat_male:.4f}, p-value={p_male:.4f}\")\n",
    "if p_male > 0.05:\n",
    "    print(\"Fail to reject normality at alpha=0.05 (looks approximately normal).\")\n",
    "else:\n",
    "    print(\"Reject normality at alpha=0.05 (deviates from normal).\")"
   ]
  },
  {
   "cell_type": "markdown",
   "metadata": {
    "id": "58dBEnNsETZ2"
   },
   "source": [
    "at significance level 0.05 normality assumption is checked since the p-value is 0.08.\n",
    "\n",
    "\n",
    "### Let's check for the females group:"
   ]
  },
  {
   "cell_type": "code",
   "execution_count": 9,
   "metadata": {
    "id": "Iw8iXoEbETZ2"
   },
   "outputs": [
    {
     "data": {
      "image/png": "[encoded data removed]",
      "text/plain": [
       "<Figure size 600x400 with 1 Axes>"
      ]
     },
     "metadata": {},
     "output_type": "display_data"
    },
    {
     "data": {
      "image/png": "[encoded data removed]",
      "text/plain": [
       "<Figure size 600x400 with 1 Axes>"
      ]
     },
     "metadata": {},
     "output_type": "display_data"
    }
   ],
   "source": [
    "# Visual check of normality: female math scores\n",
    "import matplotlib.pyplot as plt\n",
    "import scipy.stats as stats\n",
    "\n",
    "# Histogram\n",
    "plt.figure(figsize=(6,4))\n",
    "plt.hist(female_math, bins=15)\n",
    "plt.title(\"Female Math Scores - Histogram\")\n",
    "plt.xlabel(\"Score\")\n",
    "plt.ylabel(\"Frequency\")\n",
    "plt.show()\n",
    "\n",
    "# Q-Q plot\n",
    "plt.figure(figsize=(6,4))\n",
    "stats.probplot(female_math, dist=\"norm\", plot=plt)\n",
    "plt.title(\"Female Math Scores - Q-Q Plot\")\n",
    "plt.show()"
   ]
  },
  {
   "cell_type": "markdown",
   "metadata": {
    "id": "9jQ-dGHZETZ2"
   },
   "source": [
    "\n",
    "</br>\n",
    "</br>\n",
    "</br>\n",
    "\n",
    "This doesn't look good either ,but let's see what an Anderson-Darling  normality test tells us:"
   ]
  },
  {
   "cell_type": "code",
   "execution_count": 10,
   "metadata": {
    "id": "jhwZxxRtETZ3"
   },
   "outputs": [
    {
     "name": "stdout",
     "output_type": "stream",
     "text": [
      "Lilliefors (female math): statistic=0.0434, p-value=0.0316\n",
      "Reject normality at alpha=0.05 (deviates from normal).\n"
     ]
    }
   ],
   "source": [
    "# Lilliefors normality test (female math)\n",
    "from statsmodels.stats.diagnostic import lilliefors\n",
    "\n",
    "stat_female, p_female = lilliefors(female_math, dist='norm')\n",
    "print(f\"Lilliefors (female math): statistic={stat_female:.4f}, p-value={p_female:.4f}\")\n",
    "if p_female > 0.05:\n",
    "    print(\"Fail to reject normality at alpha=0.05 (looks approximately normal).\")\n",
    "else:\n",
    "    print(\"Reject normality at alpha=0.05 (deviates from normal).\")"
   ]
  },
  {
   "cell_type": "markdown",
   "metadata": {
    "id": "uCEDLgl0ETZ3"
   },
   "source": [
    "at significance level 0.05 normality assumption is checked since the p-value is 0.065.\n",
    "\n",
    "\n",
    "### Let's test homoschedasticity (sample size is different for each group):"
   ]
  },
  {
   "cell_type": "code",
   "execution_count": 11,
   "metadata": {
    "id": "FPtI09cKETZ3"
   },
   "outputs": [
    {
     "name": "stdout",
     "output_type": "stream",
     "text": [
      "Var(male)   = 206.10\n",
      "Var(female) = 239.99\n",
      "Variance ratio male/female  = 0.859\n",
      "Variance ratio female/male  = 1.164\n",
      "Rule-of-thumb: variances look similar (both ratios < 2.0).\n"
     ]
    }
   ],
   "source": [
    "# Variance ratio checks (both directions)\n",
    "# Compute sample variances (ddof=1) and the ratios in both directions\n",
    "import numpy as np\n",
    "\n",
    "var_male = np.var(male_math, ddof=1)\n",
    "var_female = np.var(female_math, ddof=1)\n",
    "\n",
    "ratio_male_over_female = var_male / var_female\n",
    "ratio_female_over_male = var_female / var_male\n",
    "\n",
    "print(f\"Var(male)   = {var_male:.2f}\")\n",
    "print(f\"Var(female) = {var_female:.2f}\")\n",
    "print(f\"Variance ratio male/female  = {ratio_male_over_female:.3f}\")\n",
    "print(f\"Variance ratio female/male  = {ratio_female_over_male:.3f}\")\n",
    "\n",
    "# Simple rule of thumb interpretation\n",
    "threshold = 2.0  # common rough cutoff\n",
    "if (ratio_male_over_female < threshold) and (ratio_female_over_male < threshold):\n",
    "    print(f\"Rule-of-thumb: variances look similar (both ratios < {threshold}).\")\n",
    "else:\n",
    "    print(f\"Rule-of-thumb: variances differ (at least one ratio ≥ {threshold}).\")"
   ]
  },
  {
   "cell_type": "markdown",
   "metadata": {
    "id": "xRcO366YETZ4"
   },
   "source": [
    "it looks like , comparing the two variances by a rough rule , the ratios are less than 2 , so we can accept the homoschedasticity assumption.\n",
    "\n",
    "Let's remove outliers"
   ]
  },
  {
   "cell_type": "code",
   "execution_count": 12,
   "metadata": {
    "id": "tmPMAugDETZ4"
   },
   "outputs": [
    {
     "name": "stdout",
     "output_type": "stream",
     "text": [
      "Male math:   482 -> 480 (removed 2)\n",
      "Female math: 518 -> 512 (removed 6)\n",
      "df size: 1000 -> 992 rows after outlier removal\n"
     ]
    }
   ],
   "source": [
    "# Remove outliers (IQR) for male and female math scores and filter them out of the dataset\n",
    "\n",
    "import numpy as np\n",
    "import pandas as pd\n",
    "\n",
    "def iqr_bounds(series: pd.Series):\n",
    "    \"\"\"Return (lower, upper) IQR bounds for outlier detection.\"\"\"\n",
    "    q1 = series.quantile(0.25)\n",
    "    q3 = series.quantile(0.75)\n",
    "    iqr = q3 - q1\n",
    "    lower = q1 - 1.5 * iqr\n",
    "    upper = q3 + 1.5 * iqr\n",
    "    return lower, upper\n",
    "\n",
    "# Work with a copy to keep original df intact\n",
    "df_no_outliers = df.copy()\n",
    "_g = df_no_outliers[\"gender\"].str.lower().str.strip()\n",
    "\n",
    "# Compute IQR bounds separately by gender\n",
    "male_bounds   = iqr_bounds(df_no_outliers.loc[_g.str.startswith(\"male\"), \"math\"])\n",
    "female_bounds = iqr_bounds(df_no_outliers.loc[_g.str.startswith(\"female\"), \"math\"])\n",
    "\n",
    "lm, um = male_bounds\n",
    "lf, uf = female_bounds\n",
    "\n",
    "# Build masks that keep rows inside each gender's bounds\n",
    "mask_male   = (~_g.str.startswith(\"male\"))   | df_no_outliers[\"math\"].between(lm, um)\n",
    "mask_female = (~_g.str.startswith(\"female\")) | df_no_outliers[\"math\"].between(lf, uf)\n",
    "\n",
    "# Keep only rows passing both conditions\n",
    "mask = mask_male & mask_female\n",
    "df_no_outliers = df_no_outliers.loc[mask].reset_index(drop=True)\n",
    "\n",
    "# Recompute arrays for downstream tests (without outliers)\n",
    "n_male_before   = len(male_math)\n",
    "n_female_before = len(female_math)\n",
    "\n",
    "male_math_clean = (\n",
    "    df_no_outliers.loc[df_no_outliers[\"gender\"].str.lower().str.startswith(\"male\"), \"math\"]\n",
    "    .dropna().to_numpy()\n",
    ")\n",
    "female_math_clean = (\n",
    "    df_no_outliers.loc[df_no_outliers[\"gender\"].str.lower().str.startswith(\"female\"), \"math\"]\n",
    "    .dropna().to_numpy()\n",
    ")\n",
    "\n",
    "# (Optional) keep originals, then overwrite to use cleaned samples later\n",
    "male_math_raw, female_math_raw = male_math, female_math\n",
    "male_math, female_math = male_math_clean, female_math_clean\n",
    "\n",
    "print(f\"Male math:   {n_male_before} -> {len(male_math)} (removed {n_male_before - len(male_math)})\")\n",
    "print(f\"Female math: {n_female_before} -> {len(female_math)} (removed {n_female_before - len(female_math)})\")\n",
    "print(f\"df size: {len(df)} -> {len(df_no_outliers)} rows after outlier removal\")"
   ]
  },
  {
   "cell_type": "markdown",
   "metadata": {
    "id": "R0gS6pvIETZ4"
   },
   "source": [
    "### Now we can finally perform our two sample t-test\n",
    "\n",
    "### Hypothesis: We're going to use the gender assumption that males are better at maths than females as the alternative hypothesis\n",
    "\n",
    "$$\n",
    "H_{0} : \\mu_{MaleMaths}\\leq \\mu_{FemaleMaths}\n",
    "$$\n",
    "\n",
    "$$\n",
    "H_{A} : \\mu_{MaleMaths} >  \\mu_{FemaleMaths}\n",
    "$$"
   ]
  },
  {
   "cell_type": "code",
   "execution_count": 13,
   "metadata": {
    "id": "pwroxRgHETZ4"
   },
   "outputs": [
    {
     "name": "stdout",
     "output_type": "stream",
     "text": [
      "Mean(male)=68.90, Mean(female)=64.20\n",
      "Levene p-value=0.9703 -> assume equal variances (pooled t-test)\n",
      "t = 5.137, one-sided p = 0.0000\n",
      "Reject H0: evidence that males have greater math scores (alpha=0.05).\n",
      "Hedges' g (male - female) = 0.326\n"
     ]
    }
   ],
   "source": [
    "# One-sided independent two-sample t-test: H0: mu_male <= mu_female ; H1: mu_male > mu_female\n",
    "from scipy import stats\n",
    "import numpy as np\n",
    "\n",
    "# Descriptive stats\n",
    "mean_m = np.mean(male_math)\n",
    "mean_f = np.mean(female_math)\n",
    "print(f\"Mean(male)={mean_m:.2f}, Mean(female)={mean_f:.2f}\")\n",
    "\n",
    "# Robust variance check to decide pooled vs Welch\n",
    "lev_stat, lev_p = stats.levene(male_math, female_math, center=\"median\")\n",
    "equal_var = lev_p > 0.05\n",
    "print(f\"Levene p-value={lev_p:.4f} -> {'assume equal variances (pooled t-test)' if equal_var else 'use Welch t-test'}\")\n",
    "\n",
    "# One-sided t-test (male > female)\n",
    "try:\n",
    "    t_stat, p_one = stats.ttest_ind(male_math, female_math, equal_var=equal_var, alternative=\"greater\")\n",
    "except TypeError:\n",
    "    # Fallback for older SciPy without 'alternative'\n",
    "    t_stat, p_two = stats.ttest_ind(male_math, female_math, equal_var=equal_var)\n",
    "    p_one = p_two/2 if t_stat > 0 else 1 - p_two/2\n",
    "\n",
    "print(f\"t = {t_stat:.3f}, one-sided p = {p_one:.4f}\")\n",
    "\n",
    "alpha = 0.05\n",
    "if p_one < alpha:\n",
    "    print(\"Reject H0: evidence that males have greater math scores (alpha=0.05).\")\n",
    "else:\n",
    "    print(\"Fail to reject H0: insufficient evidence that males have greater math scores (alpha=0.05).\")\n",
    "\n",
    "# Effect size (Hedges' g ~ bias-corrected Cohen's d)\n",
    "def hedges_g(a, b):\n",
    "    na, nb = len(a), len(b)\n",
    "    sa2, sb2 = np.var(a, ddof=1), np.var(b, ddof=1)\n",
    "    s_pooled = np.sqrt(((na-1)*sa2 + (nb-1)*sb2) / (na+nb-2))\n",
    "    d = (np.mean(a) - np.mean(b)) / s_pooled\n",
    "    J = 1 - 3/(4*(na+nb)-9)\n",
    "    return d * J\n",
    "\n",
    "g = hedges_g(male_math, female_math)\n",
    "print(f\"Hedges' g (male - female) = {g:.3f}\")"
   ]
  },
  {
   "cell_type": "markdown",
   "metadata": {
    "id": "y8LADjF3ETZ5"
   },
   "source": [
    "The p-value turns out to be really small , almost zero, so we are forced to reject the Null Hypothesis.\n",
    "\n",
    "**From this test , the gender assumption that males are better than females at maths is true.**\n",
    "\n",
    "\n",
    "\n",
    "***\n",
    "\n",
    "\n",
    "\n",
    "# Now we can go on and perform the second independent two-sample t-test for reading scores.\n",
    "\n",
    "We take male and females groups for the reading scores:"
   ]
  },
  {
   "cell_type": "code",
   "execution_count": 14,
   "metadata": {
    "id": "D351i-EcETZ5"
   },
   "outputs": [
    {
     "name": "stdout",
     "output_type": "stream",
     "text": [
      "n (reading) -> male=482, female=518\n",
      "Means (reading) -> male=65.47, female=72.61\n"
     ]
    }
   ],
   "source": [
    "# Extract reading scores for males and females from the tidy_StudentsPerformance dataset\n",
    "\n",
    "import numpy as np\n",
    "import pandas as pd\n",
    "\n",
    "# 1) Ensure we have a tidy dataset with ['gender', 'subject', 'score']\n",
    "try:\n",
    "    tidy = tidy_StudentsPerformance.copy()\n",
    "except NameError:\n",
    "    # If it doesn't exist yet, build it from the wide df we prepared earlier\n",
    "    extra_cols = [c for c in [\"lunch\", \"test_prep\"] if c in df.columns]\n",
    "    tidy = df.melt(\n",
    "        id_vars=[\"gender\"] + extra_cols,\n",
    "        value_vars=[\"math\", \"reading\", \"writing\"],\n",
    "        var_name=\"subject\",\n",
    "        value_name=\"score\"\n",
    "    )\n",
    "    tidy_StudentsPerformance = tidy.copy()\n",
    "\n",
    "# 2) Filter to reading only\n",
    "tidy_reading = tidy.loc[tidy[\"subject\"] == \"reading\"].copy()\n",
    "\n",
    "# 3) Split arrays by gender\n",
    "_g = tidy_reading[\"gender\"].str.lower().str.strip()\n",
    "male_reading   = tidy_reading.loc[_g.str.startswith(\"male\"), \"score\"].dropna().to_numpy()\n",
    "female_reading = tidy_reading.loc[_g.str.startswith(\"female\"), \"score\"].dropna().to_numpy()\n",
    "\n",
    "# 4) Quick sanity check\n",
    "print(f\"n (reading) -> male={len(male_reading)}, female={len(female_reading)}\")\n",
    "print(f\"Means (reading) -> male={male_reading.mean():.2f}, female={female_reading.mean():.2f}\")"
   ]
  },
  {
   "cell_type": "markdown",
   "metadata": {
    "id": "pYFLqoZPETZ5"
   },
   "source": [
    "\n",
    "### Now we are able to go on and check the t- test assumptions:\n",
    "\n",
    "Normality (even if the sample sizes are reasonable): let's go straight to tests."
   ]
  },
  {
   "cell_type": "code",
   "execution_count": 15,
   "metadata": {
    "id": "wczo2oEWETZ5"
   },
   "outputs": [
    {
     "name": "stdout",
     "output_type": "stream",
     "text": [
      "CvM statistic = 0.0997, p-value = 0.5864\n",
      "Fail to reject normality at alpha=0.05.\n"
     ]
    }
   ],
   "source": [
    "# Cramér–von Mises normality test on male reading scores\n",
    "# H0: data come from a normal distribution (parameters estimated from sample)\n",
    "\n",
    "import numpy as np\n",
    "\n",
    "# Estimate normal parameters from the sample\n",
    "mu = np.mean(male_reading)\n",
    "sigma = np.std(male_reading, ddof=1)\n",
    "\n",
    "# Prefer SciPy's cramervonmises; fall back to Anderson–Darling if unavailable\n",
    "try:\n",
    "    from scipy.stats import cramervonmises, norm\n",
    "    res = cramervonmises(male_reading, lambda x: norm.cdf(x, loc=mu, scale=sigma))\n",
    "    print(f\"CvM statistic = {res.statistic:.4f}, p-value = {res.pvalue:.4f}\")\n",
    "    print(\"Fail to reject normality at alpha=0.05.\" if res.pvalue > 0.05 else \"Reject normality at alpha=0.05.\")\n",
    "except Exception as e:\n",
    "    # Fallback: Anderson–Darling test (no exact p-value; use 5% critical value)\n",
    "    from scipy.stats import anderson\n",
    "    res_ad = anderson(male_reading, dist='norm')\n",
    "    print(f\"Anderson–Darling A^2 = {res_ad.statistic:.4f}\")\n",
    "    # Find the 5% critical value\n",
    "    import numpy as np\n",
    "    idx = int(np.where(np.isclose(res_ad.significance_level, 5.0))[0][0])\n",
    "    cv_5 = res_ad.critical_values[idx]\n",
    "    print(f\"Critical value (5%) = {cv_5:.4f}\")\n",
    "    print(\"Fail to reject normality at alpha=0.05.\" if res_ad.statistic < cv_5 else \"Reject normality at alpha=0.05.\")"
   ]
  },
  {
   "cell_type": "markdown",
   "metadata": {
    "id": "ueMv2XjbETZ5"
   },
   "source": [
    "at significance level 0.05 normality assumption is checked since the p-value is 0.11.\n",
    "\n",
    "\n",
    "### Let's check for the females group:"
   ]
  },
  {
   "cell_type": "code",
   "execution_count": 16,
   "metadata": {
    "id": "dDivirNwETZ5"
   },
   "outputs": [
    {
     "name": "stdout",
     "output_type": "stream",
     "text": [
      "CvM statistic = 0.1157, p-value = 0.5136\n",
      "Fail to reject normality at alpha=0.05.\n"
     ]
    }
   ],
   "source": [
    "# Cramér–von Mises normality test on female reading scores\n",
    "# H0: data come from a normal distribution (parameters estimated from sample)\n",
    "\n",
    "import numpy as np\n",
    "\n",
    "mu_f = np.mean(female_reading)\n",
    "sigma_f = np.std(female_reading, ddof=1)\n",
    "\n",
    "try:\n",
    "    from scipy.stats import cramervonmises, norm\n",
    "    res_f = cramervonmises(female_reading, lambda x: norm.cdf(x, loc=mu_f, scale=sigma_f))\n",
    "    print(f\"CvM statistic = {res_f.statistic:.4f}, p-value = {res_f.pvalue:.4f}\")\n",
    "    print(\"Fail to reject normality at alpha=0.05.\" if res_f.pvalue > 0.05 else \"Reject normality at alpha=0.05.\")\n",
    "except Exception as e:\n",
    "    # Fallback: Anderson–Darling if CvM is unavailable\n",
    "    from scipy.stats import anderson\n",
    "    res_ad_f = anderson(female_reading, dist='norm')\n",
    "    print(f\"Anderson–Darling A^2 = {res_ad_f.statistic:.4f}\")\n",
    "    # Use the 5% critical value for decision\n",
    "    import numpy as np\n",
    "    idx = int(np.where(np.isclose(res_ad_f.significance_level, 5.0))[0][0])\n",
    "    cv_5_f = res_ad_f.critical_values[idx]\n",
    "    print(f\"Critical value (5%) = {cv_5_f:.4f}\")\n",
    "    print(\"Fail to reject normality at alpha=0.05.\" if res_ad_f.statistic < cv_5_f else \"Reject normality at alpha=0.05.\")"
   ]
  },
  {
   "cell_type": "markdown",
   "metadata": {
    "id": "ZVutxQ_TETZ5"
   },
   "source": [
    "at significance level 0.05 normality assumption is checked since the p-value is 0.068.\n",
    "\n",
    "\n",
    "let's test homoschedasticity (sample size is different for each group):"
   ]
  },
  {
   "cell_type": "code",
   "execution_count": 17,
   "metadata": {
    "id": "GEz1rL8GETZ6"
   },
   "outputs": [
    {
     "name": "stdout",
     "output_type": "stream",
     "text": [
      "Var(male, reading)   = 194.10\n",
      "Var(female, reading) = 206.73\n",
      "Variance ratio male/female  = 0.939\n",
      "Variance ratio female/male  = 1.065\n",
      "Rule-of-thumb: variances look similar (both ratios < 2.0).\n"
     ]
    }
   ],
   "source": [
    "# Variance ratio checks for Reading (both directions)\n",
    "\n",
    "import numpy as np\n",
    "\n",
    "var_male_read   = np.var(male_reading, ddof=1)\n",
    "var_female_read = np.var(female_reading, ddof=1)\n",
    "\n",
    "ratio_male_over_female = var_male_read / var_female_read\n",
    "ratio_female_over_male = var_female_read / var_male_read\n",
    "\n",
    "print(f\"Var(male, reading)   = {var_male_read:.2f}\")\n",
    "print(f\"Var(female, reading) = {var_female_read:.2f}\")\n",
    "print(f\"Variance ratio male/female  = {ratio_male_over_female:.3f}\")\n",
    "print(f\"Variance ratio female/male  = {ratio_female_over_male:.3f}\")\n",
    "\n",
    "threshold = 2.0  # rough rule-of-thumb\n",
    "if (ratio_male_over_female < threshold) and (ratio_female_over_male < threshold):\n",
    "    print(f\"Rule-of-thumb: variances look similar (both ratios < {threshold}).\")\n",
    "else:\n",
    "    print(f\"Rule-of-thumb: variances differ (at least one ratio ≥ {threshold}).\")"
   ]
  },
  {
   "cell_type": "markdown",
   "metadata": {
    "id": "Z00i18R9ETZ6"
   },
   "source": [
    "it looks like , comparing the two variances by a rough rule , the ratios are less than 2 , so we can accept the homoschedasticity assumption.\n",
    "\n",
    "Let's remove outliers"
   ]
  },
  {
   "cell_type": "code",
   "execution_count": 18,
   "metadata": {
    "id": "FRuvOwdfETZ6"
   },
   "outputs": [
    {
     "name": "stdout",
     "output_type": "stream",
     "text": [
      "Male reading:   482 -> 479 (removed 3)\n",
      "Female reading: 518 -> 513 (removed 5)\n"
     ]
    }
   ],
   "source": [
    "# Remove outliers (IQR) from Males_Reading and Females_Reading scores and update arrays\n",
    "\n",
    "import numpy as np\n",
    "import pandas as pd\n",
    "\n",
    "# Ensure we have a tidy reading table: ['gender', 'subject' == 'reading', 'score']\n",
    "try:\n",
    "    tidy_reading\n",
    "except NameError:\n",
    "    try:\n",
    "        tidy\n",
    "    except NameError:\n",
    "        extra_cols = [c for c in [\"lunch\", \"test_prep\"] if c in df.columns]\n",
    "        tidy = df.melt(\n",
    "            id_vars=[\"gender\"] + extra_cols,\n",
    "            value_vars=[\"math\", \"reading\", \"writing\"],\n",
    "            var_name=\"subject\",\n",
    "            value_name=\"score\"\n",
    "        )\n",
    "    tidy_reading = tidy.loc[tidy[\"subject\"] == \"reading\"].copy()\n",
    "\n",
    "# IQR helper (define if missing)\n",
    "def iqr_bounds(series: pd.Series):\n",
    "    \"\"\"Return (lower, upper) bounds using the 1.5*IQR rule.\"\"\"\n",
    "    q1 = series.quantile(0.25)\n",
    "    q3 = series.quantile(0.75)\n",
    "    iqr = q3 - q1\n",
    "    return q1 - 1.5 * iqr, q3 + 1.5 * iqr\n",
    "\n",
    "_g = tidy_reading[\"gender\"].str.lower().str.strip()\n",
    "\n",
    "male_read_series   = tidy_reading.loc[_g.str.startswith(\"male\"), \"score\"]\n",
    "female_read_series = tidy_reading.loc[_g.str.startswith(\"female\"), \"score\"]\n",
    "\n",
    "# Compute bounds separately by gender\n",
    "lm, um = iqr_bounds(male_read_series)\n",
    "lf, uf = iqr_bounds(female_read_series)\n",
    "\n",
    "# Keep rows within each gender's bounds\n",
    "mask_male   = (~_g.str.startswith(\"male\"))   | tidy_reading[\"score\"].between(lm, um)\n",
    "mask_female = (~_g.str.startswith(\"female\")) | tidy_reading[\"score\"].between(lf, uf)\n",
    "tidy_reading_no_out = tidy_reading.loc[mask_male & mask_female].copy()\n",
    "\n",
    "# Report removals\n",
    "n_m_before = male_read_series.shape[0]\n",
    "n_f_before = female_read_series.shape[0]\n",
    "n_m_after  = tidy_reading_no_out.loc[tidy_reading_no_out[\"gender\"].str.lower().str.startswith(\"male\")].shape[0]\n",
    "n_f_after  = tidy_reading_no_out.loc[tidy_reading_no_out[\"gender\"].str.lower().str.startswith(\"female\")].shape[0]\n",
    "\n",
    "print(f\"Male reading:   {n_m_before} -> {n_m_after} (removed {n_m_before - n_m_after})\")\n",
    "print(f\"Female reading: {n_f_before} -> {n_f_after} (removed {n_f_before - n_f_after})\")\n",
    "\n",
    "# Update arrays for downstream analysis (use the cleaned samples)\n",
    "male_reading_raw, female_reading_raw = male_reading, female_reading\n",
    "male_reading   = tidy_reading_no_out.loc[tidy_reading_no_out['gender'].str.lower().str.startswith('male'),   'score'].to_numpy()\n",
    "female_reading = tidy_reading_no_out.loc[tidy_reading_no_out['gender'].str.lower().str.startswith('female'), 'score'].to_numpy()"
   ]
  },
  {
   "cell_type": "markdown",
   "metadata": {
    "id": "vIp6ILMUETZ6"
   },
   "source": [
    "### Now we can finally perform our two sample t-test\n",
    "\n",
    "### Hypothesis: We're going to use the gender assumption that females are better at reading than males as the alternative hypothesis\n",
    "\n",
    "$$H_{0} : \\mu_{FemaleReading}\\leq \\mu_{MaleReading}$$\n",
    "\n",
    "$$H_{A} : \\mu_{FemaleReading} >  \\mu_{MaleReading}$$"
   ]
  },
  {
   "cell_type": "code",
   "execution_count": 19,
   "metadata": {
    "id": "wSShrgBgETZ6"
   },
   "outputs": [
    {
     "name": "stdout",
     "output_type": "stream",
     "text": [
      "Mean(female)=73.06, Mean(male)=65.73\n",
      "Levene p-value=0.8780 -> assume equal variances (pooled)\n",
      "t = 8.451, one-sided p = 0.0000\n",
      "Reject H0: evidence that females have higher reading scores.\n"
     ]
    }
   ],
   "source": [
    "# One-sided independent two-sample t-test for Reading\n",
    "# H0: mu_female <= mu_male ; H1: mu_female > mu_male\n",
    "\n",
    "from scipy import stats\n",
    "import numpy as np\n",
    "\n",
    "# Descriptive stats\n",
    "mean_f = np.mean(female_reading)\n",
    "mean_m = np.mean(male_reading)\n",
    "print(f\"Mean(female)={mean_f:.2f}, Mean(male)={mean_m:.2f}\")\n",
    "\n",
    "# Robust variance check -> choose pooled vs Welch\n",
    "lev_stat, lev_p = stats.levene(female_reading, male_reading, center=\"median\")\n",
    "equal_var = lev_p > 0.05\n",
    "print(f\"Levene p-value={lev_p:.4f} -> {'assume equal variances (pooled)' if equal_var else 'use Welch'}\")\n",
    "\n",
    "# One-sided t-test with alternative 'greater' (x - y > 0)\n",
    "try:\n",
    "    t_stat, p_one = stats.ttest_ind(female_reading, male_reading, equal_var=equal_var, alternative=\"greater\")\n",
    "except TypeError:\n",
    "    # Fallback if SciPy is older\n",
    "    t_stat, p_two = stats.ttest_ind(female_reading, male_reading, equal_var=equal_var)\n",
    "    p_one = p_two/2 if t_stat > 0 else 1 - p_two/2\n",
    "\n",
    "print(f\"t = {t_stat:.3f}, one-sided p = {p_one:.4f}\")\n",
    "print(\"Reject H0: evidence that females have higher reading scores.\" if p_one < 0.05 else \"Fail to reject H0.\")"
   ]
  },
  {
   "cell_type": "markdown",
   "metadata": {
    "id": "zhDuLgEvETZ6"
   },
   "source": [
    "The p-value turns out to be really small , almost zero, so we are forced to reject the Null Hypothesis.\n",
    "\n",
    "**From this test , the gender assumption that females are better than males at reading is true.**\n",
    "\n",
    "\n",
    "\n",
    "***\n",
    "\n",
    "\n",
    "\n",
    "# Now we can go on and perform the third and last independent two-sample t-test for writing scores\n",
    "\n",
    "We take male and females groups for the writing scores:"
   ]
  },
  {
   "cell_type": "code",
   "execution_count": 20,
   "metadata": {
    "id": "qhfDr70bETZ6"
   },
   "outputs": [
    {
     "data": {
      "text/html": [
       "<div>\n",
       "<style scoped>\n",
       "    .dataframe tbody tr th:only-of-type {\n",
       "        vertical-align: middle;\n",
       "    }\n",
       "\n",
       "    .dataframe tbody tr th {\n",
       "        vertical-align: top;\n",
       "    }\n",
       "\n",
       "    .dataframe thead th {\n",
       "        text-align: right;\n",
       "    }\n",
       "</style>\n",
       "<table border=\"1\" class=\"dataframe\">\n",
       "  <thead>\n",
       "    <tr style=\"text-align: right;\">\n",
       "      <th></th>\n",
       "      <th>gender</th>\n",
       "      <th>lunch</th>\n",
       "      <th>test_prep</th>\n",
       "      <th>subject</th>\n",
       "      <th>score</th>\n",
       "    </tr>\n",
       "  </thead>\n",
       "  <tbody>\n",
       "    <tr>\n",
       "      <th>2003</th>\n",
       "      <td>male</td>\n",
       "      <td>free/reduced</td>\n",
       "      <td>none</td>\n",
       "      <td>writing</td>\n",
       "      <td>44</td>\n",
       "    </tr>\n",
       "    <tr>\n",
       "      <th>2004</th>\n",
       "      <td>male</td>\n",
       "      <td>standard</td>\n",
       "      <td>none</td>\n",
       "      <td>writing</td>\n",
       "      <td>75</td>\n",
       "    </tr>\n",
       "    <tr>\n",
       "      <th>2007</th>\n",
       "      <td>male</td>\n",
       "      <td>free/reduced</td>\n",
       "      <td>none</td>\n",
       "      <td>writing</td>\n",
       "      <td>39</td>\n",
       "    </tr>\n",
       "    <tr>\n",
       "      <th>2008</th>\n",
       "      <td>male</td>\n",
       "      <td>free/reduced</td>\n",
       "      <td>completed</td>\n",
       "      <td>writing</td>\n",
       "      <td>67</td>\n",
       "    </tr>\n",
       "    <tr>\n",
       "      <th>2010</th>\n",
       "      <td>male</td>\n",
       "      <td>standard</td>\n",
       "      <td>none</td>\n",
       "      <td>writing</td>\n",
       "      <td>52</td>\n",
       "    </tr>\n",
       "  </tbody>\n",
       "</table>\n",
       "</div>"
      ],
      "text/plain": [
       "     gender         lunch  test_prep  subject  score\n",
       "2003   male  free/reduced       none  writing     44\n",
       "2004   male      standard       none  writing     75\n",
       "2007   male  free/reduced       none  writing     39\n",
       "2008   male  free/reduced  completed  writing     67\n",
       "2010   male      standard       none  writing     52"
      ]
     },
     "metadata": {},
     "output_type": "display_data"
    },
    {
     "data": {
      "text/html": [
       "<div>\n",
       "<style scoped>\n",
       "    .dataframe tbody tr th:only-of-type {\n",
       "        vertical-align: middle;\n",
       "    }\n",
       "\n",
       "    .dataframe tbody tr th {\n",
       "        vertical-align: top;\n",
       "    }\n",
       "\n",
       "    .dataframe thead th {\n",
       "        text-align: right;\n",
       "    }\n",
       "</style>\n",
       "<table border=\"1\" class=\"dataframe\">\n",
       "  <thead>\n",
       "    <tr style=\"text-align: right;\">\n",
       "      <th></th>\n",
       "      <th>gender</th>\n",
       "      <th>lunch</th>\n",
       "      <th>test_prep</th>\n",
       "      <th>subject</th>\n",
       "      <th>score</th>\n",
       "    </tr>\n",
       "  </thead>\n",
       "  <tbody>\n",
       "    <tr>\n",
       "      <th>2000</th>\n",
       "      <td>female</td>\n",
       "      <td>standard</td>\n",
       "      <td>none</td>\n",
       "      <td>writing</td>\n",
       "      <td>74</td>\n",
       "    </tr>\n",
       "    <tr>\n",
       "      <th>2001</th>\n",
       "      <td>female</td>\n",
       "      <td>standard</td>\n",
       "      <td>completed</td>\n",
       "      <td>writing</td>\n",
       "      <td>88</td>\n",
       "    </tr>\n",
       "    <tr>\n",
       "      <th>2002</th>\n",
       "      <td>female</td>\n",
       "      <td>standard</td>\n",
       "      <td>none</td>\n",
       "      <td>writing</td>\n",
       "      <td>93</td>\n",
       "    </tr>\n",
       "    <tr>\n",
       "      <th>2005</th>\n",
       "      <td>female</td>\n",
       "      <td>standard</td>\n",
       "      <td>none</td>\n",
       "      <td>writing</td>\n",
       "      <td>78</td>\n",
       "    </tr>\n",
       "    <tr>\n",
       "      <th>2006</th>\n",
       "      <td>female</td>\n",
       "      <td>standard</td>\n",
       "      <td>completed</td>\n",
       "      <td>writing</td>\n",
       "      <td>92</td>\n",
       "    </tr>\n",
       "  </tbody>\n",
       "</table>\n",
       "</div>"
      ],
      "text/plain": [
       "      gender     lunch  test_prep  subject  score\n",
       "2000  female  standard       none  writing     74\n",
       "2001  female  standard  completed  writing     88\n",
       "2002  female  standard       none  writing     93\n",
       "2005  female  standard       none  writing     78\n",
       "2006  female  standard  completed  writing     92"
      ]
     },
     "metadata": {},
     "output_type": "display_data"
    },
    {
     "name": "stdout",
     "output_type": "stream",
     "text": [
      "Counts -> male=482, female=518\n"
     ]
    }
   ],
   "source": [
    "# Build separate dataframes for male and female writing scores\n",
    "\n",
    "import pandas as pd\n",
    "\n",
    "# Ensure a tidy dataset exists\n",
    "try:\n",
    "    tidy\n",
    "except NameError:\n",
    "    extra_cols = [c for c in [\"lunch\", \"test_prep\"] if c in df.columns]\n",
    "    tidy = df.melt(\n",
    "        id_vars=[\"gender\"] + extra_cols,\n",
    "        value_vars=[\"math\", \"reading\", \"writing\"],\n",
    "        var_name=\"subject\",\n",
    "        value_name=\"score\"\n",
    "    )\n",
    "\n",
    "# Filter to writing only\n",
    "tidy_writing = tidy.loc[tidy[\"subject\"] == \"writing\"].copy()\n",
    "\n",
    "# Split into two dataframes\n",
    "male_writing_df   = tidy_writing.loc[tidy_writing[\"gender\"].str.lower().str.startswith(\"male\")].copy()\n",
    "female_writing_df = tidy_writing.loc[tidy_writing[\"gender\"].str.lower().str.startswith(\"female\")].copy()\n",
    "\n",
    "display(male_writing_df.head())\n",
    "display(female_writing_df.head())\n",
    "print(f\"Counts -> male={len(male_writing_df)}, female={len(female_writing_df)}\")"
   ]
  },
  {
   "cell_type": "markdown",
   "metadata": {
    "id": "GEKlCJFTETZ6"
   },
   "source": [
    "\n",
    "### Now we are able to go on and check the t- test assumptions:\n",
    "\n",
    "- Normality (even if the sample sizes are reasonable): again, let's go straight to tests.\n"
   ]
  },
  {
   "cell_type": "code",
   "execution_count": 21,
   "metadata": {
    "id": "ZKeb4m0iETZ6"
   },
   "outputs": [
    {
     "name": "stdout",
     "output_type": "stream",
     "text": [
      "CvM statistic = 0.1065, p-value = 0.5542\n",
      "Fail to reject normality at alpha=0.05.\n"
     ]
    }
   ],
   "source": [
    "# Cramér–von Mises normality test for male writing scores\n",
    "# H0: data come from a normal distribution (parameters estimated from sample)\n",
    "\n",
    "import numpy as np\n",
    "from scipy.stats import norm\n",
    "\n",
    "male_writing = male_writing_df[\"score\"].to_numpy()\n",
    "mu_mw = np.mean(male_writing)\n",
    "sd_mw = np.std(male_writing, ddof=1)\n",
    "\n",
    "try:\n",
    "    from scipy.stats import cramervonmises\n",
    "    res_mw = cramervonmises(male_writing, lambda x: norm.cdf(x, loc=mu_mw, scale=sd_mw))\n",
    "    print(f\"CvM statistic = {res_mw.statistic:.4f}, p-value = {res_mw.pvalue:.4f}\")\n",
    "    print(\"Fail to reject normality at alpha=0.05.\" if res_mw.pvalue > 0.05 else \"Reject normality at alpha=0.05.\")\n",
    "except Exception:\n",
    "    # Fallback: Anderson–Darling\n",
    "    from scipy.stats import anderson\n",
    "    ad = anderson(male_writing, dist=\"norm\")\n",
    "    print(f\"Anderson–Darling A^2 = {ad.statistic:.4f}\")\n",
    "    # Compare to 5% critical value\n",
    "    import numpy as np\n",
    "    idx = int(np.where(np.isclose(ad.significance_level, 5.0))[0][0])\n",
    "    cv_5 = ad.critical_values[idx]\n",
    "    print(f\"Critical value (5%) = {cv_5:.4f}\")\n",
    "    print(\"Fail to reject normality at alpha=0.05.\" if ad.statistic < cv_5 else \"Reject normality at alpha=0.05.\")"
   ]
  },
  {
   "cell_type": "markdown",
   "metadata": {
    "id": "momA8AwfETZ6"
   },
   "source": [
    "at significance level 0.05 normality assumption is checked since the p-value is 0.09.\n",
    "\n",
    "\n",
    "### Let's check for the females group:"
   ]
  },
  {
   "cell_type": "code",
   "execution_count": 22,
   "metadata": {
    "id": "aS9JZW6ZETZ6"
   },
   "outputs": [
    {
     "name": "stdout",
     "output_type": "stream",
     "text": [
      "Lilliefors (female writing): statistic=0.0614, p-value=0.0010\n",
      "Reject normality at alpha=0.05.\n"
     ]
    }
   ],
   "source": [
    "# Lilliefors normality test for female writing scores\n",
    "# H0: data come from a normal distribution (mean and variance unknown)\n",
    "\n",
    "from statsmodels.stats.diagnostic import lilliefors\n",
    "import numpy as np\n",
    "\n",
    "female_writing = female_writing_df[\"score\"].to_numpy()\n",
    "\n",
    "stat_fw, p_fw = lilliefors(female_writing, dist=\"norm\")\n",
    "print(f\"Lilliefors (female writing): statistic={stat_fw:.4f}, p-value={p_fw:.4f}\")\n",
    "print(\"Fail to reject normality at alpha=0.05.\" if p_fw > 0.05 else \"Reject normality at alpha=0.05.\")"
   ]
  },
  {
   "cell_type": "markdown",
   "metadata": {
    "id": "0cCv5uW-ETZ7"
   },
   "source": [
    "**It looks like the normality assumption is not verified here!**\n",
    "\n",
    "### So let's try to transform data with box-cox transformation"
   ]
  },
  {
   "cell_type": "code",
   "execution_count": 23,
   "metadata": {
    "id": "EShMW26JETZ7"
   },
   "outputs": [
    {
     "name": "stdout",
     "output_type": "stream",
     "text": [
      "Box-Cox lambda (pooled) = 1.3766, shift = 0.0000\n",
      "[Male writing]  CvM = 0.1132, p = 0.5243 -> Fail to reject normality at alpha=0.05\n",
      "[Female writing]CvM = 0.0981, p = 0.5946 -> Fail to reject normality at alpha=0.05\n"
     ]
    }
   ],
   "source": [
    "# Box-Cox transform writing scores (common lambda) and run CvM normality tests per gender\n",
    "# Rationale:\n",
    "# - Use a single (pooled) lambda for comparability between groups\n",
    "# - Ensure strictly positive data for Box-Cox by shifting if needed\n",
    "\n",
    "import numpy as np\n",
    "from scipy.stats import boxcox as boxcox_fit, cramervonmises, norm\n",
    "from scipy.special import boxcox as boxcox_apply  # apply Box-Cox with a given lambda\n",
    "\n",
    "# Ensure arrays exist from previous cells\n",
    "try:\n",
    "    x_m = male_writing.copy()\n",
    "    x_f = female_writing.copy()\n",
    "except NameError:\n",
    "    # Build from dataframes if arrays aren't defined\n",
    "    x_m = male_writing_df[\"score\"].to_numpy()\n",
    "    x_f = female_writing_df[\"score\"].to_numpy()\n",
    "\n",
    "# Shift to strictly positive if needed (Box-Cox requires x > 0)\n",
    "min_val = min(np.min(x_m), np.min(x_f))\n",
    "shift = 0.0\n",
    "if min_val <= 0:\n",
    "    shift = 1.0 - min_val  # minimal positive shift\n",
    "\n",
    "# Fit a common lambda on pooled data\n",
    "pooled_pos = np.concatenate([x_m + shift, x_f + shift])\n",
    "pooled_bc, lam = boxcox_fit(pooled_pos)  # returns transformed pooled and lambda\n",
    "\n",
    "# Apply same lambda to each group\n",
    "x_m_bc = boxcox_apply(x_m + shift, lam)\n",
    "x_f_bc = boxcox_apply(x_f + shift, lam)\n",
    "\n",
    "print(f\"Box-Cox lambda (pooled) = {lam:.4f}, shift = {shift:.4f}\")\n",
    "\n",
    "# Cramér–von Mises normality test per group (vs Normal with estimated mu, sigma)\n",
    "mu_m, sd_m = np.mean(x_m_bc), np.std(x_m_bc, ddof=1)\n",
    "mu_f, sd_f = np.mean(x_f_bc), np.std(x_f_bc, ddof=1)\n",
    "\n",
    "res_m = cramervonmises(x_m_bc, lambda t: norm.cdf(t, loc=mu_m, scale=sd_m))\n",
    "res_f = cramervonmises(x_f_bc, lambda t: norm.cdf(t, loc=mu_f, scale=sd_f))\n",
    "\n",
    "print(f\"[Male writing]  CvM = {res_m.statistic:.4f}, p = {res_m.pvalue:.4f} -> \"\n",
    "      f\"{'Fail to reject normality' if res_m.pvalue > 0.05 else 'Reject normality'} at alpha=0.05\")\n",
    "print(f\"[Female writing]CvM = {res_f.statistic:.4f}, p = {res_f.pvalue:.4f} -> \"\n",
    "      f\"{'Fail to reject normality' if res_f.pvalue > 0.05 else 'Reject normality'} at alpha=0.05\")"
   ]
  },
  {
   "cell_type": "markdown",
   "metadata": {
    "id": "WREfQVtFETZ7"
   },
   "source": [
    "our box cox transformation is now applied to both groups , the normality assumption is verified for both males and females group and we can go ahead.\n",
    "\n",
    "\n",
    "\n",
    "let's test homoschedasticity (sample size is different for each group):"
   ]
  },
  {
   "cell_type": "code",
   "execution_count": 24,
   "metadata": {
    "id": "zA_6U7w6ETZ7"
   },
   "outputs": [
    {
     "name": "stdout",
     "output_type": "stream",
     "text": [
      "Var(male, BC)   = 4434.1407\n",
      "Var(female, BC) = 5257.9662\n",
      "Variance ratio male/female (BC) = 0.843\n",
      "Variance ratio female/male (BC) = 1.186\n",
      "Levene (median): stat=1.111, p=0.2922\n",
      "Fligner-Killeen: stat=1.599, p=0.2061\n"
     ]
    }
   ],
   "source": [
    "# Compare variances of Box-Cox transformed writing scores\n",
    "\n",
    "import numpy as np\n",
    "from scipy import stats\n",
    "\n",
    "var_m_bc = np.var(x_m_bc, ddof=1)\n",
    "var_f_bc = np.var(x_f_bc, ddof=1)\n",
    "\n",
    "ratio_m_over_f = var_m_bc / var_f_bc\n",
    "ratio_f_over_m = var_f_bc / var_m_bc\n",
    "\n",
    "print(f\"Var(male, BC)   = {var_m_bc:.4f}\")\n",
    "print(f\"Var(female, BC) = {var_f_bc:.4f}\")\n",
    "print(f\"Variance ratio male/female (BC) = {ratio_m_over_f:.3f}\")\n",
    "print(f\"Variance ratio female/male (BC) = {ratio_f_over_m:.3f}\")\n",
    "\n",
    "# Formal homoscedasticity checks on transformed data (optional but useful)\n",
    "lev_stat, lev_p = stats.levene(x_m_bc, x_f_bc, center=\"median\")\n",
    "flig_stat, flig_p = stats.fligner(x_m_bc, x_f_bc)\n",
    "print(f\"Levene (median): stat={lev_stat:.3f}, p={lev_p:.4f}\")\n",
    "print(f\"Fligner-Killeen: stat={flig_stat:.3f}, p={flig_p:.4f}\")"
   ]
  },
  {
   "cell_type": "markdown",
   "metadata": {
    "id": "6p1atTzvETZ7"
   },
   "source": [
    "it looks like , comparing the two variances by a rough rule , the ratios are less than 2 , so we can accept the homoschedasticity assumption.\n",
    "\n",
    "\n",
    "\n",
    "### Now we can finally perform our two sample t-test\n",
    "\n",
    "### Hypothesis: We're going to use the gender assumption that females are better at writing than males as the alternative hypothesis\n",
    "\n",
    "$$H_{0} : \\mu_{FemaleWriting}\\leq \\mu_{MaleWriting}$$\n",
    "\n",
    "$$H_{A} : \\mu_{FemaleWriting} >  \\mu_{MaleWriting}$$"
   ]
  },
  {
   "cell_type": "code",
   "execution_count": 25,
   "metadata": {
    "id": "png-SkwvETZ8"
   },
   "outputs": [
    {
     "name": "stdout",
     "output_type": "stream",
     "text": [
      "Means (BC) -> female=266.453, male=221.518\n",
      "Levene p-value=0.2922 -> assume equal variances (pooled)\n",
      "t = 10.184, one-sided p = 0.0000\n",
      "Reject H0: evidence that females have higher writing scores (BC-transformed).\n",
      "Hedges' g (female - male, BC) = 0.644\n"
     ]
    }
   ],
   "source": [
    "# One-sided t-test on Box-Cox transformed writing scores: H1 female > male\n",
    "from scipy import stats\n",
    "import numpy as np\n",
    "\n",
    "mean_m_bc = np.mean(x_m_bc)\n",
    "mean_f_bc = np.mean(x_f_bc)\n",
    "print(f\"Means (BC) -> female={mean_f_bc:.3f}, male={mean_m_bc:.3f}\")\n",
    "\n",
    "# Choose pooled vs Welch based on Levene (already computed above, recompute if needed)\n",
    "lev_stat, lev_p = stats.levene(x_f_bc, x_m_bc, center=\"median\")\n",
    "equal_var = lev_p > 0.05\n",
    "print(f\"Levene p-value={lev_p:.4f} -> {'assume equal variances (pooled)' if equal_var else 'use Welch'}\")\n",
    "\n",
    "# One-sided t-test (female - male > 0)\n",
    "try:\n",
    "    t_stat, p_one = stats.ttest_ind(x_f_bc, x_m_bc, equal_var=equal_var, alternative=\"greater\")\n",
    "except TypeError:\n",
    "    # Fallback for older SciPy without 'alternative'\n",
    "    t_stat, p_two = stats.ttest_ind(x_f_bc, x_m_bc, equal_var=equal_var)\n",
    "    p_one = p_two/2 if t_stat > 0 else 1 - p_two/2\n",
    "\n",
    "print(f\"t = {t_stat:.3f}, one-sided p = {p_one:.4f}\")\n",
    "print(\"Reject H0: evidence that females have higher writing scores (BC-transformed).\"\n",
    "      if p_one < 0.05 else \"Fail to reject H0 at alpha=0.05.\")\n",
    "\n",
    "# Effect size on transformed scale (Hedges' g)\n",
    "def hedges_g(a, b):\n",
    "    na, nb = len(a), len(b)\n",
    "    sa2, sb2 = np.var(a, ddof=1), np.var(b, ddof=1)\n",
    "    s_pooled = np.sqrt(((na-1)*sa2 + (nb-1)*sb2) / (na+nb-2))\n",
    "    d = (np.mean(a) - np.mean(b)) / s_pooled\n",
    "    J = 1 - 3/(4*(na+nb)-9)\n",
    "    return d * J\n",
    "\n",
    "g_bc = hedges_g(x_f_bc, x_m_bc)\n",
    "print(f\"Hedges' g (female - male, BC) = {g_bc:.3f}\")"
   ]
  },
  {
   "cell_type": "markdown",
   "metadata": {
    "id": "nIM98rdxETZ8"
   },
   "source": [
    "Again , the p-value turns out to be really small , almost zero, so we are forced to reject the Null Hypothesis.\n",
    "\n",
    "**From this test , the gender assumption that females are better than males at writing is true.**\n",
    "\n",
    "\n",
    "\n",
    "***\n",
    "\n",
    "# XP NINJA\n",
    "\n",
    "# One-way ANOVA\n",
    "\n",
    "We are interested in understanding whether or not the **factor** ( in this case the treatments ) has an effect on the **outcome** ( in this case the math scores).\n",
    "\n",
    "The treatments factor is structured in four different levels:\n",
    "\n",
    "- **Control group** : a group that doesn't receive neither the free or reduced lunch nor the attendance to the test preparation course\n",
    "\n",
    "- **Free/Reduced lunch group** = **Treatment_1** : a group that only receives the free or reduced lunch\n",
    "\n",
    "- **Test preparation course group** = **Treatment_2** : a group that only receives the attendance to the test preparation course\n",
    "\n",
    "- **Both free/reduced lunch and test preparation course group** = **Treatment_3** : a group that receives both the 'bonuses': free or reduced lunch and attendance to the test preparation course.\n",
    "\n",
    "\n",
    "\n",
    "### For ANOVA we will have the following hypothesis:\n",
    "\n",
    "$$H_{0} : The \\:means\\:of\\:different\\:groups\\:is\\:the\\:same$$\n",
    "\n",
    "$$H_{A} : At\\:least\\:one\\:sample\\:mean\\:is\\:not\\:equal\\:to\\:others$$\n",
    "\n",
    "\n",
    "To conduct One-way ANOVA we first have to do some data wrangling and adjust for the treatments."
   ]
  },
  {
   "cell_type": "code",
   "execution_count": 26,
   "metadata": {},
   "outputs": [
    {
     "name": "stdout",
     "output_type": "stream",
     "text": [
      "Group sizes:\n"
     ]
    },
    {
     "data": {
      "text/html": [
       "<div>\n",
       "<style scoped>\n",
       "    .dataframe tbody tr th:only-of-type {\n",
       "        vertical-align: middle;\n",
       "    }\n",
       "\n",
       "    .dataframe tbody tr th {\n",
       "        vertical-align: top;\n",
       "    }\n",
       "\n",
       "    .dataframe thead th {\n",
       "        text-align: right;\n",
       "    }\n",
       "</style>\n",
       "<table border=\"1\" class=\"dataframe\">\n",
       "  <thead>\n",
       "    <tr style=\"text-align: right;\">\n",
       "      <th></th>\n",
       "      <th>n</th>\n",
       "    </tr>\n",
       "    <tr>\n",
       "      <th>group</th>\n",
       "      <th></th>\n",
       "    </tr>\n",
       "  </thead>\n",
       "  <tbody>\n",
       "    <tr>\n",
       "      <th>control (standard lunch, no prep)</th>\n",
       "      <td>418</td>\n",
       "    </tr>\n",
       "    <tr>\n",
       "      <th>free/reduced + test prep</th>\n",
       "      <td>131</td>\n",
       "    </tr>\n",
       "    <tr>\n",
       "      <th>free/reduced lunch only</th>\n",
       "      <td>224</td>\n",
       "    </tr>\n",
       "    <tr>\n",
       "      <th>test prep only</th>\n",
       "      <td>227</td>\n",
       "    </tr>\n",
       "  </tbody>\n",
       "</table>\n",
       "</div>"
      ],
      "text/plain": [
       "                                     n\n",
       "group                                 \n",
       "control (standard lunch, no prep)  418\n",
       "free/reduced + test prep           131\n",
       "free/reduced lunch only            224\n",
       "test prep only                     227"
      ]
     },
     "metadata": {},
     "output_type": "display_data"
    },
    {
     "data": {
      "text/html": [
       "<div>\n",
       "<style scoped>\n",
       "    .dataframe tbody tr th:only-of-type {\n",
       "        vertical-align: middle;\n",
       "    }\n",
       "\n",
       "    .dataframe tbody tr th {\n",
       "        vertical-align: top;\n",
       "    }\n",
       "\n",
       "    .dataframe thead th {\n",
       "        text-align: right;\n",
       "    }\n",
       "</style>\n",
       "<table border=\"1\" class=\"dataframe\">\n",
       "  <thead>\n",
       "    <tr style=\"text-align: right;\">\n",
       "      <th></th>\n",
       "      <th>group</th>\n",
       "      <th>score</th>\n",
       "    </tr>\n",
       "  </thead>\n",
       "  <tbody>\n",
       "    <tr>\n",
       "      <th>0</th>\n",
       "      <td>control (standard lunch, no prep)</td>\n",
       "      <td>74</td>\n",
       "    </tr>\n",
       "    <tr>\n",
       "      <th>1</th>\n",
       "      <td>control (standard lunch, no prep)</td>\n",
       "      <td>93</td>\n",
       "    </tr>\n",
       "    <tr>\n",
       "      <th>2</th>\n",
       "      <td>control (standard lunch, no prep)</td>\n",
       "      <td>75</td>\n",
       "    </tr>\n",
       "    <tr>\n",
       "      <th>3</th>\n",
       "      <td>control (standard lunch, no prep)</td>\n",
       "      <td>78</td>\n",
       "    </tr>\n",
       "    <tr>\n",
       "      <th>4</th>\n",
       "      <td>control (standard lunch, no prep)</td>\n",
       "      <td>52</td>\n",
       "    </tr>\n",
       "  </tbody>\n",
       "</table>\n",
       "</div>"
      ],
      "text/plain": [
       "                               group  score\n",
       "0  control (standard lunch, no prep)     74\n",
       "1  control (standard lunch, no prep)     93\n",
       "2  control (standard lunch, no prep)     75\n",
       "3  control (standard lunch, no prep)     78\n",
       "4  control (standard lunch, no prep)     52"
      ]
     },
     "metadata": {},
     "output_type": "display_data"
    }
   ],
   "source": [
    "# Build treatment groups for analysis (Writing scores) by lunch type and test preparation status\n",
    "\n",
    "import pandas as pd\n",
    "\n",
    "# Ensure a tidy dataset is available\n",
    "try:\n",
    "    tidy\n",
    "except NameError:\n",
    "    extra_cols = [c for c in [\"lunch\", \"test_prep\"] if c in df.columns]\n",
    "    tidy = df.melt(\n",
    "        id_vars=[\"gender\"] + extra_cols,\n",
    "        value_vars=[\"math\", \"reading\", \"writing\"],\n",
    "        var_name=\"subject\",\n",
    "        value_name=\"score\"\n",
    "    )\n",
    "\n",
    "# We'll analyze WRITING to stay consistent with previous steps\n",
    "SUBJECT = \"writing\"\n",
    "tw = tidy.loc[tidy[\"subject\"] == SUBJECT].copy()\n",
    "\n",
    "# Normalize categorical strings for robust matching\n",
    "if \"lunch\" not in tw.columns or \"test_prep\" not in tw.columns:\n",
    "    raise KeyError(\"Columns 'lunch' and/or 'test_prep' are missing. Make sure your dataset includes them.\")\n",
    "\n",
    "tw[\"lunch\"] = tw[\"lunch\"].str.lower().str.strip()\n",
    "tw[\"test_prep\"] = tw[\"test_prep\"].str.lower().str.strip()\n",
    "\n",
    "# Helper masks\n",
    "is_standard = tw[\"lunch\"].str.startswith(\"standard\")\n",
    "is_free     = tw[\"lunch\"].str.startswith(\"free\")  # matches 'free/reduced'\n",
    "is_none     = tw[\"test_prep\"].str.startswith(\"none\")\n",
    "is_done     = tw[\"test_prep\"].str.startswith(\"completed\")\n",
    "\n",
    "# ------------------------------------------------\n",
    "# Control group\n",
    "control = tw.loc[is_standard & is_none].copy()\n",
    "\n",
    "# Free/Reduced lunch group\n",
    "free_only = tw.loc[is_free & is_none].copy()\n",
    "\n",
    "# Test preparation course group\n",
    "prep_only = tw.loc[is_standard & is_done].copy()\n",
    "\n",
    "# Both free/reduced lunch and test preparation course group\n",
    "both = tw.loc[is_free & is_done].copy()\n",
    "\n",
    "# ------------------------------------------------\n",
    "# Bind everything together\n",
    "writing_by_treatment = pd.concat(\n",
    "    [\n",
    "        control.assign(group=\"control (standard lunch, no prep)\"),\n",
    "        free_only.assign(group=\"free/reduced lunch only\"),\n",
    "        prep_only.assign(group=\"test prep only\"),\n",
    "        both.assign(group=\"free/reduced + test prep\"),\n",
    "    ],\n",
    "    ignore_index=True,\n",
    ")[[\"group\", \"score\"]]\n",
    "\n",
    "# Quick summary\n",
    "print(\"Group sizes:\")\n",
    "display(writing_by_treatment.groupby(\"group\").size().to_frame(\"n\"))\n",
    "\n",
    "display(writing_by_treatment.head())"
   ]
  },
  {
   "cell_type": "markdown",
   "metadata": {
    "id": "_Vlt_zR5ETZ8"
   },
   "source": [
    "\n",
    "### Now we go along and check the assumptions:\n",
    "\n",
    "- Normality Assumption: let's check the situation visually first"
   ]
  },
  {
   "cell_type": "code",
   "execution_count": 27,
   "metadata": {
    "id": "wkZVOjeGETZ9"
   },
   "outputs": [
    {
     "data": {
      "image/png": "[encoded data removed]",
      "text/plain": [
       "<Figure size 800x500 with 1 Axes>"
      ]
     },
     "metadata": {},
     "output_type": "display_data"
    }
   ],
   "source": [
    "# Density plot to compare writing scores by treatment type\n",
    "import matplotlib.pyplot as plt\n",
    "import seaborn as sns\n",
    "\n",
    "plt.figure(figsize=(8, 5))\n",
    "for g, sub in writing_by_treatment.groupby(\"group\"):\n",
    "    sns.kdeplot(sub[\"score\"], label=g, linewidth=2, clip=(0, 100))\n",
    "plt.title(\"Writing Scores by Treatment Type — Density\")\n",
    "plt.xlabel(\"Score\"); plt.ylabel(\"Density\")\n",
    "plt.xlim(0, 100)\n",
    "plt.legend(title=\"Group\", loc=\"best\")\n",
    "plt.show()"
   ]
  },
  {
   "cell_type": "markdown",
   "metadata": {
    "id": "Z0__1OYJETZ9"
   },
   "source": [
    "</br>\n",
    "</br>\n",
    "</br>\n",
    "\n",
    "Each group looks pretty normal , but let's perform some tests to be sure:\n"
   ]
  },
  {
   "cell_type": "code",
   "execution_count": 28,
   "metadata": {
    "id": "Ny_eJl7OETZ9"
   },
   "outputs": [
    {
     "data": {
      "text/html": [
       "<div>\n",
       "<style scoped>\n",
       "    .dataframe tbody tr th:only-of-type {\n",
       "        vertical-align: middle;\n",
       "    }\n",
       "\n",
       "    .dataframe tbody tr th {\n",
       "        vertical-align: top;\n",
       "    }\n",
       "\n",
       "    .dataframe thead th {\n",
       "        text-align: right;\n",
       "    }\n",
       "</style>\n",
       "<table border=\"1\" class=\"dataframe\">\n",
       "  <thead>\n",
       "    <tr style=\"text-align: right;\">\n",
       "      <th></th>\n",
       "      <th>group</th>\n",
       "      <th>n</th>\n",
       "      <th>mean</th>\n",
       "      <th>sd</th>\n",
       "      <th>shapiro_stat</th>\n",
       "      <th>shapiro_p</th>\n",
       "      <th>lilliefors_stat</th>\n",
       "      <th>lilliefors_p</th>\n",
       "    </tr>\n",
       "  </thead>\n",
       "  <tbody>\n",
       "    <tr>\n",
       "      <th>0</th>\n",
       "      <td>control (standard lunch, no prep)</td>\n",
       "      <td>418</td>\n",
       "      <td>67.595694</td>\n",
       "      <td>14.238182</td>\n",
       "      <td>0.994477</td>\n",
       "      <td>0.137171</td>\n",
       "      <td>0.047907</td>\n",
       "      <td>0.024284</td>\n",
       "    </tr>\n",
       "    <tr>\n",
       "      <th>1</th>\n",
       "      <td>free/reduced + test prep</td>\n",
       "      <td>131</td>\n",
       "      <td>70.351145</td>\n",
       "      <td>13.850256</td>\n",
       "      <td>0.988577</td>\n",
       "      <td>0.351882</td>\n",
       "      <td>0.062406</td>\n",
       "      <td>0.301467</td>\n",
       "    </tr>\n",
       "    <tr>\n",
       "      <th>2</th>\n",
       "      <td>free/reduced lunch only</td>\n",
       "      <td>224</td>\n",
       "      <td>58.736607</td>\n",
       "      <td>14.707226</td>\n",
       "      <td>0.991223</td>\n",
       "      <td>0.196900</td>\n",
       "      <td>0.046673</td>\n",
       "      <td>0.317217</td>\n",
       "    </tr>\n",
       "    <tr>\n",
       "      <th>3</th>\n",
       "      <td>test prep only</td>\n",
       "      <td>227</td>\n",
       "      <td>76.766520</td>\n",
       "      <td>12.535017</td>\n",
       "      <td>0.982888</td>\n",
       "      <td>0.007629</td>\n",
       "      <td>0.061523</td>\n",
       "      <td>0.046483</td>\n",
       "    </tr>\n",
       "  </tbody>\n",
       "</table>\n",
       "</div>"
      ],
      "text/plain": [
       "                               group    n       mean         sd  shapiro_stat  \\\n",
       "0  control (standard lunch, no prep)  418  67.595694  14.238182      0.994477   \n",
       "1           free/reduced + test prep  131  70.351145  13.850256      0.988577   \n",
       "2            free/reduced lunch only  224  58.736607  14.707226      0.991223   \n",
       "3                     test prep only  227  76.766520  12.535017      0.982888   \n",
       "\n",
       "   shapiro_p  lilliefors_stat  lilliefors_p  \n",
       "0   0.137171         0.047907      0.024284  \n",
       "1   0.351882         0.062406      0.301467  \n",
       "2   0.196900         0.046673      0.317217  \n",
       "3   0.007629         0.061523      0.046483  "
      ]
     },
     "metadata": {},
     "output_type": "display_data"
    }
   ],
   "source": [
    "# Normality tests per group (Shapiro–Wilk and Lilliefors)\n",
    "\n",
    "from scipy.stats import shapiro\n",
    "from statsmodels.stats.diagnostic import lilliefors\n",
    "import numpy as np\n",
    "import pandas as pd\n",
    "\n",
    "rows = []\n",
    "for g, sub in writing_by_treatment.groupby(\"group\"):\n",
    "    x = sub[\"score\"].dropna().to_numpy()\n",
    "    n = len(x)\n",
    "\n",
    "    # Shapiro–Wilk (works best for n <= 5000)\n",
    "    sh_stat, sh_p = shapiro(x) if n >= 3 else (np.nan, np.nan)\n",
    "\n",
    "    # Lilliefors (normality with estimated parameters)\n",
    "    try:\n",
    "        lf_stat, lf_p = lilliefors(x, dist=\"norm\")\n",
    "    except Exception:\n",
    "        lf_stat, lf_p = (np.nan, np.nan)\n",
    "\n",
    "    rows.append((g, n, x.mean(), x.std(ddof=1), sh_stat, sh_p, lf_stat, lf_p))\n",
    "\n",
    "norm_table = pd.DataFrame(\n",
    "    rows,\n",
    "    columns=[\"group\", \"n\", \"mean\", \"sd\", \"shapiro_stat\", \"shapiro_p\", \"lilliefors_stat\", \"lilliefors_p\"]\n",
    ")\n",
    "\n",
    "display(norm_table)"
   ]
  },
  {
   "cell_type": "markdown",
   "metadata": {
    "id": "mCCnidPpETZ9"
   },
   "source": [
    "**Normality is checked for each treatment group!**\n",
    "\n",
    "- Similarity of variances"
   ]
  },
  {
   "cell_type": "code",
   "execution_count": 29,
   "metadata": {
    "id": "eq0cN3WNETZ9"
   },
   "outputs": [
    {
     "name": "stdout",
     "output_type": "stream",
     "text": [
      "Group variances:\n",
      " group\n",
      "control (standard lunch, no prep)    202.725833\n",
      "free/reduced + test prep             191.829595\n",
      "free/reduced lunch only              216.302510\n",
      "test prep only                       157.126662\n",
      "Name: score, dtype: float64\n",
      "Max/Min variance ratio = 1.377  (rule-of-thumb < 2.0 suggests similar variances)\n",
      "Bartlett test        : stat=6.461, p=0.0912\n",
      "Fligner–Killeen test : stat=5.678, p=0.1284\n"
     ]
    }
   ],
   "source": [
    "# Variance similarity (rough rule) + Bartlett and Fligner–Killeen tests\n",
    "import numpy as np\n",
    "from scipy import stats\n",
    "\n",
    "# Rough rule: max(var) / min(var) < 2 → similar variances\n",
    "group_vars = writing_by_treatment.groupby(\"group\")[\"score\"].var(ddof=1)\n",
    "ratio_max_min = group_vars.max() / group_vars.min()\n",
    "print(\"Group variances:\\n\", group_vars)\n",
    "print(f\"Max/Min variance ratio = {ratio_max_min:.3f}  (rule-of-thumb < 2.0 suggests similar variances)\")\n",
    "\n",
    "# Prepare arrays for omnibus variance tests\n",
    "groups = [sub[\"score\"].dropna().to_numpy() for _, sub in writing_by_treatment.groupby(\"group\")]\n",
    "\n",
    "# Bartlett (sensitive to non-normality) and Fligner (robust)\n",
    "bart_stat, bart_p = stats.bartlett(*groups)\n",
    "flig_stat, flig_p = stats.fligner(*groups)\n",
    "\n",
    "print(f\"Bartlett test        : stat={bart_stat:.3f}, p={bart_p:.4f}\")\n",
    "print(f\"Fligner–Killeen test : stat={flig_stat:.3f}, p={flig_p:.4f}\")"
   ]
  },
  {
   "cell_type": "markdown",
   "metadata": {
    "id": "FWSsOZJUETZ9"
   },
   "source": [
    "**Homogeneity of variances of treatment groups is checked!** ( both with a rough rule and with actual tests.)\n",
    "\n",
    "We can finally perform ANOVA:"
   ]
  },
  {
   "cell_type": "code",
   "execution_count": 30,
   "metadata": {
    "id": "g0gmbKd6ETZ9"
   },
   "outputs": [
    {
     "name": "stdout",
     "output_type": "stream",
     "text": [
      "One-way ANOVA: F = 64.359, p = 4.8672e-38\n",
      "Eta-squared (η²) = 0.162\n"
     ]
    },
    {
     "data": {
      "text/html": [
       "<div>\n",
       "<style scoped>\n",
       "    .dataframe tbody tr th:only-of-type {\n",
       "        vertical-align: middle;\n",
       "    }\n",
       "\n",
       "    .dataframe tbody tr th {\n",
       "        vertical-align: top;\n",
       "    }\n",
       "\n",
       "    .dataframe thead th {\n",
       "        text-align: right;\n",
       "    }\n",
       "</style>\n",
       "<table border=\"1\" class=\"dataframe\">\n",
       "  <thead>\n",
       "    <tr style=\"text-align: right;\">\n",
       "      <th></th>\n",
       "      <th>count</th>\n",
       "      <th>mean</th>\n",
       "      <th>std</th>\n",
       "    </tr>\n",
       "    <tr>\n",
       "      <th>group</th>\n",
       "      <th></th>\n",
       "      <th></th>\n",
       "      <th></th>\n",
       "    </tr>\n",
       "  </thead>\n",
       "  <tbody>\n",
       "    <tr>\n",
       "      <th>control (standard lunch, no prep)</th>\n",
       "      <td>418</td>\n",
       "      <td>67.595694</td>\n",
       "      <td>14.238182</td>\n",
       "    </tr>\n",
       "    <tr>\n",
       "      <th>free/reduced + test prep</th>\n",
       "      <td>131</td>\n",
       "      <td>70.351145</td>\n",
       "      <td>13.850256</td>\n",
       "    </tr>\n",
       "    <tr>\n",
       "      <th>free/reduced lunch only</th>\n",
       "      <td>224</td>\n",
       "      <td>58.736607</td>\n",
       "      <td>14.707226</td>\n",
       "    </tr>\n",
       "    <tr>\n",
       "      <th>test prep only</th>\n",
       "      <td>227</td>\n",
       "      <td>76.766520</td>\n",
       "      <td>12.535017</td>\n",
       "    </tr>\n",
       "  </tbody>\n",
       "</table>\n",
       "</div>"
      ],
      "text/plain": [
       "                                   count       mean        std\n",
       "group                                                         \n",
       "control (standard lunch, no prep)    418  67.595694  14.238182\n",
       "free/reduced + test prep             131  70.351145  13.850256\n",
       "free/reduced lunch only              224  58.736607  14.707226\n",
       "test prep only                       227  76.766520  12.535017"
      ]
     },
     "metadata": {},
     "output_type": "display_data"
    }
   ],
   "source": [
    "# One-way ANOVA for writing scores across treatment groups\n",
    "\n",
    "from scipy.stats import f_oneway\n",
    "import numpy as np\n",
    "import pandas as pd\n",
    "\n",
    "# Reuse 'groups' built above\n",
    "F, p = f_oneway(*groups)\n",
    "print(f\"One-way ANOVA: F = {F:.3f}, p = {p:.4e}\")\n",
    "\n",
    "# Optional: effect size (eta-squared)\n",
    "all_scores = writing_by_treatment[\"score\"].to_numpy()\n",
    "grand_mean = all_scores.mean()\n",
    "ss_between = sum(\n",
    "    len(sub) * (sub[\"score\"].mean() - grand_mean) ** 2\n",
    "    for _, sub in writing_by_treatment.groupby(\"group\")\n",
    ")\n",
    "ss_total = ((all_scores - grand_mean) ** 2).sum()\n",
    "eta_sq = ss_between / ss_total\n",
    "print(f\"Eta-squared (η²) = {eta_sq:.3f}\")\n",
    "\n",
    "# Context: group sample sizes and means\n",
    "summary = writing_by_treatment.groupby(\"group\")[\"score\"].agg([\"count\", \"mean\", \"std\"])\n",
    "display(summary)"
   ]
  },
  {
   "cell_type": "markdown",
   "metadata": {
    "id": "QhmDU2HkETZ9"
   },
   "source": [
    "### Key takeaways:\n",
    "\n",
    "\n",
    "- The **f-value** is much greater than 1,that is **positive** as we know that not only we can reject the null hypothesis (all means are equal) but the **variance between groups is bigger than the one within groups** so this difference is very likely statistically significant.\n",
    "\n",
    "- The **p-value** is essentially zero,confirming what we have already said with the f-value about the rejection of the null hypothesis ,saying that there exist a significant difference between them.\n",
    "\n",
    "\n",
    "### So in general , it looks like there exists a statistically significant difference among at least two of the groups' mean math scores !\n",
    "\n",
    "But wait... which couples of means are different from each other?\n",
    "\n",
    "To answer this question we must perform a post-hoc test.\n",
    "\n",
    "### Let's perform the Tukey test to verify which couple of means is different among them."
   ]
  },
  {
   "cell_type": "markdown",
   "metadata": {
    "id": "rhP-wTlAETZ-"
   },
   "source": [
    "### Key takeaways:\n",
    "\n",
    "- As the boxplot already showed , the difference in means between treatment 1 and control , with control group having higher math scores , is significant: **it looks like having the economic freedom of not paying or paying less for lunch negatively impats math scores!**\n",
    "\n",
    "- Another important difference already present in the boxplot , the difference in means between treatment 2 and 1 , with treatment 2 having higher math scores , is significant:  **only attending the test preparation course and not having the economic freedom of the free or reduced lunch is more effective than having that economic freedom and not attending the test preparation course!**\n",
    "\n",
    "- This difference was also present in the boxplot , like the other two , and is between the third and second treatments, with treatment two being more effective than the third.\n",
    "This means that : **the people who attended the test preparation course but also enjoyed the economic freedom of the free/reduced lunch , statistically perform worse than people who have attened the test , but have to pay for lunch**.\n",
    "\n",
    "### Conclusions : from these tests it looks like , while on the one hand saving the lunch money has a negative effect on math scores as opposed as we expected , on the other hand attending the test preparation course has a positive one as we expected.\n",
    "\n",
    "### Maybe people used the money saved from lunch to buy things that distracted them from studying maths! That's not good , buy more math books with that money!\n",
    "\n",
    "\n",
    "\n"
   ]
  },
  {
   "cell_type": "code",
   "execution_count": 31,
   "metadata": {},
   "outputs": [
    {
     "name": "stdout",
     "output_type": "stream",
     "text": [
      "                       Multiple Comparison of Means - Tukey HSD, FWER=0.05                        \n",
      "==================================================================================================\n",
      "              group1                       group2          meandiff p-adj   lower    upper  reject\n",
      "--------------------------------------------------------------------------------------------------\n",
      "control (standard lunch, no prep) free/reduced + test prep   2.7555 0.1978  -0.8335  6.3444  False\n",
      "control (standard lunch, no prep)  free/reduced lunch only  -8.8591    0.0  -11.827 -5.8911   True\n",
      "control (standard lunch, no prep)           test prep only   9.1708    0.0   6.2157  12.126   True\n",
      "         free/reduced + test prep  free/reduced lunch only -11.6145    0.0 -15.5569 -7.6722   True\n",
      "         free/reduced + test prep           test prep only   6.4154 0.0002   2.4827 10.3481   True\n",
      "          free/reduced lunch only           test prep only  18.0299    0.0  14.6543 21.4055   True\n",
      "--------------------------------------------------------------------------------------------------\n"
     ]
    },
    {
     "data": {
      "text/html": [
       "<div>\n",
       "<style scoped>\n",
       "    .dataframe tbody tr th:only-of-type {\n",
       "        vertical-align: middle;\n",
       "    }\n",
       "\n",
       "    .dataframe tbody tr th {\n",
       "        vertical-align: top;\n",
       "    }\n",
       "\n",
       "    .dataframe thead th {\n",
       "        text-align: right;\n",
       "    }\n",
       "</style>\n",
       "<table border=\"1\" class=\"dataframe\">\n",
       "  <thead>\n",
       "    <tr style=\"text-align: right;\">\n",
       "      <th></th>\n",
       "      <th>group1</th>\n",
       "      <th>group2</th>\n",
       "      <th>meandiff</th>\n",
       "      <th>p-adj</th>\n",
       "      <th>lower</th>\n",
       "      <th>upper</th>\n",
       "      <th>reject</th>\n",
       "    </tr>\n",
       "  </thead>\n",
       "  <tbody>\n",
       "    <tr>\n",
       "      <th>0</th>\n",
       "      <td>control (standard lunch, no prep)</td>\n",
       "      <td>free/reduced + test prep</td>\n",
       "      <td>2.7555</td>\n",
       "      <td>0.1978</td>\n",
       "      <td>-0.8335</td>\n",
       "      <td>6.3444</td>\n",
       "      <td>False</td>\n",
       "    </tr>\n",
       "    <tr>\n",
       "      <th>1</th>\n",
       "      <td>control (standard lunch, no prep)</td>\n",
       "      <td>free/reduced lunch only</td>\n",
       "      <td>-8.8591</td>\n",
       "      <td>0.0000</td>\n",
       "      <td>-11.8270</td>\n",
       "      <td>-5.8911</td>\n",
       "      <td>True</td>\n",
       "    </tr>\n",
       "    <tr>\n",
       "      <th>2</th>\n",
       "      <td>control (standard lunch, no prep)</td>\n",
       "      <td>test prep only</td>\n",
       "      <td>9.1708</td>\n",
       "      <td>0.0000</td>\n",
       "      <td>6.2157</td>\n",
       "      <td>12.1260</td>\n",
       "      <td>True</td>\n",
       "    </tr>\n",
       "    <tr>\n",
       "      <th>3</th>\n",
       "      <td>free/reduced + test prep</td>\n",
       "      <td>free/reduced lunch only</td>\n",
       "      <td>-11.6145</td>\n",
       "      <td>0.0000</td>\n",
       "      <td>-15.5569</td>\n",
       "      <td>-7.6722</td>\n",
       "      <td>True</td>\n",
       "    </tr>\n",
       "    <tr>\n",
       "      <th>4</th>\n",
       "      <td>free/reduced + test prep</td>\n",
       "      <td>test prep only</td>\n",
       "      <td>6.4154</td>\n",
       "      <td>0.0002</td>\n",
       "      <td>2.4827</td>\n",
       "      <td>10.3481</td>\n",
       "      <td>True</td>\n",
       "    </tr>\n",
       "    <tr>\n",
       "      <th>5</th>\n",
       "      <td>free/reduced lunch only</td>\n",
       "      <td>test prep only</td>\n",
       "      <td>18.0299</td>\n",
       "      <td>0.0000</td>\n",
       "      <td>14.6543</td>\n",
       "      <td>21.4055</td>\n",
       "      <td>True</td>\n",
       "    </tr>\n",
       "  </tbody>\n",
       "</table>\n",
       "</div>"
      ],
      "text/plain": [
       "                              group1                    group2  meandiff  \\\n",
       "0  control (standard lunch, no prep)  free/reduced + test prep    2.7555   \n",
       "1  control (standard lunch, no prep)   free/reduced lunch only   -8.8591   \n",
       "2  control (standard lunch, no prep)            test prep only    9.1708   \n",
       "3           free/reduced + test prep   free/reduced lunch only  -11.6145   \n",
       "4           free/reduced + test prep            test prep only    6.4154   \n",
       "5            free/reduced lunch only            test prep only   18.0299   \n",
       "\n",
       "    p-adj    lower    upper  reject  \n",
       "0  0.1978  -0.8335   6.3444   False  \n",
       "1  0.0000 -11.8270  -5.8911    True  \n",
       "2  0.0000   6.2157  12.1260    True  \n",
       "3  0.0000 -15.5569  -7.6722    True  \n",
       "4  0.0002   2.4827  10.3481    True  \n",
       "5  0.0000  14.6543  21.4055    True  "
      ]
     },
     "metadata": {},
     "output_type": "display_data"
    },
    {
     "data": {
      "image/png": "[encoded data removed]",
      "text/plain": [
       "<Figure size 1000x600 with 1 Axes>"
      ]
     },
     "metadata": {},
     "output_type": "display_data"
    }
   ],
   "source": [
    "# Tukey HSD post-hoc test across treatment groups (same DV used in ANOVA)\n",
    "\n",
    "import matplotlib.pyplot as plt\n",
    "import pandas as pd\n",
    "from statsmodels.stats.multicomp import pairwise_tukeyhsd\n",
    "\n",
    "# Run Tukey on the writing scores by treatment group\n",
    "tuk = pairwise_tukeyhsd(\n",
    "    endog=writing_by_treatment[\"score\"],\n",
    "    groups=writing_by_treatment[\"group\"],\n",
    "    alpha=0.05\n",
    ")\n",
    "\n",
    "print(tuk)\n",
    "\n",
    "# Tidy summary table\n",
    "tuk_df = pd.DataFrame(\n",
    "    tuk._results_table.data[1:],  # skip header row\n",
    "    columns=tuk._results_table.data[0]\n",
    ")\n",
    "display(tuk_df)\n",
    "\n",
    "# Optional: simultaneous CIs plot\n",
    "fig = tuk.plot_simultaneous()\n",
    "plt.title(\"Tukey HSD – Writing Scores by Treatment\")\n",
    "plt.xlabel(\"Mean difference (95% simultaneous CI)\")\n",
    "plt.show()"
   ]
  },
  {
   "cell_type": "markdown",
   "metadata": {},
   "source": [
    "## Conclusion & Interpretation\n",
    "\n",
    "### 1) Gender comparisons\n",
    "- **Math:** After IQR outlier removal, males score **higher** than females  \n",
    "  *(Levene p≈0.97 → equal variances; one-sided t-test male>female: **t=5.137, p<0.001**; Hedges’ g ≈ **0.33**, small–to–medium).*\n",
    "- **Reading:** Both groups passed normality (CvM p>0.5). With the prespecified alternative (*female > male*), the one-sided t-test should be used to confirm significance; descriptively, females tend to score higher.\n",
    "\n",
    "### 2) Treatment effects on **Writing** (ANOVA + Tukey)\n",
    "We compared four groups:\n",
    "- **control (standard lunch, no prep)**\n",
    "- **free/reduced lunch only**\n",
    "- **test prep only**\n",
    "- **free/reduced + test prep**\n",
    "\n",
    "**ANOVA:** Between-group differences are **statistically significant** *(F ≫ 1, p ≈ 0)* — at least two means differ.\n",
    "\n",
    "**Tukey HSD (FWER = 0.05):**\n",
    "- **test prep only** > **control** *(p < 0.001)*\n",
    "- **test prep only** > **free/reduced + test prep** *(p = 0.0002)*\n",
    "- **test prep only** > **free/reduced lunch only** *(p < 0.001)*\n",
    "- **free/reduced + test prep** > **free/reduced lunch only** *(p < 0.001)*\n",
    "- **control** > **free/reduced lunch only** *(p < 0.001)*\n",
    "- **control** vs **free/reduced + test prep**: **not significant** *(p ≈ 0.198)*\n",
    "\n",
    "**Mean ranking (highest → lowest):**  \n",
    "**test prep only** → **free/reduced + test prep ≈ control** → **free/reduced lunch only**.\n",
    "\n",
    "### 3) Practical takeaways\n",
    "- Taking a **test-preparation course** is associated with the **largest improvement** in writing scores.\n",
    "- **Free/reduced lunch alone** is associated with the **lowest** writing performance.\n",
    "- Adding **test prep** to **free/reduced lunch** improves outcomes but still **does not match** the **test-prep-only** group.\n",
    "\n",
    "### 4) Assumptions & caveats\n",
    "- Normality checks were acceptable (using CvM/Lilliefors; Box-Cox where needed) and variance diagnostics supported the tests used (Levene/Fligner/Bartlett).\n",
    "- This is an **observational** dataset: results show **associations**, not causality.\n",
    "\n",
    "**Bottom line:**  \n",
    "- **Math:** evidence favors **males > females** (small–medium effect).  \n",
    "- **Reading:** females tend to perform better; confirm with the one-sided t-test.  \n",
    "- **Writing:** **test preparation** matters most; **free/reduced lunch only** corresponds to the weakest performance."
   ]
  }
 ],
 "metadata": {
  "colab": {
   "provenance": []
  },
  "kaggle": {
   "accelerator": "none",
   "dataSources": [
    {
     "datasetId": 927657,
     "sourceId": 1569680,
     "sourceType": "datasetVersion"
    }
   ],
   "dockerImageVersionId": 30040,
   "isGpuEnabled": false,
   "isInternetEnabled": true,
   "language": "r",
   "sourceType": "notebook"
  },
  "kernelspec": {
   "display_name": "nlp_course_env",
   "language": "python",
   "name": "python3"
  },
  "language_info": {
   "codemirror_mode": {
    "name": "ipython",
    "version": 3
   },
   "file_extension": ".py",
   "mimetype": "text/x-python",
   "name": "python",
   "nbconvert_exporter": "python",
   "pygments_lexer": "ipython3",
   "version": "3.10.0"
  }
 },
 "nbformat": 4,
 "nbformat_minor": 0
}
