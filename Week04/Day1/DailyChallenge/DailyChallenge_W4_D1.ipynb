{
 "cells": [
  {
   "cell_type": "markdown",
   "id": "f3f4a747",
   "metadata": {},
   "source": [
    "### Daily Challenge : W4_D1"
   ]
  },
  {
   "cell_type": "markdown",
   "id": "eca28020",
   "metadata": {},
   "source": [
    "#### Project Blueprint: Student Success Predictor"
   ]
  },
  {
   "cell_type": "markdown",
   "id": "1c6f5826",
   "metadata": {},
   "source": [
    "#### 1. Problem & ML Type"
   ]
  },
  {
   "cell_type": "markdown",
   "id": "7164ace1",
   "metadata": {},
   "source": [
    "Goal:\n",
    "Predict if a student will pass or fail.\n",
    "\n",
    "ML Type Chosen:\n",
    "Supervised Learning\n",
    "\n",
    "Justification:\n",
    "We have historical data showing whether each student ultimately passed or failed, which is a known target variable to predict."
   ]
  },
  {
   "cell_type": "markdown",
   "id": "440df11c",
   "metadata": {},
   "source": [
    "#### 2. Core Features"
   ]
  },
  {
   "cell_type": "markdown",
   "id": "db0a52f9",
   "metadata": {},
   "source": [
    "Feature 1:\n",
    "Number of practice quizzes completed\n",
    "\n",
    "Why:\n",
    "This directly measures the student’s engagement with learning material and their effort to test their understanding."
   ]
  },
  {
   "cell_type": "markdown",
   "id": "f0afb0d2",
   "metadata": {},
   "source": [
    "Feature 2:\n",
    "Average score on practice quizzes\n",
    "\n",
    "Why:\n",
    "Higher average scores indicate stronger mastery of the subject, making this a powerful predictor of final exam performance."
   ]
  },
  {
   "cell_type": "markdown",
   "id": "be26328c",
   "metadata": {},
   "source": [
    "Feature 3:\n",
    "Frequency of logins per week\n",
    "\n",
    "Why:\n",
    "Regular access to the platform shows consistent study habits and higher engagement, both linked to better outcomes."
   ]
  },
  {
   "cell_type": "markdown",
   "id": "a5ce89b0",
   "metadata": {},
   "source": [
    "Additional brainstormed features you considered:\n",
    "- Time spent watching instructional videos\n",
    "- Number of help requests or tutor sessions initiated\n",
    "- Participation in discussion forums\n",
    "- Time since last login"
   ]
  },
  {
   "cell_type": "markdown",
   "id": "ae92f0e4",
   "metadata": {},
   "source": [
    "#### 3. Model Type"
   ]
  },
  {
   "cell_type": "markdown",
   "id": "9f943a16",
   "metadata": {},
   "source": [
    "Model Family Chosen:\n",
    "Classification Models\n",
    "\n",
    "Why:\n",
    "Because the target variable is categorical (Pass or Fail), not a continuous number."
   ]
  },
  {
   "cell_type": "markdown",
   "id": "0ee8db58",
   "metadata": {},
   "source": [
    "#### 4. Evaluation Strategy"
   ]
  },
  {
   "cell_type": "markdown",
   "id": "64f64af9",
   "metadata": {},
   "source": [
    "The More Critical Error:\n",
    "Mistake A (False Negative)"
   ]
  },
  {
   "cell_type": "markdown",
   "id": "076caafa",
   "metadata": {},
   "source": [
    "##### Justification:\n",
    "If the model predicts a student will pass when they are actually at risk of failing, the platform misses the opportunity to intervene and support them. This can lead to worse student outcomes and damage the platform’s credibility. It is preferable to err on the side of offering help even if it was not strictly necessary."
   ]
  }
 ],
 "metadata": {
  "language_info": {
   "name": "python"
  }
 },
 "nbformat": 4,
 "nbformat_minor": 5
}
