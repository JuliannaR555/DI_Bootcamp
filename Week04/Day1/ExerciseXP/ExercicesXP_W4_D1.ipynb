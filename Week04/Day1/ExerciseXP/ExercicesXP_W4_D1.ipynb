{
 "cells": [
  {
   "cell_type": "markdown",
   "id": "21285c4a",
   "metadata": {},
   "source": [
    "## Exercices XP : W4_D1"
   ]
  },
  {
   "cell_type": "markdown",
   "id": "d5d0bb30",
   "metadata": {},
   "source": [
    "#### Part 1 – Machine Learning Foundations"
   ]
  },
  {
   "cell_type": "markdown",
   "id": "3adcb59e",
   "metadata": {},
   "source": [
    "##### Exercise 1: Type of Learning\n",
    "\n",
    "Stock Price Prediction : Supervised Learning\n",
    "\n",
    "The goal is to predict a specific numerical value (the stock price) based on historical data. There are known labels (actual prices) used to train the model.\n",
    "\n",
    "Library Organization : Unsupervised Learning\n",
    "\n",
    "The objective is to automatically discover groupings (clusters) without predefined labels. The model organizes books by similarity.\n",
    "\n",
    "Vacuum Cleaning Robot : Reinforcement Learning\n",
    "\n",
    "The robot learns through trial and error by interacting with its environment and adjusts its behavior to maximize a reward (cleaned areas) and avoid penalties (collisions)."
   ]
  },
  {
   "cell_type": "markdown",
   "id": "b4aaad28",
   "metadata": {},
   "source": [
    "##### Exercise 2: Action Plan for a Prediction Project\n",
    "\n",
    "Model Objective: Predict whether a client will repay their bank loan or not, in order to help the bank make an informed decision.\n",
    "\n",
    "Required Data (Features):\n",
    "- Client age\n",
    "- Monthly income\n",
    "- Credit history\n",
    "- Debt-to-income ratio\n",
    "- Amount of the requested loan\n",
    "\n",
    "Likely Data Sources:\n",
    "- Loan application forms\n",
    "- Internal banking records\n",
    "- External credit data (credit rating agencies)\n",
    "- Client transaction history\n",
    "- Supporting documents provided (pay slips, proof of address)"
   ]
  },
  {
   "cell_type": "markdown",
   "id": "726cbfc0",
   "metadata": {},
   "source": [
    "##### Exercise 3: Evaluating Model Performance\n",
    "\n",
    "Classification Model (loan prediction):\n",
    "\n",
    "- Accuracy: Percentage of correct predictions overall.\n",
    "- Recall: Percentage of bad payers correctly identified.\n",
    "- Precision: Percentage of clients predicted as bad payers who truly are.\n",
    "\n",
    "For the bank, a false positive (granting a loan to someone who defaults) is more serious than a false negative.\n",
    "This results in a direct financial loss. Therefore, the bank will prefer a model with high precision, even if it means rejecting some reliable clients.\n",
    "\n",
    "Clustering Model (book organization):\n",
    "\n",
    "- Silhouette Score: Measures the consistency within clusters (items close within a cluster, distant between clusters).\n",
    "- Elbow Method: Helps determine the optimal number of groups by analyzing intra-cluster inertia.\n",
    "\n",
    "Reinforcement Model (vacuum robot):\n",
    "\n",
    "- Average Cumulative Reward: If the robot receives better rewards over time, it is learning effectively."
   ]
  },
  {
   "cell_type": "markdown",
   "id": "5c52ac06",
   "metadata": {},
   "source": [
    "# -------------------------------------------\n",
    "#### Step 1: Exploratory Data Analysis (EDA)\n",
    "#### Project: Loan Approval Prediction\n",
    "# -------------------------------------------"
   ]
  },
  {
   "cell_type": "markdown",
   "id": "d22390ca",
   "metadata": {},
   "source": [
    "##### Import Libraries"
   ]
  },
  {
   "cell_type": "code",
   "execution_count": 16,
   "id": "66387023",
   "metadata": {},
   "outputs": [],
   "source": [
    "import pandas as pd\n",
    "import matplotlib.pyplot as plt\n",
    "import seaborn as sns\n",
    "\n",
    "# Display all columns in outputs\n",
    "pd.set_option('display.max_columns', None)"
   ]
  },
  {
   "cell_type": "markdown",
   "id": "ef541bc4",
   "metadata": {},
   "source": [
    "##### Load Data"
   ]
  },
  {
   "cell_type": "code",
   "execution_count": 18,
   "id": "4874aa6c",
   "metadata": {},
   "outputs": [
    {
     "name": "stdout",
     "output_type": "stream",
     "text": [
      "Dataset columns:\n",
      "Index(['Loan_ID', 'Gender', 'Married', 'Dependents', 'Education',\n",
      "       'Self_Employed', 'ApplicantIncome', 'CoapplicantIncome', 'LoanAmount',\n",
      "       'Loan_Amount_Term', 'Credit_History', 'Property_Area', 'Loan_Status'],\n",
      "      dtype='object')\n"
     ]
    }
   ],
   "source": [
    "# Load the dataset\n",
    "df = pd.read_csv(\"train_u6lujuX_CVtuZ9i.csv\")  # Adjust path if needed\n",
    "\n",
    "# Display the column names\n",
    "print(\"Dataset columns:\")\n",
    "print(df.columns)"
   ]
  },
  {
   "cell_type": "markdown",
   "id": "33ebc0b4",
   "metadata": {},
   "source": [
    "##### Initial Data Overview"
   ]
  },
  {
   "cell_type": "code",
   "execution_count": 19,
   "id": "05e0c1e0",
   "metadata": {},
   "outputs": [
    {
     "name": "stdout",
     "output_type": "stream",
     "text": [
      "Preview of the first rows:\n"
     ]
    },
    {
     "data": {
      "text/html": [
       "<div>\n",
       "<style scoped>\n",
       "    .dataframe tbody tr th:only-of-type {\n",
       "        vertical-align: middle;\n",
       "    }\n",
       "\n",
       "    .dataframe tbody tr th {\n",
       "        vertical-align: top;\n",
       "    }\n",
       "\n",
       "    .dataframe thead th {\n",
       "        text-align: right;\n",
       "    }\n",
       "</style>\n",
       "<table border=\"1\" class=\"dataframe\">\n",
       "  <thead>\n",
       "    <tr style=\"text-align: right;\">\n",
       "      <th></th>\n",
       "      <th>Loan_ID</th>\n",
       "      <th>Gender</th>\n",
       "      <th>Married</th>\n",
       "      <th>Dependents</th>\n",
       "      <th>Education</th>\n",
       "      <th>Self_Employed</th>\n",
       "      <th>ApplicantIncome</th>\n",
       "      <th>CoapplicantIncome</th>\n",
       "      <th>LoanAmount</th>\n",
       "      <th>Loan_Amount_Term</th>\n",
       "      <th>Credit_History</th>\n",
       "      <th>Property_Area</th>\n",
       "      <th>Loan_Status</th>\n",
       "    </tr>\n",
       "  </thead>\n",
       "  <tbody>\n",
       "    <tr>\n",
       "      <th>0</th>\n",
       "      <td>LP001002</td>\n",
       "      <td>Male</td>\n",
       "      <td>No</td>\n",
       "      <td>0</td>\n",
       "      <td>Graduate</td>\n",
       "      <td>No</td>\n",
       "      <td>5849</td>\n",
       "      <td>0.0</td>\n",
       "      <td>NaN</td>\n",
       "      <td>360.0</td>\n",
       "      <td>1.0</td>\n",
       "      <td>Urban</td>\n",
       "      <td>Y</td>\n",
       "    </tr>\n",
       "    <tr>\n",
       "      <th>1</th>\n",
       "      <td>LP001003</td>\n",
       "      <td>Male</td>\n",
       "      <td>Yes</td>\n",
       "      <td>1</td>\n",
       "      <td>Graduate</td>\n",
       "      <td>No</td>\n",
       "      <td>4583</td>\n",
       "      <td>1508.0</td>\n",
       "      <td>128.0</td>\n",
       "      <td>360.0</td>\n",
       "      <td>1.0</td>\n",
       "      <td>Rural</td>\n",
       "      <td>N</td>\n",
       "    </tr>\n",
       "    <tr>\n",
       "      <th>2</th>\n",
       "      <td>LP001005</td>\n",
       "      <td>Male</td>\n",
       "      <td>Yes</td>\n",
       "      <td>0</td>\n",
       "      <td>Graduate</td>\n",
       "      <td>Yes</td>\n",
       "      <td>3000</td>\n",
       "      <td>0.0</td>\n",
       "      <td>66.0</td>\n",
       "      <td>360.0</td>\n",
       "      <td>1.0</td>\n",
       "      <td>Urban</td>\n",
       "      <td>Y</td>\n",
       "    </tr>\n",
       "    <tr>\n",
       "      <th>3</th>\n",
       "      <td>LP001006</td>\n",
       "      <td>Male</td>\n",
       "      <td>Yes</td>\n",
       "      <td>0</td>\n",
       "      <td>Not Graduate</td>\n",
       "      <td>No</td>\n",
       "      <td>2583</td>\n",
       "      <td>2358.0</td>\n",
       "      <td>120.0</td>\n",
       "      <td>360.0</td>\n",
       "      <td>1.0</td>\n",
       "      <td>Urban</td>\n",
       "      <td>Y</td>\n",
       "    </tr>\n",
       "    <tr>\n",
       "      <th>4</th>\n",
       "      <td>LP001008</td>\n",
       "      <td>Male</td>\n",
       "      <td>No</td>\n",
       "      <td>0</td>\n",
       "      <td>Graduate</td>\n",
       "      <td>No</td>\n",
       "      <td>6000</td>\n",
       "      <td>0.0</td>\n",
       "      <td>141.0</td>\n",
       "      <td>360.0</td>\n",
       "      <td>1.0</td>\n",
       "      <td>Urban</td>\n",
       "      <td>Y</td>\n",
       "    </tr>\n",
       "  </tbody>\n",
       "</table>\n",
       "</div>"
      ],
      "text/plain": [
       "    Loan_ID Gender Married Dependents     Education Self_Employed  \\\n",
       "0  LP001002   Male      No          0      Graduate            No   \n",
       "1  LP001003   Male     Yes          1      Graduate            No   \n",
       "2  LP001005   Male     Yes          0      Graduate           Yes   \n",
       "3  LP001006   Male     Yes          0  Not Graduate            No   \n",
       "4  LP001008   Male      No          0      Graduate            No   \n",
       "\n",
       "   ApplicantIncome  CoapplicantIncome  LoanAmount  Loan_Amount_Term  \\\n",
       "0             5849                0.0         NaN             360.0   \n",
       "1             4583             1508.0       128.0             360.0   \n",
       "2             3000                0.0        66.0             360.0   \n",
       "3             2583             2358.0       120.0             360.0   \n",
       "4             6000                0.0       141.0             360.0   \n",
       "\n",
       "   Credit_History Property_Area Loan_Status  \n",
       "0             1.0         Urban           Y  \n",
       "1             1.0         Rural           N  \n",
       "2             1.0         Urban           Y  \n",
       "3             1.0         Urban           Y  \n",
       "4             1.0         Urban           Y  "
      ]
     },
     "metadata": {},
     "output_type": "display_data"
    },
    {
     "name": "stdout",
     "output_type": "stream",
     "text": [
      "\n",
      "General statistics:\n"
     ]
    },
    {
     "data": {
      "text/html": [
       "<div>\n",
       "<style scoped>\n",
       "    .dataframe tbody tr th:only-of-type {\n",
       "        vertical-align: middle;\n",
       "    }\n",
       "\n",
       "    .dataframe tbody tr th {\n",
       "        vertical-align: top;\n",
       "    }\n",
       "\n",
       "    .dataframe thead th {\n",
       "        text-align: right;\n",
       "    }\n",
       "</style>\n",
       "<table border=\"1\" class=\"dataframe\">\n",
       "  <thead>\n",
       "    <tr style=\"text-align: right;\">\n",
       "      <th></th>\n",
       "      <th>Loan_ID</th>\n",
       "      <th>Gender</th>\n",
       "      <th>Married</th>\n",
       "      <th>Dependents</th>\n",
       "      <th>Education</th>\n",
       "      <th>Self_Employed</th>\n",
       "      <th>ApplicantIncome</th>\n",
       "      <th>CoapplicantIncome</th>\n",
       "      <th>LoanAmount</th>\n",
       "      <th>Loan_Amount_Term</th>\n",
       "      <th>Credit_History</th>\n",
       "      <th>Property_Area</th>\n",
       "      <th>Loan_Status</th>\n",
       "    </tr>\n",
       "  </thead>\n",
       "  <tbody>\n",
       "    <tr>\n",
       "      <th>count</th>\n",
       "      <td>614</td>\n",
       "      <td>601</td>\n",
       "      <td>611</td>\n",
       "      <td>599</td>\n",
       "      <td>614</td>\n",
       "      <td>582</td>\n",
       "      <td>614.000000</td>\n",
       "      <td>614.000000</td>\n",
       "      <td>592.000000</td>\n",
       "      <td>600.00000</td>\n",
       "      <td>564.000000</td>\n",
       "      <td>614</td>\n",
       "      <td>614</td>\n",
       "    </tr>\n",
       "    <tr>\n",
       "      <th>unique</th>\n",
       "      <td>614</td>\n",
       "      <td>2</td>\n",
       "      <td>2</td>\n",
       "      <td>4</td>\n",
       "      <td>2</td>\n",
       "      <td>2</td>\n",
       "      <td>NaN</td>\n",
       "      <td>NaN</td>\n",
       "      <td>NaN</td>\n",
       "      <td>NaN</td>\n",
       "      <td>NaN</td>\n",
       "      <td>3</td>\n",
       "      <td>2</td>\n",
       "    </tr>\n",
       "    <tr>\n",
       "      <th>top</th>\n",
       "      <td>LP001002</td>\n",
       "      <td>Male</td>\n",
       "      <td>Yes</td>\n",
       "      <td>0</td>\n",
       "      <td>Graduate</td>\n",
       "      <td>No</td>\n",
       "      <td>NaN</td>\n",
       "      <td>NaN</td>\n",
       "      <td>NaN</td>\n",
       "      <td>NaN</td>\n",
       "      <td>NaN</td>\n",
       "      <td>Semiurban</td>\n",
       "      <td>Y</td>\n",
       "    </tr>\n",
       "    <tr>\n",
       "      <th>freq</th>\n",
       "      <td>1</td>\n",
       "      <td>489</td>\n",
       "      <td>398</td>\n",
       "      <td>345</td>\n",
       "      <td>480</td>\n",
       "      <td>500</td>\n",
       "      <td>NaN</td>\n",
       "      <td>NaN</td>\n",
       "      <td>NaN</td>\n",
       "      <td>NaN</td>\n",
       "      <td>NaN</td>\n",
       "      <td>233</td>\n",
       "      <td>422</td>\n",
       "    </tr>\n",
       "    <tr>\n",
       "      <th>mean</th>\n",
       "      <td>NaN</td>\n",
       "      <td>NaN</td>\n",
       "      <td>NaN</td>\n",
       "      <td>NaN</td>\n",
       "      <td>NaN</td>\n",
       "      <td>NaN</td>\n",
       "      <td>5403.459283</td>\n",
       "      <td>1621.245798</td>\n",
       "      <td>146.412162</td>\n",
       "      <td>342.00000</td>\n",
       "      <td>0.842199</td>\n",
       "      <td>NaN</td>\n",
       "      <td>NaN</td>\n",
       "    </tr>\n",
       "    <tr>\n",
       "      <th>std</th>\n",
       "      <td>NaN</td>\n",
       "      <td>NaN</td>\n",
       "      <td>NaN</td>\n",
       "      <td>NaN</td>\n",
       "      <td>NaN</td>\n",
       "      <td>NaN</td>\n",
       "      <td>6109.041673</td>\n",
       "      <td>2926.248369</td>\n",
       "      <td>85.587325</td>\n",
       "      <td>65.12041</td>\n",
       "      <td>0.364878</td>\n",
       "      <td>NaN</td>\n",
       "      <td>NaN</td>\n",
       "    </tr>\n",
       "    <tr>\n",
       "      <th>min</th>\n",
       "      <td>NaN</td>\n",
       "      <td>NaN</td>\n",
       "      <td>NaN</td>\n",
       "      <td>NaN</td>\n",
       "      <td>NaN</td>\n",
       "      <td>NaN</td>\n",
       "      <td>150.000000</td>\n",
       "      <td>0.000000</td>\n",
       "      <td>9.000000</td>\n",
       "      <td>12.00000</td>\n",
       "      <td>0.000000</td>\n",
       "      <td>NaN</td>\n",
       "      <td>NaN</td>\n",
       "    </tr>\n",
       "    <tr>\n",
       "      <th>25%</th>\n",
       "      <td>NaN</td>\n",
       "      <td>NaN</td>\n",
       "      <td>NaN</td>\n",
       "      <td>NaN</td>\n",
       "      <td>NaN</td>\n",
       "      <td>NaN</td>\n",
       "      <td>2877.500000</td>\n",
       "      <td>0.000000</td>\n",
       "      <td>100.000000</td>\n",
       "      <td>360.00000</td>\n",
       "      <td>1.000000</td>\n",
       "      <td>NaN</td>\n",
       "      <td>NaN</td>\n",
       "    </tr>\n",
       "    <tr>\n",
       "      <th>50%</th>\n",
       "      <td>NaN</td>\n",
       "      <td>NaN</td>\n",
       "      <td>NaN</td>\n",
       "      <td>NaN</td>\n",
       "      <td>NaN</td>\n",
       "      <td>NaN</td>\n",
       "      <td>3812.500000</td>\n",
       "      <td>1188.500000</td>\n",
       "      <td>128.000000</td>\n",
       "      <td>360.00000</td>\n",
       "      <td>1.000000</td>\n",
       "      <td>NaN</td>\n",
       "      <td>NaN</td>\n",
       "    </tr>\n",
       "    <tr>\n",
       "      <th>75%</th>\n",
       "      <td>NaN</td>\n",
       "      <td>NaN</td>\n",
       "      <td>NaN</td>\n",
       "      <td>NaN</td>\n",
       "      <td>NaN</td>\n",
       "      <td>NaN</td>\n",
       "      <td>5795.000000</td>\n",
       "      <td>2297.250000</td>\n",
       "      <td>168.000000</td>\n",
       "      <td>360.00000</td>\n",
       "      <td>1.000000</td>\n",
       "      <td>NaN</td>\n",
       "      <td>NaN</td>\n",
       "    </tr>\n",
       "    <tr>\n",
       "      <th>max</th>\n",
       "      <td>NaN</td>\n",
       "      <td>NaN</td>\n",
       "      <td>NaN</td>\n",
       "      <td>NaN</td>\n",
       "      <td>NaN</td>\n",
       "      <td>NaN</td>\n",
       "      <td>81000.000000</td>\n",
       "      <td>41667.000000</td>\n",
       "      <td>700.000000</td>\n",
       "      <td>480.00000</td>\n",
       "      <td>1.000000</td>\n",
       "      <td>NaN</td>\n",
       "      <td>NaN</td>\n",
       "    </tr>\n",
       "  </tbody>\n",
       "</table>\n",
       "</div>"
      ],
      "text/plain": [
       "         Loan_ID Gender Married Dependents Education Self_Employed  \\\n",
       "count        614    601     611        599       614           582   \n",
       "unique       614      2       2          4         2             2   \n",
       "top     LP001002   Male     Yes          0  Graduate            No   \n",
       "freq           1    489     398        345       480           500   \n",
       "mean         NaN    NaN     NaN        NaN       NaN           NaN   \n",
       "std          NaN    NaN     NaN        NaN       NaN           NaN   \n",
       "min          NaN    NaN     NaN        NaN       NaN           NaN   \n",
       "25%          NaN    NaN     NaN        NaN       NaN           NaN   \n",
       "50%          NaN    NaN     NaN        NaN       NaN           NaN   \n",
       "75%          NaN    NaN     NaN        NaN       NaN           NaN   \n",
       "max          NaN    NaN     NaN        NaN       NaN           NaN   \n",
       "\n",
       "        ApplicantIncome  CoapplicantIncome  LoanAmount  Loan_Amount_Term  \\\n",
       "count        614.000000         614.000000  592.000000         600.00000   \n",
       "unique              NaN                NaN         NaN               NaN   \n",
       "top                 NaN                NaN         NaN               NaN   \n",
       "freq                NaN                NaN         NaN               NaN   \n",
       "mean        5403.459283        1621.245798  146.412162         342.00000   \n",
       "std         6109.041673        2926.248369   85.587325          65.12041   \n",
       "min          150.000000           0.000000    9.000000          12.00000   \n",
       "25%         2877.500000           0.000000  100.000000         360.00000   \n",
       "50%         3812.500000        1188.500000  128.000000         360.00000   \n",
       "75%         5795.000000        2297.250000  168.000000         360.00000   \n",
       "max        81000.000000       41667.000000  700.000000         480.00000   \n",
       "\n",
       "        Credit_History Property_Area Loan_Status  \n",
       "count       564.000000           614         614  \n",
       "unique             NaN             3           2  \n",
       "top                NaN     Semiurban           Y  \n",
       "freq               NaN           233         422  \n",
       "mean          0.842199           NaN         NaN  \n",
       "std           0.364878           NaN         NaN  \n",
       "min           0.000000           NaN         NaN  \n",
       "25%           1.000000           NaN         NaN  \n",
       "50%           1.000000           NaN         NaN  \n",
       "75%           1.000000           NaN         NaN  \n",
       "max           1.000000           NaN         NaN  "
      ]
     },
     "metadata": {},
     "output_type": "display_data"
    },
    {
     "name": "stdout",
     "output_type": "stream",
     "text": [
      "\n",
      "Missing values per column:\n",
      "Loan_ID               0\n",
      "Gender               13\n",
      "Married               3\n",
      "Dependents           15\n",
      "Education             0\n",
      "Self_Employed        32\n",
      "ApplicantIncome       0\n",
      "CoapplicantIncome     0\n",
      "LoanAmount           22\n",
      "Loan_Amount_Term     14\n",
      "Credit_History       50\n",
      "Property_Area         0\n",
      "Loan_Status           0\n",
      "dtype: int64\n"
     ]
    }
   ],
   "source": [
    "print(\"Preview of the first rows:\")\n",
    "display(df.head())\n",
    "\n",
    "print(\"\\nGeneral statistics:\")\n",
    "display(df.describe(include='all'))\n",
    "\n",
    "print(\"\\nMissing values per column:\")\n",
    "print(df.isnull().sum())"
   ]
  },
  {
   "cell_type": "markdown",
   "id": "d4929dc6",
   "metadata": {},
   "source": [
    "##### Data Cleaning"
   ]
  },
  {
   "cell_type": "code",
   "execution_count": 20,
   "id": "aeb691e9",
   "metadata": {},
   "outputs": [
    {
     "name": "stdout",
     "output_type": "stream",
     "text": [
      "Missing values after cleaning:\n",
      "Loan_ID              0\n",
      "Gender               0\n",
      "Married              0\n",
      "Dependents           0\n",
      "Education            0\n",
      "Self_Employed        0\n",
      "ApplicantIncome      0\n",
      "CoapplicantIncome    0\n",
      "LoanAmount           0\n",
      "Loan_Amount_Term     0\n",
      "Credit_History       0\n",
      "Property_Area        0\n",
      "Loan_Status          0\n",
      "dtype: int64\n"
     ]
    }
   ],
   "source": [
    "# Fill missing categorical variables with mode\n",
    "df['Gender'] = df['Gender'].fillna(df['Gender'].mode()[0])\n",
    "df['Married'] = df['Married'].fillna(df['Married'].mode()[0])\n",
    "df['Dependents'] = df['Dependents'].fillna(df['Dependents'].mode()[0])\n",
    "df['Self_Employed'] = df['Self_Employed'].fillna(df['Self_Employed'].mode()[0])\n",
    "\n",
    "# Fill missing numeric variables with median or mode\n",
    "df['LoanAmount'] = df['LoanAmount'].fillna(df['LoanAmount'].median())\n",
    "df['Loan_Amount_Term'] = df['Loan_Amount_Term'].fillna(df['Loan_Amount_Term'].mode()[0])\n",
    "df['Credit_History'] = df['Credit_History'].fillna(df['Credit_History'].mode()[0])\n",
    "\n",
    "print(\"Missing values after cleaning:\")\n",
    "print(df.isnull().sum())"
   ]
  },
  {
   "cell_type": "markdown",
   "id": "2003c7ec",
   "metadata": {},
   "source": [
    "##### Distribution of Loan Status"
   ]
  },
  {
   "cell_type": "code",
   "execution_count": 21,
   "id": "3838c7f5",
   "metadata": {},
   "outputs": [
    {
     "data": {
      "image/png": "[encoded data removed]",
      "text/plain": [
       "<Figure size 600x400 with 1 Axes>"
      ]
     },
     "metadata": {},
     "output_type": "display_data"
    }
   ],
   "source": [
    "plt.figure(figsize=(6, 4))\n",
    "sns.countplot(x='Loan_Status', data=df)\n",
    "plt.title(\"Distribution of Loan Status\")\n",
    "plt.xlabel(\"Loan Status (Y = Approved, N = Rejected)\")\n",
    "plt.ylabel(\"Number of Applicants\")\n",
    "plt.tight_layout()\n",
    "plt.show()"
   ]
  },
  {
   "cell_type": "markdown",
   "id": "b65660f7",
   "metadata": {},
   "source": [
    "##### Applicant Income by Loan Status"
   ]
  },
  {
   "cell_type": "code",
   "execution_count": 22,
   "id": "9f73372f",
   "metadata": {},
   "outputs": [
    {
     "data": {
      "image/png": "[encoded data removed]",
      "text/plain": [
       "<Figure size 800x500 with 1 Axes>"
      ]
     },
     "metadata": {},
     "output_type": "display_data"
    }
   ],
   "source": [
    "plt.figure(figsize=(8, 5))\n",
    "sns.boxplot(x='Loan_Status', y='ApplicantIncome', data=df)\n",
    "plt.title(\"Applicant Income by Loan Status\")\n",
    "plt.xlabel(\"Loan Status\")\n",
    "plt.ylabel(\"Applicant Income\")\n",
    "plt.tight_layout()\n",
    "plt.show()"
   ]
  },
  {
   "cell_type": "markdown",
   "id": "920f751f",
   "metadata": {},
   "source": [
    "##### Applicant Income vs Loan Amount by Loan Status"
   ]
  },
  {
   "cell_type": "code",
   "execution_count": 23,
   "id": "f56322bd",
   "metadata": {},
   "outputs": [
    {
     "data": {
      "image/png": "[encoded data removed]",
      "text/plain": [
       "<Figure size 800x500 with 1 Axes>"
      ]
     },
     "metadata": {},
     "output_type": "display_data"
    }
   ],
   "source": [
    "plt.figure(figsize=(8, 5))\n",
    "sns.scatterplot(\n",
    "    x='ApplicantIncome',\n",
    "    y='LoanAmount',\n",
    "    hue='Loan_Status',\n",
    "    data=df\n",
    ")\n",
    "plt.title(\"Applicant Income vs Loan Amount by Loan Status\")\n",
    "plt.xlabel(\"Applicant Income\")\n",
    "plt.ylabel(\"Loan Amount\")\n",
    "plt.tight_layout()\n",
    "plt.show()"
   ]
  },
  {
   "cell_type": "markdown",
   "id": "644c10c3",
   "metadata": {},
   "source": [
    "##### Analyze the target variable distribution"
   ]
  },
  {
   "cell_type": "code",
   "execution_count": 24,
   "id": "7151995e",
   "metadata": {},
   "outputs": [
    {
     "name": "stdout",
     "output_type": "stream",
     "text": [
      "Distribution of target variable (Loan_Status):\n",
      "Loan_Status\n",
      "Y    422\n",
      "N    192\n",
      "Name: count, dtype: int64\n"
     ]
    }
   ],
   "source": [
    "print(\"Distribution of target variable (Loan_Status):\")\n",
    "print(df['Loan_Status'].value_counts())"
   ]
  },
  {
   "cell_type": "markdown",
   "id": "de0e6a8c",
   "metadata": {},
   "source": [
    "##### What this code does:\n",
    "- Cleans missing columns using simple strategies (mode or median)\n",
    "- Displays 3 interpretable plots with Seaborn\n",
    "- Analyzes the distribution of the target variable Loan_Status"
   ]
  },
  {
   "cell_type": "markdown",
   "id": "8f5b752b",
   "metadata": {},
   "source": [
    "# -------------------------------------------\n",
    "#### Step 2: Data Preparation + Modeling\n",
    "#### Objective: Predict Loan Approval\n",
    "# -------------------------------------------"
   ]
  },
  {
   "cell_type": "markdown",
   "id": "1bf13f5e",
   "metadata": {},
   "source": [
    "##### Import Libraries"
   ]
  },
  {
   "cell_type": "code",
   "execution_count": 26,
   "id": "938e8625",
   "metadata": {},
   "outputs": [],
   "source": [
    "from sklearn.model_selection import train_test_split\n",
    "from sklearn.preprocessing import LabelEncoder\n",
    "from sklearn.linear_model import LogisticRegression\n",
    "from sklearn.tree import DecisionTreeClassifier\n",
    "from sklearn.metrics import classification_report, accuracy_score, confusion_matrix"
   ]
  },
  {
   "cell_type": "markdown",
   "id": "f235f9c0",
   "metadata": {},
   "source": [
    "##### Load Data"
   ]
  },
  {
   "cell_type": "code",
   "execution_count": 27,
   "id": "45932f5c",
   "metadata": {},
   "outputs": [],
   "source": [
    "# 2. Load the dataset\n",
    "df = pd.read_csv(\"train_u6lujuX_CVtuZ9i.csv\")"
   ]
  },
  {
   "cell_type": "markdown",
   "id": "42f23528",
   "metadata": {},
   "source": [
    "##### Data Cleaning (same as EDA step)"
   ]
  },
  {
   "cell_type": "code",
   "execution_count": 28,
   "id": "2b11dc58",
   "metadata": {},
   "outputs": [],
   "source": [
    "# 3. Clean missing values as in the previous step\n",
    "df['Gender'] = df['Gender'].fillna(df['Gender'].mode()[0])\n",
    "df['Married'] = df['Married'].fillna(df['Married'].mode()[0])\n",
    "df['Dependents'] = df['Dependents'].fillna(df['Dependents'].mode()[0])\n",
    "df['Self_Employed'] = df['Self_Employed'].fillna(df['Self_Employed'].mode()[0])\n",
    "df['LoanAmount'] = df['LoanAmount'].fillna(df['LoanAmount'].median())\n",
    "df['Loan_Amount_Term'] = df['Loan_Amount_Term'].fillna(df['Loan_Amount_Term'].mode()[0])\n",
    "df['Credit_History'] = df['Credit_History'].fillna(df['Credit_History'].mode()[0])"
   ]
  },
  {
   "cell_type": "markdown",
   "id": "278c0df8",
   "metadata": {},
   "source": [
    "#### Encode Categorical Variables"
   ]
  },
  {
   "cell_type": "code",
   "execution_count": 29,
   "id": "ed8ef55f",
   "metadata": {},
   "outputs": [],
   "source": [
    "# 4. Encode categorical variables with LabelEncoder\n",
    "cols_to_encode = ['Gender', 'Married', 'Dependents', 'Education',\n",
    "                  'Self_Employed', 'Property_Area', 'Loan_Status']\n",
    "\n",
    "for col in cols_to_encode:\n",
    "    df[col] = LabelEncoder().fit_transform(df[col])"
   ]
  },
  {
   "cell_type": "markdown",
   "id": "b21298ee",
   "metadata": {},
   "source": [
    "##### Define Features and Target"
   ]
  },
  {
   "cell_type": "code",
   "execution_count": 30,
   "id": "f0adbc5c",
   "metadata": {},
   "outputs": [],
   "source": [
    "# 5. Define features (X) and target variable (y)\n",
    "X = df.drop(columns=['Loan_ID', 'Loan_Status'])\n",
    "y = df['Loan_Status']"
   ]
  },
  {
   "cell_type": "markdown",
   "id": "feb4248b",
   "metadata": {},
   "source": [
    "#### Split Train and Test Sets"
   ]
  },
  {
   "cell_type": "code",
   "execution_count": 31,
   "id": "3b098ce0",
   "metadata": {},
   "outputs": [],
   "source": [
    "# 6. Split data into training and test sets\n",
    "X_train, X_test, y_train, y_test = train_test_split(\n",
    "    X, y, test_size=0.2, random_state=42\n",
    ")"
   ]
  },
  {
   "cell_type": "code",
   "execution_count": 33,
   "id": "b5b8b1df",
   "metadata": {},
   "outputs": [],
   "source": [
    "from sklearn.preprocessing import StandardScaler\n",
    "\n",
    "# Initialize the scaler\n",
    "scaler = StandardScaler()\n",
    "\n",
    "# Fit the scaler on the training set and transform both train and test\n",
    "X_train_scaled = scaler.fit_transform(X_train)\n",
    "X_test_scaled = scaler.transform(X_test)"
   ]
  },
  {
   "cell_type": "markdown",
   "id": "6bfc877b",
   "metadata": {},
   "source": [
    "##### Train Logistic Regression Model"
   ]
  },
  {
   "cell_type": "code",
   "execution_count": 36,
   "id": "2ccd3f8c",
   "metadata": {},
   "outputs": [],
   "source": [
    "# 7. Model A: Logistic Regression\n",
    "logreg = LogisticRegression(max_iter=1000)\n",
    "logreg.fit(X_train_scaled, y_train)\n",
    "y_pred_logreg = logreg.predict(X_test_scaled)\n"
   ]
  },
  {
   "cell_type": "markdown",
   "id": "a17c37e0",
   "metadata": {},
   "source": [
    "##### Train Decision Tree Model"
   ]
  },
  {
   "cell_type": "code",
   "execution_count": 37,
   "id": "97acda2b",
   "metadata": {},
   "outputs": [],
   "source": [
    "# 8. Model B: Decision Tree\n",
    "tree = DecisionTreeClassifier(random_state=42)\n",
    "tree.fit(X_train, y_train)\n",
    "y_pred_tree = tree.predict(X_test)"
   ]
  },
  {
   "cell_type": "markdown",
   "id": "06578944",
   "metadata": {},
   "source": [
    "##### Evaluate Models"
   ]
  },
  {
   "cell_type": "code",
   "execution_count": 38,
   "id": "283536ae",
   "metadata": {},
   "outputs": [
    {
     "name": "stdout",
     "output_type": "stream",
     "text": [
      "===== Logistic Regression =====\n",
      "Accuracy: 0.7886178861788617\n",
      "              precision    recall  f1-score   support\n",
      "\n",
      "           0       0.95      0.42      0.58        43\n",
      "           1       0.76      0.99      0.86        80\n",
      "\n",
      "    accuracy                           0.79       123\n",
      "   macro avg       0.85      0.70      0.72       123\n",
      "weighted avg       0.83      0.79      0.76       123\n",
      "\n",
      "===== Decision Tree =====\n",
      "Accuracy: 0.6910569105691057\n",
      "              precision    recall  f1-score   support\n",
      "\n",
      "           0       0.56      0.53      0.55        43\n",
      "           1       0.76      0.78      0.77        80\n",
      "\n",
      "    accuracy                           0.69       123\n",
      "   macro avg       0.66      0.65      0.66       123\n",
      "weighted avg       0.69      0.69      0.69       123\n",
      "\n"
     ]
    }
   ],
   "source": [
    "# 9. Evaluate model performance\n",
    "print(\"===== Logistic Regression =====\")\n",
    "print(\"Accuracy:\", accuracy_score(y_test, y_pred_logreg))\n",
    "print(classification_report(y_test, y_pred_logreg))\n",
    "\n",
    "print(\"===== Decision Tree =====\")\n",
    "print(\"Accuracy:\", accuracy_score(y_test, y_pred_tree))\n",
    "print(classification_report(y_test, y_pred_tree))"
   ]
  },
  {
   "cell_type": "markdown",
   "id": "a12abfe0",
   "metadata": {},
   "source": [
    "##### Confusion Matrices"
   ]
  },
  {
   "cell_type": "code",
   "execution_count": 39,
   "id": "b7bbf0de",
   "metadata": {},
   "outputs": [
    {
     "data": {
      "image/png": "[encoded data removed]",
      "text/plain": [
       "<Figure size 1000x400 with 4 Axes>"
      ]
     },
     "metadata": {},
     "output_type": "display_data"
    }
   ],
   "source": [
    "# 10. Display confusion matrices\n",
    "plt.figure(figsize=(10, 4))\n",
    "\n",
    "plt.subplot(1, 2, 1)\n",
    "sns.heatmap(\n",
    "    confusion_matrix(y_test, y_pred_logreg),\n",
    "    annot=True,\n",
    "    fmt=\"d\",\n",
    "    cmap=\"Blues\"\n",
    ")\n",
    "plt.title(\"Confusion Matrix - Logistic Regression\")\n",
    "\n",
    "plt.subplot(1, 2, 2)\n",
    "sns.heatmap(\n",
    "    confusion_matrix(y_test, y_pred_tree),\n",
    "    annot=True,\n",
    "    fmt=\"d\",\n",
    "    cmap=\"Greens\"\n",
    ")\n",
    "plt.title(\"Confusion Matrix - Decision Tree\")\n",
    "\n",
    "plt.tight_layout()\n",
    "plt.show()"
   ]
  },
  {
   "cell_type": "markdown",
   "id": "3fd8d915",
   "metadata": {},
   "source": [
    "##### What you can observe next:\n",
    "- The accuracy of each model\n",
    "- The precision, recall, and F1-score metrics\n",
    "- The confusion matrices (optional, but very useful)"
   ]
  },
  {
   "cell_type": "markdown",
   "id": "a50650cd",
   "metadata": {},
   "source": [
    "Step 3 – Evaluation, Comparison, and Conclusion\n",
    "✅ 1. Performance Comparison Table"
   ]
  },
  {
   "cell_type": "markdown",
   "id": "dbf977f3",
   "metadata": {},
   "source": [
    "# -------------------------------------------\n",
    "#### Step 3: Evaluation, Comparison, and Conclusion\n",
    "#### Objective: Compare model performance\n",
    "# -------------------------------------------"
   ]
  },
  {
   "cell_type": "markdown",
   "id": "0b7c3ad9",
   "metadata": {},
   "source": [
    "##### Import Additional Metrics"
   ]
  },
  {
   "cell_type": "code",
   "execution_count": 40,
   "id": "0d136ad9",
   "metadata": {},
   "outputs": [],
   "source": [
    "# 11. Import additional evaluation metrics\n",
    "from sklearn.metrics import precision_score, recall_score, f1_score"
   ]
  },
  {
   "cell_type": "markdown",
   "id": "0dce9de3",
   "metadata": {},
   "source": [
    "##### Compute Metrics for Each Model"
   ]
  },
  {
   "cell_type": "code",
   "execution_count": 41,
   "id": "69b6350a",
   "metadata": {},
   "outputs": [],
   "source": [
    "# Logistic Regression metrics\n",
    "acc_log = accuracy_score(y_test, y_pred_logreg)\n",
    "prec_log = precision_score(y_test, y_pred_logreg)\n",
    "rec_log = recall_score(y_test, y_pred_logreg)\n",
    "f1_log = f1_score(y_test, y_pred_logreg)\n",
    "\n",
    "# Decision Tree metrics\n",
    "acc_tree = accuracy_score(y_test, y_pred_tree)\n",
    "prec_tree = precision_score(y_test, y_pred_tree)\n",
    "rec_tree = recall_score(y_test, y_pred_tree)\n",
    "f1_tree = f1_score(y_test, y_pred_tree)"
   ]
  },
  {
   "cell_type": "markdown",
   "id": "57bfe815",
   "metadata": {},
   "source": [
    "##### Display Comparison Table"
   ]
  },
  {
   "cell_type": "code",
   "execution_count": 42,
   "id": "edeba8a3",
   "metadata": {},
   "outputs": [
    {
     "name": "stdout",
     "output_type": "stream",
     "text": [
      "\n",
      "===== Model Comparison =====\n",
      "Model                    Accuracy    Precision   Recall      F1-Score\n",
      "Logistic Regression      0.789      0.760       0.988      0.859\n",
      "Decision Tree            0.691      0.756       0.775      0.765\n"
     ]
    }
   ],
   "source": [
    "# Display a comparison table of the main metrics\n",
    "print(\"\\n===== Model Comparison =====\")\n",
    "print(f\"{'Model':<25}{'Accuracy':<12}{'Precision':<12}{'Recall':<12}{'F1-Score'}\")\n",
    "print(f\"{'Logistic Regression':<25}{acc_log:.3f}{' ' * 6}{prec_log:.3f}{' ' * 7}{rec_log:.3f}{' ' * 6}{f1_log:.3f}\")\n",
    "print(f\"{'Decision Tree':<25}{acc_tree:.3f}{' ' * 6}{prec_tree:.3f}{' ' * 7}{rec_tree:.3f}{' ' * 6}{f1_tree:.3f}\")"
   ]
  },
  {
   "cell_type": "markdown",
   "id": "91b67faf",
   "metadata": {},
   "source": [
    "##### Conclusion:\n",
    "Based on the results obtained:\n",
    "- The Logistic Regression model shows higher accuracy than the Decision Tree, meaning it makes fewer errors when predicting loan defaults.\n",
    "- The Decision Tree performs slightly better in recall, which means it identifies more default cases, but at the cost of a higher error risk.\n",
    "- In a banking context, minimizing false positives is a priority (avoiding lending to someone who will not repay), which favors a good precision score.\n",
    "\n",
    "=> Therefore, I recommend using the Logistic Regression model, as it is simple, explainable, and reliable in this context.\n",
    "Even though the Decision Tree is more flexible, it could overfit the data and be less generalizable to new applicants."
   ]
  }
 ],
 "metadata": {
  "kernelspec": {
   "display_name": "Python 3",
   "language": "python",
   "name": "python3"
  },
  "language_info": {
   "codemirror_mode": {
    "name": "ipython",
    "version": 3
   },
   "file_extension": ".py",
   "mimetype": "text/x-python",
   "name": "python",
   "nbconvert_exporter": "python",
   "pygments_lexer": "ipython3",
   "version": "3.13.5"
  }
 },
 "nbformat": 4,
 "nbformat_minor": 5
}
