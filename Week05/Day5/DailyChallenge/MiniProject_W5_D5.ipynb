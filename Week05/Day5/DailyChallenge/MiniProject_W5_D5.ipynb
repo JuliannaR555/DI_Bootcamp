{
 "cells": [
  {
   "cell_type": "markdown",
   "id": "8b956c29",
   "metadata": {},
   "source": [
    "## Mini-Project: W5_D5"
   ]
  },
  {
   "cell_type": "markdown",
   "id": "6a6a9319",
   "metadata": {},
   "source": [
    "### Binary Text Classification with IMDB Dataset (CNN)"
   ]
  },
  {
   "cell_type": "markdown",
   "id": "81ae59cb",
   "metadata": {},
   "source": [
    "Create: \n",
    "- A binary text classification model using the IMDB dataset to classify movie reviews as positive or negative.\n",
    "- A visualization of training and validation loss and accuracy to analyze model performance.\n",
    "\n",
    "Dataset\n",
    "\n",
    "The dataset used in this project is the IMDB Movie Reviews Dataset, which contains 50,000 reviews labeled as positive (1) or negative (0). The dataset is preprocessed, with each review encoded as a sequence of integers representing the most frequent 10,000 words in the dataset.\n",
    "\n",
    "Task:\n",
    "\n",
    "1. Preprocess the Data:\n",
    "- Load the IMDB dataset using Keras.\n",
    "\n",
    "You will notice that the data is a list of integers which we cannot feed into a neural network. We have to turn our lists into tensors.We could one-hot-encode our lists to turn them into vectors of 0s and 1s. Concretely, this would mean for instance turning the sequence. [3,5] into a 10,000-dimensional vector that would be all-zeros except for indices 3 and 5, which would be ones. Then we could use as first layer in our network a Dense layer, capable of handling floating point vector data\n",
    "\n",
    "- Convert the sequences of integers into binary matrices using one-hot encoding. Here’s a hint:\n",
    "\n",
    "\n",
    "def vectorize_sequences(sequences, dimension=10000):\n",
    "    # Create an all-zero matrix of shape (len(sequences), dimension)\n",
    "    results = np.zeros((len(sequences), dimension))\n",
    "    for i, sequence in enumerate(sequences):\n",
    "        results[i, sequence] = 1  #set specific indices of results[i] to 1s\n",
    "    return results\n",
    "\n",
    "\n",
    "Split the data into training, validation, and test sets.\n",
    "\n",
    "2. Build the Model:\n",
    "\n",
    "Our input data is simply vectors, and our labels are scalars (1s and 0s): this is the easiest setup you will ever encounter. A type of network that performs well on such a problem would be a simple stack of fully-connected (Dense) layers with relu activations. We need to pick a loss function and an optimizer. Since we are facing a binary classification problem and the output of our network is a probability (we end our network with a single-unit layer with a sigmoid activation), therefore it is best to use the binary_crossentropy loss.\n",
    "\n",
    "Create a feedforward neural network with:\n",
    "- Two hidden layers using ReLU activation.\n",
    "- An output layer with a sigmoid activation for binary classification.\n",
    "- Compile the model using the RMSprop optimizer, binary cross-entropy loss, and accuracy as the evaluation metric.\n",
    "\n",
    "3. Train the Model:\n",
    "- Train the model on the training data for 20 epochs with a batch size of 512.\n",
    "- Use the validation set to monitor performance during training.\n",
    "\n",
    "4. Evaluate the Model:\n",
    "- Plot the training and validation loss and accuracy to detect overfitting.\n",
    "- Retrain the model with an optimal number of epochs to avoid overfitting.\n",
    "- Evaluate the final model on the test set to measure its performance.\n",
    "\n",
    "5. Analyze Results:\n",
    "- Compare the training and validation metrics to understand the model’s behavior.\n",
    "- Report the final accuracy and loss on the test set.\n",
    "\n",
    "\n",
    "Conclusion:\n",
    "\n",
    "In this mini-project, you built and trained a binary text classification model using the IMDB dataset. You learned how to preprocess text data, design a neural network, and evaluate its performance using validation and test sets. By visualizing the training and validation metrics, you also gained insight into the importance of avoiding overfitting. This project serves as a foundation for more advanced natural language processing tasks, such as sentiment analysis, text generation, and sequence modeling."
   ]
  },
  {
   "cell_type": "markdown",
   "id": "8237c0a5",
   "metadata": {},
   "source": [
    "### Step 1: Preprocess the Data"
   ]
  },
  {
   "cell_type": "markdown",
   "id": "f5736e20",
   "metadata": {},
   "source": [
    "### Load the IMDB dataset"
   ]
  },
  {
   "cell_type": "code",
   "execution_count": 1,
   "id": "133dcba1",
   "metadata": {},
   "outputs": [
    {
     "name": "stdout",
     "output_type": "stream",
     "text": [
      "Downloading data from https://storage.googleapis.com/tensorflow/tf-keras-datasets/imdb.npz\n",
      "\u001b[1m17464789/17464789\u001b[0m \u001b[32m━━━━━━━━━━━━━━━━━━━━\u001b[0m\u001b[37m\u001b[0m \u001b[1m2s\u001b[0m 0us/step\n",
      "Training entries: 25000\n",
      "Example review (as integers): [1, 14, 22, 16, 43, 530, 973, 1622, 1385, 65, 458, 4468, 66, 3941, 4, 173, 36, 256, 5, 25, 100, 43, 838, 112, 50, 670, 2, 9, 35, 480, 284, 5, 150, 4, 172, 112, 167, 2, 336, 385, 39, 4, 172, 4536, 1111, 17, 546, 38, 13, 447, 4, 192, 50, 16, 6, 147, 2025, 19, 14, 22, 4, 1920, 4613, 469, 4, 22, 71, 87, 12, 16, 43, 530, 38, 76, 15, 13, 1247, 4, 22, 17, 515, 17, 12, 16, 626, 18, 2, 5, 62, 386, 12, 8, 316, 8, 106, 5, 4, 2223, 5244, 16, 480, 66, 3785, 33, 4, 130, 12, 16, 38, 619, 5, 25, 124, 51, 36, 135, 48, 25, 1415, 33, 6, 22, 12, 215, 28, 77, 52, 5, 14, 407, 16, 82, 2, 8, 4, 107, 117, 5952, 15, 256, 4, 2, 7, 3766, 5, 723, 36, 71, 43, 530, 476, 26, 400, 317, 46, 7, 4, 2, 1029, 13, 104, 88, 4, 381, 15, 297, 98, 32, 2071, 56, 26, 141, 6, 194, 7486, 18, 4, 226, 22, 21, 134, 476, 26, 480, 5, 144, 30, 5535, 18, 51, 36, 28, 224, 92, 25, 104, 4, 226, 65, 16, 38, 1334, 88, 12, 16, 283, 5, 16, 4472, 113, 103, 32, 15, 16, 5345, 19, 178, 32]\n"
     ]
    }
   ],
   "source": [
    "import numpy as np\n",
    "from tensorflow import keras\n",
    "from tensorflow.keras.datasets import imdb\n",
    "from tensorflow.keras import models\n",
    "from tensorflow.keras import layers\n",
    "import matplotlib.pyplot as plt\n",
    "\n",
    "# Load dataset, keeping only the 10,000 most frequent words\n",
    "# num_words=10000 limits the vocabulary size\n",
    "(train_data, train_labels), (test_data, test_labels) = imdb.load_data(num_words=10000)\n",
    "\n",
    "print(\"Training entries:\", len(train_data))\n",
    "print(\"Example review (as integers):\", train_data[0])"
   ]
  },
  {
   "cell_type": "markdown",
   "id": "4d8d528e",
   "metadata": {},
   "source": [
    "### Convert sequences of integers to binary matrices (one-hot encoding)"
   ]
  },
  {
   "cell_type": "code",
   "execution_count": 2,
   "id": "f61c6e56",
   "metadata": {},
   "outputs": [],
   "source": [
    "def vectorize_sequences(sequences, dimension=10000):\n",
    "    # Create an all-zero matrix\n",
    "    results = np.zeros((len(sequences), dimension))\n",
    "    for i, sequence in enumerate(sequences):\n",
    "        results[i, sequence] = 1.0\n",
    "    return results\n",
    "\n",
    "# Vectorize training and test data\n",
    "x_train = vectorize_sequences(train_data)\n",
    "x_test = vectorize_sequences(test_data)\n",
    "\n",
    "# Convert labels to float32 arrays\n",
    "y_train = np.asarray(train_labels).astype(\"float32\")\n",
    "y_test = np.asarray(test_labels).astype(\"float32\")"
   ]
  },
  {
   "cell_type": "markdown",
   "id": "f8738d16",
   "metadata": {},
   "source": [
    "### Split the data into training and validation sets"
   ]
  },
  {
   "cell_type": "code",
   "execution_count": 4,
   "id": "300e4e65",
   "metadata": {},
   "outputs": [],
   "source": [
    "# Validation set\n",
    "x_val = x_train[:10000]\n",
    "partial_x_train = x_train[10000:]\n",
    "\n",
    "y_val = y_train[:10000]\n",
    "partial_y_train = y_train[10000:]"
   ]
  },
  {
   "cell_type": "markdown",
   "id": "4a29e5cc",
   "metadata": {},
   "source": [
    "### Step 2: Build the Model"
   ]
  },
  {
   "cell_type": "code",
   "execution_count": 17,
   "id": "e112dea6",
   "metadata": {},
   "outputs": [],
   "source": [
    "from keras import Input\n",
    "from keras import models\n",
    "from keras import layers\n",
    "\n",
    "# Define input separately\n",
    "inputs = Input(shape=(10000,))\n",
    "\n",
    "# Build the model\n",
    "x = layers.Dense(16, activation=\"relu\")(inputs)\n",
    "x = layers.Dense(16, activation=\"relu\")(x)\n",
    "outputs = layers.Dense(1, activation=\"sigmoid\")(x)\n",
    "\n",
    "model = models.Model(inputs=inputs, outputs=outputs)\n",
    "\n",
    "# Compile\n",
    "model.compile(\n",
    "    optimizer=\"rmsprop\",\n",
    "    loss=\"binary_crossentropy\",\n",
    "    metrics=[\"accuracy\"]\n",
    ")"
   ]
  },
  {
   "cell_type": "markdown",
   "id": "fd922936",
   "metadata": {},
   "source": [
    "### Compile the model"
   ]
  },
  {
   "cell_type": "code",
   "execution_count": 7,
   "id": "ae142131",
   "metadata": {},
   "outputs": [],
   "source": [
    "# Binary classification ⇒ binary_crossentropy loss\n",
    "model.compile(\n",
    "    optimizer=\"rmsprop\",\n",
    "    loss=\"binary_crossentropy\",\n",
    "    metrics=[\"accuracy\"]\n",
    ")"
   ]
  },
  {
   "cell_type": "markdown",
   "id": "a2c17062",
   "metadata": {},
   "source": [
    "### Step 3: Train the Model"
   ]
  },
  {
   "cell_type": "code",
   "execution_count": 8,
   "id": "75dcf726",
   "metadata": {},
   "outputs": [
    {
     "name": "stdout",
     "output_type": "stream",
     "text": [
      "Epoch 1/20\n",
      "\u001b[1m30/30\u001b[0m \u001b[32m━━━━━━━━━━━━━━━━━━━━\u001b[0m\u001b[37m\u001b[0m \u001b[1m1s\u001b[0m 24ms/step - accuracy: 0.6896 - loss: 0.6194 - val_accuracy: 0.8387 - val_loss: 0.4357\n",
      "Epoch 2/20\n",
      "\u001b[1m30/30\u001b[0m \u001b[32m━━━━━━━━━━━━━━━━━━━━\u001b[0m\u001b[37m\u001b[0m \u001b[1m0s\u001b[0m 7ms/step - accuracy: 0.8789 - loss: 0.3738 - val_accuracy: 0.8801 - val_loss: 0.3234\n",
      "Epoch 3/20\n",
      "\u001b[1m30/30\u001b[0m \u001b[32m━━━━━━━━━━━━━━━━━━━━\u001b[0m\u001b[37m\u001b[0m \u001b[1m0s\u001b[0m 7ms/step - accuracy: 0.9125 - loss: 0.2673 - val_accuracy: 0.8598 - val_loss: 0.3300\n",
      "Epoch 4/20\n",
      "\u001b[1m30/30\u001b[0m \u001b[32m━━━━━━━━━━━━━━━━━━━━\u001b[0m\u001b[37m\u001b[0m \u001b[1m0s\u001b[0m 7ms/step - accuracy: 0.9294 - loss: 0.2127 - val_accuracy: 0.8896 - val_loss: 0.2762\n",
      "Epoch 5/20\n",
      "\u001b[1m30/30\u001b[0m \u001b[32m━━━━━━━━━━━━━━━━━━━━\u001b[0m\u001b[37m\u001b[0m \u001b[1m0s\u001b[0m 7ms/step - accuracy: 0.9431 - loss: 0.1739 - val_accuracy: 0.8823 - val_loss: 0.2906\n",
      "Epoch 6/20\n",
      "\u001b[1m30/30\u001b[0m \u001b[32m━━━━━━━━━━━━━━━━━━━━\u001b[0m\u001b[37m\u001b[0m \u001b[1m0s\u001b[0m 7ms/step - accuracy: 0.9537 - loss: 0.1468 - val_accuracy: 0.8825 - val_loss: 0.2981\n",
      "Epoch 7/20\n",
      "\u001b[1m30/30\u001b[0m \u001b[32m━━━━━━━━━━━━━━━━━━━━\u001b[0m\u001b[37m\u001b[0m \u001b[1m0s\u001b[0m 7ms/step - accuracy: 0.9615 - loss: 0.1252 - val_accuracy: 0.8814 - val_loss: 0.2993\n",
      "Epoch 8/20\n",
      "\u001b[1m30/30\u001b[0m \u001b[32m━━━━━━━━━━━━━━━━━━━━\u001b[0m\u001b[37m\u001b[0m \u001b[1m0s\u001b[0m 8ms/step - accuracy: 0.9686 - loss: 0.1069 - val_accuracy: 0.8834 - val_loss: 0.3027\n",
      "Epoch 9/20\n",
      "\u001b[1m30/30\u001b[0m \u001b[32m━━━━━━━━━━━━━━━━━━━━\u001b[0m\u001b[37m\u001b[0m \u001b[1m0s\u001b[0m 7ms/step - accuracy: 0.9733 - loss: 0.0936 - val_accuracy: 0.8828 - val_loss: 0.3192\n",
      "Epoch 10/20\n",
      "\u001b[1m30/30\u001b[0m \u001b[32m━━━━━━━━━━━━━━━━━━━━\u001b[0m\u001b[37m\u001b[0m \u001b[1m0s\u001b[0m 7ms/step - accuracy: 0.9762 - loss: 0.0823 - val_accuracy: 0.8797 - val_loss: 0.3368\n",
      "Epoch 11/20\n",
      "\u001b[1m30/30\u001b[0m \u001b[32m━━━━━━━━━━━━━━━━━━━━\u001b[0m\u001b[37m\u001b[0m \u001b[1m0s\u001b[0m 7ms/step - accuracy: 0.9824 - loss: 0.0677 - val_accuracy: 0.8780 - val_loss: 0.3536\n",
      "Epoch 12/20\n",
      "\u001b[1m30/30\u001b[0m \u001b[32m━━━━━━━━━━━━━━━━━━━━\u001b[0m\u001b[37m\u001b[0m \u001b[1m0s\u001b[0m 6ms/step - accuracy: 0.9878 - loss: 0.0564 - val_accuracy: 0.8796 - val_loss: 0.3734\n",
      "Epoch 13/20\n",
      "\u001b[1m30/30\u001b[0m \u001b[32m━━━━━━━━━━━━━━━━━━━━\u001b[0m\u001b[37m\u001b[0m \u001b[1m0s\u001b[0m 8ms/step - accuracy: 0.9917 - loss: 0.0457 - val_accuracy: 0.8744 - val_loss: 0.3961\n",
      "Epoch 14/20\n",
      "\u001b[1m30/30\u001b[0m \u001b[32m━━━━━━━━━━━━━━━━━━━━\u001b[0m\u001b[37m\u001b[0m \u001b[1m0s\u001b[0m 7ms/step - accuracy: 0.9916 - loss: 0.0422 - val_accuracy: 0.8767 - val_loss: 0.4258\n",
      "Epoch 15/20\n",
      "\u001b[1m30/30\u001b[0m \u001b[32m━━━━━━━━━━━━━━━━━━━━\u001b[0m\u001b[37m\u001b[0m \u001b[1m0s\u001b[0m 6ms/step - accuracy: 0.9936 - loss: 0.0350 - val_accuracy: 0.8750 - val_loss: 0.4339\n",
      "Epoch 16/20\n",
      "\u001b[1m30/30\u001b[0m \u001b[32m━━━━━━━━━━━━━━━━━━━━\u001b[0m\u001b[37m\u001b[0m \u001b[1m0s\u001b[0m 7ms/step - accuracy: 0.9963 - loss: 0.0278 - val_accuracy: 0.8728 - val_loss: 0.4562\n",
      "Epoch 17/20\n",
      "\u001b[1m30/30\u001b[0m \u001b[32m━━━━━━━━━━━━━━━━━━━━\u001b[0m\u001b[37m\u001b[0m \u001b[1m0s\u001b[0m 6ms/step - accuracy: 0.9977 - loss: 0.0221 - val_accuracy: 0.8586 - val_loss: 0.5958\n",
      "Epoch 18/20\n",
      "\u001b[1m30/30\u001b[0m \u001b[32m━━━━━━━━━━━━━━━━━━━━\u001b[0m\u001b[37m\u001b[0m \u001b[1m0s\u001b[0m 6ms/step - accuracy: 0.9939 - loss: 0.0277 - val_accuracy: 0.8716 - val_loss: 0.5065\n",
      "Epoch 19/20\n",
      "\u001b[1m30/30\u001b[0m \u001b[32m━━━━━━━━━━━━━━━━━━━━\u001b[0m\u001b[37m\u001b[0m \u001b[1m0s\u001b[0m 7ms/step - accuracy: 0.9979 - loss: 0.0182 - val_accuracy: 0.8698 - val_loss: 0.5433\n",
      "Epoch 20/20\n",
      "\u001b[1m30/30\u001b[0m \u001b[32m━━━━━━━━━━━━━━━━━━━━\u001b[0m\u001b[37m\u001b[0m \u001b[1m0s\u001b[0m 7ms/step - accuracy: 0.9991 - loss: 0.0135 - val_accuracy: 0.8677 - val_loss: 0.5566\n"
     ]
    }
   ],
   "source": [
    "\n",
    "history = model.fit(\n",
    "    partial_x_train,\n",
    "    partial_y_train,\n",
    "    epochs=20,\n",
    "    batch_size=512,\n",
    "    validation_data=(x_val, y_val)\n",
    ")"
   ]
  },
  {
   "cell_type": "markdown",
   "id": "65904a63",
   "metadata": {},
   "source": [
    "Your model learns very quickly: in the first 4 epochs, training accuracy jumps from 69% to 93%, and validation loss drops to 0.27, which is excellent.\n",
    "\n",
    "After that, training accuracy keeps increasing almost to 100%, but validation loss steadily rises to 0.55, showing clear overfitting.\n",
    "\n",
    "Validation accuracy stays around 87–88% from epoch 5 onward, which means the model is memorizing the training data without improving generalization.\n",
    "\n",
    "Simple conclusion: the best balance between performance and generalization happens around epoch 4–5. Training beyond that does not improve results on new data.\n",
    "\n",
    "If you like, I can show you how to add EarlyStopping or Dropout to reduce overfitting."
   ]
  },
  {
   "cell_type": "markdown",
   "id": "28b750e3",
   "metadata": {},
   "source": [
    "### Step 4: Evaluate the Model"
   ]
  },
  {
   "cell_type": "code",
   "execution_count": 14,
   "id": "ea8005e2",
   "metadata": {},
   "outputs": [
    {
     "data": {
      "image/png": "[encoded data removed]",
      "text/plain": [
       "<Figure size 800x600 with 1 Axes>"
      ]
     },
     "metadata": {},
     "output_type": "display_data"
    },
    {
     "data": {
      "image/png": "[encoded data removed]",
      "text/plain": [
       "<Figure size 800x600 with 1 Axes>"
      ]
     },
     "metadata": {},
     "output_type": "display_data"
    }
   ],
   "source": [
    "import matplotlib.pyplot as plt\n",
    "\n",
    "# Exemple : history_dict déjà chargé\n",
    "history_dict = history.history\n",
    "\n",
    "loss = history_dict[\"loss\"]\n",
    "val_loss = history_dict[\"val_loss\"]\n",
    "accuracy = history_dict[\"accuracy\"]\n",
    "val_accuracy = history_dict[\"val_accuracy\"]\n",
    "\n",
    "epochs = range(1, len(loss) + 1)\n",
    "\n",
    "# Training and Validation Loss\n",
    "plt.figure(figsize=(8,6))\n",
    "plt.plot(epochs, loss, color=\"orange\", linewidth=1.5, linestyle=\"-\", label=\"Training loss\")\n",
    "plt.plot(epochs, val_loss, color=\"blue\", linewidth=1.0, linestyle=\"--\", label=\"Validation loss\")\n",
    "plt.title(\"Training and Validation Loss\")\n",
    "plt.xlabel(\"Epochs\")\n",
    "plt.ylabel(\"Loss\")\n",
    "plt.legend()\n",
    "plt.grid(True)\n",
    "plt.show()\n",
    "\n",
    "# Training and Validation Accuracy\n",
    "plt.figure(figsize=(8,6))\n",
    "plt.plot(epochs, accuracy, color=\"orange\", linewidth=1.5, linestyle=\"-\", label=\"Training accuracy\")\n",
    "plt.plot(epochs, val_accuracy, color=\"blue\", linewidth=1.0, linestyle=\"--\", label=\"Validation accuracy\")\n",
    "plt.title(\"Training and Validation Accuracy\")\n",
    "plt.xlabel(\"Epochs\")\n",
    "plt.ylabel(\"Accuracy\")\n",
    "plt.legend()\n",
    "plt.grid(True)\n",
    "plt.show()\n"
   ]
  },
  {
   "cell_type": "markdown",
   "id": "224bf99c",
   "metadata": {},
   "source": [
    "First Plot: Training and Validation Loss\n",
    "\n",
    "The training loss (orange line) decreases steadily and reaches near zero.\n",
    "The validation loss (blue dashed line) goes down until around epoch 4–5, then starts to increase again.\n",
    "This rising validation loss is a clear signal of overfitting: the model keeps improving on training data but gets worse on unseen data.\n",
    "\n",
    "Second Plot: Training and Validation Accuracy\n",
    "\n",
    "The training accuracy keeps climbing and gets close to 100%.\n",
    "The validation accuracy improves quickly in the first few epochs and stabilizes around ~87–88%, then slightly decreases after epoch 5–6.\n",
    "Again, this shows the model is memorizing the training set without better generalization."
   ]
  },
  {
   "cell_type": "markdown",
   "id": "4bbca464",
   "metadata": {},
   "source": [
    "### Retrain with optimal epochs"
   ]
  },
  {
   "cell_type": "code",
   "execution_count": 23,
   "id": "7d29e352",
   "metadata": {},
   "outputs": [
    {
     "name": "stdout",
     "output_type": "stream",
     "text": [
      "Epoch 1/5\n",
      "\u001b[1m30/30\u001b[0m \u001b[32m━━━━━━━━━━━━━━━━━━━━\u001b[0m\u001b[37m\u001b[0m \u001b[1m1s\u001b[0m 15ms/step - accuracy: 0.5544 - loss: 0.6759 - val_accuracy: 0.8244 - val_loss: 0.5747\n",
      "Epoch 2/5\n",
      "\u001b[1m30/30\u001b[0m \u001b[32m━━━━━━━━━━━━━━━━━━━━\u001b[0m\u001b[37m\u001b[0m \u001b[1m0s\u001b[0m 8ms/step - accuracy: 0.6983 - loss: 0.5751 - val_accuracy: 0.8617 - val_loss: 0.4774\n",
      "Epoch 3/5\n",
      "\u001b[1m30/30\u001b[0m \u001b[32m━━━━━━━━━━━━━━━━━━━━\u001b[0m\u001b[37m\u001b[0m \u001b[1m0s\u001b[0m 8ms/step - accuracy: 0.7720 - loss: 0.4957 - val_accuracy: 0.8726 - val_loss: 0.4130\n",
      "Epoch 4/5\n",
      "\u001b[1m30/30\u001b[0m \u001b[32m━━━━━━━━━━━━━━━━━━━━\u001b[0m\u001b[37m\u001b[0m \u001b[1m0s\u001b[0m 7ms/step - accuracy: 0.8326 - loss: 0.4324 - val_accuracy: 0.8829 - val_loss: 0.3596\n",
      "Epoch 5/5\n",
      "\u001b[1m30/30\u001b[0m \u001b[32m━━━━━━━━━━━━━━━━━━━━\u001b[0m\u001b[37m\u001b[0m \u001b[1m0s\u001b[0m 7ms/step - accuracy: 0.8579 - loss: 0.3842 - val_accuracy: 0.8807 - val_loss: 0.3168\n"
     ]
    }
   ],
   "source": [
    "from keras import models\n",
    "from keras import layers\n",
    "\n",
    "model = models.Sequential([\n",
    "    layers.Input(shape=(10000,)),\n",
    "    layers.Dense(16, activation=\"relu\"),\n",
    "    layers.Dropout(0.5),                 # Dropout after first Dense\n",
    "    layers.Dense(16, activation=\"relu\"),\n",
    "    layers.Dropout(0.5),                 # Dropout after second Dense\n",
    "    layers.Dense(1, activation=\"sigmoid\")\n",
    "])\n",
    "\n",
    "model.compile(\n",
    "    optimizer=\"rmsprop\",\n",
    "    loss=\"binary_crossentropy\",\n",
    "    metrics=[\"accuracy\"]\n",
    ")\n",
    "\n",
    "history = model.fit(\n",
    "    partial_x_train,\n",
    "    partial_y_train,\n",
    "    epochs=5,\n",
    "    batch_size=512,\n",
    "    validation_data=(x_val, y_val)\n",
    ")"
   ]
  },
  {
   "cell_type": "markdown",
   "id": "d0d0083e",
   "metadata": {},
   "source": [
    "Epochs 1–2:\n",
    "\n",
    "Training accuracy improves from ~55% to ~70%.\n",
    "Validation accuracy jumps quickly from ~82% to ~86%.\n",
    "Validation loss drops from 0.57 to 0.47—good progress.\n",
    "\n",
    "Epochs 3–4:\n",
    "\n",
    "Training accuracy increases further to ~83%.\n",
    "Validation accuracy rises to ~88%.\n",
    "Validation loss continues improving to 0.36.\n",
    "\n",
    "Epoch 5:\n",
    "\n",
    "Training accuracy reaches ~86%.\n",
    "Validation accuracy stays stable (~88%).\n",
    "Validation loss drops further to 0.31—this is a good sign of effective learning without severe overfitting yet.\n",
    "\n",
    "Summary:\n",
    "\n",
    "Shorter training (5 epochs) + Dropout gave you solid performance.\n",
    "Validation loss decreased consistently across epochs.\n",
    "Validation accuracy remained high and stable.\n",
    "This setup is more robust against overfitting than the longer training before.\n",
    "\n",
    "Recommendation:\n",
    "\n",
    "This is a good training configuration. You could:\n",
    "Retrain for 5–7 epochs to see if validation loss improves further.\n",
    "Optionally combine EarlyStopping to stop automatically when validation loss stops decreasing."
   ]
  },
  {
   "cell_type": "markdown",
   "id": "c9548af1",
   "metadata": {},
   "source": [
    "### Evaluate on test set"
   ]
  },
  {
   "cell_type": "code",
   "execution_count": 21,
   "id": "c0f3073f",
   "metadata": {},
   "outputs": [
    {
     "name": "stdout",
     "output_type": "stream",
     "text": [
      "\u001b[1m782/782\u001b[0m \u001b[32m━━━━━━━━━━━━━━━━━━━━\u001b[0m\u001b[37m\u001b[0m \u001b[1m1s\u001b[0m 1ms/step - accuracy: 0.8546 - loss: 0.6087\n",
      "Test Loss: 0.5967190861701965\n",
      "Test Accuracy: 0.8583199977874756\n"
     ]
    }
   ],
   "source": [
    "results = model.evaluate(x_test, y_test)\n",
    "print(\"Test Loss:\", results[0])\n",
    "print(\"Test Accuracy:\", results[1])"
   ]
  },
  {
   "cell_type": "markdown",
   "id": "2286557a",
   "metadata": {},
   "source": [
    "Test Results:\n",
    "\n",
    "Test Accuracy: ~85.8%\n",
    "Test Loss: ~0.60\n",
    "\n",
    "What this means:\n",
    "\n",
    "Your model generalizes well to unseen data (IMDB test set).\n",
    "~86% accuracy is a solid result for this simple feedforward network on sentiment classification.\n",
    "The test loss is higher than your lowest validation loss (~0.31), but that’s expected due to Dropout and no further tuning.\n",
    "\n",
    "Summary:\n",
    "\n",
    "Your final model performs reliably and avoids severe overfitting. For further improvements, you could:\n",
    "Use more epochs with EarlyStopping.\n",
    "Tune Dropout rates.\n",
    "Try an Embedding layer instead of one-hot encoding."
   ]
  },
  {
   "cell_type": "markdown",
   "id": "21018cb5",
   "metadata": {},
   "source": [
    "### Script to Encode, Vectorize, and Predict Sentiment of Custom Movie Reviews Using Keras IMDB Model"
   ]
  },
  {
   "cell_type": "code",
   "execution_count": null,
   "id": "43f8f557",
   "metadata": {},
   "outputs": [
    {
     "name": "stdout",
     "output_type": "stream",
     "text": [
      "\u001b[1m1/1\u001b[0m \u001b[32m━━━━━━━━━━━━━━━━━━━━\u001b[0m\u001b[37m\u001b[0m \u001b[1m0s\u001b[0m 93ms/step\n",
      "\n",
      "Review: \"This movie was absolutely wonderful and inspiring\"\n",
      "Predicted probability of positive sentiment: 0.6529\n",
      "✅ Positive review\n"
     ]
    }
   ],
   "source": [
    "# This script:\n",
    "#- Loads the IMDB word index with proper index shifting (+3)\n",
    "#- Cleans and encodes input text reviews\n",
    "#- Vectorizes them into one-hot representations\n",
    "#- Predicts the probability of positive sentiment using a trained Keras model\n",
    "from keras.datasets import imdb\n",
    "import numpy as np\n",
    "import re\n",
    "\n",
    "# Load IMDB word index\n",
    "word_index = imdb.get_word_index()\n",
    "\n",
    "# Shift indices (+3) to match Keras conventions\n",
    "word_index = {k: (v + 3) for k, v in word_index.items()}\n",
    "word_index[\"<PAD>\"] = 0\n",
    "word_index[\"<START>\"] = 1\n",
    "word_index[\"<UNK>\"] = 2\n",
    "word_index[\"<UNUSED>\"] = 3\n",
    "\n",
    "# Optional: reverse mapping if you want to display words from indices\n",
    "reverse_word_index = {v: k for (k, v) in word_index.items()}\n",
    "\n",
    "# Function to encode and vectorize input text\n",
    "def prepare_input(text, word_index, dimension=10000):\n",
    "    # Lowercase and clean punctuation\n",
    "    text = text.lower()\n",
    "    text = re.sub(r\"[^\\w\\s]\", \"\", text)\n",
    "    words = text.split()\n",
    "    \n",
    "    # Encode words with +3 shift\n",
    "    indices = [word_index.get(word, 2) for word in words]\n",
    "    \n",
    "    # Add the <START> token\n",
    "    indices = [1] + indices\n",
    "    \n",
    "    # Vectorize as one-hot\n",
    "    vector = np.zeros((1, dimension))\n",
    "    for idx in indices:\n",
    "        if idx < dimension:\n",
    "            vector[0, idx] = 1.0\n",
    "    return vector\n",
    "\n",
    "# Example usage\n",
    "my_review = \"This movie was absolutely wonderful and inspiring\"\n",
    "\n",
    "x_input = prepare_input(my_review, word_index)\n",
    "\n",
    "# Predict\n",
    "prediction = model.predict(x_input)\n",
    "\n",
    "# Display result\n",
    "prob = prediction[0][0]\n",
    "print(f\"\\nReview: \\\"{my_review}\\\"\")\n",
    "print(f\"Predicted probability of positive sentiment: {prob:.4f}\")\n",
    "\n",
    "if prob > 0.5:\n",
    "    print(\"✅ Positive review\")\n",
    "else:\n",
    "    print(\"❌ Negative review\")"
   ]
  },
  {
   "cell_type": "markdown",
   "id": "0340ff95",
   "metadata": {},
   "source": [
    "Interpretation:\n",
    "Your model predicts that this review is more likely positive than negative, with a moderate level of confidence (65%).\n",
    "\n",
    "If the threshold is 0.5 (the usual default), any score above 0.5 is considered positive sentiment."
   ]
  }
 ],
 "metadata": {
  "kernelspec": {
   "display_name": "tf_env",
   "language": "python",
   "name": "python3"
  },
  "language_info": {
   "codemirror_mode": {
    "name": "ipython",
    "version": 3
   },
   "file_extension": ".py",
   "mimetype": "text/x-python",
   "name": "python",
   "nbconvert_exporter": "python",
   "pygments_lexer": "ipython3",
   "version": "3.10.0"
  }
 },
 "nbformat": 4,
 "nbformat_minor": 5
}
