{
  "nbformat": 4,
  "nbformat_minor": 0,
  "metadata": {
    "colab": {
      "provenance": []
    },
    "kernelspec": {
      "name": "python3",
      "display_name": "Python 3"
    },
    "language_info": {
      "name": "python"
    }
  },
  "cells": [
    {
      "cell_type": "markdown",
      "source": [
        "# Exercises XP Gold: W5_D1"
      ],
      "metadata": {
        "id": "vlKuyhf-kRta"
      }
    },
    {
      "cell_type": "markdown",
      "source": [
        "## What You'll Learn\n",
        "- How neural networks make predictions using forward propagation  \n",
        "- How backpropagation adjusts weights to minimize errors  \n",
        "- How activation functions impact neural network performance  \n",
        "- How to manually compute and implement gradient descent  \n",
        "- How to build and train a simple neural network from scratch\n",
        "\n",
        "## What You Will Create\n",
        "- A multi-layer perceptron (MLP) for binary classification  \n",
        "- A Python implementation of activation functions  \n",
        "- A neural network that predicts house prices using forward propagation  \n",
        "- A model that updates weights using gradient descent  \n",
        "- A simple training loop for a neural network\n",
        "\n",
        "---\n",
        "\n",
        "## Exercise 1: Implementing a Multi-Layer Perceptron (MLP) from Scratch\n",
        "\n",
        "**Task**  \n",
        "Build a multi-layer perceptron for a binary classification problem using NumPy. The model should:\n",
        "- Have one hidden layer with three neurons  \n",
        "- Use ReLU activation for hidden layers and Sigmoid for the output layer  \n",
        "- Compute forward propagation\n",
        "\n",
        "**Steps**\n",
        "1. Define the architecture:\n",
        "   - Input layer with two neurons  \n",
        "   - Hidden layer with three neurons using ReLU activation  \n",
        "   - Output layer with one neuron using Sigmoid activation\n",
        "2. Implement forward propagation using weighted sum calculations and activation functions.  \n",
        "3. Predict outputs for the following inputs:\n",
        "   - First case: input values of two and three  \n",
        "   - Second case: input values of one and five\n",
        "\n",
        "---\n",
        "\n",
        "## Exercise 2: Implementing Backpropagation with Gradient Descent\n",
        "\n",
        "**Task**  \n",
        "Manually compute backpropagation and update weights using gradient descent for a simple neural network predicting student exam scores.\n",
        "\n",
        "**Given Data**\n",
        "- Input variables:  \n",
        "  - Study hours with a value of six  \n",
        "  - Previous test score with a value of seventy-five  \n",
        "- Initial weights:  \n",
        "  - First weight with a value of zero point four for study hours  \n",
        "  - Second weight with a value of zero point six for previous test score  \n",
        "- Bias with a value of five  \n",
        "- Actual exam score with a value of eighty-five  \n",
        "- Learning rate of zero point zero one\n",
        "\n",
        "**Steps**\n",
        "1. Compute the predicted exam score using the weighted sum formula.  \n",
        "2. Calculate the loss using the mean squared error formula.  \n",
        "3. Compute the gradients for the weights and update them using gradient descent.  \n",
        "4. Interpret the results and observe how much the weights change.\n",
        "\n",
        "---\n",
        "\n",
        "## Exercise 3: Comparing Activation Functions for Neural Networks\n",
        "\n",
        "**Task**  \n",
        "Implement and compare three activation functions using Python:\n",
        "- Step function  \n",
        "- Sigmoid function  \n",
        "- ReLU function\n",
        "\n",
        "**Steps**\n",
        "1. Implement the three activation functions in Python.  \n",
        "2. Create a graph that visualizes the Sigmoid and ReLU functions.  \n",
        "3. Compare the behaviors of the activation functions:\n",
        "   - Identify which function gives only binary outputs  \n",
        "   - Identify which function smoothly transitions between values  \n",
        "   - Identify which function sets negative values to zero but keeps positive values unchanged\n",
        "4. Answer the following questions:\n",
        "   - Why is ReLU commonly used in deep learning models?  \n",
        "   - Why might Sigmoid be a good choice for binary classification tasks?  \n",
        "   - What are the weaknesses of the Step function compared to others?\n",
        "\n",
        "---\n",
        "\n",
        "## Exercise 4: Forward Propagation in a Deep Neural Network\n",
        "\n",
        "**Task**  \n",
        "Manually compute forward propagation for a three-layer neural network predicting house prices.\n",
        "\n",
        "**Given Data**\n",
        "- Inputs:  \n",
        "  - Square footage with a value of two thousand  \n",
        "  - Number of bedrooms with a value of three  \n",
        "- Layer one weights and bias:  \n",
        "  - First weight with a value of zero point five  \n",
        "  - Second weight with a value of zero point seven  \n",
        "  - First bias with a value of ten thousand  \n",
        "- Layer two weights and bias:  \n",
        "  - First weight with a value of zero point six  \n",
        "  - Second weight with a value of zero point eight  \n",
        "  - Second bias with a value of twenty thousand  \n",
        "- Output layer weight and bias:  \n",
        "  - Weight with a value of one point two  \n",
        "  - Bias with a value of thirty thousand  \n",
        "- Activation function: ReLU\n",
        "\n",
        "**Steps**\n",
        "1. Compute the output of the first layer using the weighted sum formula and ReLU activation function.  \n",
        "2. Compute the output of the second layer using the same method.  \n",
        "3. Compute the final prediction using the weighted sum formula at the output layer.  \n",
        "4. Interpret the final result and determine the predicted house price.\n",
        "\n",
        "---\n",
        "\n",
        "## Exercise 5: Training a Neural Network with Forward and Backward Propagation\n",
        "\n",
        "**Task**  \n",
        "Train a simple neural network to predict a student's exam score using gradient descent.\n",
        "\n",
        "**Steps**\n",
        "1. Initialize input values representing study hours and previous test score.  \n",
        "2. Initialize weights and bias with given values.  \n",
        "3. Compute forward propagation to predict the exam score.  \n",
        "4. Compute the error between the prediction and actual score.  \n",
        "5. Compute gradients for the weights and bias.  \n",
        "6. Update the weights and bias using gradient descent.  \n",
        "7. Print the updated weights and bias after one training iteration.\n",
        "\n",
        "---\n",
        "\n",
        "## Conclusion\n",
        "\n",
        "By completing these exercises, you will:\n",
        "- Understand multi-layer perceptrons  \n",
        "- Implement activation functions  \n",
        "- Learn forward and backward propagation  \n",
        "- Apply gradient descent to train a neural network\n",
        "\n",
        "_For additional practice, try modifying the exercises by using a different activation function such as the Tanh function or changing the learning rate._"
      ],
      "metadata": {
        "id": "yk4wJVKakRfn"
      }
    },
    {
      "cell_type": "markdown",
      "source": [
        "### Setup & Imports"
      ],
      "metadata": {
        "id": "uh6YS0YNkRcP"
      }
    },
    {
      "cell_type": "code",
      "execution_count": 1,
      "metadata": {
        "id": "hRMeYm3GkPJQ"
      },
      "outputs": [],
      "source": [
        "# Title: Setup & Imports\n",
        "# Comments: Basic scientific stack, print options, and reproducibility.\n",
        "\n",
        "import numpy as np\n",
        "import matplotlib.pyplot as plt\n",
        "\n",
        "# Reproducibility\n",
        "RANDOM_SEED = 42\n",
        "rng = np.random.default_rng(RANDOM_SEED)\n",
        "\n",
        "# Consistent printing and dtype\n",
        "np.set_printoptions(precision=4, suppress=True, floatmode=\"fixed\")\n",
        "DTYPE = np.float64"
      ]
    },
    {
      "cell_type": "markdown",
      "source": [
        "###Common Utilities (Activations, Loss, Helpers)\n"
      ],
      "metadata": {
        "id": "fVJmGCEKkdgj"
      }
    },
    {
      "cell_type": "code",
      "source": [
        "# Title: Common Utilities (Activations, Loss, Helpers)\n",
        "# Comments: Reusable functions across exercises (ReLU, Sigmoid, Step, MSE, plotting).\n",
        "\n",
        "def relu(x: np.ndarray) -> np.ndarray:\n",
        "    \"\"\"ReLU activation: max(0, x).\"\"\"\n",
        "    return np.maximum(0, x).astype(DTYPE)\n",
        "\n",
        "def sigmoid(x: np.ndarray) -> np.ndarray:\n",
        "    \"\"\"Sigmoid activation: 1 / (1 + exp(-x)).\"\"\"\n",
        "    # Clip for numerical stability in extreme ranges\n",
        "    x = np.clip(x, -500, 500)\n",
        "    return (1.0 / (1.0 + np.exp(-x))).astype(DTYPE)\n",
        "\n",
        "def step(x: np.ndarray) -> np.ndarray:\n",
        "    \"\"\"Step activation: 1 if x >= 0 else 0.\"\"\"\n",
        "    return (x >= 0).astype(DTYPE)\n",
        "\n",
        "def mse(y_true: np.ndarray, y_pred: np.ndarray) -> float:\n",
        "    \"\"\"Mean Squared Error.\"\"\"\n",
        "    y_true = y_true.astype(DTYPE)\n",
        "    y_pred = y_pred.astype(DTYPE)\n",
        "    return float(np.mean((y_pred - y_true) ** 2))\n",
        "\n",
        "def dmse_dy(y_true: np.ndarray, y_pred: np.ndarray) -> np.ndarray:\n",
        "    \"\"\"Derivative of MSE w.r.t. predictions y_pred.\"\"\"\n",
        "    n = y_true.size\n",
        "    return (2.0 / n) * (y_pred - y_true)\n",
        "\n",
        "def linear(W: np.ndarray, x: np.ndarray, b: np.ndarray | float) -> np.ndarray:\n",
        "    \"\"\"Linear transform Wx + b. Accepts b as scalar or vector.\"\"\"\n",
        "    return (W @ x + b).astype(DTYPE)\n",
        "\n",
        "def ensure_colvec(x: np.ndarray) -> np.ndarray:\n",
        "    \"\"\"Ensure vector is shape (n, 1).\"\"\"\n",
        "    x = np.asarray(x, dtype=DTYPE)\n",
        "    if x.ndim == 1:\n",
        "        x = x.reshape(-1, 1)\n",
        "    assert x.ndim == 2 and x.shape[1] == 1, f\"Expected column vector, got {x.shape}\"\n",
        "    return x\n",
        "\n",
        "def plot_function(fn, x_min=-8, x_max=8, num=400, title=\"Activation\", xlabel=\"x\", ylabel=\"f(x)\"):\n",
        "    \"\"\"Plot a scalar activation function over a range.\"\"\"\n",
        "    xs = np.linspace(x_min, x_max, num=num, dtype=DTYPE)\n",
        "    ys = fn(xs)\n",
        "    plt.figure()\n",
        "    plt.plot(xs, ys)\n",
        "    plt.title(title)\n",
        "    plt.xlabel(xlabel)\n",
        "    plt.ylabel(ylabel)\n",
        "    plt.grid(True, linestyle=\"--\", linewidth=0.5)\n",
        "    plt.show()"
      ],
      "metadata": {
        "id": "pX27kLFkkeJS"
      },
      "execution_count": 2,
      "outputs": []
    },
    {
      "cell_type": "markdown",
      "source": [
        "## Exercise 1: Implementing a Multi-Layer Perceptron (MLP) from Scratch"
      ],
      "metadata": {
        "id": "0vH7NvUFktnv"
      }
    },
    {
      "cell_type": "code",
      "source": [
        "# Title: MLP (2→3→1) Definition & Forward Propagation\n",
        "# Comments: Define fixed weights/biases; implement forward pass with ReLU (hidden) and Sigmoid (output).\n",
        "\n",
        "# Architecture:\n",
        "# - Input: 2 features\n",
        "# - Hidden: 3 neurons, ReLU\n",
        "# - Output: 1 neuron, Sigmoid\n",
        "\n",
        "# Fixed, reproducible parameters (feel free to tweak later)\n",
        "W1 = np.array([[ 0.5, -0.3],\n",
        "               [ 0.8,  0.2],\n",
        "               [-0.4,  0.9]], dtype=DTYPE)          # (3, 2)\n",
        "b1 = np.array([[ 0.10],\n",
        "               [-0.20],\n",
        "               [ 0.05]], dtype=DTYPE)                # (3, 1)\n",
        "\n",
        "W2 = np.array([[ 1.2, -0.7, 0.5]], dtype=DTYPE)     # (1, 3)\n",
        "b2 = DTYPE(0.0)                                      # scalar\n",
        "\n",
        "# Sanity checks on shapes\n",
        "assert W1.shape == (3, 2)\n",
        "assert b1.shape == (3, 1)\n",
        "assert W2.shape == (1, 3)\n",
        "\n",
        "def forward_mlp(x):\n",
        "    \"\"\"Forward pass for a 2→3→1 MLP with ReLU (hidden) and Sigmoid (output).\"\"\"\n",
        "    x = ensure_colvec(x)                  # (2, 1)\n",
        "    assert x.shape == (2, 1), f\"Expected (2,1), got {x.shape}\"\n",
        "\n",
        "    # Layer 1: z1 = W1 x + b1 ; a1 = ReLU(z1)\n",
        "    z1 = linear(W1, x, b1)               # (3, 1)\n",
        "    a1 = relu(z1)                        # (3, 1)\n",
        "\n",
        "    # Output layer: z2 = W2 a1 + b2 ; a2 = Sigmoid(z2)\n",
        "    z2 = linear(W2, a1, b2)              # (1, 1)\n",
        "    a2 = sigmoid(z2)                     # (1, 1), in (0,1)\n",
        "\n",
        "    return {\"x\": x, \"z1\": z1, \"a1\": a1, \"z2\": z2, \"a2\": a2}"
      ],
      "metadata": {
        "id": "Z7jlxJGtkt5z"
      },
      "execution_count": 3,
      "outputs": []
    },
    {
      "cell_type": "code",
      "source": [
        "# Title: Predict on Given Inputs\n",
        "# Comments: Compute predictions for x=(2,3) and x=(1,5) using the MLP forward pass.\n",
        "\n",
        "test_inputs = {\n",
        "    \"Case 1 (x1=2, x2=3)\": np.array([2.0, 3.0], dtype=DTYPE),\n",
        "    \"Case 2 (x1=1, x2=5)\": np.array([1.0, 5.0], dtype=DTYPE),\n",
        "}\n",
        "\n",
        "for name, x in test_inputs.items():\n",
        "    out = forward_mlp(x)\n",
        "    print(f\"\\n{name}\")\n",
        "    print(f\"x:\\n{out['x']}\")\n",
        "    print(f\"z1 (pre-activation hidden):\\n{out['z1']}\")\n",
        "    print(f\"a1 = ReLU(z1):\\n{out['a1']}\")\n",
        "    print(f\"z2 (pre-activation output):\\n{out['z2']}\")\n",
        "    print(f\"a2 = Sigmoid(z2) -> prediction:\\n{out['a2']}\")"
      ],
      "metadata": {
        "colab": {
          "base_uri": "https://localhost:8080/"
        },
        "id": "x0XY5PM5k2vb",
        "outputId": "2c42cdee-4c64-4dd2-987b-8c0c0c6ee507"
      },
      "execution_count": 4,
      "outputs": [
        {
          "output_type": "stream",
          "name": "stdout",
          "text": [
            "\n",
            "Case 1 (x1=2, x2=3)\n",
            "x:\n",
            "[[2.0000]\n",
            " [3.0000]]\n",
            "z1 (pre-activation hidden):\n",
            "[[0.2000]\n",
            " [2.0000]\n",
            " [1.9500]]\n",
            "a1 = ReLU(z1):\n",
            "[[0.2000]\n",
            " [2.0000]\n",
            " [1.9500]]\n",
            "z2 (pre-activation output):\n",
            "[[-0.1850]]\n",
            "a2 = Sigmoid(z2) -> prediction:\n",
            "[[0.4539]]\n",
            "\n",
            "Case 2 (x1=1, x2=5)\n",
            "x:\n",
            "[[1.0000]\n",
            " [5.0000]]\n",
            "z1 (pre-activation hidden):\n",
            "[[-0.9000]\n",
            " [ 1.6000]\n",
            " [ 4.1500]]\n",
            "a1 = ReLU(z1):\n",
            "[[0.0000]\n",
            " [1.6000]\n",
            " [4.1500]]\n",
            "z2 (pre-activation output):\n",
            "[[0.9550]]\n",
            "a2 = Sigmoid(z2) -> prediction:\n",
            "[[0.7221]]\n"
          ]
        }
      ]
    },
    {
      "cell_type": "markdown",
      "source": [
        "### Interpretation — Exercise 1: MLP Forward Propagation (2→3→1)\n",
        "\n",
        "### Pipeline recap\n",
        "- Layer 1: **z1 = W1 x + b1** → **a1 = ReLU(z1)** (negative entries are set to 0).\n",
        "- Output: **z2 = W2 a1 + b2** → **a2 = Sigmoid(z2)** ∈ (0, 1), interpreted as **P(class = 1)**.\n",
        "- For illustration, use a **0.5 decision threshold**.\n",
        "\n",
        "### Case 1 (x = (2, 3))\n",
        "- **z1 = [0.20, 2.00, 1.95]^T** → all non-negative ⇒ ReLU passes values unchanged (**a1 = z1**).\n",
        "- **z2 = -0.185** ⇒ **a2 = σ(-0.185) ≈ 0.454**.\n",
        "- **Interpretation:** predicted probability is slightly below 0.5 ⇒ **class 0**, *low confidence* (close to the boundary).\n",
        "\n",
        "### Case 2 (x = (1, 5))\n",
        "- **z1 = [-0.90, 1.60, 4.15]^T** → ReLU zeroes the first neuron: **a1 = [0.00, 1.60, 4.15]^T**.\n",
        "- **z2 = 0.955** ⇒ **a2 = σ(0.955) ≈ 0.722**.\n",
        "- **Interpretation:** predicted probability is above 0.5 ⇒ **class 1**, *moderate confidence*.\n",
        "\n",
        "### Why the two cases differ\n",
        "- **ReLU gating:** the first hidden neuron is *inactive* in Case 2 (negative pre-activation), but active in Case 1.\n",
        "- **Output weight signs matter** (W2 = [1.2, −0.7, 0.5]):  \n",
        "  - In Case 1, the second neuron's positive activation (2.0) is multiplied by a **negative** weight (-0.7), pulling **z2 down**.  \n",
        "  - In Case 2, the third neuron's large activation (4.15) with a **positive** weight (+0.5) pushes **z2 up**.\n",
        "- Result: Case 1 lands **just below** the threshold; Case 2 crosses it **comfortably**.\n",
        "\n",
        "### Key takeaways\n",
        "- ReLU introduces **sparsity**, switching neurons on/off based on input.\n",
        "- The **sign and magnitude** of output weights strongly influence the final logit (**z2**).\n",
        "- Probabilities near **0.5** imply **uncertainty**; farther from 0.5 ⇒ **higher confidence**."
      ],
      "metadata": {
        "id": "tBxnyX_5lPV8"
      }
    },
    {
      "cell_type": "markdown",
      "source": [
        "## Exercise 2: Implementing Backpropagation with Gradient Descent"
      ],
      "metadata": {
        "id": "SEXKtceMlPv8"
      }
    },
    {
      "cell_type": "code",
      "source": [
        "# Title: Backpropagation & One Gradient Descent Step (Exam Score Toy Example)\n",
        "# Comments: Manual gradients for a 2-feature linear model with bias; single-sample MSE.\n",
        "\n",
        "# Given data (scalars)\n",
        "x_hours = DTYPE(6.0)\n",
        "x_prev  = DTYPE(75.0)\n",
        "w1      = DTYPE(0.4)   # weight for study hours\n",
        "w2      = DTYPE(0.6)   # weight for previous score\n",
        "b       = DTYPE(5.0)   # bias\n",
        "y_true  = DTYPE(85.0)\n",
        "lr      = DTYPE(0.01)  # learning rate\n",
        "\n",
        "# --- Forward (prediction) ---\n",
        "y_pred = w1 * x_hours + w2 * x_prev + b  # weighted sum\n",
        "loss   = (y_pred - y_true) ** 2          # MSE for a single sample\n",
        "\n",
        "# --- Gradients (manual, single sample) ---\n",
        "# L = (y_pred - y_true)^2\n",
        "# dL/dy_pred = 2 * (y_pred - y_true)\n",
        "dL_dy   = DTYPE(2.0) * (y_pred - y_true)\n",
        "dL_dw1  = dL_dy * x_hours\n",
        "dL_dw2  = dL_dy * x_prev\n",
        "dL_db   = dL_dy * DTYPE(1.0)\n",
        "\n",
        "# --- Update (Gradient Descent) ---\n",
        "w1_new = w1 - lr * dL_dw1\n",
        "w2_new = w2 - lr * dL_dw2\n",
        "b_new  = b  - lr * dL_db\n",
        "\n",
        "# Optional: new prediction after one step (to observe effect)\n",
        "y_pred_new = w1_new * x_hours + w2_new * x_prev + b_new\n",
        "loss_new   = (y_pred_new - y_true) ** 2\n",
        "\n",
        "print(\"=== Before update ===\")\n",
        "print(f\"y_pred: {y_pred:.4f} | y_true: {y_true:.4f}\")\n",
        "print(f\"MSE: {loss:.4f}\")\n",
        "print(f\"Gradients -> dL/dw1: {dL_dw1:.4f}, dL/dw2: {dL_dw2:.4f}, dL/db: {dL_db:.4f}\")\n",
        "\n",
        "print(\"\\n=== After one GD step ===\")\n",
        "print(f\"w1: {w1_new:.4f} (from {w1:.4f})\")\n",
        "print(f\"w2: {w2_new:.4f} (from {w2:.4f})\")\n",
        "print(f\"b : {b_new:.4f} (from {b:.4f})\")\n",
        "print(f\"y_pred_new: {y_pred_new:.4f} | MSE_new: {loss_new:.4f}\")\n",
        "\n",
        "# Tip: If updates are too large, try a smaller lr (e.g., 1e-4) or feature scaling/standardization."
      ],
      "metadata": {
        "colab": {
          "base_uri": "https://localhost:8080/"
        },
        "id": "2t_5ao96lXKG",
        "outputId": "b2a59d71-817c-42a1-e0d0-72608db217c7"
      },
      "execution_count": 5,
      "outputs": [
        {
          "output_type": "stream",
          "name": "stdout",
          "text": [
            "=== Before update ===\n",
            "y_pred: 52.4000 | y_true: 85.0000\n",
            "MSE: 1062.7600\n",
            "Gradients -> dL/dw1: -391.2000, dL/dw2: -4890.0000, dL/db: -65.2000\n",
            "\n",
            "=== After one GD step ===\n",
            "w1: 4.3120 (from 0.4000)\n",
            "w2: 49.5000 (from 0.6000)\n",
            "b : 5.6520 (from 5.0000)\n",
            "y_pred_new: 3744.0240 | MSE_new: 13388456.6326\n"
          ]
        }
      ]
    },
    {
      "cell_type": "markdown",
      "source": [
        "### Interpretation — Exercise 2: Backpropagation & One GD Step\n",
        "\n",
        "### What the numbers show\n",
        "- **Prediction vs target:** `y_pred = 52.4` while `y_true = 85`. The model **under-predicts**.\n",
        "- **Gradient sign:** `dL/dy_pred = 2*(y_pred - y_true) = 2*(52.4 - 85) = -65.2` (negative).  \n",
        "  In gradient descent we update `θ := θ - lr * ∂L/∂θ`, so **subtracting a negative** increases the parameters (we push the prediction up).\n",
        "- **Gradient magnitudes:**  \n",
        "  - `dL/dw1 = -391.2` (because `x_hours = 6`)  \n",
        "  - `dL/dw2 = -4890.0` (because `x_prev = 75`)  \n",
        "  The second feature is much larger → its gradient **dominates**.\n",
        "- **Update sizes with `lr = 0.01`:**  \n",
        "  - `Δw1 = -lr * dL/dw1 = +3.912` → `w1: 0.4 → 4.312`  \n",
        "  - `Δw2 = -lr * dL/dw2 = +48.9` → `w2: 0.6 → 49.5`  \n",
        "  - `Δb  = -lr * dL/db   = +0.652` → `b : 5.0 → 5.652`  \n",
        "  These are **huge jumps** (especially `w2`), so the next prediction explodes:  \n",
        "  `y_pred_new = 3744.024`, and `MSE_new` skyrockets to `≈ 1.34e7`. This is **divergence/overshoot**.\n",
        "\n",
        "### Why this happens\n",
        "- **Feature scale imbalance:** One feature is `75` while the other is `6`. Gradients scale with input magnitude, so parameters tied to large-magnitude inputs receive **very large updates**.  \n",
        "- **Learning rate too high:** With unscaled features, `lr = 0.01` is far too aggressive for a single-sample MSE update.  \n",
        "- **Single-sample update:** We used 1 sample; there is no averaging across a batch to temper the step size.\n",
        "\n",
        "### How to fix it (any of the following will help)\n",
        "1. **Feature scaling (recommended):**\n",
        "   - Standardization (z-score): `x := (x - mean) / std`  \n",
        "   - or Normalization to a comparable range: e.g., `hours/10`, `prev_score/100`.  \n",
        "   After scaling, the gradients become balanced and steps are reasonable.\n",
        "2. **Use a smaller learning rate** if you don't scale features (e.g., `1e-4` or `1e-5`).\n",
        "3. **Mini-batch/mean MSE** over several examples (reduces variance and effective step size).\n",
        "4. Optional: **Gradient clipping** or **weight decay** as safety nets (less critical here than scaling + lr).\n",
        "\n",
        "## Key takeaway\n",
        "Because the model under-predicted, gradient descent **increased** the weights and bias (correct direction), but due to **feature scale imbalance and a too-large learning rate**, the update **overshot** massively and the loss **increased**. Proper **scaling + a smaller learning rate** will produce stable, decreasing loss."
      ],
      "metadata": {
        "id": "yDO7fMN3l88f"
      }
    },
    {
      "cell_type": "code",
      "source": [
        "# Title: OPTIONAL — Stable Update with Feature Scaling\n",
        "# Comments: Scale inputs to comparable ranges and use a moderate LR; observe MSE decrease.\n",
        "\n",
        "# Idea: hours in [0..10] → divide by 10 ; prev_score in [0..100] → divide by 100\n",
        "x_hours_raw = DTYPE(6.0)\n",
        "x_prev_raw  = DTYPE(75.0)\n",
        "y_true      = DTYPE(85.0)\n",
        "\n",
        "x_hours = x_hours_raw / DTYPE(10.0)   # -> 0.6\n",
        "x_prev  = x_prev_raw  / DTYPE(100.0)  # -> 0.75\n",
        "\n",
        "# Re-use initial parameters\n",
        "w1 = DTYPE(0.4)\n",
        "w2 = DTYPE(0.6)\n",
        "b  = DTYPE(5.0)\n",
        "lr = DTYPE(0.01)  # with scaling, 0.01 is now reasonable\n",
        "\n",
        "# Forward (scaled features)\n",
        "y_pred = w1 * x_hours + w2 * x_prev + b\n",
        "loss   = (y_pred - y_true) ** 2\n",
        "\n",
        "# Gradients (single sample)\n",
        "dL_dy  = DTYPE(2.0) * (y_pred - y_true)\n",
        "dL_dw1 = dL_dy * x_hours\n",
        "dL_dw2 = dL_dy * x_prev\n",
        "dL_db  = dL_dy\n",
        "\n",
        "# One GD step\n",
        "w1_new = w1 - lr * dL_dw1\n",
        "w2_new = w2 - lr * dL_dw2\n",
        "b_new  = b  - lr * dL_db\n",
        "\n",
        "# New prediction and loss (post-update)\n",
        "y_pred_new = w1_new * x_hours + w2_new * x_prev + b_new\n",
        "loss_new   = (y_pred_new - y_true) ** 2\n",
        "\n",
        "print(\"=== Scaled features update ===\")\n",
        "print(f\"(x_hours, x_prev) = ({x_hours:.3f}, {x_prev:.3f})\")\n",
        "print(f\"Before: y_pred={y_pred:.4f}, MSE={loss:.4f}\")\n",
        "print(f\"After : y_pred={y_pred_new:.4f}, MSE={loss_new:.4f}\")\n",
        "print(f\"w1: {w1_new:.4f} (from {w1:.4f}), w2: {w2_new:.4f} (from {w2:.4f}), b: {b_new:.4f} (from {b:.4f})\")"
      ],
      "metadata": {
        "colab": {
          "base_uri": "https://localhost:8080/"
        },
        "id": "RAiqL65Dnb89",
        "outputId": "f6b063f4-d01c-471a-8afc-b0d6fd5a057e"
      },
      "execution_count": 6,
      "outputs": [
        {
          "output_type": "stream",
          "name": "stdout",
          "text": [
            "=== Scaled features update ===\n",
            "(x_hours, x_prev) = (0.600, 0.750)\n",
            "Before: y_pred=5.6900, MSE=6290.0761\n",
            "After : y_pred=8.7395, MSE=5815.6685\n",
            "w1: 1.3517 (from 0.4000), w2: 1.7896 (from 0.6000), b: 6.5862 (from 5.0000)\n"
          ]
        }
      ]
    },
    {
      "cell_type": "markdown",
      "source": [
        "# Interpretation — Optional Scaled Update (Exercise 2)\n",
        "\n",
        "## What changed (vs. the unscaled case)\n",
        "We rescaled inputs to comparable ranges:\n",
        "- `x_hours = 6/10 = 0.6`\n",
        "- `x_prev  = 75/100 = 0.75`\n",
        "\n",
        "The model still predicts the raw exam score (target `y_true = 85`), but now gradients are balanced between features.\n",
        "\n",
        "## Before → After (numbers)\n",
        "- **Before:** `y_pred = 5.6900`, `MSE = 6290.0761` (strong underprediction)\n",
        "- **After one GD step:** `y_pred_new = 8.7395`, `MSE_new = 5815.6685`\n",
        "- **Loss change:** `-474.41` (≈ **-7.5%**) — the update moved in the right direction and **did not diverge**.\n",
        "\n",
        "## Why the update is stable\n",
        "With MSE on a single sample:\n",
        "- `dL/dy_pred = 2*(y_pred - y_true) = 2*(5.69 - 85) = -158.62`\n",
        "- Parameter gradients:\n",
        "  - `dL/dw1 = (dL/dy_pred)*x_hours = (-158.62)*0.6 = -95.172`\n",
        "  - `dL/dw2 = (dL/dy_pred)*x_prev  = (-158.62)*0.75 = -118.965`\n",
        "  - `dL/db  = (dL/dy_pred)         = -158.62`\n",
        "- With `lr = 0.01`:\n",
        "  - `Δw1 = -lr*dL/dw1 = +0.95172`  → `w1: 0.4000 → 1.3517`\n",
        "  - `Δw2 = -lr*dL/dw2 = +1.18965`  → `w2: 0.6000 → 1.7896`\n",
        "  - `Δb  = -lr*dL/db  = +1.58620`  → `b : 5.0000 → 6.5862`\n",
        "\n",
        "These steps are **modest and balanced** (contrast with the unscaled case where `w2` jumped by +48.9 due to the large input 75), hence the loss decreases rather than exploding.\n",
        "\n",
        "## What remains\n",
        "- We are still far from the target (`8.74` vs `85`). Expect **many small steps** (or a slightly larger `lr`, e.g. `0.05`) to keep improving.\n",
        "- Even better: use **standardization** (z-score) with dataset statistics rather than ad-hoc scaling. This centers inputs ~0 and normalizes variance, further stabilizing training.\n",
        "\n",
        "## Key takeaway\n",
        "**Feature scaling** + a **reasonable learning rate** turns a divergent step into a **stable, loss-decreasing** update. Scaling makes gradients comparable across features, preventing one weight from dominating the optimization dynamics."
      ],
      "metadata": {
        "id": "87krO3UJneQt"
      }
    },
    {
      "cell_type": "markdown",
      "source": [
        "## Exercise 3: Comparing Activation Functions for Neural Networks"
      ],
      "metadata": {
        "id": "A-S-1kMTnepX"
      }
    },
    {
      "cell_type": "code",
      "source": [
        "# Title: Plot Sigmoid and ReLU\n",
        "# Comments: Use the shared plot_function helper to visualize both (separate figures).\n",
        "\n",
        "plot_function(sigmoid, title=\"Sigmoid\")\n",
        "plot_function(relu,    title=\"ReLU\")"
      ],
      "metadata": {
        "colab": {
          "base_uri": "https://localhost:8080/",
          "height": 927
        },
        "id": "A3v6d4LNnjpI",
        "outputId": "fa48b177-0318-45cb-f4fa-db5712552085"
      },
      "execution_count": 7,
      "outputs": [
        {
          "output_type": "display_data",
          "data": {
            "text/plain": [
              "<Figure size 640x480 with 1 Axes>"
            ],
            "image/png": "[encoded data removed]"
          },
          "metadata": {}
        },
        {
          "output_type": "display_data",
          "data": {
            "text/plain": [
              "<Figure size 640x480 with 1 Axes>"
            ],
            "image/png": "[encoded data removed]"
          },
          "metadata": {}
        }
      ]
    },
    {
      "cell_type": "markdown",
      "source": [
        "### Compare Activation Behaviors"
      ],
      "metadata": {
        "id": "MKKHF_xtns4z"
      }
    },
    {
      "cell_type": "code",
      "source": [
        "# Title: Compare Activation Behaviors\n",
        "# Comments: Print sample outputs to illustrate each function's behavior.\n",
        "\n",
        "xs = np.array([-2.0, -0.5, 0.0, 0.5, 2.0], dtype=DTYPE)\n",
        "\n",
        "print(\"x:\", xs)\n",
        "print(\"Step(x):\", step(xs))        # binary outputs {0,1}\n",
        "print(\"Sigmoid(x):\", sigmoid(xs))  # smooth transition (0,1)\n",
        "print(\"ReLU(x):\", relu(xs))        # negatives -> 0, positives unchanged"
      ],
      "metadata": {
        "colab": {
          "base_uri": "https://localhost:8080/"
        },
        "id": "kZxPl1tUnqtN",
        "outputId": "8cad01d8-191f-4d10-8563-efd46d6b42fb"
      },
      "execution_count": 8,
      "outputs": [
        {
          "output_type": "stream",
          "name": "stdout",
          "text": [
            "x: [-2.0000 -0.5000  0.0000  0.5000  2.0000]\n",
            "Step(x): [0.0000 0.0000 1.0000 1.0000 1.0000]\n",
            "Sigmoid(x): [0.1192 0.3775 0.5000 0.6225 0.8808]\n",
            "ReLU(x): [0.0000 0.0000 0.0000 0.5000 2.0000]\n"
          ]
        }
      ]
    },
    {
      "cell_type": "markdown",
      "source": [
        "### Interpretation — Exercise 3: Activation Outputs\n",
        "\n",
        "**Inputs tested:** `x = [-2.0, -0.5, 0.0, 0.5, 2.0]`\n",
        "\n",
        "- **Step(x):** `[0, 0, 1, 1, 1]`  \n",
        "  A hard threshold at 0: negatives map to 0; zero and positives map to 1.  \n",
        "  *Binary output, not differentiable at 0 and zero gradient elsewhere.*\n",
        "\n",
        "- **Sigmoid(x):** `[0.1192, 0.3775, 0.5000, 0.6225, 0.8808]`  \n",
        "  Smooth S-curve in (0, 1): far negatives are near 0, far positives near 1, and `σ(0)=0.5`.  \n",
        "  *Largest sensitivity around 0 (max slope ≈ 0.25 at x=0); saturates (small gradients) in the tails.*\n",
        "\n",
        "- **ReLU(x):** `[0.0, 0.0, 0.0, 0.5, 2.0]`  \n",
        "  Negative values become 0; positives pass through unchanged; `ReLU(0)=0`.  \n",
        "  *Piecewise-linear with derivative 0 for x<0 and 1 for x>0 (undefined at 0 but treated as 0 or 1 in practice).*\n",
        "\n",
        "**Bottom line:**  \n",
        "- **Step** is strictly binary → not useful for gradient-based training.  \n",
        "- **Sigmoid** gives smooth probabilities but can **saturate** (vanishing gradients in the tails).  \n",
        "- **ReLU** keeps strong gradients for positive activations, encouraging sparse, efficient representations."
      ],
      "metadata": {
        "id": "x3OiT69qoE9b"
      }
    },
    {
      "cell_type": "markdown",
      "source": [
        "## Exercise 4: Forward Propagation in a Deep Neural Network"
      ],
      "metadata": {
        "id": "8cLEYeHQoFUU"
      }
    },
    {
      "cell_type": "code",
      "source": [
        "# Title: Forward Propagation for House Price (Deep Network)\n",
        "# Comments:\n",
        "# Assumption: Two hidden neurons computed directly from inputs, both with ReLU.\n",
        "# Output layer uses a single weight on the SUM of hidden activations, plus a bias.\n",
        "# This uses all provided numbers exactly once and keeps the forward pass simple.\n",
        "\n",
        "# Inputs (square footage, bedrooms)\n",
        "x_sqft = DTYPE(2000.0)\n",
        "x_beds = DTYPE(3.0)\n",
        "\n",
        "# Hidden neuron h1: z1 = 0.5*x_sqft + 0.7*x_beds + 10000\n",
        "w1_1, w1_2, b1 = DTYPE(0.5), DTYPE(0.7), DTYPE(10000.0)\n",
        "\n",
        "# Hidden neuron h2: z2 = 0.6*x_sqft + 0.8*x_beds + 20000\n",
        "w2_1, w2_2, b2 = DTYPE(0.6), DTYPE(0.8), DTYPE(20000.0)\n",
        "\n",
        "# Output: y = 1.2 * (ReLU(z1) + ReLU(z2)) + 30000\n",
        "w_out, b_out = DTYPE(1.2), DTYPE(30000.0)\n",
        "\n",
        "# Layer computations\n",
        "z1 = w1_1 * x_sqft + w1_2 * x_beds + b1\n",
        "a1 = relu(z1)\n",
        "\n",
        "z2 = w2_1 * x_sqft + w2_2 * x_beds + b2\n",
        "a2 = relu(z2)\n",
        "\n",
        "y_pred = w_out * (a1 + a2) + b_out\n",
        "\n",
        "print(\"=== Forward Propagation (House Price) ===\")\n",
        "print(f\"Inputs: sqft={x_sqft:.1f}, bedrooms={x_beds:.1f}\")\n",
        "print(f\"z1 = {z1:.4f} -> a1 = ReLU(z1) = {a1:.4f}\")\n",
        "print(f\"z2 = {z2:.4f} -> a2 = ReLU(z2) = {a2:.4f}\")\n",
        "print(f\"Final prediction y = {y_pred:.4f}\")"
      ],
      "metadata": {
        "colab": {
          "base_uri": "https://localhost:8080/"
        },
        "id": "q13HY2-spCKq",
        "outputId": "aafc570c-5459-4123-e451-b604eb0e488a"
      },
      "execution_count": 9,
      "outputs": [
        {
          "output_type": "stream",
          "name": "stdout",
          "text": [
            "=== Forward Propagation (House Price) ===\n",
            "Inputs: sqft=2000.0, bedrooms=3.0\n",
            "z1 = 11002.1000 -> a1 = ReLU(z1) = 11002.1000\n",
            "z2 = 21202.4000 -> a2 = ReLU(z2) = 21202.4000\n",
            "Final prediction y = 68645.4000\n"
          ]
        }
      ]
    },
    {
      "cell_type": "markdown",
      "source": [
        "### Interpretation — Exercise 4: House Price Forward Pass\n",
        "\n",
        "- **Hidden neuron h1:** `z1 = 0.5*2000 + 0.7*3 + 10000 = 11002.1` → `a1 = ReLU(z1) = 11002.1`\n",
        "- **Hidden neuron h2:** `z2 = 0.6*2000 + 0.8*3 + 20000 = 21202.4` → `a2 = ReLU(z2) = 21202.4`\n",
        "- **Output:** `y = 1.2*(a1 + a2) + 30000 = 1.2*(32204.5) + 30000 = 68645.4`\n",
        "\n",
        "**Interpretation:**  \n",
        "Both hidden neurons fire strongly (large positive pre-activations) due to substantial positive biases (`10k` and `20k`) and large input magnitudes (e.g., `2000 sqft`). The final price is a linear combination of these activated features plus an intercept (`30k`). With ReLU, negative intermediate values would have been clamped to 0, but here all are positive, so ReLU is effectively the identity."
      ],
      "metadata": {
        "id": "hKXLGfEvpNWy"
      }
    },
    {
      "cell_type": "markdown",
      "source": [
        "## Exercise 5: Training a Neural Network with Forward and Backward Propagation"
      ],
      "metadata": {
        "id": "_WrfEC7WpP0X"
      }
    },
    {
      "cell_type": "code",
      "source": [
        "# Title: Exercise 5 — Single Update (Forward + Backward + GD)\n",
        "# Comments: One gradient descent step on a 2-feature linear model (scaled inputs).\n",
        "\n",
        "# Inputs (scaled for stability): hours in [0..10] → /10 ; prev score in [0..100] → /100\n",
        "x_hours = DTYPE(6.0) / DTYPE(10.0)   # 0.6\n",
        "x_prev  = DTYPE(75.0) / DTYPE(100.0) # 0.75\n",
        "y_true  = DTYPE(85.0)\n",
        "\n",
        "# Initial parameters (as given in the spec)\n",
        "w1 = DTYPE(0.4)\n",
        "w2 = DTYPE(0.6)\n",
        "b  = DTYPE(5.0)\n",
        "lr = DTYPE(0.01)  # moderate LR thanks to scaling\n",
        "\n",
        "# Forward\n",
        "y_pred = w1 * x_hours + w2 * x_prev + b\n",
        "loss   = (y_pred - y_true) ** 2  # single-sample MSE\n",
        "\n",
        "# Gradients\n",
        "dL_dy  = DTYPE(2.0) * (y_pred - y_true)\n",
        "dL_dw1 = dL_dy * x_hours\n",
        "dL_dw2 = dL_dy * x_prev\n",
        "dL_db  = dL_dy\n",
        "\n",
        "# Update\n",
        "w1_new = w1 - lr * dL_dw1\n",
        "w2_new = w2 - lr * dL_dw2\n",
        "b_new  = b  - lr * dL_db\n",
        "\n",
        "# Post-update check\n",
        "y_pred_new = w1_new * x_hours + w2_new * x_prev + b_new\n",
        "loss_new   = (y_pred_new - y_true) ** 2\n",
        "\n",
        "print(\"=== Exercise 5: One Training Iteration ===\")\n",
        "print(f\"Before: y_pred={y_pred:.4f}, MSE={loss:.4f}\")\n",
        "print(f\"After : y_pred={y_pred_new:.4f}, MSE={loss_new:.4f}\")\n",
        "print(f\"Updated weights: w1={w1_new:.4f}, w2={w2_new:.4f}, b={b_new:.4f}\")"
      ],
      "metadata": {
        "colab": {
          "base_uri": "https://localhost:8080/"
        },
        "id": "OFXpAPJ5pTlG",
        "outputId": "c10206e4-fdfa-4200-88c3-8e27433d81a5"
      },
      "execution_count": 10,
      "outputs": [
        {
          "output_type": "stream",
          "name": "stdout",
          "text": [
            "=== Exercise 5: One Training Iteration ===\n",
            "Before: y_pred=5.6900, MSE=6290.0761\n",
            "After : y_pred=8.7395, MSE=5815.6685\n",
            "Updated weights: w1=1.3517, w2=1.7896, b=6.5862\n"
          ]
        }
      ]
    },
    {
      "cell_type": "code",
      "source": [
        "# Title: Exercise 5 — Simple Training Loop (Many Steps)\n",
        "# Comments: Train for N steps on the same sample; observe monotonic MSE decrease.\n",
        "\n",
        "# Re-init parameters to the spec values\n",
        "w1, w2, b = DTYPE(0.4), DTYPE(0.6), DTYPE(5.0)\n",
        "lr = DTYPE(0.01)\n",
        "\n",
        "steps = 300\n",
        "losses = []\n",
        "\n",
        "for t in range(steps):\n",
        "    # Forward\n",
        "    y_pred = w1 * x_hours + w2 * x_prev + b\n",
        "    loss   = (y_pred - y_true) ** 2\n",
        "    losses.append(float(loss))\n",
        "\n",
        "    # Gradients (single sample)\n",
        "    dL_dy  = DTYPE(2.0) * (y_pred - y_true)\n",
        "    dL_dw1 = dL_dy * x_hours\n",
        "    dL_dw2 = dL_dy * x_prev\n",
        "    dL_db  = dL_dy\n",
        "\n",
        "    # Update\n",
        "    w1 -= lr * dL_dw1\n",
        "    w2 -= lr * dL_dw2\n",
        "    b  -= lr * dL_db\n",
        "\n",
        "print(\"=== Training Summary (single-sample) ===\")\n",
        "print(f\"Final params: w1={w1:.4f}, w2={w2:.4f}, b={b:.4f}\")\n",
        "y_pred_final = w1 * x_hours + w2 * x_prev + b\n",
        "print(f\"Final prediction: {y_pred_final:.4f} | Target: {y_true:.4f}\")\n",
        "print(f\"Initial MSE: {losses[0]:.4f} | Final MSE: {losses[-1]:.4f}\")\n",
        "\n",
        "# Optional: visualize loss curve\n",
        "plt.figure()\n",
        "plt.plot(losses)\n",
        "plt.title(\"Training Loss (single-sample)\")\n",
        "plt.xlabel(\"Step\")\n",
        "plt.ylabel(\"MSE\")\n",
        "plt.grid(True, linestyle=\"--\", linewidth=0.5)\n",
        "plt.show()"
      ],
      "metadata": {
        "colab": {
          "base_uri": "https://localhost:8080/",
          "height": 541
        },
        "id": "v5QHUhF_p54R",
        "outputId": "83e8e233-6569-423b-e65e-792f850f22f2"
      },
      "execution_count": 11,
      "outputs": [
        {
          "output_type": "stream",
          "name": "stdout",
          "text": [
            "=== Training Summary (single-sample) ===\n",
            "Final params: w1=25.1520, w2=31.5399, b=46.2533\n",
            "Final prediction: 84.9994 | Target: 85.0000\n",
            "Initial MSE: 6290.0761 | Final MSE: 0.0000\n"
          ]
        },
        {
          "output_type": "display_data",
          "data": {
            "text/plain": [
              "<Figure size 640x480 with 1 Axes>"
            ],
            "image/png": "[encoded data removed]"
          },
          "metadata": {}
        }
      ]
    },
    {
      "cell_type": "markdown",
      "source": [
        "### Interpretation — Exercise 5: One-Step Update & Training Loop\n",
        "\n",
        "### One-step update\n",
        "- **Before:** `y_pred = 5.6900`, `MSE = 6290.0761` (strong underprediction vs. target `85`).\n",
        "- **After one GD step:** `y_pred = 8.7395`, `MSE = 5815.6685` → loss decreased by ~**7.5%**.\n",
        "- **Why it moved up:** `dL/dy_pred = 2*(y_pred - y_true) < 0`, so the GD update increases the parameters (and the prediction), pushing toward the target.\n",
        "\n",
        "### Training loop (single sample)\n",
        "- The loss curve drops **steeply at first**, then flattens as we approach the optimum (typical for quadratic loss + constant LR).\n",
        "- Final parameters:\n",
        "  - `w1 = 25.1520`, `w2 = 31.5399`, `b = 46.2533`\n",
        "- Final prediction:\n",
        "  - `0.6*w1 + 0.75*w2 + b = 0.6*25.1520 + 0.75*31.5399 + 46.2533 ≈ 84.9994`\n",
        "  - **Matches the target (≈ 85)**, and `MSE → 0`.\n",
        "\n",
        "### Why the weights grew this large\n",
        "- We trained on **one data point** with three parameters (`w1, w2, b`). There are **infinitely many** solutions that fit the single point exactly.\n",
        "- Gradient descent converges to **one** such solution (dependent on initialization and LR). Large parameter values are not penalized here because we used **plain MSE** without regularization.\n",
        "\n",
        "### Caveats & good practice\n",
        "- With a single sample, the model **overfits perfectly** (by design). To generalize, train on **many samples** and monitor validation loss.\n",
        "- Keep **feature scaling** (already applied) for stable optimization.\n",
        "- Consider **regularization** (e.g., L2/weight decay) to discourage unnecessarily large weights.\n",
        "- If convergence is slow or oscillatory on larger datasets, tune **learning rate**, use **mini-batches**, or try **adaptive optimizers**.\n",
        "\n",
        "### Key takeaway\n",
        "- Gradient descent moved the prediction in the correct direction (loss decreased).\n",
        "- With enough steps, the linear model **exactly fits** the single scaled sample (MSE ≈ 0).\n",
        "- For real tasks, prioritize **more data**, **scaling**, and **regularization** to achieve stable training and better generalization."
      ],
      "metadata": {
        "id": "JYwU8yFNqq3T"
      }
    }
  ]
}