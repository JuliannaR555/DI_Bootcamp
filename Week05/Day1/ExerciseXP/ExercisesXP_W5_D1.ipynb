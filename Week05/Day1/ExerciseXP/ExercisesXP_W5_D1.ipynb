{
  "nbformat": 4,
  "nbformat_minor": 0,
  "metadata": {
    "colab": {
      "provenance": []
    },
    "kernelspec": {
      "name": "python3",
      "display_name": "Python 3"
    },
    "language_info": {
      "name": "python"
    }
  },
  "cells": [
    {
      "cell_type": "markdown",
      "source": [
        "Exercises XP: W5_D1"
      ],
      "metadata": {
        "id": "QKu4s8VvRclh"
      }
    },
    {
      "cell_type": "markdown",
      "source": [
        "Exercise 1 : Small Quizz"
      ],
      "metadata": {
        "id": "hXJQETAvRcZo"
      }
    },
    {
      "cell_type": "markdown",
      "source": [
        "### What is the key difference between traditional machine learning and deep learning?\n",
        "\n",
        "**Answer:**  \n",
        "Traditional machine learning often requires **manual feature engineering**, where humans decide which input variables to use and how to process them.  \n",
        "In contrast, deep learning uses **neural networks with multiple layers** that automatically learn and extract relevant features from raw data during training.\n",
        "\n",
        "---\n",
        "\n",
        "### How do artificial neural networks (ANNs) mimic the human brain?\n",
        "\n",
        "**Answer:**  \n",
        "ANNs are inspired by the brain's structure.  \n",
        "They consist of interconnected **artificial neurons** that process information and pass signals to each other.  \n",
        "Just like biological neurons, each artificial neuron computes a weighted sum of its inputs, applies an activation function, and passes the result forward.\n",
        "\n",
        "---\n",
        "\n",
        "### Why does deep learning perform better on large datasets compared to traditional machine learning?\n",
        "\n",
        "**Answer:**  \n",
        "Deep learning models have a **high capacity to learn complex patterns** because they use many layers and parameters.  \n",
        "With large datasets, they can capture intricate relationships and generalize better.  \n",
        "Traditional models often plateau in performance because they can’t automatically learn sophisticated representations.\n",
        "\n",
        "---\n",
        "\n",
        "### What are some challenges of deep learning, and how can they be addressed?\n",
        "\n",
        "**Answer:**  \n",
        "Challenges include:\n",
        "- **Need for large amounts of data**\n",
        "- **High computational cost (requires GPUs)**\n",
        "- **Risk of overfitting**\n",
        "\n",
        "They can be addressed by:\n",
        "- Using **data augmentation**\n",
        "- Applying **regularization techniques** (dropout, weight decay)\n",
        "- Using **transfer learning**\n",
        "- Ensuring proper **model evaluation and validation**\n",
        "\n",
        "---\n",
        "\n",
        "### What is feature engineering, and why is it not needed in deep learning?\n",
        "\n",
        "**Answer:**  \n",
        "Feature engineering is the process of **manually designing and selecting input variables** that help a model perform better.  \n",
        "Deep learning reduces the need for manual feature engineering because **neural networks automatically learn relevant features** from raw data, especially in images and text.\n",
        "\n",
        "---\n",
        "\n",
        "### What role do hidden layers play in a deep learning model?\n",
        "\n",
        "**Answer:**  \n",
        "Hidden layers are responsible for **learning internal representations of the data**.  \n",
        "Each hidden layer transforms the input into more abstract features, enabling the network to capture complex relationships and make accurate predictions.\n",
        "\n",
        "---\n",
        "\n",
        "### In an artificial neural network (ANN), what is the function of an activation function?\n",
        "\n",
        "**Answer:**  \n",
        "Activation functions introduce **non-linearity** into the model, enabling the network to learn complex patterns.  \n",
        "Without activation functions, the entire network would behave like a simple linear model, regardless of the number of layers.\n"
      ],
      "metadata": {
        "id": "Oj_l89qmRqf2"
      }
    },
    {
      "cell_type": "markdown",
      "source": [
        "## Exercise 2 : Building a Simple Perceptron Decision System"
      ],
      "metadata": {
        "id": "Am-9w5ttSOEg"
      }
    },
    {
      "cell_type": "markdown",
      "source": [
        "## 1. Weighted Sum Calculations\n",
        "\n",
        "**Formula:**\n",
        "Weighted Sum = (Temperature x 0.6) + (Rain x 0.4) + 2\n",
        "\n",
        "---\n",
        "\n",
        "**Case 1:**\n",
        "- Temperature = 70°F\n",
        "- Rain = 0\n",
        "\n",
        "Weighted Sum = (70 x 0.6) + (0 x 0.4) + 2 = 42 + 0 + 2 = **44**\n",
        "\n",
        "Activation: 44 > 20 → **Output = 1 (Yes, go outside)**\n",
        "\n",
        "---\n",
        "\n",
        "**Case 2:**\n",
        "- Temperature = 50°F\n",
        "- Rain = 1\n",
        "\n",
        "Weighted Sum = (50 x 0.6) + (1 x 0.4) + 2 = 30 + 0.4 + 2 = **32.4**\n",
        "\n",
        "Activation: 32.4 > 20 → **Output = 1 (Yes, go outside)**\n",
        "\n",
        "---\n",
        "\n",
        "## 2. Interpretation of Results\n",
        "\n",
        "In both cases, the perceptron suggests going outside because the weighted sum exceeds the threshold of 20.\n",
        "\n",
        "**Reason:**\n",
        "- Temperature has a strong positive influence due to its weight (0.6).\n",
        "- Even when it is rainy and colder (Case 2), the sum remains above 20.\n",
        "- The bias (+2) slightly increases the overall score.\n"
      ],
      "metadata": {
        "id": "J8kf1LnJTiYy"
      }
    },
    {
      "cell_type": "markdown",
      "source": [
        "## Exercise 3: Simple Neural Network for MNIST"
      ],
      "metadata": {
        "id": "ArPCf0YxTUF9"
      }
    },
    {
      "cell_type": "code",
      "source": [
        "# Import TensorFlow and necessary modules\n",
        "import tensorflow as tf\n",
        "from tensorflow.keras import layers, models\n",
        "from tensorflow.keras.utils import to_categorical"
      ],
      "metadata": {
        "id": "9qqnlcWCUsBG"
      },
      "execution_count": 2,
      "outputs": []
    },
    {
      "cell_type": "code",
      "source": [
        "# Load the MNIST dataset\n",
        "from tensorflow.keras.datasets import mnist"
      ],
      "metadata": {
        "id": "BisrdGaiUuG7"
      },
      "execution_count": 3,
      "outputs": []
    },
    {
      "cell_type": "code",
      "source": [
        "(train_images, train_labels), (test_images, test_labels) = mnist.load_data()"
      ],
      "metadata": {
        "colab": {
          "base_uri": "https://localhost:8080/"
        },
        "id": "m3x8S4RQUwNo",
        "outputId": "0f32c76b-36f1-4cea-d670-01dc5477e2a4"
      },
      "execution_count": 4,
      "outputs": [
        {
          "output_type": "stream",
          "name": "stdout",
          "text": [
            "Downloading data from https://storage.googleapis.com/tensorflow/tf-keras-datasets/mnist.npz\n",
            "\u001b[1m11490434/11490434\u001b[0m \u001b[32m━━━━━━━━━━━━━━━━━━━━\u001b[0m\u001b[37m\u001b[0m \u001b[1m0s\u001b[0m 0us/step\n"
          ]
        }
      ]
    },
    {
      "cell_type": "code",
      "source": [
        "# Normalize the data to [0,1]\n",
        "train_images = train_images.astype(\"float32\") / 255.0\n",
        "test_images = test_images.astype(\"float32\") / 255.0"
      ],
      "metadata": {
        "id": "BgIkzkUKUy6i"
      },
      "execution_count": 5,
      "outputs": []
    },
    {
      "cell_type": "code",
      "source": [
        "# One-hot encode the labels\n",
        "train_labels_onehot = to_categorical(train_labels, num_classes=10)\n",
        "test_labels_onehot = to_categorical(test_labels, num_classes=10)"
      ],
      "metadata": {
        "id": "haUsc0dtU1Bg"
      },
      "execution_count": 6,
      "outputs": []
    },
    {
      "cell_type": "code",
      "source": [
        "# Build the neural network model\n",
        "model = models.Sequential([\n",
        "    layers.Flatten(input_shape=(28, 28)),\n",
        "    layers.Dense(128, activation='relu'),\n",
        "    layers.Dense(10, activation='softmax')\n",
        "])"
      ],
      "metadata": {
        "colab": {
          "base_uri": "https://localhost:8080/"
        },
        "id": "CwL9gu5uU3AB",
        "outputId": "0a7e0010-1ebd-4a43-e248-c5fd21ab7ed0"
      },
      "execution_count": 8,
      "outputs": [
        {
          "output_type": "stream",
          "name": "stderr",
          "text": [
            "/usr/local/lib/python3.11/dist-packages/keras/src/layers/reshaping/flatten.py:37: UserWarning: Do not pass an `input_shape`/`input_dim` argument to a layer. When using Sequential models, prefer using an `Input(shape)` object as the first layer in the model instead.\n",
            "  super().__init__(**kwargs)\n"
          ]
        }
      ]
    },
    {
      "cell_type": "code",
      "source": [
        "# Compile the model\n",
        "model.compile(\n",
        "    optimizer='adam',\n",
        "    loss='categorical_crossentropy',\n",
        "    metrics=['accuracy']\n",
        ")"
      ],
      "metadata": {
        "id": "7NPsDWdfVHo4"
      },
      "execution_count": 9,
      "outputs": []
    },
    {
      "cell_type": "code",
      "source": [
        "# Train the model\n",
        "history = model.fit(\n",
        "    train_images,\n",
        "    train_labels_onehot,\n",
        "    epochs=10,\n",
        "    batch_size=32,\n",
        "    validation_split=0.2\n",
        ")"
      ],
      "metadata": {
        "colab": {
          "base_uri": "https://localhost:8080/"
        },
        "id": "pyhXtoq-VKY1",
        "outputId": "4de8f193-756f-4940-ac3a-990c1576fdf4"
      },
      "execution_count": 10,
      "outputs": [
        {
          "output_type": "stream",
          "name": "stdout",
          "text": [
            "Epoch 1/10\n",
            "\u001b[1m1500/1500\u001b[0m \u001b[32m━━━━━━━━━━━━━━━━━━━━\u001b[0m\u001b[37m\u001b[0m \u001b[1m9s\u001b[0m 5ms/step - accuracy: 0.8642 - loss: 0.4879 - val_accuracy: 0.9547 - val_loss: 0.1578\n",
            "Epoch 2/10\n",
            "\u001b[1m1500/1500\u001b[0m \u001b[32m━━━━━━━━━━━━━━━━━━━━\u001b[0m\u001b[37m\u001b[0m \u001b[1m9s\u001b[0m 4ms/step - accuracy: 0.9593 - loss: 0.1405 - val_accuracy: 0.9652 - val_loss: 0.1161\n",
            "Epoch 3/10\n",
            "\u001b[1m1500/1500\u001b[0m \u001b[32m━━━━━━━━━━━━━━━━━━━━\u001b[0m\u001b[37m\u001b[0m \u001b[1m8s\u001b[0m 5ms/step - accuracy: 0.9743 - loss: 0.0901 - val_accuracy: 0.9676 - val_loss: 0.1036\n",
            "Epoch 4/10\n",
            "\u001b[1m1500/1500\u001b[0m \u001b[32m━━━━━━━━━━━━━━━━━━━━\u001b[0m\u001b[37m\u001b[0m \u001b[1m10s\u001b[0m 5ms/step - accuracy: 0.9808 - loss: 0.0658 - val_accuracy: 0.9704 - val_loss: 0.0955\n",
            "Epoch 5/10\n",
            "\u001b[1m1500/1500\u001b[0m \u001b[32m━━━━━━━━━━━━━━━━━━━━\u001b[0m\u001b[37m\u001b[0m \u001b[1m6s\u001b[0m 4ms/step - accuracy: 0.9858 - loss: 0.0493 - val_accuracy: 0.9755 - val_loss: 0.0839\n",
            "Epoch 6/10\n",
            "\u001b[1m1500/1500\u001b[0m \u001b[32m━━━━━━━━━━━━━━━━━━━━\u001b[0m\u001b[37m\u001b[0m \u001b[1m11s\u001b[0m 4ms/step - accuracy: 0.9886 - loss: 0.0381 - val_accuracy: 0.9747 - val_loss: 0.0891\n",
            "Epoch 7/10\n",
            "\u001b[1m1500/1500\u001b[0m \u001b[32m━━━━━━━━━━━━━━━━━━━━\u001b[0m\u001b[37m\u001b[0m \u001b[1m11s\u001b[0m 5ms/step - accuracy: 0.9911 - loss: 0.0318 - val_accuracy: 0.9767 - val_loss: 0.0821\n",
            "Epoch 8/10\n",
            "\u001b[1m1500/1500\u001b[0m \u001b[32m━━━━━━━━━━━━━━━━━━━━\u001b[0m\u001b[37m\u001b[0m \u001b[1m7s\u001b[0m 5ms/step - accuracy: 0.9934 - loss: 0.0236 - val_accuracy: 0.9739 - val_loss: 0.0934\n",
            "Epoch 9/10\n",
            "\u001b[1m1500/1500\u001b[0m \u001b[32m━━━━━━━━━━━━━━━━━━━━\u001b[0m\u001b[37m\u001b[0m \u001b[1m7s\u001b[0m 5ms/step - accuracy: 0.9948 - loss: 0.0184 - val_accuracy: 0.9770 - val_loss: 0.0822\n",
            "Epoch 10/10\n",
            "\u001b[1m1500/1500\u001b[0m \u001b[32m━━━━━━━━━━━━━━━━━━━━\u001b[0m\u001b[37m\u001b[0m \u001b[1m8s\u001b[0m 5ms/step - accuracy: 0.9957 - loss: 0.0158 - val_accuracy: 0.9777 - val_loss: 0.0799\n"
          ]
        }
      ]
    },
    {
      "cell_type": "code",
      "source": [
        "# Evaluate the model on the test data\n",
        "test_loss, test_accuracy = model.evaluate(test_images, test_labels_onehot)\n",
        "print(f\"Test accuracy: {test_accuracy:.4f}\")"
      ],
      "metadata": {
        "colab": {
          "base_uri": "https://localhost:8080/"
        },
        "id": "Az4kiX1KWpH4",
        "outputId": "47c2fab0-83db-4057-d18d-9a973570360e"
      },
      "execution_count": 11,
      "outputs": [
        {
          "output_type": "stream",
          "name": "stdout",
          "text": [
            "\u001b[1m313/313\u001b[0m \u001b[32m━━━━━━━━━━━━━━━━━━━━\u001b[0m\u001b[37m\u001b[0m \u001b[1m2s\u001b[0m 6ms/step - accuracy: 0.9739 - loss: 0.0904\n",
            "Test accuracy: 0.9777\n"
          ]
        }
      ]
    },
    {
      "cell_type": "markdown",
      "source": [
        "## Exercise 4: Forward Propagation Calculation"
      ],
      "metadata": {
        "id": "YlIO2UHdXA_l"
      }
    },
    {
      "cell_type": "markdown",
      "source": [
        "### 1. Calculation of Pre-Activation Output (z)\n",
        "\n",
        "**Formula:**\n",
        "z = (x₁ x w₁) + (x₂ x w₂) + b\n",
        "\n",
        "**Values:**\n",
        "- x₁ = 2000\n",
        "- x₂ = 3\n",
        "- w₁ = 0.5\n",
        "- w₂ = 0.7\n",
        "- b = 50,000\n",
        "\n",
        "**Computation:**\n",
        "z = (2000 x 0.5) + (3 x 0.7) + 50,000  \n",
        "z = 1,000 + 2.1 + 50,000  \n",
        "z = **51,002.1**\n",
        "\n",
        "---\n",
        "\n",
        "## 2. ReLU Activation\n",
        "\n",
        "ReLU(z) = max(0, z) = **51,002.1**\n",
        "\n",
        "---\n",
        "\n",
        "## 3. Interpretation\n",
        "\n",
        "The predicted house price is **$51,002.10**.\n",
        "\n",
        "Since the output is positive, ReLU does not change the value."
      ],
      "metadata": {
        "id": "tp4tk22sXD-2"
      }
    },
    {
      "cell_type": "markdown",
      "source": [
        "### Exercise 5 : Implementing Forward and Backward Propagation in Python"
      ],
      "metadata": {
        "id": "UqdEODsbXkIy"
      }
    },
    {
      "cell_type": "code",
      "source": [
        "import numpy as np"
      ],
      "metadata": {
        "id": "V2WHd5_yYNTr"
      },
      "execution_count": 13,
      "outputs": []
    },
    {
      "cell_type": "code",
      "source": [
        "# Initialize input data (features)\n",
        "x = np.array([4, 80])  # 4 hours studied, previous test score: 80"
      ],
      "metadata": {
        "id": "_wE-mjhpYGw1"
      },
      "execution_count": 15,
      "outputs": []
    },
    {
      "cell_type": "code",
      "source": [
        "# Initialize weights and bias\n",
        "w = np.array([0.6, 0.3])  # Initial weights\n",
        "b = 10  # Initial bias"
      ],
      "metadata": {
        "id": "betBc9oTYQTE"
      },
      "execution_count": 16,
      "outputs": []
    },
    {
      "cell_type": "code",
      "source": [
        "# Forward Propagation\n",
        "def forward_propagation(x, w, b):\n",
        "    z = np.dot(x, w) + b  # Weighted sum\n",
        "    return z  # Linear activation (regression)"
      ],
      "metadata": {
        "id": "sAcBh87pYSCz"
      },
      "execution_count": 17,
      "outputs": []
    },
    {
      "cell_type": "code",
      "source": [
        "# Compute prediction\n",
        "y_pred = forward_propagation(x, w, b)\n",
        "y_true = 85  # Actual exam score"
      ],
      "metadata": {
        "id": "VW2TNFF_YTv5"
      },
      "execution_count": 18,
      "outputs": []
    },
    {
      "cell_type": "code",
      "source": [
        "# Compute Loss (Mean Squared Error)\n",
        "loss = 0.5 * (y_true - y_pred) ** 2"
      ],
      "metadata": {
        "id": "cSd3bE_WYViJ"
      },
      "execution_count": 19,
      "outputs": []
    },
    {
      "cell_type": "code",
      "source": [
        "# Compute Gradients\n",
        "grad_w = -(y_true - y_pred) * x  # Partial derivatives w.r.t weights\n",
        "grad_b = -(y_true - y_pred)      # Partial derivative w.r.t bias"
      ],
      "metadata": {
        "id": "xrg70Kn-YXbW"
      },
      "execution_count": 20,
      "outputs": []
    },
    {
      "cell_type": "code",
      "source": [
        "# Update Weights and Bias\n",
        "learning_rate = 0.01\n",
        "w_new = w - learning_rate * grad_w\n",
        "b_new = b - learning_rate * grad_b"
      ],
      "metadata": {
        "id": "EJlM4ZgPYZH7"
      },
      "execution_count": 21,
      "outputs": []
    },
    {
      "cell_type": "code",
      "source": [
        "# Print Results\n",
        "print(\"Initial Prediction:\", y_pred)\n",
        "print(\"Loss:\", loss)\n",
        "print(\"Gradients w.r.t Weights:\", grad_w)\n",
        "print(\"Gradient w.r.t Bias:\", grad_b)\n",
        "print(\"Updated Weights:\", w_new)\n",
        "print(\"Updated Bias:\", b_new)"
      ],
      "metadata": {
        "colab": {
          "base_uri": "https://localhost:8080/"
        },
        "id": "FcLkJK2QYa6P",
        "outputId": "6c60afb4-9be7-4092-b013-786185d8d51a"
      },
      "execution_count": 22,
      "outputs": [
        {
          "output_type": "stream",
          "name": "stdout",
          "text": [
            "Initial Prediction: 36.4\n",
            "Loss: 1180.98\n",
            "Gradients w.r.t Weights: [ -194.4 -3888. ]\n",
            "Gradient w.r.t Bias: -48.6\n",
            "Updated Weights: [ 2.544 39.18 ]\n",
            "Updated Bias: 10.486\n"
          ]
        }
      ]
    },
    {
      "cell_type": "markdown",
      "source": [
        "### Interpretation of the Results\n",
        "\n",
        "- **Initial Prediction:** 36.4\n",
        "  - This is much lower than the true exam score of 85.\n",
        "- **Loss:** 1180.98\n",
        "  - The high loss indicates a large prediction error.\n",
        "- **Gradients:**\n",
        "  - Large negative gradients show that the weights and bias need to increase to improve the prediction.\n",
        "- **Updated Weights and Bias:**\n",
        "  - After applying gradient descent, the weights increased significantly to raise the predicted score in the next iteration.\n",
        "\n",
        "**Why did the weights increase so much?**\n",
        "Because the prediction was far too low, and gradient descent moves the weights in the direction that reduces the error. The input values (especially 80) amplify the gradients.\n",
        "\n",
        "**Next steps:**\n",
        "Running another forward propagation with the updated weights would result in a much higher prediction, reducing the loss."
      ],
      "metadata": {
        "id": "Y6kiLEsVYrL4"
      }
    },
    {
      "cell_type": "code",
      "source": [
        "import numpy as np\n",
        "\n",
        "# Initialize input data (features)\n",
        "x = np.array([4, 80])  # 4 hours studied, previous test score: 80\n",
        "\n",
        "# Initialize weights and bias\n",
        "w = np.array([0.1, 0.1])  # changed weights\n",
        "b = 10  # Initial bias\n",
        "\n",
        "# Forward Propagation\n",
        "def forward_propagation(x, w, b):\n",
        "    z = np.dot(x, w) + b  # Weighted sum\n",
        "    return z  # Linear activation (regression)\n",
        "\n",
        "# Compute prediction\n",
        "y_pred = forward_propagation(x, w, b)\n",
        "y_true = 85  # Actual exam score\n",
        "\n",
        "# Compute Loss (Mean Squared Error)\n",
        "loss = 0.5 * (y_true - y_pred) ** 2\n",
        "\n",
        "# Compute Gradients\n",
        "grad_w = -(y_true - y_pred) * x  # Partial derivatives w.r.t weights\n",
        "grad_b = -(y_true - y_pred)      # Partial derivative w.r.t bias\n",
        "\n",
        "# Update Weights and Bias\n",
        "learning_rate = 0.01\n",
        "w_new = w - learning_rate * grad_w\n",
        "b_new = b - learning_rate * grad_b\n",
        "\n",
        "# Print Results\n",
        "print(\"Initial Prediction:\", y_pred)\n",
        "print(\"Loss:\", loss)\n",
        "print(\"Gradients w.r.t Weights:\", grad_w)\n",
        "print(\"Gradient w.r.t Bias:\", grad_b)\n",
        "print(\"Updated Weights:\", w_new)\n",
        "print(\"Updated Bias:\", b_new)"
      ],
      "metadata": {
        "colab": {
          "base_uri": "https://localhost:8080/"
        },
        "id": "SsjIxks0ZmPa",
        "outputId": "5dff9750-b070-4d49-a62d-fc4b61a83337"
      },
      "execution_count": 23,
      "outputs": [
        {
          "output_type": "stream",
          "name": "stdout",
          "text": [
            "Initial Prediction: 18.4\n",
            "Loss: 2217.7799999999997\n",
            "Gradients w.r.t Weights: [ -266.4 -5328. ]\n",
            "Gradient w.r.t Bias: -66.6\n",
            "Updated Weights: [ 2.764 53.38 ]\n",
            "Updated Bias: 10.666\n"
          ]
        }
      ]
    },
    {
      "cell_type": "markdown",
      "source": [
        "## Interpretation of Modified Initial Weights\n",
        "\n",
        "- **Initial Prediction:** 18.4\n",
        "  - Much lower than the true score of 85.\n",
        "- **Loss:** 2217.78\n",
        "  - Higher error compared to the previous scenario.\n",
        "- **Gradients:**\n",
        "  - Very large gradients indicate that the model needs to adjust weights significantly to reduce the error.\n",
        "- **Updated Weights and Bias:**\n",
        "  - The weights increased sharply to make the prediction closer to the true value in the next iteration.\n",
        "\n",
        "**Conclusion:**\n",
        "Choosing smaller initial weights leads to much lower initial predictions, higher errors, and bigger updates during gradient descent.\n"
      ],
      "metadata": {
        "id": "obyo50nuaMb7"
      }
    },
    {
      "cell_type": "markdown",
      "source": [
        "## Exercise 6: Visualizing Predictions on MNIST"
      ],
      "metadata": {
        "id": "qty6os3EaQ2Y"
      }
    },
    {
      "cell_type": "code",
      "source": [
        "# Import Required Libraries\n",
        "import tensorflow as tf\n",
        "from tensorflow.keras import layers, models\n",
        "from tensorflow.keras.utils import to_categorical\n",
        "import numpy as np\n",
        "import matplotlib.pyplot as plt"
      ],
      "metadata": {
        "id": "_yMOBx9kapbL"
      },
      "execution_count": 24,
      "outputs": []
    },
    {
      "cell_type": "code",
      "source": [
        "# Load the MNIST dataset\n",
        "(train_images, train_labels), (test_images, test_labels) = tf.keras.datasets.mnist.load_data()"
      ],
      "metadata": {
        "id": "zcE0cd_SawDA"
      },
      "execution_count": 25,
      "outputs": []
    },
    {
      "cell_type": "code",
      "source": [
        "# Normalize the data\n",
        "train_images = train_images.astype(\"float32\") / 255.0\n",
        "test_images = test_images.astype(\"float32\") / 255.0"
      ],
      "metadata": {
        "id": "fi5zm6oQazAb"
      },
      "execution_count": 26,
      "outputs": []
    },
    {
      "cell_type": "code",
      "source": [
        "# One-hot encode the labels\n",
        "train_labels_onehot = to_categorical(train_labels, num_classes=10)\n",
        "test_labels_onehot = to_categorical(test_labels, num_classes=10)"
      ],
      "metadata": {
        "id": "RdsTCoBFa1oY"
      },
      "execution_count": 27,
      "outputs": []
    },
    {
      "cell_type": "code",
      "source": [
        "# Build the model\n",
        "model = models.Sequential([\n",
        "    layers.Flatten(input_shape=(28,28)),\n",
        "    layers.Dense(128, activation='relu'),\n",
        "    layers.Dense(10, activation='softmax')\n",
        "])"
      ],
      "metadata": {
        "id": "aW4gQDn-a4r8"
      },
      "execution_count": 28,
      "outputs": []
    },
    {
      "cell_type": "code",
      "source": [
        "# Compile the model\n",
        "model.compile(\n",
        "    optimizer='adam',\n",
        "    loss='categorical_crossentropy',\n",
        "    metrics=['accuracy']\n",
        ")"
      ],
      "metadata": {
        "id": "UIbpHRR6a71N"
      },
      "execution_count": 29,
      "outputs": []
    },
    {
      "cell_type": "code",
      "source": [
        "# Fit the model on the training data\n",
        "history = model.fit(\n",
        "    train_images,\n",
        "    train_labels_onehot,\n",
        "    epochs=5,\n",
        "    batch_size=32,\n",
        "    validation_split=0.2\n",
        ")"
      ],
      "metadata": {
        "colab": {
          "base_uri": "https://localhost:8080/"
        },
        "id": "0bNboJqpa__L",
        "outputId": "1282c560-dda7-4e79-ee1c-43dd85f32a9c"
      },
      "execution_count": 30,
      "outputs": [
        {
          "output_type": "stream",
          "name": "stdout",
          "text": [
            "Epoch 1/5\n",
            "\u001b[1m1500/1500\u001b[0m \u001b[32m━━━━━━━━━━━━━━━━━━━━\u001b[0m\u001b[37m\u001b[0m \u001b[1m9s\u001b[0m 5ms/step - accuracy: 0.8629 - loss: 0.4830 - val_accuracy: 0.9570 - val_loss: 0.1471\n",
            "Epoch 2/5\n",
            "\u001b[1m1500/1500\u001b[0m \u001b[32m━━━━━━━━━━━━━━━━━━━━\u001b[0m\u001b[37m\u001b[0m \u001b[1m8s\u001b[0m 5ms/step - accuracy: 0.9610 - loss: 0.1317 - val_accuracy: 0.9639 - val_loss: 0.1223\n",
            "Epoch 3/5\n",
            "\u001b[1m1500/1500\u001b[0m \u001b[32m━━━━━━━━━━━━━━━━━━━━\u001b[0m\u001b[37m\u001b[0m \u001b[1m9s\u001b[0m 4ms/step - accuracy: 0.9735 - loss: 0.0898 - val_accuracy: 0.9690 - val_loss: 0.1066\n",
            "Epoch 4/5\n",
            "\u001b[1m1500/1500\u001b[0m \u001b[32m━━━━━━━━━━━━━━━━━━━━\u001b[0m\u001b[37m\u001b[0m \u001b[1m10s\u001b[0m 4ms/step - accuracy: 0.9806 - loss: 0.0644 - val_accuracy: 0.9732 - val_loss: 0.0903\n",
            "Epoch 5/5\n",
            "\u001b[1m1500/1500\u001b[0m \u001b[32m━━━━━━━━━━━━━━━━━━━━\u001b[0m\u001b[37m\u001b[0m \u001b[1m12s\u001b[0m 5ms/step - accuracy: 0.9854 - loss: 0.0492 - val_accuracy: 0.9738 - val_loss: 0.0924\n"
          ]
        }
      ]
    },
    {
      "cell_type": "markdown",
      "source": [
        "## Interpretation of Training Results\n",
        "\n",
        "The model was trained for **5 epochs** on the MNIST dataset with the following observations:\n",
        "\n",
        "- **Epoch 1:**\n",
        "  - Training accuracy: ~86%\n",
        "  - Validation accuracy: ~95%\n",
        "  - The loss was relatively high as the model started learning basic patterns.\n",
        "\n",
        "- **Epoch 2-3:**\n",
        "  - Training accuracy increased to ~96-97%.\n",
        "  - Validation accuracy continued improving, reaching ~96-97%.\n",
        "  - The loss decreased significantly, showing good convergence.\n",
        "\n",
        "- **Epoch 4-5:**\n",
        "  - Training accuracy exceeded 98%.\n",
        "  - Validation accuracy stabilized around ~97.3-97.4%.\n",
        "  - Validation loss continued to decline slightly.\n",
        "\n",
        "**Interpretation:**\n",
        "- The model learned effectively and reached high performance.\n",
        "- The validation accuracy remained close to the training accuracy, indicating **good generalization** without severe overfitting.\n",
        "- The loss curve shows steady improvement over epochs.\n",
        "\n",
        "**Conclusion:**\n",
        "This simple neural network achieved **excellent results** for handwritten digit classification on MNIST. Further improvements could be obtained by:\n",
        "- Increasing the number of epochs.\n",
        "- Using a convolutional neural network (CNN) architecture for even higher accuracy."
      ],
      "metadata": {
        "id": "ABh5xnPmcx8s"
      }
    },
    {
      "cell_type": "code",
      "source": [
        "# Make predictions on the test data\n",
        "predictions = model.predict(test_images)\n",
        "predicted_classes = np.argmax(predictions, axis=1)"
      ],
      "metadata": {
        "colab": {
          "base_uri": "https://localhost:8080/"
        },
        "id": "N78U8YXubbXN",
        "outputId": "9929a579-d129-4f05-c5fc-dd81f8abdb89"
      },
      "execution_count": 31,
      "outputs": [
        {
          "output_type": "stream",
          "name": "stdout",
          "text": [
            "\u001b[1m313/313\u001b[0m \u001b[32m━━━━━━━━━━━━━━━━━━━━\u001b[0m\u001b[37m\u001b[0m \u001b[1m1s\u001b[0m 2ms/step\n"
          ]
        }
      ]
    },
    {
      "cell_type": "code",
      "source": [
        "# Visualize some predictions\n",
        "plt.figure(figsize=(12,6))\n",
        "for i in range(12):\n",
        "    plt.subplot(3,4,i+1)\n",
        "    plt.imshow(test_images[i], cmap=\"gray\")\n",
        "    plt.title(f\"True: {test_labels[i]}, Pred: {predicted_classes[i]}\")\n",
        "    plt.axis(\"off\")\n",
        "plt.tight_layout()\n",
        "plt.show()"
      ],
      "metadata": {
        "colab": {
          "base_uri": "https://localhost:8080/",
          "height": 607
        },
        "id": "Pkx7hB9ObjI3",
        "outputId": "b4c15436-67b7-47f4-b72f-f59fcdedf4f5"
      },
      "execution_count": 32,
      "outputs": [
        {
          "output_type": "display_data",
          "data": {
            "text/plain": [
              "<Figure size 1200x600 with 12 Axes>"
            ],
            "image/png": "[encoded data removed]"
          },
          "metadata": {}
        }
      ]
    }
  ]
}