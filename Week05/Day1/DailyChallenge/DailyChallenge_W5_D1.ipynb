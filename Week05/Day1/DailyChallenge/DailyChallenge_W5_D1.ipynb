{
  "nbformat": 4,
  "nbformat_minor": 0,
  "metadata": {
    "colab": {
      "provenance": []
    },
    "kernelspec": {
      "name": "python3",
      "display_name": "Python 3"
    },
    "language_info": {
      "name": "python"
    }
  },
  "cells": [
    {
      "cell_type": "markdown",
      "source": [
        "Daily Challenge: W5_D1"
      ],
      "metadata": {
        "id": "-u8rHql7CZ_c"
      }
    },
    {
      "cell_type": "markdown",
      "source": [
        "Building Your First Neural Network on the MNIST Datase"
      ],
      "metadata": {
        "id": "d31Tj7ClD2Hj"
      }
    },
    {
      "cell_type": "code",
      "source": [
        " # ! pip install tensorflow numpy scikit-learn matplotlib seaborn"
      ],
      "metadata": {
        "collapsed": true,
        "id": "_gZ9sKeVCuJN",
        "colab": {
          "base_uri": "https://localhost:8080/"
        },
        "outputId": "102b4f85-7621-4077-a6fe-825d0072c802"
      },
      "execution_count": 4,
      "outputs": [
        {
          "output_type": "stream",
          "name": "stdout",
          "text": [
            "Requirement already satisfied: tensorflow in /usr/local/lib/python3.11/dist-packages (2.18.0)\n",
            "Requirement already satisfied: numpy in /usr/local/lib/python3.11/dist-packages (2.0.2)\n",
            "Requirement already satisfied: scikit-learn in /usr/local/lib/python3.11/dist-packages (1.6.1)\n",
            "Requirement already satisfied: matplotlib in /usr/local/lib/python3.11/dist-packages (3.10.0)\n",
            "Requirement already satisfied: seaborn in /usr/local/lib/python3.11/dist-packages (0.13.2)\n",
            "Requirement already satisfied: absl-py>=1.0.0 in /usr/local/lib/python3.11/dist-packages (from tensorflow) (1.4.0)\n",
            "Requirement already satisfied: astunparse>=1.6.0 in /usr/local/lib/python3.11/dist-packages (from tensorflow) (1.6.3)\n",
            "Requirement already satisfied: flatbuffers>=24.3.25 in /usr/local/lib/python3.11/dist-packages (from tensorflow) (25.2.10)\n",
            "Requirement already satisfied: gast!=0.5.0,!=0.5.1,!=0.5.2,>=0.2.1 in /usr/local/lib/python3.11/dist-packages (from tensorflow) (0.6.0)\n",
            "Requirement already satisfied: google-pasta>=0.1.1 in /usr/local/lib/python3.11/dist-packages (from tensorflow) (0.2.0)\n",
            "Requirement already satisfied: libclang>=13.0.0 in /usr/local/lib/python3.11/dist-packages (from tensorflow) (18.1.1)\n",
            "Requirement already satisfied: opt-einsum>=2.3.2 in /usr/local/lib/python3.11/dist-packages (from tensorflow) (3.4.0)\n",
            "Requirement already satisfied: packaging in /usr/local/lib/python3.11/dist-packages (from tensorflow) (24.2)\n",
            "Requirement already satisfied: protobuf!=4.21.0,!=4.21.1,!=4.21.2,!=4.21.3,!=4.21.4,!=4.21.5,<6.0.0dev,>=3.20.3 in /usr/local/lib/python3.11/dist-packages (from tensorflow) (5.29.5)\n",
            "Requirement already satisfied: requests<3,>=2.21.0 in /usr/local/lib/python3.11/dist-packages (from tensorflow) (2.32.3)\n",
            "Requirement already satisfied: setuptools in /usr/local/lib/python3.11/dist-packages (from tensorflow) (75.2.0)\n",
            "Requirement already satisfied: six>=1.12.0 in /usr/local/lib/python3.11/dist-packages (from tensorflow) (1.17.0)\n",
            "Requirement already satisfied: termcolor>=1.1.0 in /usr/local/lib/python3.11/dist-packages (from tensorflow) (3.1.0)\n",
            "Requirement already satisfied: typing-extensions>=3.6.6 in /usr/local/lib/python3.11/dist-packages (from tensorflow) (4.14.0)\n",
            "Requirement already satisfied: wrapt>=1.11.0 in /usr/local/lib/python3.11/dist-packages (from tensorflow) (1.17.2)\n",
            "Requirement already satisfied: grpcio<2.0,>=1.24.3 in /usr/local/lib/python3.11/dist-packages (from tensorflow) (1.73.1)\n",
            "Requirement already satisfied: tensorboard<2.19,>=2.18 in /usr/local/lib/python3.11/dist-packages (from tensorflow) (2.18.0)\n",
            "Requirement already satisfied: keras>=3.5.0 in /usr/local/lib/python3.11/dist-packages (from tensorflow) (3.8.0)\n",
            "Requirement already satisfied: h5py>=3.11.0 in /usr/local/lib/python3.11/dist-packages (from tensorflow) (3.14.0)\n",
            "Requirement already satisfied: ml-dtypes<0.5.0,>=0.4.0 in /usr/local/lib/python3.11/dist-packages (from tensorflow) (0.4.1)\n",
            "Requirement already satisfied: tensorflow-io-gcs-filesystem>=0.23.1 in /usr/local/lib/python3.11/dist-packages (from tensorflow) (0.37.1)\n",
            "Requirement already satisfied: scipy>=1.6.0 in /usr/local/lib/python3.11/dist-packages (from scikit-learn) (1.15.3)\n",
            "Requirement already satisfied: joblib>=1.2.0 in /usr/local/lib/python3.11/dist-packages (from scikit-learn) (1.5.1)\n",
            "Requirement already satisfied: threadpoolctl>=3.1.0 in /usr/local/lib/python3.11/dist-packages (from scikit-learn) (3.6.0)\n",
            "Requirement already satisfied: contourpy>=1.0.1 in /usr/local/lib/python3.11/dist-packages (from matplotlib) (1.3.2)\n",
            "Requirement already satisfied: cycler>=0.10 in /usr/local/lib/python3.11/dist-packages (from matplotlib) (0.12.1)\n",
            "Requirement already satisfied: fonttools>=4.22.0 in /usr/local/lib/python3.11/dist-packages (from matplotlib) (4.58.4)\n",
            "Requirement already satisfied: kiwisolver>=1.3.1 in /usr/local/lib/python3.11/dist-packages (from matplotlib) (1.4.8)\n",
            "Requirement already satisfied: pillow>=8 in /usr/local/lib/python3.11/dist-packages (from matplotlib) (11.2.1)\n",
            "Requirement already satisfied: pyparsing>=2.3.1 in /usr/local/lib/python3.11/dist-packages (from matplotlib) (3.2.3)\n",
            "Requirement already satisfied: python-dateutil>=2.7 in /usr/local/lib/python3.11/dist-packages (from matplotlib) (2.9.0.post0)\n",
            "Requirement already satisfied: pandas>=1.2 in /usr/local/lib/python3.11/dist-packages (from seaborn) (2.2.2)\n",
            "Requirement already satisfied: wheel<1.0,>=0.23.0 in /usr/local/lib/python3.11/dist-packages (from astunparse>=1.6.0->tensorflow) (0.45.1)\n",
            "Requirement already satisfied: rich in /usr/local/lib/python3.11/dist-packages (from keras>=3.5.0->tensorflow) (13.9.4)\n",
            "Requirement already satisfied: namex in /usr/local/lib/python3.11/dist-packages (from keras>=3.5.0->tensorflow) (0.1.0)\n",
            "Requirement already satisfied: optree in /usr/local/lib/python3.11/dist-packages (from keras>=3.5.0->tensorflow) (0.16.0)\n",
            "Requirement already satisfied: pytz>=2020.1 in /usr/local/lib/python3.11/dist-packages (from pandas>=1.2->seaborn) (2025.2)\n",
            "Requirement already satisfied: tzdata>=2022.7 in /usr/local/lib/python3.11/dist-packages (from pandas>=1.2->seaborn) (2025.2)\n",
            "Requirement already satisfied: charset-normalizer<4,>=2 in /usr/local/lib/python3.11/dist-packages (from requests<3,>=2.21.0->tensorflow) (3.4.2)\n",
            "Requirement already satisfied: idna<4,>=2.5 in /usr/local/lib/python3.11/dist-packages (from requests<3,>=2.21.0->tensorflow) (3.10)\n",
            "Requirement already satisfied: urllib3<3,>=1.21.1 in /usr/local/lib/python3.11/dist-packages (from requests<3,>=2.21.0->tensorflow) (2.4.0)\n",
            "Requirement already satisfied: certifi>=2017.4.17 in /usr/local/lib/python3.11/dist-packages (from requests<3,>=2.21.0->tensorflow) (2025.6.15)\n",
            "Requirement already satisfied: markdown>=2.6.8 in /usr/local/lib/python3.11/dist-packages (from tensorboard<2.19,>=2.18->tensorflow) (3.8.2)\n",
            "Requirement already satisfied: tensorboard-data-server<0.8.0,>=0.7.0 in /usr/local/lib/python3.11/dist-packages (from tensorboard<2.19,>=2.18->tensorflow) (0.7.2)\n",
            "Requirement already satisfied: werkzeug>=1.0.1 in /usr/local/lib/python3.11/dist-packages (from tensorboard<2.19,>=2.18->tensorflow) (3.1.3)\n",
            "Requirement already satisfied: MarkupSafe>=2.1.1 in /usr/local/lib/python3.11/dist-packages (from werkzeug>=1.0.1->tensorboard<2.19,>=2.18->tensorflow) (3.0.2)\n",
            "Requirement already satisfied: markdown-it-py>=2.2.0 in /usr/local/lib/python3.11/dist-packages (from rich->keras>=3.5.0->tensorflow) (3.0.0)\n",
            "Requirement already satisfied: pygments<3.0.0,>=2.13.0 in /usr/local/lib/python3.11/dist-packages (from rich->keras>=3.5.0->tensorflow) (2.19.2)\n",
            "Requirement already satisfied: mdurl~=0.1 in /usr/local/lib/python3.11/dist-packages (from markdown-it-py>=2.2.0->rich->keras>=3.5.0->tensorflow) (0.1.2)\n"
          ]
        }
      ]
    },
    {
      "cell_type": "code",
      "execution_count": 5,
      "metadata": {
        "id": "lBenlrSzdVB6"
      },
      "outputs": [],
      "source": [
        "# Import TensorFlow and supporting libraries\n",
        "import tensorflow as tf\n",
        "import random\n",
        "from tensorflow.keras.utils import to_categorical\n",
        "import matplotlib.pyplot as plt\n",
        "from tensorflow.keras import models, layers\n",
        "from sklearn.metrics import confusion_matrix, ConfusionMatrixDisplay\n",
        "import numpy as np"
      ]
    },
    {
      "cell_type": "code",
      "source": [
        "# Load MNIST dataset\n",
        "(train_images, train_labels), (test_images, test_labels) = tf.keras.datasets.mnist.load_data()\n",
        "\n",
        "# Normalize pixel values to be between 0 and 1\n",
        "train_images = train_images.astype(\"float32\") / 255.0\n",
        "test_images = test_images.astype(\"float32\") / 255.0\n",
        "\n",
        "# Convert labels to one-hot encoding\n",
        "train_labels_onehot = to_categorical(train_labels, num_classes=10)\n",
        "test_labels_onehot = to_categorical(test_labels, num_classes=10)\n",
        "\n",
        "# Display 5 sample images with their labels\n",
        "plt.figure(figsize=(10,2))\n",
        "for i in range(5):\n",
        "    plt.subplot(1,5,i+1)\n",
        "    plt.imshow(train_images[i], cmap=\"gray\")\n",
        "    plt.title(f\"Label: {train_labels[i]}\")\n",
        "    plt.axis(\"off\")\n",
        "plt.show()"
      ],
      "metadata": {
        "colab": {
          "base_uri": "https://localhost:8080/",
          "height": 192
        },
        "id": "6H4NUtQDM5OH",
        "outputId": "605e61ed-3ec0-4425-bf76-d1d63ba50642"
      },
      "execution_count": 7,
      "outputs": [
        {
          "output_type": "display_data",
          "data": {
            "text/plain": [
              "<Figure size 1000x200 with 5 Axes>"
            ],
            "image/png": "[encoded data removed]"
          },
          "metadata": {}
        }
      ]
    },
    {
      "cell_type": "markdown",
      "source": [
        "## Interpretation of the Data Preprocessing Step\n",
        "\n",
        "**Shape of the datasets**\n",
        "\n",
        "- **Train images shape:** `(60000, 28, 28)`  \n",
        "  This means there are **60,000 training images**, each of size **28x28 pixels**.\n",
        "- **Test images shape:** `(10000, 28, 28)`  \n",
        "  The test set contains **10,000 images**.\n",
        "- **Train labels (one-hot) shape:** `(60000, 10)`  \n",
        "  Each label is encoded as a **10-element vector** (one-hot encoding), representing digits 0-9.\n",
        "\n",
        "**Why is this important?**  \n",
        "These shapes confirm that the dataset has been loaded correctly and is ready to be used by the neural network.\n",
        "\n",
        "---\n",
        "**Minimum and maximum pixel values**\n",
        "\n",
        "- **Min pixel value:** `0.0`\n",
        "- **Max pixel value:** `1.0`\n",
        "\n",
        "**Why is this important?**  \n",
        "Normalizing the pixel values between 0 and 1 is a best practice because:\n",
        "- It improves training stability.\n",
        "- It helps the optimizer converge faster.\n",
        "- It avoids numerical issues.\n",
        "\n",
        "**Visualization of sample images**\n",
        "\n",
        "Displaying sample images allows us to:\n",
        "- Confirm that the data was loaded without distortion.\n",
        "- Check that the labels match the images.\n",
        "- Understand the nature of the input data.\n",
        "\n",
        "**Conclusion**\n",
        "\n",
        "All checks confirm that the dataset has been properly loaded, normalized, and prepared. It is now ready to be used for model building and training."
      ],
      "metadata": {
        "id": "JfvIzc9sFuzK"
      }
    },
    {
      "cell_type": "markdown",
      "source": [
        "Step 2 - Build a fully connected neural network"
      ],
      "metadata": {
        "id": "j6RXXDF8oFxm"
      }
    },
    {
      "cell_type": "code",
      "source": [
        "# Create a Sequential model\n",
        "model = models.Sequential()\n",
        "\n",
        "# Flatten the input images (28x28) into a vector of length 784\n",
        "model.add(layers.Flatten(input_shape=(28,28)))\n",
        "\n",
        "# First hidden layer with 128 neurons and ReLU activation\n",
        "model.add(layers.Dense(128, activation='relu'))\n",
        "\n",
        "# Second hidden layer with 64 neurons and ReLU activation\n",
        "model.add(layers.Dense(64, activation='relu'))\n",
        "\n",
        "# Output layer with 10 neurons (one per class) and softmax activation\n",
        "model.add(layers.Dense(10, activation='softmax'))\n",
        "\n",
        "# Compile the model\n",
        "model.compile(\n",
        "    optimizer='adam',\n",
        "    loss='categorical_crossentropy',\n",
        "    metrics=['accuracy']\n",
        ")"
      ],
      "metadata": {
        "colab": {
          "base_uri": "https://localhost:8080/"
        },
        "id": "4PGGi5C7oJKV",
        "outputId": "5b5a6b5d-acb3-4715-de4f-0e9fbc3fd26e"
      },
      "execution_count": 8,
      "outputs": [
        {
          "output_type": "stream",
          "name": "stderr",
          "text": [
            "/usr/local/lib/python3.11/dist-packages/keras/src/layers/reshaping/flatten.py:37: UserWarning: Do not pass an `input_shape`/`input_dim` argument to a layer. When using Sequential models, prefer using an `Input(shape)` object as the first layer in the model instead.\n",
            "  super().__init__(**kwargs)\n"
          ]
        }
      ]
    },
    {
      "cell_type": "markdown",
      "source": [
        "## Interpretation of the Model Architecture\n",
        "\n",
        "The model consists of:\n",
        "- A `Flatten` layer to convert each 28x28 image into a 784-element vector.\n",
        "- Two hidden `Dense` layers with ReLU activation to learn non-linear patterns.\n",
        "- An output `Dense` layer with 10 neurons and softmax activation to predict digit probabilities.\n",
        "\n",
        "This architecture is suitable for multi-class classification on MNIST.\n"
      ],
      "metadata": {
        "id": "tlynCV0bGhGG"
      }
    },
    {
      "cell_type": "markdown",
      "source": [
        "Step 3 - Train the neural network"
      ],
      "metadata": {
        "id": "cWLdjLbj4IIM"
      }
    },
    {
      "cell_type": "code",
      "source": [
        "\n",
        "# Set seeds for reproducibility\n",
        "seed = 42\n",
        "np.random.seed(seed)\n",
        "random.seed(seed)\n",
        "tf.random.set_seed(seed)"
      ],
      "metadata": {
        "id": "Akj0ogIJK13c"
      },
      "execution_count": 9,
      "outputs": []
    },
    {
      "cell_type": "code",
      "source": [
        "# Train the model for 10 epochs with 20% of training data used as validation\n",
        "history = model.fit(\n",
        "    train_images,\n",
        "    train_labels_onehot,\n",
        "    epochs=10,\n",
        "    batch_size=32,\n",
        "    validation_split=0.2\n",
        ")"
      ],
      "metadata": {
        "colab": {
          "base_uri": "https://localhost:8080/"
        },
        "id": "jvfvrkDbJRD9",
        "outputId": "16df72dc-9e0f-42d7-e3d3-b609fe93fd9b"
      },
      "execution_count": 10,
      "outputs": [
        {
          "output_type": "stream",
          "name": "stdout",
          "text": [
            "Epoch 1/10\n",
            "\u001b[1m1500/1500\u001b[0m \u001b[32m━━━━━━━━━━━━━━━━━━━━\u001b[0m\u001b[37m\u001b[0m \u001b[1m10s\u001b[0m 6ms/step - accuracy: 0.8627 - loss: 0.4631 - val_accuracy: 0.9617 - val_loss: 0.1329\n",
            "Epoch 2/10\n",
            "\u001b[1m1500/1500\u001b[0m \u001b[32m━━━━━━━━━━━━━━━━━━━━\u001b[0m\u001b[37m\u001b[0m \u001b[1m12s\u001b[0m 7ms/step - accuracy: 0.9661 - loss: 0.1138 - val_accuracy: 0.9691 - val_loss: 0.1071\n",
            "Epoch 3/10\n",
            "\u001b[1m1500/1500\u001b[0m \u001b[32m━━━━━━━━━━━━━━━━━━━━\u001b[0m\u001b[37m\u001b[0m \u001b[1m7s\u001b[0m 5ms/step - accuracy: 0.9777 - loss: 0.0748 - val_accuracy: 0.9693 - val_loss: 0.1070\n",
            "Epoch 4/10\n",
            "\u001b[1m1500/1500\u001b[0m \u001b[32m━━━━━━━━━━━━━━━━━━━━\u001b[0m\u001b[37m\u001b[0m \u001b[1m8s\u001b[0m 6ms/step - accuracy: 0.9834 - loss: 0.0530 - val_accuracy: 0.9691 - val_loss: 0.1124\n",
            "Epoch 5/10\n",
            "\u001b[1m1500/1500\u001b[0m \u001b[32m━━━━━━━━━━━━━━━━━━━━\u001b[0m\u001b[37m\u001b[0m \u001b[1m7s\u001b[0m 5ms/step - accuracy: 0.9874 - loss: 0.0388 - val_accuracy: 0.9731 - val_loss: 0.1045\n",
            "Epoch 6/10\n",
            "\u001b[1m1500/1500\u001b[0m \u001b[32m━━━━━━━━━━━━━━━━━━━━\u001b[0m\u001b[37m\u001b[0m \u001b[1m10s\u001b[0m 5ms/step - accuracy: 0.9898 - loss: 0.0319 - val_accuracy: 0.9728 - val_loss: 0.1185\n",
            "Epoch 7/10\n",
            "\u001b[1m1500/1500\u001b[0m \u001b[32m━━━━━━━━━━━━━━━━━━━━\u001b[0m\u001b[37m\u001b[0m \u001b[1m8s\u001b[0m 5ms/step - accuracy: 0.9916 - loss: 0.0260 - val_accuracy: 0.9746 - val_loss: 0.1063\n",
            "Epoch 8/10\n",
            "\u001b[1m1500/1500\u001b[0m \u001b[32m━━━━━━━━━━━━━━━━━━━━\u001b[0m\u001b[37m\u001b[0m \u001b[1m7s\u001b[0m 5ms/step - accuracy: 0.9921 - loss: 0.0236 - val_accuracy: 0.9729 - val_loss: 0.1087\n",
            "Epoch 9/10\n",
            "\u001b[1m1500/1500\u001b[0m \u001b[32m━━━━━━━━━━━━━━━━━━━━\u001b[0m\u001b[37m\u001b[0m \u001b[1m7s\u001b[0m 5ms/step - accuracy: 0.9938 - loss: 0.0184 - val_accuracy: 0.9739 - val_loss: 0.1182\n",
            "Epoch 10/10\n",
            "\u001b[1m1500/1500\u001b[0m \u001b[32m━━━━━━━━━━━━━━━━━━━━\u001b[0m\u001b[37m\u001b[0m \u001b[1m11s\u001b[0m 5ms/step - accuracy: 0.9947 - loss: 0.0157 - val_accuracy: 0.9747 - val_loss: 0.1232\n"
          ]
        }
      ]
    },
    {
      "cell_type": "markdown",
      "source": [
        "## Interpretation of the New Training Results\n",
        "\n",
        "During this training run, the model achieved:\n",
        "\n",
        "- **Training accuracy**: starting at ~86%, reaching ~99.5% by epoch 10.\n",
        "- **Validation accuracy**: stable around ~97.4%.\n",
        "- **Training loss**: decreased from 0.4631 to 0.0157.\n",
        "- **Validation loss**: remained between 0.10 and 0.12.\n",
        "\n",
        "**Interpretation:**\n",
        "- The model learns very quickly and reaches high accuracy.\n",
        "- The gap between training and validation accuracy (~2%) is small, indicating good generalization.\n",
        "- The validation loss stabilizes early, showing that additional epochs bring only minor improvements.\n",
        "\n",
        "**Conclusion:**\n",
        "The training confirms that the model is robust and performs consistently across different runs, even when slight variations occur due to stochastic processes."
      ],
      "metadata": {
        "id": "6mkJwu7eNvte"
      }
    },
    {
      "cell_type": "markdown",
      "source": [
        "Step 4 - Evaluate the model and show confusion matrix"
      ],
      "metadata": {
        "id": "tmb_kl8l40_w"
      }
    },
    {
      "cell_type": "code",
      "source": [
        "# Evaluate test accuracy\n",
        "test_loss, test_acc = model.evaluate(test_images, test_labels_onehot)\n",
        "print(f\"Test accuracy: {test_acc:.4f}\")\n",
        "\n",
        "# Predict classes for test set\n",
        "pred_probs = model.predict(test_images)\n",
        "pred_classes = np.argmax(pred_probs, axis=1)\n",
        "\n",
        "# Compute confusion matrix\n",
        "cm = confusion_matrix(test_labels, pred_classes)\n",
        "\n",
        "# Display confusion matrix\n",
        "disp = ConfusionMatrixDisplay(confusion_matrix=cm, display_labels=range(10))\n",
        "disp.plot(cmap=\"Blues\")\n",
        "plt.title(\"Confusion Matrix\")\n",
        "plt.show()\n",
        "\n",
        "# Identify the digits with most confusion\n",
        "errors = np.sum(cm, axis=1) - np.diag(cm)\n",
        "for i in range(10):\n",
        "    print(f\"Digit {i}: {errors[i]} misclassifications\")"
      ],
      "metadata": {
        "colab": {
          "base_uri": "https://localhost:8080/",
          "height": 698
        },
        "id": "3NR_QawXJxdS",
        "outputId": "7f0a7c79-c0e3-4cc4-a7ce-410214865ff8"
      },
      "execution_count": 11,
      "outputs": [
        {
          "output_type": "stream",
          "name": "stdout",
          "text": [
            "\u001b[1m313/313\u001b[0m \u001b[32m━━━━━━━━━━━━━━━━━━━━\u001b[0m\u001b[37m\u001b[0m \u001b[1m1s\u001b[0m 2ms/step - accuracy: 0.9727 - loss: 0.1249\n",
            "Test accuracy: 0.9758\n",
            "\u001b[1m313/313\u001b[0m \u001b[32m━━━━━━━━━━━━━━━━━━━━\u001b[0m\u001b[37m\u001b[0m \u001b[1m1s\u001b[0m 2ms/step\n"
          ]
        },
        {
          "output_type": "display_data",
          "data": {
            "text/plain": [
              "<Figure size 640x480 with 2 Axes>"
            ],
            "image/png": "[encoded data removed]"
          },
          "metadata": {}
        },
        {
          "output_type": "stream",
          "name": "stdout",
          "text": [
            "Digit 0: 12 misclassifications\n",
            "Digit 1: 10 misclassifications\n",
            "Digit 2: 25 misclassifications\n",
            "Digit 3: 25 misclassifications\n",
            "Digit 4: 27 misclassifications\n",
            "Digit 5: 32 misclassifications\n",
            "Digit 6: 15 misclassifications\n",
            "Digit 7: 32 misclassifications\n",
            "Digit 8: 25 misclassifications\n",
            "Digit 9: 39 misclassifications\n"
          ]
        }
      ]
    },
    {
      "cell_type": "markdown",
      "source": [
        "## Interpretation of the Test Evaluation\n",
        "\n",
        "After evaluating the model on the test dataset, the following metrics were obtained:\n",
        "\n",
        "- **Test accuracy:** ~97.6%\n",
        "- **Test loss:** 0.1249\n",
        "\n",
        "**Misclassifications per digit:**\n",
        "- Digit **9** had the most misclassifications (39).\n",
        "- Digits **5** and **7** also had higher error counts (32 each).\n",
        "- Digits **0**, **1**, and **6** were recognized with fewer errors (10-15).\n",
        "\n",
        "**Interpretation:**\n",
        "- The model shows excellent generalization performance, achieving over 97% accuracy.\n",
        "- Digits with similar shapes (e.g., 5 vs. 9, 3 vs. 8) are more prone to confusion, which is common in handwritten digit recognition.\n",
        "- Slight variations between runs are expected due to the stochastic nature of training.\n",
        "\n",
        "**Conclusion:**\n",
        "The results confirm that the fully connected neural network is effective for MNIST classification, with consistent performance across training runs.\n"
      ],
      "metadata": {
        "id": "u4JecBjIN-SC"
      }
    }
  ]
}