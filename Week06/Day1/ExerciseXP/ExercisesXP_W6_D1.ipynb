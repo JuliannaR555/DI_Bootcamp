{
 "cells": [
  {
   "cell_type": "markdown",
   "id": "0d08875b",
   "metadata": {},
   "source": [
    "### Exercises XP: W6_D1"
   ]
  },
  {
   "cell_type": "markdown",
   "id": "3b828531",
   "metadata": {},
   "source": [
    "**What You’ll Learn**\n",
    "\n",
    "- Text preprocessing usage  \n",
    "- Text Analysis technics  \n",
    "- POS and NER tags  \n",
    "- Vectorization and word embeddings: Word2Vec  \n",
    "\n",
    "---\n",
    "\n",
    "**Sample Dataset**\n",
    "\n",
    "Here is the data you will need to load and use:\n",
    "\n",
    "```python\n",
    "data = {\n",
    "    \"Review\": [\n",
    "        \"At McDonald's the food was ok and the service was bad.\",\n",
    "        \"I would not recommend this Japanese restaurant to anyone.\",\n",
    "        \"I loved this restaurant when I traveled to Thailand last summer.\",\n",
    "        \"The menu of Loving has a wide variety of options.\",\n",
    "        \"The staff was friendly and helpful at Google's employees restaurant.\",\n",
    "        \"The ambiance at Bella Italia is amazing, and the pasta dishes are delicious.\",\n",
    "        \"I had a terrible experience at Pizza Hut. The pizza was burnt, and the service was slow.\",\n",
    "        \"The sushi at Sushi Express is always fresh and flavorful.\",\n",
    "        \"The steakhouse on Main Street has a cozy atmosphere and excellent steaks.\",\n",
    "        \"The dessert selection at Sweet Treats is to die for!\"\n",
    "    ]\n",
    "}```\n",
    "\n",
    "**Exercise 1: Exploring Text Preprocessing usage, NER and POS tags**\n",
    "\n",
    "**Step 1: Create the function preprocess_text()**\n",
    "\n",
    "This function should:\n",
    "\n",
    "- Convert all the text to lower case and tokenize it  \n",
    "- Remove punctuation  \n",
    "- Remove stopwords  \n",
    "- Apply a lemmatizer  \n",
    "- Return the preprocessed strings  \n",
    "\n",
    "**Important**  \n",
    "After creating each function, apply it on the dataset and print the result to check that it is working properly.\n",
    "\n",
    "- Create a new dataset with the cleaned text.  \n",
    "- *Hint:* Keep two datasets: the raw data and the preprocessed data.\n",
    "\n",
    "---\n",
    "\n",
    "**Step 2: Create the function perform_ner()**\n",
    "\n",
    "This function should:\n",
    "\n",
    "- Receive the text as argument  \n",
    "- Perform NER tagging using spaCy en_core_web_sm\n",
    "\n",
    "*Hint:* The function should return the entities’ .text and .label_ (examples of labels: ORG, GPE, DATE).\n",
    "\n",
    "---\n",
    "\n",
    "**Step 3: Create the function **perform_pos_tagging()**\n",
    "\n",
    "This function should:\n",
    "\n",
    "- Receive the text as argument  \n",
    "- Perform POS tagging using nltk.pos_tag\n",
    "\n",
    "*Hint:* To understand the meaning of the different POS tags, use:\n",
    "\n",
    "**python\n",
    "- import nltk\n",
    "- nltk.download('tagsets') \n",
    "- nltk.help.upenn_tagset('NN')**\n",
    "\n",
    "**Step 4: Apply the Functions**\n",
    "\n",
    "- Apply the preprocessing, NER, and POS tagging functions  \n",
    "- Analyse the outputs on both the preprocessed and raw data  \n",
    "\n",
    "---\n",
    "\n",
    "**Exercise 2: Plotting the Word Embeddings**\n",
    "\n",
    "**Step 1: Create Word Embeddings**\n",
    "\n",
    "- Use the Word2Vec model to vectorize the text  \n",
    "- *Hint:* Use the preprocessed and tokenized dataset  \n",
    "- Use Word2Vec from gensim.models\n",
    "\n",
    "---\n",
    "\n",
    "**Step 2: Analyse the Word2Vec Object**\n",
    "\n",
    "- Print the dimensions of the Word2Vec object  \n",
    "- Analyse:  \n",
    "  - What are the vector dimensions?  \n",
    "  - What do they mean?\n",
    "\n",
    "---\n",
    "\n",
    "**Step 3: Create the Function plot_word_embeddings()**\n",
    "\n",
    "This function should:\n",
    "\n",
    "- Receive the Word2Vec object as argument  \n",
    "- Plot the embeddings dimensions in a gridded scatter plot  \n",
    "- Loop through the words and use annotate() to add text labels to each point  \n",
    "\n",
    "---\n",
    "\n",
    "**Step 4: Analyse the Plot**\n",
    "\n",
    "- Are the related words close to each other?  \n",
    "- What can be the possible reasons for this output?\n",
    "\n",
    "---\n",
    "\n",
    "**Additional Enhancements**\n",
    "\n",
    "- Experiment with different preprocessing techniques  \n",
    "- Fine-tune the Word2Vec model parameters  \n",
    "- Explore advanced visualization techniques for word embeddings \n"
   ]
  },
  {
   "cell_type": "markdown",
   "id": "292cfbb6",
   "metadata": {},
   "source": [
    "### Exercise 1: Exploring Text Preprocessing usage, NER and POS tags"
   ]
  },
  {
   "cell_type": "markdown",
   "id": "2fa688d1",
   "metadata": {},
   "source": [
    "### Step 1: Import and setup"
   ]
  },
  {
   "cell_type": "code",
   "execution_count": null,
   "id": "32079fa7",
   "metadata": {},
   "outputs": [],
   "source": [
    "# Download spaCy English model and NLTK stopwords\n",
    "!python -m spacy download en_core_web_sm"
   ]
  },
  {
   "cell_type": "markdown",
   "id": "c50cd814",
   "metadata": {},
   "source": [
    "### Import required libraries"
   ]
  },
  {
   "cell_type": "code",
   "execution_count": 16,
   "id": "251f3495",
   "metadata": {},
   "outputs": [],
   "source": [
    "import spacy\n",
    "import nltk\n",
    "import string\n",
    "import matplotlib.pyplot as plt"
   ]
  },
  {
   "cell_type": "code",
   "execution_count": null,
   "id": "e935a03f",
   "metadata": {},
   "outputs": [],
   "source": [
    "from nltk.corpus import stopwords\n",
    "nltk.download('stopwords')\n",
    "\n",
    "# Load English tokenizer, POS tagger, lemmatizer, etc.\n",
    "nlp = spacy.load(\"en_core_web_sm\")\n",
    "\n",
    "# Load English stopwords\n",
    "stop_words = set(stopwords.words('english'))"
   ]
  },
  {
   "cell_type": "markdown",
   "id": "ead4e423",
   "metadata": {},
   "source": [
    "### Step 2: Define the text preprocessing function"
   ]
  },
  {
   "cell_type": "code",
   "execution_count": 4,
   "id": "5ce84f01",
   "metadata": {},
   "outputs": [],
   "source": [
    "# Step 2: Define text preprocessing function\n",
    "def preprocess_text(text):\n",
    "    \n",
    "    # This function receives a string, processes it and returns a clean, lemmatized version.\n",
    "    # Steps: lowercase, tokenize, remove punctuation and stopwords, lemmatize.\n",
    "    # Convert to lowercase\n",
    "    text = text.lower()\n",
    "\n",
    "    # Process text with spaCy\n",
    "    doc = nlp(text)\n",
    "\n",
    "    # Tokenize, remove punctuation and stopwords, and lemmatize\n",
    "    tokens = []\n",
    "    for token in doc:\n",
    "        if token.text not in string.punctuation and token.text not in stop_words:\n",
    "            tokens.append(token.lemma_)\n",
    "\n",
    "    # Join tokens back into a string\n",
    "    return \" \".join(tokens)"
   ]
  },
  {
   "cell_type": "markdown",
   "id": "7ff5f180",
   "metadata": {},
   "source": [
    "### Step 3: Apply preprocess_text() to the dataset"
   ]
  },
  {
   "cell_type": "code",
   "execution_count": 5,
   "id": "9397474a",
   "metadata": {},
   "outputs": [],
   "source": [
    "# Step 3: Sample dataset\n",
    "data = {\n",
    "    'Review': [\n",
    "        \"At McDonald's the food was ok and the service was bad.\",\n",
    "        \"I would not recommend this Japanese restaurant to anyone.\",\n",
    "        \"I loved this restaurant when I traveled to Thailand last summer.\",\n",
    "        \"The menu of Loving has a wide variety of options.\",\n",
    "        \"The staff was friendly and helpful at Google's employees restaurant.\",\n",
    "        \"The ambiance at Bella Italia is amazing, and the pasta dishes are delicious.\",\n",
    "        \"I had a terrible experience at Pizza Hut. The pizza was burnt, and the service was slow.\",\n",
    "        \"The sushi at Sushi Express is always fresh and flavorful.\",\n",
    "        \"The steakhouse on Main Street has a cozy atmosphere and excellent steaks.\",\n",
    "        \"The dessert selection at Sweet Treats is to die for!\"\n",
    "    ]\n",
    "}"
   ]
  },
  {
   "cell_type": "code",
   "execution_count": 6,
   "id": "672e9d71",
   "metadata": {},
   "outputs": [
    {
     "name": "stdout",
     "output_type": "stream",
     "text": [
      "Original: At McDonald's the food was ok and the service was bad.\n",
      "Preprocessed: mcdonald 's food ok service bad\n",
      "------------------------------------------------------------\n",
      "Original: I would not recommend this Japanese restaurant to anyone.\n",
      "Preprocessed: would recommend japanese restaurant anyone\n",
      "------------------------------------------------------------\n",
      "Original: I loved this restaurant when I traveled to Thailand last summer.\n",
      "Preprocessed: love restaurant travel thailand last summer\n",
      "------------------------------------------------------------\n",
      "Original: The menu of Loving has a wide variety of options.\n",
      "Preprocessed: menu loving wide variety option\n",
      "------------------------------------------------------------\n",
      "Original: The staff was friendly and helpful at Google's employees restaurant.\n",
      "Preprocessed: staff friendly helpful google 's employee restaurant\n",
      "------------------------------------------------------------\n",
      "Original: The ambiance at Bella Italia is amazing, and the pasta dishes are delicious.\n",
      "Preprocessed: ambiance bella italia amazing pasta dish delicious\n",
      "------------------------------------------------------------\n",
      "Original: I had a terrible experience at Pizza Hut. The pizza was burnt, and the service was slow.\n",
      "Preprocessed: terrible experience pizza hut pizza burn service slow\n",
      "------------------------------------------------------------\n",
      "Original: The sushi at Sushi Express is always fresh and flavorful.\n",
      "Preprocessed: sushi sushi express always fresh flavorful\n",
      "------------------------------------------------------------\n",
      "Original: The steakhouse on Main Street has a cozy atmosphere and excellent steaks.\n",
      "Preprocessed: steakhouse main street cozy atmosphere excellent steak\n",
      "------------------------------------------------------------\n",
      "Original: The dessert selection at Sweet Treats is to die for!\n",
      "Preprocessed: dessert selection sweet treat die\n",
      "------------------------------------------------------------\n"
     ]
    }
   ],
   "source": [
    "# Step 4: Apply preprocessing to each review\n",
    "preprocessed_reviews = [preprocess_text(review) for review in data['Review']]\n",
    "\n",
    "# Step 5: Print results\n",
    "for i, review in enumerate(preprocessed_reviews):\n",
    "    print(f\"Original: {data['Review'][i]}\")\n",
    "    print(f\"Preprocessed: {review}\")\n",
    "    print(\"-\" * 60)"
   ]
  },
  {
   "cell_type": "markdown",
   "id": "342d85bc",
   "metadata": {},
   "source": [
    "### Step 6: Define NER function using spaCy"
   ]
  },
  {
   "cell_type": "code",
   "execution_count": 7,
   "id": "75c8b214",
   "metadata": {},
   "outputs": [],
   "source": [
    "# Step 6: Define function to perform Named Entity Recognition (NER)\n",
    "def perform_ner(text):\n",
    "    \n",
    "    # This function takes a string and returns a list of named entities (text and label).\n",
    "    doc = nlp(text)  # Process the text with spaCy\n",
    "    entities = [(ent.text, ent.label_) for ent in doc.ents]  # Extract entity text and label\n",
    "    return entities"
   ]
  },
  {
   "cell_type": "markdown",
   "id": "b89943e3",
   "metadata": {},
   "source": [
    "### Step 7: Apply NER on original and preprocessed texts"
   ]
  },
  {
   "cell_type": "code",
   "execution_count": 8,
   "id": "630ccbca",
   "metadata": {},
   "outputs": [
    {
     "name": "stdout",
     "output_type": "stream",
     "text": [
      "Named Entities in raw data:\n",
      "------------------------------------------------------------\n",
      "Original: At McDonald's the food was ok and the service was bad.\n",
      "Entities: [('McDonald', 'ORG')]\n",
      "------------------------------------------------------------\n",
      "Original: I would not recommend this Japanese restaurant to anyone.\n",
      "Entities: [('Japanese', 'NORP')]\n",
      "------------------------------------------------------------\n",
      "Original: I loved this restaurant when I traveled to Thailand last summer.\n",
      "Entities: [('Thailand', 'GPE'), ('last summer', 'DATE')]\n",
      "------------------------------------------------------------\n",
      "Original: The menu of Loving has a wide variety of options.\n",
      "Entities: [('Loving', 'GPE')]\n",
      "------------------------------------------------------------\n",
      "Original: The staff was friendly and helpful at Google's employees restaurant.\n",
      "Entities: [('Google', 'ORG')]\n",
      "------------------------------------------------------------\n",
      "Original: The ambiance at Bella Italia is amazing, and the pasta dishes are delicious.\n",
      "Entities: [('Bella Italia', 'ORG')]\n",
      "------------------------------------------------------------\n",
      "Original: I had a terrible experience at Pizza Hut. The pizza was burnt, and the service was slow.\n",
      "Entities: [('Pizza Hut', 'ORG')]\n",
      "------------------------------------------------------------\n",
      "Original: The sushi at Sushi Express is always fresh and flavorful.\n",
      "Entities: [('Sushi Express', 'ORG')]\n",
      "------------------------------------------------------------\n",
      "Original: The steakhouse on Main Street has a cozy atmosphere and excellent steaks.\n",
      "Entities: [('Main Street', 'FAC')]\n",
      "------------------------------------------------------------\n",
      "Original: The dessert selection at Sweet Treats is to die for!\n",
      "Entities: [('Sweet Treats', 'PERSON')]\n",
      "------------------------------------------------------------\n",
      "\n",
      "Named Entities in preprocessed data:\n",
      "------------------------------------------------------------\n",
      "Preprocessed: mcdonald 's food ok service bad\n",
      "Entities: [(\"mcdonald 's food ok service\", 'ORG')]\n",
      "------------------------------------------------------------\n",
      "Preprocessed: would recommend japanese restaurant anyone\n",
      "Entities: [('japanese', 'NORP')]\n",
      "------------------------------------------------------------\n",
      "Preprocessed: love restaurant travel thailand last summer\n",
      "Entities: [('thailand', 'GPE'), ('last summer', 'DATE')]\n",
      "------------------------------------------------------------\n",
      "Preprocessed: menu loving wide variety option\n",
      "Entities: []\n",
      "------------------------------------------------------------\n",
      "Preprocessed: staff friendly helpful google 's employee restaurant\n",
      "Entities: [('google', 'ORG')]\n",
      "------------------------------------------------------------\n",
      "Preprocessed: ambiance bella italia amazing pasta dish delicious\n",
      "Entities: [('ambiance bella italia', 'PERSON')]\n",
      "------------------------------------------------------------\n",
      "Preprocessed: terrible experience pizza hut pizza burn service slow\n",
      "Entities: []\n",
      "------------------------------------------------------------\n",
      "Preprocessed: sushi sushi express always fresh flavorful\n",
      "Entities: []\n",
      "------------------------------------------------------------\n",
      "Preprocessed: steakhouse main street cozy atmosphere excellent steak\n",
      "Entities: []\n",
      "------------------------------------------------------------\n",
      "Preprocessed: dessert selection sweet treat die\n",
      "Entities: []\n",
      "------------------------------------------------------------\n"
     ]
    }
   ],
   "source": [
    "# Step 7: Apply NER and compare results\n",
    "\n",
    "print(\"Named Entities in raw data:\")\n",
    "print(\"-\" * 60)\n",
    "for i, review in enumerate(data['Review']):\n",
    "    entities = perform_ner(review)\n",
    "    print(f\"Original: {review}\")\n",
    "    print(f\"Entities: {entities}\")\n",
    "    print(\"-\" * 60)\n",
    "\n",
    "print(\"\\nNamed Entities in preprocessed data:\")\n",
    "print(\"-\" * 60)\n",
    "for i, review in enumerate(preprocessed_reviews):\n",
    "    entities = perform_ner(review)\n",
    "    print(f\"Preprocessed: {review}\")\n",
    "    print(f\"Entities: {entities}\")\n",
    "    print(\"-\" * 60)"
   ]
  },
  {
   "cell_type": "markdown",
   "id": "8e3fb7d2",
   "metadata": {},
   "source": [
    "### Step 8: Define POS tagging function using NLTK"
   ]
  },
  {
   "cell_type": "code",
   "execution_count": null,
   "id": "e05d0065",
   "metadata": {},
   "outputs": [],
   "source": [
    "# Step 8: Import and download resources for POS tagging\n",
    "from nltk import word_tokenize, pos_tag\n",
    "nltk.download('punkt')\n",
    "nltk.download('averaged_perceptron_tagger')"
   ]
  },
  {
   "cell_type": "code",
   "execution_count": 10,
   "id": "b9d732c0",
   "metadata": {},
   "outputs": [],
   "source": [
    "# Step 9: Define function to perform POS tagging\n",
    "def perform_pos_tagging(text):\n",
    "    \"\"\"\n",
    "    This function takes a string, tokenizes it and returns a list of (word, POS tag) tuples.\n",
    "    \"\"\"\n",
    "    tokens = word_tokenize(text)        # Tokenize the sentence into words\n",
    "    tagged = pos_tag(tokens)            # Get POS tags for each token\n",
    "    return tagged"
   ]
  },
  {
   "cell_type": "markdown",
   "id": "bf92e2ea",
   "metadata": {},
   "source": [
    "### Step 10: Apply POS tagging on raw and preprocessed texts"
   ]
  },
  {
   "cell_type": "code",
   "execution_count": 11,
   "id": "77cb43da",
   "metadata": {},
   "outputs": [
    {
     "name": "stdout",
     "output_type": "stream",
     "text": [
      "POS tagging on raw data:\n",
      "------------------------------------------------------------\n",
      "Original: At McDonald's the food was ok and the service was bad.\n",
      "POS Tags: [('At', 'IN'), ('McDonald', 'NNP'), (\"'s\", 'POS'), ('the', 'DT'), ('food', 'NN'), ('was', 'VBD'), ('ok', 'JJ'), ('and', 'CC'), ('the', 'DT'), ('service', 'NN'), ('was', 'VBD'), ('bad', 'JJ'), ('.', '.')]\n",
      "------------------------------------------------------------\n",
      "Original: I would not recommend this Japanese restaurant to anyone.\n",
      "POS Tags: [('I', 'PRP'), ('would', 'MD'), ('not', 'RB'), ('recommend', 'VB'), ('this', 'DT'), ('Japanese', 'JJ'), ('restaurant', 'NN'), ('to', 'TO'), ('anyone', 'NN'), ('.', '.')]\n",
      "------------------------------------------------------------\n",
      "Original: I loved this restaurant when I traveled to Thailand last summer.\n",
      "POS Tags: [('I', 'PRP'), ('loved', 'VBD'), ('this', 'DT'), ('restaurant', 'NN'), ('when', 'WRB'), ('I', 'PRP'), ('traveled', 'VBD'), ('to', 'TO'), ('Thailand', 'NNP'), ('last', 'JJ'), ('summer', 'NN'), ('.', '.')]\n",
      "------------------------------------------------------------\n",
      "Original: The menu of Loving has a wide variety of options.\n",
      "POS Tags: [('The', 'DT'), ('menu', 'NN'), ('of', 'IN'), ('Loving', 'NNP'), ('has', 'VBZ'), ('a', 'DT'), ('wide', 'JJ'), ('variety', 'NN'), ('of', 'IN'), ('options', 'NNS'), ('.', '.')]\n",
      "------------------------------------------------------------\n",
      "Original: The staff was friendly and helpful at Google's employees restaurant.\n",
      "POS Tags: [('The', 'DT'), ('staff', 'NN'), ('was', 'VBD'), ('friendly', 'JJ'), ('and', 'CC'), ('helpful', 'JJ'), ('at', 'IN'), ('Google', 'NNP'), (\"'s\", 'POS'), ('employees', 'NNS'), ('restaurant', 'VBP'), ('.', '.')]\n",
      "------------------------------------------------------------\n",
      "Original: The ambiance at Bella Italia is amazing, and the pasta dishes are delicious.\n",
      "POS Tags: [('The', 'DT'), ('ambiance', 'NN'), ('at', 'IN'), ('Bella', 'NNP'), ('Italia', 'NNP'), ('is', 'VBZ'), ('amazing', 'JJ'), (',', ','), ('and', 'CC'), ('the', 'DT'), ('pasta', 'NN'), ('dishes', 'NNS'), ('are', 'VBP'), ('delicious', 'JJ'), ('.', '.')]\n",
      "------------------------------------------------------------\n",
      "Original: I had a terrible experience at Pizza Hut. The pizza was burnt, and the service was slow.\n",
      "POS Tags: [('I', 'PRP'), ('had', 'VBD'), ('a', 'DT'), ('terrible', 'JJ'), ('experience', 'NN'), ('at', 'IN'), ('Pizza', 'NNP'), ('Hut', 'NNP'), ('.', '.'), ('The', 'DT'), ('pizza', 'NN'), ('was', 'VBD'), ('burnt', 'VBN'), (',', ','), ('and', 'CC'), ('the', 'DT'), ('service', 'NN'), ('was', 'VBD'), ('slow', 'JJ'), ('.', '.')]\n",
      "------------------------------------------------------------\n",
      "Original: The sushi at Sushi Express is always fresh and flavorful.\n",
      "POS Tags: [('The', 'DT'), ('sushi', 'NN'), ('at', 'IN'), ('Sushi', 'NNP'), ('Express', 'NNP'), ('is', 'VBZ'), ('always', 'RB'), ('fresh', 'JJ'), ('and', 'CC'), ('flavorful', 'JJ'), ('.', '.')]\n",
      "------------------------------------------------------------\n",
      "Original: The steakhouse on Main Street has a cozy atmosphere and excellent steaks.\n",
      "POS Tags: [('The', 'DT'), ('steakhouse', 'NN'), ('on', 'IN'), ('Main', 'NNP'), ('Street', 'NNP'), ('has', 'VBZ'), ('a', 'DT'), ('cozy', 'NN'), ('atmosphere', 'RB'), ('and', 'CC'), ('excellent', 'JJ'), ('steaks', 'NNS'), ('.', '.')]\n",
      "------------------------------------------------------------\n",
      "Original: The dessert selection at Sweet Treats is to die for!\n",
      "POS Tags: [('The', 'DT'), ('dessert', 'JJ'), ('selection', 'NN'), ('at', 'IN'), ('Sweet', 'NNP'), ('Treats', 'NNP'), ('is', 'VBZ'), ('to', 'TO'), ('die', 'VB'), ('for', 'IN'), ('!', '.')]\n",
      "------------------------------------------------------------\n",
      "\n",
      "POS tagging on preprocessed data:\n",
      "------------------------------------------------------------\n",
      "Preprocessed: mcdonald 's food ok service bad\n",
      "POS Tags: [('mcdonald', 'NN'), (\"'s\", 'POS'), ('food', 'NN'), ('ok', 'JJ'), ('service', 'NN'), ('bad', 'JJ')]\n",
      "------------------------------------------------------------\n",
      "Preprocessed: would recommend japanese restaurant anyone\n",
      "POS Tags: [('would', 'MD'), ('recommend', 'VB'), ('japanese', 'JJ'), ('restaurant', 'NN'), ('anyone', 'NN')]\n",
      "------------------------------------------------------------\n",
      "Preprocessed: love restaurant travel thailand last summer\n",
      "POS Tags: [('love', 'NN'), ('restaurant', 'NN'), ('travel', 'NN'), ('thailand', 'NN'), ('last', 'JJ'), ('summer', 'NN')]\n",
      "------------------------------------------------------------\n",
      "Preprocessed: menu loving wide variety option\n",
      "POS Tags: [('menu', 'NN'), ('loving', 'VBG'), ('wide', 'JJ'), ('variety', 'NN'), ('option', 'NN')]\n",
      "------------------------------------------------------------\n",
      "Preprocessed: staff friendly helpful google 's employee restaurant\n",
      "POS Tags: [('staff', 'NN'), ('friendly', 'RB'), ('helpful', 'JJ'), ('google', 'NN'), (\"'s\", 'POS'), ('employee', 'NN'), ('restaurant', 'NN')]\n",
      "------------------------------------------------------------\n",
      "Preprocessed: ambiance bella italia amazing pasta dish delicious\n",
      "POS Tags: [('ambiance', 'NN'), ('bella', 'NN'), ('italia', 'NN'), ('amazing', 'VBG'), ('pasta', 'JJ'), ('dish', 'JJ'), ('delicious', 'NN')]\n",
      "------------------------------------------------------------\n",
      "Preprocessed: terrible experience pizza hut pizza burn service slow\n",
      "POS Tags: [('terrible', 'JJ'), ('experience', 'NN'), ('pizza', 'NN'), ('hut', 'NN'), ('pizza', 'NN'), ('burn', 'NN'), ('service', 'NN'), ('slow', 'VB')]\n",
      "------------------------------------------------------------\n",
      "Preprocessed: sushi sushi express always fresh flavorful\n",
      "POS Tags: [('sushi', 'NN'), ('sushi', 'NN'), ('express', 'NN'), ('always', 'RB'), ('fresh', 'JJ'), ('flavorful', 'NN')]\n",
      "------------------------------------------------------------\n",
      "Preprocessed: steakhouse main street cozy atmosphere excellent steak\n",
      "POS Tags: [('steakhouse', 'NN'), ('main', 'JJ'), ('street', 'NN'), ('cozy', 'NNS'), ('atmosphere', 'RB'), ('excellent', 'JJ'), ('steak', 'NN')]\n",
      "------------------------------------------------------------\n",
      "Preprocessed: dessert selection sweet treat die\n",
      "POS Tags: [('dessert', 'JJ'), ('selection', 'NN'), ('sweet', 'JJ'), ('treat', 'NN'), ('die', 'NN')]\n",
      "------------------------------------------------------------\n"
     ]
    }
   ],
   "source": [
    "# Step 10: Apply POS tagging to both raw and preprocessed data\n",
    "\n",
    "print(\"POS tagging on raw data:\")\n",
    "print(\"-\" * 60)\n",
    "for i, review in enumerate(data['Review']):\n",
    "    tags = perform_pos_tagging(review)\n",
    "    print(f\"Original: {review}\")\n",
    "    print(f\"POS Tags: {tags}\")\n",
    "    print(\"-\" * 60)\n",
    "\n",
    "print(\"\\nPOS tagging on preprocessed data:\")\n",
    "print(\"-\" * 60)\n",
    "for i, review in enumerate(preprocessed_reviews):\n",
    "    tags = perform_pos_tagging(review)\n",
    "    print(f\"Preprocessed: {review}\")\n",
    "    print(f\"POS Tags: {tags}\")\n",
    "    print(\"-\" * 60)"
   ]
  },
  {
   "cell_type": "markdown",
   "id": "95b4f7f9",
   "metadata": {},
   "source": [
    "### Part-of-Speech (POS) Tagging Analysis\n",
    "\n",
    "We performed POS tagging on both the **raw** and **preprocessed** review texts using NLTK.\n",
    "\n",
    "**Observations**\n",
    "\n",
    "**1. POS Tagging on Raw Text**\n",
    "- The POS tags are **accurate** and linguistically consistent.\n",
    "- Example:  \n",
    "  \"was\" → VBD (past tense verb)  \n",
    "  \"the\" → DT (determiner)  \n",
    "  \"McDonald\" → NNP (proper noun)\n",
    "- This is expected because the raw text preserves the **full grammatical structure** of the sentence.\n",
    "\n",
    "**2. POS Tagging on Preprocessed Text**\n",
    "- The POS tags are often **less accurate** or misleading:\n",
    "  - \"love\" → NN instead of VB\n",
    "  - \"cozy\" → NNS instead of JJ\n",
    "  - \"die\" → NN instead of VB\n",
    "- This is due to the removal of punctuation, stopwords, and sentence structure, which **removes important grammatical cues**.\n",
    "\n",
    "**Summary Table**\n",
    "\n",
    "| Input Type      | POS Tagging Quality | Notes                                  |\n",
    "|-----------------|---------------------|----------------------------------------|\n",
    "| Raw text        | Reliable          | Full context and structure preserved   |\n",
    "| Preprocessed    | Less reliable     | Word roles are harder to infer         |\n",
    "\n",
    "**Recommendation**\n",
    "\n",
    "- Use **raw text** for linguistic analysis like POS tagging or Named Entity Recognition (NER).\n",
    "- Use **preprocessed text** for machine learning models (e.g., Word2Vec, classification)."
   ]
  },
  {
   "cell_type": "markdown",
   "id": "76c59177",
   "metadata": {},
   "source": [
    "### Exercice 2 : Word Embeddings avec Word2Vec"
   ]
  },
  {
   "cell_type": "markdown",
   "id": "a113566d",
   "metadata": {},
   "source": [
    "### Step 1: Prepare data for Word2Vec"
   ]
  },
  {
   "cell_type": "code",
   "execution_count": 12,
   "id": "41a49fbc",
   "metadata": {},
   "outputs": [
    {
     "name": "stdout",
     "output_type": "stream",
     "text": [
      "['mcdonald', \"'s\", 'food', 'ok', 'service', 'bad']\n",
      "['would', 'recommend', 'japanese', 'restaurant', 'anyone']\n",
      "['love', 'restaurant', 'travel', 'thailand', 'last', 'summer']\n",
      "['menu', 'loving', 'wide', 'variety', 'option']\n",
      "['staff', 'friendly', 'helpful', 'google', \"'s\", 'employee', 'restaurant']\n",
      "['ambiance', 'bella', 'italia', 'amazing', 'pasta', 'dish', 'delicious']\n",
      "['terrible', 'experience', 'pizza', 'hut', 'pizza', 'burn', 'service', 'slow']\n",
      "['sushi', 'sushi', 'express', 'always', 'fresh', 'flavorful']\n",
      "['steakhouse', 'main', 'street', 'cozy', 'atmosphere', 'excellent', 'steak']\n",
      "['dessert', 'selection', 'sweet', 'treat', 'die']\n"
     ]
    }
   ],
   "source": [
    "# Step 1: Prepare tokenized data for Word2Vec\n",
    "tokenized_reviews = [review.split() for review in preprocessed_reviews]\n",
    "\n",
    "# Let's print a sample to check\n",
    "for tokens in tokenized_reviews:\n",
    "    print(tokens)"
   ]
  },
  {
   "cell_type": "markdown",
   "id": "753237b5",
   "metadata": {},
   "source": [
    "### Step 2: Train Word2Vec model using Gensim"
   ]
  },
  {
   "cell_type": "code",
   "execution_count": 14,
   "id": "37803824",
   "metadata": {},
   "outputs": [],
   "source": [
    "# Step 2: Train Word2Vec model using Gensim\n",
    "from gensim.models import Word2Vec\n",
    "\n",
    "# Create the Word2Vec model\n",
    "w2v_model = Word2Vec(\n",
    "    sentences=tokenized_reviews,  # our data: list of token lists\n",
    "    vector_size=100,              # dimension of vectors (you can change this)\n",
    "    window=5,                     # context window size\n",
    "    min_count=1,                  # minimum frequency to consider a word\n",
    "    workers=4,                    # parallelism\n",
    "    sg=1                          # skip-gram (1) or CBOW (0)\n",
    ")"
   ]
  },
  {
   "cell_type": "code",
   "execution_count": 15,
   "id": "b279734a",
   "metadata": {},
   "outputs": [
    {
     "name": "stdout",
     "output_type": "stream",
     "text": [
      "Vocabulary size: 56\n",
      "Vector size: 100\n"
     ]
    }
   ],
   "source": [
    "# Step 3: Check the model\n",
    "print(f\"Vocabulary size: {len(w2v_model.wv.key_to_index)}\")\n",
    "print(f\"Vector size: {w2v_model.vector_size}\")"
   ]
  },
  {
   "cell_type": "markdown",
   "id": "9e9d23a6",
   "metadata": {},
   "source": [
    "### Step 4: Plot word embeddings"
   ]
  },
  {
   "cell_type": "code",
   "execution_count": 17,
   "id": "1f878005",
   "metadata": {},
   "outputs": [],
   "source": [
    "# Step 4: Import required tools for plotting\n",
    "from sklearn.manifold import TSNE"
   ]
  },
  {
   "cell_type": "markdown",
   "id": "68edfdab",
   "metadata": {},
   "source": [
    "#### Step 5: Define a function to plot word embeddings"
   ]
  },
  {
   "cell_type": "code",
   "execution_count": 18,
   "id": "76a9f38e",
   "metadata": {},
   "outputs": [],
   "source": [
    "# Step 5: Define a function to plot word embeddings\n",
    "def plot_word_embeddings(model):\n",
    "    \"\"\"\n",
    "    Plots 2D representations of word vectors using TSNE.\n",
    "    \"\"\"\n",
    "    words = list(model.wv.index_to_key)  # All words in the vocabulary\n",
    "    word_vectors = model.wv[words]       # Their corresponding vectors\n",
    "\n",
    "    # Reduce dimensionality from 100 to 2 using TSNE\n",
    "    tsne = TSNE(n_components=2, random_state=0, perplexity=3)\n",
    "    embeddings_2d = tsne.fit_transform(word_vectors)\n",
    "\n",
    "    # Plot\n",
    "    plt.figure(figsize=(10, 8))\n",
    "    for i, word in enumerate(words):\n",
    "        x, y = embeddings_2d[i, 0], embeddings_2d[i, 1]\n",
    "        plt.scatter(x, y)\n",
    "        plt.annotate(word, (x, y), fontsize=9)\n",
    "    plt.title(\"2D visualization of Word2Vec embeddings\")\n",
    "    plt.grid(True)\n",
    "    plt.show()"
   ]
  },
  {
   "cell_type": "code",
   "execution_count": 19,
   "id": "262cb998",
   "metadata": {},
   "outputs": [
    {
     "data": {
      "image/png": "[encoded data removed]",
      "text/plain": [
       "<Figure size 1000x800 with 1 Axes>"
      ]
     },
     "metadata": {},
     "output_type": "display_data"
    }
   ],
   "source": [
    "# Step 6: Call the function to plot\n",
    "plot_word_embeddings(w2v_model)"
   ]
  },
  {
   "cell_type": "markdown",
   "id": "16e9c513",
   "metadata": {},
   "source": [
    "### Interpretation of Word2Vec Embedding Visualization"
   ]
  },
  {
   "cell_type": "markdown",
   "id": "5a90279b",
   "metadata": {},
   "source": [
    "This 2D scatter plot represents the learned word vectors from the restaurant reviews using a Word2Vec model trained on preprocessed data.\n",
    "\n",
    "**Key Observations**\n",
    "\n",
    "1. **Words with similar meanings or contexts are close together**:\n",
    "   - \"delicious\", \"variety\", \"selection\", \"sweet\" form a group related to food quality.\n",
    "   - \"cozy\", \"atmosphere\", \"ambiance\" appear near each other, reflecting environmental descriptions.\n",
    "   - \"pizza\", \"pasta\", \"restaurant\", \"sushi\" cluster in the food domain.\n",
    "\n",
    "2. **Negative sentiment words** form partial clusters:\n",
    "   - \"bad\", \"terrible\", \"burn\" are close, showing semantic similarity in negative context.\n",
    "   - \"slow\", \"service\", \"experience\" are nearby, indicating typical complaint vocabulary.\n",
    "\n",
    "3. **Named entities and places are grouped**:\n",
    "   - \"thailand\", \"italia\", \"mcdonald\", \"google\" appear in spatial proximity, showing model learning named entity patterns.\n",
    "   - \"google\", \"employee\", \"helpful\" are also near, possibly because of sentence structure context.\n",
    "\n",
    "4. **Some isolated words**:\n",
    "   - **\"fresh\"** appears far from all other points, which might indicate either a unique context or underrepresentation in the training data.\n",
    "   - **\"love\"** is relatively separated despite its emotional weight, possibly due to lemmatization and sparse context.\n",
    "\n",
    "**Why is this useful?**\n",
    "\n",
    "- These visualizations help **understand semantic similarity** learned by the model.\n",
    "- Words appearing in **similar contexts are closer** in the embedding space.\n",
    "- This shows that Word2Vec has captured some structure of meaning from a small dataset.\n",
    "\n",
    "**Tips for better embeddings**\n",
    "\n",
    "- Use a **larger dataset** for better generalization.\n",
    "- Tune parameters like **vector_size**, **window**, **min_count**.\n",
    "- Try different dimensionality reduction techniques like **UMAP** or **PCA** for alternative visualizations."
   ]
  }
 ],
 "metadata": {
  "kernelspec": {
   "display_name": "nlp_course_env",
   "language": "python",
   "name": "python3"
  },
  "language_info": {
   "codemirror_mode": {
    "name": "ipython",
    "version": 3
   },
   "file_extension": ".py",
   "mimetype": "text/x-python",
   "name": "python",
   "nbconvert_exporter": "python",
   "pygments_lexer": "ipython3",
   "version": "3.10.0"
  }
 },
 "nbformat": 4,
 "nbformat_minor": 5
}
