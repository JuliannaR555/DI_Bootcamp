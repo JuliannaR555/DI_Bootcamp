{
 "cells": [
  {
   "cell_type": "markdown",
   "id": "371b44d9",
   "metadata": {},
   "source": [
    "## Daily Challenge: W6_D2"
   ]
  },
  {
   "cell_type": "markdown",
   "id": "ed734df9",
   "metadata": {},
   "source": [
    "### Fine-Tuning GPT-2 for SMS Spam Classification (Legacy transformers API)"
   ]
  },
  {
   "cell_type": "markdown",
   "id": "91651062",
   "metadata": {},
   "source": [
    "In this daily challenge, you will fine-tune a pre-trained GPT-2 model to classify SMS messages as spam or ham (not spam). You will work through loading the dataset, inspecting its schema, tokenizing examples, adapting to an older transformers version, and running training and evaluation with the classic do_train/do_eval flags.\n",
    "\n",
    "What You Will Learn\n",
    "\n",
    "- How to load and explore a custom text-classification dataset\n",
    "- Inspecting and aligning column names for tokenization\n",
    "- Tokenizing text for GPT-2 (with its peculiar padding setup)\n",
    "- Initializing GPT2ForSequenceClassification\n",
    "- Defining and computing multiple evaluation metrics\n",
    "- Configuring TrainingArguments for transformers < 4.4 (using do_train, eval_steps, etc.)\n",
    "- Running fine-tuning with Trainer and interpreting results\n",
    "- Common pitfalls when using legacy APIs\n",
    "\n",
    "What You Will Create\n",
    "\n",
    "By the end of this challenge, you will have built:\n",
    "\n",
    "- A tokenized SMS dataset compatible with GPT-2 requirements, including custom padding and truncation.\n",
    "- A fine-tuned GPT2ForSequenceClassification model that can accurately label incoming SMS messages as spam or ham.\n",
    "- A complete training pipeline using the legacy do_train/do_eval flags in TrainingArguments, with periodic checkpointing, logging, and evaluation.\n",
    "- A set of evaluation metrics (accuracy, precision, recall, F1) computed at each validation step and summarized after training.\n",
    "- A reusable Jupyter notebook that ties everything together—from dataset loading and inspection, through model initialization and tokenization, to training, evaluation, and results interpretation.\n",
    "\n",
    "Prerequisites\n",
    "\n",
    "- Python 3.7+\n",
    "- Installed packages: datasets, evaluate, transformers>=4.0.0,<4.4.0\n",
    "- Basic familiarity with Hugging Face datasets and transformers libraries\n",
    "- GitHub or Colab access for executing the notebook\n",
    "- A Hugging Face API and a WeightAndBiases API\n",
    "\n",
    "Task\n",
    "\n",
    "You will fine-tune a GPT-2 model to classify SMS messages as spam or ham using an older version of transformers (<4.4). Follow the steps below and complete the TODO sections.\n",
    "\n",
    "1. Setup\n",
    "\n",
    "Install the required packages datasets, evaluate, and transformers[sentencepiece].\n",
    "\n",
    "2. Load and Inspect Dataset\n",
    "\n",
    "Import the dataset and inspect its structure. You will load the UCI SMS Spam dataset (sms_spam) from the Hugging Face hub and split it into training and validation subsets. You should see the features sms and label.\n",
    "\n",
    "3. Tokenization\n",
    "\n",
    "Import the GPT-2 tokenizer and prepare the tokenization function. GPT-2 does not have a padding token by default, so set it to the end-of-sequence token. Apply tokenization to your dataset with truncation and fixed maximum length.\n",
    "\n",
    "4. Model Initialization\n",
    "\n",
    "Load the GPT-2 model with a sequence classification head. Configure the number of labels (spam vs. ham) and set the padding token ID.\n",
    "\n",
    "5. Metrics Definition\n",
    "\n",
    "Load evaluation metrics (accuracy, precision, recall, F1). Define a function compute_metrics that computes all metrics from model predictions. \n",
    "\n",
    "Reflect on why precision and recall are important in an imbalanced dataset and how you would interpret a model with high accuracy but low recall on the spam class.\n",
    "\n",
    "6. TrainingArguments Configuration\n",
    "\n",
    "Configure TrainingArguments for your experiment: output directories, batch sizes, number of epochs, learning rate, weight decay, evaluation and saving intervals, and logging.\n",
    "\n",
    "Think about the effect of weight decay during fine-tuning and when you might choose a higher or lower value.\n",
    "\n",
    "7. Train and Evaluate\n",
    "\n",
    "Create a Trainer instance with your model, arguments, datasets, and metrics function. Launch training and evaluation. Print and interpret your final results."
   ]
  },
  {
   "cell_type": "markdown",
   "id": "619619cd",
   "metadata": {},
   "source": [
    "### 1) Setup: Install required packages"
   ]
  },
  {
   "cell_type": "code",
   "execution_count": null,
   "id": "c07cbf91",
   "metadata": {},
   "outputs": [],
   "source": [
    "# Install essential libraries for dataset handling and model training\n",
    "%pip install --quiet datasets evaluate transformers[sentencepiece]"
   ]
  },
  {
   "cell_type": "markdown",
   "id": "b6e15d37",
   "metadata": {},
   "source": [
    "### 2. Load & Inspect Dataset"
   ]
  },
  {
   "cell_type": "code",
   "execution_count": 16,
   "id": "486ee8d8",
   "metadata": {},
   "outputs": [],
   "source": [
    "import os\n",
    "# Disable symlink warnings from huggingface_hub\n",
    "os.environ[\"HF_HUB_DISABLE_SYMLINKS_WARNING\"] = \"1\"\n",
    "import evaluate\n",
    "import numpy as np\n",
    "import warnings\n",
    "from transformers import logging\n",
    "from datasets import load_dataset\n",
    "import pandas as pd\n",
    "from transformers import Trainer\n",
    "from transformers import GPT2Tokenizer\n",
    "from transformers import GPT2ForSequenceClassification\n",
    "from transformers import TrainingArguments\n",
    "from transformers import TrainingArguments, Trainer\n",
    "from sklearn.metrics import confusion_matrix, ConfusionMatrixDisplay"
   ]
  },
  {
   "cell_type": "markdown",
   "id": "e43f68b3",
   "metadata": {},
   "source": [
    "#### Load and inspect the SMS Spam dataset"
   ]
  },
  {
   "cell_type": "code",
   "execution_count": 2,
   "id": "4a4124a6",
   "metadata": {},
   "outputs": [
    {
     "name": "stdout",
     "output_type": "stream",
     "text": [
      "{'sms': Value('string'), 'label': ClassLabel(names=['ham', 'spam'])}\n"
     ]
    }
   ],
   "source": [
    "# Load the UCI SMS Spam dataset from the Hugging Face Hub (with correct namespace)\n",
    "raw_dataset = load_dataset(\"ucirvine/sms_spam\")\n",
    "\n",
    "# Split the dataset: 4,000 samples for training, 1,000 for validation\n",
    "train_dataset = raw_dataset[\"train\"].select(range(4000))\n",
    "val_dataset = raw_dataset[\"train\"].select(range(4000, 5000))\n",
    "\n",
    "# Print the features of the train dataset to inspect column names\n",
    "print(train_dataset.features)"
   ]
  },
  {
   "cell_type": "code",
   "execution_count": 3,
   "id": "381edbc0",
   "metadata": {},
   "outputs": [
    {
     "name": "stdout",
     "output_type": "stream",
     "text": [
      "['plain_text']\n"
     ]
    }
   ],
   "source": [
    "from datasets import get_dataset_config_names\n",
    "print(get_dataset_config_names(\"ucirvine/sms_spam\"))"
   ]
  },
  {
   "cell_type": "markdown",
   "id": "3ac74181",
   "metadata": {},
   "source": [
    "### 3. Tokenization"
   ]
  },
  {
   "cell_type": "code",
   "execution_count": 4,
   "id": "f1931c13",
   "metadata": {},
   "outputs": [],
   "source": [
    "# Define the model name (GPT-2 base model)\n",
    "model_name = \"gpt2\"\n",
    "\n",
    "# Load the GPT-2 tokenizer\n",
    "tokenizer = GPT2Tokenizer.from_pretrained(model_name)\n",
    "\n",
    "# GPT-2 has no pad token by default; set pad_token to eos_token\n",
    "tokenizer.pad_token = tokenizer.eos_token\n",
    "\n",
    "# Define a function to tokenize each example\n",
    "def tokenize_fn(examples):\n",
    "    return tokenizer(\n",
    "        examples[\"sms\"],\n",
    "        padding=\"max_length\",   # pad sequences to max_length\n",
    "        truncation=True,        # truncate longer sequences\n",
    "        max_length=64           # max sequence length (64 tokens)\n",
    "    )\n",
    "\n",
    "# Apply tokenization to the train dataset\n",
    "train_tokenized = train_dataset.map(tokenize_fn, batched=True)\n",
    "\n",
    "# Apply tokenization to the validation dataset\n",
    "val_tokenized = val_dataset.map(tokenize_fn, batched=True)"
   ]
  },
  {
   "cell_type": "markdown",
   "id": "03cb940c",
   "metadata": {},
   "source": [
    "### 4) Model Initialization"
   ]
  },
  {
   "cell_type": "code",
   "execution_count": 5,
   "id": "3326a95a",
   "metadata": {},
   "outputs": [
    {
     "name": "stderr",
     "output_type": "stream",
     "text": [
      "Some weights of GPT2ForSequenceClassification were not initialized from the model checkpoint at gpt2 and are newly initialized: ['score.weight']\n",
      "You should probably TRAIN this model on a down-stream task to be able to use it for predictions and inference.\n"
     ]
    }
   ],
   "source": [
    "# Initialize the GPT-2 model with a classification head\n",
    "model = GPT2ForSequenceClassification.from_pretrained(\n",
    "    model_name,         # \"gpt2\"\n",
    "    num_labels=2,       # Two classes: ham and spam\n",
    "    pad_token_id=tokenizer.eos_token_id  # Padding token is set to EOS token ID\n",
    ")"
   ]
  },
  {
   "cell_type": "markdown",
   "id": "68813313",
   "metadata": {},
   "source": [
    "### 5) Metrics Definition"
   ]
  },
  {
   "cell_type": "code",
   "execution_count": 6,
   "id": "df3193e2",
   "metadata": {},
   "outputs": [],
   "source": [
    "# Load metrics from the evaluate library\n",
    "accuracy_metric = evaluate.load(\"accuracy\")\n",
    "precision_metric = evaluate.load(\"precision\")\n",
    "recall_metric = evaluate.load(\"recall\")\n",
    "f1_metric = evaluate.load(\"f1\")\n",
    "\n",
    "# Define a function to compute all metrics at once\n",
    "def compute_metrics(pred):\n",
    "    logits, labels = pred\n",
    "    # Convert logits to predicted class indices\n",
    "    predictions = np.argmax(logits, axis=-1)\n",
    "    return {\n",
    "        \"accuracy\": accuracy_metric.compute(predictions=predictions, references=labels)[\"accuracy\"],\n",
    "        \"precision\": precision_metric.compute(predictions=predictions, references=labels, average=\"binary\")[\"precision\"],\n",
    "        \"recall\": recall_metric.compute(predictions=predictions, references=labels, average=\"binary\")[\"recall\"],\n",
    "        \"f1\": f1_metric.compute(predictions=predictions, references=labels, average=\"binary\")[\"f1\"]\n",
    "    }"
   ]
  },
  {
   "cell_type": "markdown",
   "id": "fbb1c377",
   "metadata": {},
   "source": [
    "### 6) TrainingArguments Configuration"
   ]
  },
  {
   "cell_type": "code",
   "execution_count": 7,
   "id": "8a2c97d7",
   "metadata": {},
   "outputs": [],
   "source": [
    "# Configure training parameters\n",
    "training_args = TrainingArguments(\n",
    "    output_dir=\"./gpt2-sms-spam\",     # directory to save checkpoints and model\n",
    "    do_train=True,                    # enable training\n",
    "    do_eval=True,                     # enable evaluation during training\n",
    "    eval_steps=500,                   # evaluate every 500 steps\n",
    "    save_steps=500,                   # save checkpoint every 500 steps\n",
    "    logging_dir=\"./logs\",             # directory for logs\n",
    "    logging_steps=500,                # log metrics every 500 steps\n",
    "\n",
    "    per_device_train_batch_size=8,    # batch size per device during training\n",
    "    per_device_eval_batch_size=8,     # batch size for evaluation\n",
    "    num_train_epochs=3,               # number of epochs\n",
    "    learning_rate=5e-5,               # learning rate\n",
    "    weight_decay=0.01,                # weight decay for regularization\n",
    "\n",
    "    report_to=None,                   # disable integrations like W&B\n",
    "    save_total_limit=1,                # keep only last checkpoint\n",
    "    dataloader_pin_memory=False\n",
    ")"
   ]
  },
  {
   "cell_type": "markdown",
   "id": "41fe1ebf",
   "metadata": {},
   "source": [
    "### 7) Trainer: Training and Evaluation"
   ]
  },
  {
   "cell_type": "code",
   "execution_count": 8,
   "id": "d69dc919",
   "metadata": {},
   "outputs": [
    {
     "data": {
      "text/html": [
       "\n",
       "    <div>\n",
       "      \n",
       "      <progress value='1500' max='1500' style='width:300px; height:20px; vertical-align: middle;'></progress>\n",
       "      [1500/1500 31:15, Epoch 3/3]\n",
       "    </div>\n",
       "    <table border=\"1\" class=\"dataframe\">\n",
       "  <thead>\n",
       " <tr style=\"text-align: left;\">\n",
       "      <th>Step</th>\n",
       "      <th>Training Loss</th>\n",
       "    </tr>\n",
       "  </thead>\n",
       "  <tbody>\n",
       "    <tr>\n",
       "      <td>500</td>\n",
       "      <td>0.189000</td>\n",
       "    </tr>\n",
       "    <tr>\n",
       "      <td>1000</td>\n",
       "      <td>0.055100</td>\n",
       "    </tr>\n",
       "    <tr>\n",
       "      <td>1500</td>\n",
       "      <td>0.039400</td>\n",
       "    </tr>\n",
       "  </tbody>\n",
       "</table><p>"
      ],
      "text/plain": [
       "<IPython.core.display.HTML object>"
      ]
     },
     "metadata": {},
     "output_type": "display_data"
    },
    {
     "data": {
      "text/html": [],
      "text/plain": [
       "<IPython.core.display.HTML object>"
      ]
     },
     "metadata": {},
     "output_type": "display_data"
    },
    {
     "name": "stdout",
     "output_type": "stream",
     "text": [
      "{'eval_loss': 0.0471334308385849, 'eval_accuracy': 0.993, 'eval_precision': 0.9852941176470589, 'eval_recall': 0.9640287769784173, 'eval_f1': 0.9745454545454545, 'eval_runtime': 38.3176, 'eval_samples_per_second': 26.098, 'eval_steps_per_second': 3.262, 'epoch': 3.0}\n"
     ]
    }
   ],
   "source": [
    "# Create a Trainer instance\n",
    "trainer = Trainer(\n",
    "    model=model,                      # your GPT-2 model\n",
    "    args=training_args,               # training configuration\n",
    "    train_dataset=train_tokenized,    # tokenized training dataset\n",
    "    eval_dataset=val_tokenized,       # tokenized validation dataset\n",
    "    compute_metrics=compute_metrics   # function to compute evaluation metrics\n",
    ")\n",
    "\n",
    "# Launch training\n",
    "trainer.train()\n",
    "\n",
    "# Evaluate the model on the validation set\n",
    "evaluation_results = trainer.evaluate()\n",
    "\n",
    "# Print evaluation metrics\n",
    "print(evaluation_results)"
   ]
  },
  {
   "cell_type": "code",
   "execution_count": 9,
   "id": "fc1db95f",
   "metadata": {},
   "outputs": [],
   "source": [
    "trainer.save_model(\"./my_gpt2_spam_model\")"
   ]
  },
  {
   "cell_type": "markdown",
   "id": "d89a87f2",
   "metadata": {},
   "source": [
    "### Interpretation of Results"
   ]
  },
  {
   "cell_type": "markdown",
   "id": "ec73d249",
   "metadata": {},
   "source": [
    "The final evaluation metrics obtained on the validation set are:\n",
    "\n",
    "- **Loss:** 0.0471\n",
    "- **Accuracy:** 99.3%\n",
    "- **Precision:** 98.5%\n",
    "- **Recall:** 96.4%\n",
    "- **F1 Score:** 97.5%\n",
    "\n",
    "---\n",
    "\n",
    "**Detailed Interpretation**\n",
    "\n",
    "- **Loss (0.0471):**\n",
    "  This is the cross-entropy loss on the validation data. A very low loss indicates that the model's predicted probabilities are close to the true labels.\n",
    "\n",
    "- **Accuracy (99.3%):**\n",
    "  Almost all SMS messages were classified correctly. However, in imbalanced datasets (where most messages are \"ham\"), accuracy alone can be misleading.\n",
    "\n",
    "- **Precision (98.5%):**\n",
    "  Out of all messages predicted as spam, 98.5% were truly spam. High precision means the model rarely marks legitimate messages (ham) as spam (few false positives).\n",
    "\n",
    "- **Recall (96.4%):**\n",
    "  Out of all real spam messages, the model correctly identified 96.4%. High recall means the model rarely misses spam (few false negatives).\n",
    "\n",
    "- **F1 Score (97.5%):**\n",
    "  The F1 score balances precision and recall. A high F1 indicates the model achieves both high detection of spam and low false alarms.\n",
    "\n",
    "---\n",
    "\n",
    "**Overall Assessment**\n",
    "\n",
    "These metrics show the model has **excellent performance** on the validation set. The classifier is effective at detecting spam while maintaining a very low error rate on ham messages.\n",
    "\n",
    "---\n",
    "\n",
    "**Considerations**\n",
    "\n",
    "- The dataset is relatively small (5,000 examples), so results could differ in production.\n",
    "- Because the dataset is imbalanced (more ham than spam), always check precision and recall alongside accuracy.\n",
    "- There may still be edge cases where the model could fail, especially on very short or ambiguous messages.\n",
    "\n",
    "---\n",
    "\n",
    "**Next Steps**\n",
    "\n",
    "To further improve or validate the model:\n",
    "\n",
    "- Evaluate on additional, real-world SMS samples not seen during training.\n",
    "- Perform **cross-validation** or train/test splits with different seeds.\n",
    "- Experiment with:\n",
    "  - Adjusting num_train_epochs (e.g., 2 or 4 epochs)\n",
    "  - Tuning **learning_rate** or **weight_decay**\n",
    "  - Enabling **early stopping** if validation metrics stop improving\n",
    "- Save the trained model and create inference scripts to classify new messages.\n",
    "\n",
    "---\n",
    "\n",
    "Overall, this fine-tuned GPT-2 classifier demonstrates strong capability in spam detection and is ready for further testing and potential deployment."
   ]
  },
  {
   "cell_type": "markdown",
   "id": "56690052",
   "metadata": {},
   "source": [
    "### Confusion Matrix"
   ]
  },
  {
   "cell_type": "code",
   "execution_count": 13,
   "id": "b957af5f",
   "metadata": {},
   "outputs": [
    {
     "data": {
      "text/html": [],
      "text/plain": [
       "<IPython.core.display.HTML object>"
      ]
     },
     "metadata": {},
     "output_type": "display_data"
    },
    {
     "data": {
      "image/png": "[encoded data removed]",
      "text/plain": [
       "<Figure size 640x480 with 2 Axes>"
      ]
     },
     "metadata": {},
     "output_type": "display_data"
    }
   ],
   "source": [
    "# Get raw predictions (logits) and true labels from the validation set\n",
    "predictions_output = trainer.predict(val_tokenized)\n",
    "\n",
    "# Convert logits to predicted class indices\n",
    "y_pred = np.argmax(predictions_output.predictions, axis=1)\n",
    "\n",
    "# True labels\n",
    "y_true = predictions_output.label_ids\n",
    "\n",
    "# Compute the confusion matrix\n",
    "cm = confusion_matrix(y_true, y_pred)\n",
    "\n",
    "# Display the confusion matrix\n",
    "disp = ConfusionMatrixDisplay(confusion_matrix=cm, display_labels=[\"ham\", \"spam\"])\n",
    "disp.plot(cmap=\"Blues\");"
   ]
  },
  {
   "cell_type": "markdown",
   "id": "99e32059",
   "metadata": {},
   "source": [
    "### 1. Load and Inspect Dataset"
   ]
  },
  {
   "cell_type": "code",
   "execution_count": 22,
   "id": "79ea276b",
   "metadata": {},
   "outputs": [
    {
     "name": "stdout",
     "output_type": "stream",
     "text": [
      "{'sms': Value('string'), 'label': ClassLabel(names=['ham', 'spam'])}\n"
     ]
    }
   ],
   "source": [
    "# Load and Inspect the SMS Spam Dataset\n",
    "from datasets import load_dataset\n",
    "\n",
    "raw_dataset = load_dataset(\"ucirvine/sms_spam\")\n",
    "\n",
    "train_dataset = raw_dataset[\"train\"].select(range(4000))\n",
    "val_dataset = raw_dataset[\"train\"].select(range(4000, 5000))\n",
    "\n",
    "print(train_dataset.features)"
   ]
  },
  {
   "cell_type": "markdown",
   "id": "cd603e63",
   "metadata": {},
   "source": [
    "### 2. Tokenization Function for BERT"
   ]
  },
  {
   "cell_type": "code",
   "execution_count": 14,
   "id": "a703f2bc",
   "metadata": {},
   "outputs": [
    {
     "data": {
      "application/vnd.jupyter.widget-view+json": {
       "model_id": "770723db416243679f13c0586232ce96",
       "version_major": 2,
       "version_minor": 0
      },
      "text/plain": [
       "tokenizer_config.json:   0%|          | 0.00/48.0 [00:00<?, ?B/s]"
      ]
     },
     "metadata": {},
     "output_type": "display_data"
    },
    {
     "data": {
      "application/vnd.jupyter.widget-view+json": {
       "model_id": "c165bc7493af452ab21112291ba2082a",
       "version_major": 2,
       "version_minor": 0
      },
      "text/plain": [
       "config.json:   0%|          | 0.00/570 [00:00<?, ?B/s]"
      ]
     },
     "metadata": {},
     "output_type": "display_data"
    },
    {
     "data": {
      "application/vnd.jupyter.widget-view+json": {
       "model_id": "8aaa378106d34864aee2ebb6c8cc2ec7",
       "version_major": 2,
       "version_minor": 0
      },
      "text/plain": [
       "vocab.txt:   0%|          | 0.00/232k [00:00<?, ?B/s]"
      ]
     },
     "metadata": {},
     "output_type": "display_data"
    },
    {
     "data": {
      "application/vnd.jupyter.widget-view+json": {
       "model_id": "0105047b4b8e4289be6486bb97f39c27",
       "version_major": 2,
       "version_minor": 0
      },
      "text/plain": [
       "tokenizer.json:   0%|          | 0.00/466k [00:00<?, ?B/s]"
      ]
     },
     "metadata": {},
     "output_type": "display_data"
    },
    {
     "data": {
      "application/vnd.jupyter.widget-view+json": {
       "model_id": "bee4c9e53e1c41d38fa051d2fce92e98",
       "version_major": 2,
       "version_minor": 0
      },
      "text/plain": [
       "model.safetensors:   0%|          | 0.00/440M [00:00<?, ?B/s]"
      ]
     },
     "metadata": {},
     "output_type": "display_data"
    },
    {
     "name": "stderr",
     "output_type": "stream",
     "text": [
      "Some weights of BertForSequenceClassification were not initialized from the model checkpoint at bert-base-uncased and are newly initialized: ['classifier.bias', 'classifier.weight']\n",
      "You should probably TRAIN this model on a down-stream task to be able to use it for predictions and inference.\n"
     ]
    },
    {
     "data": {
      "application/vnd.jupyter.widget-view+json": {
       "model_id": "538ffc6a387d4f9c8f4bb9b7c70ea927",
       "version_major": 2,
       "version_minor": 0
      },
      "text/plain": [
       "Map:   0%|          | 0/4000 [00:00<?, ? examples/s]"
      ]
     },
     "metadata": {},
     "output_type": "display_data"
    },
    {
     "data": {
      "application/vnd.jupyter.widget-view+json": {
       "model_id": "66b401d1926b4b2488aa5ce68cc1251d",
       "version_major": 2,
       "version_minor": 0
      },
      "text/plain": [
       "Map:   0%|          | 0/1000 [00:00<?, ? examples/s]"
      ]
     },
     "metadata": {},
     "output_type": "display_data"
    }
   ],
   "source": [
    "# Import BERT tokenizer and model\n",
    "from transformers import AutoTokenizer, AutoModelForSequenceClassification\n",
    "\n",
    "# Model name\n",
    "bert_model_name = \"bert-base-uncased\"\n",
    "\n",
    "# Load tokenizer and model\n",
    "bert_tokenizer = AutoTokenizer.from_pretrained(bert_model_name)\n",
    "bert_model = AutoModelForSequenceClassification.from_pretrained(\n",
    "    bert_model_name,\n",
    "    num_labels=2\n",
    ")\n",
    "\n",
    "# Tokenization function adapted for BERT\n",
    "def bert_tokenize_fn(examples):\n",
    "    return bert_tokenizer(\n",
    "        examples[\"sms\"],\n",
    "        padding=\"max_length\",\n",
    "        truncation=True,\n",
    "        max_length=64\n",
    "    )\n",
    "\n",
    "# Tokenize datasets\n",
    "bert_train_tokenized = train_dataset.map(bert_tokenize_fn, batched=True)\n",
    "bert_val_tokenized = val_dataset.map(bert_tokenize_fn, batched=True)"
   ]
  },
  {
   "cell_type": "markdown",
   "id": "775134c2",
   "metadata": {},
   "source": [
    "### 3. Define Training Arguments for BERT"
   ]
  },
  {
   "cell_type": "code",
   "execution_count": 25,
   "id": "bbe4c063",
   "metadata": {},
   "outputs": [],
   "source": [
    "bert_training_args = TrainingArguments(\n",
    "    output_dir=\"./bert-sms-spam\",\n",
    "    do_train=True,\n",
    "    do_eval=True,\n",
    "    eval_steps=500,\n",
    "    save_steps=500,\n",
    "    logging_dir=\"./logs-bert\",\n",
    "    logging_steps=500,\n",
    "    per_device_train_batch_size=8,\n",
    "    per_device_eval_batch_size=8,\n",
    "    num_train_epochs=3,\n",
    "    learning_rate=5e-5,\n",
    "    weight_decay=0.01,\n",
    "    report_to=None,\n",
    "    save_total_limit=1,\n",
    "    dataloader_pin_memory=False  # Disable pin_memory to remove warning\n",
    ")"
   ]
  },
  {
   "cell_type": "markdown",
   "id": "b471e856",
   "metadata": {},
   "source": [
    "### 4. Create Trainer and Start Training"
   ]
  },
  {
   "cell_type": "code",
   "execution_count": 26,
   "id": "6a246d27",
   "metadata": {},
   "outputs": [
    {
     "data": {
      "text/html": [
       "\n",
       "    <div>\n",
       "      \n",
       "      <progress value='1500' max='1500' style='width:300px; height:20px; vertical-align: middle;'></progress>\n",
       "      [1500/1500 30:11, Epoch 3/3]\n",
       "    </div>\n",
       "    <table border=\"1\" class=\"dataframe\">\n",
       "  <thead>\n",
       " <tr style=\"text-align: left;\">\n",
       "      <th>Step</th>\n",
       "      <th>Training Loss</th>\n",
       "    </tr>\n",
       "  </thead>\n",
       "  <tbody>\n",
       "    <tr>\n",
       "      <td>500</td>\n",
       "      <td>0.087400</td>\n",
       "    </tr>\n",
       "    <tr>\n",
       "      <td>1000</td>\n",
       "      <td>0.037300</td>\n",
       "    </tr>\n",
       "    <tr>\n",
       "      <td>1500</td>\n",
       "      <td>0.017900</td>\n",
       "    </tr>\n",
       "  </tbody>\n",
       "</table><p>"
      ],
      "text/plain": [
       "<IPython.core.display.HTML object>"
      ]
     },
     "metadata": {},
     "output_type": "display_data"
    },
    {
     "data": {
      "text/plain": [
       "TrainOutput(global_step=1500, training_loss=0.04754660924275716, metrics={'train_runtime': 1813.065, 'train_samples_per_second': 6.619, 'train_steps_per_second': 0.827, 'total_flos': 394666583040000.0, 'train_loss': 0.04754660924275716, 'epoch': 3.0})"
      ]
     },
     "execution_count": 26,
     "metadata": {},
     "output_type": "execute_result"
    }
   ],
   "source": [
    "bert_trainer = Trainer(\n",
    "    model=bert_model,\n",
    "    args=bert_training_args,\n",
    "    train_dataset=bert_train_tokenized,\n",
    "    eval_dataset=bert_val_tokenized,\n",
    "    compute_metrics=compute_metrics\n",
    ")\n",
    "\n",
    "bert_trainer.train()"
   ]
  },
  {
   "cell_type": "markdown",
   "id": "1016f4c2",
   "metadata": {},
   "source": [
    "### 5. Evaluate Model Performance"
   ]
  },
  {
   "cell_type": "code",
   "execution_count": 27,
   "id": "3b863271",
   "metadata": {},
   "outputs": [
    {
     "data": {
      "text/html": [],
      "text/plain": [
       "<IPython.core.display.HTML object>"
      ]
     },
     "metadata": {},
     "output_type": "display_data"
    },
    {
     "name": "stdout",
     "output_type": "stream",
     "text": [
      "{'eval_loss': 0.06384330987930298, 'eval_accuracy': 0.992, 'eval_precision': 1.0, 'eval_recall': 0.9424460431654677, 'eval_f1': 0.9703703703703703, 'eval_runtime': 33.022, 'eval_samples_per_second': 30.283, 'eval_steps_per_second': 3.785, 'epoch': 3.0}\n"
     ]
    }
   ],
   "source": [
    "# Evaluate Model Performance\n",
    "bert_eval_results = bert_trainer.evaluate()\n",
    "\n",
    "print(bert_eval_results)"
   ]
  },
  {
   "cell_type": "markdown",
   "id": "b781629a",
   "metadata": {},
   "source": [
    "### 6. Generate Confusion Matrix for BERT"
   ]
  },
  {
   "cell_type": "code",
   "execution_count": 28,
   "id": "edc315ef",
   "metadata": {},
   "outputs": [
    {
     "data": {
      "image/png": "[encoded data removed]",
      "text/plain": [
       "<Figure size 640x480 with 2 Axes>"
      ]
     },
     "metadata": {},
     "output_type": "display_data"
    }
   ],
   "source": [
    "# Generate Confusion Matrix for BERT\n",
    "from sklearn.metrics import confusion_matrix, ConfusionMatrixDisplay\n",
    "import matplotlib.pyplot as plt\n",
    "import numpy as np\n",
    "\n",
    "predictions_output = bert_trainer.predict(bert_val_tokenized)\n",
    "y_pred = np.argmax(predictions_output.predictions, axis=1)\n",
    "y_true = predictions_output.label_ids\n",
    "\n",
    "cm = confusion_matrix(y_true, y_pred)\n",
    "disp = ConfusionMatrixDisplay(confusion_matrix=cm, display_labels=[\"ham\", \"spam\"])\n",
    "disp.plot(cmap=\"Blues\")\n",
    "plt.show()"
   ]
  },
  {
   "cell_type": "markdown",
   "id": "dd73b7fb",
   "metadata": {},
   "source": [
    "### Confusion Matrix Interpretation - BERT Model"
   ]
  },
  {
   "cell_type": "markdown",
   "id": "51fd53cd",
   "metadata": {},
   "source": [
    "The confusion matrix for the BERT classifier is as follows:\n",
    "\n",
    "|                   | Predicted Ham | Predicted Spam |\n",
    "|-------------------|---------------|----------------|\n",
    "| **Actual Ham**    | 861            | 0              |\n",
    "| **Actual Spam**   | 8              | 131            |\n",
    "\n",
    "**Interpretation:**\n",
    "\n",
    "- **True Negatives (861):**\n",
    "  All ham messages were correctly identified as ham.\n",
    "  There were no false positives (no legitimate messages marked as spam).\n",
    "\n",
    "- **False Positives (0):**\n",
    "  This is excellent. The model made zero mistakes labeling ham as spam, which is reflected in the perfect precision (1.0).\n",
    "\n",
    "- **False Negatives (8):**\n",
    "  The model failed to detect 8 spam messages, classifying them as ham. This explains why recall is slightly lower (94.2%).\n",
    "\n",
    "- **True Positives (131):**\n",
    "  The model correctly identified 131 spam messages.\n",
    "\n",
    "**Summary:**\n",
    "The BERT classifier is highly precise, never raising a false alarm on legitimate messages. However, it is slightly conservative, missing a few spam messages. This trade-off between recall and precision is typical: the model prioritizes avoiding false positives, resulting in a small number of false negatives."
   ]
  },
  {
   "cell_type": "markdown",
   "id": "79859bd3",
   "metadata": {},
   "source": [
    "### Comparative Analysis: GPT-2 vs BERT for SMS Spam Classification"
   ]
  },
  {
   "cell_type": "markdown",
   "id": "a5be6d6a",
   "metadata": {},
   "source": [
    "Below is a side-by-side comparison of the two models trained on the same dataset:\n",
    "\n",
    "| Metric       | GPT-2 Model            | BERT Model             |\n",
    "|--------------|-------------------------|------------------------|\n",
    "| **Accuracy** | 99.3%                   | 99.2%                  |\n",
    "| **Precision**| 98.5%                   | **100%**               |\n",
    "| **Recall**   | **96.4%**               | 94.2%                  |\n",
    "| **F1 Score** | **97.5%**               | 97.0%                  |\n",
    "| **Eval Loss**| 0.0471                  | 0.0638                 |\n",
    "\n",
    "---\n",
    "\n",
    "### Interpretation:\n",
    "\n",
    "- **Accuracy:**\n",
    "  Both models achieve very high accuracy (>99%), correctly classifying almost all messages.\n",
    "\n",
    "- **Precision:**\n",
    "  BERT has perfect precision (1.0), meaning it never misclassified any ham messages as spam.\n",
    "  GPT-2 had slightly lower precision (98.5%), introducing a few false positives.\n",
    "\n",
    "- **Recall:**\n",
    "  GPT-2 has higher recall (96.4%) compared to BERT (94.2%). This means GPT-2 is better at identifying all spam messages, while BERT misses a few.\n",
    "\n",
    "- **F1 Score:**\n",
    "  GPT-2 edges out slightly in the F1 score because it balances precision and recall more evenly.\n",
    "\n",
    "- **Eval Loss:**\n",
    "  GPT-2’s lower loss suggests its predictions were closer to true probabilities overall.\n",
    "\n",
    "---\n",
    "\n",
    "### Confusion Matrix Summary:\n",
    "\n",
    "**GPT-2 Confusion Matrix:**\n",
    "- True Positives: 134\n",
    "- False Negatives: 5\n",
    "- False Positives: 2\n",
    "- True Negatives: 859\n",
    "\n",
    "**BERT Confusion Matrix:**\n",
    "- True Positives: 131\n",
    "- False Negatives: 8\n",
    "- False Positives: 0\n",
    "- True Negatives: 861\n",
    "\n",
    "---\n",
    "\n",
    "### Conclusion:\n",
    "\n",
    "- **GPT-2** is slightly better at detecting more spam messages (higher recall) but introduces a few false positives.\n",
    "- **BERT** is extremely conservative, with perfect precision (never marking ham as spam) but at the cost of slightly lower recall.\n",
    "- Depending on the priority (avoiding false alarms vs. detecting all spam), either model is an excellent choice.\n",
    "\n",
    "For applications where false positives are critical (e.g., not blocking legitimate messages), **BERT** may be preferable.\n",
    "If maximizing spam detection is the top priority, **GPT-2** could be a better fit."
   ]
  }
 ],
 "metadata": {
  "kernelspec": {
   "display_name": "nlp_course_env",
   "language": "python",
   "name": "python3"
  },
  "language_info": {
   "codemirror_mode": {
    "name": "ipython",
    "version": 3
   },
   "file_extension": ".py",
   "mimetype": "text/x-python",
   "name": "python",
   "nbconvert_exporter": "python",
   "pygments_lexer": "ipython3",
   "version": "3.10.0"
  }
 },
 "nbformat": 4,
 "nbformat_minor": 5
}
