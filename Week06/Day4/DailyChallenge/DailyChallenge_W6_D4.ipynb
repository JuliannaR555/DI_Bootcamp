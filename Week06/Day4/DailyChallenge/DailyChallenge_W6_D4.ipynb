{
 "cells": [
  {
   "cell_type": "markdown",
   "id": "978c22ff",
   "metadata": {},
   "source": [
    "## Daily Challenge: W6_D4"
   ]
  },
  {
   "cell_type": "markdown",
   "id": "8282c876",
   "metadata": {},
   "source": [
    "### Pinecone Serverless Reranking in Action"
   ]
  },
  {
   "cell_type": "markdown",
   "id": "98ca2362",
   "metadata": {},
   "source": [
    "**Why we are doing this**\n",
    "\n",
    "Reranking models improve search relevance by assigning similarity scores between a query and documents, then reordering results so that the most relevant information appears first. In fields like healthcare, this helps clinicians quickly access critical patient notes.\n",
    "\n",
    "---\n",
    "\n",
    "**Task Overview**\n",
    "\n",
    "You are provided with a step-by-step pipeline. Each numbered step is an action to perform. After each instruction, you’ll find an explanation of what to do and why it matters. Replace each placeholder (like ...) with the correct code or value.\n",
    "\n",
    "---\n",
    "\n",
    "**Part 1 – Load Documents and Execute Reranking Model**\n",
    "\n",
    "1. **Install Pinecone libraries**\n",
    "\n",
    "Install the Pinecone client and notebook helper package to interact with the API and simplify authentication.\n",
    "\n",
    "2. **Authenticate with Pinecone**\n",
    "\n",
    "Check if your environment contains the API key. If not, authenticate securely to avoid hard-coding credentials.\n",
    "\n",
    "3. **Instantiate the Pinecone client**\n",
    "\n",
    "Use your API key and cloud environment (e.g., us-west1-gcp) to initialize a Pinecone client instance.\n",
    "\n",
    "4. **Define your query and example documents**\n",
    "\n",
    "Write a query (e.g., \"Tell me about Apple’s products\") and create five sample documents mixing different meanings of \"apple\" (fruit and company).\n",
    "\n",
    "5. **Call the reranker**\n",
    "\n",
    "Run the bge-reranker-v2-m3 model with your query and documents. Set how many top-ranked results to retrieve.\n",
    "\n",
    "6. **Inspect the reranked results**\n",
    "\n",
    "Print each result’s rank, score, and content. This shows how the reranker prioritizes relevant documents.\n",
    "\n",
    "---\n",
    "\n",
    "**Part 2 – Set Up a Serverless Index for Medical Notes**\n",
    "\n",
    "1. **Install libraries**\n",
    "\n",
    "Install pandas, torch, and transformers to handle data and load the embedding model.\n",
    "\n",
    "2. **Import modules and define environment**\n",
    "\n",
    "Set cloud provider (e.g., AWS) and region. Configure the serverless index with appropriate resource settings.\n",
    "\n",
    "3. **Create or recreate the index**\n",
    "\n",
    "Delete and recreate the index with a dimension matching your embedding model output (e.g., 384).\n",
    "\n",
    "---\n",
    "\n",
    "**Part 3 – Load the Sample Data**\n",
    "\n",
    "1. **Download and read JSONL**\n",
    "\n",
    "Download the sample notes file from GitHub and load it into a DataFrame.\n",
    "\n",
    "2. **Preview the data**\n",
    "\n",
    "Display the first few rows to verify it includes the expected columns: id, embedding, metadata.\n",
    "\n",
    "---\n",
    "\n",
    "**Part 4 – Upsert Data into the Index**\n",
    "\n",
    "1. **Instantiate index client and upsert**\n",
    "\n",
    "Connect to the index and upload the DataFrame to Pinecone using upsert_from_dataframe.\n",
    "\n",
    "2. **Wait for index availability**\n",
    "\n",
    "Check that the data is fully indexed before running queries.\n",
    "\n",
    "---\n",
    "\n",
    "**Part 5 – Run a Semantic Search**\n",
    "\n",
    "1. **Define the embedding function**\n",
    "\n",
    "Use sentence-transformers to create a function that converts text into a vector using a model like all-MiniLM-L6-v2.\n",
    "\n",
    "2. **Run the search query**\n",
    "\n",
    "Write a clinical question, convert it to a vector, and search the index to retrieve the most similar notes.\n",
    "\n",
    "---\n",
    "\n",
    "**Part 6 – Display and Rerank Clinical Notes**\n",
    "\n",
    "1. **Show initial search results**\n",
    "\n",
    "Print each result’s ID, similarity score, and metadata for review.\n",
    "\n",
    "2. **Prepare documents for reranking**\n",
    "\n",
    "Format each result’s metadata into a string and define a refined version of the query.\n",
    "\n",
    "3. **Execute reranking**\n",
    "\n",
    "Call the reranker with the refined query and metadata strings. Choose how many top reranked results to display.\n",
    "\n",
    "4. **Show reranked results**\n",
    "\n",
    "Print each reranked note’s ID, new score, and metadata to see how the ordering changed and improved."
   ]
  },
  {
   "cell_type": "markdown",
   "id": "ac966203",
   "metadata": {},
   "source": [
    "### Part 1: Load Documents & Execute Reranking Model"
   ]
  },
  {
   "cell_type": "markdown",
   "id": "63b3ea47",
   "metadata": {},
   "source": [
    "### Step 1 – Install Pinecone Libraries"
   ]
  },
  {
   "cell_type": "code",
   "execution_count": null,
   "id": "03f714d9",
   "metadata": {},
   "outputs": [],
   "source": [
    "# Install Pinecone core client and notebook helper\n",
    "!pip install pinecone==6.0.1 pinecone-notebooks"
   ]
  },
  {
   "cell_type": "markdown",
   "id": "9763543d",
   "metadata": {},
   "source": [
    "### Step 2 – Authenticate with Pinecone"
   ]
  },
  {
   "cell_type": "code",
   "execution_count": 47,
   "id": "75c72ce9",
   "metadata": {},
   "outputs": [],
   "source": [
    "import os\n",
    "import requests, tempfile, os\n",
    "import pandas as pd\n",
    "from pinecone import Pinecone\n",
    "import os, time, pandas as pd, torch\n",
    "from pinecone import Pinecone, ServerlessSpec\n",
    "from sentence_transformers import SentenceTransformer"
   ]
  },
  {
   "cell_type": "code",
   "execution_count": null,
   "id": "ca80c91c",
   "metadata": {},
   "outputs": [],
   "source": [
    "# Set your API key manually for local development (don't share this!)\n",
    "os.environ[\"PINECONE_API_KEY\"] = \"xxx\"  # remplace par ta vraie clé"
   ]
  },
  {
   "cell_type": "code",
   "execution_count": 26,
   "id": "d302cdd3",
   "metadata": {},
   "outputs": [],
   "source": [
    "# Remplace par ton environnement Pinecone\n",
    "os.environ[\"PINECONE_ENVIRONMENT\"] = \"us-west1-gcp\""
   ]
  },
  {
   "cell_type": "markdown",
   "id": "1c8bc457",
   "metadata": {},
   "source": [
    "Explanation: This snippet ensures your Pinecone API key is available in your environment. If not, it asks for it interactively (especially useful in notebooks)."
   ]
  },
  {
   "cell_type": "markdown",
   "id": "90eaa86c",
   "metadata": {},
   "source": [
    "### Step 3 – Instantiate the Pinecone Client"
   ]
  },
  {
   "cell_type": "code",
   "execution_count": 27,
   "id": "b3df507f",
   "metadata": {},
   "outputs": [],
   "source": [
    "api_key = os.environ[\"PINECONE_API_KEY\"]\n",
    "environment = os.environ.get(\"PINECONE_ENVIRONMENT\")  # ou directement \"us-west1-gcp\"\n",
    "pc = Pinecone(api_key=api_key, environment=environment)"
   ]
  },
  {
   "cell_type": "markdown",
   "id": "ca01b23b",
   "metadata": {},
   "source": [
    "Explanation: The Pinecone object is initialized using your API key and the correct cloud region. This sets up the connection for all future operations."
   ]
  },
  {
   "cell_type": "markdown",
   "id": "f8bea672",
   "metadata": {},
   "source": [
    "### Step 4 – Define Query and Sample Documents"
   ]
  },
  {
   "cell_type": "code",
   "execution_count": 28,
   "id": "f3190ffb",
   "metadata": {},
   "outputs": [],
   "source": [
    "# Define a query and a list of mixed-context documents (fruit and company)\n",
    "query = \"Tell me about Apple's products\"\n",
    "\n",
    "documents = [\n",
    "    \"Apple has recently released the new iPhone with advanced camera features.\",\n",
    "    \"I like eating green apples in the summer.\",\n",
    "    \"The Apple Watch can monitor your heart rate and sleep patterns.\",\n",
    "    \"An apple a day keeps the doctor away.\",\n",
    "    \"Apple's M-series chips are revolutionizing personal computing.\"\n",
    "]"
   ]
  },
  {
   "cell_type": "markdown",
   "id": "a29e0036",
   "metadata": {},
   "source": [
    "Explanation: This query is ambiguous (“Apple”) and the documents include both meanings: the company and the fruit. This allows us to test the reranker's ability to distinguish context."
   ]
  },
  {
   "cell_type": "markdown",
   "id": "2d5118b6",
   "metadata": {},
   "source": [
    "### Step 5 – Call the Reranker"
   ]
  },
  {
   "cell_type": "code",
   "execution_count": 29,
   "id": "591df820",
   "metadata": {},
   "outputs": [],
   "source": [
    "# Apply the reranker to score and reorder documents by relevance to the query\n",
    "from pinecone import RerankModel\n",
    "\n",
    "reranked = pc.inference.rerank(\n",
    "    model=\"bge-reranker-v2-m3\",\n",
    "    query=query,\n",
    "    documents=[{\"id\": str(i), \"text\": doc} for i, doc in enumerate(documents)],\n",
    "    top_n=3  # Only keep the top 3 most relevant documents\n",
    ")"
   ]
  },
  {
   "cell_type": "markdown",
   "id": "ad25f2c5",
   "metadata": {},
   "source": [
    "Explanation: This reranking model scores the similarity between the query and each document, and returns the top 3 by relevance."
   ]
  },
  {
   "cell_type": "markdown",
   "id": "b5cb7afc",
   "metadata": {},
   "source": [
    "### Step 6 – Display Reranked Results"
   ]
  },
  {
   "cell_type": "code",
   "execution_count": 30,
   "id": "45a65c9d",
   "metadata": {},
   "outputs": [
    {
     "name": "stdout",
     "output_type": "stream",
     "text": [
      "Query: Tell me about Apple's products\n",
      "1. [Score: 0.0771] Apple's M-series chips are revolutionizing personal computing.\n",
      "2. [Score: 0.0356] Apple has recently released the new iPhone with advanced camera features.\n",
      "3. [Score: 0.0217] The Apple Watch can monitor your heart rate and sleep patterns.\n"
     ]
    }
   ],
   "source": [
    "# Function to safely print reranked results using correct .data field\n",
    "def show_reranked(query, matches):\n",
    "    print(f\"Query: {query}\")\n",
    "    if not matches:\n",
    "        print(\"No results returned from reranking.\")\n",
    "        return\n",
    "    for i, m in enumerate(matches):\n",
    "        try:\n",
    "            print(f\"{i+1}. [Score: {m.score:.4f}] {m.document['text']}\")\n",
    "        except Exception as e:\n",
    "            print(f\"{i+1}. Error accessing match data: {e}\")\n",
    "\n",
    "# Call with correct field\n",
    "show_reranked(query, reranked.data)"
   ]
  },
  {
   "cell_type": "markdown",
   "id": "e09bb380",
   "metadata": {},
   "source": [
    "**Interpretation of the Reranked Results**\n",
    "\n",
    "**Query:** Tell me about Apple's products\n",
    "\n",
    "The reranking model evaluated the semantic similarity between the query and the candidate documents. Here’s the interpretation of the top results:\n",
    "\n",
    "1. **\"Apple's M-series chips are revolutionizing personal computing.\"**  \n",
    "   → Highest score and most relevant. This sentence directly relates to a key hardware product from Apple Inc., aligning strongly with the query.\n",
    "\n",
    "2. **\"Apple has recently released the new iPhone with advanced camera features.\"**  \n",
    "   → Very relevant. It mentions a major Apple product (iPhone), though slightly less technical or core than the first result.\n",
    "\n",
    "3. **\"The Apple Watch can monitor your heart rate and sleep patterns.\"**  \n",
    "   → Relevant but less directly aligned. The Apple Watch is a product, but the focus on health monitoring makes it a weaker match.\n",
    "\n",
    "**Not returned:**  \n",
    "Sentences about the fruit (e.g., \"An apple a day keeps the doctor away\") were excluded, showing that the reranker correctly distinguished between the fruit and the company.\n",
    "\n",
    "**Conclusion:** The model demonstrates contextual understanding, going beyond keywords to capture intent and meaning."
   ]
  },
  {
   "cell_type": "markdown",
   "id": "022ce0a0",
   "metadata": {},
   "source": [
    "### Partie 2 : Setup a Serverless Index for Medical Notes"
   ]
  },
  {
   "cell_type": "markdown",
   "id": "b9887283",
   "metadata": {},
   "source": [
    "#### Step 1 – Import Modules and Define Environment Settings"
   ]
  },
  {
   "cell_type": "code",
   "execution_count": 34,
   "id": "1cf50e61",
   "metadata": {},
   "outputs": [],
   "source": [
    "# Define your deployment environment\n",
    "cloud = \"aws\"\n",
    "region = \"us-east-1\"\n",
    "\n",
    "# Create the serverless configuration with cloud and region\n",
    "spec = ServerlessSpec(cloud=cloud, region=region)\n",
    "\n",
    "# Initialize Pinecone client\n",
    "pc = Pinecone(api_key=os.environ[\"PINECONE_API_KEY\"], environment=f\"{cloud}-{region}\")"
   ]
  },
  {
   "cell_type": "markdown",
   "id": "9ba4aec9",
   "metadata": {},
   "source": [
    "Explanation:\n",
    "You choose the cloud provider and region based on your Pinecone project configuration. ServerlessSpec defines the computational resources for your index. Finally, we instantiate the Pinecone client."
   ]
  },
  {
   "cell_type": "markdown",
   "id": "7923a7af",
   "metadata": {},
   "source": [
    "#### Step 2 – Create or Recreate the Serverless Index"
   ]
  },
  {
   "cell_type": "code",
   "execution_count": 36,
   "id": "8487d90a",
   "metadata": {},
   "outputs": [
    {
     "data": {
      "text/plain": [
       "{\n",
       "    \"name\": \"pinecone-reranker\",\n",
       "    \"metric\": \"cosine\",\n",
       "    \"host\": \"pinecone-reranker-duhgekd.svc.aped-4627-b74a.pinecone.io\",\n",
       "    \"spec\": {\n",
       "        \"serverless\": {\n",
       "            \"cloud\": \"aws\",\n",
       "            \"region\": \"us-east-1\"\n",
       "        }\n",
       "    },\n",
       "    \"status\": {\n",
       "        \"ready\": true,\n",
       "        \"state\": \"Ready\"\n",
       "    },\n",
       "    \"vector_type\": \"dense\",\n",
       "    \"dimension\": 384,\n",
       "    \"deletion_protection\": \"disabled\",\n",
       "    \"tags\": null\n",
       "}"
      ]
     },
     "execution_count": 36,
     "metadata": {},
     "output_type": "execute_result"
    }
   ],
   "source": [
    "# Define index name\n",
    "index_name = \"pinecone-reranker\"\n",
    "\n",
    "# Remove existing index if present\n",
    "if pc.has_index(index_name):\n",
    "    pc.delete_index(index_name)\n",
    "\n",
    "# Create a new serverless index with the proper spec argument\n",
    "pc.create_index(\n",
    "    name=index_name,\n",
    "    dimension=384,  # must match your embedding model output\n",
    "    spec=spec       # pass the serverless spec object\n",
    ")"
   ]
  },
  {
   "cell_type": "markdown",
   "id": "19c80ce4",
   "metadata": {},
   "source": [
    "### Part 3: Load the Sample Data"
   ]
  },
  {
   "cell_type": "markdown",
   "id": "d26daa6c",
   "metadata": {},
   "source": [
    "#### Step 1 – Download & Load JSONL File"
   ]
  },
  {
   "cell_type": "code",
   "execution_count": 41,
   "id": "8e4fd6ad",
   "metadata": {},
   "outputs": [
    {
     "name": "stdout",
     "output_type": "stream",
     "text": [
      "Loaded DataFrame:\n",
      "     id                                          embedding  \\\n",
      "0  P011  [-0.2027486265, 0.2769146562, -0.1509393603, 0...   \n",
      "1  P001  [0.1842793673, 0.4459365904, -0.0770567134, 0....   \n",
      "2  P002  [-0.2040648609, -0.1739618927, -0.2897160649, ...   \n",
      "3  P003  [0.1889383644, 0.2924542725, -0.2335938066, -0...   \n",
      "4  P004  [-0.12171068040000001, 0.1674752235, -0.231888...   \n",
      "\n",
      "                                            metadata  \n",
      "0  {'advice': 'rest, hydrate', 'symptoms': 'heada...  \n",
      "1  {'tests': 'EKG, stress test', 'symptoms': 'che...  \n",
      "2  {'HbA1c': '7.2', 'condition': 'diabetes', 'med...  \n",
      "3  {'symptoms': 'cough, wheezing', 'diagnosis': '...  \n",
      "4  {'referral': 'dermatology', 'condition': 'susp...  \n"
     ]
    }
   ],
   "source": [
    "with tempfile.TemporaryDirectory() as tmpdir:\n",
    "    file_path = os.path.join(tmpdir, \"sample_notes_data.jsonl\")\n",
    "    url = \"https://raw.githubusercontent.com/pinecone-io/examples/refs/heads/master/docs/data/sample_notes_data.jsonl\"\n",
    "    \n",
    "    resp = requests.get(url)\n",
    "    resp.raise_for_status()\n",
    "    with open(file_path, \"wb\") as f:\n",
    "        f.write(resp.content)\n",
    "\n",
    "    df = pd.read_json(file_path, orient='records', lines=True)\n",
    "\n",
    "# Rename 'values' column to 'embedding' if needed for compatibility\n",
    "if 'values' in df.columns and 'embedding' not in df.columns:\n",
    "    df.rename(columns={\"values\": \"embedding\"}, inplace=True)\n",
    "\n",
    "# Preview the loaded DataFrame\n",
    "print(\"Loaded DataFrame:\")\n",
    "print(df.head())"
   ]
  },
  {
   "cell_type": "markdown",
   "id": "e98dc5c6",
   "metadata": {},
   "source": [
    "**Interpretation of the Medical Notes DataFrame**\n",
    "\n",
    "The dataset simulates clinical notes, where each row represents a patient case. Here's how to interpret the columns:\n",
    "\n",
    "- **id**:  \n",
    "  A unique identifier for each medical note (e.g., \"P001\").  \n",
    "  → This will be used as the document ID in the Pinecone index.\n",
    "\n",
    "- **embedding** (originally named values):  \n",
    "  A list of 384 float values representing the semantic embedding of the note.  \n",
    "  → These embeddings capture the meaning of the note and enable semantic search.\n",
    "\n",
    "- **metadata**:  \n",
    "  A dictionary containing relevant clinical context. It can include:\n",
    "  - Symptoms (e.g., \"headache\", \"chest pain\")\n",
    "  - Diagnoses (e.g., \"asthma\", \"diabetes\")\n",
    "  - Tests, advice, prescriptions, or referrals\n",
    "\n",
    "This structure is well-suited for testing reranking models because:\n",
    "- Embeddings support initial semantic search.\n",
    "- Metadata provides rich textual context to refine search results through reranking."
   ]
  },
  {
   "cell_type": "markdown",
   "id": "d5125d56",
   "metadata": {},
   "source": [
    "### Part 4: Upsert Data into the Index"
   ]
  },
  {
   "cell_type": "markdown",
   "id": "70bed0ba",
   "metadata": {},
   "source": [
    "#### Step 1 – Instantiate Index Client and Upsert Data"
   ]
  },
  {
   "cell_type": "code",
   "execution_count": 45,
   "id": "857ebe34",
   "metadata": {},
   "outputs": [
    {
     "name": "stdout",
     "output_type": "stream",
     "text": [
      "Index(['id', 'values', 'metadata'], dtype='object')\n"
     ]
    },
    {
     "data": {
      "application/vnd.jupyter.widget-view+json": {
       "model_id": "dd5107973f9c45d08ab12ca6e20cbac4",
       "version_major": 2,
       "version_minor": 0
      },
      "text/plain": [
       "sending upsert requests:   0%|          | 0/100 [00:00<?, ?it/s]"
      ]
     },
     "metadata": {},
     "output_type": "display_data"
    },
    {
     "data": {
      "text/plain": [
       "{'upserted_count': 100}"
      ]
     },
     "execution_count": 45,
     "metadata": {},
     "output_type": "execute_result"
    }
   ],
   "source": [
    "# Rename 'embedding' to 'values' for Pinecone compatibility\n",
    "df.rename(columns={\"embedding\": \"values\"}, inplace=True)\n",
    "\n",
    "# Preview structure after renaming\n",
    "print(df.columns)\n",
    "\n",
    "# Connect to the index\n",
    "index = pc.Index(index_name)\n",
    "\n",
    "# Upsert into Pinecone\n",
    "index.upsert_from_dataframe(df)"
   ]
  },
  {
   "cell_type": "code",
   "execution_count": 46,
   "id": "b5aa49c0",
   "metadata": {},
   "outputs": [
    {
     "name": "stdout",
     "output_type": "stream",
     "text": [
      "{'dimension': 384,\n",
      " 'index_fullness': 0.0,\n",
      " 'metric': 'cosine',\n",
      " 'namespaces': {'': {'vector_count': 100}},\n",
      " 'total_vector_count': 100,\n",
      " 'vector_type': 'dense'}\n"
     ]
    }
   ],
   "source": [
    "print(index.describe_index_stats())"
   ]
  },
  {
   "cell_type": "markdown",
   "id": "8c9615fe",
   "metadata": {},
   "source": [
    "**Index Availability Check**\n",
    "\n",
    "Although the tutorial includes a polling loop to wait for indexing, the successful message:\n",
    "\n",
    "```python\n",
    "{'upserted_count': 100}"
   ]
  },
  {
   "cell_type": "code",
   "execution_count": 44,
   "id": "bd32c72e",
   "metadata": {},
   "outputs": [
    {
     "name": "stdout",
     "output_type": "stream",
     "text": [
      "Index(['id', 'embedding', 'metadata'], dtype='object')\n",
      "id           object\n",
      "embedding    object\n",
      "metadata     object\n",
      "dtype: object\n",
      "id                                                        P011\n",
      "embedding    [-0.2027486265, 0.2769146562, -0.1509393603, 0...\n",
      "metadata     {'advice': 'rest, hydrate', 'symptoms': 'heada...\n",
      "Name: 0, dtype: object\n"
     ]
    }
   ],
   "source": [
    "print(df.columns)\n",
    "print(df.dtypes)\n",
    "print(df.iloc[0])"
   ]
  },
  {
   "cell_type": "markdown",
   "id": "1facb2db",
   "metadata": {},
   "source": [
    "**Upsert Successful: What It Means**\n",
    "\n",
    "You have successfully inserted 100 clinical notes into your Pinecone index. Here's what that confirms:\n",
    "\n",
    "- **Each record includes:**\n",
    "  - An id (e.g., \"P001\"): a unique identifier for the note.\n",
    "  - A values field: the 384-dimensional embedding vector representing the semantic content of the note.\n",
    "  - A metadata field: structured information (e.g., symptoms, diagnoses, prescriptions).\n",
    "\n",
    "- **Result:**\n",
    "  - Pinecone now stores and indexes these 100 vectors.\n",
    "  - You are ready to perform **semantic search** on this dataset using embedding queries.\n",
    "  - You can then apply **reranking** to reorder the most relevant notes based on metadata and context.\n",
    "\n",
    "Next, you'll define a query, embed it using a sentence-transformer model, and perform your first semantic search."
   ]
  },
  {
   "cell_type": "markdown",
   "id": "846f3c1a",
   "metadata": {},
   "source": [
    "### Partie 5 : Query & Embedding Function"
   ]
  },
  {
   "cell_type": "markdown",
   "id": "53746e61",
   "metadata": {},
   "source": [
    "#### Step 1 – Define Your Embedding Function"
   ]
  },
  {
   "cell_type": "code",
   "execution_count": 48,
   "id": "89274219",
   "metadata": {},
   "outputs": [],
   "source": [
    "# Load the pre-trained model (384-dim compatible with your index)\n",
    "model = SentenceTransformer(\"all-MiniLM-L6-v2\")\n",
    "\n",
    "# Function to convert a text query into a dense embedding vector\n",
    "def get_embedding(text):\n",
    "    return model.encode(text).tolist()"
   ]
  },
  {
   "cell_type": "markdown",
   "id": "46fd4fea",
   "metadata": {},
   "source": [
    "Explanation:\n",
    "The model \"all-MiniLM-L6-v2\" outputs 384-dimensional vectors, which matches your Pinecone index's dimension."
   ]
  },
  {
   "cell_type": "markdown",
   "id": "f1833ef8",
   "metadata": {},
   "source": [
    "#### Step 2 – Run a Semantic Search Query"
   ]
  },
  {
   "cell_type": "code",
   "execution_count": 59,
   "id": "a2a481cf",
   "metadata": {},
   "outputs": [],
   "source": [
    "# Define a clinical question\n",
    "question = \"what if my patient has chest pain?\"\n",
    "\n",
    "# Convert question to embedding\n",
    "emb = get_embedding(question)\n",
    "\n",
    "# Query Pinecone index using this embedding\n",
    "results = index.query(vector=emb, top_k=5, include_metadata=True)\n",
    "\n",
    "# Sort results by similarity score\n",
    "matches = sorted(results.matches, key=lambda m: m.score, reverse=True)"
   ]
  },
  {
   "cell_type": "code",
   "execution_count": 60,
   "id": "a60fe9bd",
   "metadata": {},
   "outputs": [],
   "source": [
    "# Use clinical search results (from 'question' with 'chest pain')\n",
    "rerank_docs = [\n",
    "    {\n",
    "        \"id\": m.id,\n",
    "        \"reranking_field\": \"; \".join([f\"{k}: {v}\" for k, v in m.metadata.items()])\n",
    "    }\n",
    "    for m in matches\n",
    "]\n",
    "\n",
    "rerank_query = \"Evaluate chest-related symptoms and diagnostic tests\""
   ]
  },
  {
   "cell_type": "markdown",
   "id": "ce63f345",
   "metadata": {},
   "source": [
    "Explanation:\n",
    "This step retrieves the top 5 most semantically similar medical notes from the index using your query."
   ]
  },
  {
   "cell_type": "markdown",
   "id": "7ae7ac71",
   "metadata": {},
   "source": [
    "**Semantic Search Completed (Part 5)**\n",
    "\n",
    "We successfully ran a semantic query against our indexed medical notes:\n",
    "\n",
    "- Used the all-MiniLM-L6-v2 model to encode a clinical question into a vector.\n",
    "- Queried the Pinecone index using index.query(...).\n",
    "- Retrieved the top 5 most relevant notes based on vector similarity.\n",
    "\n",
    "The results (matches) are now ready to be visualized and reranked using metadata and a refined query."
   ]
  },
  {
   "cell_type": "markdown",
   "id": "7502d6ef",
   "metadata": {},
   "source": [
    "### Part 6: Display & Rerank Clinical Notes"
   ]
  },
  {
   "cell_type": "markdown",
   "id": "af45fa66",
   "metadata": {},
   "source": [
    "#### Step 1 – Display Initial Search Results"
   ]
  },
  {
   "cell_type": "code",
   "execution_count": 61,
   "id": "6e9e08cb",
   "metadata": {},
   "outputs": [
    {
     "name": "stdout",
     "output_type": "stream",
     "text": [
      "Question: what if my patient has chest pain?\n",
      "1. ID: P001 | Score: 0.7128 | Metadata: {'symptoms': 'chest pain', 'tests': 'EKG, stress test'}\n",
      "2. ID: P016 | Score: 0.4676 | Metadata: {'condition': 'heart murmur', 'referral': 'cardiology'}\n",
      "3. ID: P0100 | Score: 0.4450 | Metadata: {'advice': 'over-the-counter pain relief, stretching', 'symptoms': 'muscle pain'}\n",
      "4. ID: P047 | Score: 0.4145 | Metadata: {'symptoms': 'back pain', 'treatment': 'physical therapy'}\n",
      "5. ID: P095 | Score: 0.4145 | Metadata: {'symptoms': 'back pain', 'treatment': 'physical therapy'}\n"
     ]
    }
   ],
   "source": [
    "# Show the initial top-k search results with their metadata\n",
    "def show_results(q, matches):\n",
    "    print(f\"Question: {q}\")\n",
    "    for i, m in enumerate(matches):\n",
    "        print(f\"{i+1}. ID: {m.id} | Score: {m.score:.4f} | Metadata: {m.metadata}\")\n",
    "\n",
    "# Call display function\n",
    "show_results(question, matches)"
   ]
  },
  {
   "cell_type": "markdown",
   "id": "7e22e44f",
   "metadata": {},
   "source": [
    "Explanation:\n",
    "This prints each note’s ID, similarity score, and metadata for review before reranking."
   ]
  },
  {
   "cell_type": "markdown",
   "id": "8fa86279",
   "metadata": {},
   "source": [
    "#### Step 2 – Prepare Documents for Reranking"
   ]
  },
  {
   "cell_type": "code",
   "execution_count": 62,
   "id": "86011266",
   "metadata": {},
   "outputs": [],
   "source": [
    "reranked = pc.inference.rerank(\n",
    "    model=\"bge-reranker-v2-m3\",\n",
    "    query=rerank_query,\n",
    "    documents=rerank_docs,\n",
    "    rank_fields=[\"reranking_field\"],\n",
    "    top_n=3\n",
    ")"
   ]
  },
  {
   "cell_type": "markdown",
   "id": "5ccbb9c1",
   "metadata": {},
   "source": [
    "Explanation:\n",
    "You provide a more specific clinical question and compress metadata into a single string (reranking_field) for each document."
   ]
  },
  {
   "cell_type": "markdown",
   "id": "47a05d8b",
   "metadata": {},
   "source": [
    "#### Step 3 – Execute Serverless Reranking"
   ]
  },
  {
   "cell_type": "code",
   "execution_count": 63,
   "id": "158cb1fc",
   "metadata": {},
   "outputs": [
    {
     "name": "stdout",
     "output_type": "stream",
     "text": [
      "Refined Query: Evaluate chest-related symptoms and diagnostic tests\n",
      "1. ID: P001 | Score: 0.7921 | Metadata: symptoms: chest pain; tests: EKG, stress test\n",
      "2. ID: P016 | Score: 0.0019 | Metadata: condition: heart murmur; referral: cardiology\n",
      "3. ID: P0100 | Score: 0.0015 | Metadata: advice: over-the-counter pain relief, stretching; symptoms: muscle pain\n"
     ]
    }
   ],
   "source": [
    "def show_reranked(q, matches):\n",
    "    print(f\"Refined Query: {q}\")\n",
    "    for i, m in enumerate(matches):\n",
    "        print(f\"{i+1}. ID: {m.document.id} | Score: {m.score:.4f} | Metadata: {m.document.reranking_field}\")\n",
    "\n",
    "show_reranked(rerank_query, reranked.data)"
   ]
  },
  {
   "cell_type": "markdown",
   "id": "29a4a1a7",
   "metadata": {},
   "source": [
    "**Final Interpretation of Reranked Clinical Notes**\n",
    "\n",
    "**Refined Query:**  \n",
    "Evaluate chest-related symptoms and diagnostic tests\n",
    "\n",
    "The reranker re-scored the top 5 semantic matches using only their metadata fields. Here’s what the results indicate:\n",
    "\n",
    "1. **P001 | Score: 0.7921**  \n",
    "   - symptoms: chest pain; tests: EKG, stress test`  \n",
    "   → Highly relevant. The patient presents chest pain and has diagnostic tests, matching the refined query exactly.\n",
    "\n",
    "2. **P016 | Score: 0.0019**  \n",
    "   - condition: heart murmur; referral: cardiology  \n",
    "   → Weak match. Although heart-related, it lacks direct mention of chest pain or diagnostic procedures.\n",
    "\n",
    "3. **P0100 | Score: 0.0015**  \n",
    "   - symptoms: muscle pain; advice: over-the-counter pain relief  \n",
    "   → Very weak match. Unrelated to chest symptoms or diagnostic tests.\n",
    "\n",
    "**Conclusion:**  \n",
    "The reranker successfully pushed the most relevant note (P001) to the top, refining the initial semantic search results using clinical context from metadata. This is crucial in medical scenarios where nuance matters."
   ]
  }
 ],
 "metadata": {
  "kernelspec": {
   "display_name": "nlp_course_env",
   "language": "python",
   "name": "python3"
  },
  "language_info": {
   "codemirror_mode": {
    "name": "ipython",
    "version": 3
   },
   "file_extension": ".py",
   "mimetype": "text/x-python",
   "name": "python",
   "nbconvert_exporter": "python",
   "pygments_lexer": "ipython3",
   "version": "3.10.0"
  }
 },
 "nbformat": 4,
 "nbformat_minor": 5
}
