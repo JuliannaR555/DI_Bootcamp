{
 "cells": [
  {
   "cell_type": "markdown",
   "id": "0c06afe7",
   "metadata": {},
   "source": [
    "### Daily Challenge: W6_D3"
   ]
  },
  {
   "cell_type": "markdown",
   "id": "c5611aa1",
   "metadata": {},
   "source": [
    "### Build a Retrieval Augmented Generation (RAG) System"
   ]
  },
  {
   "cell_type": "markdown",
   "id": "b3038282",
   "metadata": {},
   "source": [
    "* **RAG Daily Challenge – Goal**\n",
    "\n",
    "Build a functional Retrieval Augmented Generation (RAG) system that can answer questions based on a dataset loaded from Hugging Face Datasets. The system should:\n",
    "\n",
    "- Load the databricks/databricks-dolly-15k dataset\n",
    "- Index the dataset content into a vector store\n",
    "- Use a pre-trained model from Hugging Face\n",
    "- Answer user queries by retrieving relevant documents and generating answers from them\n",
    "\n",
    "---\n",
    "\n",
    "* **Mandatory Prerequisites**\n",
    "\n",
    "- Read the article: *Faiss | LangChain*\n",
    "- Watch the videos:\n",
    "  - *PyTorch in 100 Seconds*\n",
    "  - *LangChain Explained in 13 Minutes*\n",
    "\n",
    "---\n",
    "\n",
    "* **Task Overview**\n",
    "\n",
    "Our task is to implement a full RAG system using LangChain and Hugging Face libraries.\n",
    "\n",
    "---\n",
    "\n",
    "* **Step 1 – Set up your environment**\n",
    "\n",
    "Ensure your Python environment includes:\n",
    "- LangChain\n",
    "- Transformers\n",
    "- Torch\n",
    "- Sentence-Transformers\n",
    "- Hugging Face Datasets\n",
    "- FAISS (CPU version)\n",
    "- Langchain Community extensions\n",
    "\n",
    "These tools cover dataset loading, text embedding, vector indexing, and LLM orchestration.\n",
    "\n",
    "---\n",
    "\n",
    "* **Step 2 – Load the Dataset**\n",
    "\n",
    "Use the HuggingFaceDatasetLoader to load the dataset databricks/databricks-dolly-15k, specifying \"context\" as the field containing the content to be processed into documents.\n",
    "\n",
    "---\n",
    "\n",
    "* **Step 3 – Split Documents**\n",
    "\n",
    "Split long documents into smaller chunks to fit LLM context limits. Use RecursiveCharacterTextSplitter with a chunk size of 1000 characters and an overlap of 150 characters.\n",
    "\n",
    "---\n",
    "\n",
    "* **Step 4 – Generate Embeddings**\n",
    "\n",
    "Use a sentence-transformer model (e.g., all-MiniLM-L6-v2) to convert document chunks into dense semantic embeddings.\n",
    "\n",
    "This enables similarity-based retrieval in the next step.\n",
    "\n",
    "---\n",
    "\n",
    "* **Step 5 – Create the Vector Store**\n",
    "\n",
    "Use FAISS to create a vector index from the embeddings. This allows fast document retrieval based on similarity to a query.\n",
    "\n",
    "---\n",
    "\n",
    "* **Step 6 – Load a Language Model**\n",
    "\n",
    "Load a pre-trained LLM from Hugging Face. Wrap it in a LangChain-compatible pipeline.\n",
    "\n",
    "Initially, a QA model like Intel/dynamic_tinybert may be used, but it may require a switch to a generative model (like flan-t5-base) for full compatibility.\n",
    "\n",
    "---\n",
    "\n",
    "* **Step 7 – Build the Retrieval QA Chain**\n",
    "\n",
    "Create a retriever from your FAISS index, and connect it with the LLM using RetrievalQA.  \n",
    "The chain type \"refine\" or \"stuff\" can be used depending on the desired behavior.\n",
    "\n",
    "---\n",
    "\n",
    "* **Step 8 – Test Your System** \n",
    "\n",
    "Pose a natural-language question (e.g. \"What is cheesemaking?\") and check if the system retrieves relevant documents and generates a meaningful answer."
   ]
  },
  {
   "cell_type": "markdown",
   "id": "a0cfb170",
   "metadata": {},
   "source": [
    "### 1. Setup your environment"
   ]
  },
  {
   "cell_type": "code",
   "execution_count": null,
   "id": "4953a709",
   "metadata": {},
   "outputs": [],
   "source": [
    "!pip install -q langchain\n",
    "!pip install -q torch\n",
    "!pip install -q transformers\n",
    "!pip install -q sentence-transformers\n",
    "!pip install -q datasets\n",
    "!pip install -q faiss-cpu\n",
    "!pip install -U langchain-community"
   ]
  },
  {
   "cell_type": "markdown",
   "id": "ef4a2a52",
   "metadata": {},
   "source": [
    "### 2. Verify installations and imports"
   ]
  },
  {
   "cell_type": "code",
   "execution_count": 28,
   "id": "454ead27",
   "metadata": {},
   "outputs": [],
   "source": [
    "from langchain import HuggingFacePipeline\n",
    "import torch\n",
    "import transformers\n",
    "import sentence_transformers\n",
    "import datasets\n",
    "import faiss\n",
    "import umap\n",
    "import matplotlib.pyplot as plt\n",
    "from langchain.vectorstores import FAISS\n",
    "from langchain.chains import RetrievalQA\n",
    "from transformers import AutoTokenizer, AutoModelForQuestionAnswering, pipeline\n",
    "from langchain_community.document_loaders import HuggingFaceDatasetLoader\n",
    "from langchain.text_splitter import RecursiveCharacterTextSplitter\n",
    "from langchain.embeddings import HuggingFaceEmbeddings\n",
    "from transformers import AutoTokenizer, AutoModelForSeq2SeqLM, pipeline"
   ]
  },
  {
   "cell_type": "code",
   "execution_count": 3,
   "id": "22e0ec45",
   "metadata": {},
   "outputs": [
    {
     "name": "stdout",
     "output_type": "stream",
     "text": [
      "torch version: 2.7.1+cpu\n",
      "transformers version: 4.53.2\n",
      "sentence-transformers version: 5.0.0\n",
      "datasets version: 4.0.0\n"
     ]
    }
   ],
   "source": [
    "# Print versions to ensure successful imports\n",
    "print(\"torch version:\", torch.__version__)\n",
    "print(\"transformers version:\", transformers.__version__)\n",
    "print(\"sentence-transformers version:\", sentence_transformers.__version__)\n",
    "print(\"datasets version:\", datasets.__version__)"
   ]
  },
  {
   "cell_type": "markdown",
   "id": "951086fb",
   "metadata": {},
   "source": [
    "### Step 2 – Load the dataset from Hugging Face"
   ]
  },
  {
   "cell_type": "code",
   "execution_count": 4,
   "id": "b2e285f6",
   "metadata": {},
   "outputs": [
    {
     "name": "stdout",
     "output_type": "stream",
     "text": [
      "[Document(metadata={'instruction': 'When did Virgin Australia start operating?', 'response': 'Virgin Australia commenced services on 31 August 2000 as Virgin Blue, with two aircraft on a single route.', 'category': 'closed_qa'}, page_content='\"Virgin Australia, the trading name of Virgin Australia Airlines Pty Ltd, is an Australian-based airline. It is the largest airline by fleet size to use the Virgin brand. It commenced services on 31 August 2000 as Virgin Blue, with two aircraft on a single route. It suddenly found itself as a major airline in Australia\\'s domestic market after the collapse of Ansett Australia in September 2001. The airline has since grown to directly serve 32 cities in Australia, from hubs in Brisbane, Melbourne and Sydney.\"'), Document(metadata={'instruction': 'Which is a species of fish? Tope or Rope', 'response': 'Tope', 'category': 'classification'}, page_content='\"\"')]\n"
     ]
    }
   ],
   "source": [
    "# Define the dataset name and the column that contains the main text\n",
    "dataset_name = \"databricks/databricks-dolly-15k\"\n",
    "page_content_column = \"context\"\n",
    "\n",
    "# Create a loader for the dataset\n",
    "loader = HuggingFaceDatasetLoader(dataset_name, page_content_column)\n",
    "\n",
    "# Load the dataset as LangChain documents\n",
    "data = loader.load()\n",
    "\n",
    "# Optional: print the first two documents to check\n",
    "print(data[:2])"
   ]
  },
  {
   "cell_type": "markdown",
   "id": "63fe0d75",
   "metadata": {},
   "source": [
    "### Step 3 – Split documents into chunks for processing"
   ]
  },
  {
   "cell_type": "code",
   "execution_count": 5,
   "id": "5b724cb0",
   "metadata": {},
   "outputs": [
    {
     "name": "stdout",
     "output_type": "stream",
     "text": [
      "page_content='\"Virgin Australia, the trading name of Virgin Australia Airlines Pty Ltd, is an Australian-based airline. It is the largest airline by fleet size to use the Virgin brand. It commenced services on 31 August 2000 as Virgin Blue, with two aircraft on a single route. It suddenly found itself as a major airline in Australia's domestic market after the collapse of Ansett Australia in September 2001. The airline has since grown to directly serve 32 cities in Australia, from hubs in Brisbane, Melbourne and Sydney.\"' metadata={'instruction': 'When did Virgin Australia start operating?', 'response': 'Virgin Australia commenced services on 31 August 2000 as Virgin Blue, with two aircraft on a single route.', 'category': 'closed_qa'}\n"
     ]
    }
   ],
   "source": [
    "# Create a text splitter with chunk size of 1000 characters and 150 character overlap\n",
    "text_splitter = RecursiveCharacterTextSplitter(\n",
    "    chunk_size=1000,      # Maximum size of each chunk\n",
    "    chunk_overlap=150     # Overlap between chunks to preserve context\n",
    ")\n",
    "\n",
    "# Apply the splitter to the loaded documents\n",
    "docs = text_splitter.split_documents(data)\n",
    "\n",
    "# Optional: print the first resulting document chunk\n",
    "print(docs[0])"
   ]
  },
  {
   "cell_type": "markdown",
   "id": "8a3775f1",
   "metadata": {},
   "source": [
    "### Step 4 - Generate text embeddings for your documents"
   ]
  },
  {
   "cell_type": "code",
   "execution_count": null,
   "id": "02d04846",
   "metadata": {},
   "outputs": [],
   "source": [
    "# Define the model to be used for generating embeddings\n",
    "modelPath = \"sentence-transformers/all-MiniLM-L6-v2\"\n",
    "model_kwargs = {'device': 'cpu'}  # Run on CPU\n",
    "encode_kwargs = {'normalize_embeddings': False}  # No normalization applied\n",
    "\n",
    "# Create the embeddings object\n",
    "embeddings = HuggingFaceEmbeddings(\n",
    "    model_name=modelPath,\n",
    "    model_kwargs=model_kwargs,\n",
    "    encode_kwargs=encode_kwargs\n",
    ")\n",
    "\n",
    "# (Optional) Test embedding generation with a simple string\n",
    "text = \"This is a test document.\"\n",
    "query_result = embeddings.embed_query(text)\n",
    "print(query_result[:5])  # Print the first 5 values of the embedding vector"
   ]
  },
  {
   "cell_type": "markdown",
   "id": "fdb4904a",
   "metadata": {},
   "source": [
    "### Step 5 - Build FAISS vector store from documents"
   ]
  },
  {
   "cell_type": "code",
   "execution_count": null,
   "id": "3a3a7f89",
   "metadata": {},
   "outputs": [],
   "source": [
    "# Create a FAISS index from your document chunks and their embeddings\n",
    "db = FAISS.from_documents(docs, embeddings)\n",
    "\n",
    "# The FAISS index is now ready to be used for retrieval"
   ]
  },
  {
   "cell_type": "markdown",
   "id": "17c68bbb",
   "metadata": {},
   "source": [
    "### Step 6 – Load and wrap a Hugging Face QA model"
   ]
  },
  {
   "cell_type": "code",
   "execution_count": null,
   "id": "0608c8c9",
   "metadata": {},
   "outputs": [
    {
     "data": {
      "application/vnd.jupyter.widget-view+json": {
       "model_id": "3872a15ccf684d17a99760a611753c15",
       "version_major": 2,
       "version_minor": 0
      },
      "text/plain": [
       "tokenizer_config.json: 0.00B [00:00, ?B/s]"
      ]
     },
     "metadata": {},
     "output_type": "display_data"
    },
    {
     "name": "stderr",
     "output_type": "stream",
     "text": [
      "c:\\Users\\julia\\Downloads\\GenAI\\GitHub\\nlp_course_env\\lib\\site-packages\\huggingface_hub\\file_download.py:143: UserWarning: `huggingface_hub` cache-system uses symlinks by default to efficiently store duplicated files but your machine does not support them in C:\\Users\\julia\\.cache\\huggingface\\hub\\models--google--flan-t5-base. Caching files will still work but in a degraded version that might require more space on your disk. This warning can be disabled by setting the `HF_HUB_DISABLE_SYMLINKS_WARNING` environment variable. For more details, see https://huggingface.co/docs/huggingface_hub/how-to-cache#limitations.\n",
      "To support symlinks on Windows, you either need to activate Developer Mode or to run Python as an administrator. In order to activate developer mode, see this article: https://docs.microsoft.com/en-us/windows/apps/get-started/enable-your-device-for-development\n",
      "  warnings.warn(message)\n"
     ]
    },
    {
     "data": {
      "application/vnd.jupyter.widget-view+json": {
       "model_id": "e4d0bdf94f1a4c968ea8a444af937435",
       "version_major": 2,
       "version_minor": 0
      },
      "text/plain": [
       "spiece.model:   0%|          | 0.00/792k [00:00<?, ?B/s]"
      ]
     },
     "metadata": {},
     "output_type": "display_data"
    },
    {
     "data": {
      "application/vnd.jupyter.widget-view+json": {
       "model_id": "64d875d298fb44f2b13d56cfa9a0351b",
       "version_major": 2,
       "version_minor": 0
      },
      "text/plain": [
       "tokenizer.json: 0.00B [00:00, ?B/s]"
      ]
     },
     "metadata": {},
     "output_type": "display_data"
    },
    {
     "data": {
      "application/vnd.jupyter.widget-view+json": {
       "model_id": "5014b14d5da3416491e62bc37ff459ad",
       "version_major": 2,
       "version_minor": 0
      },
      "text/plain": [
       "special_tokens_map.json: 0.00B [00:00, ?B/s]"
      ]
     },
     "metadata": {},
     "output_type": "display_data"
    },
    {
     "data": {
      "application/vnd.jupyter.widget-view+json": {
       "model_id": "45980e7a5eeb42e98a92c83b29614bc9",
       "version_major": 2,
       "version_minor": 0
      },
      "text/plain": [
       "config.json: 0.00B [00:00, ?B/s]"
      ]
     },
     "metadata": {},
     "output_type": "display_data"
    },
    {
     "data": {
      "application/vnd.jupyter.widget-view+json": {
       "model_id": "e2460219fe89484095a3ea9ebfd097f4",
       "version_major": 2,
       "version_minor": 0
      },
      "text/plain": [
       "model.safetensors:   0%|          | 0.00/990M [00:00<?, ?B/s]"
      ]
     },
     "metadata": {},
     "output_type": "display_data"
    },
    {
     "data": {
      "application/vnd.jupyter.widget-view+json": {
       "model_id": "ee8a1dcd07b2418aa1fd4f43d0cd1935",
       "version_major": 2,
       "version_minor": 0
      },
      "text/plain": [
       "generation_config.json:   0%|          | 0.00/147 [00:00<?, ?B/s]"
      ]
     },
     "metadata": {},
     "output_type": "display_data"
    },
    {
     "name": "stderr",
     "output_type": "stream",
     "text": [
      "Device set to use cpu\n"
     ]
    }
   ],
   "source": [
    "# Define the model name\n",
    "model_name = \"google/flan-t5-base\"\n",
    "\n",
    "# Load the tokenizer and model\n",
    "tokenizer = AutoTokenizer.from_pretrained(model_name)\n",
    "model = AutoModelForSeq2SeqLM.from_pretrained(model_name)\n",
    "\n",
    "# Create a generation pipeline\n",
    "generator_pipeline = pipeline(\n",
    "    \"text2text-generation\",\n",
    "    model=model,\n",
    "    tokenizer=tokenizer,\n",
    "    max_length=512,\n",
    "    do_sample=False  # deterministic output\n",
    ")\n",
    "\n",
    "# Wrap the pipeline for LangChain\n",
    "llm = HuggingFacePipeline(pipeline=generator_pipeline)"
   ]
  },
  {
   "cell_type": "markdown",
   "id": "d6e26efd",
   "metadata": {},
   "source": [
    "### Step 7 - Create a Retrieval QA Chain"
   ]
  },
  {
   "cell_type": "code",
   "execution_count": 21,
   "id": "2cc6406b",
   "metadata": {},
   "outputs": [],
   "source": [
    "# Create a retriever from the FAISS index\n",
    "retriever = db.as_retriever(search_kwargs={\"k\": 2})  # You can change 'k' for more or fewer documents\n",
    "\n",
    "# Create the QA chain by connecting retriever and LLM\n",
    "qa = RetrievalQA.from_chain_type(\n",
    "    llm=llm,\n",
    "    chain_type=\"refine\",  # or \"stuff\", \"map_reduce\", etc.\n",
    "    retriever=retriever,\n",
    "    return_source_documents=False\n",
    ")"
   ]
  },
  {
   "cell_type": "markdown",
   "id": "bf5dcaa0",
   "metadata": {},
   "source": [
    "### Step 8 - Run a test query"
   ]
  },
  {
   "cell_type": "code",
   "execution_count": 23,
   "id": "0853029f",
   "metadata": {},
   "outputs": [],
   "source": [
    "qa = RetrievalQA.from_chain_type(\n",
    "    llm=llm,\n",
    "    chain_type=\"stuff\",  # \"stuff\" is faster and less verbose\n",
    "    retriever=retriever,\n",
    "    return_source_documents=False\n",
    ")"
   ]
  },
  {
   "cell_type": "code",
   "execution_count": 24,
   "id": "16c45b96",
   "metadata": {},
   "outputs": [
    {
     "name": "stdout",
     "output_type": "stream",
     "text": [
      "control the spoiling of milk into cheese\n"
     ]
    }
   ],
   "source": [
    "# Define a test question\n",
    "question = \"What is cheesemaking?\"\n",
    "\n",
    "# Run the QA chain on the question\n",
    "result = qa.run({\"query\": question})\n",
    "\n",
    "# Print the answer generated by the model\n",
    "print(result)"
   ]
  },
  {
   "cell_type": "code",
   "execution_count": 25,
   "id": "45ca9d46",
   "metadata": {},
   "outputs": [
    {
     "name": "stdout",
     "output_type": "stream",
     "text": [
      "31 August 2000\n"
     ]
    }
   ],
   "source": [
    "question = \"When did Virgin Australia start operating?\"\n",
    "result = qa.run({\"query\": question})\n",
    "print(result)"
   ]
  },
  {
   "cell_type": "markdown",
   "id": "5815e9ab",
   "metadata": {},
   "source": [
    "### 2D UMAP projection of document embeddings"
   ]
  },
  {
   "cell_type": "code",
   "execution_count": 29,
   "id": "c2b84163",
   "metadata": {},
   "outputs": [
    {
     "data": {
      "image/png": "[encoded data removed]",
      "text/plain": [
       "<Figure size 1000x800 with 1 Axes>"
      ]
     },
     "metadata": {},
     "output_type": "display_data"
    }
   ],
   "source": [
    "# Step 1: Get all embeddings from the FAISS index\n",
    "vectors = db.index.reconstruct_n(0, db.index.ntotal)\n",
    "\n",
    "# Step 2: Import UMAP for dimensionality reduction\n",
    "import umap\n",
    "import matplotlib.pyplot as plt\n",
    "\n",
    "# Reduce dimensions to 2D for visualization\n",
    "reducer = umap.UMAP(n_neighbors=15, min_dist=0.1, metric='cosine')\n",
    "embedding_2d = reducer.fit_transform(vectors)\n",
    "\n",
    "# Step 3: Plot the reduced embeddings\n",
    "plt.figure(figsize=(10, 8))\n",
    "plt.scatter(embedding_2d[:, 0], embedding_2d[:, 1], s=10, alpha=0.7)\n",
    "plt.title(\"2D UMAP projection of document embeddings\")\n",
    "plt.xlabel(\"UMAP 1\")\n",
    "plt.ylabel(\"UMAP 2\")\n",
    "plt.grid(True)\n",
    "plt.show()"
   ]
  },
  {
   "cell_type": "markdown",
   "id": "301c85c8",
   "metadata": {},
   "source": [
    "### RAG System Summary – Markdown Report"
   ]
  },
  {
   "cell_type": "markdown",
   "id": "f5585f04",
   "metadata": {},
   "source": [
    "### 1. Goal\n",
    "\n",
    "The objective was to build a full Retrieval Augmented Generation (RAG) system using:\n",
    "- Hugging Face Datasets and Transformers\n",
    "- Sentence Transformers for embedding\n",
    "- FAISS for vector-based retrieval\n",
    "- LangChain to orchestrate the pipeline\n",
    "\n",
    "---\n",
    "\n",
    "### 2. Pipeline Steps\n",
    "\n",
    "- **Dataset Loading**  \n",
    "  Loaded the databricks/databricks-dolly-15k dataset with HuggingFaceDatasetLoader, using the context field as source text.\n",
    "\n",
    "- **Text Splitting**  \n",
    "  Applied RecursiveCharacterTextSplitter with 1000 character chunks and 150 overlap.\n",
    "\n",
    "- **Embeddings Generation**  \n",
    "  Used sentence-transformers/all-MiniLM-L6-v2 to convert text into dense semantic vectors.\n",
    "\n",
    "- **Vector Indexing**  \n",
    "  Built a FAISS vector store to enable fast similarity search based on these embeddings.\n",
    "\n",
    "- **LLM Integration**  \n",
    "  Initially tried a question-answering model (Intel/dynamic_tinybert) which failed due to format mismatch.  \n",
    "  Replaced with google/flan-t5-base, a generative model compatible with LangChain's text2text prompts.\n",
    "\n",
    "- **RAG Chain Creation**  \n",
    "  Created a RetrievalQA chain with the \"stuff\" chain type, linking FAISS retriever to the LLM.\n",
    "\n",
    "---\n",
    "\n",
    "### Conclusion\n",
    "\n",
    "This project successfully demonstrates the construction of a modular and interpretable Retrieval Augmented Generation (RAG) pipeline using LangChain and Hugging Face tools.\n",
    "\n",
    "The system can retrieve relevant document chunks based on a user query and generate coherent answers using a generative language model. Key insights and interpretations include:\n",
    "\n",
    "- **RAG pipeline logic is working end-to-end**: from dataset loading to retrieval and generation, every component is well connected and functional.\n",
    "  \n",
    "- **Document splitting and embedding strategy matters**: the choice of chunk size and overlap (1000 / 150) preserved context while enabling precise retrieval.\n",
    "\n",
    "- **Embedding model (all-MiniLM-L6-v2) provided useful semantic space**: similar documents are clustered together in embedding space, which facilitates efficient retrieval via FAISS.\n",
    "\n",
    "- **Visualization using UMAP revealed clear document clusters**:\n",
    "  - The dense cluster on the right likely corresponds to highly homogeneous entries (e.g. multiple-choice answers or repeated instructional templates).\n",
    "  - The dispersed cluster on the left may contain more diverse or descriptive contexts (e.g. long-form explanations or open-ended Q&A).\n",
    "  - This separation confirms that the embedding space captures meaningful semantic structure in the dataset.\n",
    "\n",
    "- **Model choice affects RAG compatibility**:\n",
    "  - Question-answering models expect structured input (context + question) and don’t integrate well with LangChain’s open-ended prompt strategy.\n",
    "  - Switching to a text-to-text generative model like flan-t5-base solved compatibility issues and enabled smooth inference.\n",
    "\n",
    "- **Retrieval QA chain with stuff chain type was effective and simple**:\n",
    "  - It avoids context truncation and gives the LLM a complete view of selected documents, suitable for shorter inputs and direct question answering.\n",
    "\n",
    "This foundational RAG system can now be extended for further use cases, including chatbot design, document search, or domain-specific assistants."
   ]
  }
 ],
 "metadata": {
  "kernelspec": {
   "display_name": "nlp_course_env",
   "language": "python",
   "name": "python3"
  },
  "language_info": {
   "codemirror_mode": {
    "name": "ipython",
    "version": 3
   },
   "file_extension": ".py",
   "mimetype": "text/x-python",
   "name": "python",
   "nbconvert_exporter": "python",
   "pygments_lexer": "ipython3",
   "version": "3.10.0"
  }
 },
 "nbformat": 4,
 "nbformat_minor": 5
}
