{
 "cells": [
  {
   "cell_type": "markdown",
   "id": "4317160c",
   "metadata": {},
   "source": [
    "# Exercises XP Gold: W2_D2"
   ]
  },
  {
   "cell_type": "markdown",
   "id": "6aa24aa6",
   "metadata": {},
   "source": [
    "## What You’ll Learn\n",
    "- Perform a comparative analysis of structured and unstructured retail data.\n",
    "- Understand the processing and analysis of structured and unstructured healthcare data.\n",
    "- Gain familiarity with structured data through basic exploration.\n",
    "- Understand the challenges of working with unstructured data and identify structured elements in a public transportation dataset.\n",
    "- Generate a synthetic product catalog for an e-commerce platform using Faker.\n",
    "\n",
    "## What You Will Create\n",
    "- A comparative analysis document discussing the insights from structured and unstructured retail data and the challenges in processing them.\n",
    "- Identification of structured data elements within the E-Commerce dataset.\n",
    "- Categorization of data elements in the dataset as structured or unstructured with justifications.\n",
    "- A Python script using Faker to generate a synthetic product catalog for an e-commerce platform.\n",
    "\n",
    "---\n",
    "\n",
    "## Exercise 1: Comparative Analysis of Retail Data\n",
    "\n",
    "**Dataset:** Use the Retail Dataset for structured data and Women’s E-Commerce Clothing Reviews for unstructured data.\n",
    "\n",
    "**Tasks:**\n",
    "1. Analyze the Retail Dataset focusing on sales trends, customer purchase patterns, and store performance.\n",
    "2. Analyze the Clothing Reviews dataset to extract insights like predominant sentiments, frequently mentioned topics, and overall customer satisfaction.\n",
    "3. Compare the insights you can derive from each dataset and discuss the challenges you faced in processing the unstructured data.\n",
    "\n",
    "---\n",
    "\n",
    "## Exercise 2: Basic Data Exploration in E-Commerce\n",
    "\n",
    "**Dataset:** Use the “E-Commerce Data” dataset.\n",
    "\n",
    "**Tasks:**\n",
    "1. Load the dataset using Pandas and print the first few rows to understand its structure.\n",
    "2. Print basic information about the dataset, like the number of rows, columns, and column names.\n",
    "3. Identify which columns in the dataset represent structured data (like numerical values, dates, fixed categories).\n",
    "4. Suggest what type of unstructured data could complement this dataset for a more comprehensive analysis (e.g., customer reviews, product descriptions).\n",
    "5. Discuss how this unstructured data might be used in conjunction with the structured data.\n",
    "\n",
    "---\n",
    "\n",
    "## Exercise 3: Analyzing a Public Transportation Dataset with a Focus on Data Types\n",
    "\n",
    "**Dataset:** Use the “Metro Interstate Traffic Volume” dataset.\n",
    "\n",
    "**Tasks:**\n",
    "1. Load the dataset and display the first few rows to get a sense of the data.\n",
    "2. Identify and print the structured elements in the dataset, such as date-time, traffic volume, etc.\n",
    "3. Based on your observation of the dataset, categorize the data elements as structured or unstructured, explaining your reasoning.\n",
    "\n",
    "---\n",
    "\n",
    "## Exercise 4: Basic Data Analysis in a Movie Ratings Dataset\n",
    "\n",
    "**Dataset:** Use the “MovieLens Latest Datasets”.\n",
    "\n",
    "**Tasks:**\n",
    "1. Load the `ratings.csv` file from the dataset, which contains user ratings for movies, and display the first few rows.\n",
    "2. Identify and list down the structured elements in the dataset, such as user IDs, movie IDs, ratings, and timestamps.\n",
    "3. Explain why the data elements in the `ratings.csv` file are considered structured data.\n",
    "\n",
    "---\n",
    "\n",
    "## Exercise 5: Creating a Synthetic Product Catalog\n",
    "\n",
    "We want to generate a synthetic product catalog for an e-commerce platform using Faker.\n",
    "\n",
    "**Tasks:**\n",
    "1. Ensure that the Faker library is installed and imported into your Python environment.\n",
    "2. Create a dataset of 500 products. Each product should have a unique ID, name, description, and price.\n",
    "3. Use Pandas to create a DataFrame from the generated data."
   ]
  },
  {
   "cell_type": "markdown",
   "id": "6a5a4720",
   "metadata": {},
   "source": [
    "## Exercise 1 — Comparative Analysis of Retail Data\n",
    "\n",
    "## Objective\n",
    "Perform a comparative analysis between structured retail data and unstructured clothing review data.\n",
    "\n",
    "### Steps\n",
    "1. Structured Data Analysis  \n",
    "   - Merge datasets  \n",
    "   - Analyze sales trends, customer purchase patterns, and store performance\n",
    "\n",
    "2. Unstructured Data Analysis  \n",
    "   - Clean and process text data  \n",
    "   - Extract sentiments, topics, and satisfaction indicators\n",
    "\n",
    "3. Comparative Analysis  \n",
    "   - Compare the insights derived from each type of data  \n",
    "   - Discuss challenges with unstructured data"
   ]
  },
  {
   "cell_type": "markdown",
   "id": "ab75706c",
   "metadata": {},
   "source": [
    "### 1 — Load datasets"
   ]
  },
  {
   "cell_type": "code",
   "execution_count": 1,
   "id": "de525267",
   "metadata": {},
   "outputs": [
    {
     "name": "stdout",
     "output_type": "stream",
     "text": [
      "Features shape: (8190, 12)\n",
      "Sales shape: (421570, 5)\n",
      "Stores shape: (45, 3)\n",
      "Reviews shape: (23486, 11)\n"
     ]
    }
   ],
   "source": [
    "# Title: Load Datasets\n",
    "# Description: Load structured and unstructured datasets from local files in Colab.\n",
    "\n",
    "import pandas as pd\n",
    "\n",
    "# Structured datasets\n",
    "features_df = pd.read_csv(\"features_data_set.csv\")\n",
    "sales_df = pd.read_csv(\"sales_data_set.csv\")\n",
    "stores_df = pd.read_csv(\"stores_data_set.csv\")\n",
    "\n",
    "# Unstructured dataset\n",
    "reviews_df = pd.read_csv(\"womens_clothing_ecommerce_reviews.csv\")\n",
    "\n",
    "print(\"Features shape:\", features_df.shape)\n",
    "print(\"Sales shape:\", sales_df.shape)\n",
    "print(\"Stores shape:\", stores_df.shape)\n",
    "print(\"Reviews shape:\", reviews_df.shape)\n"
   ]
  },
  {
   "cell_type": "markdown",
   "id": "ef9beef7",
   "metadata": {},
   "source": [
    "### 2 — Merge structured datasets"
   ]
  },
  {
   "cell_type": "code",
   "execution_count": 2,
   "id": "b9bbac33",
   "metadata": {},
   "outputs": [
    {
     "name": "stdout",
     "output_type": "stream",
     "text": [
      "Merged dataset shape: (421570, 17)\n"
     ]
    },
    {
     "data": {
      "text/html": [
       "<div>\n",
       "<style scoped>\n",
       "    .dataframe tbody tr th:only-of-type {\n",
       "        vertical-align: middle;\n",
       "    }\n",
       "\n",
       "    .dataframe tbody tr th {\n",
       "        vertical-align: top;\n",
       "    }\n",
       "\n",
       "    .dataframe thead th {\n",
       "        text-align: right;\n",
       "    }\n",
       "</style>\n",
       "<table border=\"1\" class=\"dataframe\">\n",
       "  <thead>\n",
       "    <tr style=\"text-align: right;\">\n",
       "      <th></th>\n",
       "      <th>Store</th>\n",
       "      <th>Dept</th>\n",
       "      <th>Date</th>\n",
       "      <th>Weekly_Sales</th>\n",
       "      <th>IsHoliday_x</th>\n",
       "      <th>Temperature</th>\n",
       "      <th>Fuel_Price</th>\n",
       "      <th>MarkDown1</th>\n",
       "      <th>MarkDown2</th>\n",
       "      <th>MarkDown3</th>\n",
       "      <th>MarkDown4</th>\n",
       "      <th>MarkDown5</th>\n",
       "      <th>CPI</th>\n",
       "      <th>Unemployment</th>\n",
       "      <th>IsHoliday_y</th>\n",
       "      <th>Type</th>\n",
       "      <th>Size</th>\n",
       "    </tr>\n",
       "  </thead>\n",
       "  <tbody>\n",
       "    <tr>\n",
       "      <th>0</th>\n",
       "      <td>1</td>\n",
       "      <td>1</td>\n",
       "      <td>05/02/2010</td>\n",
       "      <td>24924.50</td>\n",
       "      <td>False</td>\n",
       "      <td>42.31</td>\n",
       "      <td>2.572</td>\n",
       "      <td>NaN</td>\n",
       "      <td>NaN</td>\n",
       "      <td>NaN</td>\n",
       "      <td>NaN</td>\n",
       "      <td>NaN</td>\n",
       "      <td>211.096358</td>\n",
       "      <td>8.106</td>\n",
       "      <td>False</td>\n",
       "      <td>A</td>\n",
       "      <td>151315</td>\n",
       "    </tr>\n",
       "    <tr>\n",
       "      <th>1</th>\n",
       "      <td>1</td>\n",
       "      <td>1</td>\n",
       "      <td>12/02/2010</td>\n",
       "      <td>46039.49</td>\n",
       "      <td>True</td>\n",
       "      <td>38.51</td>\n",
       "      <td>2.548</td>\n",
       "      <td>NaN</td>\n",
       "      <td>NaN</td>\n",
       "      <td>NaN</td>\n",
       "      <td>NaN</td>\n",
       "      <td>NaN</td>\n",
       "      <td>211.242170</td>\n",
       "      <td>8.106</td>\n",
       "      <td>True</td>\n",
       "      <td>A</td>\n",
       "      <td>151315</td>\n",
       "    </tr>\n",
       "    <tr>\n",
       "      <th>2</th>\n",
       "      <td>1</td>\n",
       "      <td>1</td>\n",
       "      <td>19/02/2010</td>\n",
       "      <td>41595.55</td>\n",
       "      <td>False</td>\n",
       "      <td>39.93</td>\n",
       "      <td>2.514</td>\n",
       "      <td>NaN</td>\n",
       "      <td>NaN</td>\n",
       "      <td>NaN</td>\n",
       "      <td>NaN</td>\n",
       "      <td>NaN</td>\n",
       "      <td>211.289143</td>\n",
       "      <td>8.106</td>\n",
       "      <td>False</td>\n",
       "      <td>A</td>\n",
       "      <td>151315</td>\n",
       "    </tr>\n",
       "    <tr>\n",
       "      <th>3</th>\n",
       "      <td>1</td>\n",
       "      <td>1</td>\n",
       "      <td>26/02/2010</td>\n",
       "      <td>19403.54</td>\n",
       "      <td>False</td>\n",
       "      <td>46.63</td>\n",
       "      <td>2.561</td>\n",
       "      <td>NaN</td>\n",
       "      <td>NaN</td>\n",
       "      <td>NaN</td>\n",
       "      <td>NaN</td>\n",
       "      <td>NaN</td>\n",
       "      <td>211.319643</td>\n",
       "      <td>8.106</td>\n",
       "      <td>False</td>\n",
       "      <td>A</td>\n",
       "      <td>151315</td>\n",
       "    </tr>\n",
       "    <tr>\n",
       "      <th>4</th>\n",
       "      <td>1</td>\n",
       "      <td>1</td>\n",
       "      <td>05/03/2010</td>\n",
       "      <td>21827.90</td>\n",
       "      <td>False</td>\n",
       "      <td>46.50</td>\n",
       "      <td>2.625</td>\n",
       "      <td>NaN</td>\n",
       "      <td>NaN</td>\n",
       "      <td>NaN</td>\n",
       "      <td>NaN</td>\n",
       "      <td>NaN</td>\n",
       "      <td>211.350143</td>\n",
       "      <td>8.106</td>\n",
       "      <td>False</td>\n",
       "      <td>A</td>\n",
       "      <td>151315</td>\n",
       "    </tr>\n",
       "  </tbody>\n",
       "</table>\n",
       "</div>"
      ],
      "text/plain": [
       "   Store  Dept        Date  Weekly_Sales  IsHoliday_x  Temperature  \\\n",
       "0      1     1  05/02/2010      24924.50        False        42.31   \n",
       "1      1     1  12/02/2010      46039.49         True        38.51   \n",
       "2      1     1  19/02/2010      41595.55        False        39.93   \n",
       "3      1     1  26/02/2010      19403.54        False        46.63   \n",
       "4      1     1  05/03/2010      21827.90        False        46.50   \n",
       "\n",
       "   Fuel_Price  MarkDown1  MarkDown2  MarkDown3  MarkDown4  MarkDown5  \\\n",
       "0       2.572        NaN        NaN        NaN        NaN        NaN   \n",
       "1       2.548        NaN        NaN        NaN        NaN        NaN   \n",
       "2       2.514        NaN        NaN        NaN        NaN        NaN   \n",
       "3       2.561        NaN        NaN        NaN        NaN        NaN   \n",
       "4       2.625        NaN        NaN        NaN        NaN        NaN   \n",
       "\n",
       "          CPI  Unemployment  IsHoliday_y Type    Size  \n",
       "0  211.096358         8.106        False    A  151315  \n",
       "1  211.242170         8.106         True    A  151315  \n",
       "2  211.289143         8.106        False    A  151315  \n",
       "3  211.319643         8.106        False    A  151315  \n",
       "4  211.350143         8.106        False    A  151315  "
      ]
     },
     "execution_count": 2,
     "metadata": {},
     "output_type": "execute_result"
    }
   ],
   "source": [
    "# Title: Merge Structured Datasets\n",
    "# Description: Merge features, sales, and stores datasets on common keys.\n",
    "\n",
    "# Merge sales with features\n",
    "retail_df = pd.merge(sales_df, features_df, on=[\"Store\", \"Date\"], how=\"left\")\n",
    "\n",
    "# Merge with stores info\n",
    "retail_df = pd.merge(retail_df, stores_df, on=\"Store\", how=\"left\")\n",
    "\n",
    "print(\"Merged dataset shape:\", retail_df.shape)\n",
    "retail_df.head()"
   ]
  },
  {
   "cell_type": "markdown",
   "id": "bf748556",
   "metadata": {},
   "source": [
    "### 3 — Structured Data Analysis"
   ]
  },
  {
   "cell_type": "code",
   "execution_count": 3,
   "id": "53763a53",
   "metadata": {},
   "outputs": [
    {
     "data": {
      "image/png": "[encoded data removed]",
      "text/plain": [
       "<Figure size 640x480 with 1 Axes>"
      ]
     },
     "metadata": {},
     "output_type": "display_data"
    },
    {
     "data": {
      "image/png": "[encoded data removed]",
      "text/plain": [
       "<Figure size 640x480 with 1 Axes>"
      ]
     },
     "metadata": {},
     "output_type": "display_data"
    },
    {
     "data": {
      "image/png": "[encoded data removed]",
      "text/plain": [
       "<Figure size 640x480 with 1 Axes>"
      ]
     },
     "metadata": {},
     "output_type": "display_data"
    }
   ],
   "source": [
    "# Title: Structured Data Analysis\n",
    "# Description: Analyze sales trends, customer purchase patterns, and store performance.\n",
    "\n",
    "import matplotlib.pyplot as plt\n",
    "\n",
    "# Convert Date to datetime for time analysis\n",
    "retail_df[\"Date\"] = pd.to_datetime(retail_df[\"Date\"], errors=\"coerce\")\n",
    "\n",
    "# Sales trend over time\n",
    "sales_by_date = retail_df.groupby(\"Date\")[\"Weekly_Sales\"].sum()\n",
    "plt.figure()\n",
    "sales_by_date.plot()\n",
    "plt.title(\"Total Weekly Sales Over Time\")\n",
    "plt.xlabel(\"Date\")\n",
    "plt.ylabel(\"Weekly Sales\")\n",
    "plt.show()\n",
    "\n",
    "# Store performance ranking\n",
    "store_performance = retail_df.groupby(\"Store\")[\"Weekly_Sales\"].sum().sort_values(ascending=False)\n",
    "plt.figure()\n",
    "store_performance.head(10).plot(kind=\"bar\")\n",
    "plt.title(\"Top 10 Stores by Total Sales\")\n",
    "plt.xlabel(\"Store\")\n",
    "plt.ylabel(\"Total Sales\")\n",
    "plt.show()\n",
    "\n",
    "# Department performance\n",
    "dept_performance = retail_df.groupby(\"Dept\")[\"Weekly_Sales\"].sum().sort_values(ascending=False)\n",
    "plt.figure()\n",
    "dept_performance.head(10).plot(kind=\"bar\")\n",
    "plt.title(\"Top 10 Departments by Total Sales\")\n",
    "plt.xlabel(\"Department\")\n",
    "plt.ylabel(\"Total Sales\")\n",
    "plt.show()"
   ]
  },
  {
   "cell_type": "markdown",
   "id": "13df5248",
   "metadata": {},
   "source": [
    "### 4 — Unstructured Data Cleaning"
   ]
  },
  {
   "cell_type": "code",
   "execution_count": 4,
   "id": "1504cf67",
   "metadata": {},
   "outputs": [
    {
     "name": "stdout",
     "output_type": "stream",
     "text": [
      "Text dataset shape after cleaning: (22641, 2)\n"
     ]
    },
    {
     "data": {
      "text/html": [
       "<div>\n",
       "<style scoped>\n",
       "    .dataframe tbody tr th:only-of-type {\n",
       "        vertical-align: middle;\n",
       "    }\n",
       "\n",
       "    .dataframe tbody tr th {\n",
       "        vertical-align: top;\n",
       "    }\n",
       "\n",
       "    .dataframe thead th {\n",
       "        text-align: right;\n",
       "    }\n",
       "</style>\n",
       "<table border=\"1\" class=\"dataframe\">\n",
       "  <thead>\n",
       "    <tr style=\"text-align: right;\">\n",
       "      <th></th>\n",
       "      <th>Review Text</th>\n",
       "      <th>Rating</th>\n",
       "    </tr>\n",
       "  </thead>\n",
       "  <tbody>\n",
       "    <tr>\n",
       "      <th>0</th>\n",
       "      <td>Absolutely wonderful - silky and sexy and comf...</td>\n",
       "      <td>4</td>\n",
       "    </tr>\n",
       "    <tr>\n",
       "      <th>1</th>\n",
       "      <td>Love this dress!  it's sooo pretty.  i happene...</td>\n",
       "      <td>5</td>\n",
       "    </tr>\n",
       "    <tr>\n",
       "      <th>2</th>\n",
       "      <td>I had such high hopes for this dress and reall...</td>\n",
       "      <td>3</td>\n",
       "    </tr>\n",
       "    <tr>\n",
       "      <th>3</th>\n",
       "      <td>I love, love, love this jumpsuit. it's fun, fl...</td>\n",
       "      <td>5</td>\n",
       "    </tr>\n",
       "    <tr>\n",
       "      <th>4</th>\n",
       "      <td>This shirt is very flattering to all due to th...</td>\n",
       "      <td>5</td>\n",
       "    </tr>\n",
       "  </tbody>\n",
       "</table>\n",
       "</div>"
      ],
      "text/plain": [
       "                                         Review Text  Rating\n",
       "0  Absolutely wonderful - silky and sexy and comf...       4\n",
       "1  Love this dress!  it's sooo pretty.  i happene...       5\n",
       "2  I had such high hopes for this dress and reall...       3\n",
       "3  I love, love, love this jumpsuit. it's fun, fl...       5\n",
       "4  This shirt is very flattering to all due to th...       5"
      ]
     },
     "execution_count": 4,
     "metadata": {},
     "output_type": "execute_result"
    }
   ],
   "source": [
    "# Description: Prepare text data for sentiment and topic analysis.\n",
    "\n",
    "# Keep only relevant columns\n",
    "text_df = reviews_df[[\"Review Text\", \"Rating\"]].dropna(subset=[\"Review Text\"])\n",
    "\n",
    "# Drop rows where Review Text is empty after stripping spaces\n",
    "text_df[\"Review Text\"] = text_df[\"Review Text\"].astype(str).str.strip()\n",
    "text_df = text_df[text_df[\"Review Text\"] != \"\"]\n",
    "\n",
    "print(\"Text dataset shape after cleaning:\", text_df.shape)\n",
    "text_df.head()"
   ]
  },
  {
   "cell_type": "markdown",
   "id": "e2ad61ab",
   "metadata": {},
   "source": [
    "### 5 — Sentiment Analysis (Simple)"
   ]
  },
  {
   "cell_type": "code",
   "execution_count": 5,
   "id": "535155e1",
   "metadata": {},
   "outputs": [
    {
     "name": "stderr",
     "output_type": "stream",
     "text": [
      "\n",
      "[notice] A new release of pip is available: 25.1.1 -> 25.2\n",
      "[notice] To update, run: python.exe -m pip install --upgrade pip\n"
     ]
    },
    {
     "name": "stdout",
     "output_type": "stream",
     "text": [
      "Sentiment\n",
      "Positive    90.0\n",
      "Neutral      7.0\n",
      "Negative     3.0\n",
      "Name: proportion, dtype: float64\n"
     ]
    }
   ],
   "source": [
    "# Description: Use TextBlob to compute sentiment polarity for each review.\n",
    "\n",
    "!pip install textblob --quiet\n",
    "from textblob import TextBlob\n",
    "\n",
    "# Compute polarity score\n",
    "text_df[\"Polarity\"] = text_df[\"Review Text\"].apply(lambda x: TextBlob(x).sentiment.polarity)\n",
    "\n",
    "# Classify sentiment\n",
    "def classify_sentiment(p):\n",
    "    if p > 0.05:\n",
    "        return \"Positive\"\n",
    "    elif p < -0.05:\n",
    "        return \"Negative\"\n",
    "    else:\n",
    "        return \"Neutral\"\n",
    "\n",
    "text_df[\"Sentiment\"] = text_df[\"Polarity\"].apply(classify_sentiment)\n",
    "\n",
    "print(text_df[\"Sentiment\"].value_counts(normalize=True).round(2) * 100)"
   ]
  },
  {
   "cell_type": "markdown",
   "id": "9174356a",
   "metadata": {},
   "source": [
    "### 6 — Most Frequent Words"
   ]
  },
  {
   "cell_type": "code",
   "execution_count": 6,
   "id": "833c9660",
   "metadata": {},
   "outputs": [
    {
     "data": {
      "image/png": "[encoded data removed]",
      "text/plain": [
       "<Figure size 640x480 with 1 Axes>"
      ]
     },
     "metadata": {},
     "output_type": "display_data"
    }
   ],
   "source": [
    "# Description: Extract the most common words from reviews.\n",
    "\n",
    "from collections import Counter\n",
    "import re\n",
    "\n",
    "# Basic tokenization\n",
    "all_words = []\n",
    "for review in text_df[\"Review Text\"]:\n",
    "    words = re.findall(r'\\b[a-z]{3,}\\b', review.lower())\n",
    "    all_words.extend(words)\n",
    "\n",
    "word_freq = Counter(all_words)\n",
    "common_words = word_freq.most_common(20)\n",
    "\n",
    "# Plot top 20 words\n",
    "words, counts = zip(*common_words)\n",
    "plt.figure()\n",
    "plt.bar(words, counts)\n",
    "plt.xticks(rotation=45)\n",
    "plt.title(\"Top 20 Most Frequent Words in Reviews\")\n",
    "plt.show()"
   ]
  },
  {
   "cell_type": "markdown",
   "id": "27e0a5ff",
   "metadata": {},
   "source": [
    "### 7 — Satisfaction Analysis"
   ]
  },
  {
   "cell_type": "code",
   "execution_count": 7,
   "id": "1793324b",
   "metadata": {},
   "outputs": [
    {
     "data": {
      "image/png": "[encoded data removed]",
      "text/plain": [
       "<Figure size 640x480 with 1 Axes>"
      ]
     },
     "metadata": {},
     "output_type": "display_data"
    },
    {
     "name": "stdout",
     "output_type": "stream",
     "text": [
      "Average Rating: 4.18 / 5\n"
     ]
    }
   ],
   "source": [
    "# Description: Evaluate satisfaction based on ratings.\n",
    "\n",
    "rating_counts = text_df[\"Rating\"].value_counts().sort_index()\n",
    "\n",
    "plt.figure()\n",
    "rating_counts.plot(kind=\"bar\")\n",
    "plt.title(\"Rating Distribution\")\n",
    "plt.xlabel(\"Rating\")\n",
    "plt.ylabel(\"Count\")\n",
    "plt.show()\n",
    "\n",
    "avg_rating = text_df[\"Rating\"].mean()\n",
    "print(f\"Average Rating: {avg_rating:.2f} / 5\")"
   ]
  },
  {
   "cell_type": "markdown",
   "id": "af31016f",
   "metadata": {},
   "source": [
    "### 8 — Comparative Analysis & Challenges"
   ]
  },
  {
   "cell_type": "code",
   "execution_count": 8,
   "id": "c997e409",
   "metadata": {},
   "outputs": [
    {
     "name": "stdout",
     "output_type": "stream",
     "text": [
      "=== Comparative Analysis ===\n",
      "\n",
      "Structured data allowed precise quantitative insights:\n",
      "- Clear sales trends over time.\n",
      "- Ranking of stores and departments.\n",
      "- Easy to aggregate and compare metrics.\n",
      "\n",
      "Unstructured data provided qualitative insights:\n",
      "- Customer sentiment (positive, neutral, negative).\n",
      "- Most frequently discussed topics.\n",
      "- Satisfaction distribution.\n",
      "\n",
      "Challenges with unstructured data:\n",
      "- Requires text cleaning and preprocessing.\n",
      "- Sentiment analysis can be ambiguous and context-dependent.\n",
      "- More computational steps compared to structured data.\n",
      "\n"
     ]
    }
   ],
   "source": [
    "# Description: Compare insights from structured vs unstructured data.\n",
    "\n",
    "print(\"=== Comparative Analysis ===\")\n",
    "print(\"\"\"\n",
    "Structured data allowed precise quantitative insights:\n",
    "- Clear sales trends over time.\n",
    "- Ranking of stores and departments.\n",
    "- Easy to aggregate and compare metrics.\n",
    "\n",
    "Unstructured data provided qualitative insights:\n",
    "- Customer sentiment (positive, neutral, negative).\n",
    "- Most frequently discussed topics.\n",
    "- Satisfaction distribution.\n",
    "\n",
    "Challenges with unstructured data:\n",
    "- Requires text cleaning and preprocessing.\n",
    "- Sentiment analysis can be ambiguous and context-dependent.\n",
    "- More computational steps compared to structured data.\n",
    "\"\"\")"
   ]
  },
  {
   "cell_type": "markdown",
   "id": "48cfe493",
   "metadata": {},
   "source": [
    "### Conclusion\n",
    "\n",
    "The analysis of the structured retail dataset allowed us to extract clear, quantitative insights such as sales trends over time, top-performing stores and departments, and overall revenue patterns. These findings were straightforward to obtain thanks to the well-organized and numeric nature of the data.\n",
    "\n",
    "In contrast, the unstructured clothing reviews dataset provided qualitative insights, including customer sentiment, frequently mentioned topics, and satisfaction levels. While these insights are valuable for understanding customer perceptions, they required additional preprocessing and natural language analysis, which can be more complex and time-consuming.\n",
    "\n",
    "Overall, both structured and unstructured data offer complementary perspectives: structured data excels at revealing measurable performance metrics, while unstructured data captures customer opinions and experiences."
   ]
  },
  {
   "cell_type": "markdown",
   "id": "78e2f0ce",
   "metadata": {},
   "source": [
    "## Exercise 2: Basic Data Exploration in E-Commerce"
   ]
  },
  {
   "cell_type": "markdown",
   "id": "d0441138",
   "metadata": {},
   "source": [
    "## Objective\n",
    "Explore the E-Commerce dataset, identify structured data columns, and suggest complementary unstructured data for deeper analysis.\n",
    "\n",
    "### Steps\n",
    "1. Load dataset and preview structure  \n",
    "2. Print basic dataset information  \n",
    "3. Identify structured data columns  \n",
    "4. Suggest unstructured data types that could complement the dataset  \n",
    "5. Discuss how structured and unstructured data can be used together"
   ]
  },
  {
   "cell_type": "markdown",
   "id": "6f4ef35f",
   "metadata": {},
   "source": [
    "### 1 — Load dataset"
   ]
  },
  {
   "cell_type": "code",
   "execution_count": 14,
   "id": "ddf417c9",
   "metadata": {},
   "outputs": [
    {
     "name": "stdout",
     "output_type": "stream",
     "text": [
      "Dataset shape: (541909, 8)\n"
     ]
    },
    {
     "data": {
      "text/html": [
       "<div>\n",
       "<style scoped>\n",
       "    .dataframe tbody tr th:only-of-type {\n",
       "        vertical-align: middle;\n",
       "    }\n",
       "\n",
       "    .dataframe tbody tr th {\n",
       "        vertical-align: top;\n",
       "    }\n",
       "\n",
       "    .dataframe thead th {\n",
       "        text-align: right;\n",
       "    }\n",
       "</style>\n",
       "<table border=\"1\" class=\"dataframe\">\n",
       "  <thead>\n",
       "    <tr style=\"text-align: right;\">\n",
       "      <th></th>\n",
       "      <th>InvoiceNo</th>\n",
       "      <th>StockCode</th>\n",
       "      <th>Description</th>\n",
       "      <th>Quantity</th>\n",
       "      <th>InvoiceDate</th>\n",
       "      <th>UnitPrice</th>\n",
       "      <th>CustomerID</th>\n",
       "      <th>Country</th>\n",
       "    </tr>\n",
       "  </thead>\n",
       "  <tbody>\n",
       "    <tr>\n",
       "      <th>0</th>\n",
       "      <td>536365</td>\n",
       "      <td>85123A</td>\n",
       "      <td>WHITE HANGING HEART T-LIGHT HOLDER</td>\n",
       "      <td>6</td>\n",
       "      <td>12/1/2010 8:26</td>\n",
       "      <td>2.55</td>\n",
       "      <td>17850.0</td>\n",
       "      <td>United Kingdom</td>\n",
       "    </tr>\n",
       "    <tr>\n",
       "      <th>1</th>\n",
       "      <td>536365</td>\n",
       "      <td>71053</td>\n",
       "      <td>WHITE METAL LANTERN</td>\n",
       "      <td>6</td>\n",
       "      <td>12/1/2010 8:26</td>\n",
       "      <td>3.39</td>\n",
       "      <td>17850.0</td>\n",
       "      <td>United Kingdom</td>\n",
       "    </tr>\n",
       "    <tr>\n",
       "      <th>2</th>\n",
       "      <td>536365</td>\n",
       "      <td>84406B</td>\n",
       "      <td>CREAM CUPID HEARTS COAT HANGER</td>\n",
       "      <td>8</td>\n",
       "      <td>12/1/2010 8:26</td>\n",
       "      <td>2.75</td>\n",
       "      <td>17850.0</td>\n",
       "      <td>United Kingdom</td>\n",
       "    </tr>\n",
       "    <tr>\n",
       "      <th>3</th>\n",
       "      <td>536365</td>\n",
       "      <td>84029G</td>\n",
       "      <td>KNITTED UNION FLAG HOT WATER BOTTLE</td>\n",
       "      <td>6</td>\n",
       "      <td>12/1/2010 8:26</td>\n",
       "      <td>3.39</td>\n",
       "      <td>17850.0</td>\n",
       "      <td>United Kingdom</td>\n",
       "    </tr>\n",
       "    <tr>\n",
       "      <th>4</th>\n",
       "      <td>536365</td>\n",
       "      <td>84029E</td>\n",
       "      <td>RED WOOLLY HOTTIE WHITE HEART.</td>\n",
       "      <td>6</td>\n",
       "      <td>12/1/2010 8:26</td>\n",
       "      <td>3.39</td>\n",
       "      <td>17850.0</td>\n",
       "      <td>United Kingdom</td>\n",
       "    </tr>\n",
       "  </tbody>\n",
       "</table>\n",
       "</div>"
      ],
      "text/plain": [
       "  InvoiceNo StockCode                          Description  Quantity  \\\n",
       "0    536365    85123A   WHITE HANGING HEART T-LIGHT HOLDER         6   \n",
       "1    536365     71053                  WHITE METAL LANTERN         6   \n",
       "2    536365    84406B       CREAM CUPID HEARTS COAT HANGER         8   \n",
       "3    536365    84029G  KNITTED UNION FLAG HOT WATER BOTTLE         6   \n",
       "4    536365    84029E       RED WOOLLY HOTTIE WHITE HEART.         6   \n",
       "\n",
       "      InvoiceDate  UnitPrice  CustomerID         Country  \n",
       "0  12/1/2010 8:26       2.55     17850.0  United Kingdom  \n",
       "1  12/1/2010 8:26       3.39     17850.0  United Kingdom  \n",
       "2  12/1/2010 8:26       2.75     17850.0  United Kingdom  \n",
       "3  12/1/2010 8:26       3.39     17850.0  United Kingdom  \n",
       "4  12/1/2010 8:26       3.39     17850.0  United Kingdom  "
      ]
     },
     "execution_count": 14,
     "metadata": {},
     "output_type": "execute_result"
    }
   ],
   "source": [
    "# Description: Load the E-Commerce dataset from a local file, handling non-UTF8 encoding.\n",
    "\n",
    "import pandas as pd\n",
    "\n",
    "df_ecom = pd.read_csv(\"data_ecommerce.csv\", encoding='latin1')  # or encoding='ISO-8859-1'\n",
    "\n",
    "print(\"Dataset shape:\", df_ecom.shape)\n",
    "df_ecom.head()"
   ]
  },
  {
   "cell_type": "markdown",
   "id": "bc0ea35e",
   "metadata": {},
   "source": [
    "### 2 — Basic dataset information"
   ]
  },
  {
   "cell_type": "code",
   "execution_count": 15,
   "id": "3da35f55",
   "metadata": {},
   "outputs": [
    {
     "name": "stdout",
     "output_type": "stream",
     "text": [
      "\n",
      "=== Info ===\n",
      "<class 'pandas.core.frame.DataFrame'>\n",
      "RangeIndex: 541909 entries, 0 to 541908\n",
      "Data columns (total 8 columns):\n",
      " #   Column       Non-Null Count   Dtype  \n",
      "---  ------       --------------   -----  \n",
      " 0   InvoiceNo    541909 non-null  object \n",
      " 1   StockCode    541909 non-null  object \n",
      " 2   Description  540455 non-null  object \n",
      " 3   Quantity     541909 non-null  int64  \n",
      " 4   InvoiceDate  541909 non-null  object \n",
      " 5   UnitPrice    541909 non-null  float64\n",
      " 6   CustomerID   406829 non-null  float64\n",
      " 7   Country      541909 non-null  object \n",
      "dtypes: float64(2), int64(1), object(5)\n",
      "memory usage: 33.1+ MB\n",
      "\n",
      "=== Column Names ===\n",
      "['InvoiceNo', 'StockCode', 'Description', 'Quantity', 'InvoiceDate', 'UnitPrice', 'CustomerID', 'Country']\n",
      "\n",
      "=== First 5 rows ===\n"
     ]
    },
    {
     "data": {
      "text/html": [
       "<div>\n",
       "<style scoped>\n",
       "    .dataframe tbody tr th:only-of-type {\n",
       "        vertical-align: middle;\n",
       "    }\n",
       "\n",
       "    .dataframe tbody tr th {\n",
       "        vertical-align: top;\n",
       "    }\n",
       "\n",
       "    .dataframe thead th {\n",
       "        text-align: right;\n",
       "    }\n",
       "</style>\n",
       "<table border=\"1\" class=\"dataframe\">\n",
       "  <thead>\n",
       "    <tr style=\"text-align: right;\">\n",
       "      <th></th>\n",
       "      <th>InvoiceNo</th>\n",
       "      <th>StockCode</th>\n",
       "      <th>Description</th>\n",
       "      <th>Quantity</th>\n",
       "      <th>InvoiceDate</th>\n",
       "      <th>UnitPrice</th>\n",
       "      <th>CustomerID</th>\n",
       "      <th>Country</th>\n",
       "    </tr>\n",
       "  </thead>\n",
       "  <tbody>\n",
       "    <tr>\n",
       "      <th>0</th>\n",
       "      <td>536365</td>\n",
       "      <td>85123A</td>\n",
       "      <td>WHITE HANGING HEART T-LIGHT HOLDER</td>\n",
       "      <td>6</td>\n",
       "      <td>12/1/2010 8:26</td>\n",
       "      <td>2.55</td>\n",
       "      <td>17850.0</td>\n",
       "      <td>United Kingdom</td>\n",
       "    </tr>\n",
       "    <tr>\n",
       "      <th>1</th>\n",
       "      <td>536365</td>\n",
       "      <td>71053</td>\n",
       "      <td>WHITE METAL LANTERN</td>\n",
       "      <td>6</td>\n",
       "      <td>12/1/2010 8:26</td>\n",
       "      <td>3.39</td>\n",
       "      <td>17850.0</td>\n",
       "      <td>United Kingdom</td>\n",
       "    </tr>\n",
       "    <tr>\n",
       "      <th>2</th>\n",
       "      <td>536365</td>\n",
       "      <td>84406B</td>\n",
       "      <td>CREAM CUPID HEARTS COAT HANGER</td>\n",
       "      <td>8</td>\n",
       "      <td>12/1/2010 8:26</td>\n",
       "      <td>2.75</td>\n",
       "      <td>17850.0</td>\n",
       "      <td>United Kingdom</td>\n",
       "    </tr>\n",
       "    <tr>\n",
       "      <th>3</th>\n",
       "      <td>536365</td>\n",
       "      <td>84029G</td>\n",
       "      <td>KNITTED UNION FLAG HOT WATER BOTTLE</td>\n",
       "      <td>6</td>\n",
       "      <td>12/1/2010 8:26</td>\n",
       "      <td>3.39</td>\n",
       "      <td>17850.0</td>\n",
       "      <td>United Kingdom</td>\n",
       "    </tr>\n",
       "    <tr>\n",
       "      <th>4</th>\n",
       "      <td>536365</td>\n",
       "      <td>84029E</td>\n",
       "      <td>RED WOOLLY HOTTIE WHITE HEART.</td>\n",
       "      <td>6</td>\n",
       "      <td>12/1/2010 8:26</td>\n",
       "      <td>3.39</td>\n",
       "      <td>17850.0</td>\n",
       "      <td>United Kingdom</td>\n",
       "    </tr>\n",
       "  </tbody>\n",
       "</table>\n",
       "</div>"
      ],
      "text/plain": [
       "  InvoiceNo StockCode                          Description  Quantity  \\\n",
       "0    536365    85123A   WHITE HANGING HEART T-LIGHT HOLDER         6   \n",
       "1    536365     71053                  WHITE METAL LANTERN         6   \n",
       "2    536365    84406B       CREAM CUPID HEARTS COAT HANGER         8   \n",
       "3    536365    84029G  KNITTED UNION FLAG HOT WATER BOTTLE         6   \n",
       "4    536365    84029E       RED WOOLLY HOTTIE WHITE HEART.         6   \n",
       "\n",
       "      InvoiceDate  UnitPrice  CustomerID         Country  \n",
       "0  12/1/2010 8:26       2.55     17850.0  United Kingdom  \n",
       "1  12/1/2010 8:26       3.39     17850.0  United Kingdom  \n",
       "2  12/1/2010 8:26       2.75     17850.0  United Kingdom  \n",
       "3  12/1/2010 8:26       3.39     17850.0  United Kingdom  \n",
       "4  12/1/2010 8:26       3.39     17850.0  United Kingdom  "
      ]
     },
     "metadata": {},
     "output_type": "display_data"
    },
    {
     "name": "stdout",
     "output_type": "stream",
     "text": [
      "\n",
      "=== Descriptive Statistics (numeric) ===\n"
     ]
    },
    {
     "data": {
      "text/html": [
       "<div>\n",
       "<style scoped>\n",
       "    .dataframe tbody tr th:only-of-type {\n",
       "        vertical-align: middle;\n",
       "    }\n",
       "\n",
       "    .dataframe tbody tr th {\n",
       "        vertical-align: top;\n",
       "    }\n",
       "\n",
       "    .dataframe thead th {\n",
       "        text-align: right;\n",
       "    }\n",
       "</style>\n",
       "<table border=\"1\" class=\"dataframe\">\n",
       "  <thead>\n",
       "    <tr style=\"text-align: right;\">\n",
       "      <th></th>\n",
       "      <th>Quantity</th>\n",
       "      <th>UnitPrice</th>\n",
       "      <th>CustomerID</th>\n",
       "    </tr>\n",
       "  </thead>\n",
       "  <tbody>\n",
       "    <tr>\n",
       "      <th>count</th>\n",
       "      <td>541909.000000</td>\n",
       "      <td>541909.000000</td>\n",
       "      <td>406829.000000</td>\n",
       "    </tr>\n",
       "    <tr>\n",
       "      <th>mean</th>\n",
       "      <td>9.552250</td>\n",
       "      <td>4.611114</td>\n",
       "      <td>15287.690570</td>\n",
       "    </tr>\n",
       "    <tr>\n",
       "      <th>std</th>\n",
       "      <td>218.081158</td>\n",
       "      <td>96.759853</td>\n",
       "      <td>1713.600303</td>\n",
       "    </tr>\n",
       "    <tr>\n",
       "      <th>min</th>\n",
       "      <td>-80995.000000</td>\n",
       "      <td>-11062.060000</td>\n",
       "      <td>12346.000000</td>\n",
       "    </tr>\n",
       "    <tr>\n",
       "      <th>25%</th>\n",
       "      <td>1.000000</td>\n",
       "      <td>1.250000</td>\n",
       "      <td>13953.000000</td>\n",
       "    </tr>\n",
       "    <tr>\n",
       "      <th>50%</th>\n",
       "      <td>3.000000</td>\n",
       "      <td>2.080000</td>\n",
       "      <td>15152.000000</td>\n",
       "    </tr>\n",
       "    <tr>\n",
       "      <th>75%</th>\n",
       "      <td>10.000000</td>\n",
       "      <td>4.130000</td>\n",
       "      <td>16791.000000</td>\n",
       "    </tr>\n",
       "    <tr>\n",
       "      <th>max</th>\n",
       "      <td>80995.000000</td>\n",
       "      <td>38970.000000</td>\n",
       "      <td>18287.000000</td>\n",
       "    </tr>\n",
       "  </tbody>\n",
       "</table>\n",
       "</div>"
      ],
      "text/plain": [
       "            Quantity      UnitPrice     CustomerID\n",
       "count  541909.000000  541909.000000  406829.000000\n",
       "mean        9.552250       4.611114   15287.690570\n",
       "std       218.081158      96.759853    1713.600303\n",
       "min    -80995.000000  -11062.060000   12346.000000\n",
       "25%         1.000000       1.250000   13953.000000\n",
       "50%         3.000000       2.080000   15152.000000\n",
       "75%        10.000000       4.130000   16791.000000\n",
       "max     80995.000000   38970.000000   18287.000000"
      ]
     },
     "metadata": {},
     "output_type": "display_data"
    },
    {
     "name": "stdout",
     "output_type": "stream",
     "text": [
      "\n",
      "=== Descriptive Statistics (categorical) ===\n"
     ]
    },
    {
     "data": {
      "text/html": [
       "<div>\n",
       "<style scoped>\n",
       "    .dataframe tbody tr th:only-of-type {\n",
       "        vertical-align: middle;\n",
       "    }\n",
       "\n",
       "    .dataframe tbody tr th {\n",
       "        vertical-align: top;\n",
       "    }\n",
       "\n",
       "    .dataframe thead th {\n",
       "        text-align: right;\n",
       "    }\n",
       "</style>\n",
       "<table border=\"1\" class=\"dataframe\">\n",
       "  <thead>\n",
       "    <tr style=\"text-align: right;\">\n",
       "      <th></th>\n",
       "      <th>InvoiceNo</th>\n",
       "      <th>StockCode</th>\n",
       "      <th>Description</th>\n",
       "      <th>InvoiceDate</th>\n",
       "      <th>Country</th>\n",
       "    </tr>\n",
       "  </thead>\n",
       "  <tbody>\n",
       "    <tr>\n",
       "      <th>count</th>\n",
       "      <td>541909</td>\n",
       "      <td>541909</td>\n",
       "      <td>540455</td>\n",
       "      <td>541909</td>\n",
       "      <td>541909</td>\n",
       "    </tr>\n",
       "    <tr>\n",
       "      <th>unique</th>\n",
       "      <td>25900</td>\n",
       "      <td>4070</td>\n",
       "      <td>4223</td>\n",
       "      <td>23260</td>\n",
       "      <td>38</td>\n",
       "    </tr>\n",
       "    <tr>\n",
       "      <th>top</th>\n",
       "      <td>573585</td>\n",
       "      <td>85123A</td>\n",
       "      <td>WHITE HANGING HEART T-LIGHT HOLDER</td>\n",
       "      <td>10/31/2011 14:41</td>\n",
       "      <td>United Kingdom</td>\n",
       "    </tr>\n",
       "    <tr>\n",
       "      <th>freq</th>\n",
       "      <td>1114</td>\n",
       "      <td>2313</td>\n",
       "      <td>2369</td>\n",
       "      <td>1114</td>\n",
       "      <td>495478</td>\n",
       "    </tr>\n",
       "  </tbody>\n",
       "</table>\n",
       "</div>"
      ],
      "text/plain": [
       "       InvoiceNo StockCode                         Description  \\\n",
       "count     541909    541909                              540455   \n",
       "unique     25900      4070                                4223   \n",
       "top       573585    85123A  WHITE HANGING HEART T-LIGHT HOLDER   \n",
       "freq        1114      2313                                2369   \n",
       "\n",
       "             InvoiceDate         Country  \n",
       "count             541909          541909  \n",
       "unique             23260              38  \n",
       "top     10/31/2011 14:41  United Kingdom  \n",
       "freq                1114          495478  "
      ]
     },
     "metadata": {},
     "output_type": "display_data"
    }
   ],
   "source": [
    "# Description: Display basic information, column names, and statistics.\n",
    "\n",
    "print(\"\\n=== Info ===\")\n",
    "df_ecom.info()\n",
    "\n",
    "print(\"\\n=== Column Names ===\")\n",
    "print(df_ecom.columns.tolist())\n",
    "\n",
    "print(\"\\n=== First 5 rows ===\")\n",
    "display(df_ecom.head())\n",
    "\n",
    "print(\"\\n=== Descriptive Statistics (numeric) ===\")\n",
    "display(df_ecom.describe())\n",
    "\n",
    "print(\"\\n=== Descriptive Statistics (categorical) ===\")\n",
    "display(df_ecom.describe(include=['object']))"
   ]
  },
  {
   "cell_type": "markdown",
   "id": "8d445803",
   "metadata": {},
   "source": [
    "### 3 — Identify structured columns"
   ]
  },
  {
   "cell_type": "code",
   "execution_count": 16,
   "id": "94c3fd98",
   "metadata": {},
   "outputs": [
    {
     "name": "stdout",
     "output_type": "stream",
     "text": [
      "Structured data columns:\n",
      "- Quantity\n",
      "- UnitPrice\n",
      "- CustomerID\n",
      "- Country\n"
     ]
    }
   ],
   "source": [
    "# Description: Structured data includes numeric values, dates, and fixed categories.\n",
    "\n",
    "structured_cols = []\n",
    "for col in df_ecom.columns:\n",
    "    if pd.api.types.is_numeric_dtype(df_ecom[col]):\n",
    "        structured_cols.append(col)\n",
    "    elif pd.api.types.is_datetime64_any_dtype(df_ecom[col]):\n",
    "        structured_cols.append(col)\n",
    "    elif df_ecom[col].nunique() < 50:  # heuristic for fixed categories\n",
    "        structured_cols.append(col)\n",
    "\n",
    "print(\"Structured data columns:\")\n",
    "for col in structured_cols:\n",
    "    print(\"-\", col)"
   ]
  },
  {
   "cell_type": "markdown",
   "id": "883eab6c",
   "metadata": {},
   "source": [
    "### 4 — Suggest unstructured data"
   ]
  },
  {
   "cell_type": "code",
   "execution_count": 17,
   "id": "59b0fbbb",
   "metadata": {},
   "outputs": [
    {
     "name": "stdout",
     "output_type": "stream",
     "text": [
      "Possible unstructured data to complement this dataset:\n",
      "- Customer reviews and feedback text\n",
      "- Product descriptions\n",
      "- Customer service chat transcripts\n",
      "- Social media posts mentioning the products\n",
      "- Images of products or user-generated content\n"
     ]
    }
   ],
   "source": [
    "# Description: Suggest what kind of unstructured data could complement this dataset.\n",
    "\n",
    "unstructured_suggestions = [\n",
    "    \"Customer reviews and feedback text\",\n",
    "    \"Product descriptions\",\n",
    "    \"Customer service chat transcripts\",\n",
    "    \"Social media posts mentioning the products\",\n",
    "    \"Images of products or user-generated content\"\n",
    "]\n",
    "\n",
    "print(\"Possible unstructured data to complement this dataset:\")\n",
    "for s in unstructured_suggestions:\n",
    "    print(\"-\", s)"
   ]
  },
  {
   "cell_type": "markdown",
   "id": "b8173565",
   "metadata": {},
   "source": [
    "### 5 — Discuss how to use unstructured data with structured data"
   ]
  },
  {
   "cell_type": "code",
   "execution_count": 18,
   "id": "22cbdd9c",
   "metadata": {},
   "outputs": [
    {
     "name": "stdout",
     "output_type": "stream",
     "text": [
      "\n",
      "Unstructured data can be combined with structured data to provide deeper insights.\n",
      "\n",
      "Examples:\n",
      "- Linking customer reviews (text) to purchase history to analyze sentiment by product category.\n",
      "- Using product descriptions to build recommendation systems.\n",
      "- Analyzing customer service chat logs to identify common issues and correlate them with order data.\n",
      "- Including product images for visual analysis and quality control.\n",
      "\n",
      "Combining both data types allows businesses to measure performance quantitatively while also understanding qualitative factors influencing sales and customer satisfaction.\n",
      "\n"
     ]
    }
   ],
   "source": [
    "# Description: Explain how unstructured data could enhance analysis.\n",
    "\n",
    "print(\"\"\"\n",
    "Unstructured data can be combined with structured data to provide deeper insights.\n",
    "\n",
    "Examples:\n",
    "- Linking customer reviews (text) to purchase history to analyze sentiment by product category.\n",
    "- Using product descriptions to build recommendation systems.\n",
    "- Analyzing customer service chat logs to identify common issues and correlate them with order data.\n",
    "- Including product images for visual analysis and quality control.\n",
    "\n",
    "Combining both data types allows businesses to measure performance quantitatively while also understanding qualitative factors influencing sales and customer satisfaction.\n",
    "\"\"\")"
   ]
  },
  {
   "cell_type": "markdown",
   "id": "21aa1e7c",
   "metadata": {},
   "source": [
    "### Conclusion\n",
    "\n",
    "The E-Commerce dataset provides structured information such as numeric values, dates, and categorical fields that can be directly analyzed for business insights. Identifying these structured elements allows for straightforward aggregation, filtering, and statistical analysis.\n",
    "\n",
    "Complementary unstructured data, such as customer reviews, product descriptions, and multimedia content, could provide qualitative insights into customer preferences, product performance, and brand perception. Combining both data types can give a more complete view of customer behavior, enabling better decision-making and more targeted business strategies."
   ]
  },
  {
   "cell_type": "markdown",
   "id": "ebec16fe",
   "metadata": {},
   "source": [
    "## Exercise 3: Analyzing a Public Transportation Dataset with a Focus on Data Types"
   ]
  },
  {
   "cell_type": "markdown",
   "id": "c4101f12",
   "metadata": {},
   "source": [
    "### Objective\n",
    "Load and explore the Metro Interstate Traffic Volume dataset, identify structured elements, and categorize each column as structured or unstructured.\n",
    "\n",
    "### Steps\n",
    "1. Load dataset and preview  \n",
    "2. Identify structured elements  \n",
    "3. Categorize each column as structured or unstructured, with explanation"
   ]
  },
  {
   "cell_type": "markdown",
   "id": "79bad770",
   "metadata": {},
   "source": [
    "### 1 — Load dataset"
   ]
  },
  {
   "cell_type": "code",
   "execution_count": 19,
   "id": "38b8a2ad",
   "metadata": {},
   "outputs": [
    {
     "name": "stdout",
     "output_type": "stream",
     "text": [
      "Dataset shape: (48204, 9)\n"
     ]
    },
    {
     "data": {
      "text/html": [
       "<div>\n",
       "<style scoped>\n",
       "    .dataframe tbody tr th:only-of-type {\n",
       "        vertical-align: middle;\n",
       "    }\n",
       "\n",
       "    .dataframe tbody tr th {\n",
       "        vertical-align: top;\n",
       "    }\n",
       "\n",
       "    .dataframe thead th {\n",
       "        text-align: right;\n",
       "    }\n",
       "</style>\n",
       "<table border=\"1\" class=\"dataframe\">\n",
       "  <thead>\n",
       "    <tr style=\"text-align: right;\">\n",
       "      <th></th>\n",
       "      <th>holiday</th>\n",
       "      <th>temp</th>\n",
       "      <th>rain_1h</th>\n",
       "      <th>snow_1h</th>\n",
       "      <th>clouds_all</th>\n",
       "      <th>weather_main</th>\n",
       "      <th>weather_description</th>\n",
       "      <th>date_time</th>\n",
       "      <th>traffic_volume</th>\n",
       "    </tr>\n",
       "  </thead>\n",
       "  <tbody>\n",
       "    <tr>\n",
       "      <th>0</th>\n",
       "      <td>NaN</td>\n",
       "      <td>288.28</td>\n",
       "      <td>0.0</td>\n",
       "      <td>0.0</td>\n",
       "      <td>40</td>\n",
       "      <td>Clouds</td>\n",
       "      <td>scattered clouds</td>\n",
       "      <td>2012-10-02 09:00:00</td>\n",
       "      <td>5545</td>\n",
       "    </tr>\n",
       "    <tr>\n",
       "      <th>1</th>\n",
       "      <td>NaN</td>\n",
       "      <td>289.36</td>\n",
       "      <td>0.0</td>\n",
       "      <td>0.0</td>\n",
       "      <td>75</td>\n",
       "      <td>Clouds</td>\n",
       "      <td>broken clouds</td>\n",
       "      <td>2012-10-02 10:00:00</td>\n",
       "      <td>4516</td>\n",
       "    </tr>\n",
       "    <tr>\n",
       "      <th>2</th>\n",
       "      <td>NaN</td>\n",
       "      <td>289.58</td>\n",
       "      <td>0.0</td>\n",
       "      <td>0.0</td>\n",
       "      <td>90</td>\n",
       "      <td>Clouds</td>\n",
       "      <td>overcast clouds</td>\n",
       "      <td>2012-10-02 11:00:00</td>\n",
       "      <td>4767</td>\n",
       "    </tr>\n",
       "    <tr>\n",
       "      <th>3</th>\n",
       "      <td>NaN</td>\n",
       "      <td>290.13</td>\n",
       "      <td>0.0</td>\n",
       "      <td>0.0</td>\n",
       "      <td>90</td>\n",
       "      <td>Clouds</td>\n",
       "      <td>overcast clouds</td>\n",
       "      <td>2012-10-02 12:00:00</td>\n",
       "      <td>5026</td>\n",
       "    </tr>\n",
       "    <tr>\n",
       "      <th>4</th>\n",
       "      <td>NaN</td>\n",
       "      <td>291.14</td>\n",
       "      <td>0.0</td>\n",
       "      <td>0.0</td>\n",
       "      <td>75</td>\n",
       "      <td>Clouds</td>\n",
       "      <td>broken clouds</td>\n",
       "      <td>2012-10-02 13:00:00</td>\n",
       "      <td>4918</td>\n",
       "    </tr>\n",
       "  </tbody>\n",
       "</table>\n",
       "</div>"
      ],
      "text/plain": [
       "  holiday    temp  rain_1h  snow_1h  clouds_all weather_main  \\\n",
       "0     NaN  288.28      0.0      0.0          40       Clouds   \n",
       "1     NaN  289.36      0.0      0.0          75       Clouds   \n",
       "2     NaN  289.58      0.0      0.0          90       Clouds   \n",
       "3     NaN  290.13      0.0      0.0          90       Clouds   \n",
       "4     NaN  291.14      0.0      0.0          75       Clouds   \n",
       "\n",
       "  weather_description            date_time  traffic_volume  \n",
       "0    scattered clouds  2012-10-02 09:00:00            5545  \n",
       "1       broken clouds  2012-10-02 10:00:00            4516  \n",
       "2     overcast clouds  2012-10-02 11:00:00            4767  \n",
       "3     overcast clouds  2012-10-02 12:00:00            5026  \n",
       "4       broken clouds  2012-10-02 13:00:00            4918  "
      ]
     },
     "execution_count": 19,
     "metadata": {},
     "output_type": "execute_result"
    }
   ],
   "source": [
    "# Description: Load the Metro Interstate Traffic Volume dataset from a local file.\n",
    "\n",
    "import pandas as pd\n",
    "\n",
    "df_traffic = pd.read_csv(\"metro_interstate_traffic_volume.csv\", encoding=\"utf-8\")\n",
    "\n",
    "print(\"Dataset shape:\", df_traffic.shape)\n",
    "df_traffic.head()"
   ]
  },
  {
   "cell_type": "markdown",
   "id": "eb0232d4",
   "metadata": {},
   "source": [
    "### 2 — Identify structured elements"
   ]
  },
  {
   "cell_type": "code",
   "execution_count": 20,
   "id": "3bea1d6c",
   "metadata": {},
   "outputs": [
    {
     "name": "stdout",
     "output_type": "stream",
     "text": [
      "Structured data columns:\n",
      "- holiday\n",
      "- temp\n",
      "- rain_1h\n",
      "- snow_1h\n",
      "- clouds_all\n",
      "- weather_main\n",
      "- weather_description\n",
      "- traffic_volume\n"
     ]
    }
   ],
   "source": [
    "# Description: Print columns that contain structured data such as numeric values, dates, and fixed categories.\n",
    "\n",
    "structured_cols = []\n",
    "\n",
    "for col in df_traffic.columns:\n",
    "    if pd.api.types.is_numeric_dtype(df_traffic[col]):\n",
    "        structured_cols.append(col)\n",
    "    elif pd.api.types.is_datetime64_any_dtype(df_traffic[col]):\n",
    "        structured_cols.append(col)\n",
    "    elif df_traffic[col].nunique() < 50:  # low-cardinality categories\n",
    "        structured_cols.append(col)\n",
    "\n",
    "print(\"Structured data columns:\")\n",
    "for col in structured_cols:\n",
    "    print(\"-\", col)"
   ]
  },
  {
   "cell_type": "markdown",
   "id": "f0fff18d",
   "metadata": {},
   "source": [
    "### 3 — Categorize all columns"
   ]
  },
  {
   "cell_type": "code",
   "execution_count": 21,
   "id": "c4ac2f66",
   "metadata": {},
   "outputs": [
    {
     "name": "stdout",
     "output_type": "stream",
     "text": [
      "Column classification:\n",
      "holiday: Structured (categorical)\n",
      "temp: Structured (numeric)\n",
      "rain_1h: Structured (numeric)\n",
      "snow_1h: Structured (numeric)\n",
      "clouds_all: Structured (numeric)\n",
      "weather_main: Structured (categorical)\n",
      "weather_description: Structured (categorical)\n",
      "date_time: Unstructured (text/description)\n",
      "traffic_volume: Structured (numeric)\n"
     ]
    }
   ],
   "source": [
    "# Description: Classify each dataset column as structured or unstructured, with explanation.\n",
    "\n",
    "column_types = {}\n",
    "\n",
    "for col in df_traffic.columns:\n",
    "    if pd.api.types.is_numeric_dtype(df_traffic[col]):\n",
    "        column_types[col] = \"Structured (numeric)\"\n",
    "    elif pd.api.types.is_datetime64_any_dtype(df_traffic[col]):\n",
    "        column_types[col] = \"Structured (date-time)\"\n",
    "    elif df_traffic[col].nunique() < 50:\n",
    "        column_types[col] = \"Structured (categorical)\"\n",
    "    else:\n",
    "        column_types[col] = \"Unstructured (text/description)\"\n",
    "\n",
    "print(\"Column classification:\")\n",
    "for col, ctype in column_types.items():\n",
    "    print(f\"{col}: {ctype}\")"
   ]
  },
  {
   "cell_type": "markdown",
   "id": "07025754",
   "metadata": {},
   "source": [
    "### 4 - Explanation of Categorization"
   ]
  },
  {
   "cell_type": "code",
   "execution_count": 22,
   "id": "1aeedf83",
   "metadata": {},
   "outputs": [
    {
     "name": "stdout",
     "output_type": "stream",
     "text": [
      "\n",
      "Structured data includes:\n",
      "- Date and time columns: allow chronological analysis and filtering.\n",
      "- Traffic volume: numeric and measurable.\n",
      "- Weather-related numeric values: temperature, rain, snow amounts.\n",
      "- Fixed category columns: e.g., holiday indicator, weather main condition.\n",
      "\n",
      "Unstructured data includes:\n",
      "- Free-text weather descriptions: require text processing before analysis.\n",
      "\n",
      "Structured data is straightforward to filter, aggregate, and analyze statistically.\n",
      "Unstructured data, while potentially valuable, requires preprocessing such as tokenization or text classification before it can be used effectively in analysis.\n",
      "\n"
     ]
    }
   ],
   "source": [
    "# Description: Provide reasoning for structured vs unstructured classification.\n",
    "\n",
    "print(\"\"\"\n",
    "Structured data includes:\n",
    "- Date and time columns: allow chronological analysis and filtering.\n",
    "- Traffic volume: numeric and measurable.\n",
    "- Weather-related numeric values: temperature, rain, snow amounts.\n",
    "- Fixed category columns: e.g., holiday indicator, weather main condition.\n",
    "\n",
    "Unstructured data includes:\n",
    "- Free-text weather descriptions: require text processing before analysis.\n",
    "\n",
    "Structured data is straightforward to filter, aggregate, and analyze statistically.\n",
    "Unstructured data, while potentially valuable, requires preprocessing such as tokenization or text classification before it can be used effectively in analysis.\n",
    "\"\"\")"
   ]
  },
  {
   "cell_type": "markdown",
   "id": "0838621f",
   "metadata": {},
   "source": [
    "### Conclusion\n",
    "\n",
    "The Metro Interstate Traffic Volume dataset contains both structured and unstructured data elements. Structured columns, such as date-time, traffic volume, and categorical weather indicators, are straightforward to analyze for trends and correlations. In contrast, unstructured elements, such as detailed weather descriptions, require additional preprocessing and text analysis to extract useful insights. Recognizing these differences helps in choosing the right analytical techniques and tools for each data type."
   ]
  },
  {
   "cell_type": "markdown",
   "id": "56bb8546",
   "metadata": {},
   "source": [
    "## Exercise 4: Basic Data Analysis in a Movie Ratings Dataset"
   ]
  },
  {
   "cell_type": "markdown",
   "id": "a72bf5cf",
   "metadata": {},
   "source": [
    "## Objective\n",
    "Load and explore the ratings dataset from MovieLens, identify structured data elements, and explain why they are considered structured.\n",
    "\n",
    "### Steps\n",
    "1. Load the ratings dataset and preview  \n",
    "2. Identify structured elements  \n",
    "3. Explain why these data elements are structured"
   ]
  },
  {
   "cell_type": "markdown",
   "id": "69118a04",
   "metadata": {},
   "source": [
    "### 1. Load Ratings Dataset"
   ]
  },
  {
   "cell_type": "code",
   "execution_count": 23,
   "id": "21640187",
   "metadata": {},
   "outputs": [
    {
     "name": "stdout",
     "output_type": "stream",
     "text": [
      "Dataset shape: (20000263, 4)\n"
     ]
    },
    {
     "data": {
      "text/html": [
       "<div>\n",
       "<style scoped>\n",
       "    .dataframe tbody tr th:only-of-type {\n",
       "        vertical-align: middle;\n",
       "    }\n",
       "\n",
       "    .dataframe tbody tr th {\n",
       "        vertical-align: top;\n",
       "    }\n",
       "\n",
       "    .dataframe thead th {\n",
       "        text-align: right;\n",
       "    }\n",
       "</style>\n",
       "<table border=\"1\" class=\"dataframe\">\n",
       "  <thead>\n",
       "    <tr style=\"text-align: right;\">\n",
       "      <th></th>\n",
       "      <th>userId</th>\n",
       "      <th>movieId</th>\n",
       "      <th>rating</th>\n",
       "      <th>timestamp</th>\n",
       "    </tr>\n",
       "  </thead>\n",
       "  <tbody>\n",
       "    <tr>\n",
       "      <th>0</th>\n",
       "      <td>1</td>\n",
       "      <td>2</td>\n",
       "      <td>3.5</td>\n",
       "      <td>2005-04-02 23:53:47</td>\n",
       "    </tr>\n",
       "    <tr>\n",
       "      <th>1</th>\n",
       "      <td>1</td>\n",
       "      <td>29</td>\n",
       "      <td>3.5</td>\n",
       "      <td>2005-04-02 23:31:16</td>\n",
       "    </tr>\n",
       "    <tr>\n",
       "      <th>2</th>\n",
       "      <td>1</td>\n",
       "      <td>32</td>\n",
       "      <td>3.5</td>\n",
       "      <td>2005-04-02 23:33:39</td>\n",
       "    </tr>\n",
       "    <tr>\n",
       "      <th>3</th>\n",
       "      <td>1</td>\n",
       "      <td>47</td>\n",
       "      <td>3.5</td>\n",
       "      <td>2005-04-02 23:32:07</td>\n",
       "    </tr>\n",
       "    <tr>\n",
       "      <th>4</th>\n",
       "      <td>1</td>\n",
       "      <td>50</td>\n",
       "      <td>3.5</td>\n",
       "      <td>2005-04-02 23:29:40</td>\n",
       "    </tr>\n",
       "  </tbody>\n",
       "</table>\n",
       "</div>"
      ],
      "text/plain": [
       "   userId  movieId  rating            timestamp\n",
       "0       1        2     3.5  2005-04-02 23:53:47\n",
       "1       1       29     3.5  2005-04-02 23:31:16\n",
       "2       1       32     3.5  2005-04-02 23:33:39\n",
       "3       1       47     3.5  2005-04-02 23:32:07\n",
       "4       1       50     3.5  2005-04-02 23:29:40"
      ]
     },
     "execution_count": 23,
     "metadata": {},
     "output_type": "execute_result"
    }
   ],
   "source": [
    "# Description: Load the ratings.csv file and display basic information.\n",
    "\n",
    "import pandas as pd\n",
    "\n",
    "df_ratings = pd.read_csv(\"rating.csv\", encoding=\"utf-8\")\n",
    "\n",
    "print(\"Dataset shape:\", df_ratings.shape)\n",
    "df_ratings.head()"
   ]
  },
  {
   "cell_type": "markdown",
   "id": "707d322d",
   "metadata": {},
   "source": [
    "### 2. Identify Structured Elements"
   ]
  },
  {
   "cell_type": "code",
   "execution_count": 24,
   "id": "252aba68",
   "metadata": {},
   "outputs": [
    {
     "name": "stdout",
     "output_type": "stream",
     "text": [
      "Structured data columns:\n",
      "- userId\n",
      "- movieId\n",
      "- rating\n"
     ]
    }
   ],
   "source": [
    "# Description: Identify columns containing structured data.\n",
    "\n",
    "structured_cols = []\n",
    "\n",
    "for col in df_ratings.columns:\n",
    "    if pd.api.types.is_numeric_dtype(df_ratings[col]):\n",
    "        structured_cols.append(col)\n",
    "    elif pd.api.types.is_datetime64_any_dtype(df_ratings[col]):\n",
    "        structured_cols.append(col)\n",
    "\n",
    "print(\"Structured data columns:\")\n",
    "for col in structured_cols:\n",
    "    print(\"-\", col)"
   ]
  },
  {
   "cell_type": "markdown",
   "id": "bdb0b99c",
   "metadata": {},
   "source": [
    "### 3. Explanation"
   ]
  },
  {
   "cell_type": "code",
   "execution_count": 25,
   "id": "065a5f7d",
   "metadata": {},
   "outputs": [
    {
     "name": "stdout",
     "output_type": "stream",
     "text": [
      "\n",
      "The ratings.csv file contains the following structured elements:\n",
      "- userId: Numeric identifier for the user, enabling grouping and filtering.\n",
      "- movieId: Numeric identifier for the movie, allowing easy joins with other datasets.\n",
      "- rating: Numeric value representing the user’s evaluation of a movie, suitable for aggregation and statistical analysis.\n",
      "- timestamp: Numeric or date-time value indicating when the rating was given, useful for chronological analysis.\n",
      "\n",
      "These elements are considered structured because they follow a predefined schema, have consistent formats, and can be directly processed and analyzed without requiring complex preprocessing.\n",
      "\n"
     ]
    }
   ],
   "source": [
    "# Title: Why These Elements Are Structured\n",
    "# Description: Explain why the data elements in ratings.csv are considered structured.\n",
    "\n",
    "print(\"\"\"\n",
    "The ratings.csv file contains the following structured elements:\n",
    "- userId: Numeric identifier for the user, enabling grouping and filtering.\n",
    "- movieId: Numeric identifier for the movie, allowing easy joins with other datasets.\n",
    "- rating: Numeric value representing the user’s evaluation of a movie, suitable for aggregation and statistical analysis.\n",
    "- timestamp: Numeric or date-time value indicating when the rating was given, useful for chronological analysis.\n",
    "\n",
    "These elements are considered structured because they follow a predefined schema, have consistent formats, and can be directly processed and analyzed without requiring complex preprocessing.\n",
    "\"\"\")"
   ]
  },
  {
   "cell_type": "markdown",
   "id": "7414e95b",
   "metadata": {},
   "source": [
    "### Conclusion\n",
    "\n",
    "The MovieLens ratings dataset contains fully structured data, with each column adhering to a predefined format. User and movie IDs act as categorical identifiers, ratings provide quantitative measures of user preferences, and timestamps offer temporal context for the ratings. Because the data is structured, it can be easily filtered, aggregated, and integrated with other datasets to support various analytical tasks, such as recommendation systems and trend analysis."
   ]
  },
  {
   "cell_type": "markdown",
   "id": "6578c130",
   "metadata": {},
   "source": [
    "## Exercise 5: Creating a Synthetic Product Catalog"
   ]
  },
  {
   "cell_type": "markdown",
   "id": "a8c8f173",
   "metadata": {},
   "source": [
    "### Objective\n",
    "Generate a synthetic product catalog for an e-commerce platform using the Faker library.\n",
    "\n",
    "### Steps\n",
    "1. Install and import Faker  \n",
    "2. Generate 500 synthetic products with unique IDs, names, descriptions, and prices  \n",
    "3. Create a Pandas DataFrame from the generated data"
   ]
  },
  {
   "cell_type": "markdown",
   "id": "60cd7bbc",
   "metadata": {},
   "source": [
    "### 1 — Install and import Faker"
   ]
  },
  {
   "cell_type": "code",
   "execution_count": 26,
   "id": "1b9d78c4",
   "metadata": {},
   "outputs": [
    {
     "name": "stderr",
     "output_type": "stream",
     "text": [
      "\n",
      "[notice] A new release of pip is available: 25.1.1 -> 25.2\n",
      "[notice] To update, run: python.exe -m pip install --upgrade pip\n"
     ]
    }
   ],
   "source": [
    "# Description: Ensure Faker is installed and ready to use.\n",
    "\n",
    "!pip install faker --quiet\n",
    "\n",
    "from faker import Faker\n",
    "import pandas as pd\n",
    "import random"
   ]
  },
  {
   "cell_type": "markdown",
   "id": "7c9015c8",
   "metadata": {},
   "source": [
    "### 2 - Generate Synthetic Product Catalog"
   ]
  },
  {
   "cell_type": "code",
   "execution_count": 27,
   "id": "9ab3e216",
   "metadata": {},
   "outputs": [
    {
     "name": "stdout",
     "output_type": "stream",
     "text": [
      "Generated product catalog shape: (500, 4)\n"
     ]
    },
    {
     "data": {
      "text/html": [
       "<div>\n",
       "<style scoped>\n",
       "    .dataframe tbody tr th:only-of-type {\n",
       "        vertical-align: middle;\n",
       "    }\n",
       "\n",
       "    .dataframe tbody tr th {\n",
       "        vertical-align: top;\n",
       "    }\n",
       "\n",
       "    .dataframe thead th {\n",
       "        text-align: right;\n",
       "    }\n",
       "</style>\n",
       "<table border=\"1\" class=\"dataframe\">\n",
       "  <thead>\n",
       "    <tr style=\"text-align: right;\">\n",
       "      <th></th>\n",
       "      <th>ProductID</th>\n",
       "      <th>Name</th>\n",
       "      <th>Description</th>\n",
       "      <th>Price</th>\n",
       "    </tr>\n",
       "  </thead>\n",
       "  <tbody>\n",
       "    <tr>\n",
       "      <th>0</th>\n",
       "      <td>1</td>\n",
       "      <td>Nature Religious</td>\n",
       "      <td>Still economic white week live medical writer ...</td>\n",
       "      <td>81.60</td>\n",
       "    </tr>\n",
       "    <tr>\n",
       "      <th>1</th>\n",
       "      <td>2</td>\n",
       "      <td>Have Guess</td>\n",
       "      <td>Range those him individual lawyer number addre...</td>\n",
       "      <td>19.19</td>\n",
       "    </tr>\n",
       "    <tr>\n",
       "      <th>2</th>\n",
       "      <td>3</td>\n",
       "      <td>Push Less</td>\n",
       "      <td>Whatever simple say car human tell make reason...</td>\n",
       "      <td>57.52</td>\n",
       "    </tr>\n",
       "    <tr>\n",
       "      <th>3</th>\n",
       "      <td>4</td>\n",
       "      <td>Laugh Police</td>\n",
       "      <td>Seven sing popular ground wife report beyond s...</td>\n",
       "      <td>210.01</td>\n",
       "    </tr>\n",
       "    <tr>\n",
       "      <th>4</th>\n",
       "      <td>5</td>\n",
       "      <td>Control Back</td>\n",
       "      <td>Poor rate a help field admit inside court case...</td>\n",
       "      <td>230.98</td>\n",
       "    </tr>\n",
       "  </tbody>\n",
       "</table>\n",
       "</div>"
      ],
      "text/plain": [
       "   ProductID              Name  \\\n",
       "0          1  Nature Religious   \n",
       "1          2        Have Guess   \n",
       "2          3         Push Less   \n",
       "3          4      Laugh Police   \n",
       "4          5      Control Back   \n",
       "\n",
       "                                         Description   Price  \n",
       "0  Still economic white week live medical writer ...   81.60  \n",
       "1  Range those him individual lawyer number addre...   19.19  \n",
       "2  Whatever simple say car human tell make reason...   57.52  \n",
       "3  Seven sing popular ground wife report beyond s...  210.01  \n",
       "4  Poor rate a help field admit inside court case...  230.98  "
      ]
     },
     "execution_count": 27,
     "metadata": {},
     "output_type": "execute_result"
    }
   ],
   "source": [
    "# Description: Create 500 products with ID, name, description, and price.\n",
    "\n",
    "# Initialize Faker\n",
    "fake = Faker()\n",
    "\n",
    "# Generate data\n",
    "product_data = []\n",
    "for i in range(1, 501):\n",
    "    product_id = i\n",
    "    product_name = fake.word().capitalize() + \" \" + fake.word().capitalize()\n",
    "    product_description = fake.sentence(nb_words=12)\n",
    "    product_price = round(random.uniform(5.0, 500.0), 2)  # price between 5 and 500\n",
    "    product_data.append([product_id, product_name, product_description, product_price])\n",
    "\n",
    "# Create DataFrame\n",
    "df_products = pd.DataFrame(product_data, columns=[\"ProductID\", \"Name\", \"Description\", \"Price\"])\n",
    "\n",
    "print(\"Generated product catalog shape:\", df_products.shape)\n",
    "df_products.head()"
   ]
  },
  {
   "cell_type": "markdown",
   "id": "e07d59fd",
   "metadata": {},
   "source": [
    "### 3 - Save To CSV"
   ]
  },
  {
   "cell_type": "code",
   "execution_count": 28,
   "id": "02e12205",
   "metadata": {},
   "outputs": [
    {
     "name": "stdout",
     "output_type": "stream",
     "text": [
      "Synthetic product catalog saved as synthetic_product_catalog.csv\n"
     ]
    }
   ],
   "source": [
    "# Description: Save the generated catalog to a CSV file for later use.\n",
    "\n",
    "df_products.to_csv(\"synthetic_product_catalog.csv\", index=False)\n",
    "print(\"Synthetic product catalog saved as synthetic_product_catalog.csv\")"
   ]
  },
  {
   "cell_type": "markdown",
   "id": "2d527d52",
   "metadata": {},
   "source": [
    "### Conclusion\n",
    "\n",
    "Using the Faker library, we successfully generated a synthetic product catalog containing 500 unique products. Each product includes a unique identifier, a name, a short description, and a randomly generated price. This type of synthetic dataset can be useful for testing e-commerce platforms, developing data pipelines, or creating prototypes without relying on real customer or product data."
   ]
  },
  {
   "cell_type": "markdown",
   "id": "6579d7bf",
   "metadata": {},
   "source": [
    "## Overall Conclusion\n",
    "\n",
    "The XP Gold series provided practical experience in working with both structured and unstructured data across multiple domains. \n",
    "\n",
    "- In the retail analysis, we combined multiple structured datasets to identify sales trends, customer purchasing patterns, and store performance, and contrasted these with qualitative insights derived from unstructured customer reviews.\n",
    "- In the e-commerce data exploration, we identified structured data elements and discussed how unstructured data could complement business analysis.\n",
    "- In the transportation dataset, we classified data elements as structured or unstructured, emphasizing the analytical potential of each.\n",
    "- In the movie ratings dataset, we identified and justified the structured nature of user ratings data, highlighting its readiness for statistical analysis and integration into recommendation systems.\n",
    "- Finally, using the Faker library, we generated a synthetic e-commerce product catalog, demonstrating how artificial data can be used for testing and prototyping without exposing sensitive information.\n",
    "\n",
    "Overall, the exercises reinforced the importance of recognizing different data types, applying appropriate analytical methods, and understanding how structured and unstructured data can complement each other in producing actionable insights."
   ]
  }
 ],
 "metadata": {
  "kernelspec": {
   "display_name": "nlp_course_env",
   "language": "python",
   "name": "python3"
  },
  "language_info": {
   "codemirror_mode": {
    "name": "ipython",
    "version": 3
   },
   "file_extension": ".py",
   "mimetype": "text/x-python",
   "name": "python",
   "nbconvert_exporter": "python",
   "pygments_lexer": "ipython3",
   "version": "3.10.0"
  }
 },
 "nbformat": 4,
 "nbformat_minor": 5
}
