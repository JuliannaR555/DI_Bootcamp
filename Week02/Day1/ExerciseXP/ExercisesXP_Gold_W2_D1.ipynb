{
  "nbformat": 4,
  "nbformat_minor": 0,
  "metadata": {
    "colab": {
      "provenance": []
    },
    "kernelspec": {
      "name": "python3",
      "display_name": "Python 3"
    },
    "language_info": {
      "name": "python"
    }
  },
  "cells": [
    {
      "cell_type": "markdown",
      "source": [
        "# Exercises XP Gold: W2_D1"
      ],
      "metadata": {
        "id": "oYfY-sifJ8Xp"
      }
    },
    {
      "cell_type": "markdown",
      "source": [
        "## What We Will Learn\n",
        "- Basic Python programming in Google Colab and Jupyter Notebook\n",
        "- Accessing and inspecting datasets (e.g., from Kaggle)\n",
        "- Basic data analysis techniques with Pandas/Numpy\n",
        "- Creating and manipulating data programmatically\n",
        "\n",
        "## What You Will Create\n",
        "- Python scripts in Google Colab/Jupyter\n",
        "- Outputs displaying dataset summaries and basic statistics\n",
        "\n",
        "---\n",
        "\n",
        "## Exercise 1: Basic Python Programming with Google Colab\n",
        "- Create a new Colab notebook.\n",
        "- Write a Python script to check whether a given number is **prime** (e.g., test `7`).\n",
        "\n",
        "## Exercise 2: List Comprehensions with Jupyter Notebook\n",
        "- Launch Jupyter Notebook locally and create a new notebook.\n",
        "- Using a **list comprehension**, find all numbers in a range (e.g., `1..20`) that are **divisible by a given number** (e.g., `3`).\n",
        "\n",
        "## Exercise 3: Kaggle Dataset Exploration — Print Dataset Information\n",
        "- Choose a dataset **other than Titanic** (e.g., Iris).\n",
        "- Load the dataset and print:\n",
        "  - `head()` (first rows)\n",
        "  - the list of **columns**\n",
        "  - **data types** of each column\n",
        "\n",
        "## Exercise 4: Basic Data Analysis with Kaggle\n",
        "- Select a simple dataset (e.g., Boston Housing).\n",
        "- Compute the **mean**, **median**, and **standard deviation** of a chosen **numeric column** and print the results.\n",
        "\n",
        "## Exercise 5: Transform Qualitative → Quantitative (Titanic)\n",
        "- Download and load the **Titanic** dataset (e.g., from Kaggle).\n",
        "- Transform the `sex` column using `.map` so that:\n",
        "  - `female → 0`\n",
        "  - `male → 1`\n",
        "- Show the transformed column and basic value counts.\n",
        "\n"
      ],
      "metadata": {
        "id": "4ChKgMTjJ8RC"
      }
    },
    {
      "cell_type": "markdown",
      "source": [
        "## Exercise 1 — Prime check (example with 7)"
      ],
      "metadata": {
        "id": "DBVQhtSvJ7pZ"
      }
    },
    {
      "cell_type": "code",
      "execution_count": 1,
      "metadata": {
        "colab": {
          "base_uri": "https://localhost:8080/"
        },
        "id": "3G4C2WwqJ3MY",
        "outputId": "273d389b-4f62-456b-f754-16c7811ff284"
      },
      "outputs": [
        {
          "output_type": "stream",
          "name": "stdout",
          "text": [
            "7 is prime? True\n"
          ]
        }
      ],
      "source": [
        "# Title: Prime number check (with sqrt optimization)\n",
        "# This function returns True if n is prime, else False. Includes quick tests.\n",
        "\n",
        "import math\n",
        "\n",
        "def is_prime(n: int) -> bool:\n",
        "    \"\"\"Return True if n is a prime number, else False.\"\"\"\n",
        "    if n <= 1:\n",
        "        return False\n",
        "    if n <= 3:\n",
        "        return True\n",
        "    if n % 2 == 0 or n % 3 == 0:\n",
        "        return False\n",
        "    limit = int(math.isqrt(n))\n",
        "    i = 5\n",
        "    while i <= limit:\n",
        "        if n % i == 0 or n % (i + 2) == 0:\n",
        "            return False\n",
        "        i += 6\n",
        "    return True\n",
        "\n",
        "# Example: check if 7 is prime\n",
        "n = 7\n",
        "print(f\"{n} is prime? {is_prime(n)}\")"
      ]
    },
    {
      "cell_type": "markdown",
      "source": [
        "## Exercise 2 — List comprehension (divisible numbers)"
      ],
      "metadata": {
        "id": "-mJmk9p3KVyp"
      }
    },
    {
      "cell_type": "code",
      "source": [
        "# Title: List comprehension for numbers divisible by a given divisor\n",
        "# Find all numbers in a given inclusive range that are divisible by 'divisor'.\n",
        "\n",
        "start, end, divisor = 1, 20, 3  # change as needed\n",
        "divisible = [x for x in range(start, end + 1) if x % divisor == 0]\n",
        "print(f\"Numbers in [{start}, {end}] divisible by {divisor}: {divisible}\")"
      ],
      "metadata": {
        "colab": {
          "base_uri": "https://localhost:8080/"
        },
        "id": "SY2jJ6w5KaJi",
        "outputId": "07cc0576-beef-41c5-bb6f-5b0a9d2af14a"
      },
      "execution_count": 2,
      "outputs": [
        {
          "output_type": "stream",
          "name": "stdout",
          "text": [
            "Numbers in [1, 20] divisible by 3: [3, 6, 9, 12, 15, 18]\n"
          ]
        }
      ]
    },
    {
      "cell_type": "markdown",
      "source": [
        "## Exercise 3 — Kaggle dataset exploration (head, columns, dtypes)"
      ],
      "metadata": {
        "id": "MTFbyGhRKdAx"
      }
    },
    {
      "cell_type": "code",
      "source": [
        "# Title: Dataset exploration — head, columns, dtypes (Kaggle-like)\n",
        "# Option A: set csv_path to your downloaded Kaggle CSV file path.\n",
        "# Option B: leave csv_path=None to demo with seaborn's built-in \"iris\" (no download).\n",
        "\n",
        "import pandas as pd\n",
        "\n",
        "csv_path = None  # e.g., \"/content/iris.csv\" or \"path/to/your.csv\"\n",
        "\n",
        "try:\n",
        "    if csv_path:\n",
        "        df = pd.read_csv(csv_path)\n",
        "        source = f\"Loaded from CSV: {csv_path}\"\n",
        "    else:\n",
        "        import seaborn as sns\n",
        "        df = sns.load_dataset(\"iris\")\n",
        "        source = \"Loaded seaborn iris (demo fallback)\"\n",
        "except Exception as e:\n",
        "    raise RuntimeError(f\"Failed to load dataset: {e}\")\n",
        "\n",
        "print(source)\n",
        "print(\"\\n--- HEAD ---\")\n",
        "print(df.head())\n",
        "print(\"\\n--- COLUMNS ---\")\n",
        "print(list(df.columns))\n",
        "print(\"\\n--- DTYPES ---\")\n",
        "print(df.dtypes)"
      ],
      "metadata": {
        "colab": {
          "base_uri": "https://localhost:8080/"
        },
        "id": "fj1moT6mKflr",
        "outputId": "508d1732-325e-4052-f1ef-be70b797bf45"
      },
      "execution_count": 3,
      "outputs": [
        {
          "output_type": "stream",
          "name": "stdout",
          "text": [
            "Loaded seaborn iris (demo fallback)\n",
            "\n",
            "--- HEAD ---\n",
            "   sepal_length  sepal_width  petal_length  petal_width species\n",
            "0           5.1          3.5           1.4          0.2  setosa\n",
            "1           4.9          3.0           1.4          0.2  setosa\n",
            "2           4.7          3.2           1.3          0.2  setosa\n",
            "3           4.6          3.1           1.5          0.2  setosa\n",
            "4           5.0          3.6           1.4          0.2  setosa\n",
            "\n",
            "--- COLUMNS ---\n",
            "['sepal_length', 'sepal_width', 'petal_length', 'petal_width', 'species']\n",
            "\n",
            "--- DTYPES ---\n",
            "sepal_length    float64\n",
            "sepal_width     float64\n",
            "petal_length    float64\n",
            "petal_width     float64\n",
            "species          object\n",
            "dtype: object\n"
          ]
        }
      ]
    },
    {
      "cell_type": "markdown",
      "source": [
        "## Exercise 4 — Basic data analysis (mean, median, std of a column)"
      ],
      "metadata": {
        "id": "ybzk0jz3KknA"
      }
    },
    {
      "cell_type": "code",
      "source": [
        "# Title: Basic stats — mean, median, std for a chosen numeric column\n",
        "# Works with any DataFrame 'df' (reuse df from previous cell). If no column specified,\n",
        "# pick the first numeric column automatically.\n",
        "\n",
        "import numpy as np\n",
        "\n",
        "# Optional: set a column name explicitly (string). If None, auto-detect the first numeric one.\n",
        "column_name = None  # e.g., \"sepal_length\"\n",
        "\n",
        "# Ensure df exists (from Exercise 3). Otherwise, quickly demo with seaborn iris.\n",
        "try:\n",
        "    df\n",
        "except NameError:\n",
        "    import seaborn as sns\n",
        "    df = sns.load_dataset(\"iris\")\n",
        "\n",
        "# Pick column\n",
        "if column_name is None:\n",
        "    numeric_cols = df.select_dtypes(include=[np.number]).columns.tolist()\n",
        "    if not numeric_cols:\n",
        "        raise ValueError(\"No numeric columns found.\")\n",
        "    column_name = numeric_cols[0]\n",
        "\n",
        "col = df[column_name].dropna()\n",
        "mean_val = col.mean()\n",
        "median_val = col.median()\n",
        "std_val = col.std(ddof=1)  # sample std\n",
        "\n",
        "print(f\"Column: {column_name}\")\n",
        "print(f\"Mean:   {mean_val:.4f}\")\n",
        "print(f\"Median: {median_val:.4f}\")\n",
        "print(f\"Std:    {std_val:.4f}\")"
      ],
      "metadata": {
        "colab": {
          "base_uri": "https://localhost:8080/"
        },
        "id": "qsTAmcZBKnLj",
        "outputId": "b531af4a-6cca-4e52-cc2e-985866fa4504"
      },
      "execution_count": 4,
      "outputs": [
        {
          "output_type": "stream",
          "name": "stdout",
          "text": [
            "Column: sepal_length\n",
            "Mean:   5.8433\n",
            "Median: 5.8000\n",
            "Std:    0.8281\n"
          ]
        }
      ]
    },
    {
      "cell_type": "markdown",
      "source": [
        "## Exercise 5 — Titanic: map sex → 0 (female), 1 (male)"
      ],
      "metadata": {
        "id": "ppQmmVBNKr9f"
      }
    },
    {
      "cell_type": "code",
      "source": [
        "# Title: Titanic — map 'sex' to 0/1 with .map\n",
        "# Option A: set titanic_csv to your Kaggle Titanic CSV path (train.csv).\n",
        "# Option B: leave titanic_csv=None to demo with seaborn's titanic dataset (similar schema).\n",
        "\n",
        "import pandas as pd\n",
        "\n",
        "titanic_csv = None  # e.g., \"/content/train.csv\"\n",
        "\n",
        "try:\n",
        "    if titanic_csv:\n",
        "        titanic = pd.read_csv(titanic_csv)\n",
        "        source = f\"Kaggle CSV: {titanic_csv}\"\n",
        "    else:\n",
        "        import seaborn as sns\n",
        "        titanic = sns.load_dataset(\"titanic\")\n",
        "        source = \"seaborn titanic (demo fallback)\"\n",
        "except Exception as e:\n",
        "    raise RuntimeError(f\"Failed to load Titanic dataset: {e}\")\n",
        "\n",
        "print(\"Source:\", source)\n",
        "print(\"Columns:\", list(titanic.columns))\n",
        "\n",
        "# Handle common casing: Kaggle uses 'Sex', seaborn uses 'sex'\n",
        "sex_col = \"sex\" if \"sex\" in titanic.columns else (\"Sex\" if \"Sex\" in titanic.columns else None)\n",
        "if sex_col is None:\n",
        "    raise KeyError(\"No 'sex' or 'Sex' column found in the dataset.\")\n",
        "\n",
        "titanic[\"sex_num\"] = titanic[sex_col].map({\"female\": 0, \"male\": 1, \"Female\": 0, \"Male\": 1})\n",
        "\n",
        "print(\"\\nValue counts for mapped column 'sex_num':\")\n",
        "print(titanic[\"sex_num\"].value_counts(dropna=False))\n",
        "\n",
        "print(\"\\nPreview:\")\n",
        "print(titanic[[sex_col, \"sex_num\"]].head(10))"
      ],
      "metadata": {
        "colab": {
          "base_uri": "https://localhost:8080/"
        },
        "id": "h1dMXbBLKura",
        "outputId": "12be3df0-b3d0-4cfa-b9aa-332093025589"
      },
      "execution_count": 5,
      "outputs": [
        {
          "output_type": "stream",
          "name": "stdout",
          "text": [
            "Source: seaborn titanic (demo fallback)\n",
            "Columns: ['survived', 'pclass', 'sex', 'age', 'sibsp', 'parch', 'fare', 'embarked', 'class', 'who', 'adult_male', 'deck', 'embark_town', 'alive', 'alone']\n",
            "\n",
            "Value counts for mapped column 'sex_num':\n",
            "sex_num\n",
            "1    577\n",
            "0    314\n",
            "Name: count, dtype: int64\n",
            "\n",
            "Preview:\n",
            "      sex  sex_num\n",
            "0    male        1\n",
            "1  female        0\n",
            "2  female        0\n",
            "3  female        0\n",
            "4    male        1\n",
            "5    male        1\n",
            "6    male        1\n",
            "7    male        1\n",
            "8  female        0\n",
            "9  female        0\n"
          ]
        }
      ]
    },
    {
      "cell_type": "markdown",
      "source": [
        "## Conclusion\n",
        "\n",
        "In this set of exercises I:\n",
        "\n",
        "- Implemented a **prime-check** function and practiced control flow.\n",
        "- Used a **list comprehension** to filter numbers by divisibility.\n",
        "- Loaded a real-world dataset and reported its **head, columns, and dtypes**.\n",
        "- Calculated **mean**, **median**, and **standard deviation** for a numeric column using Pandas/Numpy.\n",
        "- Converted a **categorical** feature (`sex`) into a **numeric** representation with `.map`, preparing the data for downstream analysis or modeling.\n",
        "\n",
        "These tasks reinforced practical data-wrangling skills in notebooks and established a base for more advanced EDA and ML workflows.\n"
      ],
      "metadata": {
        "id": "nRM-kZmcK3Ok"
      }
    }
  ]
}