{
 "cells": [
  {
   "cell_type": "markdown",
   "id": "101b7450",
   "metadata": {},
   "source": [
    "## Daily Challenge: W2_D3"
   ]
  },
  {
   "cell_type": "markdown",
   "id": "5c4e5279",
   "metadata": {},
   "source": [
    "##### Step 1: Load the dataset"
   ]
  },
  {
   "cell_type": "code",
   "execution_count": 4,
   "id": "529826c8",
   "metadata": {},
   "outputs": [
    {
     "name": "stdout",
     "output_type": "stream",
     "text": [
      "   Unnamed: 0       job_title   job_type experience_level       location  \\\n",
      "0           0  Data scientist  Full Time           Senior  New York City   \n",
      "1           2  Data scientist  Full Time           Senior         Boston   \n",
      "2           3  Data scientist  Full Time           Senior         London   \n",
      "3           4  Data scientist  Full Time           Senior         Boston   \n",
      "4           5  Data scientist  Full Time           Senior  New York City   \n",
      "\n",
      "  salary_currency  salary  \n",
      "0             USD  149000  \n",
      "1             USD  120000  \n",
      "2             USD   68000  \n",
      "3             USD  120000  \n",
      "4             USD  149000  \n"
     ]
    }
   ],
   "source": [
    "import pandas as pd\n",
    "\n",
    "# Load the dataset\n",
    "df = pd.read_csv(r\"C:\\Users\\julia\\Downloads\\GenAI\\GitHub\\datascience_salaries.csv\")\n",
    "\n",
    "# Show the first few rows\n",
    "print(df.head())"
   ]
  },
  {
   "cell_type": "markdown",
   "id": "299cd8ef",
   "metadata": {},
   "source": [
    "#### Step 2: Normalize the salary column using Min-Max normalization"
   ]
  },
  {
   "cell_type": "code",
   "execution_count": 5,
   "id": "0b02cb32",
   "metadata": {},
   "outputs": [
    {
     "name": "stdout",
     "output_type": "stream",
     "text": [
      "   salary  salary_normalized\n",
      "0  149000           0.601010\n",
      "1  120000           0.454545\n",
      "2   68000           0.191919\n",
      "3  120000           0.454545\n",
      "4  149000           0.601010\n"
     ]
    }
   ],
   "source": [
    "# Min-Max normalization is useful when values (like salaries) span a wide range (e.g., $20,000–$200,000).\n",
    "# This scales the values between 0 and 1, which helps many machine learning models perform better.\n",
    "# It ensures that no feature (like salary) dominates due to scale differences.\n",
    "\n",
    "from sklearn.preprocessing import MinMaxScaler\n",
    "\n",
    "scaler = MinMaxScaler()\n",
    "df[\"salary_normalized\"] = scaler.fit_transform(df[[\"salary\"]])\n",
    "\n",
    "# Show the first few normalized salary values\n",
    "print(df[[\"salary\", \"salary_normalized\"]].head())\n"
   ]
  },
  {
   "cell_type": "markdown",
   "id": "7e9ad68c",
   "metadata": {},
   "source": [
    "#### Step 3: Dimensionality Reduction using PCA"
   ]
  },
  {
   "cell_type": "code",
   "execution_count": 6,
   "id": "b849955a",
   "metadata": {},
   "outputs": [
    {
     "name": "stdout",
     "output_type": "stream",
     "text": [
      "        PC1       PC2\n",
      "0  0.504567 -0.013410\n",
      "1  0.491521 -0.012297\n",
      "2  0.442823  0.854155\n",
      "3  0.491521 -0.012297\n",
      "4  0.504567 -0.013410\n"
     ]
    }
   ],
   "source": [
    "# PCA (Principal Component Analysis) helps reduce the number of features while preserving the most important information (variance).\n",
    "# Here, we first one-hot encode the categorical features to convert them into numeric format.\n",
    "# Then we combine the normalized salary column with the encoded features.\n",
    "# PCA is applied to reduce the dataset to 2 principal components for easier visualization or modeling.\n",
    "\n",
    "from sklearn.decomposition import PCA\n",
    "\n",
    "# Encode categorical columns using one-hot encoding (except the first category to avoid multicollinearity)\n",
    "df_encoded = pd.get_dummies(df[[\"job_type\", \"experience_level\", \"location\"]], drop_first=True)\n",
    "\n",
    "# Combine the normalized salary column with the encoded categorical features\n",
    "features = pd.concat([df[[\"salary_normalized\"]], df_encoded], axis=1)\n",
    "\n",
    "# Apply PCA to reduce the dataset to 2 principal components\n",
    "pca = PCA(n_components=2)\n",
    "reduced_data = pca.fit_transform(features)\n",
    "\n",
    "# Create a new DataFrame to store the PCA-transformed data\n",
    "reduced_df = pd.DataFrame(reduced_data, columns=[\"PC1\", \"PC2\"])\n",
    "\n",
    "# Show the first few rows of the reduced dataset\n",
    "print(reduced_df.head())"
   ]
  },
  {
   "cell_type": "markdown",
   "id": "0d9bb8cb",
   "metadata": {},
   "source": [
    "#### Step 4: Grouping by Experience Level — Aggregation of Salaries"
   ]
  },
  {
   "cell_type": "code",
   "execution_count": 7,
   "id": "89b21ba7",
   "metadata": {},
   "outputs": [
    {
     "name": "stdout",
     "output_type": "stream",
     "text": [
      "  Experience Level  Average Salary  Median Salary\n",
      "0            Entry    36111.111111        30000.0\n",
      "1        Executive    76076.923077        46000.0\n",
      "2              Mid    51786.885246        51000.0\n",
      "3           Senior    75088.033012        68000.0\n"
     ]
    }
   ],
   "source": [
    "# Grouping by 'experience_level' helps understand salary patterns across roles.\n",
    "# Calculating the average and median salary for each level (Junior, Senior, etc.)\n",
    "# gives useful insights into salary progression and disparities.\n",
    "\n",
    "grouped = df.groupby(\"experience_level\")[\"salary\"]\n",
    "salary_stats = grouped.agg([\"mean\", \"median\"]).reset_index()\n",
    "\n",
    "# Rename columns for clarity\n",
    "salary_stats.columns = [\"Experience Level\", \"Average Salary\", \"Median Salary\"]\n",
    "print(salary_stats)"
   ]
  },
  {
   "cell_type": "markdown",
   "id": "5be4d1e4",
   "metadata": {},
   "source": [
    "### Visualization: Salary by Experience Level"
   ]
  },
  {
   "cell_type": "code",
   "execution_count": 8,
   "id": "12039600",
   "metadata": {},
   "outputs": [
    {
     "name": "stdout",
     "output_type": "stream",
     "text": [
      "Defaulting to user installation because normal site-packages is not writeable\n",
      "Requirement already satisfied: matplotlib in c:\\users\\julia\\appdata\\local\\packages\\pythonsoftwarefoundation.python.3.13_qbz5n2kfra8p0\\localcache\\local-packages\\python313\\site-packages (3.10.3)\n",
      "Requirement already satisfied: contourpy>=1.0.1 in c:\\users\\julia\\appdata\\local\\packages\\pythonsoftwarefoundation.python.3.13_qbz5n2kfra8p0\\localcache\\local-packages\\python313\\site-packages (from matplotlib) (1.3.2)\n",
      "Requirement already satisfied: cycler>=0.10 in c:\\users\\julia\\appdata\\local\\packages\\pythonsoftwarefoundation.python.3.13_qbz5n2kfra8p0\\localcache\\local-packages\\python313\\site-packages (from matplotlib) (0.12.1)\n",
      "Requirement already satisfied: fonttools>=4.22.0 in c:\\users\\julia\\appdata\\local\\packages\\pythonsoftwarefoundation.python.3.13_qbz5n2kfra8p0\\localcache\\local-packages\\python313\\site-packages (from matplotlib) (4.58.4)\n",
      "Requirement already satisfied: kiwisolver>=1.3.1 in c:\\users\\julia\\appdata\\local\\packages\\pythonsoftwarefoundation.python.3.13_qbz5n2kfra8p0\\localcache\\local-packages\\python313\\site-packages (from matplotlib) (1.4.8)\n",
      "Requirement already satisfied: numpy>=1.23 in c:\\users\\julia\\appdata\\local\\packages\\pythonsoftwarefoundation.python.3.13_qbz5n2kfra8p0\\localcache\\local-packages\\python313\\site-packages (from matplotlib) (2.3.0)\n",
      "Requirement already satisfied: packaging>=20.0 in c:\\users\\julia\\appdata\\local\\packages\\pythonsoftwarefoundation.python.3.13_qbz5n2kfra8p0\\localcache\\local-packages\\python313\\site-packages (from matplotlib) (25.0)\n",
      "Requirement already satisfied: pillow>=8 in c:\\users\\julia\\appdata\\local\\packages\\pythonsoftwarefoundation.python.3.13_qbz5n2kfra8p0\\localcache\\local-packages\\python313\\site-packages (from matplotlib) (11.2.1)\n",
      "Requirement already satisfied: pyparsing>=2.3.1 in c:\\users\\julia\\appdata\\local\\packages\\pythonsoftwarefoundation.python.3.13_qbz5n2kfra8p0\\localcache\\local-packages\\python313\\site-packages (from matplotlib) (3.2.3)\n",
      "Requirement already satisfied: python-dateutil>=2.7 in c:\\users\\julia\\appdata\\local\\packages\\pythonsoftwarefoundation.python.3.13_qbz5n2kfra8p0\\localcache\\local-packages\\python313\\site-packages (from matplotlib) (2.9.0.post0)\n",
      "Requirement already satisfied: six>=1.5 in c:\\users\\julia\\appdata\\local\\packages\\pythonsoftwarefoundation.python.3.13_qbz5n2kfra8p0\\localcache\\local-packages\\python313\\site-packages (from python-dateutil>=2.7->matplotlib) (1.17.0)\n"
     ]
    },
    {
     "name": "stderr",
     "output_type": "stream",
     "text": [
      "\n",
      "[notice] A new release of pip is available: 25.0.1 -> 25.1.1\n",
      "[notice] To update, run: C:\\Users\\julia\\AppData\\Local\\Microsoft\\WindowsApps\\PythonSoftwareFoundation.Python.3.13_qbz5n2kfra8p0\\python.exe -m pip install --upgrade pip\n"
     ]
    }
   ],
   "source": [
    "!pip install matplotlib"
   ]
  },
  {
   "cell_type": "code",
   "execution_count": 9,
   "id": "85b17d10",
   "metadata": {},
   "outputs": [],
   "source": [
    "import site\n",
    "site.addsitedir(\"C:/Users/julia/AppData/Local/Packages/PythonSoftwareFoundation.Python.3.13_qbz5n2kfra8p0/LocalCache/local-packages/Python313/site-packages\")\n",
    "\n",
    "import matplotlib.pyplot as plt"
   ]
  },
  {
   "cell_type": "code",
   "execution_count": 10,
   "id": "31b5635d",
   "metadata": {},
   "outputs": [
    {
     "data": {
      "image/png": "[encoded data removed]",
      "text/plain": [
       "<Figure size 800x500 with 1 Axes>"
      ]
     },
     "metadata": {},
     "output_type": "display_data"
    }
   ],
   "source": [
    "plt.figure(figsize=(8, 5))\n",
    "plt.bar(salary_stats[\"Experience Level\"], salary_stats[\"Average Salary\"], color=\"skyblue\")\n",
    "plt.title(\"Average Salary by Experience Level\")\n",
    "plt.xlabel(\"Experience Level\")\n",
    "plt.ylabel(\"Average Salary\")\n",
    "plt.grid(axis='y')\n",
    "plt.tight_layout()\n",
    "plt.show()"
   ]
  },
  {
   "cell_type": "markdown",
   "id": "585ac91f",
   "metadata": {},
   "source": [
    "### Analysis of the Salary Distribution by Experience Level\n",
    "\n",
    "- **Executive-level roles** have the highest average salaries, surpassing all other categories.\n",
    "- **Senior-level professionals** also earn significantly more than Entry and Mid-level employees, reflecting their value in the market.\n",
    "- Surprisingly, **Mid-level salaries** are noticeably lower than Senior and Executive levels, and not much higher than Entry-level roles — this may indicate a sharp salary jump only after a certain level of experience is reached.\n",
    "- **Entry-level roles** have the lowest average salary, which is expected, but the gap compared to higher levels is substantial.\n",
    "\n",
    "This visualization confirms that **experience plays a major role in salary progression**, and that moving from mid to senior/executive levels has a strong financial impact.\n"
   ]
  },
  {
   "cell_type": "markdown",
   "id": "08dd4113",
   "metadata": {},
   "source": [
    "#### Insights Summary\n",
    "\n",
    "##### - Normalizing the salary values allowed us to bring all values into the same scale, which is important for comparison and model performance.\n",
    "##### - PCA successfully reduced the dataset's dimensions, helping us simplify the feature space while preserving most of the variance.\n",
    "##### - Salary statistics by experience level show clear progression:\n",
    "  ##### - Senior-level roles earn significantly more than junior roles on average.\n",
    "  ##### - There are notable disparities in median salary between levels, which highlights the value of experience in data science careers.\n",
    "##### - These transformations prepare the dataset for machine learning and support better business understanding of compensation patterns."
   ]
  }
 ],
 "metadata": {
  "kernelspec": {
   "display_name": "Python 3",
   "language": "python",
   "name": "python3"
  },
  "language_info": {
   "codemirror_mode": {
    "name": "ipython",
    "version": 3
   },
   "file_extension": ".py",
   "mimetype": "text/x-python",
   "name": "python",
   "nbconvert_exporter": "python",
   "pygments_lexer": "ipython3",
   "version": "3.13.1"
  }
 },
 "nbformat": 4,
 "nbformat_minor": 5
}
