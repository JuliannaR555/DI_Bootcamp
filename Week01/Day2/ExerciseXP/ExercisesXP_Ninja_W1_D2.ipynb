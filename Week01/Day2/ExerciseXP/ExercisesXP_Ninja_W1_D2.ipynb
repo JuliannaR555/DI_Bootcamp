{
  "nbformat": 4,
  "nbformat_minor": 0,
  "metadata": {
    "colab": {
      "provenance": []
    },
    "kernelspec": {
      "name": "python3",
      "display_name": "Python 3"
    },
    "language_info": {
      "name": "python"
    }
  },
  "cells": [
    {
      "cell_type": "markdown",
      "source": [
        "# Exercises XP Ninja: W1_D2"
      ],
      "metadata": {
        "id": "d66n7ZyDlfD5"
      }
    },
    {
      "cell_type": "markdown",
      "source": [
        "## What You'll Learn\n",
        "\n",
        "In these exercises, you will enhance your skills in Python by handling strings, lists, and functions. You will also learn about manipulating data structures and implementing basic algorithms. These exercises will sharpen your problem-solving skills and deepen your understanding of Python's built-in functions and methods.\n",
        "\n",
        "## What You Will Create\n",
        "\n",
        "You will create Python scripts that manipulate lists and strings, handle optional function parameters, and convert text between English and Morse code. This will include data cleaning, complex list manipulations, and practical use of loops and conditions to solve various problems.\n",
        "\n",
        "---\n",
        "\n",
        "### Exercise 1: Cars\n",
        "\n",
        "- Copy the following string into your code:  \n",
        "  `Volkswagen, Toyota, Ford Motor, Honda, Chevrolet`\n",
        "- Convert it into a list using Python (do not split manually).\n",
        "- Print a message stating how many manufacturers/companies are in the list.\n",
        "- Print the list of manufacturers in reverse/descending order (Z-A).\n",
        "- Using loops or list comprehensions:\n",
        "  - Find how many manufacturers' names have the letter `o` in them.\n",
        "  - Find how many manufacturers' names do not have the letter `i` in them.\n",
        "\n",
        "**Bonus:**\n",
        "- Remove duplicates from the list:  \n",
        "  `[\"Honda\", \"Volkswagen\", \"Toyota\", \"Ford Motor\", \"Honda\", \"Chevrolet\", \"Toyota\"]`\n",
        "- Print the companies without duplicates as a single comma-separated string, and display how many remain.\n",
        "- Print the list of manufacturers in ascending order (A-Z), but reverse the letters of each manufacturer's name.\n",
        "\n",
        "---\n",
        "\n",
        "### Exercise 2: What's your name?\n",
        "\n",
        "- Write a function `get_full_name()` with three arguments:\n",
        "  1. `first_name`\n",
        "  2. `middle_name` (optional)\n",
        "  3. `last_name`\n",
        "- If `middle_name` is omitted, the returned name should only contain the first and last name.\n",
        "- Names should be properly capitalized.\n",
        "\n",
        "---\n",
        "\n",
        "### Exercise 3: From English to Morse\n",
        "\n",
        "- Write a function that converts English text to Morse code.\n",
        "- Write another function that converts Morse code back to English.\n",
        "- Letters are separated by spaces; words are separated by `/`.\n",
        "- Use a Morse code translation table for reference."
      ],
      "metadata": {
        "id": "oWcJu924le8u"
      }
    },
    {
      "cell_type": "markdown",
      "source": [
        "## Exercice 1 — Cars"
      ],
      "metadata": {
        "id": "K-nWcqFele1W"
      }
    },
    {
      "cell_type": "code",
      "execution_count": 1,
      "metadata": {
        "colab": {
          "base_uri": "https://localhost:8080/"
        },
        "id": "laQGFgxLlbyu",
        "outputId": "c4e1ffea-20dd-40df-9575-62ee46a123cb"
      },
      "outputs": [
        {
          "output_type": "stream",
          "name": "stdout",
          "text": [
            "Manufacturers list: ['Volkswagen', 'Toyota', 'Ford Motor', 'Honda', 'Chevrolet']\n",
            "Count: 5\n",
            "Descending (Z-A): ['Volkswagen', 'Toyota', 'Honda', 'Ford Motor', 'Chevrolet']\n",
            "Names with letter 'o': 5\n",
            "Names without letter 'i': 5\n"
          ]
        }
      ],
      "source": [
        "# Title: Cars — Parse, Count, Filter, Sort\n",
        "# This cell parses the manufacturers string into a list and performs the required analyses.\n",
        "\n",
        "# 1) Given string (do NOT split manually)\n",
        "raw = \"Volkswagen, Toyota, Ford Motor, Honda, Chevrolet\"\n",
        "\n",
        "# 2) Convert the string to a clean list\n",
        "#    Split on comma, strip whitespace from each item\n",
        "manufacturers = [m.strip() for m in raw.split(\",\")]\n",
        "print(\"Manufacturers list:\", manufacturers)\n",
        "\n",
        "# 3) Print how many manufacturers are in the list\n",
        "print(\"Count:\", len(manufacturers))\n",
        "\n",
        "# 4) Print the list in reverse/descending order (Z-A)\n",
        "desc_sorted = sorted(manufacturers, key=str.casefold, reverse=True)\n",
        "print(\"Descending (Z-A):\", desc_sorted)\n",
        "\n",
        "# 5a) Count how many names contain the letter 'o' (case-insensitive)\n",
        "count_with_o = sum(1 for m in manufacturers if \"o\" in m.lower())\n",
        "print(\"Names with letter 'o':\", count_with_o)\n",
        "\n",
        "# 5b) Count how many names do NOT contain the letter 'i' (case-insensitive)\n",
        "count_without_i = sum(1 for m in manufacturers if \"i\" not in m.lower())\n",
        "print(\"Names without letter 'i':\", count_without_i)"
      ]
    },
    {
      "cell_type": "markdown",
      "source": [
        "## Cars — Bonus: Remove Duplicates and Print CSV"
      ],
      "metadata": {
        "id": "SjP1867tl9cR"
      }
    },
    {
      "cell_type": "code",
      "source": [
        "# We remove duplicates programmatically and print a comma-separated string.\n",
        "\n",
        "dupe_list = [\"Honda\", \"Volkswagen\", \"Toyota\", \"Ford Motor\", \"Honda\", \"Chevrolet\", \"Toyota\"]\n",
        "\n",
        "# Use a dict to preserve first occurrence order while removing duplicates (Python 3.7+ preserves insertion order)\n",
        "no_dupes = list(dict.fromkeys(dupe_list))\n",
        "print(\"Without duplicates (list):\", no_dupes)\n",
        "print(\"Count after removing duplicates:\", len(no_dupes))\n",
        "\n",
        "# Print as a single CSV line without line breaks\n",
        "csv_line = \", \".join(no_dupes)\n",
        "print(\"CSV:\", csv_line)"
      ],
      "metadata": {
        "colab": {
          "base_uri": "https://localhost:8080/"
        },
        "id": "LwmW53rfl_J1",
        "outputId": "4dee9049-c4d4-40e9-876c-c29799532bc9"
      },
      "execution_count": 2,
      "outputs": [
        {
          "output_type": "stream",
          "name": "stdout",
          "text": [
            "Without duplicates (list): ['Honda', 'Volkswagen', 'Toyota', 'Ford Motor', 'Chevrolet']\n",
            "Count after removing duplicates: 5\n",
            "CSV: Honda, Volkswagen, Toyota, Ford Motor, Chevrolet\n"
          ]
        }
      ]
    },
    {
      "cell_type": "markdown",
      "source": [
        "## Cars — Bonus: Ascending A-Z but Reverse Letters in Each Name"
      ],
      "metadata": {
        "id": "MobTpWzJmGXx"
      }
    },
    {
      "cell_type": "code",
      "source": [
        "# Sort A-Z by original name, then reverse the characters of each item.\n",
        "\n",
        "asc_sorted = sorted(manufacturers, key=str.casefold)\n",
        "reversed_letter_names = [\"\".join(reversed(m)) for m in asc_sorted]\n",
        "print(\"A-Z (original):\", asc_sorted)\n",
        "print(\"A-Z with letters reversed:\", reversed_letter_names)"
      ],
      "metadata": {
        "colab": {
          "base_uri": "https://localhost:8080/"
        },
        "id": "GHcqbt5EmJSz",
        "outputId": "d8b804b8-3aef-4a37-eba6-1d4ee387c6b9"
      },
      "execution_count": 3,
      "outputs": [
        {
          "output_type": "stream",
          "name": "stdout",
          "text": [
            "A-Z (original): ['Chevrolet', 'Ford Motor', 'Honda', 'Toyota', 'Volkswagen']\n",
            "A-Z with letters reversed: ['telorvehC', 'rotoM droF', 'adnoH', 'atoyoT', 'negawskloV']\n"
          ]
        }
      ]
    },
    {
      "cell_type": "markdown",
      "source": [
        "## Exercice 2 — What's your name?"
      ],
      "metadata": {
        "id": "-bSGI-XdmOsV"
      }
    },
    {
      "cell_type": "code",
      "source": [
        "# Title: Full Name Builder with Optional Middle Name\n",
        "# This function formats names in Title Case and handles an optional middle name.\n",
        "\n",
        "def get_full_name(first_name: str, last_name: str, middle_name: str | None = None) -> str:\n",
        "    \"\"\"\n",
        "    Return the full name in Title Case.\n",
        "    If middle_name is provided and not empty, include it; otherwise, return first + last only.\n",
        "    \"\"\"\n",
        "    # Normalize and Title Case each part\n",
        "    fn = (first_name or \"\").strip().title()\n",
        "    ln = (last_name or \"\").strip().title()\n",
        "    mn = (middle_name or \"\").strip().title() if middle_name else \"\"\n",
        "\n",
        "    if mn:\n",
        "        return f\"{fn} {mn} {ln}\"\n",
        "    return f\"{fn} {ln}\"\n",
        "\n",
        "# Quick checks\n",
        "print(get_full_name(first_name=\"john\", middle_name=\"hooker\", last_name=\"lee\"))  # John Hooker Lee\n",
        "print(get_full_name(first_name=\"bruce\", last_name=\"lee\"))                       # Bruce Lee"
      ],
      "metadata": {
        "colab": {
          "base_uri": "https://localhost:8080/"
        },
        "id": "1rtCmi7umSCL",
        "outputId": "2f8d0605-f80f-4b6f-b132-1a62f4b1e3ec"
      },
      "execution_count": 4,
      "outputs": [
        {
          "output_type": "stream",
          "name": "stdout",
          "text": [
            "John Hooker Lee\n",
            "Bruce Lee\n"
          ]
        }
      ]
    },
    {
      "cell_type": "markdown",
      "source": [
        "## Exercice 3 — From English to Morse"
      ],
      "metadata": {
        "id": "jwkymliomV8V"
      }
    },
    {
      "cell_type": "code",
      "source": [
        "# Title: English <-> Morse Converter (Bi-directional)\n",
        "# We implement two functions: to Morse and from Morse.\n",
        "# Rules:\n",
        "# - Letters are separated by a single space in Morse.\n",
        "# - Words are separated by a slash '/'.\n",
        "# - We ignore unknown characters or map them to '?' when decoding.\n",
        "\n",
        "# Reference mapping (A-Z, 0-9, and a few common punctuation marks)\n",
        "ENG_TO_MORSE = {\n",
        "    \"A\": \".-\",    \"B\": \"-...\",  \"C\": \"-.-.\",  \"D\": \"-..\",   \"E\": \".\",\n",
        "    \"F\": \"..-.\",  \"G\": \"--.\",   \"H\": \"....\",  \"I\": \"..\",    \"J\": \".---\",\n",
        "    \"K\": \"-.-\",   \"L\": \".-..\",  \"M\": \"--\",    \"N\": \"-.\",    \"O\": \"---\",\n",
        "    \"P\": \".--.\",  \"Q\": \"--.-\",  \"R\": \".-.\",   \"S\": \"...\",   \"T\": \"-\",\n",
        "    \"U\": \"..-\",   \"V\": \"...-\",  \"W\": \".--\",   \"X\": \"-..-\",  \"Y\": \"-.--\",\n",
        "    \"Z\": \"--..\",\n",
        "    \"0\": \"-----\", \"1\": \".----\", \"2\": \"..---\", \"3\": \"...--\", \"4\": \"....-\",\n",
        "    \"5\": \".....\", \"6\": \"-....\", \"7\": \"--...\", \"8\": \"---..\", \"9\": \"----.\",\n",
        "    \".\": \".-.-.-\", \",\": \"--..--\", \"?\": \"..--..\", \"!\": \"-.-.--\", \"'\": \".----.\",\n",
        "    \"\\\"\": \".-..-.\", \"/\": \"-..-.\", \"(\": \"-.--.\", \")\": \"-.--.-\", \"&\": \".-...\",\n",
        "    \":\": \"---...\", \";\": \"-.-.-.\", \"=\": \"-...-\", \"+\": \".-.-.\", \"-\": \"-....-\",\n",
        "    \"_\": \"..--.-\", \"$\": \"...-..-\", \"@\": \".--.-.\"\n",
        "}\n",
        "\n",
        "# Inverse mapping for decoding\n",
        "MORSE_TO_ENG = {v: k for k, v in ENG_TO_MORSE.items()}\n",
        "\n",
        "def to_morse(text: str) -> str:\n",
        "    \"\"\"\n",
        "    Convert English text to Morse code.\n",
        "    - Letters separated by spaces.\n",
        "    - Words separated by '/'.\n",
        "    - Unknown chars are skipped.\n",
        "    \"\"\"\n",
        "    words = text.upper().split()\n",
        "    morse_words = []\n",
        "    for w in words:\n",
        "        codes = []\n",
        "        for ch in w:\n",
        "            code = ENG_TO_MORSE.get(ch)\n",
        "            if code:\n",
        "                codes.append(code)\n",
        "            # else: skip unknown character\n",
        "        morse_words.append(\" \".join(codes))\n",
        "    return \" / \".join(morse_words)\n",
        "\n",
        "def from_morse(morse: str) -> str:\n",
        "    \"\"\"\n",
        "    Convert Morse code to English text.\n",
        "    - Letters separated by spaces.\n",
        "    - Words separated by '/'.\n",
        "    - Unknown codes map to '?'.\n",
        "    \"\"\"\n",
        "    words = [w.strip() for w in morse.split(\"/\")]\n",
        "    eng_words = []\n",
        "    for w in words:\n",
        "        letters = w.split()\n",
        "        decoded = []\n",
        "        for code in letters:\n",
        "            ch = MORSE_TO_ENG.get(code, \"?\")\n",
        "            decoded.append(ch)\n",
        "        eng_words.append(\"\".join(decoded))\n",
        "    return \" \".join(eng_words).title()\n",
        "\n",
        "# Quick tests\n",
        "sample_text = \"Hello World\"\n",
        "encoded = to_morse(sample_text)\n",
        "decoded = from_morse(encoded)\n",
        "\n",
        "print(\"Text:   \", sample_text)\n",
        "print(\"Morse:  \", encoded)\n",
        "print(\"Back:   \", decoded)"
      ],
      "metadata": {
        "colab": {
          "base_uri": "https://localhost:8080/"
        },
        "id": "eRY4gMDJmZI9",
        "outputId": "933dccf7-1d9c-4d4a-cd95-9517837b3eb8"
      },
      "execution_count": 5,
      "outputs": [
        {
          "output_type": "stream",
          "name": "stdout",
          "text": [
            "Text:    Hello World\n",
            "Morse:   .... . .-.. .-.. --- / .-- --- .-. .-.. -..\n",
            "Back:    Hello World\n"
          ]
        }
      ]
    },
    {
      "cell_type": "markdown",
      "source": [
        "## Conclusion\n",
        "\n",
        "In this set of exercises, I practiced:\n",
        "\n",
        "- **String manipulation**: splitting, joining, reversing, and filtering strings.\n",
        "- **List operations**: sorting in ascending and descending order, removing duplicates, and list comprehensions.\n",
        "- **Conditionals and loops**: counting items matching specific conditions.\n",
        "- **Functions with optional parameters**: handling cases where arguments may be omitted.\n",
        "- **Mapping and translation**: implementing bidirectional conversion between English and Morse code.\n",
        "\n",
        "These exercises reinforced my understanding of Python's built-in methods and taught me how to combine them to solve practical text-processing problems."
      ],
      "metadata": {
        "id": "SOdbwO24mgUB"
      }
    }
  ]
}