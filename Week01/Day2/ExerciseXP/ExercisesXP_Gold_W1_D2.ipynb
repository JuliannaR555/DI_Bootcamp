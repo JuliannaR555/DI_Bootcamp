{
  "nbformat": 4,
  "nbformat_minor": 0,
  "metadata": {
    "colab": {
      "provenance": []
    },
    "kernelspec": {
      "name": "python3",
      "display_name": "Python 3"
    },
    "language_info": {
      "name": "python"
    }
  },
  "cells": [
    {
      "cell_type": "markdown",
      "source": [
        "# Exercises XP Gold: W1_D2"
      ],
      "metadata": {
        "id": "3UXoLRdlhPg4"
      }
    },
    {
      "cell_type": "markdown",
      "source": [
        "## What You'll Learn\n",
        "\n",
        "In these exercises, you will learn how to use basic Python data structures like dictionaries and lists, handle user input, and implement functions to perform various tasks including random number generation and iterative calculations. This hands-on practice will help reinforce your understanding of Python programming fundamentals.\n",
        "\n",
        "## What You Will Create\n",
        "\n",
        "By the end of these exercises, you will have created a small Python application that can look up birthdays, calculate a specific numeric sequence, and simulate dice throws. You'll practice using loops, conditionals, functions, and more to solve problems and generate specific outputs.\n",
        "\n",
        "---\n",
        "\n",
        "### Exercise 1: Birthday Look-up\n",
        "\n",
        "- Create a variable called `birthdays`. Its value should be a dictionary.\n",
        "- Initialize this variable with the birthdays of 5 people of your choice, in the format `\"YYYY/MM/DD\"`.\n",
        "- Print a welcome message for the user, informing them that they can look up the birthdays of people in the list.\n",
        "- Ask the user to provide a person's name, retrieve the birthday, and display it with a nicely formatted message.\n",
        "\n",
        "---\n",
        "\n",
        "### Exercise 2: Birthdays Advanced\n",
        "\n",
        "- Before asking the user to input a person's name, print out all the names in the dictionary.\n",
        "- If the name is not found in the dictionary, print an error message:  \n",
        "  `\"Sorry, we don't have the birthday information for <person's name>\"`.\n",
        "\n",
        "---\n",
        "\n",
        "### Exercise 3: Check the Index\n",
        "\n",
        "Given:\n",
        "\n",
        "names = ['Samus', 'Cortana', 'V', 'Link', 'Mario', 'Cortana', 'Samus']\n",
        "\n",
        "\n",
        "- Ask a user for their name.\n",
        "- If their name is in the list, print out the index of the first occurrence.\n",
        "\n",
        "---\n",
        "\n",
        "### Exercise 4: Double Dice\n",
        "\n",
        "- Create a function `throw_dice()` that returns a random integer between 1 and 6.\n",
        "- Create a function `throw_until_doubles()` that keeps rolling two dice until both dice show the same number, and returns the number of throws needed.\n",
        "- Create a main function that:\n",
        "  - Runs `throw_until_doubles()` 100 times.\n",
        "  - Stores the number of throws from each run in a collection.\n",
        "  - Prints the total number of throws needed for all 100 doubles.\n",
        "  - Prints the average number of throws to reach doubles, rounded to two decimal places."
      ],
      "metadata": {
        "id": "-dIj--_ehPdX"
      }
    },
    {
      "cell_type": "markdown",
      "source": [
        "## Exercise 1 — Birthday Look-up (Basic)"
      ],
      "metadata": {
        "id": "mLpVawSNhPXO"
      }
    },
    {
      "cell_type": "code",
      "execution_count": 2,
      "metadata": {
        "colab": {
          "base_uri": "https://localhost:8080/"
        },
        "id": "3qUHwKa-hOhg",
        "outputId": "b82856a8-515e-48da-c013-33effad1e5b7"
      },
      "outputs": [
        {
          "output_type": "stream",
          "name": "stdout",
          "text": [
            "Welcome! You can look up the birthdays of the people in the list!\n",
            "Enter a person's name: Grace Hopper\n",
            "Grace Hopper's birthday is 1906/12/09.\n"
          ]
        }
      ],
      "source": [
        "# This cell creates a birthday dictionary and looks up one entry based on user input.\n",
        "\n",
        "# 1) Create the dictionary with 5 people (format YYYY/MM/DD)\n",
        "birthdays = {\n",
        "    \"Ada Lovelace\": \"1815/12/10\",\n",
        "    \"Alan Turing\": \"1912/06/23\",\n",
        "    \"Grace Hopper\": \"1906/12/09\",\n",
        "    \"Katherine Johnson\": \"1918/08/26\",\n",
        "    \"Guido van Rossum\": \"1956/01/31\",\n",
        "}\n",
        "\n",
        "# 2) Welcome message\n",
        "print(\"Welcome! You can look up the birthdays of the people in the list!\")\n",
        "\n",
        "# 3) Ask the user for a name\n",
        "name = input(\"Enter a person's name: \").strip()\n",
        "\n",
        "# 4) Retrieve the birthday if it exists\n",
        "#    dict.get returns None (or a default) when the key is missing, avoiding KeyError.\n",
        "bday = birthdays.get(name)\n",
        "\n",
        "# 5) Print a nicely formatted message\n",
        "if bday:\n",
        "    print(f\"{name}'s birthday is {bday}.\")\n",
        "else:\n",
        "    print(f\"Sorry, we don't have the birthday information for {name}.\")"
      ]
    },
    {
      "cell_type": "markdown",
      "source": [
        "## Exercise 2 — Birthdays Advanced (List Names + Error Handling)"
      ],
      "metadata": {
        "id": "v4H57m1whybN"
      }
    },
    {
      "cell_type": "code",
      "source": [
        "# This cell prints all available names before asking for input and handles unknown names.\n",
        "\n",
        "birthdays = {\n",
        "    \"Ada Lovelace\": \"1815/12/10\",\n",
        "    \"Alan Turing\": \"1912/06/23\",\n",
        "    \"Grace Hopper\": \"1906/12/09\",\n",
        "    \"Katherine Johnson\": \"1918/08/26\",\n",
        "    \"Guido van Rossum\": \"1956/01/31\",\n",
        "}\n",
        "\n",
        "# 1) Show all names available\n",
        "print(\"Available names:\")\n",
        "for person in birthdays.keys():\n",
        "    print(\"-\", person)\n",
        "\n",
        "# 2) Ask user for a name\n",
        "name = input(\"Whose birthday do you want to look up? \").strip()\n",
        "\n",
        "# 3) Lookup and print result or error\n",
        "if name in birthdays:\n",
        "    print(f\"{name}'s birthday is {birthdays[name]}.\")\n",
        "else:\n",
        "    print(f\"Sorry, we don't have the birthday information for {name}.\")"
      ],
      "metadata": {
        "colab": {
          "base_uri": "https://localhost:8080/"
        },
        "id": "movpzEQDhytE",
        "outputId": "960e6db3-fe6c-4334-cc6b-88a6081da2f6"
      },
      "execution_count": 4,
      "outputs": [
        {
          "output_type": "stream",
          "name": "stdout",
          "text": [
            "Available names:\n",
            "- Ada Lovelace\n",
            "- Alan Turing\n",
            "- Grace Hopper\n",
            "- Katherine Johnson\n",
            "- Guido van Rossum\n",
            "Whose birthday do you want to look up? Ada Lovelace\n",
            "Ada Lovelace's birthday is 1815/12/10.\n"
          ]
        }
      ]
    },
    {
      "cell_type": "markdown",
      "source": [
        "## Exercise 3 — Check the Index (First Occurrence)"
      ],
      "metadata": {
        "id": "vpd1dDIliA-v"
      }
    },
    {
      "cell_type": "code",
      "source": [
        "# This cell asks for a name and prints the index of the first occurrence if present.\n",
        "\n",
        "names = ['Samus', 'Cortana', 'V', 'Link', 'Mario', 'Cortana', 'Samus']\n",
        "\n",
        "# 1) Ask the user for their name\n",
        "target = input(\"Enter your name: \").strip()\n",
        "\n",
        "# 2) If found, print index of the FIRST occurrence; otherwise, say not found\n",
        "if target in names:\n",
        "    # list.index(value) returns the first index where value appears\n",
        "    idx = names.index(target)\n",
        "    print(f\"First occurrence index of '{target}': {idx}\")\n",
        "else:\n",
        "    print(f\"'{target}' is not in the list.\")"
      ],
      "metadata": {
        "colab": {
          "base_uri": "https://localhost:8080/"
        },
        "id": "NQe7KF8MiBM_",
        "outputId": "b6c1e47d-8ba0-41ae-8f97-952f091edff0"
      },
      "execution_count": 5,
      "outputs": [
        {
          "output_type": "stream",
          "name": "stdout",
          "text": [
            "Enter your name: Samus\n",
            "First occurrence index of 'Samus': 0\n"
          ]
        }
      ]
    },
    {
      "cell_type": "markdown",
      "source": [
        "## Exercise 4 — Double Dice Simulation"
      ],
      "metadata": {
        "id": "o7C2Bmg7iLwZ"
      }
    },
    {
      "cell_type": "code",
      "source": [
        "# This cell defines functions to simulate dice throws until doubles appear and aggregates statistics over 100 trials.\n",
        "\n",
        "import random\n",
        "from statistics import mean\n",
        "\n",
        "def throw_dice():\n",
        "    \"\"\"Return a random integer between 1 and 6 inclusive.\"\"\"\n",
        "    return random.randint(1, 6)\n",
        "\n",
        "def throw_until_doubles():\n",
        "    \"\"\"\n",
        "    Keep throwing two dice until both land on the same number (doubles).\n",
        "    Return the total number of throws performed in this run.\n",
        "    \"\"\"\n",
        "    count = 0                         # counts how many throws have been made\n",
        "    while True:\n",
        "        d1 = throw_dice()             # first die\n",
        "        d2 = throw_dice()             # second die\n",
        "        count += 1                    # increment throw counter\n",
        "        if d1 == d2:                  # check for doubles\n",
        "            return count              # stop and return number of throws\n",
        "\n",
        "def main(num_runs=100):\n",
        "    \"\"\"\n",
        "    Run 'throw_until_doubles' num_runs times and collect the number of throws for each run.\n",
        "    Print total throws and average throws (rounded to 2 decimals).\n",
        "    \"\"\"\n",
        "    results = []                      # list to store throws per run\n",
        "    for _ in range(num_runs):\n",
        "        tries = throw_until_doubles() # how many throws until doubles this run\n",
        "        results.append(tries)\n",
        "\n",
        "    total_throws = sum(results)       # total throws over all runs\n",
        "    avg_throws = round(mean(results), 2)  # average throws (2 decimals)\n",
        "\n",
        "    print(f\"Total throws: {total_throws}\")\n",
        "    print(f\"Average throws to reach doubles: {avg_throws}\")\n",
        "\n",
        "    # Optionally return results for further analysis/tests\n",
        "    return results, total_throws, avg_throws\n",
        "\n",
        "# Optional: set a seed for reproducibility during testing (comment out for true randomness)\n",
        "# random.seed(42)\n",
        "\n",
        "# Run the simulation for 100 doubles\n",
        "_ = main(100)"
      ],
      "metadata": {
        "colab": {
          "base_uri": "https://localhost:8080/"
        },
        "id": "hKoZUsl0iMA2",
        "outputId": "8e82dae9-73ee-44d0-adbb-2343290ed197"
      },
      "execution_count": 6,
      "outputs": [
        {
          "output_type": "stream",
          "name": "stdout",
          "text": [
            "Total throws: 631\n",
            "Average throws to reach doubles: 6.31\n"
          ]
        }
      ]
    },
    {
      "cell_type": "markdown",
      "source": [
        "## Conclusion\n",
        "\n",
        "In this set of exercises, I practiced several Python programming fundamentals:\n",
        "\n",
        "- **Dictionaries**: storing and retrieving data such as names and birthdays.\n",
        "- **Lists**: iterating through items and finding specific elements.\n",
        "- **Conditionals and Loops**: handling user input, validating conditions, and repeating tasks until criteria are met.\n",
        "- **Functions**: organizing code into reusable components for dice simulation and repeated experiments.\n",
        "- **Random Number Generation**: simulating dice throws with `random.randint`.\n",
        "\n",
        "By completing these tasks, I strengthened my ability to combine different Python features into small, functional programs, while producing clear and accurate outputs."
      ],
      "metadata": {
        "id": "6Xbt7LK4iaMp"
      }
    }
  ]
}