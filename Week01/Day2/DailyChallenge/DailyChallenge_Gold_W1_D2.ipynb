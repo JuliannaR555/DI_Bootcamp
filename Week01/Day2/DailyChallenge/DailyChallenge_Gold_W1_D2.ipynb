{
  "nbformat": 4,
  "nbformat_minor": 0,
  "metadata": {
    "colab": {
      "provenance": []
    },
    "kernelspec": {
      "name": "python3",
      "display_name": "Python 3"
    },
    "language_info": {
      "name": "python"
    }
  },
  "cells": [
    {
      "cell_type": "markdown",
      "source": [
        "# Daily Challenge Gold: W1_D2"
      ],
      "metadata": {
        "id": "HUk6kN5XdcGS"
      }
    },
    {
      "cell_type": "markdown",
      "source": [
        "## Solve The Matrix"
      ],
      "metadata": {
        "id": "p7_9_PhzdcAQ"
      }
    },
    {
      "cell_type": "markdown",
      "source": [
        "## What You'll Learn\n",
        "\n",
        "- Python Basics\n",
        "- Conditionals\n",
        "- Loops\n",
        "- Functions\n",
        "\n",
        "## Instructions\n",
        "\n",
        "Given a “Matrix” string:\n",
        "\n",
        "7ii  \n",
        "Tsx  \n",
        "h%?  \n",
        "i #  \n",
        "sM   \n",
        "$a   \n",
        "#t%  \n",
        "^r!  \n",
        "\n",
        "The matrix is a grid of strings (alphanumeric characters and spaces) with a hidden message in it.  \n",
        "A grid means that you could potentially break it into rows and columns, like here:\n",
        "\n",
        "7  i  i  \n",
        "T  s  x  \n",
        "h  %  ?  \n",
        "i     #  \n",
        "s  M    \n",
        "$  a    \n",
        "#  t  %  \n",
        "^  r  !  \n",
        "\n",
        "**Matrix**: A matrix is a two-dimensional array. It is a grid of numbers arranged in rows and columns.  \n",
        "To reproduce the grid, the matrix should be a 2D list, not a string.\n",
        "\n",
        "To decrypt the matrix, Neo reads each column from top to bottom, starting from the leftmost column, selecting only the alphabetic characters and connecting them. Then he replaces every group of symbols between two alphabetic characters with a space.\n",
        "\n",
        "Using his technique, try to decode this matrix.\n",
        "\n",
        "### Hints:\n",
        "- Use lists for storing data\n",
        "- Use loops for going through the data\n",
        "- Use if/else statements to check the data\n",
        "- Use a string for the output of the secret message\n",
        "\n",
        "**Hint (if needed):** Look at the remote learning “Matrix” video."
      ],
      "metadata": {
        "id": "HNnHGSoYei28"
      }
    },
    {
      "cell_type": "markdown",
      "source": [
        "### Build the Matrix as a 2D List"
      ],
      "metadata": {
        "id": "Rj3pU5sodb5t"
      }
    },
    {
      "cell_type": "code",
      "execution_count": 1,
      "metadata": {
        "colab": {
          "base_uri": "https://localhost:8080/"
        },
        "id": "Z-CHJqQsdLNB",
        "outputId": "720e6288-f618-4ad5-8384-1a151adc67e2"
      },
      "outputs": [
        {
          "output_type": "stream",
          "name": "stdout",
          "text": [
            "Rows: 8, Cols: 3\n"
          ]
        }
      ],
      "source": [
        "# We represent the matrix as a list of equal-length strings (rows).\n",
        "# Each string has the same number of columns (3 here).\n",
        "\n",
        "matrix_rows = [\n",
        "    \"7ii\",\n",
        "    \"Tsx\",\n",
        "    \"h%?\",\n",
        "    \"i #\",\n",
        "    \"sM \",\n",
        "    \"$a \",\n",
        "    \"#t%\",\n",
        "    \"^r!\"\n",
        "]\n",
        "\n",
        "# Quick sanity checks\n",
        "n_rows = len(matrix_rows)        # number of rows\n",
        "n_cols = len(matrix_rows[0])     # number of columns (assumes all rows same length)\n",
        "print(f\"Rows: {n_rows}, Cols: {n_cols}\")"
      ]
    },
    {
      "cell_type": "markdown",
      "source": [
        "### Decode Function (Read Columns Top-To-Bottom)"
      ],
      "metadata": {
        "id": "U8teToTdd66e"
      }
    },
    {
      "cell_type": "code",
      "source": [
        "# Neo's rule:\n",
        "# 1) Read column by column, top to bottom, left to right.\n",
        "# 2) Keep letters as-is.\n",
        "# 3) Replace any group of non-letters BETWEEN two letters with a single space.\n",
        "# 4) Discard non-letters that are not between letters (leading/trailing or consecutive runs).\n",
        "\n",
        "import re\n",
        "\n",
        "def decode_matrix(rows):\n",
        "    \"\"\"Return the decoded secret message following Neo's rules.\"\"\"\n",
        "    if not rows:\n",
        "        return \"\"\n",
        "\n",
        "    n_rows = len(rows)\n",
        "    n_cols = len(rows[0])\n",
        "\n",
        "    # 1) Read column-wise in the requested order and produce a raw stream of characters\n",
        "    stream = []\n",
        "    for c in range(n_cols):          # left to right by columns\n",
        "        for r in range(n_rows):      # top to bottom by rows\n",
        "            stream.append(rows[r][c])\n",
        "    raw = \"\".join(stream)\n",
        "\n",
        "    # 2) Replace groups of non-letters BETWEEN letters with one space\n",
        "    #    (?<=[A-Za-z]) : preceded by a letter\n",
        "    #    [^A-Za-z]+    : one or more non-letters\n",
        "    #    (?=[A-Za-z])  : followed by a letter\n",
        "    step1 = re.sub(r'(?<=[A-Za-z])[^A-Za-z]+(?=[A-Za-z])', ' ', raw)\n",
        "\n",
        "    # 3) Remove every remaining non-letter that is NOT a space (they are leading/trailing or outside letters)\n",
        "    step2 = re.sub(r'[^A-Za-z ]+', '', step1)\n",
        "\n",
        "    # 4) Normalize spaces (collapse multiple spaces and strip)\n",
        "    message = re.sub(r'\\s+', ' ', step2).strip()\n",
        "    return message\n",
        "\n",
        "decoded = decode_matrix(matrix_rows)\n",
        "print(\"Decoded message:\", decoded)"
      ],
      "metadata": {
        "colab": {
          "base_uri": "https://localhost:8080/"
        },
        "id": "BobxVtyxd-pw",
        "outputId": "5f248fc3-fc92-4be5-c869-5b38ded3b63c"
      },
      "execution_count": 2,
      "outputs": [
        {
          "output_type": "stream",
          "name": "stdout",
          "text": [
            "Decoded message: This is Matrix\n"
          ]
        }
      ]
    },
    {
      "cell_type": "markdown",
      "source": [
        "### Assert the Expected Result"
      ],
      "metadata": {
        "id": "KgfS1sg7eEDU"
      }
    },
    {
      "cell_type": "code",
      "source": [
        "# For this specific puzzle, the expected message is \"This is Matrix\".\n",
        "# We assert to make sure our result matches.\n",
        "\n",
        "assert decoded == \"This is Matrix\", f\"Unexpected result: {decoded}\"\n",
        "print(\"Assertion passed ✅  ->\", decoded)"
      ],
      "metadata": {
        "colab": {
          "base_uri": "https://localhost:8080/"
        },
        "id": "lZRjjvDyeEXL",
        "outputId": "e15067af-6f96-4ec2-9a4a-1e9067cf44a2"
      },
      "execution_count": 3,
      "outputs": [
        {
          "output_type": "stream",
          "name": "stdout",
          "text": [
            "Assertion passed ✅  -> This is Matrix\n"
          ]
        }
      ]
    },
    {
      "cell_type": "markdown",
      "source": [
        "### (Optional) Pretty-Print the Grid"
      ],
      "metadata": {
        "id": "181Moga1eKr3"
      }
    },
    {
      "cell_type": "code",
      "source": [
        "# This helps you visualize the matrix as rows/columns.\n",
        "\n",
        "for row in matrix_rows:\n",
        "    print(\"\\t\".join(list(row)))"
      ],
      "metadata": {
        "colab": {
          "base_uri": "https://localhost:8080/"
        },
        "id": "9ck8pOuueLAe",
        "outputId": "14a7dc46-f7a6-4514-820a-1ba3e9b8d074"
      },
      "execution_count": 4,
      "outputs": [
        {
          "output_type": "stream",
          "name": "stdout",
          "text": [
            "7\ti\ti\n",
            "T\ts\tx\n",
            "h\t%\t?\n",
            "i\t \t#\n",
            "s\tM\t \n",
            "$\ta\t \n",
            "#\tt\t%\n",
            "^\tr\t!\n"
          ]
        }
      ]
    },
    {
      "cell_type": "markdown",
      "source": [
        "## Conclusion\n",
        "\n",
        "In this exercise, I learned how to represent a matrix as a 2D list in Python and process it column by column.  \n",
        "By applying conditional checks and regular expressions, I was able to extract only the alphabetic characters and replace groups of symbols between them with spaces.  \n",
        "The final result successfully revealed the hidden message: **\"This is Matrix\"**.\n"
      ],
      "metadata": {
        "id": "SSTkH3jheX0N"
      }
    }
  ]
}