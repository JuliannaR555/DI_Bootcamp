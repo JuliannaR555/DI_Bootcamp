{
  "nbformat": 4,
  "nbformat_minor": 0,
  "metadata": {
    "colab": {
      "provenance": []
    },
    "kernelspec": {
      "name": "python3",
      "display_name": "Python 3"
    },
    "language_info": {
      "name": "python"
    }
  },
  "cells": [
    {
      "cell_type": "markdown",
      "source": [
        "# Daily Challenge - Challenges: W1_D5"
      ],
      "metadata": {
        "id": "1ro1-lmy_tOe"
      }
    },
    {
      "cell_type": "markdown",
      "source": [
        "## What You'll Learn\n",
        "- Python Basics (lists, strings, sorting, functions, loops, conditionals)\n",
        "\n",
        "## Challenge 1 — Sorting\n",
        "Write a program that accepts a **comma-separated** sequence of words as input and prints the words back **sorted alphabetically** as a comma-separated string.  \n",
        "Use a **list comprehension** to build the list.\n",
        "\n",
        "**Example**  \n",
        "Input: `without,hello,bag,world`  \n",
        "Output: `bag,hello,without,world`\n",
        "\n",
        "## Challenge 2 — Longest Word\n",
        "Write a function `longest_word(sentence)` that returns the **first longest word** in a sentence.  \n",
        "Punctuation (apostrophes, commas, periods, etc.) **counts as part of the word**.\n",
        "\n",
        "**Examples**  \n",
        "`longest_word(\"Margaret's toy is a pretty doll.\") -> \"Margaret's\"`  \n",
        "`longest_word(\"A thing of beauty is a joy forever.\") -> \"forever.\"`  \n",
        "`longest_word(\"Forgetfulness is by all means powerless!\") -> \"Forgetfulness\"`"
      ],
      "metadata": {
        "id": "v0gyfy8s_tN0"
      }
    },
    {
      "cell_type": "markdown",
      "source": [
        "## Challenge 1 — Sort comma-separated words (List Comprehension)"
      ],
      "metadata": {
        "id": "4aWZYT_k_sv5"
      }
    },
    {
      "cell_type": "code",
      "execution_count": 1,
      "metadata": {
        "colab": {
          "base_uri": "https://localhost:8080/"
        },
        "id": "7htvR6my_sRA",
        "outputId": "ff17acb0-38c9-4351-a448-57aa0014625c"
      },
      "outputs": [
        {
          "output_type": "stream",
          "name": "stdout",
          "text": [
            "Enter comma-separated words: pear, apple, Banana, apricot\n",
            "apple,apricot,Banana,pear\n"
          ]
        }
      ],
      "source": [
        "# Reads a comma-separated string, trims spaces, sorts alphabetically, prints CSV.\n",
        "# Requirement: use list comprehension to build the list.\n",
        "\n",
        "# --- Interactive version ---\n",
        "user_input = input(\"Enter comma-separated words: \").strip()\n",
        "\n",
        "# Build list with a list comprehension (skip empty fragments)\n",
        "words = [w.strip() for w in user_input.split(\",\") if w.strip()]\n",
        "\n",
        "# Sort alphabetically (case-insensitive for friendlier behavior). Remove 'key=str.casefold' if not desired.\n",
        "sorted_words = sorted(words, key=str.casefold)\n",
        "\n",
        "# Print back as comma-separated\n",
        "print(\",\".join(sorted_words))\n",
        "\n",
        "# --- Non-interactive demo (uncomment to try quickly) ---\n",
        "# demo = \"without,hello,bag,world\"\n",
        "# words = [w.strip() for w in demo.split(\",\") if w.strip()]\n",
        "# print(\",\".join(sorted(words, key=str.casefold)))"
      ]
    },
    {
      "cell_type": "markdown",
      "source": [
        "## Challenge 2 — Longest word in a sentence"
      ],
      "metadata": {
        "id": "luENafFVAF6p"
      }
    },
    {
      "cell_type": "code",
      "source": [
        "# Rule: punctuation (apostrophes, commas, periods, etc.) counts as part of the word.\n",
        "# If multiple words have the same max length, return the FIRST longest.\n",
        "\n",
        "from typing import Optional\n",
        "\n",
        "def longest_word(sentence: str) -> str:\n",
        "    \"\"\"\n",
        "    Return the first longest token when splitting by whitespace.\n",
        "    Punctuation remains attached (counts toward length).\n",
        "    Empty or all-whitespace input -> return empty string.\n",
        "    \"\"\"\n",
        "    tokens = sentence.split()  # split on whitespace only; keeps punctuation in tokens\n",
        "    if not tokens:\n",
        "        return \"\"\n",
        "    best = tokens[0]\n",
        "    best_len = len(best)\n",
        "    for tok in tokens[1:]:\n",
        "        L = len(tok)\n",
        "        # Strict '>' keeps the first longest on ties\n",
        "        if L > best_len:\n",
        "            best, best_len = tok, L\n",
        "    return best\n",
        "\n",
        "# Quick tests (given examples)\n",
        "print(longest_word(\"Margaret's toy is a pretty doll.\"))          # -> \"Margaret's\"\n",
        "print(longest_word(\"A thing of beauty is a joy forever.\"))       # -> \"forever.\"\n",
        "print(longest_word(\"Forgetfulness is by all means powerless!\"))  # -> \"Forgetfulness\""
      ],
      "metadata": {
        "colab": {
          "base_uri": "https://localhost:8080/"
        },
        "id": "W5qEw8oQAN7S",
        "outputId": "1fc26b53-a88b-43cd-c687-516dbed9fbb7"
      },
      "execution_count": 2,
      "outputs": [
        {
          "output_type": "stream",
          "name": "stdout",
          "text": [
            "Margaret's\n",
            "forever.\n",
            "Forgetfulness\n"
          ]
        }
      ]
    },
    {
      "cell_type": "markdown",
      "source": [
        "## Conclusion\n",
        "\n",
        "- **Sorting**: I parsed a comma-separated string with a **list comprehension**, cleaned spaces, and output the words **alphabetically** as CSV.  \n",
        "  *(Note: the code sorts case-insensitively; remove `key=str.casefold` if strict ASCII order is required.)*\n",
        "\n",
        "- **Longest Word**: I split on whitespace and returned the **first token** with the maximum length, counting punctuation as part of the word—matching the problem's rules.\n",
        "\n",
        "These exercises reinforced string handling, list comprehensions, sorting, and writing small focused functions.\n"
      ],
      "metadata": {
        "id": "PPgCflgTAhrt"
      }
    }
  ]
}