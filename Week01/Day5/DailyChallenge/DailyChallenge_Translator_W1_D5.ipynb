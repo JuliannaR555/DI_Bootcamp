{
  "nbformat": 4,
  "nbformat_minor": 0,
  "metadata": {
    "colab": {
      "provenance": []
    },
    "kernelspec": {
      "name": "python3",
      "display_name": "Python 3"
    },
    "language_info": {
      "name": "python"
    }
  },
  "cells": [
    {
      "cell_type": "markdown",
      "source": [
        "# Daily Challenge - Translator: W1_D5"
      ],
      "metadata": {
        "id": "t0_9gj95BShM"
      }
    },
    {
      "cell_type": "markdown",
      "source": [
        "## What You Will Learn\n",
        "- Python Modules (installing, importing, and using third-party libraries)\n",
        "\n",
        "## Instructions\n",
        "\n",
        "Given this list:\n",
        "french_words = [\"Bonjour\", \"Au revoir\", \"Bienvenue\", \"A bientôt\"]\n",
        "\n",
        "\n",
        "Recreate the following result using a translator module (e.g., `googletrans`):\n",
        "\n",
        "{\"Bonjour\": \"Hello\", \"Au revoir\": \"Goodbye\", \"Bienvenue\": \"Welcome\", \"A bientôt\": \"See you soon\"}\n",
        "\n",
        "\n",
        "### Requirements\n",
        "- Use a Python translation module to translate from **French** to **English**.\n",
        "- Build a **dictionary** mapping each original French word to its English translation.\n",
        "- Print the final mapping.\n",
        "\n",
        "### Tips\n",
        "- Consider installing `googletrans` (commonly `googletrans==4.0.0rc1`).\n",
        "- Translate the list in **batch** for efficiency.\n",
        "- (Optional) Add basic **error handling** and a tiny fallback dictionary so your notebook always shows a result."
      ],
      "metadata": {
        "id": "V5kA8_dPBSgj"
      }
    },
    {
      "cell_type": "code",
      "execution_count": 2,
      "metadata": {
        "id": "Otr5U0ekBOoo"
      },
      "outputs": [],
      "source": [
        "!pip install -q googletrans==4.0.0rc1"
      ]
    },
    {
      "cell_type": "markdown",
      "source": [
        "## Translate a list of French words to English using googletrans"
      ],
      "metadata": {
        "id": "sFPsnX6dBsEI"
      }
    },
    {
      "cell_type": "code",
      "source": [
        "# We use the batch translation API to translate the whole list in one call.\n",
        "\n",
        "from googletrans import Translator\n",
        "\n",
        "# Input data\n",
        "french_words = [\"Bonjour\", \"Au revoir\", \"Bienvenue\", \"A bientôt\"]\n",
        "\n",
        "# Initialize translator\n",
        "translator = Translator()\n",
        "\n",
        "try:\n",
        "    # Batch translate: returns a list of Translated objects\n",
        "    results = translator.translate(french_words, src=\"fr\", dest=\"en\")\n",
        "\n",
        "    # Build the mapping: {French: English}\n",
        "    mapping = {src: res.text for src, res in zip(french_words, results)}\n",
        "    print(mapping)\n",
        "\n",
        "except Exception as e:\n",
        "    # Fallback: do item-by-item or use a tiny offline dict to guarantee output\n",
        "    print(\"googletrans failed, falling back. Error:\", e)\n",
        "    fallback = {\n",
        "        \"Bonjour\": \"Hello\",\n",
        "        \"Au revoir\": \"Goodbye\",\n",
        "        \"Bienvenue\": \"Welcome\",\n",
        "        \"A bientôt\": \"See you soon\",\n",
        "    }\n",
        "    mapping = {w: fallback.get(w, w) for w in french_words}\n",
        "    print(mapping)"
      ],
      "metadata": {
        "colab": {
          "base_uri": "https://localhost:8080/"
        },
        "id": "SUiI4JfcBtzV",
        "outputId": "8ebd6db4-e716-42a0-db48-96abdb7b53c6"
      },
      "execution_count": 3,
      "outputs": [
        {
          "output_type": "stream",
          "name": "stdout",
          "text": [
            "googletrans failed, falling back. Error: the JSON object must be str, bytes or bytearray, not NoneType\n",
            "{'Bonjour': 'Hello', 'Au revoir': 'Goodbye', 'Bienvenue': 'Welcome', 'A bientôt': 'See you soon'}\n"
          ]
        }
      ]
    },
    {
      "cell_type": "markdown",
      "source": [
        "## (Optional) Pretty print the result as JSON"
      ],
      "metadata": {
        "id": "9N5Em2KTB7-M"
      }
    },
    {
      "cell_type": "code",
      "source": [
        "import json\n",
        "print(json.dumps(mapping, ensure_ascii=False, indent=2))"
      ],
      "metadata": {
        "colab": {
          "base_uri": "https://localhost:8080/"
        },
        "id": "GAY0JTAxB-K2",
        "outputId": "9d57acd0-17d1-4f0f-8e4b-3add59862824"
      },
      "execution_count": 4,
      "outputs": [
        {
          "output_type": "stream",
          "name": "stdout",
          "text": [
            "{\n",
            "  \"Bonjour\": \"Hello\",\n",
            "  \"Au revoir\": \"Goodbye\",\n",
            "  \"Bienvenue\": \"Welcome\",\n",
            "  \"A bientôt\": \"See you soon\"\n",
            "}\n"
          ]
        }
      ]
    },
    {
      "cell_type": "markdown",
      "source": [
        "## Conclusion\n",
        "\n",
        "In this challenge, I:\n",
        "- Installed and **imported** a third-party **module**.\n",
        "- Used it to **translate** a list of French words to English in a single batch call.\n",
        "- Constructed a **dictionary** mapping `{French: English}` and printed it clearly.\n",
        "- (Optional) Added a simple **fallback** to keep the notebook deterministic if the online service is unavailable.\n",
        "\n",
        "This reinforced how to work with external modules and transform raw outputs into clean, usable Python data structures."
      ],
      "metadata": {
        "id": "GEmW6ajjCJK3"
      }
    }
  ]
}