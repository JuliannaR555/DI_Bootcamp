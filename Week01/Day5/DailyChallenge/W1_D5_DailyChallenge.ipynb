{
 "cells": [
  {
   "cell_type": "markdown",
   "id": "fefa1ebd",
   "metadata": {},
   "source": [
    "Daily Challenge - Circle"
   ]
  },
  {
   "cell_type": "code",
   "execution_count": 3,
   "id": "eb4ecac6",
   "metadata": {},
   "outputs": [],
   "source": [
    "import math  # On importe le module math pour utiliser la constante π\n",
    "\n",
    "# Définition de la classe Cercle\n",
    "class Circle:\n",
    "    def __init__(self, radius):\n",
    "        # Constructeur : initialise un cercle avec un rayon donné\n",
    "        self.radius = radius\n",
    "\n",
    "    @property\n",
    "    def diameter(self):\n",
    "        # Calcule et retourne le diamètre du cercle (2 fois le rayon)\n",
    "        return self.radius * 2\n",
    "\n",
    "    @property\n",
    "    def area(self):\n",
    "        # Calcule et retourne l'aire du cercle (π * r²)\n",
    "        return math.pi * (self.radius ** 2)\n",
    "\n",
    "    def __str__(self):\n",
    "        # Méthode spéciale pour afficher le cercle joliment\n",
    "        return f\"Cercle de rayon {self.radius:.2f}\"\n",
    "\n",
    "    def __add__(self, other):\n",
    "        # Permet d'additionner deux cercles (on additionne les rayons)\n",
    "        return Circle(self.radius + other.radius)\n",
    "\n",
    "    def __lt__(self, other):\n",
    "        # Permet de comparer deux cercles avec < (moins grand rayon)\n",
    "        return self.radius < other.radius\n",
    "\n",
    "    def __eq__(self, other):\n",
    "        # Permet de comparer deux cercles avec == (même rayon)\n",
    "        return self.radius == other.radius"
   ]
  },
  {
   "cell_type": "code",
   "execution_count": 4,
   "id": "4fe513d6",
   "metadata": {},
   "outputs": [
    {
     "name": "stdout",
     "output_type": "stream",
     "text": [
      "Cercle de rayon 3.00\n",
      "Aire de c1 : 28.27\n",
      "Diamètre de c1 : 6\n",
      "Cercle de rayon 8.00\n",
      "True\n",
      "True\n",
      "Cercle de rayon 1.00\n",
      "Cercle de rayon 2.00\n",
      "Cercle de rayon 5.00\n"
     ]
    }
   ],
   "source": [
    "# Création de deux cercles\n",
    "c1 = Circle(3)\n",
    "c2 = Circle(5)\n",
    "\n",
    "# Création d’un nouveau cercle par addition des deux précédents\n",
    "c3 = c1 + c2  # c3 a un rayon de 3 + 5 = 8\n",
    "\n",
    "# Affichage des informations\n",
    "print(c1)  # Affiche : Cercle de rayon 3.00\n",
    "print(f\"Aire de c1 : {c1.area:.2f}\")       # Aire du cercle 1\n",
    "print(f\"Diamètre de c1 : {c1.diameter}\")   # Diamètre du cercle 1\n",
    "\n",
    "print(c3)  # Affiche : Cercle de rayon 8.00\n",
    "\n",
    "# Comparaison entre cercles\n",
    "print(c1 < c2)  # True, car 3 < 5\n",
    "print(c1 == Circle(3))  # True, car les deux ont le même rayon\n",
    "\n",
    "# Tri d’une liste de cercles\n",
    "circles = [Circle(2), Circle(5), Circle(1)]\n",
    "circles.sort()  # Trie les cercles selon leur rayon (grâce à __lt__)\n",
    "\n",
    "# Affichage des cercles triés\n",
    "for c in circles:\n",
    "    print(c)"
   ]
  }
 ],
 "metadata": {
  "kernelspec": {
   "display_name": "Python 3",
   "language": "python",
   "name": "python3"
  },
  "language_info": {
   "codemirror_mode": {
    "name": "ipython",
    "version": 3
   },
   "file_extension": ".py",
   "mimetype": "text/x-python",
   "name": "python",
   "nbconvert_exporter": "python",
   "pygments_lexer": "ipython3",
   "version": "3.13.1"
  }
 },
 "nbformat": 4,
 "nbformat_minor": 5
}
