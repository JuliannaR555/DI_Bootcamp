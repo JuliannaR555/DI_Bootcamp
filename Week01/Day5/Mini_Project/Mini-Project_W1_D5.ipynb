{
  "nbformat": 4,
  "nbformat_minor": 0,
  "metadata": {
    "colab": {
      "provenance": []
    },
    "kernelspec": {
      "name": "python3",
      "display_name": "Python 3"
    },
    "language_info": {
      "name": "python"
    }
  },
  "cells": [
    {
      "cell_type": "markdown",
      "source": [
        "# Mini-Project: W1_D5"
      ],
      "metadata": {
        "id": "6XYsXGEn8YVd"
      }
    },
    {
      "cell_type": "markdown",
      "source": [
        "# Tic Tac Toe"
      ],
      "metadata": {
        "id": "XsR3c4c18YSb"
      }
    },
    {
      "cell_type": "markdown",
      "source": [
        "## What You'll Learn\n",
        "- Conditionals\n",
        "- Loops\n",
        "- Functions\n",
        "\n",
        "## What You Will Create\n",
        "A two-player Tic-Tac-Toe game in Python that runs in the console/notebook.\n",
        "\n",
        "---\n",
        "\n",
        "## Instructions\n",
        "\n",
        "- The game is played on a 3x3 grid.\n",
        "- Players take turns marking empty squares with **X** or **O**.\n",
        "- The first player to get 3 in a row (horizontal, vertical, or diagonal) wins.\n",
        "- When all 9 squares are filled, the game ends. If no player has 3 in a row, the result is a tie.\n",
        "\n",
        "### Suggested Functions (example design)\n",
        "- `display_board(board)` - Display the board (show cell numbers for empty spots).\n",
        "- `player_input(board, player)` - Read and validate the position for the current player.\n",
        "- `check_win(board)` - Return the winner (`'X'` or `'O'`) or `None`.\n",
        "- `play()` - Orchestrate the game loop (initialize board, alternate turns, check win/draw).\n",
        "\n",
        "> Note: You may add more helper functions or choose a different design. Follow the single-responsibility principle—each function should do one thing well.\n",
        "\n",
        "### Tips\n",
        "- Decide what must happen on **every turn** (display → input → validate → apply move → check win/draw → switch player).\n",
        "- Keep the board representation simple (e.g., a list of 9 strings).\n",
        "- Provide both **interactive play** and a **non-interactive scripted demo** for environments where input is inconvenient."
      ],
      "metadata": {
        "id": "R1KV4Q3B8YOy"
      }
    },
    {
      "cell_type": "markdown",
      "source": [
        "## Tic-Tac-Toe — Core Helpers and Board Rendering"
      ],
      "metadata": {
        "id": "mzV3IErC8l5f"
      }
    },
    {
      "cell_type": "code",
      "execution_count": 1,
      "metadata": {
        "id": "6JTNiKFM8PRf"
      },
      "outputs": [],
      "source": [
        "# We represent the board as a flat list of 9 elements: indices 0..8 (positions 1..9 for users).\n",
        "# Empty cells contain a single space \" \", filled cells contain \"X\" or \"O\".\n",
        "\n",
        "from typing import List, Optional\n",
        "\n",
        "Board = List[str]\n",
        "\n",
        "def make_empty_board() -> Board:\n",
        "    \"\"\"Return a new empty board of 9 cells.\"\"\"\n",
        "    return [\" \"] * 9\n",
        "\n",
        "def display_board(board: Board) -> None:\n",
        "    \"\"\"\n",
        "    Pretty-print the board. Empty cells show their position number (1..9)\n",
        "    so players know what to type.\n",
        "    \"\"\"\n",
        "    def cell(i: int) -> str:\n",
        "        return board[i] if board[i] != \" \" else str(i + 1)\n",
        "    row_sep = \"\\n---+---+---\\n\"\n",
        "    row1 = f\" {cell(0)} | {cell(1)} | {cell(2)} \"\n",
        "    row2 = f\" {cell(3)} | {cell(4)} | {cell(5)} \"\n",
        "    row3 = f\" {cell(6)} | {cell(7)} | {cell(8)} \"\n",
        "    print(row1 + row_sep + row2 + row_sep + row3)\n",
        "\n",
        "def check_win(board: Board) -> Optional[str]:\n",
        "    \"\"\"\n",
        "    Return 'X' or 'O' if a player has won, otherwise None.\n",
        "    Winning lines are 3 in a row: rows, columns, diagonals.\n",
        "    \"\"\"\n",
        "    wins = [\n",
        "        (0, 1, 2), (3, 4, 5), (6, 7, 8),  # rows\n",
        "        (0, 3, 6), (1, 4, 7), (2, 5, 8),  # cols\n",
        "        (0, 4, 8), (2, 4, 6)              # diagonals\n",
        "    ]\n",
        "    for a, b, c in wins:\n",
        "        if board[a] != \" \" and board[a] == board[b] == board[c]:\n",
        "            return board[a]\n",
        "    return None\n",
        "\n",
        "def is_draw(board: Board) -> bool:\n",
        "    \"\"\"Return True if all cells are filled and there is no winner.\"\"\"\n",
        "    return \" \" not in board and check_win(board) is None"
      ]
    },
    {
      "cell_type": "markdown",
      "source": [
        "## Tic-Tac-Toe — Input Handling"
      ],
      "metadata": {
        "id": "kyQrCatg88Sf"
      }
    },
    {
      "cell_type": "code",
      "source": [
        "# Get a valid position from the current player and apply the move.\n",
        "\n",
        "def player_input(board: Board, player: str) -> int:\n",
        "    \"\"\"\n",
        "    Ask the current player ('X' or 'O') for a move.\n",
        "    Valid input: an integer 1..9 for an empty cell.\n",
        "    Returns the zero-based index chosen.\n",
        "    \"\"\"\n",
        "    while True:\n",
        "        raw = input(f\"Player {player}, choose a position (1-9), or 'q' to quit: \").strip().lower()\n",
        "        if raw == \"q\":\n",
        "            raise KeyboardInterrupt(\"Game aborted by user.\")\n",
        "        if not raw.isdigit():\n",
        "            print(\"Invalid input. Please enter a number between 1 and 9.\")\n",
        "            continue\n",
        "        pos = int(raw)\n",
        "        if not (1 <= pos <= 9):\n",
        "            print(\"Out of range. Choose a number between 1 and 9.\")\n",
        "            continue\n",
        "        idx = pos - 1\n",
        "        if board[idx] != \" \":\n",
        "            print(\"That cell is already taken. Choose another one.\")\n",
        "            continue\n",
        "        return idx\n",
        "\n",
        "def apply_move(board: Board, idx: int, player: str) -> None:\n",
        "    \"\"\"Place the player's mark on the board at index idx.\"\"\"\n",
        "    board[idx] = player"
      ],
      "metadata": {
        "id": "JDkhH0xH8-5j"
      },
      "execution_count": 2,
      "outputs": []
    },
    {
      "cell_type": "markdown",
      "source": [
        "## Tic-Tac-Toe — Main Game Loop"
      ],
      "metadata": {
        "id": "_AVQJzrj9Dhi"
      }
    },
    {
      "cell_type": "code",
      "source": [
        "# The play() function drives the game:\n",
        "# 1) Initialize board and starting player\n",
        "# 2) Loop: display, ask input, apply move, check win/draw, switch player\n",
        "\n",
        "def play() -> None:\n",
        "    \"\"\"Run a full 2-player Tic-Tac-Toe game in the console.\"\"\"\n",
        "    board = make_empty_board()\n",
        "    current = \"X\"  # X starts by convention\n",
        "    print(\"Welcome to Tic-Tac-Toe! Player X starts.\\n\")\n",
        "    display_board(board)\n",
        "\n",
        "    while True:\n",
        "        try:\n",
        "            idx = player_input(board, current)\n",
        "        except KeyboardInterrupt as e:\n",
        "            print(str(e))\n",
        "            return\n",
        "\n",
        "        apply_move(board, idx, current)\n",
        "        print()  # spacing\n",
        "        display_board(board)\n",
        "\n",
        "        winner = check_win(board)\n",
        "        if winner:\n",
        "            print(f\"\\nPlayer {winner} wins! 🎉\")\n",
        "            return\n",
        "        if is_draw(board):\n",
        "            print(\"\\nIt's a draw! 🤝\")\n",
        "            return\n",
        "\n",
        "        # Switch player\n",
        "        current = \"O\" if current == \"X\" else \"X\"\n",
        "\n",
        "# Uncomment to play immediately when running this cell:\n",
        "# play()"
      ],
      "metadata": {
        "id": "Lh6Dy-Bj9K5J"
      },
      "execution_count": 3,
      "outputs": []
    },
    {
      "cell_type": "markdown",
      "source": [
        "## (Optional) Non-Interactive Demo — Predefined Moves"
      ],
      "metadata": {
        "id": "saHv0D9n9Q85"
      }
    },
    {
      "cell_type": "code",
      "source": [
        "# This cell runs a scripted sequence of moves to showcase the game without user input.\n",
        "# Useful for notebooks/GitHub where interactive input is inconvenient.\n",
        "\n",
        "def scripted_demo(moves: List[int]) -> None:\n",
        "    \"\"\"\n",
        "    Run a non-interactive demo with a list of positions (1..9).\n",
        "    Moves alternate between X and O automatically.\n",
        "    \"\"\"\n",
        "    board = make_empty_board()\n",
        "    current = \"X\"\n",
        "    print(\"Scripted demo (no input). Move sequence:\", moves)\n",
        "    display_board(board)\n",
        "    for pos in moves:\n",
        "        idx = pos - 1\n",
        "        if not (0 <= idx < 9) or board[idx] != \" \":\n",
        "            print(f\"\\nSkipping invalid or occupied position: {pos}\")\n",
        "            continue\n",
        "        apply_move(board, idx, current)\n",
        "        print(f\"\\nPlayer {current} plays {pos}:\")\n",
        "        display_board(board)\n",
        "        w = check_win(board)\n",
        "        if w:\n",
        "            print(f\"\\nPlayer {w} wins! 🎉\")\n",
        "            return\n",
        "        if is_draw(board):\n",
        "            print(\"\\nIt's a draw! 🤝\")\n",
        "            return\n",
        "        current = \"O\" if current == \"X\" else \"X\"\n",
        "    print(\"\\nDemo ended without a winner.\")\n",
        "\n",
        "# Example scripted demo (X wins on the first row: 1,2,3)\n",
        "# scripted_demo([1, 4, 2, 5, 3])"
      ],
      "metadata": {
        "id": "nZ8z1upp9Tq-"
      },
      "execution_count": 4,
      "outputs": []
    },
    {
      "cell_type": "markdown",
      "source": [
        "## Run a quick non-interactive demo (X wins)"
      ],
      "metadata": {
        "id": "_N8HQoH39nMx"
      }
    },
    {
      "cell_type": "code",
      "source": [
        "try:\n",
        "    scripted_demo\n",
        "except NameError:\n",
        "    print(\"Setup missing: run the previous cells that define the Tic-Tac-Toe functions first.\")\n",
        "else:\n",
        "    # X plays 1, O plays 4, X plays 2, O plays 5, X plays 3 -> X wins (top row)\n",
        "    scripted_demo([1, 4, 2, 5, 3])"
      ],
      "metadata": {
        "colab": {
          "base_uri": "https://localhost:8080/"
        },
        "id": "3GYTsEgU9qPF",
        "outputId": "72d00364-8980-4524-af3f-f7b4a75aec08"
      },
      "execution_count": 5,
      "outputs": [
        {
          "output_type": "stream",
          "name": "stdout",
          "text": [
            "Scripted demo (no input). Move sequence: [1, 4, 2, 5, 3]\n",
            " 1 | 2 | 3 \n",
            "---+---+---\n",
            " 4 | 5 | 6 \n",
            "---+---+---\n",
            " 7 | 8 | 9 \n",
            "\n",
            "Player X plays 1:\n",
            " X | 2 | 3 \n",
            "---+---+---\n",
            " 4 | 5 | 6 \n",
            "---+---+---\n",
            " 7 | 8 | 9 \n",
            "\n",
            "Player O plays 4:\n",
            " X | 2 | 3 \n",
            "---+---+---\n",
            " O | 5 | 6 \n",
            "---+---+---\n",
            " 7 | 8 | 9 \n",
            "\n",
            "Player X plays 2:\n",
            " X | X | 3 \n",
            "---+---+---\n",
            " O | 5 | 6 \n",
            "---+---+---\n",
            " 7 | 8 | 9 \n",
            "\n",
            "Player O plays 5:\n",
            " X | X | 3 \n",
            "---+---+---\n",
            " O | O | 6 \n",
            "---+---+---\n",
            " 7 | 8 | 9 \n",
            "\n",
            "Player X plays 3:\n",
            " X | X | X \n",
            "---+---+---\n",
            " O | O | 6 \n",
            "---+---+---\n",
            " 7 | 8 | 9 \n",
            "\n",
            "Player X wins! 🎉\n"
          ]
        }
      ]
    },
    {
      "cell_type": "markdown",
      "source": [
        "## Run a draw demo (no winner)"
      ],
      "metadata": {
        "id": "FEEAlZIn9wUI"
      }
    },
    {
      "cell_type": "code",
      "source": [
        "try:\n",
        "    scripted_demo\n",
        "except NameError:\n",
        "    print(\"Setup missing: run the previous cells that define the Tic-Tac-Toe functions first.\")\n",
        "else:\n",
        "    # Sequence leading to a full board with no 3-in-a-row\n",
        "    scripted_demo([5, 1, 9, 3, 7, 8, 2, 4, 6])"
      ],
      "metadata": {
        "colab": {
          "base_uri": "https://localhost:8080/"
        },
        "id": "JtimjM-q9yyf",
        "outputId": "36792a27-e31d-40cd-9a10-12189e88e914"
      },
      "execution_count": 6,
      "outputs": [
        {
          "output_type": "stream",
          "name": "stdout",
          "text": [
            "Scripted demo (no input). Move sequence: [5, 1, 9, 3, 7, 8, 2, 4, 6]\n",
            " 1 | 2 | 3 \n",
            "---+---+---\n",
            " 4 | 5 | 6 \n",
            "---+---+---\n",
            " 7 | 8 | 9 \n",
            "\n",
            "Player X plays 5:\n",
            " 1 | 2 | 3 \n",
            "---+---+---\n",
            " 4 | X | 6 \n",
            "---+---+---\n",
            " 7 | 8 | 9 \n",
            "\n",
            "Player O plays 1:\n",
            " O | 2 | 3 \n",
            "---+---+---\n",
            " 4 | X | 6 \n",
            "---+---+---\n",
            " 7 | 8 | 9 \n",
            "\n",
            "Player X plays 9:\n",
            " O | 2 | 3 \n",
            "---+---+---\n",
            " 4 | X | 6 \n",
            "---+---+---\n",
            " 7 | 8 | X \n",
            "\n",
            "Player O plays 3:\n",
            " O | 2 | O \n",
            "---+---+---\n",
            " 4 | X | 6 \n",
            "---+---+---\n",
            " 7 | 8 | X \n",
            "\n",
            "Player X plays 7:\n",
            " O | 2 | O \n",
            "---+---+---\n",
            " 4 | X | 6 \n",
            "---+---+---\n",
            " X | 8 | X \n",
            "\n",
            "Player O plays 8:\n",
            " O | 2 | O \n",
            "---+---+---\n",
            " 4 | X | 6 \n",
            "---+---+---\n",
            " X | O | X \n",
            "\n",
            "Player X plays 2:\n",
            " O | X | O \n",
            "---+---+---\n",
            " 4 | X | 6 \n",
            "---+---+---\n",
            " X | O | X \n",
            "\n",
            "Player O plays 4:\n",
            " O | X | O \n",
            "---+---+---\n",
            " O | X | 6 \n",
            "---+---+---\n",
            " X | O | X \n",
            "\n",
            "Player X plays 6:\n",
            " O | X | O \n",
            "---+---+---\n",
            " O | X | X \n",
            "---+---+---\n",
            " X | O | X \n",
            "\n",
            "It's a draw! 🤝\n"
          ]
        }
      ]
    },
    {
      "cell_type": "code",
      "source": [
        "# Title: Start an interactive 2-player game\n",
        "# Type numbers 1..9 to play, or 'q' to quit.\n",
        "play()"
      ],
      "metadata": {
        "colab": {
          "base_uri": "https://localhost:8080/"
        },
        "id": "zFSJZnn293UV",
        "outputId": "b330cf59-73f8-42e5-a134-ae58f4b27558"
      },
      "execution_count": 7,
      "outputs": [
        {
          "output_type": "stream",
          "name": "stdout",
          "text": [
            "Welcome to Tic-Tac-Toe! Player X starts.\n",
            "\n",
            " 1 | 2 | 3 \n",
            "---+---+---\n",
            " 4 | 5 | 6 \n",
            "---+---+---\n",
            " 7 | 8 | 9 \n",
            "Player X, choose a position (1-9), or 'q' to quit: 5\n",
            "\n",
            " 1 | 2 | 3 \n",
            "---+---+---\n",
            " 4 | X | 6 \n",
            "---+---+---\n",
            " 7 | 8 | 9 \n",
            "Player O, choose a position (1-9), or 'q' to quit: 7\n",
            "\n",
            " 1 | 2 | 3 \n",
            "---+---+---\n",
            " 4 | X | 6 \n",
            "---+---+---\n",
            " O | 8 | 9 \n",
            "Player X, choose a position (1-9), or 'q' to quit: q\n",
            "Game aborted by user.\n"
          ]
        }
      ]
    },
    {
      "cell_type": "markdown",
      "source": [
        "## Conclusion\n",
        "\n",
        "In this mini-project, I built a fully working Tic-Tac-Toe game by combining small, focused functions:\n",
        "\n",
        "- **Display logic** to render the board clearly.\n",
        "- **Input handling** to validate moves and prevent invalid positions.\n",
        "- **Game rules** to detect wins across rows, columns, and diagonals.\n",
        "- **Main loop** to alternate players and determine end conditions (win or draw).\n",
        "\n",
        "This reinforced my understanding of **control flow** (conditionals, loops), **function design**, and how to structure a small program so each part has a clear responsibility. The same approach can be extended to add features like input timeouts, score tracking, or an AI opponent later."
      ],
      "metadata": {
        "id": "I5MheA96-NkQ"
      }
    }
  ]
}