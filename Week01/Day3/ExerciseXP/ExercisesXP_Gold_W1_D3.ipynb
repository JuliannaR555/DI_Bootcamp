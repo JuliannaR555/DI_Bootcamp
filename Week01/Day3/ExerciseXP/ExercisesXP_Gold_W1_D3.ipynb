{
  "nbformat": 4,
  "nbformat_minor": 0,
  "metadata": {
    "colab": {
      "provenance": []
    },
    "kernelspec": {
      "name": "python3",
      "display_name": "Python 3"
    },
    "language_info": {
      "name": "python"
    }
  },
  "cells": [
    {
      "cell_type": "markdown",
      "source": [
        "## Exercises XP Gold: W1_D3"
      ],
      "metadata": {
        "id": "Xcw7tn7Sp_0_"
      }
    },
    {
      "cell_type": "markdown",
      "source": [
        "## What You'll Learn\n",
        "\n",
        "In these exercises, you will practice using **classes and objects** in Python.  \n",
        "You will learn how to create custom classes, define attributes and methods, work with data encapsulation, and manipulate lists of objects or dictionaries within a class context.\n",
        "\n",
        "---\n",
        "\n",
        "### Exercise 1: Geometry\n",
        "\n",
        "- Create a class `Circle` that receives a radius as an argument (default is `1.0`).\n",
        "- Add two instance methods to compute **perimeter** and **area**.\n",
        "- Add a method to print the **geometrical definition** of a circle.\n",
        "\n",
        "---\n",
        "\n",
        "### Exercise 2: Custom List Class\n",
        "\n",
        "- Create a class `MyList` that receives a list of letters.\n",
        "- Add a method that returns the **reversed list**.\n",
        "- Add a method that returns the **sorted list**.\n",
        "- **Bonus**: Add a method that generates a second list (same length as the original) containing **random numbers** using list comprehension.\n",
        "\n",
        "---\n",
        "\n",
        "### Exercise 3: Restaurant Menu Manager\n",
        "\n",
        "- Create a class `MenuManager`.\n",
        "- In the `__init__` method, define a `menu` attribute containing a list of dictionaries (each representing a dish with keys: `nme`, `price`, `spice`, `gluten`).\n",
        "- Use the following initial menu:  \n",
        "Soup - 10 - B - False\n",
        "Hamburger - 15 - A - True\n",
        "Salad - 18 - A - False\n",
        "French Fries - 5 - C - False\n",
        "Beef bourguignon - 25 - B - True\n",
        "\n",
        "Spice levels:\n",
        "  - A = not spicy  \n",
        "  - B = a little spicy  \n",
        "  - C = very spicy\n",
        "- Create a method `add_item(name, price, spice, gluten)` to add a new dish.\n",
        "- Create a method `update_item(name, price, spice, gluten)` to update a dish if it exists, otherwise notify that it is not in the menu.\n",
        "- Create a method `remove_item(name)` to remove a dish if it exists, otherwise notify that it is not in the menu."
      ],
      "metadata": {
        "id": "9Ly4Jl96p_r7"
      }
    },
    {
      "cell_type": "markdown",
      "source": [
        "## Exercise 1 — Geometry: Circle"
      ],
      "metadata": {
        "id": "VV3ItyEOp_l_"
      }
    },
    {
      "cell_type": "code",
      "execution_count": 1,
      "metadata": {
        "colab": {
          "base_uri": "https://localhost:8080/"
        },
        "id": "9GeKyG9Ip7lO",
        "outputId": "22f70323-396a-4c6a-afe0-0a4bcb6af182"
      },
      "outputs": [
        {
          "output_type": "stream",
          "name": "stdout",
          "text": [
            "Perimeter: 18.85\n",
            "Area: 28.274\n",
            "A circle is the set of all points in a plane that are at a fixed distance (radius) from a fixed point (center).\n"
          ]
        }
      ],
      "source": [
        "# Title: Circle class — perimeter, area, and definition\n",
        "# This class models a circle with a given radius (default 1.0).\n",
        "# It exposes methods to compute perimeter (circumference) and area,\n",
        "# plus a method to print the geometric definition of a circle.\n",
        "\n",
        "import math\n",
        "\n",
        "class Circle:\n",
        "    def __init__(self, radius: float = 1.0):\n",
        "        # Store radius; basic validation to ensure it's positive\n",
        "        if radius <= 0:\n",
        "            raise ValueError(\"Radius must be positive.\")\n",
        "        self.radius = float(radius)\n",
        "\n",
        "    def perimeter(self) -> float:\n",
        "        \"\"\"Return the circumference: 2πr.\"\"\"\n",
        "        return 2 * math.pi * self.radius\n",
        "\n",
        "    def area(self) -> float:\n",
        "        \"\"\"Return the area: πr².\"\"\"\n",
        "        return math.pi * (self.radius ** 2)\n",
        "\n",
        "    def print_definition(self) -> None:\n",
        "        \"\"\"Print a short geometric definition of a circle.\"\"\"\n",
        "        print(\"A circle is the set of all points in a plane that are at a fixed distance (radius) from a fixed point (center).\")\n",
        "\n",
        "# Quick demo\n",
        "c = Circle(3)\n",
        "print(\"Perimeter:\", round(c.perimeter(), 3))\n",
        "print(\"Area:\", round(c.area(), 3))\n",
        "c.print_definition()"
      ]
    },
    {
      "cell_type": "markdown",
      "source": [
        "## Exercise 2 — Custom List Class: MyList"
      ],
      "metadata": {
        "id": "oYP_seteqN9F"
      }
    },
    {
      "cell_type": "code",
      "source": [
        "# Title: MyList class — reverse, sort, and random parallel list (bonus)\n",
        "# This class receives a list of letters and provides:\n",
        "# - reversed_list(): return a NEW list reversed\n",
        "# - sorted_list(): return a NEW list sorted (case-sensitive by default)\n",
        "# - random_same_length(): (bonus) return a NEW list of random integers with same length\n",
        "\n",
        "import random\n",
        "from typing import List, Any\n",
        "\n",
        "class MyList:\n",
        "    def __init__(self, letters: List[Any]):\n",
        "        # Store a shallow copy to avoid external mutation surprises\n",
        "        self.letters = list(letters)\n",
        "\n",
        "    def reversed_list(self) -> List[Any]:\n",
        "        \"\"\"Return a new list with elements in reverse order.\"\"\"\n",
        "        return list(reversed(self.letters))\n",
        "\n",
        "    def sorted_list(self) -> List[Any]:\n",
        "        \"\"\"Return a new sorted list (default Python sort).\"\"\"\n",
        "        return sorted(self.letters)\n",
        "\n",
        "    def random_same_length(self, low: int = 0, high: int = 100) -> List[int]:\n",
        "        \"\"\"\n",
        "        (Bonus) Return a new list of random integers of the same length as self.letters.\n",
        "        Uses list comprehension to generate the numbers.\n",
        "        \"\"\"\n",
        "        n = len(self.letters)\n",
        "        return [random.randint(low, high) for _ in range(n)]\n",
        "\n",
        "# Quick demo\n",
        "ml = MyList(['d', 'A', 'c', 'b'])\n",
        "print(\"Original:\", ml.letters)\n",
        "print(\"Reversed:\", ml.reversed_list())\n",
        "print(\"Sorted:\", ml.sorted_list())\n",
        "print(\"Random parallel:\", ml.random_same_length(10, 20))"
      ],
      "metadata": {
        "colab": {
          "base_uri": "https://localhost:8080/"
        },
        "id": "1t3qTE19qRE2",
        "outputId": "95c37ff7-07a2-43f4-c063-e1ce2d696b05"
      },
      "execution_count": 2,
      "outputs": [
        {
          "output_type": "stream",
          "name": "stdout",
          "text": [
            "Original: ['d', 'A', 'c', 'b']\n",
            "Reversed: ['b', 'c', 'A', 'd']\n",
            "Sorted: ['A', 'b', 'c', 'd']\n",
            "Random parallel: [13, 12, 20, 20]\n"
          ]
        }
      ]
    },
    {
      "cell_type": "markdown",
      "source": [
        "## Exercise 3 — Restaurant Menu Manager"
      ],
      "metadata": {
        "id": "Y9tJ-mP3qWgK"
      }
    },
    {
      "cell_type": "code",
      "source": [
        "# Title: MenuManager — add, update, remove dishes\n",
        "# The menu is a list of dictionaries, each with: name, price, spice, gluten (bool).\n",
        "\n",
        "from typing import List, Dict, Optional\n",
        "\n",
        "class MenuManager:\n",
        "    def __init__(self):\n",
        "        # Initialize the menu with the given dishes\n",
        "        self.menu: List[Dict] = [\n",
        "            {\"name\": \"Soup\",             \"price\": 10, \"spice\": \"B\", \"gluten\": False},\n",
        "            {\"name\": \"Hamburger\",        \"price\": 15, \"spice\": \"A\", \"gluten\": True},\n",
        "            {\"name\": \"Salad\",            \"price\": 18, \"spice\": \"A\", \"gluten\": False},\n",
        "            {\"name\": \"French Fries\",     \"price\":  5, \"spice\": \"C\", \"gluten\": False},\n",
        "            {\"name\": \"Beef bourguignon\", \"price\": 25, \"spice\": \"B\", \"gluten\": True},\n",
        "        ]\n",
        "\n",
        "    def _find_index(self, name: str) -> Optional[int]:\n",
        "        \"\"\"Return the index of the dish by exact name match, or None if not found.\"\"\"\n",
        "        for i, d in enumerate(self.menu):\n",
        "            if d[\"name\"] == name:\n",
        "                return i\n",
        "        return None\n",
        "\n",
        "    def add_item(self, name: str, price: int, spice: str, gluten: bool) -> None:\n",
        "        \"\"\"Add a new dish to the menu.\"\"\"\n",
        "        new_dish = {\"name\": name, \"price\": int(price), \"spice\": spice, \"gluten\": bool(gluten)}\n",
        "        self.menu.append(new_dish)\n",
        "        print(f\"Added: {new_dish}\")\n",
        "\n",
        "    def update_item(self, name: str, price: int, spice: str, gluten: bool) -> None:\n",
        "        \"\"\"\n",
        "        Update an existing dish if present. Otherwise, notify that it doesn't exist.\n",
        "        \"\"\"\n",
        "        idx = self._find_index(name)\n",
        "        if idx is None:\n",
        "            print(f\"'{name}' is not in the menu. Nothing was updated.\")\n",
        "            return\n",
        "        self.menu[idx].update({\"price\": int(price), \"spice\": spice, \"gluten\": bool(gluten)})\n",
        "        print(f\"Updated: {self.menu[idx]}\")\n",
        "\n",
        "    def remove_item(self, name: str) -> None:\n",
        "        \"\"\"\n",
        "        Remove a dish by name if present and print the updated menu; otherwise notify.\n",
        "        \"\"\"\n",
        "        idx = self._find_index(name)\n",
        "        if idx is None:\n",
        "            print(f\"'{name}' is not in the menu. Nothing was removed.\")\n",
        "            return\n",
        "        removed = self.menu.pop(idx)\n",
        "        print(f\"Removed: {removed}\")\n",
        "        print(\"Updated menu:\")\n",
        "        for d in self.menu:\n",
        "            print(d)\n",
        "\n",
        "# Quick demo\n",
        "mgr = MenuManager()\n",
        "mgr.add_item(\"Pasta\", 12, \"A\", True)\n",
        "mgr.update_item(\"Soup\", 11, \"B\", False)\n",
        "mgr.remove_item(\"French Fries\")\n",
        "mgr.update_item(\"Sushi\", 20, \"A\", False)  # not in the menu"
      ],
      "metadata": {
        "colab": {
          "base_uri": "https://localhost:8080/"
        },
        "id": "nGTV4ZNeqdXX",
        "outputId": "1a645ec4-3b63-4676-f490-2c9ea371c0fa"
      },
      "execution_count": 3,
      "outputs": [
        {
          "output_type": "stream",
          "name": "stdout",
          "text": [
            "Added: {'name': 'Pasta', 'price': 12, 'spice': 'A', 'gluten': True}\n",
            "Updated: {'name': 'Soup', 'price': 11, 'spice': 'B', 'gluten': False}\n",
            "Removed: {'name': 'French Fries', 'price': 5, 'spice': 'C', 'gluten': False}\n",
            "Updated menu:\n",
            "{'name': 'Soup', 'price': 11, 'spice': 'B', 'gluten': False}\n",
            "{'name': 'Hamburger', 'price': 15, 'spice': 'A', 'gluten': True}\n",
            "{'name': 'Salad', 'price': 18, 'spice': 'A', 'gluten': False}\n",
            "{'name': 'Beef bourguignon', 'price': 25, 'spice': 'B', 'gluten': True}\n",
            "{'name': 'Pasta', 'price': 12, 'spice': 'A', 'gluten': True}\n",
            "'Sushi' is not in the menu. Nothing was updated.\n"
          ]
        }
      ]
    },
    {
      "cell_type": "markdown",
      "source": [
        "## Conclusion\n",
        "\n",
        "In this set of exercises, I practiced:\n",
        "\n",
        "- Creating **classes** with constructors and instance attributes.\n",
        "- Writing and using **instance methods** to perform calculations and return values.\n",
        "- Implementing **data manipulation** inside classes, including lists and dictionaries.\n",
        "- Using **helper methods** (e.g., to find an index) to make the code cleaner and avoid repetition.\n",
        "- Applying **bonus features** like generating random values with list comprehensions.\n",
        "\n",
        "These exercises helped strengthen my understanding of Python OOP concepts and how to organize code for clarity and reusability."
      ],
      "metadata": {
        "id": "b55vDeW3q6SE"
      }
    }
  ]
}