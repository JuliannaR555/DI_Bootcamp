{
  "nbformat": 4,
  "nbformat_minor": 0,
  "metadata": {
    "colab": {
      "provenance": []
    },
    "kernelspec": {
      "name": "python3",
      "display_name": "Python 3"
    },
    "language_info": {
      "name": "python"
    }
  },
  "cells": [
    {
      "cell_type": "markdown",
      "source": [
        "# Exercises XP Ninja: W1_D3"
      ],
      "metadata": {
        "id": "O0hviolgtBim"
      }
    },
    {
      "cell_type": "markdown",
      "source": [
        "## What You'll Learn\n",
        "\n",
        "In this exercise, you will practice creating Python classes and working with objects.  \n",
        "You will learn how to define instance attributes, create methods for specific behaviors, and manage collections of data (lists, dictionaries) inside a class.\n",
        "\n",
        "---\n",
        "\n",
        "### Exercise 1: Call History\n",
        "\n",
        "1. **Create a `Phone` class**:\n",
        "   - The constructor (`__init__`) takes one parameter `phone_number`.\n",
        "   - Add an attribute `call_history` initialized as an empty list.\n",
        "   - Add an attribute `messages` initialized as an empty list.\n",
        "\n",
        "2. **Add a `call` method**:\n",
        "   - Takes `self` and `other_phone` (another `Phone` object) as parameters.\n",
        "   - Prints a string stating who called who.\n",
        "   - Adds this string to `call_history`.\n",
        "\n",
        "3. **Add a `show_call_history` method**:\n",
        "   - Prints the `call_history`.\n",
        "\n",
        "4. **Add a `send_message` method**:\n",
        "   - Takes `self`, `other_phone` (another `Phone` object), and `content` (string) as parameters.\n",
        "   - Creates a dictionary with keys:\n",
        "     - `\"to\"`: number of the other phone\n",
        "     - `\"from\"`: your phone number\n",
        "     - `\"content\"`: the message text\n",
        "   - Saves this message in the `messages` list of **both** phones.\n",
        "\n",
        "5. **Add the following methods**:\n",
        "   - `show_outgoing_messages(self)`: Prints all messages sent from this phone.\n",
        "   - `show_incoming_messages(self)`: Prints all messages received by this phone.\n",
        "   - `show_messages_from(self, number)`: Prints all messages from a specific number.\n",
        "\n",
        "6. **Test your code**:\n",
        "   - Create several `Phone` objects.\n",
        "   - Make calls between them and display the call histories.\n",
        "   - Send messages between them and display the messages using the different methods."
      ],
      "metadata": {
        "id": "xW6YCsfStBcy"
      }
    },
    {
      "cell_type": "markdown",
      "source": [
        "## Phone class — call history and messaging"
      ],
      "metadata": {
        "id": "lXY1-SSEtBWl"
      }
    },
    {
      "cell_type": "code",
      "source": [
        "# Title: Phone class — call history and messaging\n",
        "# This class simulates phone calls and text messages between Phone objects.\n",
        "\n",
        "class Phone:\n",
        "    def __init__(self, phone_number: str):\n",
        "        \"\"\"\n",
        "        Initialize the phone with a number, empty call history, and empty message list.\n",
        "        \"\"\"\n",
        "        self.phone_number = phone_number\n",
        "        self.call_history = []  # stores call logs as strings\n",
        "        self.messages = []      # stores messages as dicts\n",
        "\n",
        "    def call(self, other_phone: 'Phone') -> None:\n",
        "        \"\"\"\n",
        "        Simulate a phone call to another Phone object.\n",
        "        Adds the call to self.call_history.\n",
        "        \"\"\"\n",
        "        log = f\"{self.phone_number} called {other_phone.phone_number}\"\n",
        "        print(log)\n",
        "        self.call_history.append(log)\n",
        "\n",
        "    def show_call_history(self) -> None:\n",
        "        \"\"\"\n",
        "        Print the call history for this phone.\n",
        "        \"\"\"\n",
        "        print(f\"Call history for {self.phone_number}:\")\n",
        "        if not self.call_history:\n",
        "            print(\"No calls made yet.\")\n",
        "        else:\n",
        "            for entry in self.call_history:\n",
        "                print(\"-\", entry)\n",
        "\n",
        "    def send_message(self, other_phone: 'Phone', content: str) -> None:\n",
        "        \"\"\"\n",
        "        Send a text message to another Phone.\n",
        "        Store the message in BOTH phones so outgoing/incoming views work.\n",
        "        \"\"\"\n",
        "        msg = {\"to\": other_phone.phone_number, \"from\": self.phone_number, \"content\": content}\n",
        "        # Save on sender (outgoing)\n",
        "        self.messages.append(msg)\n",
        "        # Save on receiver (incoming)\n",
        "        other_phone.messages.append(msg)\n",
        "        print(f\"Message sent from {self.phone_number} to {other_phone.phone_number}: '{content}'\")\n",
        "\n",
        "    def show_outgoing_messages(self) -> None:\n",
        "        \"\"\"\n",
        "        Print all messages sent from this phone.\n",
        "        \"\"\"\n",
        "        print(f\"Outgoing messages from {self.phone_number}:\")\n",
        "        outgoing = [m for m in self.messages if m[\"from\"] == self.phone_number]\n",
        "        if not outgoing:\n",
        "            print(\"No outgoing messages.\")\n",
        "        else:\n",
        "            for m in outgoing:\n",
        "                print(f\"To {m['to']}: {m['content']}\")\n",
        "\n",
        "    def show_incoming_messages(self) -> None:\n",
        "        \"\"\"\n",
        "        Print all messages received by this phone.\n",
        "        \"\"\"\n",
        "        print(f\"Incoming messages for {self.phone_number}:\")\n",
        "        incoming = [m for m in self.messages if m[\"to\"] == self.phone_number]\n",
        "        if not incoming:\n",
        "            print(\"No incoming messages.\")\n",
        "        else:\n",
        "            for m in incoming:\n",
        "                print(f\"From {m['from']}: {m['content']}\")\n",
        "\n",
        "    def show_messages_from(self, number: str) -> None:\n",
        "        \"\"\"\n",
        "        Show all messages from a specific phone number.\n",
        "        \"\"\"\n",
        "        print(f\"Messages for {self.phone_number} from {number}:\")\n",
        "        filtered = [m for m in self.messages if m[\"from\"] == number]\n",
        "        if not filtered:\n",
        "            print(f\"No messages from {number}.\")\n",
        "        else:\n",
        "            for m in filtered:\n",
        "                print(f\"From {m['from']}: {m['content']}\")"
      ],
      "metadata": {
        "id": "oQ0t5QaEvEd6"
      },
      "execution_count": 3,
      "outputs": []
    },
    {
      "cell_type": "markdown",
      "source": [
        "## Test block for Phone class"
      ],
      "metadata": {
        "id": "7Yo9goH1tW2t"
      }
    },
    {
      "cell_type": "code",
      "source": [
        "# Create phone objects\n",
        "phone1 = Phone(\"111-111\")\n",
        "phone2 = Phone(\"222-222\")\n",
        "phone3 = Phone(\"333-333\")\n",
        "\n",
        "# Test calls\n",
        "print(\"\\n--- Calls ---\")\n",
        "phone1.call(phone2)\n",
        "phone2.call(phone1)\n",
        "phone1.call(phone3)\n",
        "\n",
        "# Show call histories\n",
        "phone1.show_call_history()\n",
        "phone2.show_call_history()\n",
        "phone3.show_call_history()\n",
        "\n",
        "# Test messages\n",
        "print(\"\\n--- Messages ---\")\n",
        "phone1.send_message(phone2, \"Hello from phone1 to phone2!\")\n",
        "phone2.send_message(phone1, \"Hello back from phone2 to phone1!\")\n",
        "phone1.send_message(phone3, \"Hi phone3!\")\n",
        "phone3.send_message(phone1, \"Hey phone1, got your message!\")\n",
        "\n",
        "# Show outgoing and incoming messages\n",
        "print(\"\\n--- Outgoing messages for phone1 ---\")\n",
        "phone1.show_outgoing_messages()\n",
        "\n",
        "print(\"\\n--- Incoming messages for phone1 ---\")\n",
        "phone1.show_incoming_messages()\n",
        "\n",
        "# Show messages from a specific number\n",
        "print(\"\\n--- Messages for phone1 from 222-222 ---\")\n",
        "phone1.show_messages_from(\"222-222\")"
      ],
      "metadata": {
        "colab": {
          "base_uri": "https://localhost:8080/"
        },
        "id": "xETG9EfPvPzI",
        "outputId": "89afe4f2-fd4e-4a86-cc33-8e5c1bb6cc86"
      },
      "execution_count": 5,
      "outputs": [
        {
          "output_type": "stream",
          "name": "stdout",
          "text": [
            "\n",
            "--- Calls ---\n",
            "111-111 called 222-222\n",
            "222-222 called 111-111\n",
            "111-111 called 333-333\n",
            "Call history for 111-111:\n",
            "- 111-111 called 222-222\n",
            "- 111-111 called 333-333\n",
            "Call history for 222-222:\n",
            "- 222-222 called 111-111\n",
            "Call history for 333-333:\n",
            "No calls made yet.\n",
            "\n",
            "--- Messages ---\n",
            "Message sent from 111-111 to 222-222: 'Hello from phone1 to phone2!'\n",
            "Message sent from 222-222 to 111-111: 'Hello back from phone2 to phone1!'\n",
            "Message sent from 111-111 to 333-333: 'Hi phone3!'\n",
            "Message sent from 333-333 to 111-111: 'Hey phone1, got your message!'\n",
            "\n",
            "--- Outgoing messages for phone1 ---\n",
            "Outgoing messages from 111-111:\n",
            "To 222-222: Hello from phone1 to phone2!\n",
            "To 333-333: Hi phone3!\n",
            "\n",
            "--- Incoming messages for phone1 ---\n",
            "Incoming messages for 111-111:\n",
            "From 222-222: Hello back from phone2 to phone1!\n",
            "From 333-333: Hey phone1, got your message!\n",
            "\n",
            "--- Messages for phone1 from 222-222 ---\n",
            "Messages for 111-111 from 222-222:\n",
            "From 222-222: Hello back from phone2 to phone1!\n"
          ]
        }
      ]
    },
    {
      "cell_type": "markdown",
      "source": [
        "## Conclusion\n",
        "\n",
        "In this exercise, I practiced:\n",
        "\n",
        "- Creating a Python **class** with a constructor (`__init__`) that initializes attributes.\n",
        "- Working with **instance attributes** to store call history and messages.\n",
        "- Implementing **methods** to simulate phone calls and send messages between objects.\n",
        "- Using **lists** to store structured data such as strings (call logs) and dictionaries (messages).\n",
        "- Handling both **outgoing** and **incoming** messages by storing them in the sender and receiver objects.\n",
        "- Filtering and displaying data based on specific criteria (e.g., messages from a given phone number).\n",
        "\n",
        "This exercise reinforced my understanding of **object-oriented programming** concepts, especially how objects can interact and exchange data in Python."
      ],
      "metadata": {
        "id": "oLq7h3H7vq5j"
      }
    }
  ]
}