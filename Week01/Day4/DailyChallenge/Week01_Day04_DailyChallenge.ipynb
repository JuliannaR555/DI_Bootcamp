{
 "cells": [
  {
   "cell_type": "markdown",
   "id": "499c558f",
   "metadata": {},
   "source": [
    "Daily Challenge : Week1 - Day4"
   ]
  },
  {
   "cell_type": "markdown",
   "id": "6add8ac7",
   "metadata": {},
   "source": [
    "Daily Challenge : Pagination"
   ]
  },
  {
   "cell_type": "code",
   "execution_count": 7,
   "id": "bc5b5726",
   "metadata": {},
   "outputs": [],
   "source": [
    "import math  # Pour utiliser math.ceil (arrondi vers le haut)"
   ]
  },
  {
   "cell_type": "code",
   "execution_count": 8,
   "id": "76c84ed0",
   "metadata": {},
   "outputs": [],
   "source": [
    "# Classe Pagination\n",
    "class Pagination:\n",
    "    def __init__(self, items=None, page_size=10):\n",
    "        # Si aucun élément n'est fourni, on initialise avec une liste vide\n",
    "        self.items = items if items is not None else []\n",
    "        # Nombre d'éléments par page\n",
    "        self.page_size = page_size\n",
    "        # Index de la page actuelle (commence à 0)\n",
    "        self.current_idx = 0\n",
    "        # Calcul du nombre total de pages (arrondi vers le haut)\n",
    "        self.total_pages = math.ceil(len(self.items) / self.page_size)\n",
    "\n",
    "    def get_visible_items(self):\n",
    "        # Calcule les indices de début et de fin de la page actuelle\n",
    "        start = self.current_idx * self.page_size\n",
    "        end = start + self.page_size\n",
    "        # Retourne les éléments visibles sur cette page\n",
    "        return self.items[start:end]\n",
    "\n",
    "    def go_to_page(self, page_num):\n",
    "        # Vérifie que le numéro de page est valide (1-based pour l'utilisateur)\n",
    "        if page_num < 1 or page_num > self.total_pages:\n",
    "            raise ValueError(\"Numéro de page hors limites\")\n",
    "        # Convertit en index 0-based pour usage interne\n",
    "        self.current_idx = page_num - 1\n",
    "\n",
    "    def first_page(self):\n",
    "        # Va à la première page\n",
    "        self.current_idx = 0\n",
    "        return self  # Pour permettre le chaining (enchaînement de méthodes)\n",
    "\n",
    "    def last_page(self):\n",
    "        # Va à la dernière page\n",
    "        self.current_idx = self.total_pages - 1\n",
    "        return self\n",
    "\n",
    "    def next_page(self):\n",
    "        # Avance d'une page, sauf si on est déjà à la fin\n",
    "        if self.current_idx < self.total_pages - 1:\n",
    "            self.current_idx += 1\n",
    "        return self\n",
    "\n",
    "    def previous_page(self):\n",
    "        # Recule d'une page, sauf si on est déjà au début\n",
    "        if self.current_idx > 0:\n",
    "            self.current_idx -= 1\n",
    "        return self\n",
    "\n",
    "    def __str__(self):\n",
    "        # Retourne une chaîne de caractères avec chaque élément visible sur une nouvelle ligne\n",
    "        return \"\\n\".join(self.get_visible_items())"
   ]
  },
  {
   "cell_type": "code",
   "execution_count": 9,
   "id": "db10348b",
   "metadata": {},
   "outputs": [
    {
     "name": "stdout",
     "output_type": "stream",
     "text": [
      "['a', 'b', 'c', 'd']\n",
      "['e', 'f', 'g', 'h']\n",
      "['y', 'z']\n"
     ]
    },
    {
     "ename": "ValueError",
     "evalue": "Numéro de page hors limites",
     "output_type": "error",
     "traceback": [
      "\u001b[31m---------------------------------------------------------------------------\u001b[39m",
      "\u001b[31mValueError\u001b[39m                                Traceback (most recent call last)",
      "\u001b[36mCell\u001b[39m\u001b[36m \u001b[39m\u001b[32mIn[9]\u001b[39m\u001b[32m, line 15\u001b[39m\n\u001b[32m     12\u001b[39m p.last_page()\n\u001b[32m     13\u001b[39m \u001b[38;5;28mprint\u001b[39m(p.get_visible_items())  \u001b[38;5;66;03m# ['y', 'z']\u001b[39;00m\n\u001b[32m---> \u001b[39m\u001b[32m15\u001b[39m \u001b[43mp\u001b[49m\u001b[43m.\u001b[49m\u001b[43mgo_to_page\u001b[49m\u001b[43m(\u001b[49m\u001b[32;43m10\u001b[39;49m\u001b[43m)\u001b[49m\n\u001b[32m     16\u001b[39m \u001b[38;5;28mprint\u001b[39m(p.current_idx + \u001b[32m1\u001b[39m)  \u001b[38;5;66;03m# Affiche 7 (car il n'y a que 7 pages possibles)\u001b[39;00m\n\u001b[32m     18\u001b[39m \u001b[38;5;66;03m# Test avec une page invalide\u001b[39;00m\n",
      "\u001b[36mCell\u001b[39m\u001b[36m \u001b[39m\u001b[32mIn[8]\u001b[39m\u001b[32m, line 23\u001b[39m, in \u001b[36mPagination.go_to_page\u001b[39m\u001b[34m(self, page_num)\u001b[39m\n\u001b[32m     20\u001b[39m \u001b[38;5;28;01mdef\u001b[39;00m\u001b[38;5;250m \u001b[39m\u001b[34mgo_to_page\u001b[39m(\u001b[38;5;28mself\u001b[39m, page_num):\n\u001b[32m     21\u001b[39m     \u001b[38;5;66;03m# Vérifie que le numéro de page est valide (1-based pour l'utilisateur)\u001b[39;00m\n\u001b[32m     22\u001b[39m     \u001b[38;5;28;01mif\u001b[39;00m page_num < \u001b[32m1\u001b[39m \u001b[38;5;129;01mor\u001b[39;00m page_num > \u001b[38;5;28mself\u001b[39m.total_pages:\n\u001b[32m---> \u001b[39m\u001b[32m23\u001b[39m         \u001b[38;5;28;01mraise\u001b[39;00m \u001b[38;5;167;01mValueError\u001b[39;00m(\u001b[33m\"\u001b[39m\u001b[33mNuméro de page hors limites\u001b[39m\u001b[33m\"\u001b[39m)\n\u001b[32m     24\u001b[39m     \u001b[38;5;66;03m# Convertit en index 0-based pour usage interne\u001b[39;00m\n\u001b[32m     25\u001b[39m     \u001b[38;5;28mself\u001b[39m.current_idx = page_num - \u001b[32m1\u001b[39m\n",
      "\u001b[31mValueError\u001b[39m: Numéro de page hors limites"
     ]
    }
   ],
   "source": [
    "# Crée une liste de lettres de a à z\n",
    "alphabetList = list(\"abcdefghijklmnopqrstuvwxyz\")\n",
    "\n",
    "# Crée un objet Pagination avec 4 éléments par page\n",
    "p = Pagination(alphabetList, 4)\n",
    "\n",
    "print(p.get_visible_items())  # ['a', 'b', 'c', 'd']\n",
    "\n",
    "p.next_page()\n",
    "print(p.get_visible_items())  # ['e', 'f', 'g', 'h']\n",
    "\n",
    "p.last_page()\n",
    "print(p.get_visible_items())  # ['y', 'z']\n",
    "\n",
    "p.go_to_page(10)\n",
    "print(p.current_idx + 1)  # Affiche 7 (car il n'y a que 7 pages possibles)\n",
    "\n",
    "# Test avec une page invalide\n",
    "try:\n",
    "    p.go_to_page(0)  # Doit lever une erreur\n",
    "except ValueError as e:\n",
    "    print(e)  # \"Numéro de page hors limites\""
   ]
  },
  {
   "cell_type": "markdown",
   "id": "7aeb1596",
   "metadata": {},
   "source": [
    "L'énoncé suggère page 10, mais c'est une erreur : il n'y a que 7 pages.\n",
    "Ce test montre que notre code lève bien une exception si la page demandée est invalide."
   ]
  }
 ],
 "metadata": {
  "kernelspec": {
   "display_name": "Python 3",
   "language": "python",
   "name": "python3"
  },
  "language_info": {
   "codemirror_mode": {
    "name": "ipython",
    "version": 3
   },
   "file_extension": ".py",
   "mimetype": "text/x-python",
   "name": "python",
   "nbconvert_exporter": "python",
   "pygments_lexer": "ipython3",
   "version": "3.13.1"
  }
 },
 "nbformat": 4,
 "nbformat_minor": 5
}
