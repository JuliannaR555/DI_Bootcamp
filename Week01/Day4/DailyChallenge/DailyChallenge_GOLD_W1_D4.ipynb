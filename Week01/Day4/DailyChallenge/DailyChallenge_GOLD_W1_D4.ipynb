{
  "nbformat": 4,
  "nbformat_minor": 0,
  "metadata": {
    "colab": {
      "provenance": []
    },
    "kernelspec": {
      "name": "python3",
      "display_name": "Python 3"
    },
    "language_info": {
      "name": "python"
    }
  },
  "cells": [
    {
      "cell_type": "markdown",
      "source": [
        "# Daily Challenge GOLD: W1_D4"
      ],
      "metadata": {
        "id": "0OjbLhVa3h_Y"
      }
    },
    {
      "cell_type": "markdown",
      "source": [
        "## What You Will Learn\n",
        "- Object-Oriented Programming (OOP)\n",
        "- Inheritance and polymorphism\n",
        "\n",
        "## Instructions\n",
        "This challenge models a simple biological system using classes.\n",
        "\n",
        "### Core Model\n",
        "- **Gene**\n",
        "  - Represents a single bit: `0` or `1`.\n",
        "  - Can **mutate** (flip its value).\n",
        "- **Chromosome**\n",
        "  - A sequence of **10 Genes**.\n",
        "  - **Mutate**: each Gene has a 50% chance to flip independently.\n",
        "- **DNA**\n",
        "  - A sequence of **10 Chromosomes**.\n",
        "  - **Mutate**: propagate mutation to each Chromosome (same rule as above).\n",
        "\n",
        "### Organism\n",
        "- Create a class **Organism** that:\n",
        "  - Accepts a **DNA** object.\n",
        "  - Has an **environment** parameter in `[0, 1]` controlling the probability to mutate its DNA at each generation.\n",
        "\n",
        "### Simulation Task\n",
        "- Instantiate multiple **Organism** objects (a population).\n",
        "- Evolve them over generations:\n",
        "  - At each generation, each organism may mutate according to its environment probability.\n",
        "- **Stop** when one organism reaches a DNA of **only `1`s**.\n",
        "- **Record** the number of generations (iterations) it took.\n",
        "\n",
        "### Notes\n",
        "- Display intermediate states if useful (e.g., sample DNA).\n",
        "- The end result depends on the initial random state and mutation dynamics.\n",
        "- Be creative, but **use classes** and show clear OOP structure.\n",
        "\n",
        "### Bonus Ideas\n",
        "- Add fitness tracking (e.g., count of `1`s) to monitor progress.\n",
        "- Try different population sizes, mutation probabilities, or stopping criteria.\n",
        "- Consider guided mutation or selection strategies (hill-climbing / elitism) to speed up convergence."
      ],
      "metadata": {
        "id": "8MvrDcOr3tMF"
      }
    },
    {
      "cell_type": "markdown",
      "source": [
        "## DNA model — Gene, Chromosome, DNA"
      ],
      "metadata": {
        "id": "pUykN_0B3h41"
      }
    },
    {
      "cell_type": "code",
      "execution_count": 1,
      "metadata": {
        "id": "8uX2p_se3gjT"
      },
      "outputs": [],
      "source": [
        "# We model:\n",
        "# - Gene: single bit {0,1}, can mutate (flip)\n",
        "# - Chromosome: list of 10 Genes, each gene flips with 50% chance when mutating\n",
        "# - DNA: list of 10 Chromosomes, mutates by propagating mutation to each chromosome\n",
        "\n",
        "import random\n",
        "from typing import List\n",
        "\n",
        "class Gene:\n",
        "    def __init__(self, value: int | None = None):\n",
        "        \"\"\"Initialize a gene with value 0 or 1. If None, pick randomly.\"\"\"\n",
        "        if value is None:\n",
        "            value = random.randint(0, 1)\n",
        "        if value not in (0, 1):\n",
        "            raise ValueError(\"Gene must be 0 or 1.\")\n",
        "        self.value = value\n",
        "\n",
        "    def mutate(self) -> None:\n",
        "        \"\"\"Flip the bit (0 -> 1, 1 -> 0).\"\"\"\n",
        "        self.value = 1 - self.value\n",
        "\n",
        "    def __int__(self) -> int:\n",
        "        return self.value\n",
        "\n",
        "    def __repr__(self) -> str:\n",
        "        return str(self.value)\n",
        "\n",
        "\n",
        "class Chromosome:\n",
        "    def __init__(self, genes: List[Gene] | None = None, length: int = 10):\n",
        "        \"\"\"Initialize a chromosome of `length` genes.\"\"\"\n",
        "        self.length = length\n",
        "        self.genes = genes if genes is not None else [Gene() for _ in range(self.length)]\n",
        "\n",
        "    def mutate(self) -> None:\n",
        "        \"\"\"\n",
        "        Mutate the chromosome:\n",
        "        Each gene independently flips with probability 0.5.\n",
        "        \"\"\"\n",
        "        for g in self.genes:\n",
        "            if random.random() < 0.5:\n",
        "                g.mutate()\n",
        "\n",
        "    def is_all_ones(self) -> bool:\n",
        "        \"\"\"Return True if all genes are 1.\"\"\"\n",
        "        return all(int(g) == 1 for g in self.genes)\n",
        "\n",
        "    def __repr__(self) -> str:\n",
        "        return \"\".join(str(int(g)) for g in self.genes)\n",
        "\n",
        "\n",
        "class DNA:\n",
        "    def __init__(self, chromosomes: List[Chromosome] | None = None, size: int = 10, chrom_length: int = 10):\n",
        "        \"\"\"Initialize DNA with `size` chromosomes.\"\"\"\n",
        "        self.size = size\n",
        "        self.chrom_length = chrom_length\n",
        "        self.chromosomes = (\n",
        "            chromosomes\n",
        "            if chromosomes is not None\n",
        "            else [Chromosome(length=self.chrom_length) for _ in range(self.size)]\n",
        "        )\n",
        "\n",
        "    def mutate(self) -> None:\n",
        "        \"\"\"Mutate DNA by mutating each chromosome.\"\"\"\n",
        "        for ch in self.chromosomes:\n",
        "            ch.mutate()\n",
        "\n",
        "    def is_all_ones(self) -> bool:\n",
        "        \"\"\"Return True if every gene in every chromosome is 1.\"\"\"\n",
        "        return all(ch.is_all_ones() for ch in self.chromosomes)\n",
        "\n",
        "    def __repr__(self) -> str:\n",
        "        # Multi-line view for readability\n",
        "        return \"\\n\".join(repr(ch) for ch in self.chromosomes)"
      ]
    },
    {
      "cell_type": "markdown",
      "source": [
        "## Organism class — environment-driven mutation probability"
      ],
      "metadata": {
        "id": "jdqOYJX339M2"
      }
    },
    {
      "cell_type": "code",
      "source": [
        "# Organism holds a DNA and an environment parameter p_mutate in [0,1].\n",
        "# On each generation, the organism mutates its DNA with probability p_mutate.\n",
        "\n",
        "class Organism:\n",
        "    def __init__(self, dna: DNA, environment: float = 0.3, name: str | None = None):\n",
        "        \"\"\"\n",
        "        environment: probability to mutate DNA each generation (0.0 .. 1.0).\n",
        "        \"\"\"\n",
        "        if not (0.0 <= environment <= 1.0):\n",
        "            raise ValueError(\"environment (mutation probability) must be in [0, 1].\")\n",
        "        self.dna = dna\n",
        "        self.environment = environment\n",
        "        self.name = name\n",
        "\n",
        "    def step(self) -> None:\n",
        "        \"\"\"Advance one generation: mutate DNA with probability environment.\"\"\"\n",
        "        if random.random() < self.environment:\n",
        "            self.dna.mutate()\n",
        "\n",
        "    def is_goal(self) -> bool:\n",
        "        \"\"\"Goal = DNA is entirely 1s.\"\"\"\n",
        "        return self.dna.is_all_ones()\n",
        "\n",
        "    def __repr__(self) -> str:\n",
        "        return f\"Organism(name={self.name}, p={self.environment})\""
      ],
      "metadata": {
        "id": "1t6s9qYR3_D4"
      },
      "execution_count": 2,
      "outputs": []
    },
    {
      "cell_type": "markdown",
      "source": [
        "# Simulation — run multiple organisms until one reaches all 1s"
      ],
      "metadata": {
        "id": "5SaDoUOO4ETx"
      }
    },
    {
      "cell_type": "code",
      "source": [
        "# We instantiate a population, then iterate generations until success.\n",
        "\n",
        "def run_simulation(\n",
        "    population_size: int = 20,\n",
        "    env_prob: float = 0.3,\n",
        "    dna_chromosomes: int = 10,\n",
        "    chrom_length: int = 10,\n",
        "    seed: int | None = 42,\n",
        "    max_generations: int = 1_000_000\n",
        "):\n",
        "    \"\"\"\n",
        "    Run the evolutionary process until one organism reaches all 1s, or until max_generations.\n",
        "    Returns (winner_index, generations, population).\n",
        "    \"\"\"\n",
        "    if seed is not None:\n",
        "        random.seed(seed)\n",
        "\n",
        "    # Create initial population with random DNA\n",
        "    population: List[Organism] = []\n",
        "    for i in range(population_size):\n",
        "        dna = DNA(size=dna_chromosomes, chrom_length=chrom_length)\n",
        "        org = Organism(dna=dna, environment=env_prob, name=f\"O{i}\")\n",
        "        population.append(org)\n",
        "\n",
        "    # If any is already solved, short-circuit\n",
        "    for idx, org in enumerate(population):\n",
        "        if org.is_goal():\n",
        "            return idx, 0, population\n",
        "\n",
        "    generations = 0\n",
        "    while generations < max_generations:\n",
        "        generations += 1\n",
        "\n",
        "        # Each organism potentially mutates\n",
        "        for org in population:\n",
        "            org.step()\n",
        "\n",
        "        # Check for success\n",
        "        for idx, org in enumerate(population):\n",
        "            if org.is_goal():\n",
        "                return idx, generations, population\n",
        "\n",
        "    # If we break out, nobody reached goal\n",
        "    return None, generations, population\n",
        "\n",
        "# --- Run a demo simulation ---\n",
        "winner, gens, pop = run_simulation(\n",
        "    population_size=30,\n",
        "    env_prob=0.4,       # increase to mutate more often (faster but noisier)\n",
        "    dna_chromosomes=10,\n",
        "    chrom_length=10,\n",
        "    seed=123,           # set None for true randomness\n",
        "    max_generations=2_000_000\n",
        ")\n",
        "\n",
        "if winner is not None:\n",
        "    print(f\"Winner: {pop[winner].name} in {gens} generations 🎉\")\n",
        "else:\n",
        "    print(f\"No winner within {gens} generations.\")"
      ],
      "metadata": {
        "colab": {
          "base_uri": "https://localhost:8080/"
        },
        "id": "kHG672aA4H-I",
        "outputId": "b0301ad1-47a4-42d4-e7c5-478b48a9ce38"
      },
      "execution_count": 3,
      "outputs": [
        {
          "output_type": "stream",
          "name": "stdout",
          "text": [
            "No winner within 2000000 generations.\n"
          ]
        }
      ]
    },
    {
      "cell_type": "markdown",
      "source": [
        "## Quick demo — tiny genome so it converges fast"
      ],
      "metadata": {
        "id": "Nua3ItI66Bf_"
      }
    },
    {
      "cell_type": "code",
      "source": [
        "# Title: Quick demo — tiny genome so it converges fast\n",
        "winner, gens, pop = run_simulation(\n",
        "    population_size=12,\n",
        "    env_prob=1.0,      # mutate every generation\n",
        "    dna_chromosomes=3, # 3 chromosomes\n",
        "    chrom_length=3,    # 3 genes each -> 9 genes total\n",
        "    seed=123,\n",
        "    max_generations=50_000\n",
        ")\n",
        "print(f\"Winner: {winner} after {gens} generations\")"
      ],
      "metadata": {
        "colab": {
          "base_uri": "https://localhost:8080/"
        },
        "id": "uRN4oFbm6BwW",
        "outputId": "e5a653e6-332f-47e4-cc8d-223848472db8"
      },
      "execution_count": 4,
      "outputs": [
        {
          "output_type": "stream",
          "name": "stdout",
          "text": [
            "Winner: 10 after 17 generations\n"
          ]
        }
      ]
    },
    {
      "cell_type": "code",
      "source": [
        "# --- In class DNA (add these) ---\n",
        "def ones_count(self) -> int:\n",
        "    \"\"\"Total number of 1s across all genes.\"\"\"\n",
        "    return sum(int(g) for ch in self.chromosomes for g in ch.genes)\n",
        "\n",
        "def copy(self) -> \"DNA\":\n",
        "    \"\"\"Deep copy of DNA (duplicate genes by value).\"\"\"\n",
        "    return DNA(\n",
        "        chromosomes=[Chromosome(genes=[Gene(int(g)) for g in ch.genes], length=self.chrom_length)\n",
        "                    for ch in self.chromosomes],\n",
        "        size=self.size,\n",
        "        chrom_length=self.chrom_length\n",
        "    )"
      ],
      "metadata": {
        "id": "ai-SR8hV6ID6"
      },
      "execution_count": 5,
      "outputs": []
    },
    {
      "cell_type": "code",
      "source": [
        "# --- In class Organism (replace step with this) ---\n",
        "def step(self, attempts: int = 3) -> None:\n",
        "    \"\"\"\n",
        "    Hill-climbing: try a few random mutations and keep the best (>= current).\n",
        "    Only attempt with probability = environment.\n",
        "    \"\"\"\n",
        "    import random\n",
        "    if random.random() >= self.environment:\n",
        "        return\n",
        "    best = self.dna\n",
        "    best_score = best.ones_count()\n",
        "    for _ in range(attempts):\n",
        "        trial = best.copy()\n",
        "        trial.mutate()\n",
        "        score = trial.ones_count()\n",
        "        if score >= best_score:\n",
        "            best, best_score = trial, score\n",
        "    self.dna = best"
      ],
      "metadata": {
        "id": "lfGrLy3w6QuX"
      },
      "execution_count": 7,
      "outputs": []
    },
    {
      "cell_type": "code",
      "source": [
        "# Title: Run with guided mutations on 10x10\n",
        "winner, gens, pop = run_simulation(\n",
        "    population_size=20,\n",
        "    env_prob=0.8,          # often mutate\n",
        "    dna_chromosomes=10,\n",
        "    chrom_length=10,\n",
        "    seed=123,\n",
        "    max_generations=200_000\n",
        ")\n",
        "print(f\"Winner: {winner} after {gens} generations\")"
      ],
      "metadata": {
        "colab": {
          "base_uri": "https://localhost:8080/"
        },
        "id": "_IP8y7yE6VT_",
        "outputId": "d5cb5ce4-5c45-4215-c1d4-92dee9cfc7b0"
      },
      "execution_count": 8,
      "outputs": [
        {
          "output_type": "stream",
          "name": "stdout",
          "text": [
            "Winner: None after 200000 generations\n"
          ]
        }
      ]
    },
    {
      "cell_type": "code",
      "source": [
        "winner, gens, pop = None, 0, None\n",
        "for tries in range(5):  # 5 relances si besoin\n",
        "    w, g, p = run_simulation(population_size=20, env_prob=0.8, dna_chromosomes=10, chrom_length=10, seed=None, max_generations=50_000)\n",
        "    print(f\"Run {tries+1}: winner={w}, generations={g}\")\n",
        "    if w is not None:\n",
        "        winner, gens, pop = w, g, p\n",
        "        break"
      ],
      "metadata": {
        "colab": {
          "base_uri": "https://localhost:8080/"
        },
        "id": "p7-gbAxk6fhq",
        "outputId": "f682e275-5a28-4026-a80d-5a1e176ddc19"
      },
      "execution_count": 9,
      "outputs": [
        {
          "output_type": "stream",
          "name": "stdout",
          "text": [
            "Run 1: winner=None, generations=50000\n",
            "Run 2: winner=None, generations=50000\n",
            "Run 3: winner=None, generations=50000\n",
            "Run 4: winner=None, generations=50000\n",
            "Run 5: winner=None, generations=50000\n"
          ]
        }
      ]
    },
    {
      "cell_type": "markdown",
      "source": [
        "## Conclusion\n",
        "\n",
        "In this challenge, I designed a hierarchical OOP model for **Gene → Chromosome → DNA → Organism**, implemented mutation behavior at each level, and ran an evolutionary simulation until an organism reached a DNA of all `1`s.\n",
        "\n",
        "Key takeaways:\n",
        "- **Encapsulation & Inheritance**: clean separation of behavior at each biological level, with reusable mutation logic.\n",
        "- **Stochastic processes**: purely random mutation on a large genome (10x10 genes) is extremely unlikely to hit the all-ones target quickly.\n",
        "- **Engineering trade-offs**: reducing genome size or introducing simple **guided strategies** (e.g., keep mutations that don't decrease the number of `1`s) can make the simulation converge in practical time.\n",
        "\n",
        "This exercise strengthened my OOP design skills and showed how algorithmic choices (random vs. guided mutation) drastically affect performance in evolutionary simulations."
      ],
      "metadata": {
        "id": "Tz625bPl6g21"
      }
    }
  ]
}