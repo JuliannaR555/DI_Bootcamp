{
  "nbformat": 4,
  "nbformat_minor": 0,
  "metadata": {
    "colab": {
      "provenance": []
    },
    "kernelspec": {
      "name": "python3",
      "display_name": "Python 3"
    },
    "language_info": {
      "name": "python"
    }
  },
  "cells": [
    {
      "cell_type": "markdown",
      "source": [
        "# Exercises XP Gold: W1_D4"
      ],
      "metadata": {
        "id": "s8hUvIbvySgm"
      }
    },
    {
      "cell_type": "markdown",
      "source": [
        "## What You'll Learn\n",
        "\n",
        "In this exercise, you will practice **inheritance** in Python.  \n",
        "You will learn how to create base classes, extend them with new functionality, override methods, and combine multiple features through subclassing.  \n",
        "You will also see how to integrate authentication into class methods and optionally build an interactive ATM system.\n",
        "\n",
        "---\n",
        "\n",
        "### Exercise 1: Bank Account\n",
        "\n",
        "#### Part I — Basic BankAccount\n",
        "- Create a class `BankAccount` with:\n",
        "  - Attribute: `balance`\n",
        "  - Method `__init__` to initialize the balance.\n",
        "  - Method `deposit` to accept a positive integer and add it to the balance (raise an exception if not positive).\n",
        "  - Method `withdraw` to accept a positive integer and deduct it from the balance (raise an exception if not positive).\n",
        "\n",
        "#### Part II — MinimumBalanceAccount\n",
        "- Create a subclass `MinimumBalanceAccount` that inherits from `BankAccount`.\n",
        "- Extend `__init__` to accept `minimum_balance` (default 0).\n",
        "- Override `withdraw` to allow withdrawals only if the balance remains above `minimum_balance`.\n",
        "\n",
        "#### Part III — Authentication\n",
        "- Add attributes to `BankAccount`:\n",
        "  - `username`\n",
        "  - `password`\n",
        "  - `authenticated` (default False)\n",
        "- Add a method `authenticate(username, password)` to set `authenticated` to True if credentials match.\n",
        "- Modify `deposit` and `withdraw` to only work if `authenticated` is True.\n",
        "\n",
        "#### Part IV (BONUS) — ATM\n",
        "- Create an `ATM` class that:\n",
        "  - Accepts a list of account objects and a `try_limit` in `__init__`.\n",
        "  - Displays a main menu (`show_main_menu`) to log in or exit.\n",
        "  - Allows login attempts until `try_limit` is reached (`log_in`).\n",
        "  - Once logged in, shows an account menu (`show_account_menu`) to deposit, withdraw, or exit."
      ],
      "metadata": {
        "id": "Aqb7-zpVySeb"
      }
    },
    {
      "cell_type": "markdown",
      "source": [],
      "metadata": {
        "id": "359Wi_9_yScU"
      }
    },
    {
      "cell_type": "markdown",
      "source": [
        "## Part I — BankAccount (balance, deposit, withdraw)"
      ],
      "metadata": {
        "id": "-Moh3Ja_ySVo"
      }
    },
    {
      "cell_type": "code",
      "execution_count": 1,
      "metadata": {
        "id": "PJg8DnzxyI2T"
      },
      "outputs": [],
      "source": [
        "# This class models a basic bank account with a balance and\n",
        "# methods to deposit and withdraw positive amounts.\n",
        "\n",
        "class BankAccount:\n",
        "    def __init__(self, balance: int = 0):\n",
        "        \"\"\"Initialize the account with a starting balance (integer).\"\"\"\n",
        "        if not isinstance(balance, int):\n",
        "            raise TypeError(\"Balance must be an integer.\")\n",
        "        if balance < 0:\n",
        "            raise ValueError(\"Balance cannot be negative.\")\n",
        "        self.balance = balance\n",
        "\n",
        "    def deposit(self, amount: int) -> None:\n",
        "        \"\"\"Deposit a positive integer amount into the account.\"\"\"\n",
        "        if not isinstance(amount, int):\n",
        "            raise TypeError(\"Deposit amount must be an integer.\")\n",
        "        if amount <= 0:\n",
        "            raise ValueError(\"Deposit amount must be positive.\")\n",
        "        self.balance += amount\n",
        "\n",
        "    def withdraw(self, amount: int) -> None:\n",
        "        \"\"\"Withdraw a positive integer amount from the account.\"\"\"\n",
        "        if not isinstance(amount, int):\n",
        "            raise TypeError(\"Withdrawal amount must be an integer.\")\n",
        "        if amount <= 0:\n",
        "            raise ValueError(\"Withdrawal amount must be positive.\")\n",
        "        if amount > self.balance:\n",
        "            raise ValueError(\"Insufficient funds.\")\n",
        "        self.balance -= amount"
      ]
    },
    {
      "cell_type": "markdown",
      "source": [
        "## Part II — MinimumBalanceAccount (inheritance + override withdraw)"
      ],
      "metadata": {
        "id": "JWXzBwu4yohn"
      }
    },
    {
      "cell_type": "code",
      "source": [
        "# This account enforces a minimum balance that must remain after withdrawal.\n",
        "\n",
        "class MinimumBalanceAccount(BankAccount):\n",
        "    def __init__(self, balance: int = 0, minimum_balance: int = 0):\n",
        "        \"\"\"Initialize with a starting balance and a minimum required balance.\"\"\"\n",
        "        super().__init__(balance=balance)\n",
        "        if not isinstance(minimum_balance, int):\n",
        "            raise TypeError(\"minimum_balance must be an integer.\")\n",
        "        if minimum_balance < 0:\n",
        "            raise ValueError(\"minimum_balance cannot be negative.\")\n",
        "        self.minimum_balance = minimum_balance\n",
        "\n",
        "    def withdraw(self, amount: int) -> None:\n",
        "        \"\"\"Allow withdraw only if balance - amount >= minimum_balance.\"\"\"\n",
        "        if not isinstance(amount, int):\n",
        "            raise TypeError(\"Withdrawal amount must be an integer.\")\n",
        "        if amount <= 0:\n",
        "            raise ValueError(\"Withdrawal amount must be positive.\")\n",
        "        if self.balance - amount < self.minimum_balance:\n",
        "            raise ValueError(\"Withdrawal would violate the minimum balance.\")\n",
        "        self.balance -= amount"
      ],
      "metadata": {
        "id": "ceyFLsBcyp0w"
      },
      "execution_count": 2,
      "outputs": []
    },
    {
      "cell_type": "markdown",
      "source": [
        "## Part III — Add authentication to BankAccount"
      ],
      "metadata": {
        "id": "y4gLU6fPywOi"
      }
    },
    {
      "cell_type": "code",
      "source": [
        "# We extend BankAccount to support username/password and an authenticated flag.\n",
        "# For simplicity, we implement this as a mix-in style subclass.\n",
        "\n",
        "class AuthenticatedBankAccount(BankAccount):\n",
        "    def __init__(self, username: str, password: str, balance: int = 0):\n",
        "        \"\"\"Initialize with credentials and starting balance; authenticated defaults to False.\"\"\"\n",
        "        super().__init__(balance=balance)\n",
        "        if not isinstance(username, str) or not isinstance(password, str):\n",
        "            raise TypeError(\"username and password must be strings.\")\n",
        "        if not username or not password:\n",
        "            raise ValueError(\"username and password cannot be empty.\")\n",
        "        self.username = username\n",
        "        self.password = password\n",
        "        self.authenticated = False\n",
        "\n",
        "    def authenticate(self, username: str, password: str) -> bool:\n",
        "        \"\"\"Set authenticated=True if credentials match; return True/False.\"\"\"\n",
        "        if username == self.username and password == self.password:\n",
        "            self.authenticated = True\n",
        "            return True\n",
        "        self.authenticated = False\n",
        "        return False\n",
        "\n",
        "    # Override deposit/withdraw to require authentication first\n",
        "    def deposit(self, amount: int) -> None:\n",
        "        \"\"\"Deposit only if authenticated; otherwise raise an Exception.\"\"\"\n",
        "        if not self.authenticated:\n",
        "            raise PermissionError(\"Not authenticated.\")\n",
        "        super().deposit(amount)\n",
        "\n",
        "    def withdraw(self, amount: int) -> None:\n",
        "        \"\"\"Withdraw only if authenticated; otherwise raise an Exception.\"\"\"\n",
        "        if not self.authenticated:\n",
        "            raise PermissionError(\"Not authenticated.\")\n",
        "        super().withdraw(amount)\n",
        "\n",
        "\n",
        "class AuthenticatedMinimumBalanceAccount(AuthenticatedBankAccount, MinimumBalanceAccount):\n",
        "    \"\"\"\n",
        "    Multiple inheritance:\n",
        "    - Authenticated behavior (credentials + checks before actions)\n",
        "    - Minimum balance rules for withdraw\n",
        "    MRO ensures MinimumBalanceAccount.withdraw logic applies when authenticated.\n",
        "    \"\"\"\n",
        "    def __init__(self, username: str, password: str, balance: int = 0, minimum_balance: int = 0):\n",
        "        # Initialize both sides properly via explicit calls then fix MRO state:\n",
        "        MinimumBalanceAccount.__init__(self, balance=balance, minimum_balance=minimum_balance)\n",
        "        # After setting balance/minimum_balance, initialize auth part\n",
        "        AuthenticatedBankAccount.__init__(self, username=username, password=password, balance=self.balance)\n",
        "\n",
        "    # Ensure deposit/withdraw still require auth; withdraw uses MinimumBalanceAccount's rule.\n",
        "    def withdraw(self, amount: int) -> None:\n",
        "        if not self.authenticated:\n",
        "            raise PermissionError(\"Not authenticated.\")\n",
        "        MinimumBalanceAccount.withdraw(self, amount)"
      ],
      "metadata": {
        "id": "mzlwqwCqyyn1"
      },
      "execution_count": 3,
      "outputs": []
    },
    {
      "cell_type": "markdown",
      "source": [
        "## Quick tests for Parts I-III"
      ],
      "metadata": {
        "id": "-8sbpxnqy4q_"
      }
    },
    {
      "cell_type": "code",
      "source": [
        "# Part I\n",
        "acc = BankAccount(100)\n",
        "acc.deposit(50)\n",
        "acc.withdraw(30)\n",
        "print(\"Part I balance:\", acc.balance)  # 120\n",
        "\n",
        "# Part II\n",
        "mba = MinimumBalanceAccount(balance=200, minimum_balance=50)\n",
        "mba.withdraw(100)\n",
        "print(\"Part II balance:\", mba.balance)  # 100\n",
        "# mba.withdraw(60)  # Uncomment to see error (would drop below min balance)\n",
        "\n",
        "# Part III\n",
        "aacc = AuthenticatedBankAccount(username=\"alice\", password=\"pw123\", balance=100)\n",
        "try:\n",
        "    aacc.deposit(10)  # should raise (not authenticated)\n",
        "except PermissionError as e:\n",
        "    print(\"Expected:\", e)\n",
        "\n",
        "ok = aacc.authenticate(\"alice\", \"pw123\")\n",
        "print(\"Auth success:\", ok)\n",
        "aacc.deposit(10)\n",
        "aacc.withdraw(20)\n",
        "print(\"Part III balance:\", aacc.balance)  # 90\n",
        "\n",
        "# Part III + Min Balance\n",
        "am = AuthenticatedMinimumBalanceAccount(username=\"bob\", password=\"pw\", balance=300, minimum_balance=100)\n",
        "print(\"Auth before:\", am.authenticated)\n",
        "am.authenticate(\"bob\", \"pw\")\n",
        "print(\"Auth after:\", am.authenticated)\n",
        "am.withdraw(150)  # leaves 150 >= 100\n",
        "print(\"Part III+II balance:\", am.balance)  # 150"
      ],
      "metadata": {
        "colab": {
          "base_uri": "https://localhost:8080/"
        },
        "id": "QZ_AJsmwy9R0",
        "outputId": "b9fbd249-2485-4a14-de16-3ecbc0ffe4df"
      },
      "execution_count": 4,
      "outputs": [
        {
          "output_type": "stream",
          "name": "stdout",
          "text": [
            "Part I balance: 120\n",
            "Part II balance: 100\n",
            "Expected: Not authenticated.\n",
            "Auth success: True\n",
            "Part III balance: 90\n",
            "Auth before: False\n",
            "Auth after: True\n",
            "Part III+II balance: 150\n"
          ]
        }
      ]
    },
    {
      "cell_type": "markdown",
      "source": [
        "## Part IV (Bonus) — ATM class with login and account menu"
      ],
      "metadata": {
        "id": "zeZw7h92zCOI"
      }
    },
    {
      "cell_type": "code",
      "source": [
        "from typing import List, Union\n",
        "\n",
        "AccountType = Union[AuthenticatedBankAccount, AuthenticatedMinimumBalanceAccount]\n",
        "\n",
        "class ATM:\n",
        "    def __init__(self, account_list: List[AccountType], try_limit: int = 2):\n",
        "        \"\"\"Validate inputs, set state, then show the main menu.\"\"\"\n",
        "        # Validate account_list contains proper instances\n",
        "        if not isinstance(account_list, list) or not all(\n",
        "            isinstance(a, (AuthenticatedBankAccount, AuthenticatedMinimumBalanceAccount)) for a in account_list\n",
        "        ):\n",
        "            raise TypeError(\"account_list must be a list of authenticated account instances.\")\n",
        "\n",
        "        self.accounts = account_list\n",
        "\n",
        "        # Validate try_limit: if invalid, raise then fallback to 2\n",
        "        try:\n",
        "            if not isinstance(try_limit, int) or try_limit <= 0:\n",
        "                raise ValueError(\"try_limit must be a positive integer.\")\n",
        "            self.try_limit = try_limit\n",
        "        except Exception as e:\n",
        "            print(f\"Invalid try_limit ({e}). Fallback to 2.\")\n",
        "            self.try_limit = 2\n",
        "\n",
        "        self.current_tries = 0\n",
        "        self.show_main_menu()\n",
        "\n",
        "    def show_main_menu(self):\n",
        "        \"\"\"Display main menu in a loop: Log in or Exit.\"\"\"\n",
        "        while True:\n",
        "            print(\"\\n=== ATM Main Menu ===\")\n",
        "            print(\"1) Log in\")\n",
        "            print(\"2) Exit\")\n",
        "            choice = input(\"Select an option (1/2): \").strip()\n",
        "            if choice == \"1\":\n",
        "                username = input(\"Username: \").strip()\n",
        "                password = input(\"Password: \").strip()\n",
        "                self.log_in(username, password)\n",
        "            elif choice == \"2\":\n",
        "                print(\"Goodbye!\")\n",
        "                break\n",
        "            else:\n",
        "                print(\"Invalid selection. Try again.\")\n",
        "\n",
        "    def log_in(self, username: str, password: str):\n",
        "        \"\"\"\n",
        "        Try to authenticate against all accounts. If match, show account menu.\n",
        "        Otherwise, increment tries until reaching try_limit; then exit.\n",
        "        \"\"\"\n",
        "        # Try each account\n",
        "        for account in self.accounts:\n",
        "            if account.authenticate(username, password):\n",
        "                print(f\"Login successful. Welcome, {username}.\")\n",
        "                self.current_tries = 0  # reset tries\n",
        "                return self.show_account_menu(account)\n",
        "\n",
        "        # If we reach here, no match\n",
        "        self.current_tries += 1\n",
        "        print(f\"Login failed. Attempt {self.current_tries}/{self.try_limit}.\")\n",
        "        if self.current_tries >= self.try_limit:\n",
        "            print(\"Max tries reached. Shutting down.\")\n",
        "            raise SystemExit\n",
        "\n",
        "    def show_account_menu(self, account: AccountType):\n",
        "        \"\"\"Loop to let the user deposit, withdraw, or exit for the logged-in account.\"\"\"\n",
        "        while True:\n",
        "            print(\"\\n--- Account Menu ---\")\n",
        "            print(f\"Current balance: {account.balance}\")\n",
        "            print(\"1) Deposit\")\n",
        "            print(\"2) Withdraw\")\n",
        "            print(\"3) Exit to main menu\")\n",
        "            choice = input(\"Select an option (1/2/3): \").strip()\n",
        "\n",
        "            if choice == \"1\":\n",
        "                try:\n",
        "                    amt = int(input(\"Amount to deposit (int): \").strip())\n",
        "                    account.deposit(amt)\n",
        "                    print(\"Deposit successful.\")\n",
        "                except Exception as e:\n",
        "                    print(\"Error:\", e)\n",
        "\n",
        "            elif choice == \"2\":\n",
        "                try:\n",
        "                    amt = int(input(\"Amount to withdraw (int): \").strip())\n",
        "                    account.withdraw(amt)\n",
        "                    print(\"Withdrawal successful.\")\n",
        "                except Exception as e:\n",
        "                    print(\"Error:\", e)\n",
        "\n",
        "            elif choice == \"3\":\n",
        "                print(\"Returning to main menu.\")\n",
        "                break\n",
        "            else:\n",
        "                print(\"Invalid selection. Try again.\")"
      ],
      "metadata": {
        "id": "VYYjocMxzFkF"
      },
      "execution_count": 5,
      "outputs": []
    },
    {
      "cell_type": "code",
      "source": [
        "# Create test accounts\n",
        "acc1 = AuthenticatedBankAccount(username=\"alice\", password=\"pw123\", balance=500)\n",
        "acc2 = AuthenticatedMinimumBalanceAccount(username=\"bob\", password=\"pw\", balance=300, minimum_balance=100)\n",
        "\n",
        "# Start the ATM with these accounts and a try limit of 2\n",
        "# atm = ATM([acc1, acc2], try_limit=2)"
      ],
      "metadata": {
        "id": "km3aEDnJzXL0"
      },
      "execution_count": 8,
      "outputs": []
    },
    {
      "cell_type": "markdown",
      "source": [
        "## Conclusion\n",
        "\n",
        "In this exercise, I practiced:\n",
        "\n",
        "- Creating a **base class** with attributes and methods.\n",
        "- Using **inheritance** to create specialized subclasses.\n",
        "- **Overriding methods** to modify or extend functionality in subclasses.\n",
        "- Adding **authentication** to control access to sensitive operations like deposit and withdraw.\n",
        "- Using **multiple inheritance** to combine different behaviors (minimum balance + authentication).\n",
        "- (Bonus) Designing an interactive **ATM** system to integrate these features in a practical application.\n",
        "\n",
        "This project helped me understand how inheritance can simplify code by reusing and extending base functionality, and how to combine multiple class features into a single cohesive object."
      ],
      "metadata": {
        "id": "ODeXrAUd0FLP"
      }
    }
  ]
}