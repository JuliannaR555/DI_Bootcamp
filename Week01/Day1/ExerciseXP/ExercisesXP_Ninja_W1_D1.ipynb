{
  "nbformat": 4,
  "nbformat_minor": 0,
  "metadata": {
    "colab": {
      "provenance": []
    },
    "kernelspec": {
      "name": "python3",
      "display_name": "Python 3"
    },
    "language_info": {
      "name": "python"
    }
  },
  "cells": [
    {
      "cell_type": "markdown",
      "source": [
        "# Exercises XP Ninja: W1_D1"
      ],
      "metadata": {
        "id": "Zib2vuYnS1Hi"
      }
    },
    {
      "cell_type": "markdown",
      "source": [
        "## What You'll Learn\n",
        "\n",
        "- Understanding and analyzing the outcomes of different Python expressions and built-in functions.\n",
        "- Enhancing your ability to predict the behavior of boolean expressions and value comparisons in Python.\n",
        "- Developing skills in string manipulation and text analysis.\n",
        "- Learning how to engage with user input to create dynamic, interactive Python scripts.\n",
        "- Applying concepts of text processing to perform detailed textual analysis and statistics.\n",
        "\n",
        "## What You Will Create\n",
        "\n",
        "- A program to predict and understand complex Python outputs involving boolean and comparison operators.\n",
        "- An interactive script that challenges users to create the longest sentences without using a specific character and provides real-time feedback.\n",
        "- A detailed textual analysis tool that computes various metrics about a given paragraph, such as word count, sentence count, unique word count, and more, providing insights into basic natural language processing.\n",
        "\n",
        "## Exercise 1: Outputs\n",
        "\n",
        "Predict the output of the following code snippets:\n",
        "3 <= 3 < 9\n",
        "3 == 3 == 3\n",
        "bool(0)\n",
        "bool(5 == \"5\")\n",
        "bool(4 == 4) == bool(\"4\" == \"4\")\n",
        "bool(bool(None))\n",
        "\n",
        "x = (1 == True)\n",
        "y = (1 == False)\n",
        "a = True + 4\n",
        "b = False + 10\n",
        "\n",
        "print(\"x is\", x)\n",
        "print(\"y is\", y)\n",
        "print(\"a:\", a)\n",
        "print(\"b:\", b)\n",
        "\n",
        "## Exercise 2: Longest word without a specific character\n",
        "\n",
        "- Keep asking the user to input the longest sentence they can without the character “A”.\n",
        "- Each time a user successfully sets a new longest sentence, print a congratulations message.\n",
        "\n",
        "## Exercise 3: Working on a paragraph\n",
        "\n",
        "- Find an interesting paragraph of text online.\n",
        "- Paste it to your code, and store it in a variable.\n",
        "- Analyze the paragraph. Print out a nicely formatted message saying:\n",
        "  - How many characters it contains.\n",
        "  - How many sentences it contains.\n",
        "  - How many words it contains.\n",
        "  - How many unique words it contains.\n",
        "\n",
        "**Bonus**:\n",
        "- How many non-whitespace characters it contains.\n",
        "- The average amount of words per sentence in the paragraph.\n",
        "- The amount of non-unique words in the paragraph."
      ],
      "metadata": {
        "id": "3Bx_MbbcS1AW"
      }
    },
    {
      "cell_type": "markdown",
      "source": [
        "## Exercise 1 — Outputs (prévision + vérification)"
      ],
      "metadata": {
        "id": "nBz5Py5vS-qw"
      }
    },
    {
      "cell_type": "code",
      "execution_count": 1,
      "metadata": {
        "colab": {
          "base_uri": "https://localhost:8080/"
        },
        "id": "g_GYMX1hS0g5",
        "outputId": "5eaab827-4e35-44bf-8c16-47f4185111c9"
      },
      "outputs": [
        {
          "output_type": "stream",
          "name": "stdout",
          "text": [
            "3 <= 3 < 9  => True\n",
            "3 == 3 == 3 => True\n",
            "bool(0)     => False\n",
            "bool(5 == '5') => False\n",
            "bool(4 == 4) == bool('4' == '4') => True\n",
            "bool(bool(None)) => False\n",
            "x is True\n",
            "y is False\n",
            "a: 5\n",
            "b: 10\n"
          ]
        }
      ],
      "source": [
        "# Title: Predictions and Checks for Boolean/Comparison Outputs\n",
        "# This cell prints both the predicted result (as comments) and the actual result computed by Python.\n",
        "\n",
        "# 1) 3 <= 3 < 9\n",
        "# Prediction: True (chained comparisons: 3 <= 3 AND 3 < 9)\n",
        "print(\"3 <= 3 < 9  =>\", 3 <= 3 < 9)\n",
        "\n",
        "# 2) 3 == 3 == 3\n",
        "# Prediction: True (all equal in a chain)\n",
        "print(\"3 == 3 == 3 =>\", 3 == 3 == 3)\n",
        "\n",
        "# 3) bool(0)\n",
        "# Prediction: False (0 is falsy)\n",
        "print(\"bool(0)     =>\", bool(0))\n",
        "\n",
        "# 4) bool(5 == '5')\n",
        "# Prediction: False (int 5 != str '5', so comparison is False; bool(False) -> False)\n",
        "print(\"bool(5 == '5') =>\", bool(5 == \"5\"))\n",
        "\n",
        "# 5) bool(4 == 4) == bool('4' == '4')\n",
        "# Prediction: True (both sides are True -> True == True)\n",
        "print(\"bool(4 == 4) == bool('4' == '4') =>\", bool(4 == 4) == bool(\"4\" == \"4\"))\n",
        "\n",
        "# 6) bool(bool(None))\n",
        "# Prediction: False (bool(None) -> False; bool(False) -> False)\n",
        "print(\"bool(bool(None)) =>\", bool(bool(None)))\n",
        "\n",
        "# Variables and arithmetic with booleans\n",
        "# In Python, True behaves like 1 and False like 0 in arithmetic.\n",
        "x = (1 == True)    # Prediction: True  (1 == 1)\n",
        "y = (1 == False)   # Prediction: False (1 == 0)\n",
        "a = True + 4       # Prediction: 5     (1 + 4)\n",
        "b = False + 10     # Prediction: 10    (0 + 10)\n",
        "\n",
        "print(\"x is\", x)\n",
        "print(\"y is\", y)\n",
        "print(\"a:\", a)\n",
        "print(\"b:\", b)"
      ]
    },
    {
      "cell_type": "markdown",
      "source": [
        "## Exercise 2 — Longest sentence without the letter “A”"
      ],
      "metadata": {
        "id": "HdioKMoOTJEC"
      }
    },
    {
      "cell_type": "code",
      "source": [
        "# Title: Longest Sentence Without the Letter 'A'\n",
        "# This script repeatedly asks the user for a sentence that contains no 'A' or 'a'.\n",
        "# It tracks the longest valid sentence and congratulates the user when they set a new record.\n",
        "# Press Enter on an empty line to stop.\n",
        "\n",
        "# Initialize the best (longest) sentence length\n",
        "best_length = 0  # holds the length of the longest valid sentence\n",
        "best_sentence = \"\"  # holds the longest valid sentence itself\n",
        "\n",
        "while True:\n",
        "    # Ask for user input\n",
        "    user_input = input(\"Enter the longest sentence you can WITHOUT the letter 'A' (Enter to stop): \").strip()\n",
        "\n",
        "    # If the input is empty, break the loop\n",
        "    if user_input == \"\":\n",
        "        print(\"Stopping. Thanks for playing!\")\n",
        "        break\n",
        "\n",
        "    # Check if the sentence contains 'a' or 'A'\n",
        "    if 'a' in user_input.lower():\n",
        "        # If it contains 'a'/'A', inform the user and continue\n",
        "        print(\"Oops! Your sentence contains the letter 'A'. Try again.\")\n",
        "        continue\n",
        "\n",
        "    # If valid (no 'A'), check the length\n",
        "    current_length = len(user_input)  # compute length of the sentence\n",
        "    if current_length > best_length:\n",
        "        # Update the record and congratulate\n",
        "        best_length = current_length\n",
        "        best_sentence = user_input\n",
        "        print(f\"🎉 New record! Length = {best_length}\")\n",
        "    else:\n",
        "        # Encourage the user to try again\n",
        "        print(f\"Good try! Current record is {best_length}. Keep going!\")"
      ],
      "metadata": {
        "colab": {
          "base_uri": "https://localhost:8080/"
        },
        "id": "j54StfffTKV-",
        "outputId": "22f5b127-3d24-48d4-d173-39939986eaf4"
      },
      "execution_count": 2,
      "outputs": [
        {
          "output_type": "stream",
          "name": "stdout",
          "text": [
            "Enter the longest sentence you can WITHOUT the letter 'A' (Enter to stop): This summer I will study Python every single evening\n",
            "🎉 New record! Length = 52\n",
            "Enter the longest sentence you can WITHOUT the letter 'A' (Enter to stop): Python is cool\n",
            "Good try! Current record is 52. Keep going!\n",
            "Enter the longest sentence you can WITHOUT the letter 'A' (Enter to stop): stop\n",
            "Good try! Current record is 52. Keep going!\n",
            "Enter the longest sentence you can WITHOUT the letter 'A' (Enter to stop): \n",
            "Stopping. Thanks for playing!\n"
          ]
        }
      ]
    },
    {
      "cell_type": "markdown",
      "source": [
        "## Exercise 3 — Paragraph analysis (text stats)"
      ],
      "metadata": {
        "id": "WQ_z9kQUUXsV"
      }
    },
    {
      "cell_type": "code",
      "source": [
        "# Title: Paragraph Analysis - Characters, Sentences, Words, Unique Words\n",
        "# This cell computes several statistics on a paragraph:\n",
        "# - total characters\n",
        "# - total non-whitespace characters\n",
        "# - sentence count\n",
        "# - word count\n",
        "# - unique word count (case-insensitive)\n",
        "# - non-unique words (repeated words count)\n",
        "# - average words per sentence\n",
        "#\n",
        "# We use regular expressions to split sentences and extract words.\n",
        "# The word extraction is Unicode-aware to include accented characters.\n",
        "\n",
        "import re\n",
        "\n",
        "# ---- Replace the paragraph below with your own text if you wish ----\n",
        "paragraph = (\n",
        "    \"Learning to think clearly is a powerful skill. \"\n",
        "    \"When we analyze text, we uncover structure and meaning. \"\n",
        "    \"By practicing, our intuition improves!\"\n",
        ")\n",
        "\n",
        "# 1) Total characters (including whitespace)\n",
        "# Simply take the length of the raw string\n",
        "total_chars = len(paragraph)\n",
        "\n",
        "# 2) Total non-whitespace characters\n",
        "# Remove all whitespace with regex \\s and count the length\n",
        "non_ws_chars = len(re.sub(r\"\\s+\", \"\", paragraph))\n",
        "\n",
        "# 3) Sentence splitting\n",
        "# We split on punctuation that ends sentences (. ! ?), followed by one or more spaces.\n",
        "# Using a regex with a positive lookbehind ensures punctuation stays with the previous sentence.\n",
        "sentences = re.split(r\"(?<=[.!?])\\s+\", paragraph.strip())\n",
        "# Remove possible empty strings after split\n",
        "sentences = [s for s in sentences if s]\n",
        "\n",
        "# 4) Word extraction\n",
        "# Use a Unicode-aware regex: sequences of letters/numbers/underscore or apostrophes as a simple word model.\n",
        "# You can refine the regex if you need more precise tokenization.\n",
        "words = re.findall(r\"\\b[\\w']+\\b\", paragraph, flags=re.UNICODE)\n",
        "\n",
        "# 5) Normalize words for uniqueness (casefold is stronger than lower for Unicode)\n",
        "normalized_words = [w.casefold() for w in words]\n",
        "\n",
        "# 6) Unique words\n",
        "unique_words = set(normalized_words)\n",
        "unique_count = len(unique_words)\n",
        "\n",
        "# 7) Non-unique words (i.e., total minus number of unique items)\n",
        "non_unique_count = len(normalized_words) - unique_count\n",
        "\n",
        "# 8) Average words per sentence (guard divide-by-zero)\n",
        "sentence_count = len(sentences)\n",
        "word_count = len(words)\n",
        "avg_words_per_sentence = (word_count / sentence_count) if sentence_count > 0 else 0.0\n",
        "\n",
        "# 9) Pretty printing of results\n",
        "print(\"=== Paragraph Analysis ===\")\n",
        "print(f\"Total characters:               {total_chars}\")\n",
        "print(f\"Non-whitespace characters:      {non_ws_chars}\")\n",
        "print(f\"Number of sentences:            {sentence_count}\")\n",
        "print(f\"Number of words:                {word_count}\")\n",
        "print(f\"Number of unique words:         {unique_count}\")\n",
        "print(f\"Number of non-unique words:     {non_unique_count}\")\n",
        "print(f\"Average words per sentence:     {avg_words_per_sentence:.2f}\")\n",
        "\n",
        "# 10) (Optional) Show sentences and a few unique words for inspection\n",
        "print(\"\\nSentences detected:\")\n",
        "for i, s in enumerate(sentences, start=1):\n",
        "    print(f\"{i}. {s}\")\n",
        "\n",
        "print(\"\\nSample unique words (first 20):\")\n",
        "print(sorted(list(unique_words))[:20])"
      ],
      "metadata": {
        "colab": {
          "base_uri": "https://localhost:8080/"
        },
        "id": "9-rpD3ysUZSh",
        "outputId": "5f076403-577e-4028-fcc9-89d0dfc44a60"
      },
      "execution_count": 3,
      "outputs": [
        {
          "output_type": "stream",
          "name": "stdout",
          "text": [
            "=== Paragraph Analysis ===\n",
            "Total characters:               141\n",
            "Non-whitespace characters:      120\n",
            "Number of sentences:            3\n",
            "Number of words:                22\n",
            "Number of unique words:         21\n",
            "Number of non-unique words:     1\n",
            "Average words per sentence:     7.33\n",
            "\n",
            "Sentences detected:\n",
            "1. Learning to think clearly is a powerful skill.\n",
            "2. When we analyze text, we uncover structure and meaning.\n",
            "3. By practicing, our intuition improves!\n",
            "\n",
            "Sample unique words (first 20):\n",
            "['a', 'analyze', 'and', 'by', 'clearly', 'improves', 'intuition', 'is', 'learning', 'meaning', 'our', 'powerful', 'practicing', 'skill', 'structure', 'text', 'think', 'to', 'uncover', 'we']\n"
          ]
        }
      ]
    },
    {
      "cell_type": "markdown",
      "source": [
        "## Conclusions\n",
        "\n",
        "- **Exercise 1**: Learned how Python evaluates chained comparisons, boolean logic, and the way booleans behave like integers (`True` = 1, `False` = 0) in arithmetic.\n",
        "- **Exercise 2**: Practiced creating an interactive loop that validates user input and tracks the \"best\" result, updating only when a new record is set.\n",
        "- **Exercise 3**: Applied string manipulation and regular expressions to perform basic text analysis, including counts of characters, sentences, words, unique words, and averages.  \n",
        "  This demonstrated how simple Python tools can be used for basic Natural Language Processing (NLP) tasks.\n"
      ],
      "metadata": {
        "id": "2kyK1cMoU1fp"
      }
    }
  ]
}