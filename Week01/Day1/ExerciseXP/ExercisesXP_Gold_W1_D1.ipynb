{
  "nbformat": 4,
  "nbformat_minor": 0,
  "metadata": {
    "colab": {
      "provenance": []
    },
    "kernelspec": {
      "name": "python3",
      "display_name": "Python 3"
    },
    "language_info": {
      "name": "python"
    }
  },
  "cells": [
    {
      "cell_type": "markdown",
      "source": [
        "# Exercises XP Gold: W1_D1"
      ],
      "metadata": {
        "id": "uzKrmZyIs20t"
      }
    },
    {
      "cell_type": "markdown",
      "source": [
        "## What You'll Learn\n",
        "- How to utilize control flow with conditions and loops in Python.  \n",
        "- Implementing and manipulating loops (`for` and `while`) for various uses.  \n",
        "- Gaining proficiency in handling user inputs and providing appropriate outputs.  \n",
        "- Using Python’s `random` module to create interactive and randomized outcomes.  \n",
        "- Developing logic for basic decision-making through programming.\n",
        "\n",
        "## What You Will Create\n",
        "- A program that determines the season based on user input.  \n",
        "- Scripts that utilize `for` loops for specific numerical outputs.  \n",
        "- A `while` loop that interacts dynamically with user input.  \n",
        "- A search mechanism within a list to find and report indices of specific items.  \n",
        "- A comparison tool to determine the greatest of three numbers input by the user.  \n",
        "- An interactive game that uses random numbers to compare user guesses and provides ongoing feedback with an option to exit and review scores."
      ],
      "metadata": {
        "id": "4febQmn6vlpd"
      }
    },
    {
      "cell_type": "markdown",
      "source": [
        "# Exercises XP Gold — Python Loops & Conditions\n",
        "\n",
        "## Table of Contents\n",
        "\n",
        "1. [Exercise 1 — Season Detector](#exercise-1--season-detector)  \n",
        "2. [Exercise 2 — For Loop Practice](#exercise-2--for-loop-practice)  \n",
        "3. [Exercise 3 — While Loop with Name Check](#exercise-3--while-loop-with-name-check)  \n",
        "4. [Exercise 4 — Check the Index](#exercise-4--check-the-index)  \n",
        "5. [Exercise 5 — Greatest Number (with Input Validation)](#exercise-5--greatest-number-with-input-validation)  \n",
        "6. [Exercise 6 — Random Number Guessing Game](#exercise-6--random-number-guessing-game)\n",
        "\n",
        "---\n",
        "\n",
        "**Main Skills:** Control Flow, Loops, Conditionals, User Input, Random Numbers, Data Validation."
      ],
      "metadata": {
        "id": "im3EAFP2s2wT"
      }
    },
    {
      "cell_type": "markdown",
      "source": [
        "### Exercise 1 — What is the Season?\n",
        "- Ask the user to input a month (1 to 12).  \n",
        "- Display the season of the month:  \n",
        "  - **Spring:** March (3) to May (5)  \n",
        "  - **Summer:** June (6) to August (8)  \n",
        "  - **Autumn:** September (9) to November (11)  \n",
        "  - **Winter:** December (12) to February (2)  \n",
        "\n",
        "---\n",
        "\n",
        "### Exercise 2 — For Loop\n",
        "**Key Python Topics:** Loops (`for`), range, indexing  \n",
        "- Print all numbers from 1 to 20 (inclusive).  \n",
        "- Print every number from 1 to 20 where the **index** is even.  \n",
        "\n",
        "---\n",
        "\n",
        "### Exercise 3 — While Loop\n",
        "**Key Python Topics:** Loops (`while`), conditionals  \n",
        "- Keep asking the user to enter their name.  \n",
        "- Stop the loop if the user’s input is your name.  \n",
        "\n",
        "---\n",
        "\n",
        "### Exercise 4 — Check the Index\n",
        "Using:\n",
        "```python\n",
        "names = ['Samus', 'Cortana', 'V', 'Link', 'Mario', 'Cortana', 'Samus']\n",
        "Ask the user for their name.\n",
        "\n",
        "If the name is in the list, print the index of the first occurrence.\n",
        "\n",
        "---\n",
        "\n",
        "### Exercise 5 — Greatest Number\n",
        "Ask the user for 3 numbers.  \n",
        "\n",
        "Print the greatest number.  \n",
        "\n",
        "**Test Data:**  \n",
        "Input the 1st number: 25  \n",
        "Input the 2nd number: 78  \n",
        "Input the 3rd number: 87  \n",
        "**Output:** The greatest number is: 87  \n",
        "\n",
        "---\n",
        "\n",
        "### Exercise 6 — Random Number\n",
        "Ask the user to input a number from 1 to 9.  \n",
        "\n",
        "Generate a random number between 1 and 9.  \n",
        "\n",
        "If the guess is correct: print `\"Winner\"`.  \n",
        "\n",
        "Otherwise: print `\"Better luck next time.\"`  \n",
        "\n",
        "**Bonus:**  \n",
        "- Use a loop to allow the user to keep guessing until they quit.  \n",
        "- On exit, display total games won and lost.  "
      ],
      "metadata": {
        "id": "rL-w1H4FvfNw"
      }
    },
    {
      "cell_type": "markdown",
      "source": [
        "## Exercise 1 — Season Detector\n",
        "\n",
        "**Goal:** Read a month number (1-12) from the user and print the season.\n",
        "- Spring: March (3) to May (5)\n",
        "- Summer: June (6) to August (8)\n",
        "- Autumn: September (9) to November (11)\n",
        "- Winter: December (12) to February (2)\n"
      ],
      "metadata": {
        "id": "zFDQn9MttL7x"
      }
    },
    {
      "cell_type": "code",
      "source": [
        "# Exercise 1 — Season Detector\n",
        "# Read a month number (1–12) and print the corresponding season.\n",
        "\n",
        "def month_to_season(month: int) -> str:\n",
        "    \"\"\"\n",
        "    Map a month number to a season according to the exercise rules.\n",
        "    3-5  -> Spring\n",
        "    6-8  -> Summer\n",
        "    9-11 -> Autumn\n",
        "    12,1,2 -> Winter\n",
        "    \"\"\"\n",
        "    # Use membership checks for clarity and correctness\n",
        "    if month in (3, 4, 5):\n",
        "        return \"Spring\"\n",
        "    elif month in (6, 7, 8):\n",
        "        return \"Summer\"\n",
        "    elif month in (9, 10, 11):\n",
        "        return \"Autumn\"\n",
        "    else:\n",
        "        return \"Winter\"\n",
        "\n",
        "# --- User input and basic validation ---\n",
        "raw = input(\"Enter a month number (1-12): \").strip()  # Read input as string and trim spaces\n",
        "\n",
        "try:\n",
        "    month_num = int(raw)  # Try to convert to integer\n",
        "    # Check valid range 1..12\n",
        "    if 1 <= month_num <= 12:\n",
        "        season = month_to_season(month_num)  # Compute the season\n",
        "        print(f\"Season: {season}\")  # Display the result\n",
        "    else:\n",
        "        # Input is an integer but not in the expected range\n",
        "        print(\"Out of range. Please enter a number from 1 to 12.\")\n",
        "except ValueError:\n",
        "    # Conversion to int failed (e.g., letters or symbols)\n",
        "    print(\"Invalid input. Please enter digits only (1 to 12).\")"
      ],
      "metadata": {
        "colab": {
          "base_uri": "https://localhost:8080/"
        },
        "id": "thWl_1batR02",
        "outputId": "5452b035-5907-4cbf-d7d3-3ccf42aa4a0e"
      },
      "execution_count": 2,
      "outputs": [
        {
          "output_type": "stream",
          "name": "stdout",
          "text": [
            "Enter a month number (1-12): 6\n",
            "Season: Summer\n"
          ]
        }
      ]
    },
    {
      "cell_type": "markdown",
      "source": [
        "## Exercise 2 — For Loop Practice"
      ],
      "metadata": {
        "id": "t8GB8oDftmK3"
      }
    },
    {
      "cell_type": "markdown",
      "source": [
        "**Goal:**  \n",
        "1. Print all numbers from 1 to 20 (inclusive).  \n",
        "2. Print only the numbers from 1 to 20 whose index is even."
      ],
      "metadata": {
        "id": "oWVMRuhqtmu2"
      }
    },
    {
      "cell_type": "code",
      "execution_count": 3,
      "metadata": {
        "colab": {
          "base_uri": "https://localhost:8080/"
        },
        "id": "UoS9VVWrs1Lb",
        "outputId": "c897aa99-8b06-4f65-8cc9-33e4f67385ff"
      },
      "outputs": [
        {
          "output_type": "stream",
          "name": "stdout",
          "text": [
            "All numbers from 1 to 20:\n",
            "1\n",
            "2\n",
            "3\n",
            "4\n",
            "5\n",
            "6\n",
            "7\n",
            "8\n",
            "9\n",
            "10\n",
            "11\n",
            "12\n",
            "13\n",
            "14\n",
            "15\n",
            "16\n",
            "17\n",
            "18\n",
            "19\n",
            "20\n",
            "\n",
            "Numbers from 1 to 20 with even index:\n",
            "1\n",
            "3\n",
            "5\n",
            "7\n",
            "9\n",
            "11\n",
            "13\n",
            "15\n",
            "17\n",
            "19\n"
          ]
        }
      ],
      "source": [
        "# Exercise 2 — For Loop Practice\n",
        "\n",
        "# 1️ Print all numbers from 1 to 20\n",
        "print(\"All numbers from 1 to 20:\")\n",
        "for num in range(1, 21):  # range end is exclusive, so we use 21\n",
        "    print(num)\n",
        "\n",
        "print(\"\\nNumbers from 1 to 20 with even index:\")\n",
        "\n",
        "# 2 Print numbers where the index is even\n",
        "# Here \"index\" means the position in the sequence (starting from 0)\n",
        "for index, num in enumerate(range(1, 21)):\n",
        "    # Check if index is even\n",
        "    if index % 2 == 0:\n",
        "        print(num)"
      ]
    },
    {
      "cell_type": "markdown",
      "source": [
        "## Exercise 3: While Loop"
      ],
      "metadata": {
        "id": "tJTnUXA1t2LI"
      }
    },
    {
      "cell_type": "markdown",
      "source": [
        "**Goal:**  \n",
        "Keep asking the user to enter their name until they enter your name (case-insensitive).  \n",
        "Add a safeguard to prevent infinite loops if the user keeps entering wrong values."
      ],
      "metadata": {
        "id": "F8fyFeJYt3tw"
      }
    },
    {
      "cell_type": "code",
      "source": [
        "# Exercise 3 — While Loop with Name Check\n",
        "\n",
        "# Define your name here (replace with your own)\n",
        "my_name = \"Julianna\"\n",
        "\n",
        "# Counter to limit attempts and avoid infinite loops in Colab\n",
        "max_attempts = 10\n",
        "attempts = 0\n",
        "\n",
        "while True:\n",
        "    user_input = input(\"Enter your name: \").strip()  # Read and clean input\n",
        "    attempts += 1  # Increment attempt counter\n",
        "\n",
        "    # Compare names in lowercase for case-insensitive check\n",
        "    if user_input.lower() == my_name.lower():\n",
        "        print(\"Correct! Loop stopped.\")\n",
        "        break  # Exit the loop if names match\n",
        "\n",
        "    print(\"That's not my name, try again.\")\n",
        "\n",
        "    # Safety check to avoid infinite loops\n",
        "    if attempts >= max_attempts:\n",
        "        print(\"Too many attempts. Loop stopped for safety.\")\n",
        "        break"
      ],
      "metadata": {
        "colab": {
          "base_uri": "https://localhost:8080/"
        },
        "id": "3Lc5JUnut8J7",
        "outputId": "c2d0facc-93dc-4608-de56-6c05d245e742"
      },
      "execution_count": 4,
      "outputs": [
        {
          "output_type": "stream",
          "name": "stdout",
          "text": [
            "Enter your name: Julianna\n",
            "Correct! Loop stopped.\n"
          ]
        }
      ]
    },
    {
      "cell_type": "markdown",
      "source": [
        "## Exercise 4 — Check the Index\n",
        "\n",
        "**Goal:**  \n",
        "Ask the user for their name.  \n",
        "If the name is in the `names` list, print the index of the **first occurrence** of the name.\n"
      ],
      "metadata": {
        "id": "0Q6cPZDhuDXX"
      }
    },
    {
      "cell_type": "code",
      "source": [
        "# Exercise 4 — Check the Index\n",
        "\n",
        "# Given list of names\n",
        "names = ['Samus', 'Cortana', 'V', 'Link', 'Mario', 'Cortana', 'Samus']\n",
        "\n",
        "# Ask the user for a name\n",
        "user_name = input(\"Enter a name: \").strip()\n",
        "\n",
        "# Check if the name exists in the list\n",
        "if user_name in names:\n",
        "    # Find index of the first occurrence\n",
        "    first_index = names.index(user_name)\n",
        "    print(f\"The first occurrence of '{user_name}' is at index {first_index}.\")\n",
        "else:\n",
        "    print(f\"'{user_name}' was not found in the list.\")"
      ],
      "metadata": {
        "colab": {
          "base_uri": "https://localhost:8080/"
        },
        "id": "cUeAffAVuMx9",
        "outputId": "deffa7f0-9dd2-4adb-f7a4-7635a59bc3fb"
      },
      "execution_count": 5,
      "outputs": [
        {
          "output_type": "stream",
          "name": "stdout",
          "text": [
            "Enter a name: Julianna\n",
            "'Julianna' was not found in the list.\n"
          ]
        }
      ]
    },
    {
      "cell_type": "markdown",
      "source": [
        "## Exercise 5 — Greatest Number (with Input Validation)\n",
        "\n",
        "**Goal:**  \n",
        "Ask the user for 3 numbers and print the greatest one.  \n",
        "Includes input validation to handle mistakes (non-numeric text, commas instead of dots, extra spaces).\n",
        "\n",
        "**Test Data Example:**  \n",
        "- 1st: 25  \n",
        "- 2nd: 78  \n",
        "- 3rd: 87  \n",
        "**Output:** `The greatest number is: 87`"
      ],
      "metadata": {
        "id": "hj86L8h6ubRk"
      }
    },
    {
      "cell_type": "code",
      "source": [
        "# Exercise 5 — Greatest Number (with Input Validation)\n",
        "\n",
        "def get_number(prompt: str) -> float:\n",
        "    \"\"\"\n",
        "    Repeatedly ask the user for a numeric input.\n",
        "    - Trims spaces\n",
        "    - Accepts ',' as decimal separator by converting it to '.'\n",
        "    - Keeps asking until a valid number is provided\n",
        "    \"\"\"\n",
        "    while True:\n",
        "        raw = input(prompt).strip()              # Read raw input and trim spaces\n",
        "        raw = raw.replace(\",\", \".\")              # Support European decimal comma\n",
        "        try:\n",
        "            value = float(raw)                   # Try to parse as float\n",
        "            return value                         # Return the numeric value\n",
        "        except ValueError:\n",
        "            print(\"Invalid input. Please enter a valid number (e.g., 12 or 12.5).\")\n",
        "\n",
        "# --- Read three numbers with validation ---\n",
        "a = get_number(\"Input the 1st number: \")\n",
        "b = get_number(\"Input the 2nd number: \")\n",
        "c = get_number(\"Input the 3rd number: \")\n",
        "\n",
        "# --- Determine the greatest number ---\n",
        "# Option A (Pythonic): use built-in max\n",
        "greatest_builtin = max(a, b, c)\n",
        "\n",
        "# Option B (Manual comparison): shows the decision logic step-by-step\n",
        "greatest_manual = a                                # Start by assuming 'a' is greatest\n",
        "if b > greatest_manual:                            # Compare 'b' to current greatest\n",
        "    greatest_manual = b\n",
        "if c > greatest_manual:                            # Compare 'c' to current greatest\n",
        "    greatest_manual = c\n",
        "\n",
        "# Sanity check: both methods should agree\n",
        "assert abs(greatest_builtin - greatest_manual) < 1e-12, \"Mismatch in greatest value logic.\"\n",
        "\n",
        "# --- Print result in a clean format ---\n",
        "# Use integer-like formatting when the number is whole; otherwise show as float\n",
        "def pretty(n: float) -> str:\n",
        "    \"\"\"Format number without trailing .0 when it's an integer value.\"\"\"\n",
        "    return str(int(n)) if n.is_integer() else str(n)\n",
        "\n",
        "print(f\"The greatest number is: {pretty(greatest_manual)}\")12"
      ],
      "metadata": {
        "colab": {
          "base_uri": "https://localhost:8080/"
        },
        "id": "tftJxGfNumGi",
        "outputId": "e60661ec-5e22-49f5-a830-f466ce5fae79"
      },
      "execution_count": 6,
      "outputs": [
        {
          "output_type": "stream",
          "name": "stdout",
          "text": [
            "Input the 1st number: 5\n",
            "Input the 2nd number: 6\n",
            "Input the 3rd number: 78\n",
            "The greatest number is: 78\n"
          ]
        }
      ]
    },
    {
      "cell_type": "markdown",
      "source": [
        "## Exercise 6 — Random Number Guessing Game\n",
        "\n",
        "**Goal:**  \n",
        "- Ask the user to input a number from 1 to 9 (inclusive).  \n",
        "- Generate a random number between 1 and 9.  \n",
        "- If the user guesses correctly, print “Winner”; otherwise print “Better luck next time.”\n",
        "\n",
        "**Bonus:**  \n",
        "- Keep playing in a loop until the user chooses to quit.  \n",
        "- On exit, display the total games won and lost."
      ],
      "metadata": {
        "id": "sUknS4TSuyQ_"
      }
    },
    {
      "cell_type": "code",
      "source": [
        "# Exercise 6 — Random Number Guessing Game\n",
        "# Play multiple rounds until the user quits, and tally wins/losses.\n",
        "\n",
        "import random\n",
        "\n",
        "def read_guess(prompt: str) -> int | None:\n",
        "    \"\"\"\n",
        "    Read a user guess from input.\n",
        "    - Returns an integer in [1..9] when valid.\n",
        "    - Returns None if the user chooses to quit ('q' or 'quit').\n",
        "    - Keeps asking until a valid value or quit command is provided.\n",
        "    \"\"\"\n",
        "    while True:\n",
        "        raw = input(prompt).strip().lower()          # Read, trim, and normalize case\n",
        "        if raw in (\"q\", \"quit\", \"exit\"):             # Allow user to exit the game\n",
        "            return None\n",
        "        raw = raw.replace(\",\", \".\")                  # Normalize comma decimal if typed\n",
        "        # Validate that input is a digit and within the range 1..9\n",
        "        if raw.isdigit():\n",
        "            guess = int(raw)\n",
        "            if 1 <= guess <= 9:\n",
        "                return guess\n",
        "        print(\"Invalid input. Enter a number from 1 to 9, or 'q' to quit.\")\n",
        "\n",
        "# --- Scoreboard variables ---\n",
        "wins = 0\n",
        "losses = 0\n",
        "rounds = 0\n",
        "\n",
        "print(\"Random Number Guessing Game (1–9). Type 'q' to quit at any time.\")\n",
        "\n",
        "while True:\n",
        "    # Read a validated guess or exit signal\n",
        "    guess = read_guess(\"Enter your guess (1-9) or 'q' to quit: \")\n",
        "    if guess is None:\n",
        "        break  # User chose to quit\n",
        "\n",
        "    # Generate a random number in [1..9]\n",
        "    secret = random.randint(1, 9)\n",
        "\n",
        "    # Compare guess to the secret number\n",
        "    if guess == secret:\n",
        "        print(\"Winner 🎉\")\n",
        "        wins += 1\n",
        "    else:\n",
        "        print(f\"Better luck next time. The number was {secret}.\")\n",
        "        losses += 1\n",
        "\n",
        "    rounds += 1  # Count only completed rounds\n",
        "\n",
        "# --- Final scoreboard on exit ---\n",
        "if rounds == 0:\n",
        "    print(\"No games played. Goodbye!\")\n",
        "else:\n",
        "    print(\"\\nGame Over — Final Score\")\n",
        "    print(f\"Rounds played: {rounds}\")\n",
        "    print(f\"Wins:  {wins}\")\n",
        "    print(f\"Losses:{losses}\")"
      ],
      "metadata": {
        "colab": {
          "base_uri": "https://localhost:8080/"
        },
        "id": "HVtwhBtIu4zd",
        "outputId": "77cd3f7f-c693-4169-a9ba-93588720316e"
      },
      "execution_count": 7,
      "outputs": [
        {
          "output_type": "stream",
          "name": "stdout",
          "text": [
            "Random Number Guessing Game (1–9). Type 'q' to quit at any time.\n",
            "Enter your guess (1-9) or 'q' to quit: 5\n",
            "Better luck next time. The number was 7.\n",
            "Enter your guess (1-9) or 'q' to quit: 9\n",
            "Better luck next time. The number was 3.\n",
            "Enter your guess (1-9) or 'q' to quit: 1\n",
            "Better luck next time. The number was 2.\n",
            "Enter your guess (1-9) or 'q' to quit: 4\n",
            "Winner 🎉\n",
            "Enter your guess (1-9) or 'q' to quit: q\n",
            "\n",
            "Game Over — Final Score\n",
            "Rounds played: 4\n",
            "Wins:  1\n",
            "Losses:3\n"
          ]
        }
      ]
    }
  ]
}