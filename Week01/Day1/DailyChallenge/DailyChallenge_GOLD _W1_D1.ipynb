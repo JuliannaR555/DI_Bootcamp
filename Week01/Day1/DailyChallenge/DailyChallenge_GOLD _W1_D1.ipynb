{
  "nbformat": 4,
  "nbformat_minor": 0,
  "metadata": {
    "colab": {
      "provenance": []
    },
    "kernelspec": {
      "name": "python3",
      "display_name": "Python 3"
    },
    "language_info": {
      "name": "python"
    }
  },
  "cells": [
    {
      "cell_type": "markdown",
      "source": [
        "# Daily Challenge GOLD : W1_D1"
      ],
      "metadata": {
        "id": "sDqjDnbvyg9V"
      }
    },
    {
      "cell_type": "markdown",
      "source": [
        "## Happy Birthday\n",
        "\n",
        "**What You Will Learn:**  \n",
        "- Python Basics  \n",
        "- Conditionals  \n",
        "\n",
        "**Instructions:**  \n",
        "1. Ask the user for their birthdate (format: DD/MM/YYYY).  \n",
        "2. Display a little cake as shown below:  "
      ],
      "metadata": {
        "id": "SDWkIAuqyg51"
      }
    },
    {
      "cell_type": "code",
      "source": [
        "from datetime import datetime\n",
        "\n",
        "# 1. Read birthdate and calculate age\n",
        "b = datetime.strptime(input(\"Enter birthdate (DD/MM/YYYY): \"), \"%d/%m/%Y\")\n",
        "t = datetime.today()\n",
        "age = t.year - b.year - ((t.month, t.day) < (b.month, b.day))\n",
        "\n",
        "# 2. Prepare cake with last digit of age as candles\n",
        "candles = \"i\" * (age % 10)\n",
        "cake = [f\"   ___{candles}___\",\"  |:H:a:p:p:y:|\",\"__|___________|__\",\n",
        "        \"|^^^^^^^^^^^^^^^^^|\",\"|:B:i:r:t:h:d:a:y:|\",\"|                 |\",\"~~~~~~~~~~~~~~~~~~~\"]\n",
        "\n",
        "# 3. Check leap year and print cakes\n",
        "leap = (b.year % 4 == 0 and b.year % 100 != 0) or (b.year % 400 == 0)\n",
        "for _ in range(2 if leap else 1):\n",
        "    print(\"\\n\".join(cake))\n",
        "\n",
        "print(f\"\\nYou are {age} years old. Last digit: {age % 10}\")\n"
      ],
      "metadata": {
        "colab": {
          "base_uri": "https://localhost:8080/"
        },
        "id": "MX-qtF33zR-E",
        "outputId": "a58e898a-28c4-404e-946b-06a85bfa088b"
      },
      "execution_count": 3,
      "outputs": [
        {
          "output_type": "stream",
          "name": "stdout",
          "text": [
            "Enter birthdate (DD/MM/YYYY): 29/02/2000\n",
            "   ___iiiii___\n",
            "  |:H:a:p:p:y:|\n",
            "__|___________|__\n",
            "|^^^^^^^^^^^^^^^^^|\n",
            "|:B:i:r:t:h:d:a:y:|\n",
            "|                 |\n",
            "~~~~~~~~~~~~~~~~~~~\n",
            "   ___iiiii___\n",
            "  |:H:a:p:p:y:|\n",
            "__|___________|__\n",
            "|^^^^^^^^^^^^^^^^^|\n",
            "|:B:i:r:t:h:d:a:y:|\n",
            "|                 |\n",
            "~~~~~~~~~~~~~~~~~~~\n",
            "\n",
            "You are 25 years old. Last digit: 5\n"
          ]
        }
      ]
    }
  ]
}