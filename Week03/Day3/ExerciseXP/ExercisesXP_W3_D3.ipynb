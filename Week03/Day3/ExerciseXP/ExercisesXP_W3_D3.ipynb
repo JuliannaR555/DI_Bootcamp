{
 "cells": [
  {
   "cell_type": "markdown",
   "id": "4e97be14",
   "metadata": {},
   "source": [
    "# Exercises XP: W3_D3"
   ]
  },
  {
   "cell_type": "markdown",
   "id": "b54e1ccb",
   "metadata": {},
   "source": [
    "## What You’ll Learn\n",
    "- How to apply various statistical functions using **SciPy**  \n",
    "- Understanding **probability distributions** and **hypothesis testing**  \n",
    "- Analyzing data with **regression**, **ANOVA**, and **correlation** methods\n",
    "\n",
    "## What You’ll Create\n",
    "A set of Python notebooks/scripts that:\n",
    "- Explore data and compute **descriptive statistics**\n",
    "- Perform **t-tests** and interpret **p-values**\n",
    "- Fit and interpret a **linear regression**\n",
    "- Run **one-way ANOVA** and reason about group differences\n",
    "- (Optional) Work with **binomial probabilities**\n",
    "- (Optional) Compute **Pearson** and **Spearman** correlations\n",
    "\n",
    "## Exercises\n",
    "**Exercise 1 — Basic Usage of SciPy**  \n",
    "Import SciPy and display its version.\n",
    "\n",
    "**Exercise 2 — Descriptive Statistics**  \n",
    "Given `data = [12, 15, 13, 12, 18, 20, 22, 21]`, compute: mean, median, variance, standard deviation.\n",
    "\n",
    "**Exercise 3 — Understanding Distributions**  \n",
    "Generate a normal distribution with mean = 50 and std = 10. Plot the PDF and compare with a random sample.\n",
    "\n",
    "**Exercise 4 — T-Test Application**  \n",
    "Generate two normal samples (e.g., around 50 and 60) and run an independent two-sample t-test. Interpret the p-value.\n",
    "\n",
    "**Exercise 5 — Linear Regression Analysis**  \n",
    "Use `house_sizes = [50, 70, 80, 100, 120]` and  \n",
    "`house_prices = [150000, 200000, 210000, 250000, 280000]`.  \n",
    "Fit a linear regression, report **slope** and **intercept**, predict the price at **90 m²**, and interpret the slope.\n",
    "\n",
    "**Exercise 6 — Understanding ANOVA**  \n",
    "With three fertilizer groups:\n",
    "- `fertilizer_1 = [5, 6, 7, 6, 5]`\n",
    "- `fertilizer_2 = [7, 8, 7, 9, 8]`\n",
    "- `fertilizer_3 = [4, 5, 4, 3, 4]`  \n",
    "Run one-way ANOVA. Report **F** and **p**; decide if means differ significantly.\n",
    "\n",
    "**Exercise 7 (Optional) — Probability Distributions**  \n",
    "Compute the probability of exactly 5 heads in 10 fair coin flips using a binomial model.\n",
    "\n",
    "**Exercise 8 (Optional) — Correlation Coefficients**  \n",
    "Given `age` and `income`, compute **Pearson** and **Spearman** correlations and compare their meaning.\n",
    "\n",
    "> **Note:** When randomness is involved, set a seed for reproducibility (e.g., `np.random.seed(42)`)."
   ]
  },
  {
   "cell_type": "markdown",
   "id": "f6f7b32d",
   "metadata": {},
   "source": [
    "### Setup & Utilities"
   ]
  },
  {
   "cell_type": "code",
   "execution_count": 1,
   "id": "663c5e85",
   "metadata": {},
   "outputs": [],
   "source": [
    "# Title: Setup and Common Imports\n",
    "# Description: Import core libraries used across all exercises.\n",
    "\n",
    "import numpy as np\n",
    "import pandas as pd\n",
    "import matplotlib.pyplot as plt\n",
    "from scipy import stats\n",
    "from scipy.stats import norm, ttest_ind, linregress, f_oneway, binom, pearsonr, spearmanr\n",
    "\n",
    "# For reproducibility of random results\n",
    "np.random.seed(42)\n",
    "\n",
    "# Pretty printing helper\n",
    "def print_separator(title: str):\n",
    "    print(\"\\n\" + \"=\"*20, title, \"=\"*20)"
   ]
  },
  {
   "cell_type": "markdown",
   "id": "7ae4e701",
   "metadata": {},
   "source": [
    "## Exercise 1: Basic Usage of SciPy"
   ]
  },
  {
   "cell_type": "code",
   "execution_count": 2,
   "id": "957782b2",
   "metadata": {},
   "outputs": [
    {
     "name": "stdout",
     "output_type": "stream",
     "text": [
      "\n",
      "==================== SciPy Version ====================\n",
      "SciPy version: 1.13.1\n"
     ]
    }
   ],
   "source": [
    "# Title: Exercise 1 — Basic Usage of SciPy\n",
    "# Task: Import SciPy (already done) and display its version.\n",
    "\n",
    "import scipy\n",
    "print_separator(\"SciPy Version\")\n",
    "print(\"SciPy version:\", scipy.__version__)"
   ]
  },
  {
   "cell_type": "markdown",
   "id": "5b8c0f6d",
   "metadata": {},
   "source": [
    "## Exercise 2: Descriptive Statistics"
   ]
  },
  {
   "cell_type": "code",
   "execution_count": 3,
   "id": "ec0e50e8",
   "metadata": {},
   "outputs": [
    {
     "name": "stdout",
     "output_type": "stream",
     "text": [
      "\n",
      "==================== Descriptive Statistics ====================\n",
      "Data: [12, 15, 13, 12, 18, 20, 22, 21]\n",
      "Mean: 16.625\n",
      "Median: 16.500\n",
      "Variance (population): 14.984\n",
      "Standard Deviation (population): 3.871\n"
     ]
    }
   ],
   "source": [
    "# Title: Exercise 2 — Descriptive Statistics with SciPy\n",
    "# Task: Compute mean, median, variance, and standard deviation of the sample data.\n",
    "\n",
    "data = [12, 15, 13, 12, 18, 20, 22, 21]\n",
    "data_arr = np.array(data)\n",
    "\n",
    "print_separator(\"Descriptive Statistics\")\n",
    "print(\"Data:\", data_arr.tolist())\n",
    "\n",
    "# Mean and median can be computed with NumPy (fast and standard)\n",
    "mean_val = np.mean(data_arr)\n",
    "median_val = np.median(data_arr)\n",
    "\n",
    "# Variance and std: by default NumPy uses population formulas (ddof=0).\n",
    "# SciPy uses similar math; we can also show SciPy-based results for completeness.\n",
    "var_val = np.var(data_arr, ddof=0)  # population variance\n",
    "std_val = np.std(data_arr, ddof=0)  # population standard deviation\n",
    "\n",
    "print(f\"Mean: {mean_val:.3f}\")\n",
    "print(f\"Median: {median_val:.3f}\")\n",
    "print(f\"Variance (population): {var_val:.3f}\")\n",
    "print(f\"Standard Deviation (population): {std_val:.3f}\")"
   ]
  },
  {
   "cell_type": "markdown",
   "id": "32664499",
   "metadata": {},
   "source": [
    "## Exercise 3: Understanding Distributions"
   ]
  },
  {
   "cell_type": "code",
   "execution_count": 4,
   "id": "621eb7ab",
   "metadata": {},
   "outputs": [
    {
     "name": "stdout",
     "output_type": "stream",
     "text": [
      "\n",
      "==================== Normal Distribution Basics ====================\n",
      "Target mean (mu): 50\n",
      "Target std (sigma): 10\n",
      "Sample mean: 50.19, Sample std: 9.79\n"
     ]
    },
    {
     "data": {
      "image/png": "[encoded data removed]",
      "text/plain": [
       "<Figure size 640x480 with 1 Axes>"
      ]
     },
     "metadata": {},
     "output_type": "display_data"
    }
   ],
   "source": [
    "# Title: Exercise 3 — Generate and Plot a Normal Distribution\n",
    "# Task: Generate a normal distribution with mean=50 and std=10, then plot its PDF and a sample histogram.\n",
    "\n",
    "mu, sigma = 50, 10\n",
    "x = np.linspace(mu - 4*sigma, mu + 4*sigma, 400)\n",
    "\n",
    "# Normal PDF using SciPy\n",
    "pdf = norm.pdf(x, loc=mu, scale=sigma)\n",
    "\n",
    "# Sample random data from the same normal distribution\n",
    "samples = norm.rvs(loc=mu, scale=sigma, size=1000, random_state=42)\n",
    "\n",
    "print_separator(\"Normal Distribution Basics\")\n",
    "print(f\"Target mean (mu): {mu}\")\n",
    "print(f\"Target std (sigma): {sigma}\")\n",
    "print(f\"Sample mean: {np.mean(samples):.2f}, Sample std: {np.std(samples, ddof=1):.2f}\")\n",
    "\n",
    "# Plot: histogram of samples + PDF curve (separate plots recommended in some setups;\n",
    "# here we show one figure with both for convenience)\n",
    "plt.figure()\n",
    "plt.hist(samples, bins=30, density=True, alpha=0.6, label=\"Sample Histogram\")\n",
    "plt.plot(x, pdf, linewidth=2, label=\"Normal PDF (μ=50, σ=10)\")\n",
    "plt.title(\"Normal Distribution: PDF and Sample Histogram\")\n",
    "plt.xlabel(\"Value\")\n",
    "plt.ylabel(\"Density\")\n",
    "plt.legend()\n",
    "plt.show()"
   ]
  },
  {
   "cell_type": "markdown",
   "id": "12ec67bd",
   "metadata": {},
   "source": [
    "## Exercise 4: T-Test Application"
   ]
  },
  {
   "cell_type": "code",
   "execution_count": 5,
   "id": "6e4b8dcb",
   "metadata": {},
   "outputs": [
    {
     "name": "stdout",
     "output_type": "stream",
     "text": [
      "\n",
      "==================== Independent Two-Sample T-Test ====================\n",
      "T-statistic: -8.5515\n",
      "P-value: 0.000000\n",
      "Result: Reject H0 — The means are significantly different at α = 0.05.\n"
     ]
    }
   ],
   "source": [
    "# Title: Exercise 4 — Independent Two-Sample T-Test\n",
    "# Task: Perform a t-test on two randomly generated datasets.\n",
    "\n",
    "# Generate two groups with different means\n",
    "data1 = np.random.normal(50, 10, 100)\n",
    "data2 = np.random.normal(60, 10, 100)\n",
    "\n",
    "# Independent two-sample t-test (assumes equal variances by default if 'equal_var=True')\n",
    "t_stat, p_val = ttest_ind(data1, data2, equal_var=True)\n",
    "\n",
    "print_separator(\"Independent Two-Sample T-Test\")\n",
    "print(f\"T-statistic: {t_stat:.4f}\")\n",
    "print(f\"P-value: {p_val:.6f}\")\n",
    "\n",
    "# Basic interpretation at alpha=0.05\n",
    "alpha = 0.05\n",
    "if p_val < alpha:\n",
    "    print(\"Result: Reject H0 — The means are significantly different at α = 0.05.\")\n",
    "else:\n",
    "    print(\"Result: Fail to reject H0 — No significant difference at α = 0.05.\")"
   ]
  },
  {
   "cell_type": "markdown",
   "id": "5431d2d0",
   "metadata": {},
   "source": [
    "## Exercise 5: Linear Regression Analysis"
   ]
  },
  {
   "cell_type": "code",
   "execution_count": 6,
   "id": "5a4af1e3",
   "metadata": {},
   "outputs": [
    {
     "name": "stdout",
     "output_type": "stream",
     "text": [
      "\n",
      "==================== Linear Regression Results ====================\n",
      "Slope: 1828.77\n",
      "Intercept: 64383.56\n",
      "R (correlation): 0.9942\n",
      "P-value: 5.305350e-04\n",
      "Std. Error of slope: 114.2693\n",
      "Predicted price for 90 m^2: 228,973\n",
      "\n",
      "Interpretation (English):\n",
      "- The slope indicates the average change in price per additional square meter.\n",
      "- Here, a positive slope means larger houses tend to cost more.\n",
      "- The intercept represents the model's estimated price when size is zero (not meaningful in practice, but part of the linear model).\n"
     ]
    },
    {
     "data": {
      "image/png": "[encoded data removed]",
      "text/plain": [
       "<Figure size 640x480 with 1 Axes>"
      ]
     },
     "metadata": {},
     "output_type": "display_data"
    }
   ],
   "source": [
    "# Title: Exercise 5 — Linear Regression for Housing Prices\n",
    "# Task: Regress house_prices on house_sizes; compute slope/intercept; predict price at size=90.\n",
    "\n",
    "house_sizes = np.array([50, 70, 80, 100, 120], dtype=float)  # square meters\n",
    "house_prices = np.array([150_000, 200_000, 210_000, 250_000, 280_000], dtype=float)\n",
    "\n",
    "# Fit linear regression using SciPy\n",
    "res = linregress(house_sizes, house_prices)\n",
    "\n",
    "slope = res.slope\n",
    "intercept = res.intercept\n",
    "r = res.rvalue\n",
    "p = res.pvalue\n",
    "stderr = res.stderr\n",
    "\n",
    "# Predict price for 90 m^2\n",
    "size_to_predict = 90.0\n",
    "predicted_price = slope * size_to_predict + intercept\n",
    "\n",
    "print_separator(\"Linear Regression Results\")\n",
    "print(f\"Slope: {slope:.2f}\")\n",
    "print(f\"Intercept: {intercept:.2f}\")\n",
    "print(f\"R (correlation): {r:.4f}\")\n",
    "print(f\"P-value: {p:.6e}\")\n",
    "print(f\"Std. Error of slope: {stderr:.4f}\")\n",
    "print(f\"Predicted price for {size_to_predict:.0f} m^2: {predicted_price:,.0f}\")\n",
    "\n",
    "# Interpretation (printed as guidance)\n",
    "print(\"\\nInterpretation (English):\")\n",
    "print(\"- The slope indicates the average change in price per additional square meter.\")\n",
    "print(\"- Here, a positive slope means larger houses tend to cost more.\")\n",
    "print(\"- The intercept represents the model's estimated price when size is zero (not meaningful in practice, but part of the linear model).\")\n",
    "\n",
    "# Optional: quick visualization\n",
    "plt.figure()\n",
    "plt.scatter(house_sizes, house_prices, label=\"Observed Data\")\n",
    "x_line = np.linspace(min(house_sizes), max(house_sizes), 100)\n",
    "y_line = slope * x_line + intercept\n",
    "plt.plot(x_line, y_line, label=\"Regression Line\")\n",
    "plt.scatter([size_to_predict], [predicted_price], marker=\"x\", s=100, label=f\"Prediction at {size_to_predict:.0f} m²\")\n",
    "plt.title(\"Linear Regression: House Price vs. Size\")\n",
    "plt.xlabel(\"Size (m²)\")\n",
    "plt.ylabel(\"Price\")\n",
    "plt.legend()\n",
    "plt.show()"
   ]
  },
  {
   "cell_type": "markdown",
   "id": "6e9218d5",
   "metadata": {},
   "source": [
    "## Exercise 6: Understanding ANOVA"
   ]
  },
  {
   "cell_type": "code",
   "execution_count": 7,
   "id": "b875f8f0",
   "metadata": {},
   "outputs": [
    {
     "name": "stdout",
     "output_type": "stream",
     "text": [
      "\n",
      "==================== One-Way ANOVA ====================\n",
      "F-value: 28.5263\n",
      "P-value: 0.000028\n",
      "Result: Reject H0 — At least one fertilizer has a different mean effect on growth.\n",
      "\n",
      "Explanation if P-value > 0.05 (English):\n",
      "- If P > 0.05, we do not have enough evidence to say the mean growth differs across groups.\n",
      "- Practically, this means observed differences could be due to random variation rather than a true effect.\n"
     ]
    }
   ],
   "source": [
    "# Title: Exercise 6 — One-Way ANOVA for Fertilizer Effect\n",
    "# Task: Test if mean growth differs across three fertilizers.\n",
    "\n",
    "fertilizer_1 = np.array([5, 6, 7, 6, 5], dtype=float)\n",
    "fertilizer_2 = np.array([7, 8, 7, 9, 8], dtype=float)\n",
    "fertilizer_3 = np.array([4, 5, 4, 3, 4], dtype=float)\n",
    "\n",
    "F_stat, P_val = f_oneway(fertilizer_1, fertilizer_2, fertilizer_3)\n",
    "\n",
    "print_separator(\"One-Way ANOVA\")\n",
    "print(f\"F-value: {F_stat:.4f}\")\n",
    "print(f\"P-value: {P_val:.6f}\")\n",
    "\n",
    "alpha = 0.05\n",
    "if P_val < alpha:\n",
    "    print(\"Result: Reject H0 — At least one fertilizer has a different mean effect on growth.\")\n",
    "else:\n",
    "    print(\"Result: Fail to reject H0 — No significant difference among fertilizers at α = 0.05.\")\n",
    "\n",
    "print(\"\\nExplanation if P-value > 0.05 (English):\")\n",
    "print(\"- If P > 0.05, we do not have enough evidence to say the mean growth differs across groups.\")\n",
    "print(\"- Practically, this means observed differences could be due to random variation rather than a true effect.\")"
   ]
  },
  {
   "cell_type": "markdown",
   "id": "d94d2042",
   "metadata": {},
   "source": [
    "## Exercise 7: Probability Distributions (Optional)"
   ]
  },
  {
   "cell_type": "code",
   "execution_count": 8,
   "id": "5f0a757d",
   "metadata": {},
   "outputs": [
    {
     "name": "stdout",
     "output_type": "stream",
     "text": [
      "\n",
      "==================== Binomial Probability ====================\n",
      "P(X = 5) for X ~ Binomial(n=10, p=0.5): 0.246094\n",
      "P(X <= 5): 0.623047\n"
     ]
    }
   ],
   "source": [
    "# Title: Exercise 7 (Optional) — Binomial Distribution\n",
    "# Task: Probability of exactly 5 heads in 10 fair coin flips.\n",
    "\n",
    "n = 10          # number of trials\n",
    "p = 0.5         # probability of success (heads)\n",
    "k = 5           # number of successes\n",
    "\n",
    "prob_exact_5 = binom.pmf(k, n, p)\n",
    "\n",
    "print_separator(\"Binomial Probability\")\n",
    "print(f\"P(X = {k}) for X ~ Binomial(n={n}, p={p}): {prob_exact_5:.6f}\")\n",
    "\n",
    "# Bonus: probability of at most 5 heads (CDF)\n",
    "prob_at_most_5 = binom.cdf(5, n, p)\n",
    "print(f\"P(X <= 5): {prob_at_most_5:.6f}\")"
   ]
  },
  {
   "cell_type": "markdown",
   "id": "8d2cd463",
   "metadata": {},
   "source": [
    "## Exercise 8: Correlation Coefficients (Optional)"
   ]
  },
  {
   "cell_type": "code",
   "execution_count": 9,
   "id": "c2085b99",
   "metadata": {},
   "outputs": [
    {
     "name": "stdout",
     "output_type": "stream",
     "text": [
      "\n",
      "==================== Correlation Coefficients ====================\n",
      "Data:\n",
      "   age  income\n",
      "0   23   35000\n",
      "1   25   40000\n",
      "2   30   50000\n",
      "3   35   60000\n",
      "4   40   70000\n",
      "\n",
      "Pearson r: 0.9997, p-value: 0.000007\n",
      "Spearman ρ: 1.0000, p-value: 0.000000\n",
      "\n",
      "Interpretation (English):\n",
      "- Pearson measures linear correlation; Spearman measures monotonic relationship via ranks.\n",
      "- With perfectly increasing pairs like here, both correlations tend to be very high.\n"
     ]
    }
   ],
   "source": [
    "# Title: Exercise 8 (Optional) — Pearson and Spearman Correlations\n",
    "# Task: Compute Pearson and Spearman correlations between age and income.\n",
    "\n",
    "data = pd.DataFrame({\n",
    "    'age':    [23, 25, 30, 35, 40],\n",
    "    'income': [35000, 40000, 50000, 60000, 70000]\n",
    "})\n",
    "\n",
    "x = data['age'].to_numpy(dtype=float)\n",
    "y = data['income'].to_numpy(dtype=float)\n",
    "\n",
    "pearson_r, pearson_p = pearsonr(x, y)\n",
    "spearman_r, spearman_p = spearmanr(x, y)\n",
    "\n",
    "print_separator(\"Correlation Coefficients\")\n",
    "print(\"Data:\")\n",
    "print(data)\n",
    "print(f\"\\nPearson r: {pearson_r:.4f}, p-value: {pearson_p:.6f}\")\n",
    "print(f\"Spearman ρ: {spearman_r:.4f}, p-value: {spearman_p:.6f}\")\n",
    "\n",
    "print(\"\\nInterpretation (English):\")\n",
    "print(\"- Pearson measures linear correlation; Spearman measures monotonic relationship via ranks.\")\n",
    "print(\"- With perfectly increasing pairs like here, both correlations tend to be very high.\")"
   ]
  },
  {
   "cell_type": "markdown",
   "id": "8aac9d0c",
   "metadata": {},
   "source": [
    "## Conclusion & Key Takeaways\n",
    "\n",
    "## Exercise 1 — SciPy Basics\n",
    "- You confirmed the SciPy installation and version.  \n",
    "- Knowing the version ensures **API compatibility** and helps reproduce results.\n",
    "\n",
    "## Exercise 2 — Descriptive Statistics\n",
    "- **Mean** and **median** summarize central tendency; variance and standard deviation summarize **spread**.  \n",
    "- On the provided data, mean and median are close, suggesting **no extreme outliers**.  \n",
    "- Reporting whether you used **population (ddof=0)** or **sample (ddof=1)** formulas is good practice.\n",
    "\n",
    "## Exercise 3 — Normal Distribution\n",
    "- You generated a theoretical **Normal(μ=50, σ=10)** and sampled from it.  \n",
    "- The **PDF curve** shows the ideal density; the **histogram** of samples approximates it, improving with larger sample sizes.  \n",
    "- Comparing **sample mean/std** to target μ, σ validates the sampling process (deviations shrink as *n* grows).\n",
    "\n",
    "## Exercise 4 — T-Test\n",
    "- The independent two-sample **t-test** evaluates whether two group means differ beyond random noise.  \n",
    "- A **small p-value** (typically < 0.05) indicates a **statistically significant** difference in means.  \n",
    "- Always check assumptions: approximate **normality** and (if using the equal-variance test) **homoscedasticity**. Use Welch’s t-test if variances differ.\n",
    "\n",
    "## Exercise 5 — Linear Regression\n",
    "- The **slope** represents the **average change in price per additional square meter** (currency units per m²).  \n",
    "- The **intercept** is the estimated price at 0 m² (often not meaningful physically, but part of the model).  \n",
    "- Prediction at **90 m²** uses the fitted line \\( \\hat{y} = \\text{slope} \\cdot x + \\text{intercept} \\).  \n",
    "- Reporting **r**, **p-value**, and **standard error** provides strength of relationship, significance, and uncertainty.\n",
    "\n",
    "## Exercise 6 — One-Way ANOVA\n",
    "- ANOVA compares **means across ≥3 groups** using the **F-statistic**.  \n",
    "- A **small p-value** indicates at least one group mean differs; with a larger p-value (≥ 0.05), you **fail to reject** equality of means.  \n",
    "- If significant, follow up with **post-hoc tests** (e.g., Tukey HSD) to identify which groups differ.  \n",
    "- Check assumptions: **independence**, **normality** within groups, and **homogeneity of variances**.\n",
    "\n",
    "## Exercise 7 (Optional) — Binomial Probability\n",
    "- You computed \\( P(X=5) \\) for \\( X \\sim \\text{Binomial}(n=10, p=0.5) \\).  \n",
    "- This demonstrates using **PMF** for exact outcomes and **CDF** for cumulative probabilities.  \n",
    "- Binomial modeling is useful for **count data** with fixed trials and constant success probability.\n",
    "\n",
    "## Exercise 8 (Optional) — Correlations\n",
    "- **Pearson r** measures **linear** association; **Spearman ρ** measures **monotonic** association via ranks (robust to outliers and nonlinearity).  \n",
    "- On strictly increasing `age`–`income` pairs, both tend to be high, but they answer **slightly different questions**.\n",
    "\n",
    "---\n",
    "\n",
    "## Overall Reflections\n",
    "- You practiced a full **statistical workflow**: describe data → choose model/test → check assumptions → interpret effect and uncertainty.  \n",
    "- **P-values** indicate evidence against a null hypothesis; complement them with **effect sizes** (e.g., slope magnitude) and **confidence intervals**.  \n",
    "- **Visualization** (histograms, PDFs, scatter plots, regression line) is essential to interpret and communicate results.  \n",
    "- For reproducibility, fix random seeds and record **library versions**.  \n",
    "- In real projects, always consider **data quality**, **outliers**, and whether assumptions hold; choose robust alternatives when needed."
   ]
  }
 ],
 "metadata": {
  "kernelspec": {
   "display_name": "nlp_course_env",
   "language": "python",
   "name": "python3"
  },
  "language_info": {
   "codemirror_mode": {
    "name": "ipython",
    "version": 3
   },
   "file_extension": ".py",
   "mimetype": "text/x-python",
   "name": "python",
   "nbconvert_exporter": "python",
   "pygments_lexer": "ipython3",
   "version": "3.10.0"
  }
 },
 "nbformat": 4,
 "nbformat_minor": 5
}
