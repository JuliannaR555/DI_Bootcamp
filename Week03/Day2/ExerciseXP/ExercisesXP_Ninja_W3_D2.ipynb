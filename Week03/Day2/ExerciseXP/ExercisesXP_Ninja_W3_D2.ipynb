{
 "cells": [
  {
   "cell_type": "markdown",
   "id": "2d07722f",
   "metadata": {},
   "source": [
    "# Exercises XP Ninja: W3_D2"
   ]
  },
  {
   "cell_type": "markdown",
   "id": "3324ccd5",
   "metadata": {},
   "source": [
    "## What You’ll Learn\n",
    "- Extracting and manipulating diagonal elements of matrices.\n",
    "- Implementing conditional operations on NumPy arrays.\n",
    "- Normalizing 1D arrays (manual and via scikit-learn).\n",
    "- Computing Pearson correlation coefficients.\n",
    "- Fitting and plotting trend lines on time-series data.\n",
    "\n",
    "## What You’ll Create\n",
    "- A diagonal matrix from extracted diagonal elements.\n",
    "- Conditional replacements in NumPy arrays.\n",
    "- A normalized 1D array.\n",
    "- Pearson correlation between two datasets.\n",
    "- A plotted time series with a fitted trend line.\n",
    "\n",
    "---\n",
    "\n",
    "## Exercises\n",
    "\n",
    "**Exercise 1 — Diagonal Matrix Operations**  \n",
    "Create a 4×4 matrix, extract its diagonal, and create a diagonal matrix from it.\n",
    "\n",
    "**Exercise 2 — Conditional Array Operations**  \n",
    "Generate a 1D array with 20 random elements and replace all elements > 0.5 with -1.\n",
    "\n",
    "**Exercise 3 — Data Normalization**  \n",
    "Normalize a 1D array (subtract mean, divide by std). Optionally, use `StandardScaler` from `sklearn.preprocessing`.\n",
    "\n",
    "**Exercise 4 — Correlation Coefficients**  \n",
    "Given two arrays, compute the Pearson correlation coefficient using NumPy.\n",
    "\n",
    "**Exercise 5 — Time Series Trend Line**  \n",
    "Generate a 15-day time series with random values, fit a linear trend line, and plot both the data and the trend."
   ]
  },
  {
   "cell_type": "markdown",
   "id": "52e2ac0f",
   "metadata": {},
   "source": [
    "## Setup — Imports and Seed"
   ]
  },
  {
   "cell_type": "code",
   "execution_count": 1,
   "id": "ae134eac",
   "metadata": {},
   "outputs": [],
   "source": [
    "# Goal: Import required libraries and set random seed for reproducibility.\n",
    "\n",
    "import numpy as np\n",
    "import matplotlib.pyplot as plt\n",
    "\n",
    "np.random.seed(42)"
   ]
  },
  {
   "cell_type": "markdown",
   "id": "8ce93380",
   "metadata": {},
   "source": [
    "## Exercise 1 : Diagonal Matrix Operations"
   ]
  },
  {
   "cell_type": "code",
   "execution_count": 2,
   "id": "f4578ea1",
   "metadata": {},
   "outputs": [
    {
     "name": "stdout",
     "output_type": "stream",
     "text": [
      "Original matrix:\n",
      " [[7 4 8 5]\n",
      " [7 3 7 8]\n",
      " [5 4 8 8]\n",
      " [3 6 5 2]]\n",
      "\n",
      "Diagonal elements: [7 3 8 2]\n",
      "\n",
      "Diagonal matrix from elements:\n",
      " [[7 0 0 0]\n",
      " [0 3 0 0]\n",
      " [0 0 8 0]\n",
      " [0 0 0 2]]\n"
     ]
    }
   ],
   "source": [
    "# Title: Exercise 1 — Extract and Create Diagonal Matrix\n",
    "# Task: Create a 4x4 matrix, extract its diagonal, and create a diagonal matrix from it.\n",
    "\n",
    "# Create a 4x4 random matrix\n",
    "M = np.random.randint(1, 10, size=(4, 4))\n",
    "print(\"Original matrix:\\n\", M)\n",
    "\n",
    "# Extract diagonal elements\n",
    "diag_elements = np.diag(M)\n",
    "print(\"\\nDiagonal elements:\", diag_elements)\n",
    "\n",
    "# Create a diagonal matrix from extracted elements\n",
    "diag_matrix = np.diag(diag_elements)\n",
    "print(\"\\nDiagonal matrix from elements:\\n\", diag_matrix)"
   ]
  },
  {
   "cell_type": "markdown",
   "id": "d26a3767",
   "metadata": {},
   "source": [
    "## Exercise 2 : Conditional Array Operations"
   ]
  },
  {
   "cell_type": "code",
   "execution_count": 3,
   "id": "5a808198",
   "metadata": {},
   "outputs": [
    {
     "name": "stdout",
     "output_type": "stream",
     "text": [
      "Original array:\n",
      " [0.722 0.939 0.001 0.992 0.617 0.612 0.007 0.023 0.525 0.4   0.047 0.974\n",
      " 0.233 0.091 0.618 0.382 0.983 0.467 0.86  0.68 ]\n",
      "\n",
      "Modified array (values > 0.5 replaced by -1):\n",
      " [-1.00000000e+00 -1.00000000e+00  7.78765841e-04 -1.00000000e+00\n",
      " -1.00000000e+00 -1.00000000e+00  7.06630522e-03  2.30624250e-02\n",
      " -1.00000000e+00  3.99860972e-01  4.66656632e-02 -1.00000000e+00\n",
      "  2.32771340e-01  9.06064345e-02 -1.00000000e+00  3.82461991e-01\n",
      " -1.00000000e+00  4.66762893e-01 -1.00000000e+00 -1.00000000e+00]\n"
     ]
    }
   ],
   "source": [
    "# Title: Exercise 2 — Replace Values > 0.5 with -1\n",
    "# Task: Generate a 1D array with 20 random elements and apply conditional replacement.\n",
    "\n",
    "arr = np.random.rand(20)\n",
    "print(\"Original array:\\n\", np.round(arr, 3))\n",
    "\n",
    "# Replace all elements > 0.5 with -1\n",
    "arr[arr > 0.5] = -1\n",
    "print(\"\\nModified array (values > 0.5 replaced by -1):\\n\", arr)"
   ]
  },
  {
   "cell_type": "markdown",
   "id": "3364ced0",
   "metadata": {},
   "source": [
    "## Exercise 3 : Data Normalization"
   ]
  },
  {
   "cell_type": "code",
   "execution_count": 4,
   "id": "563a05e9",
   "metadata": {},
   "outputs": [
    {
     "name": "stdout",
     "output_type": "stream",
     "text": [
      "Original data: [73 39 18  4 89 60 14  9 90 53]\n",
      "Mean: 44.9 Std: 31.204006153056696\n",
      "Normalized data: [ 0.901 -0.189 -0.862 -1.311  1.413  0.484 -0.99  -1.15   1.445  0.26 ]\n",
      "\n",
      "Normalized using StandardScaler: [ 0.901 -0.189 -0.862 -1.311  1.413  0.484 -0.99  -1.15   1.445  0.26 ]\n"
     ]
    }
   ],
   "source": [
    "# Title: Exercise 3 — Normalize a 1D Array\n",
    "# Task: Subtract mean and divide by standard deviation.\n",
    "\n",
    "data = np.random.randint(1, 100, size=10)\n",
    "mean_val = data.mean()\n",
    "std_val = data.std(ddof=0)\n",
    "\n",
    "normalized_data = (data - mean_val) / std_val\n",
    "\n",
    "print(\"Original data:\", data)\n",
    "print(\"Mean:\", mean_val, \"Std:\", std_val)\n",
    "print(\"Normalized data:\", np.round(normalized_data, 3))\n",
    "\n",
    "# Optional: Using sklearn's StandardScaler\n",
    "try:\n",
    "    from sklearn.preprocessing import StandardScaler\n",
    "    scaler = StandardScaler()\n",
    "    normalized_sklearn = scaler.fit_transform(data.reshape(-1, 1)).flatten()\n",
    "    print(\"\\nNormalized using StandardScaler:\", np.round(normalized_sklearn, 3))\n",
    "except ImportError:\n",
    "    print(\"\\nscikit-learn not installed; skipping StandardScaler example.\")"
   ]
  },
  {
   "cell_type": "markdown",
   "id": "aee366a9",
   "metadata": {},
   "source": [
    "## Exercise 4 : Correlation Coefficients"
   ]
  },
  {
   "cell_type": "code",
   "execution_count": 5,
   "id": "42d5ce26",
   "metadata": {},
   "outputs": [
    {
     "name": "stdout",
     "output_type": "stream",
     "text": [
      "x: [0.231 0.241 0.683 0.61  0.833 0.173 0.391 0.182 0.755 0.425]\n",
      "y: [0.208 0.568 0.031 0.842 0.45  0.395 0.927 0.727 0.327 0.57 ]\n",
      "\n",
      "Pearson correlation coefficient: -0.2148\n"
     ]
    }
   ],
   "source": [
    "# Title: Exercise 4 — Pearson Correlation Coefficient\n",
    "# Task: Compute Pearson correlation between two arrays.\n",
    "\n",
    "x = np.random.rand(10)\n",
    "y = np.random.rand(10)\n",
    "\n",
    "# Pearson correlation: np.corrcoef returns correlation matrix\n",
    "corr_matrix = np.corrcoef(x, y)\n",
    "pearson_corr = corr_matrix[0, 1]\n",
    "\n",
    "print(\"x:\", np.round(x, 3))\n",
    "print(\"y:\", np.round(y, 3))\n",
    "print(\"\\nPearson correlation coefficient:\", round(pearson_corr, 4))"
   ]
  },
  {
   "cell_type": "markdown",
   "id": "6db07158",
   "metadata": {},
   "source": [
    "## Exercise 5 : Time Series Trend Line"
   ]
  },
  {
   "cell_type": "code",
   "execution_count": 6,
   "id": "7be66847",
   "metadata": {},
   "outputs": [
    {
     "name": "stdout",
     "output_type": "stream",
     "text": [
      "Days: [ 1  2  3  4  5  6  7  8  9 10 11 12 13 14 15]\n",
      "Values: [111  89 134 129 131 102  73  75 138 109  90  78  64  94 114]\n",
      "Slope: -1.954, Intercept: 117.695\n"
     ]
    },
    {
     "data": {
      "image/png": "[encoded data removed]",
      "text/plain": [
       "<Figure size 700x500 with 1 Axes>"
      ]
     },
     "metadata": {},
     "output_type": "display_data"
    }
   ],
   "source": [
    "# Title: Exercise 5 — Fit and Plot Time Series Trend Line\n",
    "# Task: Create 15 days of random data, fit linear trend, plot both.\n",
    "\n",
    "days = np.arange(1, 16)\n",
    "values = np.random.randint(50, 150, size=15)\n",
    "\n",
    "# Fit a linear trend line: y = m*x + c\n",
    "m, c = np.polyfit(days, values, deg=1)\n",
    "trend_line = m * days + c\n",
    "\n",
    "print(\"Days:\", days)\n",
    "print(\"Values:\", values)\n",
    "print(f\"Slope: {m:.3f}, Intercept: {c:.3f}\")\n",
    "\n",
    "# Plot original series and trend line\n",
    "plt.figure(figsize=(7, 5))\n",
    "plt.plot(days, values, marker='o', label=\"Time Series Data\")\n",
    "plt.plot(days, trend_line, color='red', linestyle='--', label=\"Trend Line\")\n",
    "plt.title(\"Time Series with Linear Trend\")\n",
    "plt.xlabel(\"Day\")\n",
    "plt.ylabel(\"Value\")\n",
    "plt.legend()\n",
    "plt.grid(True)\n",
    "plt.show()"
   ]
  },
  {
   "cell_type": "markdown",
   "id": "c1fb9110",
   "metadata": {},
   "source": [
    "## Conclusion & Key Takeaways — XP Ninja (Diagonal & Conditional Operations)\n",
    "\n",
    "### Exercise 1 — Diagonal Matrix Operations\n",
    "- Extracted diagonal elements from a square matrix using `np.diag`.\n",
    "- Created a diagonal matrix from these elements.\n",
    "- Useful in **linear algebra** for isolating principal components or scaling factors.\n",
    "\n",
    "### Exercise 2 — Conditional Array Operations\n",
    "- Applied a **boolean mask** to replace elements meeting a condition (> 0.5) with -1.\n",
    "- Demonstrated **vectorized conditional operations** without loops.\n",
    "\n",
    "### Exercise 3 — Data Normalization\n",
    "- Implemented z-score normalization manually: \\( z = \\frac{x - \\mu}{\\sigma} \\).\n",
    "- Compared with scikit-learn’s `StandardScaler` (when available).\n",
    "- Normalization is essential for **feature scaling** in ML.\n",
    "\n",
    "### Exercise 4 — Pearson Correlation\n",
    "- Used `np.corrcoef` to compute Pearson’s r between two datasets.\n",
    "- Pearson r measures **linear correlation**, ranging from -1 (negative) to +1 (positive).\n",
    "\n",
    "### Exercise 5 — Time Series Trend Line\n",
    "- Created synthetic time-series data, fit a linear model using `np.polyfit`, and plotted both data and trend.\n",
    "- Trend lines provide a **visual summary** of direction and magnitude of change.\n",
    "\n",
    "---\n",
    "\n",
    "### Overall\n",
    "- Strengthened skills in **matrix manipulation**, **array conditioning**, **scaling**, **correlation analysis**, and **trend modeling**.\n",
    "- Key NumPy tools: `np.diag`, boolean masking, `np.corrcoef`, `np.polyfit`.\n",
    "- These concepts bridge **mathematics**, **data preprocessing**, and **visual analytics**.\n",
    "\n",
    "> **Next Steps:**  \n",
    "> - Explore **non-linear trend fitting** for more complex time series.  \n",
    "> - Apply correlation to larger datasets and visualize correlation matrices.  \n",
    "> - Combine diagonal extraction with eigenvalue decomposition for advanced analysis."
   ]
  }
 ],
 "metadata": {
  "kernelspec": {
   "display_name": "nlp_course_env",
   "language": "python",
   "name": "python3"
  },
  "language_info": {
   "codemirror_mode": {
    "name": "ipython",
    "version": 3
   },
   "file_extension": ".py",
   "mimetype": "text/x-python",
   "name": "python",
   "nbconvert_exporter": "python",
   "pygments_lexer": "ipython3",
   "version": "3.10.0"
  }
 },
 "nbformat": 4,
 "nbformat_minor": 5
}
