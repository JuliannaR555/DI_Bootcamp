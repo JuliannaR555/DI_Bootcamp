{
 "cells": [
  {
   "cell_type": "markdown",
   "id": "a523f227",
   "metadata": {},
   "source": [
    "# Exercises XP Gold: W3_D1"
   ]
  },
  {
   "cell_type": "markdown",
   "id": "6f33f0df",
   "metadata": {},
   "source": [
    "## What You’ll Learn\n",
    "- Advanced NumPy techniques for random arrays, matrix normalization, and evenly spaced arrays.\n",
    "- Finding minimum/maximum and performing matrix normalization.\n",
    "- Valid matrix multiplication with compatible dimensions.\n",
    "\n",
    "## What You’ll Create\n",
    "- A 5×5 array with random values and its min/max.\n",
    "- A normalized 3×3 matrix (zero mean, unit std).\n",
    "- A 1D array of evenly spaced elements.\n",
    "- Valid matrix multiplications (5×3)·(3×2) and a custom example.\n",
    "\n",
    "> Notes  \n",
    "> - Randomness is seeded for reproducibility.  \n",
    "> - For normalization: `Z = (X - X.mean()) / X.std()`  \n",
    "> - Matrix multiplication uses `@` (same as `np.dot`)."
   ]
  },
  {
   "cell_type": "markdown",
   "id": "fdfa5dd9",
   "metadata": {},
   "source": [
    "## Setup — Imports and Random Seed"
   ]
  },
  {
   "cell_type": "code",
   "execution_count": 1,
   "id": "49acd83f",
   "metadata": {},
   "outputs": [],
   "source": [
    "# Goal: Import NumPy and set a seed for reproducibility.\n",
    "\n",
    "import numpy as np\n",
    "\n",
    "np.random.seed(42)  # reproducible random numbers"
   ]
  },
  {
   "cell_type": "markdown",
   "id": "8be629af",
   "metadata": {},
   "source": [
    "## Exercise 1 : Minimum and Maximum of Random Array"
   ]
  },
  {
   "cell_type": "code",
   "execution_count": 2,
   "id": "129ee10d",
   "metadata": {},
   "outputs": [
    {
     "name": "stdout",
     "output_type": "stream",
     "text": [
      "Array (5x5):\n",
      " [[0.37454012 0.95071431 0.73199394 0.59865848 0.15601864]\n",
      " [0.15599452 0.05808361 0.86617615 0.60111501 0.70807258]\n",
      " [0.02058449 0.96990985 0.83244264 0.21233911 0.18182497]\n",
      " [0.18340451 0.30424224 0.52475643 0.43194502 0.29122914]\n",
      " [0.61185289 0.13949386 0.29214465 0.36636184 0.45606998]]\n",
      "\n",
      "Min (default [0,1)): 0.020584494295802447\n",
      "Max (default [0,1)): 0.9699098521619943\n",
      "\n",
      "Scaled to [0.01, 0.99] — Min/Max:\n",
      "Min: 0.0301728044098864\n",
      "Max: 0.9605116551187545\n"
     ]
    }
   ],
   "source": [
    "# Task: Create a 5x5 array with random values and print its min and max.\n",
    "\n",
    "# Option A: Default uniform [0, 1)\n",
    "arr_5x5 = np.random.rand(5, 5)\n",
    "print(\"Array (5x5):\\n\", arr_5x5)\n",
    "\n",
    "print(\"\\nMin (default [0,1)):\", arr_5x5.min())\n",
    "print(\"Max (default [0,1)):\", arr_5x5.max())\n",
    "\n",
    "# Option B (optional): Scale to [0.01, 0.99] to match the style of the expected output\n",
    "scaled = 0.01 + arr_5x5 * (0.99 - 0.01)\n",
    "print(\"\\nScaled to [0.01, 0.99] — Min/Max:\")\n",
    "print(\"Min:\", scaled.min())\n",
    "print(\"Max:\", scaled.max())"
   ]
  },
  {
   "cell_type": "markdown",
   "id": "e8efce24",
   "metadata": {},
   "source": [
    "## Exercise 2 : Matrix Normalization"
   ]
  },
  {
   "cell_type": "code",
   "execution_count": 3,
   "id": "1c67bba4",
   "metadata": {},
   "outputs": [
    {
     "name": "stdout",
     "output_type": "stream",
     "text": [
      "Original 3x3 matrix X:\n",
      " [[-0.62947496  0.59772047  2.55948803]\n",
      " [ 0.39423302  0.12221917 -0.51543566]\n",
      " [-0.60025385  0.94743982  0.291034  ]]\n",
      "\n",
      "Mean(X): 0.3518855593598763   Std(X): 0.9409661260083042\n",
      "\n",
      "Normalized matrix Z = (X - mean)/std:\n",
      " [[-1.04292864  0.26125798  2.34610196]\n",
      " [ 0.04500424 -0.24407509 -0.9217348 ]\n",
      " [-1.01187427  0.63291785 -0.06466923]]\n",
      "\n",
      "Checks on Z (numerical, may not be exactly 0/1 due to rounding):\n",
      "Mean(Z) ≈ -6.32210333467103e-17\n",
      "Std(Z)  ≈ 1.0\n"
     ]
    }
   ],
   "source": [
    "# Task: Create a 3x3 random matrix; subtract mean and divide by std so that mean≈0 and std≈1.\n",
    "\n",
    "X = np.random.randn(3, 3)  # standard normal entries\n",
    "mu = X.mean()\n",
    "sigma = X.std(ddof=0)      # population std; ddof=0 is fine for normalization\n",
    "\n",
    "Z = (X - mu) / sigma\n",
    "\n",
    "print(\"Original 3x3 matrix X:\\n\", X)\n",
    "print(\"\\nMean(X):\", mu, \"  Std(X):\", sigma)\n",
    "print(\"\\nNormalized matrix Z = (X - mean)/std:\\n\", Z)\n",
    "\n",
    "# Sanity checks\n",
    "print(\"\\nChecks on Z (numerical, may not be exactly 0/1 due to rounding):\")\n",
    "print(\"Mean(Z) ≈\", Z.mean())\n",
    "print(\"Std(Z)  ≈\", Z.std(ddof=0))"
   ]
  },
  {
   "cell_type": "markdown",
   "id": "7ffe8f6f",
   "metadata": {},
   "source": [
    "## Exercise 3 : Evenly Spaced Elements in Array"
   ]
  },
  {
   "cell_type": "code",
   "execution_count": 4,
   "id": "da5e62a3",
   "metadata": {},
   "outputs": [
    {
     "name": "stdout",
     "output_type": "stream",
     "text": [
      "Inclusive [0, 10], 50 points:\n",
      " [ 0.          0.20408163  0.40816327  0.6122449   0.81632653  1.02040816\n",
      "  1.2244898   1.42857143  1.63265306  1.83673469  2.04081633  2.24489796\n",
      "  2.44897959  2.65306122  2.85714286  3.06122449  3.26530612  3.46938776\n",
      "  3.67346939  3.87755102  4.08163265  4.28571429  4.48979592  4.69387755\n",
      "  4.89795918  5.10204082  5.30612245  5.51020408  5.71428571  5.91836735\n",
      "  6.12244898  6.32653061  6.53061224  6.73469388  6.93877551  7.14285714\n",
      "  7.34693878  7.55102041  7.75510204  7.95918367  8.16326531  8.36734694\n",
      "  8.57142857  8.7755102   8.97959184  9.18367347  9.3877551   9.59183673\n",
      "  9.79591837 10.        ]\n",
      "\n",
      "Exclusive [0, 10), 50 points:\n",
      " [0.  0.2 0.4 0.6 0.8 1.  1.2 1.4 1.6 1.8 2.  2.2 2.4 2.6 2.8 3.  3.2 3.4\n",
      " 3.6 3.8 4.  4.2 4.4 4.6 4.8 5.  5.2 5.4 5.6 5.8 6.  6.2 6.4 6.6 6.8 7.\n",
      " 7.2 7.4 7.6 7.8 8.  8.2 8.4 8.6 8.8 9.  9.2 9.4 9.6 9.8]\n"
     ]
    }
   ],
   "source": [
    "# Task: Create a 1D array of 50 evenly spaced elements between 0 and 10.\n",
    "\n",
    "# Clarification: The prompt says \"exclusive\" but the example includes 10.0.\n",
    "# We provide both versions:\n",
    "\n",
    "# Inclusive endpoints [0, 10]\n",
    "inclusive = np.linspace(0, 10, num=50, endpoint=True)\n",
    "print(\"Inclusive [0, 10], 50 points:\\n\", inclusive)\n",
    "\n",
    "# Exclusive of the right endpoint [0, 10)\n",
    "exclusive = np.linspace(0, 10, num=50, endpoint=False)\n",
    "print(\"\\nExclusive [0, 10), 50 points:\\n\", exclusive)"
   ]
  },
  {
   "cell_type": "markdown",
   "id": "09b38be9",
   "metadata": {},
   "source": [
    "## Exercise 4 : Matrix Multiplication"
   ]
  },
  {
   "cell_type": "code",
   "execution_count": 5,
   "id": "7245c8f9",
   "metadata": {},
   "outputs": [
    {
     "name": "stdout",
     "output_type": "stream",
     "text": [
      "A (5x3):\n",
      " [[7 8 3]\n",
      " [1 4 2]\n",
      " [8 4 2]\n",
      " [6 6 4]\n",
      " [6 2 2]]\n",
      "\n",
      "B (3x2):\n",
      " [[4 8]\n",
      " [7 9]\n",
      " [8 5]]\n",
      "\n",
      "C = A @ B (5x2):\n",
      " [[108 143]\n",
      " [ 48  54]\n",
      " [ 76 110]\n",
      " [ 98 122]\n",
      " [ 54  76]]\n"
     ]
    }
   ],
   "source": [
    "# Task: Multiply a 5x3 matrix by a 3x2 matrix.\n",
    "\n",
    "A = np.random.randint(1, 10, size=(5, 3))  # integers 1..9\n",
    "B = np.random.randint(1, 10, size=(3, 2))\n",
    "\n",
    "C = A @ B  # same as np.dot(A, B)\n",
    "\n",
    "print(\"A (5x3):\\n\", A)\n",
    "print(\"\\nB (3x2):\\n\", B)\n",
    "print(\"\\nC = A @ B (5x2):\\n\", C)\n",
    "\n",
    "# Shape check (defensive)\n",
    "assert A.shape[1] == B.shape[0], \"Incompatible shapes for matrix multiplication!\""
   ]
  },
  {
   "cell_type": "markdown",
   "id": "800f164c",
   "metadata": {},
   "source": [
    "## Exercise 5 — Custom Matrix Multiplication"
   ]
  },
  {
   "cell_type": "code",
   "execution_count": 6,
   "id": "203eb3f5",
   "metadata": {},
   "outputs": [
    {
     "name": "stdout",
     "output_type": "stream",
     "text": [
      "M1 ( (2, 4) ):\n",
      " [[1 2 3 4]\n",
      " [5 6 7 8]]\n",
      "\n",
      "M2 ( (4, 3) ):\n",
      " [[ 1  2  3]\n",
      " [ 4  5  6]\n",
      " [ 7  8  9]\n",
      " [10 11 12]]\n",
      "\n",
      "R = M1 @ M2 ( (2, 3) ):\n",
      " [[ 70  80  90]\n",
      " [158 184 210]]\n"
     ]
    }
   ],
   "source": [
    "# Title: Exercise 5 — Custom Matrix Multiplication\n",
    "# Task: Create two compatible matrices, multiply them, and display the result.\n",
    "\n",
    "# You can change these dimensions as long as inner dims match: (m x k) @ (k x n) -> (m x n)\n",
    "m, k, n = 2, 4, 3\n",
    "\n",
    "M1 = np.arange(1, m*k + 1).reshape(m, k)      # e.g., [[1,2,3,4],[5,6,7,8]]\n",
    "M2 = np.arange(1, k*n + 1).reshape(k, n)      # e.g., 4x3 matrix with increasing ints\n",
    "\n",
    "R = M1 @ M2\n",
    "\n",
    "print(\"M1 (\", M1.shape, \"):\\n\", M1)\n",
    "print(\"\\nM2 (\", M2.shape, \"):\\n\", M2)\n",
    "print(\"\\nR = M1 @ M2 (\", R.shape, \"):\\n\", R)\n",
    "\n",
    "# Explanation (English):\n",
    "# - Matrix multiplication takes the dot product of rows of M1 with columns of M2.\n",
    "# - Here, shapes are (m x k) @ (k x n) -> (m x n). The inner dimension 'k' must match."
   ]
  },
  {
   "cell_type": "markdown",
   "id": "23160e73",
   "metadata": {},
   "source": [
    "## Conclusion & Key Takeaways — Exercises XP Gold (NumPy)\n",
    "\n",
    "### Exercise 1 — Minimum and Maximum of Random Array\n",
    "- Generated a 5×5 random array from a uniform distribution in [0, 1).\n",
    "- Successfully retrieved **min** and **max** values using `.min()` and `.max()`.\n",
    "- Optional scaling to [0.01, 0.99] demonstrated control over random value ranges.\n",
    "\n",
    "**Key point:** NumPy makes it easy to generate random arrays and compute descriptive statistics in one step.\n",
    "\n",
    "---\n",
    "\n",
    "### Exercise 2 — Matrix Normalization\n",
    "- Created a 3×3 random matrix and applied normalization:\n",
    "  \\[\n",
    "  Z = \\frac{X - \\text{mean}(X)}{\\text{std}(X)}\n",
    "  \\]\n",
    "- Resulting matrix has mean ≈ 0 and standard deviation ≈ 1.\n",
    "\n",
    "**Key point:** Normalization standardizes data, making it comparable across features and preventing scale dominance in algorithms.\n",
    "\n",
    "---\n",
    "\n",
    "### Exercise 3 — Evenly Spaced Elements\n",
    "- Generated 50 evenly spaced values using `np.linspace`.\n",
    "- Covered both **inclusive** `[0, 10]` and **exclusive** `[0, 10)` cases.\n",
    "- Inclusive case matches the provided example; exclusive is useful when avoiding the upper bound.\n",
    "\n",
    "**Key point:** `np.linspace` provides control over number of points and endpoint inclusion.\n",
    "\n",
    "---\n",
    "\n",
    "### Exercise 4 — Matrix Multiplication (5×3)·(3×2)\n",
    "- Constructed two compatible matrices and multiplied them using `@` (dot product).\n",
    "- Resulting shape follows the rule: \\((m \\times k) @ (k \\times n) \\to (m \\times n)\\).\n",
    "\n",
    "**Key point:** Matrix multiplication requires matching inner dimensions; the operation combines rows of the first matrix with columns of the second.\n",
    "\n",
    "---\n",
    "\n",
    "### Exercise 5 — Custom Matrix Multiplication\n",
    "- Built custom matrices with compatible dimensions and performed multiplication.\n",
    "- Showed flexibility in defining shapes and generating matrix data.\n",
    "- Reinforced the requirement that **columns of the first = rows of the second**.\n",
    "\n",
    "**Key point:** Understanding shape compatibility is essential in linear algebra, machine learning pipelines, and data transformations.\n",
    "\n",
    "---\n",
    "\n",
    "### Overall Reflections\n",
    "- **Random number generation** + **array manipulation** + **matrix operations** = foundational NumPy skills.\n",
    "- These techniques support a wide range of applications: statistics, data preprocessing, simulations, and machine learning.\n",
    "- Key functions used:  \n",
    "  - `np.random.rand`, `np.random.randn`, `np.random.randint`\n",
    "  - `.min()`, `.max()`, `.mean()`, `.std()`\n",
    "  - `np.linspace`\n",
    "  - Matrix multiplication via `@` or `np.dot`\n",
    "\n",
    "> **Next Steps:**  \n",
    "> - Explore broadcasting in NumPy to avoid explicit loops.  \n",
    "> - Apply normalization and multiplication in real datasets (e.g., feature scaling + transformation in ML).  \n",
    "> - Experiment with higher-dimensional arrays and tensor operations."
   ]
  }
 ],
 "metadata": {
  "kernelspec": {
   "display_name": "nlp_course_env",
   "language": "python",
   "name": "python3"
  },
  "language_info": {
   "codemirror_mode": {
    "name": "ipython",
    "version": 3
   },
   "file_extension": ".py",
   "mimetype": "text/x-python",
   "name": "python",
   "nbconvert_exporter": "python",
   "pygments_lexer": "ipython3",
   "version": "3.10.0"
  }
 },
 "nbformat": 4,
 "nbformat_minor": 5
}
