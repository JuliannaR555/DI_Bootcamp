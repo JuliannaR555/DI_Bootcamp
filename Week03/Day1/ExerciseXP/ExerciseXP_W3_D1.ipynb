{
 "cells": [
  {
   "cell_type": "markdown",
   "id": "7ea68cf5",
   "metadata": {},
   "source": [
    " ## Exercises XP: W3_D1"
   ]
  },
  {
   "cell_type": "markdown",
   "id": "1c39f462",
   "metadata": {},
   "source": [
    "#### Exercise 1: Array Creation and Manipulation"
   ]
  },
  {
   "cell_type": "code",
   "execution_count": 2,
   "id": "c5d4d343",
   "metadata": {},
   "outputs": [
    {
     "name": "stdout",
     "output_type": "stream",
     "text": [
      "[0 1 2 3 4 5 6 7 8 9]\n"
     ]
    }
   ],
   "source": [
    "# Import the NumPy library\n",
    "import numpy as np\n",
    "\n",
    "# Create a 1D NumPy array containing numbers from 0 to 9\n",
    "array_1d = np.arange(10)\n",
    "\n",
    "# Display the result\n",
    "print(array_1d)"
   ]
  },
  {
   "cell_type": "markdown",
   "id": "365565f4",
   "metadata": {},
   "source": [
    "#### Exercise 2: Type Conversion and Array Operations"
   ]
  },
  {
   "cell_type": "code",
   "execution_count": 10,
   "id": "a68ac2cd",
   "metadata": {},
   "outputs": [
    {
     "name": "stdout",
     "output_type": "stream",
     "text": [
      "[3 2 0 1 2]\n"
     ]
    }
   ],
   "source": [
    "# Define a Python list with float and integer values\n",
    "my_list = [3.14, 2.17, 0, 1, 2]\n",
    "\n",
    "# Convert the list to a NumPy array with integer data type\n",
    "int_array = np.array(my_list, dtype=int)\n",
    "\n",
    "# Display the result\n",
    "print(int_array)"
   ]
  },
  {
   "cell_type": "markdown",
   "id": "3c72c6d4",
   "metadata": {},
   "source": [
    "#### Exercise 3: Working with Multi-Dimensional Arrays"
   ]
  },
  {
   "cell_type": "code",
   "execution_count": 9,
   "id": "e317fdbb",
   "metadata": {},
   "outputs": [
    {
     "name": "stdout",
     "output_type": "stream",
     "text": [
      "[[1 2 3]\n",
      " [4 5 6]\n",
      " [7 8 9]]\n"
     ]
    }
   ],
   "source": [
    "# Create a 1D array with values from 1 to 9\n",
    "array_1d = np.arange(1, 10)\n",
    "\n",
    "# Reshape the 1D array into a 3x3 2D array\n",
    "array_2d = array_1d.reshape((3, 3))\n",
    "\n",
    "# Display the result\n",
    "print(array_2d)"
   ]
  },
  {
   "cell_type": "markdown",
   "id": "ecb3277e",
   "metadata": {},
   "source": [
    "#### Exercise 4: Creating Multi-Dimensional Array with Random Numbers"
   ]
  },
  {
   "cell_type": "code",
   "execution_count": 8,
   "id": "7726886b",
   "metadata": {},
   "outputs": [
    {
     "name": "stdout",
     "output_type": "stream",
     "text": [
      "[[0.69 0.75 0.28 0.87 0.21]\n",
      " [0.65 0.13 0.29 0.41 0.01]\n",
      " [0.79 0.03 0.35 0.22 0.21]\n",
      " [0.84 0.76 0.98 0.55 0.97]]\n"
     ]
    }
   ],
   "source": [
    "# Create a 2D array of shape (4, 5) filled with random floats between 0 and 1\n",
    "random_array = np.random.rand(4, 5)\n",
    "\n",
    "# Round the numbers to 2 decimal places for readability\n",
    "random_array = np.round(random_array, 2)\n",
    "\n",
    "# Display the result\n",
    "print(random_array)"
   ]
  },
  {
   "cell_type": "markdown",
   "id": "3d43339b",
   "metadata": {},
   "source": [
    "#### Exercise 5: Indexing Arrays"
   ]
  },
  {
   "cell_type": "code",
   "execution_count": 7,
   "id": "07c46ed3",
   "metadata": {},
   "outputs": [
    {
     "name": "stdout",
     "output_type": "stream",
     "text": [
      "[20 21 22 23 24]\n"
     ]
    }
   ],
   "source": [
    "# Define a 2D NumPy array\n",
    "array = np.array([[21, 22, 23, 22, 22],\n",
    "                  [20, 21, 22, 23, 24],\n",
    "                  [21, 22, 23, 22, 22]])\n",
    "\n",
    "# Select the second row (index 1, because indexing starts at 0)\n",
    "second_row = array[1]\n",
    "\n",
    "# Display the result\n",
    "print(second_row)"
   ]
  },
  {
   "cell_type": "markdown",
   "id": "030bb46c",
   "metadata": {},
   "source": [
    "#### Exercise 6: Reversing Elements"
   ]
  },
  {
   "cell_type": "code",
   "execution_count": 12,
   "id": "1147474e",
   "metadata": {},
   "outputs": [
    {
     "name": "stdout",
     "output_type": "stream",
     "text": [
      "[9 8 7 6 5 4 3 2 1 0]\n"
     ]
    }
   ],
   "source": [
    "# Create a 1D array with values from 0 to 9\n",
    "array = np.arange(10)\n",
    "\n",
    "# Reverse the array using slicing\n",
    "reversed_array = array[::-1]\n",
    "\n",
    "# Display the result\n",
    "print(reversed_array)"
   ]
  },
  {
   "cell_type": "markdown",
   "id": "fbf97296",
   "metadata": {},
   "source": [
    "#### Exercise 7: Identity Matrix"
   ]
  },
  {
   "cell_type": "code",
   "execution_count": 13,
   "id": "0aad023a",
   "metadata": {},
   "outputs": [
    {
     "name": "stdout",
     "output_type": "stream",
     "text": [
      "[[1. 0. 0. 0.]\n",
      " [0. 1. 0. 0.]\n",
      " [0. 0. 1. 0.]\n",
      " [0. 0. 0. 1.]]\n"
     ]
    }
   ],
   "source": [
    "# Create a 4x4 identity matrix\n",
    "identity_matrix = np.eye(4)\n",
    "\n",
    "# Display the result\n",
    "print(identity_matrix)"
   ]
  },
  {
   "cell_type": "markdown",
   "id": "00ce049a",
   "metadata": {},
   "source": [
    "#### Exercise 8: Simple Aggregate Functions"
   ]
  },
  {
   "cell_type": "code",
   "execution_count": 15,
   "id": "dab44575",
   "metadata": {},
   "outputs": [
    {
     "name": "stdout",
     "output_type": "stream",
     "text": [
      "Sum: 45\n",
      "Average: 4.5\n"
     ]
    }
   ],
   "source": [
    "# Create a 1D array with values from 0 to 9\n",
    "array = np.arange(10)\n",
    "\n",
    "# Calculate the sum of the array elements\n",
    "array_sum = np.sum(array)\n",
    "\n",
    "# Calculate the average (mean) of the array elements\n",
    "array_mean = np.mean(array)\n",
    "\n",
    "# Display the results\n",
    "print(\"Sum:\", array_sum)\n",
    "print(\"Average:\", array_mean)"
   ]
  },
  {
   "cell_type": "markdown",
   "id": "e5405aa7",
   "metadata": {},
   "source": [
    "#### Exercise 9: Create Array and Change its Structure"
   ]
  },
  {
   "cell_type": "code",
   "execution_count": 16,
   "id": "147b509a",
   "metadata": {},
   "outputs": [
    {
     "name": "stdout",
     "output_type": "stream",
     "text": [
      "[[ 1  2  3  4  5]\n",
      " [ 6  7  8  9 10]\n",
      " [11 12 13 14 15]\n",
      " [16 17 18 19 20]]\n"
     ]
    }
   ],
   "source": [
    "# Create a 1D array with values from 1 to 20\n",
    "array = np.arange(1, 21)\n",
    "\n",
    "# Reshape the array into a 4x5 matrix\n",
    "reshaped_array = array.reshape((4, 5))\n",
    "\n",
    "# Display the result\n",
    "print(reshaped_array)"
   ]
  },
  {
   "cell_type": "markdown",
   "id": "f7bd5ea7",
   "metadata": {},
   "source": [
    "#### Exercise 10: Conditional Selection of Values"
   ]
  },
  {
   "cell_type": "code",
   "execution_count": 17,
   "id": "c11e9675",
   "metadata": {},
   "outputs": [
    {
     "name": "stdout",
     "output_type": "stream",
     "text": [
      "[1 3 5 7 9]\n"
     ]
    }
   ],
   "source": [
    "# Create a 1D array with values from 0 to 9\n",
    "array = np.arange(10)\n",
    "\n",
    "# Select only the odd numbers using a boolean condition\n",
    "odd_numbers = array[array % 2 == 1]\n",
    "\n",
    "# Display the result\n",
    "print(odd_numbers)"
   ]
  }
 ],
 "metadata": {
  "kernelspec": {
   "display_name": "Python 3",
   "language": "python",
   "name": "python3"
  },
  "language_info": {
   "codemirror_mode": {
    "name": "ipython",
    "version": 3
   },
   "file_extension": ".py",
   "mimetype": "text/x-python",
   "name": "python",
   "nbconvert_exporter": "python",
   "pygments_lexer": "ipython3",
   "version": "3.13.5"
  }
 },
 "nbformat": 4,
 "nbformat_minor": 5
}
