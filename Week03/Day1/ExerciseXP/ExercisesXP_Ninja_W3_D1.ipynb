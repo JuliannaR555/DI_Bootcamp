{
 "cells": [
  {
   "cell_type": "markdown",
   "id": "a6d23165",
   "metadata": {},
   "source": [
    "# Exercises XP Ninja: W3_D1"
   ]
  },
  {
   "cell_type": "markdown",
   "id": "c5331d91",
   "metadata": {},
   "source": [
    "## What You’ll Learn\n",
    "- How to manipulate matrices and identify commonalities in datasets using NumPy.\n",
    "- Advanced array operations such as maximum value replacement and finding common values.\n",
    "- Sorting arrays in ascending and descending order.\n",
    "- Determining matrix rank and creating structured arrays.\n",
    "\n",
    "## What You’ll Create\n",
    "- A 5×5 matrix with its maximum value replaced by 0.\n",
    "- Identification of common values between two arrays.\n",
    "- Sorted arrays (ascending & descending).\n",
    "- A random 4×4 matrix with rank calculation.\n",
    "- A 2D border array with 1s on the edges and 0s inside.\n",
    "\n",
    "---\n",
    "\n",
    "## Exercises\n",
    "\n",
    "**Exercise 1 — Maximum Value Replacement in Matrix**  \n",
    "Create a random 5×5 matrix and replace its maximum value with 0.\n",
    "\n",
    "**Exercise 2 — Finding Common Values in Arrays**  \n",
    "Find the common values between two random arrays of size 5.\n",
    "\n",
    "**Exercise 3 — Sorting Array in Ascending and Descending Order**  \n",
    "Create a random 1D array of size 10 and sort it in ascending and descending order.\n",
    "\n",
    "**Exercise 4 — Matrix Rank Determination**  \n",
    "Generate a random 4×4 matrix and determine its rank.\n",
    "\n",
    "**Exercise 5 — Creating Border Array**  \n",
    "Create a 2D array with 1s on the border and 0s inside."
   ]
  },
  {
   "cell_type": "markdown",
   "id": "c061764b",
   "metadata": {},
   "source": [
    "## Setup — Imports and Random Seed"
   ]
  },
  {
   "cell_type": "code",
   "execution_count": 1,
   "id": "cb62911f",
   "metadata": {},
   "outputs": [],
   "source": [
    "# Goal: Import NumPy and set a seed for reproducibility.\n",
    "\n",
    "import numpy as np\n",
    "np.random.seed(42)"
   ]
  },
  {
   "cell_type": "markdown",
   "id": "50b9887f",
   "metadata": {},
   "source": [
    "## Exercise 1 : Maximum Value Replacement in Matrix"
   ]
  },
  {
   "cell_type": "code",
   "execution_count": 2,
   "id": "a0128c37",
   "metadata": {},
   "outputs": [
    {
     "name": "stdout",
     "output_type": "stream",
     "text": [
      "Original 5x5 matrix:\n",
      " [[0.37 0.95 0.73 0.6  0.16]\n",
      " [0.16 0.06 0.87 0.6  0.71]\n",
      " [0.02 0.97 0.83 0.21 0.18]\n",
      " [0.18 0.3  0.52 0.43 0.29]\n",
      " [0.61 0.14 0.29 0.37 0.46]]\n",
      "\n",
      "After replacing max value(s) with 0:\n",
      " [[0.37 0.95 0.73 0.6  0.16]\n",
      " [0.16 0.06 0.87 0.6  0.71]\n",
      " [0.02 0.   0.83 0.21 0.18]\n",
      " [0.18 0.3  0.52 0.43 0.29]\n",
      " [0.61 0.14 0.29 0.37 0.46]]\n"
     ]
    }
   ],
   "source": [
    "# Title: Exercise 1 — Replace Matrix Maximum with 0\n",
    "# Task: Create a random 5x5 matrix and replace its maximum value(s) by 0.\n",
    "\n",
    "A = np.random.rand(5, 5)  # values in [0,1)\n",
    "print(\"Original 5x5 matrix:\\n\", np.round(A, 2))\n",
    "\n",
    "# Find the maximum and replace *all* occurrences with 0 (handles potential ties safely)\n",
    "max_val = A.max()\n",
    "A[A == max_val] = 0.0\n",
    "\n",
    "print(\"\\nAfter replacing max value(s) with 0:\\n\", np.round(A, 2))"
   ]
  },
  {
   "cell_type": "markdown",
   "id": "6685fc9d",
   "metadata": {},
   "source": [
    "## Exercise 2 : Finding Common Values in Arrays"
   ]
  },
  {
   "cell_type": "code",
   "execution_count": 3,
   "id": "d46ec134",
   "metadata": {},
   "outputs": [
    {
     "name": "stdout",
     "output_type": "stream",
     "text": [
      "x: [0.785 0.2   0.514 0.592 0.046]\n",
      "y: [0.608 0.171 0.065 0.949 0.966]\n",
      "\n",
      "Exact common values: []\n",
      "Common values (rounded to 2 decimals): []\n"
     ]
    }
   ],
   "source": [
    "# Title: Exercise 2 — Common Values Between Two Arrays\n",
    "# Task: Find common values between two random arrays of size 5.\n",
    "\n",
    "x = np.random.rand(5)\n",
    "y = np.random.rand(5)\n",
    "\n",
    "print(\"x:\", np.round(x, 3))\n",
    "print(\"y:\", np.round(y, 3))\n",
    "\n",
    "# Method A: Exact intersection (works for integers or identical floats)\n",
    "exact_common = np.intersect1d(x, y)\n",
    "print(\"\\nExact common values:\", exact_common)\n",
    "\n",
    "# Method B: Float-friendly intersection using rounding (e.g., 2 decimals)\n",
    "# Rationale: pure random floats rarely match exactly; rounding groups close values.\n",
    "x2 = np.round(x, 2)\n",
    "y2 = np.round(y, 2)\n",
    "common_2dp = np.intersect1d(x2, y2)\n",
    "\n",
    "print(\"Common values (rounded to 2 decimals):\", common_2dp)"
   ]
  },
  {
   "cell_type": "markdown",
   "id": "bd0cfb25",
   "metadata": {},
   "source": [
    "## Exercise 3 : Sorting Array in Ascending and Descending Order"
   ]
  },
  {
   "cell_type": "code",
   "execution_count": 4,
   "id": "5808e047",
   "metadata": {},
   "outputs": [
    {
     "name": "stdout",
     "output_type": "stream",
     "text": [
      "Original: [0.808 0.305 0.098 0.684 0.44  0.122 0.495 0.034 0.909 0.259]\n",
      "Ascending: [0.034 0.098 0.122 0.259 0.305 0.44  0.495 0.684 0.808 0.909]\n",
      "Descending: [0.909 0.808 0.684 0.495 0.44  0.305 0.259 0.122 0.098 0.034]\n"
     ]
    }
   ],
   "source": [
    "# Title: Exercise 3 — Sort 1D Array (Ascending & Descending)\n",
    "# Task: Create a random 1D array of size 10 and sort it both ways.\n",
    "\n",
    "arr = np.random.rand(10)\n",
    "\n",
    "asc = np.sort(arr)                # ascending\n",
    "desc = np.sort(arr)[::-1]         # descending\n",
    "\n",
    "print(\"Original:\", np.round(arr, 3))\n",
    "print(\"Ascending:\", np.round(asc, 3))\n",
    "print(\"Descending:\", np.round(desc, 3))"
   ]
  },
  {
   "cell_type": "markdown",
   "id": "f49de007",
   "metadata": {},
   "source": [
    "## Exercise 4 : Matrix Rank Determination"
   ]
  },
  {
   "cell_type": "code",
   "execution_count": 5,
   "id": "604291d9",
   "metadata": {},
   "outputs": [
    {
     "name": "stdout",
     "output_type": "stream",
     "text": [
      "Matrix (rounded):\n",
      " [[-1.265  1.092  2.778  1.194]\n",
      " [ 0.219  0.882 -1.009 -1.583]\n",
      " [ 0.774 -0.538 -1.347 -0.881]\n",
      " [-1.131  0.134  0.582  0.888]]\n",
      "\n",
      "Rank: 4\n"
     ]
    }
   ],
   "source": [
    "# Title: Exercise 4 — Compute Matrix Rank\n",
    "# Task: Generate a random 4x4 matrix and find its rank.\n",
    "\n",
    "M = np.random.randn(4, 4)  # standard normal entries\n",
    "rank = np.linalg.matrix_rank(M)\n",
    "\n",
    "print(\"Matrix (rounded):\\n\", np.round(M, 3))\n",
    "print(\"\\nRank:\", rank)"
   ]
  },
  {
   "cell_type": "markdown",
   "id": "f1cd5b4e",
   "metadata": {},
   "source": [
    "## Exercise 5 : Creating Border Array"
   ]
  },
  {
   "cell_type": "code",
   "execution_count": 6,
   "id": "1696cd6b",
   "metadata": {},
   "outputs": [
    {
     "name": "stdout",
     "output_type": "stream",
     "text": [
      "[[1 1 1 1 1]\n",
      " [1 0 0 0 1]\n",
      " [1 0 0 0 1]\n",
      " [1 0 0 0 1]\n",
      " [1 1 1 1 1]]\n"
     ]
    }
   ],
   "source": [
    "# Title: Exercise 5 — 2D Array with 1s on the Border and 0s Inside\n",
    "# Task: Create a 5x5 array with border=1 and interior=0.\n",
    "\n",
    "border = np.ones((5, 5), dtype=int)\n",
    "border[1:-1, 1:-1] = 0\n",
    "\n",
    "print(border)"
   ]
  },
  {
   "cell_type": "markdown",
   "id": "8d5b0cb0",
   "metadata": {},
   "source": [
    "## Conclusion & Key Takeaways — Exercises XP Ninja (NumPy)\n",
    "\n",
    "### Exercise 1 — Maximum Value Replacement\n",
    "- Generated a 5×5 random matrix and identified its maximum value.\n",
    "- Replaced all occurrences of this maximum value with 0.\n",
    "- Useful for **outlier handling** or flagging extreme values.\n",
    "\n",
    "---\n",
    "\n",
    "### Exercise 2 — Finding Common Values in Arrays\n",
    "- Compared two arrays to find shared values.\n",
    "- Highlighted the challenge of **exact float matching** — often requires rounding for practical matches.\n",
    "- Useful in **data merging**, **set operations**, or identifying **shared attributes**.\n",
    "\n",
    "---\n",
    "\n",
    "### Exercise 3 — Sorting Arrays\n",
    "- Sorted a 1D array in **ascending** and **descending** order.\n",
    "- Reinforced that `np.sort()` returns ascending by default, and reversing (`[::-1]`) achieves descending.\n",
    "- Sorting is key for **ranking**, **thresholding**, and **ordered analysis**.\n",
    "\n",
    "---\n",
    "\n",
    "### Exercise 4 — Matrix Rank\n",
    "- Generated a 4×4 random matrix and computed its **rank** with `np.linalg.matrix_rank`.\n",
    "- Rank measures the number of **linearly independent** rows/columns.\n",
    "- Important in **linear algebra**, **system solvability**, and **dimensionality reduction**.\n",
    "\n",
    "---\n",
    "\n",
    "### Exercise 5 — Border Array\n",
    "- Created a structured array with **1s on the border** and **0s inside**.\n",
    "- Demonstrated index slicing to target specific array regions.\n",
    "- Similar logic is used in **image processing** (mask creation, padding).\n",
    "\n",
    "---\n",
    "\n",
    "### Overall Reflections\n",
    "- These exercises reinforce **core NumPy skills**:\n",
    "  - Array creation and modification.\n",
    "  - Index-based assignment.\n",
    "  - Set operations and value matching.\n",
    "  - Sorting and ranking.\n",
    "  - Linear algebra functions.\n",
    "- Mastery of these basics is essential for **data preprocessing**, **matrix computations**, and **algorithmic implementations**.\n",
    "\n",
    "> **Next Steps:**  \n",
    "> - Explore boolean indexing for complex replacement rules.  \n",
    "> - Work with higher-dimensional arrays.  \n",
    "> - Apply rank concepts in solving real systems of equations."
   ]
  }
 ],
 "metadata": {
  "kernelspec": {
   "display_name": "nlp_course_env",
   "language": "python",
   "name": "python3"
  },
  "language_info": {
   "codemirror_mode": {
    "name": "ipython",
    "version": 3
   },
   "file_extension": ".py",
   "mimetype": "text/x-python",
   "name": "python",
   "nbconvert_exporter": "python",
   "pygments_lexer": "ipython3",
   "version": "3.10.0"
  }
 },
 "nbformat": 4,
 "nbformat_minor": 5
}
